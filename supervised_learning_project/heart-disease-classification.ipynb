{
 "cells": [
  {
   "cell_type": "markdown",
   "id": "2b31983f",
   "metadata": {},
   "source": [
    "# Predicting heart disease using machine learning\n",
    "\n",
    "This notebook looks into using various Python-based machinr learning and data science libraries in an attempt \n",
    "to build a machine learning model capable of predicting wether or not someone has heart disease based on their\n",
    "medical attributes."
   ]
  },
  {
   "cell_type": "code",
   "execution_count": null,
   "id": "2cfa0663",
   "metadata": {},
   "outputs": [],
   "source": []
  }
 ],
 "metadata": {
  "kernelspec": {
   "display_name": "Python 3 (ipykernel)",
   "language": "python",
   "name": "python3"
  },
  "language_info": {
   "codemirror_mode": {
    "name": "ipython",
    "version": 3
   },
   "file_extension": ".py",
   "mimetype": "text/x-python",
   "name": "python",
   "nbconvert_exporter": "python",
   "pygments_lexer": "ipython3",
   "version": "3.11.0"
  }
 },
 "nbformat": 4,
 "nbformat_minor": 5
}
