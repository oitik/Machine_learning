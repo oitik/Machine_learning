{
 "cells": [
  {
   "cell_type": "markdown",
   "id": "746bf0d8",
   "metadata": {
    "papermill": {
     "duration": 0.009765,
     "end_time": "2023-10-17T15:52:09.226415",
     "exception": false,
     "start_time": "2023-10-17T15:52:09.216650",
     "status": "completed"
    },
    "tags": []
   },
   "source": [
    "## `DESCRIPTION ABOUT THE PROBLEM`\n",
    "# Overview\n",
    "\n",
    "**Bengali Text to IPA (International Phonetic Alphabet) Transcription** is an area that has seen relatively limited development compared to other languages, despite Bengali being one of the world's most widely spoken native languages. There is a growing need for automated systems that can accurately convert Bengali text into IPA notation due to the vast audience and various applications in linguistics, language learning, and phonetic research. Having this in mind, we welcome participants to participate in **DataVerse**, a part of **ITVerse 2023** organized by IIT Software Engineers' Community (IITSEC) as we partner with **Bengali.AI** to advance research in Bengali text to IPA domain.\n",
    "\n",
    "# [Description](http://www.kaggle.com/competitions/dataverse_2023/overview/description)\n",
    "\n",
    "## Goal of the Competition\n",
    "\n",
    "The goal of this competition is to recognize model IPA transcription from Bengali texts(Remember the greek characters in the dictionary, to help you find out the accurate pronunciation of words? That was International Phonetic Alphabet (IPA) transcription! You will build a model trained on a linguist validated dataset containing Bengali text from different domains. The test set contains numbers, loan-words and domain-specific words to add to the challenge.\n",
    "\n",
    "Your efforts could improve Bengali computational linguistics and NLP research using the first Bengali sentence level IPA transcription dataset from Bengali.AI . In addition, your submission will be among the first open-source IPA transcription methods for Bengali.\n",
    "\n",
    "\n",
    "# Evaluation\n",
    "\n",
    "Submissions are evaluated by a mean **Word Error Rate**, proceeding as follows:\n",
    "\n",
    "1. The WER is computed for each instance in the test set.\n",
    "2. The WERs are averaged within domains, weighted by the number of words in the sentence.\n",
    "3. The (unweighted) mean of the domain averages is the final score.\n",
    "\n",
    "# [Rules for the Competition](http://https://www.kaggle.com/competitions/dataverse_2023/rules)\n",
    "\n",
    "*     Registration is mandatory to participate in all the phases of the contest.\n",
    "*     Only one account per participant in Kaggle will be allowed.\n",
    "*     Participants are allowed to use external data, but the data has to be disclosed publicly before the final round.\n",
    "*     The use of the internet is allowed for research and reference, but **API calls are not permitted.**\n",
    "*     All teams must submit working Kaggle notebooks for training and inference (and the models too), including appropriate instructions and documentation for reproducibility. The inference notebook must run on Kaggle Notebooks.\n",
    "*     Teams are required to make all scripts, data, and reports publicly available.\n",
    "*     No private code sharing outside teams.\n",
    "*     Teams must prepare a project report of at least 2 pages. The paper has to be in IEEE/ACM (2 column) format.\n"
   ]
  },
  {
   "cell_type": "markdown",
   "id": "936c1261",
   "metadata": {
    "papermill": {
     "duration": 0.009035,
     "end_time": "2023-10-17T15:52:09.244792",
     "exception": false,
     "start_time": "2023-10-17T15:52:09.235757",
     "status": "completed"
    },
    "tags": []
   },
   "source": [
    "## `NOW SOLUTION`\n",
    "\n",
    "# 1. Predicting the IPA of `Bangla` words using machine learning.\n",
    "\n",
    "In this notebook, we're going to go through an example machine learning project with the goal of predicting the IPA of `Bangla` words.\n",
    "\n"
   ]
  },
  {
   "cell_type": "markdown",
   "id": "7b08e79b",
   "metadata": {
    "papermill": {
     "duration": 0.009095,
     "end_time": "2023-10-17T15:52:09.263830",
     "exception": false,
     "start_time": "2023-10-17T15:52:09.254735",
     "status": "completed"
    },
    "tags": []
   },
   "source": [
    "## Import Necessary Libraries"
   ]
  },
  {
   "cell_type": "code",
   "execution_count": 1,
   "id": "148b43b1",
   "metadata": {
    "execution": {
     "iopub.execute_input": "2023-10-17T15:52:09.284788Z",
     "iopub.status.busy": "2023-10-17T15:52:09.284362Z",
     "iopub.status.idle": "2023-10-17T15:52:11.012866Z",
     "shell.execute_reply": "2023-10-17T15:52:11.011829Z"
    },
    "papermill": {
     "duration": 1.742152,
     "end_time": "2023-10-17T15:52:11.015212",
     "exception": false,
     "start_time": "2023-10-17T15:52:09.273060",
     "status": "completed"
    },
    "tags": []
   },
   "outputs": [
    {
     "name": "stderr",
     "output_type": "stream",
     "text": [
      "/opt/conda/lib/python3.10/site-packages/scipy/__init__.py:146: UserWarning: A NumPy version >=1.16.5 and <1.23.0 is required for this version of SciPy (detected version 1.23.5\n",
      "  warnings.warn(f\"A NumPy version >={np_minversion} and <{np_maxversion}\"\n"
     ]
    }
   ],
   "source": [
    "# Regular EDA(exploratory data analysis) and plotting libraries\n",
    "import numpy as np\n",
    "import pandas as pd\n",
    "import matplotlib.pyplot as plt\n",
    "\n",
    "from sklearn.model_selection import train_test_split\n",
    "%matplotlib inline\n",
    "\n",
    "from tqdm import tqdm\n",
    "import string\n",
    "import statistics\n",
    "import re"
   ]
  },
  {
   "cell_type": "markdown",
   "id": "c1f7644b",
   "metadata": {
    "papermill": {
     "duration": 0.009206,
     "end_time": "2023-10-17T15:52:11.034166",
     "exception": false,
     "start_time": "2023-10-17T15:52:11.024960",
     "status": "completed"
    },
    "tags": []
   },
   "source": [
    "# 2. Data"
   ]
  },
  {
   "cell_type": "code",
   "execution_count": 2,
   "id": "11c00b60",
   "metadata": {
    "execution": {
     "iopub.execute_input": "2023-10-17T15:52:11.052580Z",
     "iopub.status.busy": "2023-10-17T15:52:11.051378Z",
     "iopub.status.idle": "2023-10-17T15:52:11.309973Z",
     "shell.execute_reply": "2023-10-17T15:52:11.309049Z"
    },
    "papermill": {
     "duration": 0.269694,
     "end_time": "2023-10-17T15:52:11.311838",
     "exception": false,
     "start_time": "2023-10-17T15:52:11.042144",
     "status": "completed"
    },
    "tags": []
   },
   "outputs": [
    {
     "data": {
      "text/html": [
       "<div>\n",
       "<style scoped>\n",
       "    .dataframe tbody tr th:only-of-type {\n",
       "        vertical-align: middle;\n",
       "    }\n",
       "\n",
       "    .dataframe tbody tr th {\n",
       "        vertical-align: top;\n",
       "    }\n",
       "\n",
       "    .dataframe thead th {\n",
       "        text-align: right;\n",
       "    }\n",
       "</style>\n",
       "<table border=\"1\" class=\"dataframe\">\n",
       "  <thead>\n",
       "    <tr style=\"text-align: right;\">\n",
       "      <th></th>\n",
       "      <th>text</th>\n",
       "      <th>ipa</th>\n",
       "    </tr>\n",
       "  </thead>\n",
       "  <tbody>\n",
       "    <tr>\n",
       "      <th>0</th>\n",
       "      <td>এরপরও তারা বকেয়া পরিশোধ করেনি।</td>\n",
       "      <td>eɾpɔɾo t̪ɐɾɐ bɔkeʲɐ poɾɪʃod̪ʱ kɔɾenɪ।</td>\n",
       "    </tr>\n",
       "    <tr>\n",
       "      <th>1</th>\n",
       "      <td>আগে সুইস ব্যাংকে জমা টাকার কোনো প্রতিবেদন প্রক...</td>\n",
       "      <td>ɐge suɪ̯s bɛŋke ɟɔmɐ tɐkɐɾ kono pɾot̪ɪbed̪ɔn p...</td>\n",
       "    </tr>\n",
       "  </tbody>\n",
       "</table>\n",
       "</div>"
      ],
      "text/plain": [
       "                                                text  \\\n",
       "0                     এরপরও তারা বকেয়া পরিশোধ করেনি।   \n",
       "1  আগে সুইস ব্যাংকে জমা টাকার কোনো প্রতিবেদন প্রক...   \n",
       "\n",
       "                                                 ipa  \n",
       "0              eɾpɔɾo t̪ɐɾɐ bɔkeʲɐ poɾɪʃod̪ʱ kɔɾenɪ।  \n",
       "1  ɐge suɪ̯s bɛŋke ɟɔmɐ tɐkɐɾ kono pɾot̪ɪbed̪ɔn p...  "
      ]
     },
     "execution_count": 2,
     "metadata": {},
     "output_type": "execute_result"
    }
   ],
   "source": [
    "# Import the training set\n",
    "df = pd.read_csv('/kaggle/input/dataverse-ipa/dataverse_2023/trainIPAdb_u.csv')\n",
    "df.head(2)"
   ]
  },
  {
   "cell_type": "code",
   "execution_count": 3,
   "id": "ca136597",
   "metadata": {
    "execution": {
     "iopub.execute_input": "2023-10-17T15:52:11.330848Z",
     "iopub.status.busy": "2023-10-17T15:52:11.330564Z",
     "iopub.status.idle": "2023-10-17T15:52:11.335986Z",
     "shell.execute_reply": "2023-10-17T15:52:11.335010Z"
    },
    "papermill": {
     "duration": 0.016991,
     "end_time": "2023-10-17T15:52:11.337729",
     "exception": false,
     "start_time": "2023-10-17T15:52:11.320738",
     "status": "completed"
    },
    "tags": []
   },
   "outputs": [
    {
     "name": "stdout",
     "output_type": "stream",
     "text": [
      "Text = অনুষ্ঠানটির মিডিয়া পার্টনার ছিল সিবিএনএ, দেশদিগন্ত, নাগরিক টিভি ও আরটিভি।\n",
      "IPA = onuʃtʰɐntɪɾ mɪdɪʲɐ pɐɾtnɐɾ cʰɪlo ʃɪbɪe̯ne, d̪eʃd̪ɪgɔnt̪o, nɐgoɾɪk tɪbʱɪ o ɐɾɔtɪbʱɪ। \n"
     ]
    }
   ],
   "source": [
    "# See a random sample from the training set \n",
    "rand_index = np.random.randint(0, len(df))\n",
    "print(f'Text = {df.text[rand_index]}\\nIPA = {df.ipa[rand_index]}')"
   ]
  },
  {
   "cell_type": "code",
   "execution_count": 4,
   "id": "9ebe4a96",
   "metadata": {
    "execution": {
     "iopub.execute_input": "2023-10-17T15:52:11.356494Z",
     "iopub.status.busy": "2023-10-17T15:52:11.355589Z",
     "iopub.status.idle": "2023-10-17T15:52:11.361823Z",
     "shell.execute_reply": "2023-10-17T15:52:11.360903Z"
    },
    "papermill": {
     "duration": 0.017313,
     "end_time": "2023-10-17T15:52:11.363547",
     "exception": false,
     "start_time": "2023-10-17T15:52:11.346234",
     "status": "completed"
    },
    "tags": []
   },
   "outputs": [
    {
     "data": {
      "text/plain": [
       "(21999, 2)"
      ]
     },
     "execution_count": 4,
     "metadata": {},
     "output_type": "execute_result"
    }
   ],
   "source": [
    "df.shape"
   ]
  },
  {
   "cell_type": "code",
   "execution_count": 5,
   "id": "849ae7ec",
   "metadata": {
    "execution": {
     "iopub.execute_input": "2023-10-17T15:52:11.382935Z",
     "iopub.status.busy": "2023-10-17T15:52:11.382032Z",
     "iopub.status.idle": "2023-10-17T15:52:11.387639Z",
     "shell.execute_reply": "2023-10-17T15:52:11.386779Z"
    },
    "papermill": {
     "duration": 0.016922,
     "end_time": "2023-10-17T15:52:11.389388",
     "exception": false,
     "start_time": "2023-10-17T15:52:11.372466",
     "status": "completed"
    },
    "tags": []
   },
   "outputs": [],
   "source": [
    "ano_dict = {\n",
    "    'সে' : 'ʃe', 'তার': 't̪ɐɾ', 'তিনি': 't̪ɪnɪ', 'ইমন': 'ɪmon',\n",
    "    'ফিরে': 'pʰɪɾe', 'সরিয়ে': 'ʃoɾɪʲe', 'বলেন': 'bɔlen', 'করা': 'kɔɾɐ', 'হাজির': 'hɐɟɪɾ', 'স্বীকার': 'ʃɪkɐɾ', \n",
    "    'চালাচ্ছে': 'cɐlɐccʰe', \n",
    "    'আসে': 'ɐʃe', 'বাংলাদেশ': 'bɐŋlɐd̪eʃ', 'আদালতের' : 'ɐd̪ɐlɔt̪eɾ', 'উপস্থিত' : 'upost̪ʰɪt̪', 'কমিশন': 'kɔmɪʃon',\n",
    "    'রাখে': 'ɾɐkʰe', 'মালিক': 'mɐlɪk', 'সংবাদ': 'ʃɔŋbɐd̪'\n",
    "}"
   ]
  },
  {
   "cell_type": "code",
   "execution_count": 6,
   "id": "601aa261",
   "metadata": {
    "execution": {
     "iopub.execute_input": "2023-10-17T15:52:11.407516Z",
     "iopub.status.busy": "2023-10-17T15:52:11.406677Z",
     "iopub.status.idle": "2023-10-17T15:52:11.429667Z",
     "shell.execute_reply": "2023-10-17T15:52:11.428704Z"
    },
    "papermill": {
     "duration": 0.033752,
     "end_time": "2023-10-17T15:52:11.431377",
     "exception": false,
     "start_time": "2023-10-17T15:52:11.397625",
     "status": "completed"
    },
    "tags": []
   },
   "outputs": [
    {
     "data": {
      "text/html": [
       "<div>\n",
       "<style scoped>\n",
       "    .dataframe tbody tr th:only-of-type {\n",
       "        vertical-align: middle;\n",
       "    }\n",
       "\n",
       "    .dataframe tbody tr th {\n",
       "        vertical-align: top;\n",
       "    }\n",
       "\n",
       "    .dataframe thead th {\n",
       "        text-align: right;\n",
       "    }\n",
       "</style>\n",
       "<table border=\"1\" class=\"dataframe\">\n",
       "  <thead>\n",
       "    <tr style=\"text-align: right;\">\n",
       "      <th></th>\n",
       "      <th>text</th>\n",
       "      <th>ipa</th>\n",
       "    </tr>\n",
       "  </thead>\n",
       "  <tbody>\n",
       "    <tr>\n",
       "      <th>0</th>\n",
       "      <td>আমি বলেন সাত আদালতের।</td>\n",
       "      <td>ɐmɪ bɔlen ʃɐt̪ ɐd̪ɐlɔt̪eɾ।</td>\n",
       "    </tr>\n",
       "    <tr>\n",
       "      <th>1</th>\n",
       "      <td>তুমি করা চুরানব্বই রাখে।</td>\n",
       "      <td>t̪umɪ kɔɾɐ cuɾɐnɔbboɪ ɾɐkʰe।</td>\n",
       "    </tr>\n",
       "    <tr>\n",
       "      <th>2</th>\n",
       "      <td>আমরা স্বীকার আটান্ন উপস্থিত।</td>\n",
       "      <td>ɐmɾɐ ʃɪkɐɾ ɐtɐnno upost̪ʰɪt̪।</td>\n",
       "    </tr>\n",
       "  </tbody>\n",
       "</table>\n",
       "</div>"
      ],
      "text/plain": [
       "                           text                            ipa\n",
       "0         আমি বলেন সাত আদালতের।     ɐmɪ bɔlen ʃɐt̪ ɐd̪ɐlɔt̪eɾ।\n",
       "1      তুমি করা চুরানব্বই রাখে।   t̪umɪ kɔɾɐ cuɾɐnɔbboɪ ɾɐkʰe।\n",
       "2  আমরা স্বীকার আটান্ন উপস্থিত।  ɐmɾɐ ʃɪkɐɾ ɐtɐnno upost̪ʰɪt̪।"
      ]
     },
     "execution_count": 6,
     "metadata": {},
     "output_type": "execute_result"
    }
   ],
   "source": [
    "new_df = pd.read_csv('/kaggle/input/dataverse-ipa/new_train.csv')\n",
    "new_df.head(3)"
   ]
  },
  {
   "cell_type": "code",
   "execution_count": 7,
   "id": "ece8d967",
   "metadata": {
    "execution": {
     "iopub.execute_input": "2023-10-17T15:52:11.449714Z",
     "iopub.status.busy": "2023-10-17T15:52:11.449339Z",
     "iopub.status.idle": "2023-10-17T15:52:11.615587Z",
     "shell.execute_reply": "2023-10-17T15:52:11.614539Z"
    },
    "papermill": {
     "duration": 0.177638,
     "end_time": "2023-10-17T15:52:11.617658",
     "exception": false,
     "start_time": "2023-10-17T15:52:11.440020",
     "status": "completed"
    },
    "tags": []
   },
   "outputs": [
    {
     "data": {
      "text/html": [
       "<div>\n",
       "<style scoped>\n",
       "    .dataframe tbody tr th:only-of-type {\n",
       "        vertical-align: middle;\n",
       "    }\n",
       "\n",
       "    .dataframe tbody tr th {\n",
       "        vertical-align: top;\n",
       "    }\n",
       "\n",
       "    .dataframe thead th {\n",
       "        text-align: right;\n",
       "    }\n",
       "</style>\n",
       "<table border=\"1\" class=\"dataframe\">\n",
       "  <thead>\n",
       "    <tr style=\"text-align: right;\">\n",
       "      <th></th>\n",
       "      <th>row_id_column_name</th>\n",
       "      <th>text</th>\n",
       "    </tr>\n",
       "  </thead>\n",
       "  <tbody>\n",
       "    <tr>\n",
       "      <th>0</th>\n",
       "      <td>0</td>\n",
       "      <td>বিশেষ অতিথি এফএম ইকবাল বিন আনোয়ার (ডন) অ্যাডিশ...</td>\n",
       "    </tr>\n",
       "    <tr>\n",
       "      <th>1</th>\n",
       "      <td>1</td>\n",
       "      <td>এ নিয়ে বিবাদে ২০১৫ সালের ২ জুন রাত সাড়ে ১১টায় ...</td>\n",
       "    </tr>\n",
       "    <tr>\n",
       "      <th>2</th>\n",
       "      <td>2</td>\n",
       "      <td>আজ থেকে ১৪ বছর আগে তিনি চলে গেছেন না ফেরার দেশে।</td>\n",
       "    </tr>\n",
       "  </tbody>\n",
       "</table>\n",
       "</div>"
      ],
      "text/plain": [
       "   row_id_column_name                                               text\n",
       "0                   0  বিশেষ অতিথি এফএম ইকবাল বিন আনোয়ার (ডন) অ্যাডিশ...\n",
       "1                   1  এ নিয়ে বিবাদে ২০১৫ সালের ২ জুন রাত সাড়ে ১১টায় ...\n",
       "2                   2   আজ থেকে ১৪ বছর আগে তিনি চলে গেছেন না ফেরার দেশে।"
      ]
     },
     "execution_count": 7,
     "metadata": {},
     "output_type": "execute_result"
    }
   ],
   "source": [
    "test_df = pd.read_csv('/kaggle/input/dataverse-ipa/dataverse_2023/testData.csv')\n",
    "test_df.head(3)"
   ]
  },
  {
   "cell_type": "code",
   "execution_count": 8,
   "id": "518cbdba",
   "metadata": {
    "execution": {
     "iopub.execute_input": "2023-10-17T15:52:11.680104Z",
     "iopub.status.busy": "2023-10-17T15:52:11.679778Z",
     "iopub.status.idle": "2023-10-17T15:52:11.687804Z",
     "shell.execute_reply": "2023-10-17T15:52:11.686903Z"
    },
    "papermill": {
     "duration": 0.019759,
     "end_time": "2023-10-17T15:52:11.689541",
     "exception": false,
     "start_time": "2023-10-17T15:52:11.669782",
     "status": "completed"
    },
    "tags": []
   },
   "outputs": [
    {
     "data": {
      "text/plain": [
       "(22999, 2)"
      ]
     },
     "execution_count": 8,
     "metadata": {},
     "output_type": "execute_result"
    }
   ],
   "source": [
    "train = pd.concat([df, new_df], axis = 0)\n",
    "train.shape"
   ]
  },
  {
   "cell_type": "code",
   "execution_count": 9,
   "id": "ac570609",
   "metadata": {
    "execution": {
     "iopub.execute_input": "2023-10-17T15:52:11.708741Z",
     "iopub.status.busy": "2023-10-17T15:52:11.707935Z",
     "iopub.status.idle": "2023-10-17T15:52:11.738455Z",
     "shell.execute_reply": "2023-10-17T15:52:11.737153Z"
    },
    "papermill": {
     "duration": 0.04203,
     "end_time": "2023-10-17T15:52:11.740420",
     "exception": false,
     "start_time": "2023-10-17T15:52:11.698390",
     "status": "completed"
    },
    "tags": []
   },
   "outputs": [
    {
     "name": "stdout",
     "output_type": "stream",
     "text": [
      "Length of the Df = (19, 2)\n"
     ]
    }
   ],
   "source": [
    "filt_cond = [\"১-৯\", 'A-Za-z0-9']\n",
    "# Filtering text samples that contain English alphanumeric values\n",
    "filtered_train = train[lambda x: x[\"text\"].str.contains(\"[A-Za-z0-9]\")]\n",
    "\n",
    "print(f'Length of the Df = {filtered_train.shape}')"
   ]
  },
  {
   "cell_type": "code",
   "execution_count": 10,
   "id": "0abc35b1",
   "metadata": {
    "execution": {
     "iopub.execute_input": "2023-10-17T15:52:11.762621Z",
     "iopub.status.busy": "2023-10-17T15:52:11.762075Z",
     "iopub.status.idle": "2023-10-17T15:52:11.771694Z",
     "shell.execute_reply": "2023-10-17T15:52:11.770744Z"
    },
    "papermill": {
     "duration": 0.023126,
     "end_time": "2023-10-17T15:52:11.773997",
     "exception": false,
     "start_time": "2023-10-17T15:52:11.750871",
     "status": "completed"
    },
    "tags": []
   },
   "outputs": [
    {
     "data": {
      "text/html": [
       "<div>\n",
       "<style scoped>\n",
       "    .dataframe tbody tr th:only-of-type {\n",
       "        vertical-align: middle;\n",
       "    }\n",
       "\n",
       "    .dataframe tbody tr th {\n",
       "        vertical-align: top;\n",
       "    }\n",
       "\n",
       "    .dataframe thead th {\n",
       "        text-align: right;\n",
       "    }\n",
       "</style>\n",
       "<table border=\"1\" class=\"dataframe\">\n",
       "  <thead>\n",
       "    <tr style=\"text-align: right;\">\n",
       "      <th></th>\n",
       "      <th>text</th>\n",
       "      <th>ipa</th>\n",
       "    </tr>\n",
       "  </thead>\n",
       "  <tbody>\n",
       "    <tr>\n",
       "      <th>69</th>\n",
       "      <td>আজ তোমাদের জন্য ইংরেজি প্রথমপত্রের Part-I-Gi seen passage এবং Part-II-Gi Writing Test অংশের সাজেশন দেয়া হল।</td>\n",
       "      <td>ɐɟ t̪omɐd̪eɾ ɟonno ɪŋɾeɟɪ pɾot̪ʰompɔt̪ɾeɾ -- seen pɐssɐge eboŋ -- Wɾɪtɪng Test ɔŋʃeɾ ʃɐɟeʃon d̪eʲɐ hɔl।</td>\n",
       "    </tr>\n",
       "    <tr>\n",
       "      <th>1479</th>\n",
       "      <td>হেপাটাইটিস B ভাইরাসের প্রতিরোধে রয়েছে টিকা।</td>\n",
       "      <td>hepɐtɐɪ̯tɪs B bʱɐɪ̯ɾɐʃeɾ pɾot̪ɪɾod̪ʱe ɾoʲecʰe tɪkɐ।</td>\n",
       "    </tr>\n",
       "    <tr>\n",
       "      <th>2801</th>\n",
       "      <td>কর্মশালায় অংশগ্রহণে আগ্রহীরা বাংলাদেশ মিডিয়া ফোরামের ওয়েবসাইটের মাধ্যমে www.bdmediaforum.com/register রেজিস্ট্রেশন করতে পারবেন।</td>\n",
       "      <td>kɔɾmoʃɐlɐe̯ ɔŋʃogɾohone ɐgɾohɪɾɐ bɐŋlɐd̪eʃ mɪdɪʲɐ pʰoɾɐmeɾ oʷebʃɐɪ̯teɾ mɐd̪d̪ʱome ../ ɾeɟɪstɾeʃon koɾt̪e pɐɾben।</td>\n",
       "    </tr>\n",
       "    <tr>\n",
       "      <th>3781</th>\n",
       "      <td>এ সংক্রান্ত বিস্তারিত তথ্য বিশ্ববিদ্যালয়ের ওয়েবসাইট www.admissions. nu.edu.bd অথবা nu.edu.bd/ admissions থেকে পাওয়া যাবে।</td>\n",
       "      <td>e ʃɔŋkɾɐnt̪o bɪst̪ɐɾɪt̪o t̪ot̪t̪ʰo bɪʃʃobɪd̪d̪ɐlɔʲeɾ oʷebʃɐɪ̯t .. .. ɔt̪ʰobɐ ../ ɐdmɪssɪons t̪ʰeke pɐo̯ʷɐ ɟɐbe।</td>\n",
       "    </tr>\n",
       "    <tr>\n",
       "      <th>5604</th>\n",
       "      <td>ভর্তি পরীক্ষার ফলাফল স্ব-স্ব প্রতিষ্ঠান এবং বিশ্ববিদ্যালয়ের ওয়েবসাইট www.iau.edu.bd থেকে জানা যাবে।</td>\n",
       "      <td>bʱɔɾt̪ɪ poɾɪkkʰɐɾ pʰɔlɐpʰɔl ʃɔ-ʃʃo pɾot̪ɪʃtʱɐn eboŋ bɪʃʃobɪd̪d̪ɐlɔʲeɾ oʷebʃɐɪ̯t ... t̪ʰeke ɟɐnɐ ɟɐbe।</td>\n",
       "    </tr>\n",
       "    <tr>\n",
       "      <th>7344</th>\n",
       "      <td>আবেদনপত্র পাঠানো যাবে এসএমই ফাউন্ডেশনের ঢাকা অফিসের ঠিকানায় অথবা ই-মেইল করা যাবে [email protected]এ ঠিকানায়।</td>\n",
       "      <td>ɐbed̪ɔnpɔt̪ɾo pɐtʱɐno ɟɐbe eʃemɪ pʰɐu̯ndeʃoneɾ dʱɐkɐ ɔpʰɪʃeɾ tʰɪkɐnɐe̯ ɔt̪ʰobɐ ɪ-meɪ̯l kɔɾɐ ɟɐbe []e tʰɪkɐnɐe̯।</td>\n",
       "    </tr>\n",
       "    <tr>\n",
       "      <th>9319</th>\n",
       "      <td>সম্মেলনে ভিশনারি বক্তব্য দেন FAO-এর বাংলাদেশ প্রতিনিধি মাইক রবসন।</td>\n",
       "      <td>ʃɔmmelone bʱɪʃonɐɾɪ bokt̪obbo d̪ɛn -eɾ bɐŋlɐd̪eʃ pɾot̪ɪnɪd̪ʱɪ mɐɪ̯k ɾɔbʃon।</td>\n",
       "    </tr>\n",
       "    <tr>\n",
       "      <th>9905</th>\n",
       "      <td>টিকিট কাটতে http://ashajawa.com ওয়েব ঠিকানায় গিয়ে ই-মেইল ও ফোন নম্বর দিয়ে টিকিট অর্ডার করা যাবে।</td>\n",
       "      <td>tɪkɪt kɐtt̪e ://. oʲeb tʰɪkɐnɐe̯ gɪʲe ɪ-meɪ̯l o pʰon nɔmbɔɾ d̪ɪʲe tɪkɪt ɔɾdɐɾ kɔɾɐ ɟɐbe।</td>\n",
       "    </tr>\n",
       "    <tr>\n",
       "      <th>11010</th>\n",
       "      <td>কমলাকে ইংরেজিতে 'Mandarin orange', 'Mandarin' এবং 'Mandarine' বলা হয়।</td>\n",
       "      <td>kɔmlɐke ɪŋɾeɟɪt̪e ' ', '' eboŋ '' bɔlɐ hɔe̯।</td>\n",
       "    </tr>\n",
       "    <tr>\n",
       "      <th>12638</th>\n",
       "      <td>এরপর ডাউনলোড লিংক জেনারেট হলে click here to download বাটন দেখাবে।</td>\n",
       "      <td>eɾpɔɾ dɐu̯nlod lɪŋk ɟenɐɾet hole     bɐton d̪ekʰɐbe।</td>\n",
       "    </tr>\n",
       "  </tbody>\n",
       "</table>\n",
       "</div>"
      ],
      "text/plain": [
       "                                                                                                                                  text  \\\n",
       "69     আজ তোমাদের জন্য ইংরেজি প্রথমপত্রের Part-I-Gi seen passage এবং Part-II-Gi Writing Test অংশের সাজেশন দেয়া হল।                       \n",
       "1479   হেপাটাইটিস B ভাইরাসের প্রতিরোধে রয়েছে টিকা।                                                                                       \n",
       "2801   কর্মশালায় অংশগ্রহণে আগ্রহীরা বাংলাদেশ মিডিয়া ফোরামের ওয়েবসাইটের মাধ্যমে www.bdmediaforum.com/register রেজিস্ট্রেশন করতে পারবেন।   \n",
       "3781   এ সংক্রান্ত বিস্তারিত তথ্য বিশ্ববিদ্যালয়ের ওয়েবসাইট www.admissions. nu.edu.bd অথবা nu.edu.bd/ admissions থেকে পাওয়া যাবে।         \n",
       "5604   ভর্তি পরীক্ষার ফলাফল স্ব-স্ব প্রতিষ্ঠান এবং বিশ্ববিদ্যালয়ের ওয়েবসাইট www.iau.edu.bd থেকে জানা যাবে।                               \n",
       "7344   আবেদনপত্র পাঠানো যাবে এসএমই ফাউন্ডেশনের ঢাকা অফিসের ঠিকানায় অথবা ই-মেইল করা যাবে [email protected]এ ঠিকানায়।                      \n",
       "9319   সম্মেলনে ভিশনারি বক্তব্য দেন FAO-এর বাংলাদেশ প্রতিনিধি মাইক রবসন।                                                                 \n",
       "9905   টিকিট কাটতে http://ashajawa.com ওয়েব ঠিকানায় গিয়ে ই-মেইল ও ফোন নম্বর দিয়ে টিকিট অর্ডার করা যাবে।                                  \n",
       "11010  কমলাকে ইংরেজিতে 'Mandarin orange', 'Mandarin' এবং 'Mandarine' বলা হয়।                                                             \n",
       "12638  এরপর ডাউনলোড লিংক জেনারেট হলে click here to download বাটন দেখাবে।                                                                 \n",
       "\n",
       "                                                                                                                    ipa  \n",
       "69     ɐɟ t̪omɐd̪eɾ ɟonno ɪŋɾeɟɪ pɾot̪ʰompɔt̪ɾeɾ -- seen pɐssɐge eboŋ -- Wɾɪtɪng Test ɔŋʃeɾ ʃɐɟeʃon d̪eʲɐ hɔl।           \n",
       "1479   hepɐtɐɪ̯tɪs B bʱɐɪ̯ɾɐʃeɾ pɾot̪ɪɾod̪ʱe ɾoʲecʰe tɪkɐ।                                                               \n",
       "2801   kɔɾmoʃɐlɐe̯ ɔŋʃogɾohone ɐgɾohɪɾɐ bɐŋlɐd̪eʃ mɪdɪʲɐ pʰoɾɐmeɾ oʷebʃɐɪ̯teɾ mɐd̪d̪ʱome ../ ɾeɟɪstɾeʃon koɾt̪e pɐɾben।  \n",
       "3781   e ʃɔŋkɾɐnt̪o bɪst̪ɐɾɪt̪o t̪ot̪t̪ʰo bɪʃʃobɪd̪d̪ɐlɔʲeɾ oʷebʃɐɪ̯t .. .. ɔt̪ʰobɐ ../ ɐdmɪssɪons t̪ʰeke pɐo̯ʷɐ ɟɐbe।   \n",
       "5604   bʱɔɾt̪ɪ poɾɪkkʰɐɾ pʰɔlɐpʰɔl ʃɔ-ʃʃo pɾot̪ɪʃtʱɐn eboŋ bɪʃʃobɪd̪d̪ɐlɔʲeɾ oʷebʃɐɪ̯t ... t̪ʰeke ɟɐnɐ ɟɐbe।             \n",
       "7344   ɐbed̪ɔnpɔt̪ɾo pɐtʱɐno ɟɐbe eʃemɪ pʰɐu̯ndeʃoneɾ dʱɐkɐ ɔpʰɪʃeɾ tʰɪkɐnɐe̯ ɔt̪ʰobɐ ɪ-meɪ̯l kɔɾɐ ɟɐbe []e tʰɪkɐnɐe̯।   \n",
       "9319   ʃɔmmelone bʱɪʃonɐɾɪ bokt̪obbo d̪ɛn -eɾ bɐŋlɐd̪eʃ pɾot̪ɪnɪd̪ʱɪ mɐɪ̯k ɾɔbʃon।                                       \n",
       "9905   tɪkɪt kɐtt̪e ://. oʲeb tʰɪkɐnɐe̯ gɪʲe ɪ-meɪ̯l o pʰon nɔmbɔɾ d̪ɪʲe tɪkɪt ɔɾdɐɾ kɔɾɐ ɟɐbe।                          \n",
       "11010  kɔmlɐke ɪŋɾeɟɪt̪e ' ', '' eboŋ '' bɔlɐ hɔe̯।                                                                      \n",
       "12638  eɾpɔɾ dɐu̯nlod lɪŋk ɟenɐɾet hole     bɐton d̪ekʰɐbe।                                                              "
      ]
     },
     "metadata": {},
     "output_type": "display_data"
    }
   ],
   "source": [
    "with pd.option_context('display.max_colwidth', 0):\n",
    "    display(filtered_train.head(n=10))"
   ]
  },
  {
   "cell_type": "code",
   "execution_count": 11,
   "id": "3ff5daa2",
   "metadata": {
    "execution": {
     "iopub.execute_input": "2023-10-17T15:52:11.795215Z",
     "iopub.status.busy": "2023-10-17T15:52:11.794700Z",
     "iopub.status.idle": "2023-10-17T15:52:11.826337Z",
     "shell.execute_reply": "2023-10-17T15:52:11.825112Z"
    },
    "papermill": {
     "duration": 0.044078,
     "end_time": "2023-10-17T15:52:11.828095",
     "exception": false,
     "start_time": "2023-10-17T15:52:11.784017",
     "status": "completed"
    },
    "tags": []
   },
   "outputs": [
    {
     "name": "stdout",
     "output_type": "stream",
     "text": [
      "Length of the Df = (9601, 2)\n"
     ]
    }
   ],
   "source": [
    "filt_cond = [\"১-৯\", 'A-Za-z0-9']\n",
    "# Filtering text samples that contain English alphanumeric values\n",
    "fltr_test = test_df[lambda x: x[\"text\"].str.contains(\"[১-৯]\")]\n",
    "\n",
    "print(f'Length of the Df = {fltr_test.shape}')"
   ]
  },
  {
   "cell_type": "code",
   "execution_count": 12,
   "id": "a3859e3e",
   "metadata": {
    "execution": {
     "iopub.execute_input": "2023-10-17T15:52:11.849738Z",
     "iopub.status.busy": "2023-10-17T15:52:11.848891Z",
     "iopub.status.idle": "2023-10-17T15:52:11.857896Z",
     "shell.execute_reply": "2023-10-17T15:52:11.856814Z"
    },
    "papermill": {
     "duration": 0.022098,
     "end_time": "2023-10-17T15:52:11.859864",
     "exception": false,
     "start_time": "2023-10-17T15:52:11.837766",
     "status": "completed"
    },
    "tags": []
   },
   "outputs": [
    {
     "data": {
      "text/html": [
       "<div>\n",
       "<style scoped>\n",
       "    .dataframe tbody tr th:only-of-type {\n",
       "        vertical-align: middle;\n",
       "    }\n",
       "\n",
       "    .dataframe tbody tr th {\n",
       "        vertical-align: top;\n",
       "    }\n",
       "\n",
       "    .dataframe thead th {\n",
       "        text-align: right;\n",
       "    }\n",
       "</style>\n",
       "<table border=\"1\" class=\"dataframe\">\n",
       "  <thead>\n",
       "    <tr style=\"text-align: right;\">\n",
       "      <th></th>\n",
       "      <th>row_id_column_name</th>\n",
       "      <th>text</th>\n",
       "    </tr>\n",
       "  </thead>\n",
       "  <tbody>\n",
       "    <tr>\n",
       "      <th>1</th>\n",
       "      <td>1</td>\n",
       "      <td>এ নিয়ে বিবাদে ২০১৫ সালের ২ জুন রাত সাড়ে ১১টায় চাচা সুশীল দাসকে কুপিয়ে জখম করে সে।</td>\n",
       "    </tr>\n",
       "    <tr>\n",
       "      <th>2</th>\n",
       "      <td>2</td>\n",
       "      <td>আজ থেকে ১৪ বছর আগে তিনি চলে গেছেন না ফেরার দেশে।</td>\n",
       "    </tr>\n",
       "    <tr>\n",
       "      <th>3</th>\n",
       "      <td>3</td>\n",
       "      <td>নিহত ব্যক্তি কুতপালং টালের ই-২ ব্লকের আবুল বাছেদ (৪০)।</td>\n",
       "    </tr>\n",
       "    <tr>\n",
       "      <th>4</th>\n",
       "      <td>4</td>\n",
       "      <td>সংক্ষিপ্ত স্কোরশ্রীলংকা প্রথম ইনিংস ৪৮২ (করুনারত্নে ১৯৬, চান্দিমাল ৬২, ডিকভেলা ৫২, পেরেরা ৫৮।</td>\n",
       "    </tr>\n",
       "    <tr>\n",
       "      <th>5</th>\n",
       "      <td>5</td>\n",
       "      <td>এগুলোর মধ্যে সাজ্জাদ হোসেনের ‘নন স্টপ’, আশুতোষ সুজনের ‘এই শহরে’ এবং রুলিন রহমানের ‘রোড নাম্বার-৭, বাসা নাম্বার-১৩’।</td>\n",
       "    </tr>\n",
       "  </tbody>\n",
       "</table>\n",
       "</div>"
      ],
      "text/plain": [
       "   row_id_column_name  \\\n",
       "1  1                    \n",
       "2  2                    \n",
       "3  3                    \n",
       "4  4                    \n",
       "5  5                    \n",
       "\n",
       "                                                                                                                  text  \n",
       "1  এ নিয়ে বিবাদে ২০১৫ সালের ২ জুন রাত সাড়ে ১১টায় চাচা সুশীল দাসকে কুপিয়ে জখম করে সে।                                    \n",
       "2  আজ থেকে ১৪ বছর আগে তিনি চলে গেছেন না ফেরার দেশে।                                                                     \n",
       "3  নিহত ব্যক্তি কুতপালং টালের ই-২ ব্লকের আবুল বাছেদ (৪০)।                                                               \n",
       "4  সংক্ষিপ্ত স্কোরশ্রীলংকা প্রথম ইনিংস ৪৮২ (করুনারত্নে ১৯৬, চান্দিমাল ৬২, ডিকভেলা ৫২, পেরেরা ৫৮।                        \n",
       "5  এগুলোর মধ্যে সাজ্জাদ হোসেনের ‘নন স্টপ’, আশুতোষ সুজনের ‘এই শহরে’ এবং রুলিন রহমানের ‘রোড নাম্বার-৭, বাসা নাম্বার-১৩’।  "
      ]
     },
     "metadata": {},
     "output_type": "display_data"
    }
   ],
   "source": [
    "with pd.option_context('display.max_colwidth', 0):\n",
    "    display(fltr_test.head(n=5))"
   ]
  },
  {
   "cell_type": "code",
   "execution_count": 13,
   "id": "1f341cf5",
   "metadata": {
    "execution": {
     "iopub.execute_input": "2023-10-17T15:52:11.881108Z",
     "iopub.status.busy": "2023-10-17T15:52:11.880534Z",
     "iopub.status.idle": "2023-10-17T15:52:11.954150Z",
     "shell.execute_reply": "2023-10-17T15:52:11.953215Z"
    },
    "papermill": {
     "duration": 0.0863,
     "end_time": "2023-10-17T15:52:11.956347",
     "exception": false,
     "start_time": "2023-10-17T15:52:11.870047",
     "status": "completed"
    },
    "tags": []
   },
   "outputs": [],
   "source": [
    "# Remove English alphanumeric values\n",
    "alpha_pat = \"[a-zA-z0-9০-৯()]\"\n",
    "\n",
    "train[\"text\"] = train[\"text\"].str.replace(alpha_pat, \"\", regex=True)\n",
    "test_df[\"text\"] = test_df[\"text\"].str.replace(alpha_pat, \"\", regex=True)"
   ]
  },
  {
   "cell_type": "code",
   "execution_count": 14,
   "id": "e48afef4",
   "metadata": {
    "execution": {
     "iopub.execute_input": "2023-10-17T15:52:11.977898Z",
     "iopub.status.busy": "2023-10-17T15:52:11.977601Z",
     "iopub.status.idle": "2023-10-17T15:52:12.005837Z",
     "shell.execute_reply": "2023-10-17T15:52:12.004683Z"
    },
    "papermill": {
     "duration": 0.041237,
     "end_time": "2023-10-17T15:52:12.007900",
     "exception": false,
     "start_time": "2023-10-17T15:52:11.966663",
     "status": "completed"
    },
    "tags": []
   },
   "outputs": [
    {
     "name": "stdout",
     "output_type": "stream",
     "text": [
      "Length of the Df = (0, 2)\n"
     ]
    }
   ],
   "source": [
    "filt_cond = [\"১-৯\", 'A-Za-z0-9']\n",
    "# Filtering text samples that contain English alphanumeric values\n",
    "filtered_train = train[lambda x: x[\"text\"].str.contains(\"[A-Za-z0-9()]\")]\n",
    "\n",
    "print(f'Length of the Df = {filtered_train.shape}')"
   ]
  },
  {
   "cell_type": "code",
   "execution_count": 15,
   "id": "7bc45949",
   "metadata": {
    "execution": {
     "iopub.execute_input": "2023-10-17T15:52:12.029473Z",
     "iopub.status.busy": "2023-10-17T15:52:12.028733Z",
     "iopub.status.idle": "2023-10-17T15:52:12.044227Z",
     "shell.execute_reply": "2023-10-17T15:52:12.043193Z"
    },
    "papermill": {
     "duration": 0.028313,
     "end_time": "2023-10-17T15:52:12.045997",
     "exception": false,
     "start_time": "2023-10-17T15:52:12.017684",
     "status": "completed"
    },
    "tags": []
   },
   "outputs": [],
   "source": [
    "from sklearn.model_selection import train_test_split\n",
    "\n",
    "train_df, val_df = train_test_split(train, test_size=0.1, shuffle=True, random_state=42)\n",
    "train_df = train_df.reset_index(drop=True)\n",
    "val_df = val_df.reset_index(drop=True)"
   ]
  },
  {
   "cell_type": "code",
   "execution_count": 16,
   "id": "30b0ffc9",
   "metadata": {
    "execution": {
     "iopub.execute_input": "2023-10-17T15:52:12.066855Z",
     "iopub.status.busy": "2023-10-17T15:52:12.066012Z",
     "iopub.status.idle": "2023-10-17T15:52:30.983740Z",
     "shell.execute_reply": "2023-10-17T15:52:30.982618Z"
    },
    "papermill": {
     "duration": 18.930318,
     "end_time": "2023-10-17T15:52:30.985900",
     "exception": false,
     "start_time": "2023-10-17T15:52:12.055582",
     "status": "completed"
    },
    "tags": []
   },
   "outputs": [
    {
     "name": "stdout",
     "output_type": "stream",
     "text": [
      "Requirement already satisfied: datasets in /opt/conda/lib/python3.10/site-packages (2.1.0)\r\n",
      "Requirement already satisfied: numpy>=1.17 in /opt/conda/lib/python3.10/site-packages (from datasets) (1.23.5)\r\n",
      "Requirement already satisfied: pyarrow>=5.0.0 in /opt/conda/lib/python3.10/site-packages (from datasets) (11.0.0)\r\n",
      "Requirement already satisfied: dill in /opt/conda/lib/python3.10/site-packages (from datasets) (0.3.7)\r\n",
      "Requirement already satisfied: pandas in /opt/conda/lib/python3.10/site-packages (from datasets) (2.0.2)\r\n",
      "Requirement already satisfied: requests>=2.19.0 in /opt/conda/lib/python3.10/site-packages (from datasets) (2.31.0)\r\n",
      "Requirement already satisfied: tqdm>=4.62.1 in /opt/conda/lib/python3.10/site-packages (from datasets) (4.66.1)\r\n",
      "Requirement already satisfied: xxhash in /opt/conda/lib/python3.10/site-packages (from datasets) (3.3.0)\r\n",
      "Requirement already satisfied: multiprocess in /opt/conda/lib/python3.10/site-packages (from datasets) (0.70.15)\r\n",
      "Requirement already satisfied: fsspec[http]>=2021.05.0 in /opt/conda/lib/python3.10/site-packages (from datasets) (2023.9.0)\r\n",
      "Requirement already satisfied: aiohttp in /opt/conda/lib/python3.10/site-packages (from datasets) (3.8.4)\r\n",
      "Requirement already satisfied: huggingface-hub<1.0.0,>=0.1.0 in /opt/conda/lib/python3.10/site-packages (from datasets) (0.16.4)\r\n",
      "Requirement already satisfied: packaging in /opt/conda/lib/python3.10/site-packages (from datasets) (21.3)\r\n",
      "Requirement already satisfied: responses<0.19 in /opt/conda/lib/python3.10/site-packages (from datasets) (0.18.0)\r\n",
      "Requirement already satisfied: attrs>=17.3.0 in /opt/conda/lib/python3.10/site-packages (from aiohttp->datasets) (23.1.0)\r\n",
      "Requirement already satisfied: charset-normalizer<4.0,>=2.0 in /opt/conda/lib/python3.10/site-packages (from aiohttp->datasets) (3.1.0)\r\n",
      "Requirement already satisfied: multidict<7.0,>=4.5 in /opt/conda/lib/python3.10/site-packages (from aiohttp->datasets) (6.0.4)\r\n",
      "Requirement already satisfied: async-timeout<5.0,>=4.0.0a3 in /opt/conda/lib/python3.10/site-packages (from aiohttp->datasets) (4.0.2)\r\n",
      "Requirement already satisfied: yarl<2.0,>=1.0 in /opt/conda/lib/python3.10/site-packages (from aiohttp->datasets) (1.9.2)\r\n",
      "Requirement already satisfied: frozenlist>=1.1.1 in /opt/conda/lib/python3.10/site-packages (from aiohttp->datasets) (1.3.3)\r\n",
      "Requirement already satisfied: aiosignal>=1.1.2 in /opt/conda/lib/python3.10/site-packages (from aiohttp->datasets) (1.3.1)\r\n",
      "Requirement already satisfied: filelock in /opt/conda/lib/python3.10/site-packages (from huggingface-hub<1.0.0,>=0.1.0->datasets) (3.12.2)\r\n",
      "Requirement already satisfied: pyyaml>=5.1 in /opt/conda/lib/python3.10/site-packages (from huggingface-hub<1.0.0,>=0.1.0->datasets) (6.0)\r\n",
      "Requirement already satisfied: typing-extensions>=3.7.4.3 in /opt/conda/lib/python3.10/site-packages (from huggingface-hub<1.0.0,>=0.1.0->datasets) (4.6.3)\r\n",
      "Requirement already satisfied: pyparsing!=3.0.5,>=2.0.2 in /opt/conda/lib/python3.10/site-packages (from packaging->datasets) (3.0.9)\r\n",
      "Requirement already satisfied: idna<4,>=2.5 in /opt/conda/lib/python3.10/site-packages (from requests>=2.19.0->datasets) (3.4)\r\n",
      "Requirement already satisfied: urllib3<3,>=1.21.1 in /opt/conda/lib/python3.10/site-packages (from requests>=2.19.0->datasets) (1.26.15)\r\n",
      "Requirement already satisfied: certifi>=2017.4.17 in /opt/conda/lib/python3.10/site-packages (from requests>=2.19.0->datasets) (2023.7.22)\r\n",
      "Requirement already satisfied: python-dateutil>=2.8.2 in /opt/conda/lib/python3.10/site-packages (from pandas->datasets) (2.8.2)\r\n",
      "Requirement already satisfied: pytz>=2020.1 in /opt/conda/lib/python3.10/site-packages (from pandas->datasets) (2023.3)\r\n",
      "Requirement already satisfied: tzdata>=2022.1 in /opt/conda/lib/python3.10/site-packages (from pandas->datasets) (2023.3)\r\n",
      "Requirement already satisfied: six>=1.5 in /opt/conda/lib/python3.10/site-packages (from python-dateutil>=2.8.2->pandas->datasets) (1.16.0)\r\n",
      "Requirement already satisfied: transformers in /opt/conda/lib/python3.10/site-packages (4.33.0)\r\n",
      "Requirement already satisfied: filelock in /opt/conda/lib/python3.10/site-packages (from transformers) (3.12.2)\r\n",
      "Requirement already satisfied: huggingface-hub<1.0,>=0.15.1 in /opt/conda/lib/python3.10/site-packages (from transformers) (0.16.4)\r\n",
      "Requirement already satisfied: numpy>=1.17 in /opt/conda/lib/python3.10/site-packages (from transformers) (1.23.5)\r\n",
      "Requirement already satisfied: packaging>=20.0 in /opt/conda/lib/python3.10/site-packages (from transformers) (21.3)\r\n",
      "Requirement already satisfied: pyyaml>=5.1 in /opt/conda/lib/python3.10/site-packages (from transformers) (6.0)\r\n",
      "Requirement already satisfied: regex!=2019.12.17 in /opt/conda/lib/python3.10/site-packages (from transformers) (2023.6.3)\r\n",
      "Requirement already satisfied: requests in /opt/conda/lib/python3.10/site-packages (from transformers) (2.31.0)\r\n",
      "Requirement already satisfied: tokenizers!=0.11.3,<0.14,>=0.11.1 in /opt/conda/lib/python3.10/site-packages (from transformers) (0.13.3)\r\n",
      "Requirement already satisfied: safetensors>=0.3.1 in /opt/conda/lib/python3.10/site-packages (from transformers) (0.3.3)\r\n",
      "Requirement already satisfied: tqdm>=4.27 in /opt/conda/lib/python3.10/site-packages (from transformers) (4.66.1)\r\n",
      "Requirement already satisfied: fsspec in /opt/conda/lib/python3.10/site-packages (from huggingface-hub<1.0,>=0.15.1->transformers) (2023.9.0)\r\n",
      "Requirement already satisfied: typing-extensions>=3.7.4.3 in /opt/conda/lib/python3.10/site-packages (from huggingface-hub<1.0,>=0.15.1->transformers) (4.6.3)\r\n",
      "Requirement already satisfied: pyparsing!=3.0.5,>=2.0.2 in /opt/conda/lib/python3.10/site-packages (from packaging>=20.0->transformers) (3.0.9)\r\n",
      "Requirement already satisfied: charset-normalizer<4,>=2 in /opt/conda/lib/python3.10/site-packages (from requests->transformers) (3.1.0)\r\n",
      "Requirement already satisfied: idna<4,>=2.5 in /opt/conda/lib/python3.10/site-packages (from requests->transformers) (3.4)\r\n",
      "Requirement already satisfied: urllib3<3,>=1.21.1 in /opt/conda/lib/python3.10/site-packages (from requests->transformers) (1.26.15)\r\n",
      "Requirement already satisfied: certifi>=2017.4.17 in /opt/conda/lib/python3.10/site-packages (from requests->transformers) (2023.7.22)\r\n"
     ]
    }
   ],
   "source": [
    "!pip install datasets\n",
    "!pip install transformers"
   ]
  },
  {
   "cell_type": "code",
   "execution_count": 17,
   "id": "c1099a48",
   "metadata": {
    "execution": {
     "iopub.execute_input": "2023-10-17T15:52:31.008235Z",
     "iopub.status.busy": "2023-10-17T15:52:31.007908Z",
     "iopub.status.idle": "2023-10-17T15:52:31.884736Z",
     "shell.execute_reply": "2023-10-17T15:52:31.883758Z"
    },
    "papermill": {
     "duration": 0.890382,
     "end_time": "2023-10-17T15:52:31.886865",
     "exception": false,
     "start_time": "2023-10-17T15:52:30.996483",
     "status": "completed"
    },
    "tags": []
   },
   "outputs": [],
   "source": [
    "from datasets import Dataset\n",
    "\n",
    "train_tf = Dataset.from_pandas(train_df)\n",
    "valid_tf = Dataset.from_pandas(val_df)"
   ]
  },
  {
   "cell_type": "code",
   "execution_count": 18,
   "id": "9b26de83",
   "metadata": {
    "execution": {
     "iopub.execute_input": "2023-10-17T15:52:31.908588Z",
     "iopub.status.busy": "2023-10-17T15:52:31.908106Z",
     "iopub.status.idle": "2023-10-17T15:52:31.914389Z",
     "shell.execute_reply": "2023-10-17T15:52:31.913358Z"
    },
    "papermill": {
     "duration": 0.019238,
     "end_time": "2023-10-17T15:52:31.916323",
     "exception": false,
     "start_time": "2023-10-17T15:52:31.897085",
     "status": "completed"
    },
    "tags": []
   },
   "outputs": [
    {
     "data": {
      "text/plain": [
       "Dataset({\n",
       "    features: ['text', 'ipa'],\n",
       "    num_rows: 20699\n",
       "})"
      ]
     },
     "execution_count": 18,
     "metadata": {},
     "output_type": "execute_result"
    }
   ],
   "source": [
    "train_tf"
   ]
  },
  {
   "cell_type": "code",
   "execution_count": 19,
   "id": "7724c725",
   "metadata": {
    "execution": {
     "iopub.execute_input": "2023-10-17T15:52:31.938695Z",
     "iopub.status.busy": "2023-10-17T15:52:31.937779Z",
     "iopub.status.idle": "2023-10-17T15:52:58.982840Z",
     "shell.execute_reply": "2023-10-17T15:52:58.981492Z"
    },
    "papermill": {
     "duration": 27.059969,
     "end_time": "2023-10-17T15:52:58.986439",
     "exception": false,
     "start_time": "2023-10-17T15:52:31.926470",
     "status": "completed"
    },
    "tags": []
   },
   "outputs": [
    {
     "data": {
      "application/vnd.jupyter.widget-view+json": {
       "model_id": "1b926473809d49399fbfa10a3752884a",
       "version_major": 2,
       "version_minor": 0
      },
      "text/plain": [
       "Downloading (…)okenizer_config.json:   0%|          | 0.00/82.0 [00:00<?, ?B/s]"
      ]
     },
     "metadata": {},
     "output_type": "display_data"
    },
    {
     "data": {
      "application/vnd.jupyter.widget-view+json": {
       "model_id": "e7f9e07ba49b4cb28319c5e00f74172c",
       "version_major": 2,
       "version_minor": 0
      },
      "text/plain": [
       "Downloading (…)lve/main/config.json:   0%|          | 0.00/553 [00:00<?, ?B/s]"
      ]
     },
     "metadata": {},
     "output_type": "display_data"
    },
    {
     "data": {
      "application/vnd.jupyter.widget-view+json": {
       "model_id": "e9c02cc8d4d14788bbb3d3a889df6feb",
       "version_major": 2,
       "version_minor": 0
      },
      "text/plain": [
       "Downloading (…)ve/main/spiece.model:   0%|          | 0.00/4.31M [00:00<?, ?B/s]"
      ]
     },
     "metadata": {},
     "output_type": "display_data"
    },
    {
     "data": {
      "application/vnd.jupyter.widget-view+json": {
       "model_id": "04b43ba3b0204bdf8c70d258d35c3bc1",
       "version_major": 2,
       "version_minor": 0
      },
      "text/plain": [
       "Downloading (…)cial_tokens_map.json:   0%|          | 0.00/99.0 [00:00<?, ?B/s]"
      ]
     },
     "metadata": {},
     "output_type": "display_data"
    },
    {
     "name": "stderr",
     "output_type": "stream",
     "text": [
      "You are using the default legacy behaviour of the <class 'transformers.models.t5.tokenization_t5.T5Tokenizer'>. If you see this, DO NOT PANIC! This is expected, and simply means that the `legacy` (previous) behavior will be used so nothing changes for you. If you want to use the new behaviour, set `legacy=False`. This should only be set if you understand what it means, and thouroughly read the reason why this was added as explained in https://github.com/huggingface/transformers/pull/24565\n",
      "/opt/conda/lib/python3.10/site-packages/transformers/convert_slow_tokenizer.py:473: UserWarning: The sentencepiece tokenizer that you are converting to a fast tokenizer uses the byte fallback option which is not implemented in the fast tokenizers. In practice this means that the fast version of the tokenizer can produce unknown tokens whereas the sentencepiece version would have converted these unknown tokens into a sequence of byte tokens matching the original piece of text.\n",
      "  warnings.warn(\n"
     ]
    },
    {
     "data": {
      "application/vnd.jupyter.widget-view+json": {
       "model_id": "925a2e62ef4240cfac63146c97b2913f",
       "version_major": 2,
       "version_minor": 0
      },
      "text/plain": [
       "Downloading pytorch_model.bin:   0%|          | 0.00/1.20G [00:00<?, ?B/s]"
      ]
     },
     "metadata": {},
     "output_type": "display_data"
    },
    {
     "data": {
      "application/vnd.jupyter.widget-view+json": {
       "model_id": "410d6a086c004edcbcd676ad51fb710c",
       "version_major": 2,
       "version_minor": 0
      },
      "text/plain": [
       "Downloading (…)neration_config.json:   0%|          | 0.00/147 [00:00<?, ?B/s]"
      ]
     },
     "metadata": {},
     "output_type": "display_data"
    }
   ],
   "source": [
    "from transformers import AutoTokenizer, AutoModelForSeq2SeqLM, DataCollatorForSeq2Seq\n",
    "\n",
    "model_id = \"google/mt5-small\"\n",
    "tokenizer = AutoTokenizer.from_pretrained(model_id)\n",
    "model = AutoModelForSeq2SeqLM.from_pretrained(model_id)\n",
    "data_collator = DataCollatorForSeq2Seq(tokenizer)"
   ]
  },
  {
   "cell_type": "code",
   "execution_count": 20,
   "id": "acb9db2f",
   "metadata": {
    "execution": {
     "iopub.execute_input": "2023-10-17T15:52:59.061783Z",
     "iopub.status.busy": "2023-10-17T15:52:59.061164Z",
     "iopub.status.idle": "2023-10-17T15:53:11.384783Z",
     "shell.execute_reply": "2023-10-17T15:53:11.383793Z"
    },
    "papermill": {
     "duration": 12.363028,
     "end_time": "2023-10-17T15:53:11.386707",
     "exception": false,
     "start_time": "2023-10-17T15:52:59.023679",
     "status": "completed"
    },
    "tags": []
   },
   "outputs": [
    {
     "data": {
      "application/vnd.jupyter.widget-view+json": {
       "model_id": "d9e40b8b9a304f18970555cfee9896cd",
       "version_major": 2,
       "version_minor": 0
      },
      "text/plain": [
       "  0%|          | 0/20699 [00:00<?, ?ex/s]"
      ]
     },
     "metadata": {},
     "output_type": "display_data"
    },
    {
     "data": {
      "application/vnd.jupyter.widget-view+json": {
       "model_id": "871b68aa6f89490b872d6045e450d16b",
       "version_major": 2,
       "version_minor": 0
      },
      "text/plain": [
       "  0%|          | 0/2300 [00:00<?, ?ex/s]"
      ]
     },
     "metadata": {},
     "output_type": "display_data"
    }
   ],
   "source": [
    "def prepare_dataset(sample):\n",
    "    output = tokenizer(sample[\"text\"])\n",
    "    output[\"labels\"] = tokenizer(sample[\"ipa\"])['input_ids']\n",
    "    output[\"length\"] = len(output[\"labels\"])\n",
    "    return output\n",
    "\n",
    "\n",
    "train_tf = train_tf.map(prepare_dataset, remove_columns=train_tf.column_names)\n",
    "valid_tf = valid_tf.map(prepare_dataset, remove_columns=valid_tf.column_names)"
   ]
  },
  {
   "cell_type": "code",
   "execution_count": 21,
   "id": "adff6944",
   "metadata": {
    "execution": {
     "iopub.execute_input": "2023-10-17T15:53:11.412056Z",
     "iopub.status.busy": "2023-10-17T15:53:11.411378Z",
     "iopub.status.idle": "2023-10-17T15:53:11.416001Z",
     "shell.execute_reply": "2023-10-17T15:53:11.415086Z"
    },
    "papermill": {
     "duration": 0.019286,
     "end_time": "2023-10-17T15:53:11.417934",
     "exception": false,
     "start_time": "2023-10-17T15:53:11.398648",
     "status": "completed"
    },
    "tags": []
   },
   "outputs": [],
   "source": [
    "# train_tf['input_ids']"
   ]
  },
  {
   "cell_type": "code",
   "execution_count": 22,
   "id": "9a1b6904",
   "metadata": {
    "execution": {
     "iopub.execute_input": "2023-10-17T15:53:11.443281Z",
     "iopub.status.busy": "2023-10-17T15:53:11.442939Z",
     "iopub.status.idle": "2023-10-17T15:53:20.690994Z",
     "shell.execute_reply": "2023-10-17T15:53:20.689568Z"
    },
    "papermill": {
     "duration": 9.262882,
     "end_time": "2023-10-17T15:53:20.693051",
     "exception": false,
     "start_time": "2023-10-17T15:53:11.430169",
     "status": "completed"
    },
    "tags": []
   },
   "outputs": [
    {
     "name": "stdout",
     "output_type": "stream",
     "text": [
      "huggingface/tokenizers: The current process just got forked, after parallelism has already been used. Disabling parallelism to avoid deadlocks...\n",
      "To disable this warning, you can either:\n",
      "\t- Avoid using `tokenizers` before the fork if possible\n",
      "\t- Explicitly set the environment variable TOKENIZERS_PARALLELISM=(true | false)\n",
      "Collecting jiwer\r\n",
      "  Downloading jiwer-3.0.3-py3-none-any.whl (21 kB)\r\n",
      "Requirement already satisfied: click<9.0.0,>=8.1.3 in /opt/conda/lib/python3.10/site-packages (from jiwer) (8.1.7)\r\n",
      "Requirement already satisfied: rapidfuzz<4,>=3 in /opt/conda/lib/python3.10/site-packages (from jiwer) (3.2.0)\r\n",
      "Installing collected packages: jiwer\r\n",
      "Successfully installed jiwer-3.0.3\r\n",
      "Note: you may need to restart the kernel to use updated packages.\n"
     ]
    }
   ],
   "source": [
    "pip install jiwer"
   ]
  },
  {
   "cell_type": "code",
   "execution_count": 23,
   "id": "6ed1b3da",
   "metadata": {
    "execution": {
     "iopub.execute_input": "2023-10-17T15:53:20.719245Z",
     "iopub.status.busy": "2023-10-17T15:53:20.718913Z",
     "iopub.status.idle": "2023-10-17T15:53:21.183499Z",
     "shell.execute_reply": "2023-10-17T15:53:21.182556Z"
    },
    "papermill": {
     "duration": 0.480142,
     "end_time": "2023-10-17T15:53:21.185678",
     "exception": false,
     "start_time": "2023-10-17T15:53:20.705536",
     "status": "completed"
    },
    "tags": []
   },
   "outputs": [
    {
     "data": {
      "application/vnd.jupyter.widget-view+json": {
       "model_id": "0338b758cf0d43e7be213c59a7d88bce",
       "version_major": 2,
       "version_minor": 0
      },
      "text/plain": [
       "Downloading builder script:   0%|          | 0.00/1.90k [00:00<?, ?B/s]"
      ]
     },
     "metadata": {},
     "output_type": "display_data"
    }
   ],
   "source": [
    "import numpy as np\n",
    "from datasets import load_metric\n",
    "\n",
    "wer_metric = load_metric(\"wer\")\n",
    "\n",
    "\n",
    "def compute_metrics(eval_preds):\n",
    "    preds, labels = eval_preds\n",
    "    \n",
    "    if isinstance(preds, tuple):\n",
    "        preds = preds[0]\n",
    "    \n",
    "    preds = np.where(preds != -100, preds, tokenizer.pad_token_id)\n",
    "    decoded_preds = tokenizer.batch_decode(preds, skip_special_tokens=True)\n",
    "\n",
    "    labels = np.where(labels != -100, labels, tokenizer.pad_token_id)\n",
    "    decoded_labels = tokenizer.batch_decode(labels, skip_special_tokens=True)\n",
    "\n",
    "    result = wer_metric.compute(predictions=decoded_preds, references=decoded_labels)\n",
    "    return {\"wer\": result}"
   ]
  },
  {
   "cell_type": "code",
   "execution_count": 24,
   "id": "c8c77a64",
   "metadata": {
    "execution": {
     "iopub.execute_input": "2023-10-17T15:53:21.211012Z",
     "iopub.status.busy": "2023-10-17T15:53:21.210205Z",
     "iopub.status.idle": "2023-10-17T15:53:21.319685Z",
     "shell.execute_reply": "2023-10-17T15:53:21.318683Z"
    },
    "papermill": {
     "duration": 0.124173,
     "end_time": "2023-10-17T15:53:21.321814",
     "exception": false,
     "start_time": "2023-10-17T15:53:21.197641",
     "status": "completed"
    },
    "tags": []
   },
   "outputs": [],
   "source": [
    "from transformers import Seq2SeqTrainer, Seq2SeqTrainingArguments\n",
    "\n",
    "model_id = \"mt5-bangla-text-to-ipa\"\n",
    "\n",
    "training_args = Seq2SeqTrainingArguments(\n",
    "    output_dir=model_id,\n",
    "    group_by_length=True,\n",
    "    length_column_name=\"length\",\n",
    "    per_device_train_batch_size=4,\n",
    "    per_device_eval_batch_size=16,\n",
    "    evaluation_strategy=\"steps\",\n",
    "    metric_for_best_model=\"wer\",\n",
    "    greater_is_better=False,\n",
    "    load_best_model_at_end=True,\n",
    "    num_train_epochs=10,\n",
    "    save_steps=4000,\n",
    "    eval_steps=4000,\n",
    "    logging_steps=4000,\n",
    "    learning_rate=3e-4,\n",
    "    weight_decay=1e-2,\n",
    "    warmup_steps=2000,\n",
    "    save_total_limit=2,\n",
    "    predict_with_generate=True,\n",
    "    generation_max_length=128,\n",
    "    push_to_hub=False,\n",
    "    report_to=\"none\",\n",
    ")"
   ]
  },
  {
   "cell_type": "code",
   "execution_count": 25,
   "id": "de003290",
   "metadata": {
    "execution": {
     "iopub.execute_input": "2023-10-17T15:53:21.346286Z",
     "iopub.status.busy": "2023-10-17T15:53:21.345990Z",
     "iopub.status.idle": "2023-10-17T15:53:27.184596Z",
     "shell.execute_reply": "2023-10-17T15:53:27.183603Z"
    },
    "papermill": {
     "duration": 5.853204,
     "end_time": "2023-10-17T15:53:27.186694",
     "exception": false,
     "start_time": "2023-10-17T15:53:21.333490",
     "status": "completed"
    },
    "tags": []
   },
   "outputs": [],
   "source": [
    "trainer = Seq2SeqTrainer(\n",
    "    model=model,\n",
    "    tokenizer=tokenizer,\n",
    "    args=training_args,\n",
    "    train_dataset=train_tf,\n",
    "    eval_dataset=valid_tf,\n",
    "    data_collator=data_collator,\n",
    "    compute_metrics=compute_metrics\n",
    ")\n"
   ]
  },
  {
   "cell_type": "code",
   "execution_count": 26,
   "id": "50b735b9",
   "metadata": {
    "execution": {
     "iopub.execute_input": "2023-10-17T15:53:27.211615Z",
     "iopub.status.busy": "2023-10-17T15:53:27.210531Z",
     "iopub.status.idle": "2023-10-17T18:52:19.445117Z",
     "shell.execute_reply": "2023-10-17T18:52:19.444072Z"
    },
    "papermill": {
     "duration": 10732.24889,
     "end_time": "2023-10-17T18:52:19.447127",
     "exception": false,
     "start_time": "2023-10-17T15:53:27.198237",
     "status": "completed"
    },
    "tags": []
   },
   "outputs": [
    {
     "name": "stderr",
     "output_type": "stream",
     "text": [
      "You're using a T5TokenizerFast tokenizer. Please note that with a fast tokenizer, using the `__call__` method is faster than using a method to encode the text followed by a call to the `pad` method to get a padded encoding.\n"
     ]
    },
    {
     "data": {
      "text/html": [
       "\n",
       "    <div>\n",
       "      \n",
       "      <progress value='51750' max='51750' style='width:300px; height:20px; vertical-align: middle;'></progress>\n",
       "      [51750/51750 2:58:49, Epoch 10/10]\n",
       "    </div>\n",
       "    <table border=\"1\" class=\"dataframe\">\n",
       "  <thead>\n",
       " <tr style=\"text-align: left;\">\n",
       "      <th>Step</th>\n",
       "      <th>Training Loss</th>\n",
       "      <th>Validation Loss</th>\n",
       "      <th>Wer</th>\n",
       "    </tr>\n",
       "  </thead>\n",
       "  <tbody>\n",
       "    <tr>\n",
       "      <td>4000</td>\n",
       "      <td>3.271500</td>\n",
       "      <td>0.351481</td>\n",
       "      <td>0.325892</td>\n",
       "    </tr>\n",
       "    <tr>\n",
       "      <td>8000</td>\n",
       "      <td>0.426100</td>\n",
       "      <td>0.128999</td>\n",
       "      <td>0.125299</td>\n",
       "    </tr>\n",
       "    <tr>\n",
       "      <td>12000</td>\n",
       "      <td>0.218200</td>\n",
       "      <td>0.091130</td>\n",
       "      <td>0.087075</td>\n",
       "    </tr>\n",
       "    <tr>\n",
       "      <td>16000</td>\n",
       "      <td>0.148500</td>\n",
       "      <td>0.072675</td>\n",
       "      <td>0.068375</td>\n",
       "    </tr>\n",
       "    <tr>\n",
       "      <td>20000</td>\n",
       "      <td>0.111500</td>\n",
       "      <td>0.064662</td>\n",
       "      <td>0.059272</td>\n",
       "    </tr>\n",
       "    <tr>\n",
       "      <td>24000</td>\n",
       "      <td>0.089100</td>\n",
       "      <td>0.058637</td>\n",
       "      <td>0.052187</td>\n",
       "    </tr>\n",
       "    <tr>\n",
       "      <td>28000</td>\n",
       "      <td>0.074000</td>\n",
       "      <td>0.056292</td>\n",
       "      <td>0.049922</td>\n",
       "    </tr>\n",
       "    <tr>\n",
       "      <td>32000</td>\n",
       "      <td>0.064000</td>\n",
       "      <td>0.052706</td>\n",
       "      <td>0.045350</td>\n",
       "    </tr>\n",
       "    <tr>\n",
       "      <td>36000</td>\n",
       "      <td>0.055300</td>\n",
       "      <td>0.050009</td>\n",
       "      <td>0.042425</td>\n",
       "    </tr>\n",
       "    <tr>\n",
       "      <td>40000</td>\n",
       "      <td>0.047300</td>\n",
       "      <td>0.048564</td>\n",
       "      <td>0.041231</td>\n",
       "    </tr>\n",
       "    <tr>\n",
       "      <td>44000</td>\n",
       "      <td>0.041900</td>\n",
       "      <td>0.049082</td>\n",
       "      <td>0.039666</td>\n",
       "    </tr>\n",
       "    <tr>\n",
       "      <td>48000</td>\n",
       "      <td>0.038000</td>\n",
       "      <td>0.047190</td>\n",
       "      <td>0.038142</td>\n",
       "    </tr>\n",
       "  </tbody>\n",
       "</table><p>"
      ],
      "text/plain": [
       "<IPython.core.display.HTML object>"
      ]
     },
     "metadata": {},
     "output_type": "display_data"
    },
    {
     "data": {
      "text/plain": [
       "TrainOutput(global_step=51750, training_loss=0.35694515062415083, metrics={'train_runtime': 10731.8876, 'train_samples_per_second': 19.287, 'train_steps_per_second': 4.822, 'total_flos': 6934454088038400.0, 'train_loss': 0.35694515062415083, 'epoch': 10.0})"
      ]
     },
     "execution_count": 26,
     "metadata": {},
     "output_type": "execute_result"
    }
   ],
   "source": [
    "trainer.train()"
   ]
  },
  {
   "cell_type": "code",
   "execution_count": 27,
   "id": "3c7e0acc",
   "metadata": {
    "execution": {
     "iopub.execute_input": "2023-10-17T18:52:19.473627Z",
     "iopub.status.busy": "2023-10-17T18:52:19.472677Z",
     "iopub.status.idle": "2023-10-17T18:52:23.662087Z",
     "shell.execute_reply": "2023-10-17T18:52:23.660968Z"
    },
    "papermill": {
     "duration": 4.205958,
     "end_time": "2023-10-17T18:52:23.665556",
     "exception": false,
     "start_time": "2023-10-17T18:52:19.459598",
     "status": "completed"
    },
    "tags": []
   },
   "outputs": [
    {
     "name": "stdout",
     "output_type": "stream",
     "text": [
      "Model saved successfully.\n"
     ]
    }
   ],
   "source": [
    "import joblib\n",
    "\n",
    "# Save the model to a file\n",
    "joblib.dump(model, 'model.pkl')\n",
    "print(\"Model saved successfully.\")"
   ]
  },
  {
   "cell_type": "code",
   "execution_count": 28,
   "id": "066197e0",
   "metadata": {
    "_kg_hide-input": true,
    "execution": {
     "iopub.execute_input": "2023-10-17T18:52:23.816479Z",
     "iopub.status.busy": "2023-10-17T18:52:23.816023Z",
     "iopub.status.idle": "2023-10-17T18:52:26.896188Z",
     "shell.execute_reply": "2023-10-17T18:52:26.895278Z"
    },
    "papermill": {
     "duration": 3.149504,
     "end_time": "2023-10-17T18:52:26.898192",
     "exception": false,
     "start_time": "2023-10-17T18:52:23.748688",
     "status": "completed"
    },
    "tags": []
   },
   "outputs": [
    {
     "data": {
      "text/plain": [
       "MT5ForConditionalGeneration(\n",
       "  (shared): Embedding(250112, 512)\n",
       "  (encoder): MT5Stack(\n",
       "    (embed_tokens): Embedding(250112, 512)\n",
       "    (block): ModuleList(\n",
       "      (0): MT5Block(\n",
       "        (layer): ModuleList(\n",
       "          (0): MT5LayerSelfAttention(\n",
       "            (SelfAttention): MT5Attention(\n",
       "              (q): Linear(in_features=512, out_features=384, bias=False)\n",
       "              (k): Linear(in_features=512, out_features=384, bias=False)\n",
       "              (v): Linear(in_features=512, out_features=384, bias=False)\n",
       "              (o): Linear(in_features=384, out_features=512, bias=False)\n",
       "              (relative_attention_bias): Embedding(32, 6)\n",
       "            )\n",
       "            (layer_norm): MT5LayerNorm()\n",
       "            (dropout): Dropout(p=0.1, inplace=False)\n",
       "          )\n",
       "          (1): MT5LayerFF(\n",
       "            (DenseReluDense): MT5DenseGatedActDense(\n",
       "              (wi_0): Linear(in_features=512, out_features=1024, bias=False)\n",
       "              (wi_1): Linear(in_features=512, out_features=1024, bias=False)\n",
       "              (wo): Linear(in_features=1024, out_features=512, bias=False)\n",
       "              (dropout): Dropout(p=0.1, inplace=False)\n",
       "              (act): NewGELUActivation()\n",
       "            )\n",
       "            (layer_norm): MT5LayerNorm()\n",
       "            (dropout): Dropout(p=0.1, inplace=False)\n",
       "          )\n",
       "        )\n",
       "      )\n",
       "      (1-7): 7 x MT5Block(\n",
       "        (layer): ModuleList(\n",
       "          (0): MT5LayerSelfAttention(\n",
       "            (SelfAttention): MT5Attention(\n",
       "              (q): Linear(in_features=512, out_features=384, bias=False)\n",
       "              (k): Linear(in_features=512, out_features=384, bias=False)\n",
       "              (v): Linear(in_features=512, out_features=384, bias=False)\n",
       "              (o): Linear(in_features=384, out_features=512, bias=False)\n",
       "            )\n",
       "            (layer_norm): MT5LayerNorm()\n",
       "            (dropout): Dropout(p=0.1, inplace=False)\n",
       "          )\n",
       "          (1): MT5LayerFF(\n",
       "            (DenseReluDense): MT5DenseGatedActDense(\n",
       "              (wi_0): Linear(in_features=512, out_features=1024, bias=False)\n",
       "              (wi_1): Linear(in_features=512, out_features=1024, bias=False)\n",
       "              (wo): Linear(in_features=1024, out_features=512, bias=False)\n",
       "              (dropout): Dropout(p=0.1, inplace=False)\n",
       "              (act): NewGELUActivation()\n",
       "            )\n",
       "            (layer_norm): MT5LayerNorm()\n",
       "            (dropout): Dropout(p=0.1, inplace=False)\n",
       "          )\n",
       "        )\n",
       "      )\n",
       "    )\n",
       "    (final_layer_norm): MT5LayerNorm()\n",
       "    (dropout): Dropout(p=0.1, inplace=False)\n",
       "  )\n",
       "  (decoder): MT5Stack(\n",
       "    (embed_tokens): Embedding(250112, 512)\n",
       "    (block): ModuleList(\n",
       "      (0): MT5Block(\n",
       "        (layer): ModuleList(\n",
       "          (0): MT5LayerSelfAttention(\n",
       "            (SelfAttention): MT5Attention(\n",
       "              (q): Linear(in_features=512, out_features=384, bias=False)\n",
       "              (k): Linear(in_features=512, out_features=384, bias=False)\n",
       "              (v): Linear(in_features=512, out_features=384, bias=False)\n",
       "              (o): Linear(in_features=384, out_features=512, bias=False)\n",
       "              (relative_attention_bias): Embedding(32, 6)\n",
       "            )\n",
       "            (layer_norm): MT5LayerNorm()\n",
       "            (dropout): Dropout(p=0.1, inplace=False)\n",
       "          )\n",
       "          (1): MT5LayerCrossAttention(\n",
       "            (EncDecAttention): MT5Attention(\n",
       "              (q): Linear(in_features=512, out_features=384, bias=False)\n",
       "              (k): Linear(in_features=512, out_features=384, bias=False)\n",
       "              (v): Linear(in_features=512, out_features=384, bias=False)\n",
       "              (o): Linear(in_features=384, out_features=512, bias=False)\n",
       "            )\n",
       "            (layer_norm): MT5LayerNorm()\n",
       "            (dropout): Dropout(p=0.1, inplace=False)\n",
       "          )\n",
       "          (2): MT5LayerFF(\n",
       "            (DenseReluDense): MT5DenseGatedActDense(\n",
       "              (wi_0): Linear(in_features=512, out_features=1024, bias=False)\n",
       "              (wi_1): Linear(in_features=512, out_features=1024, bias=False)\n",
       "              (wo): Linear(in_features=1024, out_features=512, bias=False)\n",
       "              (dropout): Dropout(p=0.1, inplace=False)\n",
       "              (act): NewGELUActivation()\n",
       "            )\n",
       "            (layer_norm): MT5LayerNorm()\n",
       "            (dropout): Dropout(p=0.1, inplace=False)\n",
       "          )\n",
       "        )\n",
       "      )\n",
       "      (1-7): 7 x MT5Block(\n",
       "        (layer): ModuleList(\n",
       "          (0): MT5LayerSelfAttention(\n",
       "            (SelfAttention): MT5Attention(\n",
       "              (q): Linear(in_features=512, out_features=384, bias=False)\n",
       "              (k): Linear(in_features=512, out_features=384, bias=False)\n",
       "              (v): Linear(in_features=512, out_features=384, bias=False)\n",
       "              (o): Linear(in_features=384, out_features=512, bias=False)\n",
       "            )\n",
       "            (layer_norm): MT5LayerNorm()\n",
       "            (dropout): Dropout(p=0.1, inplace=False)\n",
       "          )\n",
       "          (1): MT5LayerCrossAttention(\n",
       "            (EncDecAttention): MT5Attention(\n",
       "              (q): Linear(in_features=512, out_features=384, bias=False)\n",
       "              (k): Linear(in_features=512, out_features=384, bias=False)\n",
       "              (v): Linear(in_features=512, out_features=384, bias=False)\n",
       "              (o): Linear(in_features=384, out_features=512, bias=False)\n",
       "            )\n",
       "            (layer_norm): MT5LayerNorm()\n",
       "            (dropout): Dropout(p=0.1, inplace=False)\n",
       "          )\n",
       "          (2): MT5LayerFF(\n",
       "            (DenseReluDense): MT5DenseGatedActDense(\n",
       "              (wi_0): Linear(in_features=512, out_features=1024, bias=False)\n",
       "              (wi_1): Linear(in_features=512, out_features=1024, bias=False)\n",
       "              (wo): Linear(in_features=1024, out_features=512, bias=False)\n",
       "              (dropout): Dropout(p=0.1, inplace=False)\n",
       "              (act): NewGELUActivation()\n",
       "            )\n",
       "            (layer_norm): MT5LayerNorm()\n",
       "            (dropout): Dropout(p=0.1, inplace=False)\n",
       "          )\n",
       "        )\n",
       "      )\n",
       "    )\n",
       "    (final_layer_norm): MT5LayerNorm()\n",
       "    (dropout): Dropout(p=0.1, inplace=False)\n",
       "  )\n",
       "  (lm_head): Linear(in_features=512, out_features=250112, bias=False)\n",
       ")"
      ]
     },
     "execution_count": 28,
     "metadata": {},
     "output_type": "execute_result"
    }
   ],
   "source": [
    "# Later, to load the model back\n",
    "loaded_model = joblib.load('/kaggle/working/model.pkl')\n",
    "loaded_model"
   ]
  },
  {
   "cell_type": "code",
   "execution_count": 29,
   "id": "900e9e20",
   "metadata": {
    "execution": {
     "iopub.execute_input": "2023-10-17T18:52:26.923457Z",
     "iopub.status.busy": "2023-10-17T18:52:26.923067Z",
     "iopub.status.idle": "2023-10-17T18:52:28.578916Z",
     "shell.execute_reply": "2023-10-17T18:52:28.577933Z"
    },
    "papermill": {
     "duration": 1.671049,
     "end_time": "2023-10-17T18:52:28.581157",
     "exception": false,
     "start_time": "2023-10-17T18:52:26.910108",
     "status": "completed"
    },
    "tags": []
   },
   "outputs": [],
   "source": [
    "from transformers import pipeline\n",
    "\n",
    "pipe = pipeline(\"text2text-generation\", model=loaded_model,tokenizer=tokenizer, device=0)"
   ]
  },
  {
   "cell_type": "code",
   "execution_count": 30,
   "id": "fc8090bc",
   "metadata": {
    "execution": {
     "iopub.execute_input": "2023-10-17T18:52:28.614371Z",
     "iopub.status.busy": "2023-10-17T18:52:28.614013Z",
     "iopub.status.idle": "2023-10-17T18:52:30.087242Z",
     "shell.execute_reply": "2023-10-17T18:52:30.086166Z"
    },
    "papermill": {
     "duration": 1.493867,
     "end_time": "2023-10-17T18:52:30.089984",
     "exception": false,
     "start_time": "2023-10-17T18:52:28.596117",
     "status": "completed"
    },
    "tags": []
   },
   "outputs": [
    {
     "name": "stdout",
     "output_type": "stream",
     "text": [
      "[{'generated_text': 'ɐmɪ t̪omɐke bɦɐlobɐʃɪ ken।'}]\n"
     ]
    }
   ],
   "source": [
    "texts = \"সুন্দর সুন্দরমনা আমি তোমাকে ভালবাসি।\"\n",
    "texts = \"বিশেষ অতিথি এফএম ইকবাল বিন আনোয়ার (ডন) অ্যাডিশনাল ডাইরেক্টরগেমস অ্যান্ড স্পোর্টস ডিপার্টমেন্ট ওয়ালটন।\"\n",
    "texts = 'আমি তোমাকে ভালোবাসি কেমন।'\n",
    "ipas = pipe(texts, max_length=128, batch_size=16)\n",
    "print(ipas)"
   ]
  },
  {
   "cell_type": "code",
   "execution_count": 31,
   "id": "fcf28acf",
   "metadata": {
    "execution": {
     "iopub.execute_input": "2023-10-17T18:52:30.141457Z",
     "iopub.status.busy": "2023-10-17T18:52:30.140918Z",
     "iopub.status.idle": "2023-10-17T18:52:30.146868Z",
     "shell.execute_reply": "2023-10-17T18:52:30.145982Z"
    },
    "papermill": {
     "duration": 0.035606,
     "end_time": "2023-10-17T18:52:30.150560",
     "exception": false,
     "start_time": "2023-10-17T18:52:30.114954",
     "status": "completed"
    },
    "tags": []
   },
   "outputs": [],
   "source": [
    "def calculate_ipa(txt):\n",
    "    '''\n",
    "    Pass\n",
    "    '''\n",
    "    ipas = pipe(txt, max_length=128, batch_size=16)\n",
    "    return ipas[0]['generated_text']\n"
   ]
  },
  {
   "cell_type": "markdown",
   "id": "7aa1463b",
   "metadata": {
    "papermill": {
     "duration": 0.025763,
     "end_time": "2023-10-17T18:52:30.203812",
     "exception": false,
     "start_time": "2023-10-17T18:52:30.178049",
     "status": "completed"
    },
    "tags": []
   },
   "source": [
    "## Now time to test the model"
   ]
  },
  {
   "cell_type": "code",
   "execution_count": 32,
   "id": "0e94aee7",
   "metadata": {
    "execution": {
     "iopub.execute_input": "2023-10-17T18:52:30.250518Z",
     "iopub.status.busy": "2023-10-17T18:52:30.249720Z",
     "iopub.status.idle": "2023-10-17T18:52:30.259527Z",
     "shell.execute_reply": "2023-10-17T18:52:30.258316Z"
    },
    "papermill": {
     "duration": 0.034962,
     "end_time": "2023-10-17T18:52:30.261486",
     "exception": false,
     "start_time": "2023-10-17T18:52:30.226524",
     "status": "completed"
    },
    "tags": []
   },
   "outputs": [
    {
     "data": {
      "text/plain": [
       "2300"
      ]
     },
     "execution_count": 32,
     "metadata": {},
     "output_type": "execute_result"
    }
   ],
   "source": [
    "len(val_df)"
   ]
  },
  {
   "cell_type": "code",
   "execution_count": 33,
   "id": "1b24bf72",
   "metadata": {
    "execution": {
     "iopub.execute_input": "2023-10-17T18:52:30.315413Z",
     "iopub.status.busy": "2023-10-17T18:52:30.314920Z",
     "iopub.status.idle": "2023-10-17T18:52:30.332744Z",
     "shell.execute_reply": "2023-10-17T18:52:30.331800Z"
    },
    "papermill": {
     "duration": 0.048171,
     "end_time": "2023-10-17T18:52:30.335255",
     "exception": false,
     "start_time": "2023-10-17T18:52:30.287084",
     "status": "completed"
    },
    "tags": []
   },
   "outputs": [
    {
     "data": {
      "text/html": [
       "<div>\n",
       "<style scoped>\n",
       "    .dataframe tbody tr th:only-of-type {\n",
       "        vertical-align: middle;\n",
       "    }\n",
       "\n",
       "    .dataframe tbody tr th {\n",
       "        vertical-align: top;\n",
       "    }\n",
       "\n",
       "    .dataframe thead th {\n",
       "        text-align: right;\n",
       "    }\n",
       "</style>\n",
       "<table border=\"1\" class=\"dataframe\">\n",
       "  <thead>\n",
       "    <tr style=\"text-align: right;\">\n",
       "      <th></th>\n",
       "      <th>text</th>\n",
       "      <th>ipa</th>\n",
       "    </tr>\n",
       "  </thead>\n",
       "  <tbody>\n",
       "    <tr>\n",
       "      <th>0</th>\n",
       "      <td>তিনি বলেন, ‘আমরা সবাই মানসিকভাবে ভেঙে পড়েছি।</td>\n",
       "      <td>t̪ɪnɪ bɔlen, ‘ɐmɾɐ ʃɔbɐɪ mɐnoʃɪkbʱɐbe bʱeŋe po...</td>\n",
       "    </tr>\n",
       "    <tr>\n",
       "      <th>1</th>\n",
       "      <td>এর উচিত জবাব জনগণ দেবেই।</td>\n",
       "      <td>eɾ ucɪt̪ ɟɔbɐb ɟɔngɔn d̪ebe͡ɪ̯।</td>\n",
       "    </tr>\n",
       "    <tr>\n",
       "      <th>2</th>\n",
       "      <td>সমাবেশ থেকে ঘোষণা করা হয়েছে, আগামীকাল সোমবার জ...</td>\n",
       "      <td>ʃɔmɐbeʃ t̪ʰeke gʱoʃonɐ kɔɾɐ hoʲecʰe, ɐgɐmɪkɐl ...</td>\n",
       "    </tr>\n",
       "  </tbody>\n",
       "</table>\n",
       "</div>"
      ],
      "text/plain": [
       "                                                text  \\\n",
       "0       তিনি বলেন, ‘আমরা সবাই মানসিকভাবে ভেঙে পড়েছি।   \n",
       "1                           এর উচিত জবাব জনগণ দেবেই।   \n",
       "2  সমাবেশ থেকে ঘোষণা করা হয়েছে, আগামীকাল সোমবার জ...   \n",
       "\n",
       "                                                 ipa  \n",
       "0  t̪ɪnɪ bɔlen, ‘ɐmɾɐ ʃɔbɐɪ mɐnoʃɪkbʱɐbe bʱeŋe po...  \n",
       "1                    eɾ ucɪt̪ ɟɔbɐb ɟɔngɔn d̪ebe͡ɪ̯।  \n",
       "2  ʃɔmɐbeʃ t̪ʰeke gʱoʃonɐ kɔɾɐ hoʲecʰe, ɐgɐmɪkɐl ...  "
      ]
     },
     "execution_count": 33,
     "metadata": {},
     "output_type": "execute_result"
    }
   ],
   "source": [
    "# pd.set_option('display.max_colwidth', None)\n",
    "val_df.head(3)"
   ]
  },
  {
   "cell_type": "code",
   "execution_count": 34,
   "id": "5f05d2bc",
   "metadata": {
    "execution": {
     "iopub.execute_input": "2023-10-17T18:52:30.395617Z",
     "iopub.status.busy": "2023-10-17T18:52:30.395083Z",
     "iopub.status.idle": "2023-10-17T18:52:30.410676Z",
     "shell.execute_reply": "2023-10-17T18:52:30.409665Z"
    },
    "papermill": {
     "duration": 0.050658,
     "end_time": "2023-10-17T18:52:30.413560",
     "exception": false,
     "start_time": "2023-10-17T18:52:30.362902",
     "status": "completed"
    },
    "tags": []
   },
   "outputs": [
    {
     "data": {
      "text/html": [
       "<div>\n",
       "<style scoped>\n",
       "    .dataframe tbody tr th:only-of-type {\n",
       "        vertical-align: middle;\n",
       "    }\n",
       "\n",
       "    .dataframe tbody tr th {\n",
       "        vertical-align: top;\n",
       "    }\n",
       "\n",
       "    .dataframe thead th {\n",
       "        text-align: right;\n",
       "    }\n",
       "</style>\n",
       "<table border=\"1\" class=\"dataframe\">\n",
       "  <thead>\n",
       "    <tr style=\"text-align: right;\">\n",
       "      <th></th>\n",
       "      <th>text</th>\n",
       "      <th>ipa</th>\n",
       "    </tr>\n",
       "  </thead>\n",
       "  <tbody>\n",
       "    <tr>\n",
       "      <th>0</th>\n",
       "      <td>তিনি বলেন, ‘আমরা সবাই মানসিকভাবে ভেঙে পড়েছি।</td>\n",
       "      <td>t̪ɪnɪ bɔlen, ‘ɐmɾɐ ʃɔbɐɪ mɐnoʃɪkbʱɐbe bʱeŋe po...</td>\n",
       "    </tr>\n",
       "    <tr>\n",
       "      <th>1</th>\n",
       "      <td>এর উচিত জবাব জনগণ দেবেই।</td>\n",
       "      <td>eɾ ucɪt̪ ɟɔbɐb ɟɔngɔn d̪ebe͡ɪ̯।</td>\n",
       "    </tr>\n",
       "  </tbody>\n",
       "</table>\n",
       "</div>"
      ],
      "text/plain": [
       "                                           text  \\\n",
       "0  তিনি বলেন, ‘আমরা সবাই মানসিকভাবে ভেঙে পড়েছি।   \n",
       "1                      এর উচিত জবাব জনগণ দেবেই।   \n",
       "\n",
       "                                                 ipa  \n",
       "0  t̪ɪnɪ bɔlen, ‘ɐmɾɐ ʃɔbɐɪ mɐnoʃɪkbʱɐbe bʱeŋe po...  \n",
       "1                    eɾ ucɪt̪ ɟɔbɐb ɟɔngɔn d̪ebe͡ɪ̯।  "
      ]
     },
     "execution_count": 34,
     "metadata": {},
     "output_type": "execute_result"
    }
   ],
   "source": [
    "val_df.head(2)"
   ]
  },
  {
   "cell_type": "code",
   "execution_count": 35,
   "id": "4c0ec3aa",
   "metadata": {
    "execution": {
     "iopub.execute_input": "2023-10-17T18:52:30.486601Z",
     "iopub.status.busy": "2023-10-17T18:52:30.486125Z",
     "iopub.status.idle": "2023-10-17T18:52:30.503516Z",
     "shell.execute_reply": "2023-10-17T18:52:30.502519Z"
    },
    "papermill": {
     "duration": 0.049405,
     "end_time": "2023-10-17T18:52:30.506467",
     "exception": false,
     "start_time": "2023-10-17T18:52:30.457062",
     "status": "completed"
    },
    "tags": []
   },
   "outputs": [
    {
     "data": {
      "text/plain": [
       "['তিনি বলেন, ‘আমরা সবাই মানসিকভাবে ভেঙে পড়েছি।',\n",
       " 'এর উচিত জবাব জনগণ দেবেই।',\n",
       " 'সমাবেশ থেকে ঘোষণা করা হয়েছে, আগামীকাল সোমবার জেলা শিক্ষক সমিতির আয়োজনে বিক্ষোভ ও সমাবেশ অনুষ্ঠিত হবে।',\n",
       " 'টুর্নামেন্টের সেরা খেলোয়াড় নির্বাচিত হন পাবনা জেলার রেহানা খাতুন।']"
      ]
     },
     "execution_count": 35,
     "metadata": {},
     "output_type": "execute_result"
    }
   ],
   "source": [
    "tests = val_df.text.to_list()\n",
    "trues = val_df.ipa.to_list()\n",
    "tests[:4]"
   ]
  },
  {
   "cell_type": "code",
   "execution_count": 36,
   "id": "a4d0d197",
   "metadata": {
    "execution": {
     "iopub.execute_input": "2023-10-17T18:52:30.588131Z",
     "iopub.status.busy": "2023-10-17T18:52:30.587678Z",
     "iopub.status.idle": "2023-10-17T18:52:31.451615Z",
     "shell.execute_reply": "2023-10-17T18:52:31.450330Z"
    },
    "papermill": {
     "duration": 0.898183,
     "end_time": "2023-10-17T18:52:31.453599",
     "exception": false,
     "start_time": "2023-10-17T18:52:30.555416",
     "status": "completed"
    },
    "tags": []
   },
   "outputs": [
    {
     "name": "stdout",
     "output_type": "stream",
     "text": [
      "Prediction:  t̪ɪnɪ bɔlen, ‘ɐmɾɐ ʃɔbɐɪ mɐnoʃɪkbɦɐbe bɦeŋe poɽechɪ। \n",
      "True:  t̪ɪnɪ bɔlen, ‘ɐmɾɐ ʃɔbɐɪ mɐnoʃɪkbʱɐbe bʱeŋe poɽecʰɪ। \n",
      "Text:  তিনি বলেন, ‘আমরা সবাই মানসিকভাবে ভেঙে পড়েছি।\n"
     ]
    }
   ],
   "source": [
    "index = 0\n",
    "print('Prediction: ', calculate_ipa(tests[index]))\n",
    "print('True: ', trues[index])\n",
    "print('Text: ', tests[index])"
   ]
  },
  {
   "cell_type": "code",
   "execution_count": 37,
   "id": "61d4f997",
   "metadata": {
    "execution": {
     "iopub.execute_input": "2023-10-17T18:52:31.481783Z",
     "iopub.status.busy": "2023-10-17T18:52:31.480963Z",
     "iopub.status.idle": "2023-10-17T18:52:31.487454Z",
     "shell.execute_reply": "2023-10-17T18:52:31.486362Z"
    },
    "papermill": {
     "duration": 0.021919,
     "end_time": "2023-10-17T18:52:31.489262",
     "exception": false,
     "start_time": "2023-10-17T18:52:31.467343",
     "status": "completed"
    },
    "tags": []
   },
   "outputs": [
    {
     "data": {
      "text/plain": [
       "27228"
      ]
     },
     "execution_count": 37,
     "metadata": {},
     "output_type": "execute_result"
    }
   ],
   "source": [
    "len(test_df)"
   ]
  },
  {
   "cell_type": "code",
   "execution_count": 38,
   "id": "973d0d62",
   "metadata": {
    "execution": {
     "iopub.execute_input": "2023-10-17T18:52:31.516953Z",
     "iopub.status.busy": "2023-10-17T18:52:31.516618Z",
     "iopub.status.idle": "2023-10-17T18:52:31.525273Z",
     "shell.execute_reply": "2023-10-17T18:52:31.524358Z"
    },
    "papermill": {
     "duration": 0.024897,
     "end_time": "2023-10-17T18:52:31.527080",
     "exception": false,
     "start_time": "2023-10-17T18:52:31.502183",
     "status": "completed"
    },
    "tags": []
   },
   "outputs": [
    {
     "data": {
      "text/html": [
       "<div>\n",
       "<style scoped>\n",
       "    .dataframe tbody tr th:only-of-type {\n",
       "        vertical-align: middle;\n",
       "    }\n",
       "\n",
       "    .dataframe tbody tr th {\n",
       "        vertical-align: top;\n",
       "    }\n",
       "\n",
       "    .dataframe thead th {\n",
       "        text-align: right;\n",
       "    }\n",
       "</style>\n",
       "<table border=\"1\" class=\"dataframe\">\n",
       "  <thead>\n",
       "    <tr style=\"text-align: right;\">\n",
       "      <th></th>\n",
       "      <th>row_id_column_name</th>\n",
       "      <th>text</th>\n",
       "    </tr>\n",
       "  </thead>\n",
       "  <tbody>\n",
       "    <tr>\n",
       "      <th>0</th>\n",
       "      <td>0</td>\n",
       "      <td>বিশেষ অতিথি এফএম ইকবাল বিন আনোয়ার ডন অ্যাডিশনা...</td>\n",
       "    </tr>\n",
       "    <tr>\n",
       "      <th>1</th>\n",
       "      <td>1</td>\n",
       "      <td>এ নিয়ে বিবাদে  সালের  জুন রাত সাড়ে টায় চাচা সু...</td>\n",
       "    </tr>\n",
       "  </tbody>\n",
       "</table>\n",
       "</div>"
      ],
      "text/plain": [
       "   row_id_column_name                                               text\n",
       "0                   0  বিশেষ অতিথি এফএম ইকবাল বিন আনোয়ার ডন অ্যাডিশনা...\n",
       "1                   1  এ নিয়ে বিবাদে  সালের  জুন রাত সাড়ে টায় চাচা সু..."
      ]
     },
     "execution_count": 38,
     "metadata": {},
     "output_type": "execute_result"
    }
   ],
   "source": [
    "test_df.head(2)"
   ]
  },
  {
   "cell_type": "code",
   "execution_count": 39,
   "id": "26e83486",
   "metadata": {
    "execution": {
     "iopub.execute_input": "2023-10-17T18:52:31.555650Z",
     "iopub.status.busy": "2023-10-17T18:52:31.555328Z",
     "iopub.status.idle": "2023-10-17T18:52:31.643626Z",
     "shell.execute_reply": "2023-10-17T18:52:31.642323Z"
    },
    "papermill": {
     "duration": 0.105148,
     "end_time": "2023-10-17T18:52:31.645931",
     "exception": false,
     "start_time": "2023-10-17T18:52:31.540783",
     "status": "completed"
    },
    "tags": []
   },
   "outputs": [
    {
     "name": "stdout",
     "output_type": "stream",
     "text": [
      "Length of the Df = (0, 2)\n"
     ]
    }
   ],
   "source": [
    "\n",
    "# test_df[\"text\"] = test_df[\"text\"].str.replace([A-Za-z0-9০-৯], \"\", regex=True)\n",
    "# Filtering text samples that contain English alphanumeric values\n",
    "filtered_train = test_df[lambda x: x[\"text\"].str.contains(\"[A-Za-z0-9০-৯]\")]\n",
    "\n",
    "print(f'Length of the Df = {filtered_train.shape}')\n",
    "# filtered_train.head(2)"
   ]
  },
  {
   "cell_type": "code",
   "execution_count": 40,
   "id": "23010519",
   "metadata": {
    "execution": {
     "iopub.execute_input": "2023-10-17T18:52:31.678540Z",
     "iopub.status.busy": "2023-10-17T18:52:31.678122Z",
     "iopub.status.idle": "2023-10-17T18:52:35.007055Z",
     "shell.execute_reply": "2023-10-17T18:52:35.006082Z"
    },
    "papermill": {
     "duration": 3.347565,
     "end_time": "2023-10-17T18:52:35.009010",
     "exception": false,
     "start_time": "2023-10-17T18:52:31.661445",
     "status": "completed"
    },
    "tags": []
   },
   "outputs": [
    {
     "name": "stderr",
     "output_type": "stream",
     "text": [
      "100%|██████████| 4/4 [00:03<00:00,  1.21it/s]\n"
     ]
    }
   ],
   "source": [
    "texts = test_df[\"text\"].tolist()\n",
    "ipas = []\n",
    "for text in tqdm(texts[:4]):\n",
    "    ipa_output = pipe(text, max_length=128, batch_size=16)\n",
    "    ipas.append(ipa_output)"
   ]
  },
  {
   "cell_type": "code",
   "execution_count": 41,
   "id": "59f32651",
   "metadata": {
    "execution": {
     "iopub.execute_input": "2023-10-17T18:52:35.042838Z",
     "iopub.status.busy": "2023-10-17T18:52:35.041932Z",
     "iopub.status.idle": "2023-10-17T18:52:35.048467Z",
     "shell.execute_reply": "2023-10-17T18:52:35.047506Z"
    },
    "papermill": {
     "duration": 0.026637,
     "end_time": "2023-10-17T18:52:35.050404",
     "exception": false,
     "start_time": "2023-10-17T18:52:35.023767",
     "status": "completed"
    },
    "tags": []
   },
   "outputs": [
    {
     "data": {
      "text/plain": [
       "[[{'generated_text': 'bɪʃeʃ ot̪ɪt̪hɪ ephem ɪkbɐl bɪn ɐnowɐɾ dɔn ɛdɪʃonɐl dɐɪ̯ɾektɔɾgemɔʃ ɛnd spoɾts dɪpɐɾtment dɪpɐɾtment owɐltɔn।'}],\n",
       " [{'generated_text': 'e nɪje bɪbɐd̪e ʃɐleɾ ɟun ɾɐt̪ ʃɐɽe tɐe̯ cɐcɐ ʃuʃɪl d̪ɐʃke kupɪje ɟɔkhom koɾe ʃe।'}],\n",
       " [{'generated_text': 'ɐɟ t̪heke bɔchoɾ ɐge t̪ɪnɪ cɔle gɛchen nɐ pheɾɐɾ d̪eʃe।'}],\n",
       " [{'generated_text': 'nɪhɔt̪o bɛkt̪ɪ kut̪pɐloŋ tɐleɾ ɪ- blekeɾ ɐbul bɐched̪ ।'}]]"
      ]
     },
     "execution_count": 41,
     "metadata": {},
     "output_type": "execute_result"
    }
   ],
   "source": [
    "ipas"
   ]
  },
  {
   "cell_type": "code",
   "execution_count": 42,
   "id": "06175dfc",
   "metadata": {
    "execution": {
     "iopub.execute_input": "2023-10-17T18:52:35.081198Z",
     "iopub.status.busy": "2023-10-17T18:52:35.080806Z",
     "iopub.status.idle": "2023-10-17T19:39:47.922716Z",
     "shell.execute_reply": "2023-10-17T19:39:47.921651Z"
    },
    "papermill": {
     "duration": 2832.859727,
     "end_time": "2023-10-17T19:39:47.924679",
     "exception": false,
     "start_time": "2023-10-17T18:52:35.064952",
     "status": "completed"
    },
    "tags": []
   },
   "outputs": [
    {
     "name": "stderr",
     "output_type": "stream",
     "text": [
      "100%|██████████| 27228/27228 [00:00<00:00, 1122924.15it/s]"
     ]
    },
    {
     "name": "stdout",
     "output_type": "stream",
     "text": [
      "CPU times: user 47min 6s, sys: 2.34 s, total: 47min 8s\n",
      "Wall time: 47min 12s\n"
     ]
    },
    {
     "name": "stderr",
     "output_type": "stream",
     "text": [
      "\n"
     ]
    },
    {
     "data": {
      "text/html": [
       "<div>\n",
       "<style scoped>\n",
       "    .dataframe tbody tr th:only-of-type {\n",
       "        vertical-align: middle;\n",
       "    }\n",
       "\n",
       "    .dataframe tbody tr th {\n",
       "        vertical-align: top;\n",
       "    }\n",
       "\n",
       "    .dataframe thead th {\n",
       "        text-align: right;\n",
       "    }\n",
       "</style>\n",
       "<table border=\"1\" class=\"dataframe\">\n",
       "  <thead>\n",
       "    <tr style=\"text-align: right;\">\n",
       "      <th></th>\n",
       "      <th>row_id_column_name</th>\n",
       "      <th>text</th>\n",
       "      <th>ipa</th>\n",
       "    </tr>\n",
       "  </thead>\n",
       "  <tbody>\n",
       "    <tr>\n",
       "      <th>0</th>\n",
       "      <td>0</td>\n",
       "      <td>বিশেষ অতিথি এফএম ইকবাল বিন আনোয়ার ডন অ্যাডিশনা...</td>\n",
       "      <td>bɪʃeʃ ot̪ɪt̪hɪ bɔe̯m ɪkbɐl bɪn ɐnowɐɾ dɔn ɛdɪʃ...</td>\n",
       "    </tr>\n",
       "    <tr>\n",
       "      <th>1</th>\n",
       "      <td>1</td>\n",
       "      <td>এ নিয়ে বিবাদে  সালের  জুন রাত সাড়ে টায় চাচা সু...</td>\n",
       "      <td>e nɪje bɪbɐd̪e sɐleɾ ɟun ɾɐt̪ ʃɐɽe tɐe̯ cɐcɐ s...</td>\n",
       "    </tr>\n",
       "    <tr>\n",
       "      <th>2</th>\n",
       "      <td>2</td>\n",
       "      <td>আজ থেকে  বছর আগে তিনি চলে গেছেন না ফেরার দেশে।</td>\n",
       "      <td>ɐɟ t̪heke bɔchoɾ ɐge t̪ɪnɪ cɔle gɛchen nɐ pheɾ...</td>\n",
       "    </tr>\n",
       "    <tr>\n",
       "      <th>3</th>\n",
       "      <td>3</td>\n",
       "      <td>নিহত ব্যক্তি কুতপালং টালের ই- ব্লকের আবুল বাছেদ ।</td>\n",
       "      <td>nɪhɔt̪o bɛkt̪ɪ kut̪pɐlɔŋ tɐleɾ ɪ- skeɾ ɐbul bɐ...</td>\n",
       "    </tr>\n",
       "    <tr>\n",
       "      <th>4</th>\n",
       "      <td>4</td>\n",
       "      <td>সংক্ষিপ্ত স্কোরশ্রীলংকা প্রথম ইনিংস  করুনারত্ন...</td>\n",
       "      <td>ʃɔŋkkhɪpt̪o skoɾsɾɪlɔŋkɐ pɾot̪hom ɪnɪŋʃo kɔɾun...</td>\n",
       "    </tr>\n",
       "  </tbody>\n",
       "</table>\n",
       "</div>"
      ],
      "text/plain": [
       "   row_id_column_name                                               text  \\\n",
       "0                   0  বিশেষ অতিথি এফএম ইকবাল বিন আনোয়ার ডন অ্যাডিশনা...   \n",
       "1                   1  এ নিয়ে বিবাদে  সালের  জুন রাত সাড়ে টায় চাচা সু...   \n",
       "2                   2     আজ থেকে  বছর আগে তিনি চলে গেছেন না ফেরার দেশে।   \n",
       "3                   3  নিহত ব্যক্তি কুতপালং টালের ই- ব্লকের আবুল বাছেদ ।   \n",
       "4                   4  সংক্ষিপ্ত স্কোরশ্রীলংকা প্রথম ইনিংস  করুনারত্ন...   \n",
       "\n",
       "                                                 ipa  \n",
       "0  bɪʃeʃ ot̪ɪt̪hɪ bɔe̯m ɪkbɐl bɪn ɐnowɐɾ dɔn ɛdɪʃ...  \n",
       "1  e nɪje bɪbɐd̪e sɐleɾ ɟun ɾɐt̪ ʃɐɽe tɐe̯ cɐcɐ s...  \n",
       "2  ɐɟ t̪heke bɔchoɾ ɐge t̪ɪnɪ cɔle gɛchen nɐ pheɾ...  \n",
       "3  nɪhɔt̪o bɛkt̪ɪ kut̪pɐlɔŋ tɐleɾ ɪ- skeɾ ɐbul bɐ...  \n",
       "4  ʃɔŋkkhɪpt̪o skoɾsɾɪlɔŋkɐ pɾot̪hom ɪnɪŋʃo kɔɾun...  "
      ]
     },
     "execution_count": 42,
     "metadata": {},
     "output_type": "execute_result"
    }
   ],
   "source": [
    "%%time\n",
    "texts = test_df[\"text\"].tolist()\n",
    "ipas = tqdm(pipe(texts, max_length=128, batch_size=16))\n",
    "ipas = [ipa[\"generated_text\"] for ipa in ipas]\n",
    "\n",
    "test_df[\"ipa\"] = ipas\n",
    "test_df.head()"
   ]
  },
  {
   "cell_type": "code",
   "execution_count": 43,
   "id": "24ae2a54",
   "metadata": {
    "execution": {
     "iopub.execute_input": "2023-10-17T19:39:47.955097Z",
     "iopub.status.busy": "2023-10-17T19:39:47.954050Z",
     "iopub.status.idle": "2023-10-17T19:39:47.963877Z",
     "shell.execute_reply": "2023-10-17T19:39:47.962787Z"
    },
    "papermill": {
     "duration": 0.026162,
     "end_time": "2023-10-17T19:39:47.965733",
     "exception": false,
     "start_time": "2023-10-17T19:39:47.939571",
     "status": "completed"
    },
    "tags": []
   },
   "outputs": [
    {
     "data": {
      "text/html": [
       "<div>\n",
       "<style scoped>\n",
       "    .dataframe tbody tr th:only-of-type {\n",
       "        vertical-align: middle;\n",
       "    }\n",
       "\n",
       "    .dataframe tbody tr th {\n",
       "        vertical-align: top;\n",
       "    }\n",
       "\n",
       "    .dataframe thead th {\n",
       "        text-align: right;\n",
       "    }\n",
       "</style>\n",
       "<table border=\"1\" class=\"dataframe\">\n",
       "  <thead>\n",
       "    <tr style=\"text-align: right;\">\n",
       "      <th></th>\n",
       "      <th>row_id_column_name</th>\n",
       "      <th>text</th>\n",
       "      <th>ipa</th>\n",
       "    </tr>\n",
       "  </thead>\n",
       "  <tbody>\n",
       "    <tr>\n",
       "      <th>0</th>\n",
       "      <td>0</td>\n",
       "      <td>বিশেষ অতিথি এফএম ইকবাল বিন আনোয়ার ডন অ্যাডিশনা...</td>\n",
       "      <td>bɪʃeʃ ot̪ɪt̪hɪ bɔe̯m ɪkbɐl bɪn ɐnowɐɾ dɔn ɛdɪʃ...</td>\n",
       "    </tr>\n",
       "    <tr>\n",
       "      <th>1</th>\n",
       "      <td>1</td>\n",
       "      <td>এ নিয়ে বিবাদে  সালের  জুন রাত সাড়ে টায় চাচা সু...</td>\n",
       "      <td>e nɪje bɪbɐd̪e sɐleɾ ɟun ɾɐt̪ ʃɐɽe tɐe̯ cɐcɐ s...</td>\n",
       "    </tr>\n",
       "    <tr>\n",
       "      <th>2</th>\n",
       "      <td>2</td>\n",
       "      <td>আজ থেকে  বছর আগে তিনি চলে গেছেন না ফেরার দেশে।</td>\n",
       "      <td>ɐɟ t̪heke bɔchoɾ ɐge t̪ɪnɪ cɔle gɛchen nɐ pheɾ...</td>\n",
       "    </tr>\n",
       "  </tbody>\n",
       "</table>\n",
       "</div>"
      ],
      "text/plain": [
       "   row_id_column_name                                               text  \\\n",
       "0                   0  বিশেষ অতিথি এফএম ইকবাল বিন আনোয়ার ডন অ্যাডিশনা...   \n",
       "1                   1  এ নিয়ে বিবাদে  সালের  জুন রাত সাড়ে টায় চাচা সু...   \n",
       "2                   2     আজ থেকে  বছর আগে তিনি চলে গেছেন না ফেরার দেশে।   \n",
       "\n",
       "                                                 ipa  \n",
       "0  bɪʃeʃ ot̪ɪt̪hɪ bɔe̯m ɪkbɐl bɪn ɐnowɐɾ dɔn ɛdɪʃ...  \n",
       "1  e nɪje bɪbɐd̪e sɐleɾ ɟun ɾɐt̪ ʃɐɽe tɐe̯ cɐcɐ s...  \n",
       "2  ɐɟ t̪heke bɔchoɾ ɐge t̪ɪnɪ cɔle gɛchen nɐ pheɾ...  "
      ]
     },
     "execution_count": 43,
     "metadata": {},
     "output_type": "execute_result"
    }
   ],
   "source": [
    "test_df.head(3)"
   ]
  },
  {
   "cell_type": "code",
   "execution_count": 44,
   "id": "de5d6c42",
   "metadata": {
    "execution": {
     "iopub.execute_input": "2023-10-17T19:39:47.995568Z",
     "iopub.status.busy": "2023-10-17T19:39:47.994901Z",
     "iopub.status.idle": "2023-10-17T19:39:48.001929Z",
     "shell.execute_reply": "2023-10-17T19:39:48.001007Z"
    },
    "papermill": {
     "duration": 0.02317,
     "end_time": "2023-10-17T19:39:48.003614",
     "exception": false,
     "start_time": "2023-10-17T19:39:47.980444",
     "status": "completed"
    },
    "tags": []
   },
   "outputs": [
    {
     "name": "stdout",
     "output_type": "stream",
     "text": [
      "bɪʃeʃ ot̪ɪt̪hɪ bɔe̯m ɪkbɐl bɪn ɐnowɐɾ dɔn ɛdɪʃonɐl dɐɪ̯ɾektɔɾgems ɛnd stɔɾtɔs dɪpɐɾtment dɔjɐlɔton।\n"
     ]
    },
    {
     "data": {
      "text/plain": [
       "'বিশেষ অতিথি এফএম ইকবাল বিন আনোয়ার ডন অ্যাডিশনাল ডাইরেক্টরগেমস অ্যান্ড স্পোর্টস ডিপার্টমেন্ট ওয়ালটন।'"
      ]
     },
     "execution_count": 44,
     "metadata": {},
     "output_type": "execute_result"
    }
   ],
   "source": [
    "print(test_df['ipa'][0])\n",
    "test_df['text'][0]"
   ]
  },
  {
   "cell_type": "code",
   "execution_count": 45,
   "id": "76f97bea",
   "metadata": {
    "execution": {
     "iopub.execute_input": "2023-10-17T19:39:48.032729Z",
     "iopub.status.busy": "2023-10-17T19:39:48.031884Z",
     "iopub.status.idle": "2023-10-17T19:39:48.378787Z",
     "shell.execute_reply": "2023-10-17T19:39:48.377539Z"
    },
    "papermill": {
     "duration": 0.36351,
     "end_time": "2023-10-17T19:39:48.381047",
     "exception": false,
     "start_time": "2023-10-17T19:39:48.017537",
     "status": "completed"
    },
    "tags": []
   },
   "outputs": [],
   "source": [
    "lenli = []\n",
    "for i in range(len(test_df)):\n",
    "    l1 = len(test_df['text'][i].split())\n",
    "    l2 = len(test_df['ipa'][i].split())\n",
    "    lenli.append([l1, l2])"
   ]
  },
  {
   "cell_type": "code",
   "execution_count": 46,
   "id": "8b7b3617",
   "metadata": {
    "execution": {
     "iopub.execute_input": "2023-10-17T19:39:48.412355Z",
     "iopub.status.busy": "2023-10-17T19:39:48.411491Z",
     "iopub.status.idle": "2023-10-17T19:39:48.421920Z",
     "shell.execute_reply": "2023-10-17T19:39:48.421015Z"
    },
    "papermill": {
     "duration": 0.027507,
     "end_time": "2023-10-17T19:39:48.423757",
     "exception": false,
     "start_time": "2023-10-17T19:39:48.396250",
     "status": "completed"
    },
    "tags": []
   },
   "outputs": [],
   "source": [
    "lenlisrt = sorted(lenli, key= lambda x:x[1])"
   ]
  },
  {
   "cell_type": "code",
   "execution_count": 47,
   "id": "be9e613b",
   "metadata": {
    "execution": {
     "iopub.execute_input": "2023-10-17T19:39:48.454030Z",
     "iopub.status.busy": "2023-10-17T19:39:48.453122Z",
     "iopub.status.idle": "2023-10-17T19:39:48.457757Z",
     "shell.execute_reply": "2023-10-17T19:39:48.456840Z"
    },
    "papermill": {
     "duration": 0.021173,
     "end_time": "2023-10-17T19:39:48.459495",
     "exception": false,
     "start_time": "2023-10-17T19:39:48.438322",
     "status": "completed"
    },
    "tags": []
   },
   "outputs": [],
   "source": [
    "# lenlisrt"
   ]
  },
  {
   "cell_type": "code",
   "execution_count": 48,
   "id": "6683b69f",
   "metadata": {
    "execution": {
     "iopub.execute_input": "2023-10-17T19:39:48.488207Z",
     "iopub.status.busy": "2023-10-17T19:39:48.487597Z",
     "iopub.status.idle": "2023-10-17T19:39:48.503998Z",
     "shell.execute_reply": "2023-10-17T19:39:48.502763Z"
    },
    "papermill": {
     "duration": 0.032901,
     "end_time": "2023-10-17T19:39:48.505884",
     "exception": false,
     "start_time": "2023-10-17T19:39:48.472983",
     "status": "completed"
    },
    "tags": []
   },
   "outputs": [
    {
     "name": "stdout",
     "output_type": "stream",
     "text": [
      "\n",
      "\n"
     ]
    }
   ],
   "source": [
    "for i in test_df['ipa']:\n",
    "    if len(i)<2:\n",
    "        print(i)"
   ]
  },
  {
   "cell_type": "code",
   "execution_count": null,
   "id": "463704d9",
   "metadata": {
    "papermill": {
     "duration": 0.014264,
     "end_time": "2023-10-17T19:39:48.534814",
     "exception": false,
     "start_time": "2023-10-17T19:39:48.520550",
     "status": "completed"
    },
    "tags": []
   },
   "outputs": [],
   "source": []
  },
  {
   "cell_type": "markdown",
   "id": "612b7d3d",
   "metadata": {
    "papermill": {
     "duration": 0.014382,
     "end_time": "2023-10-17T19:39:48.564009",
     "exception": false,
     "start_time": "2023-10-17T19:39:48.549627",
     "status": "completed"
    },
    "tags": []
   },
   "source": [
    "## Create a Submission File"
   ]
  },
  {
   "cell_type": "code",
   "execution_count": 49,
   "id": "fa47f82c",
   "metadata": {
    "execution": {
     "iopub.execute_input": "2023-10-17T19:39:48.594495Z",
     "iopub.status.busy": "2023-10-17T19:39:48.594071Z",
     "iopub.status.idle": "2023-10-17T19:39:48.608510Z",
     "shell.execute_reply": "2023-10-17T19:39:48.607324Z"
    },
    "papermill": {
     "duration": 0.031978,
     "end_time": "2023-10-17T19:39:48.610605",
     "exception": false,
     "start_time": "2023-10-17T19:39:48.578627",
     "status": "completed"
    },
    "tags": []
   },
   "outputs": [
    {
     "data": {
      "text/html": [
       "<div>\n",
       "<style scoped>\n",
       "    .dataframe tbody tr th:only-of-type {\n",
       "        vertical-align: middle;\n",
       "    }\n",
       "\n",
       "    .dataframe tbody tr th {\n",
       "        vertical-align: top;\n",
       "    }\n",
       "\n",
       "    .dataframe thead th {\n",
       "        text-align: right;\n",
       "    }\n",
       "</style>\n",
       "<table border=\"1\" class=\"dataframe\">\n",
       "  <thead>\n",
       "    <tr style=\"text-align: right;\">\n",
       "      <th></th>\n",
       "      <th>row_id_column_name</th>\n",
       "      <th>text</th>\n",
       "      <th>ipa</th>\n",
       "    </tr>\n",
       "  </thead>\n",
       "  <tbody>\n",
       "    <tr>\n",
       "      <th>0</th>\n",
       "      <td>0</td>\n",
       "      <td>বিশেষ অতিথি এফএম ইকবাল বিন আনোয়ার ডন অ্যাডিশনা...</td>\n",
       "      <td>bɪʃeʃ ot̪ɪt̪hɪ bɔe̯m ɪkbɐl bɪn ɐnowɐɾ dɔn ɛdɪʃ...</td>\n",
       "    </tr>\n",
       "    <tr>\n",
       "      <th>1</th>\n",
       "      <td>1</td>\n",
       "      <td>এ নিয়ে বিবাদে  সালের  জুন রাত সাড়ে টায় চাচা সু...</td>\n",
       "      <td>e nɪje bɪbɐd̪e sɐleɾ ɟun ɾɐt̪ ʃɐɽe tɐe̯ cɐcɐ s...</td>\n",
       "    </tr>\n",
       "  </tbody>\n",
       "</table>\n",
       "</div>"
      ],
      "text/plain": [
       "   row_id_column_name                                               text  \\\n",
       "0                   0  বিশেষ অতিথি এফএম ইকবাল বিন আনোয়ার ডন অ্যাডিশনা...   \n",
       "1                   1  এ নিয়ে বিবাদে  সালের  জুন রাত সাড়ে টায় চাচা সু...   \n",
       "\n",
       "                                                 ipa  \n",
       "0  bɪʃeʃ ot̪ɪt̪hɪ bɔe̯m ɪkbɐl bɪn ɐnowɐɾ dɔn ɛdɪʃ...  \n",
       "1  e nɪje bɪbɐd̪e sɐleɾ ɟun ɾɐt̪ ʃɐɽe tɐe̯ cɐcɐ s...  "
      ]
     },
     "execution_count": 49,
     "metadata": {},
     "output_type": "execute_result"
    }
   ],
   "source": [
    "sub_df = test_df.copy()\n",
    "# sub_df = sub_df.drop(['text'], axis=1)\n",
    "sub_df.head(2)"
   ]
  },
  {
   "cell_type": "code",
   "execution_count": 50,
   "id": "de5e7053",
   "metadata": {
    "execution": {
     "iopub.execute_input": "2023-10-17T19:39:48.644151Z",
     "iopub.status.busy": "2023-10-17T19:39:48.643125Z",
     "iopub.status.idle": "2023-10-17T19:39:48.851354Z",
     "shell.execute_reply": "2023-10-17T19:39:48.850334Z"
    },
    "papermill": {
     "duration": 0.226557,
     "end_time": "2023-10-17T19:39:48.853513",
     "exception": false,
     "start_time": "2023-10-17T19:39:48.626956",
     "status": "completed"
    },
    "tags": []
   },
   "outputs": [],
   "source": [
    "sub_df.to_csv(\"submission3.csv\", index=False)"
   ]
  },
  {
   "cell_type": "code",
   "execution_count": null,
   "id": "5f0bfc46",
   "metadata": {
    "papermill": {
     "duration": 0.013587,
     "end_time": "2023-10-17T19:39:48.882133",
     "exception": false,
     "start_time": "2023-10-17T19:39:48.868546",
     "status": "completed"
    },
    "tags": []
   },
   "outputs": [],
   "source": []
  }
 ],
 "metadata": {
  "kernelspec": {
   "display_name": "Python 3",
   "language": "python",
   "name": "python3"
  },
  "language_info": {
   "codemirror_mode": {
    "name": "ipython",
    "version": 3
   },
   "file_extension": ".py",
   "mimetype": "text/x-python",
   "name": "python",
   "nbconvert_exporter": "python",
   "pygments_lexer": "ipython3",
   "version": "3.10.12"
  },
  "papermill": {
   "default_parameters": {},
   "duration": 13667.215091,
   "end_time": "2023-10-17T19:39:52.716767",
   "environment_variables": {},
   "exception": null,
   "input_path": "__notebook__.ipynb",
   "output_path": "__notebook__.ipynb",
   "parameters": {},
   "start_time": "2023-10-17T15:52:05.501676",
   "version": "2.4.0"
  },
  "widgets": {
   "application/vnd.jupyter.widget-state+json": {
    "state": {
     "0338b758cf0d43e7be213c59a7d88bce": {
      "model_module": "@jupyter-widgets/controls",
      "model_module_version": "1.5.0",
      "model_name": "HBoxModel",
      "state": {
       "_dom_classes": [],
       "_model_module": "@jupyter-widgets/controls",
       "_model_module_version": "1.5.0",
       "_model_name": "HBoxModel",
       "_view_count": null,
       "_view_module": "@jupyter-widgets/controls",
       "_view_module_version": "1.5.0",
       "_view_name": "HBoxView",
       "box_style": "",
       "children": [
        "IPY_MODEL_417615fa758e4032b818d50dbe07f0b4",
        "IPY_MODEL_a9f0bd1b9eee4aa7be374e6884523e43",
        "IPY_MODEL_eb19fac84c044ad3bc06a8b8253c6585"
       ],
       "layout": "IPY_MODEL_5f6b9611775e4469a398f80bc5a1ab02"
      }
     },
     "04b43ba3b0204bdf8c70d258d35c3bc1": {
      "model_module": "@jupyter-widgets/controls",
      "model_module_version": "1.5.0",
      "model_name": "HBoxModel",
      "state": {
       "_dom_classes": [],
       "_model_module": "@jupyter-widgets/controls",
       "_model_module_version": "1.5.0",
       "_model_name": "HBoxModel",
       "_view_count": null,
       "_view_module": "@jupyter-widgets/controls",
       "_view_module_version": "1.5.0",
       "_view_name": "HBoxView",
       "box_style": "",
       "children": [
        "IPY_MODEL_b2344e1fd5f54649b1e574af1ad0df66",
        "IPY_MODEL_ad84e26e3dbd48b2959a1bc0f38584f1",
        "IPY_MODEL_64bbedc235af405fb4d5049a232d2782"
       ],
       "layout": "IPY_MODEL_96ad2f52702f48ea8a0123c13e3e39b5"
      }
     },
     "04d6725e34474a5e8b67217d12ebc920": {
      "model_module": "@jupyter-widgets/controls",
      "model_module_version": "1.5.0",
      "model_name": "HTMLModel",
      "state": {
       "_dom_classes": [],
       "_model_module": "@jupyter-widgets/controls",
       "_model_module_version": "1.5.0",
       "_model_name": "HTMLModel",
       "_view_count": null,
       "_view_module": "@jupyter-widgets/controls",
       "_view_module_version": "1.5.0",
       "_view_name": "HTMLView",
       "description": "",
       "description_tooltip": null,
       "layout": "IPY_MODEL_49800ab1220b446092cf21f7cc7179ec",
       "placeholder": "​",
       "style": "IPY_MODEL_b968d09cb3704568be7a7e16e6ffb15a",
       "value": " 82.0/82.0 [00:00&lt;00:00, 6.71kB/s]"
      }
     },
     "08a4bfda1b8745b095aa665183d289ce": {
      "model_module": "@jupyter-widgets/base",
      "model_module_version": "1.2.0",
      "model_name": "LayoutModel",
      "state": {
       "_model_module": "@jupyter-widgets/base",
       "_model_module_version": "1.2.0",
       "_model_name": "LayoutModel",
       "_view_count": null,
       "_view_module": "@jupyter-widgets/base",
       "_view_module_version": "1.2.0",
       "_view_name": "LayoutView",
       "align_content": null,
       "align_items": null,
       "align_self": null,
       "border": null,
       "bottom": null,
       "display": null,
       "flex": null,
       "flex_flow": null,
       "grid_area": null,
       "grid_auto_columns": null,
       "grid_auto_flow": null,
       "grid_auto_rows": null,
       "grid_column": null,
       "grid_gap": null,
       "grid_row": null,
       "grid_template_areas": null,
       "grid_template_columns": null,
       "grid_template_rows": null,
       "height": null,
       "justify_content": null,
       "justify_items": null,
       "left": null,
       "margin": null,
       "max_height": null,
       "max_width": null,
       "min_height": null,
       "min_width": null,
       "object_fit": null,
       "object_position": null,
       "order": null,
       "overflow": null,
       "overflow_x": null,
       "overflow_y": null,
       "padding": null,
       "right": null,
       "top": null,
       "visibility": null,
       "width": null
      }
     },
     "0c22f7f4543740cb8b17a79e95acf7aa": {
      "model_module": "@jupyter-widgets/base",
      "model_module_version": "1.2.0",
      "model_name": "LayoutModel",
      "state": {
       "_model_module": "@jupyter-widgets/base",
       "_model_module_version": "1.2.0",
       "_model_name": "LayoutModel",
       "_view_count": null,
       "_view_module": "@jupyter-widgets/base",
       "_view_module_version": "1.2.0",
       "_view_name": "LayoutView",
       "align_content": null,
       "align_items": null,
       "align_self": null,
       "border": null,
       "bottom": null,
       "display": null,
       "flex": null,
       "flex_flow": null,
       "grid_area": null,
       "grid_auto_columns": null,
       "grid_auto_flow": null,
       "grid_auto_rows": null,
       "grid_column": null,
       "grid_gap": null,
       "grid_row": null,
       "grid_template_areas": null,
       "grid_template_columns": null,
       "grid_template_rows": null,
       "height": null,
       "justify_content": null,
       "justify_items": null,
       "left": null,
       "margin": null,
       "max_height": null,
       "max_width": null,
       "min_height": null,
       "min_width": null,
       "object_fit": null,
       "object_position": null,
       "order": null,
       "overflow": null,
       "overflow_x": null,
       "overflow_y": null,
       "padding": null,
       "right": null,
       "top": null,
       "visibility": null,
       "width": null
      }
     },
     "0d31f3388b794c019b3b7cbb7bbfffc3": {
      "model_module": "@jupyter-widgets/controls",
      "model_module_version": "1.5.0",
      "model_name": "DescriptionStyleModel",
      "state": {
       "_model_module": "@jupyter-widgets/controls",
       "_model_module_version": "1.5.0",
       "_model_name": "DescriptionStyleModel",
       "_view_count": null,
       "_view_module": "@jupyter-widgets/base",
       "_view_module_version": "1.2.0",
       "_view_name": "StyleView",
       "description_width": ""
      }
     },
     "15b8bb4ef094486dbf88a9955ccdbd5d": {
      "model_module": "@jupyter-widgets/controls",
      "model_module_version": "1.5.0",
      "model_name": "DescriptionStyleModel",
      "state": {
       "_model_module": "@jupyter-widgets/controls",
       "_model_module_version": "1.5.0",
       "_model_name": "DescriptionStyleModel",
       "_view_count": null,
       "_view_module": "@jupyter-widgets/base",
       "_view_module_version": "1.2.0",
       "_view_name": "StyleView",
       "description_width": ""
      }
     },
     "16b47a049f344aeebb8ae462158af478": {
      "model_module": "@jupyter-widgets/controls",
      "model_module_version": "1.5.0",
      "model_name": "FloatProgressModel",
      "state": {
       "_dom_classes": [],
       "_model_module": "@jupyter-widgets/controls",
       "_model_module_version": "1.5.0",
       "_model_name": "FloatProgressModel",
       "_view_count": null,
       "_view_module": "@jupyter-widgets/controls",
       "_view_module_version": "1.5.0",
       "_view_name": "ProgressView",
       "bar_style": "success",
       "description": "",
       "description_tooltip": null,
       "layout": "IPY_MODEL_63bdaeb7c92a40b2bc8ce44c5338682d",
       "max": 147.0,
       "min": 0.0,
       "orientation": "horizontal",
       "style": "IPY_MODEL_acde6e8af2d8466b9577bf058c2fd27a",
       "value": 147.0
      }
     },
     "19de8ead35174ce9b0fb25dac4569408": {
      "model_module": "@jupyter-widgets/controls",
      "model_module_version": "1.5.0",
      "model_name": "FloatProgressModel",
      "state": {
       "_dom_classes": [],
       "_model_module": "@jupyter-widgets/controls",
       "_model_module_version": "1.5.0",
       "_model_name": "FloatProgressModel",
       "_view_count": null,
       "_view_module": "@jupyter-widgets/controls",
       "_view_module_version": "1.5.0",
       "_view_name": "ProgressView",
       "bar_style": "success",
       "description": "",
       "description_tooltip": null,
       "layout": "IPY_MODEL_6f0bb704ead64db88e7f4ba3c88b8193",
       "max": 553.0,
       "min": 0.0,
       "orientation": "horizontal",
       "style": "IPY_MODEL_b988101f999c47e5b3db8451b11448cf",
       "value": 553.0
      }
     },
     "1b39d6899fde45a290fc3b299a16787b": {
      "model_module": "@jupyter-widgets/base",
      "model_module_version": "1.2.0",
      "model_name": "LayoutModel",
      "state": {
       "_model_module": "@jupyter-widgets/base",
       "_model_module_version": "1.2.0",
       "_model_name": "LayoutModel",
       "_view_count": null,
       "_view_module": "@jupyter-widgets/base",
       "_view_module_version": "1.2.0",
       "_view_name": "LayoutView",
       "align_content": null,
       "align_items": null,
       "align_self": null,
       "border": null,
       "bottom": null,
       "display": null,
       "flex": null,
       "flex_flow": null,
       "grid_area": null,
       "grid_auto_columns": null,
       "grid_auto_flow": null,
       "grid_auto_rows": null,
       "grid_column": null,
       "grid_gap": null,
       "grid_row": null,
       "grid_template_areas": null,
       "grid_template_columns": null,
       "grid_template_rows": null,
       "height": null,
       "justify_content": null,
       "justify_items": null,
       "left": null,
       "margin": null,
       "max_height": null,
       "max_width": null,
       "min_height": null,
       "min_width": null,
       "object_fit": null,
       "object_position": null,
       "order": null,
       "overflow": null,
       "overflow_x": null,
       "overflow_y": null,
       "padding": null,
       "right": null,
       "top": null,
       "visibility": null,
       "width": null
      }
     },
     "1b926473809d49399fbfa10a3752884a": {
      "model_module": "@jupyter-widgets/controls",
      "model_module_version": "1.5.0",
      "model_name": "HBoxModel",
      "state": {
       "_dom_classes": [],
       "_model_module": "@jupyter-widgets/controls",
       "_model_module_version": "1.5.0",
       "_model_name": "HBoxModel",
       "_view_count": null,
       "_view_module": "@jupyter-widgets/controls",
       "_view_module_version": "1.5.0",
       "_view_name": "HBoxView",
       "box_style": "",
       "children": [
        "IPY_MODEL_d6bf156cdd4949f3b5244195ba0f51da",
        "IPY_MODEL_c685b20ed63547cdb5bcc9af775a7e93",
        "IPY_MODEL_04d6725e34474a5e8b67217d12ebc920"
       ],
       "layout": "IPY_MODEL_add4db86cc05433fb5290146bf4b69e8"
      }
     },
     "1d6adaa4f45f4e70abbd4c1070d7f913": {
      "model_module": "@jupyter-widgets/base",
      "model_module_version": "1.2.0",
      "model_name": "LayoutModel",
      "state": {
       "_model_module": "@jupyter-widgets/base",
       "_model_module_version": "1.2.0",
       "_model_name": "LayoutModel",
       "_view_count": null,
       "_view_module": "@jupyter-widgets/base",
       "_view_module_version": "1.2.0",
       "_view_name": "LayoutView",
       "align_content": null,
       "align_items": null,
       "align_self": null,
       "border": null,
       "bottom": null,
       "display": null,
       "flex": null,
       "flex_flow": null,
       "grid_area": null,
       "grid_auto_columns": null,
       "grid_auto_flow": null,
       "grid_auto_rows": null,
       "grid_column": null,
       "grid_gap": null,
       "grid_row": null,
       "grid_template_areas": null,
       "grid_template_columns": null,
       "grid_template_rows": null,
       "height": null,
       "justify_content": null,
       "justify_items": null,
       "left": null,
       "margin": null,
       "max_height": null,
       "max_width": null,
       "min_height": null,
       "min_width": null,
       "object_fit": null,
       "object_position": null,
       "order": null,
       "overflow": null,
       "overflow_x": null,
       "overflow_y": null,
       "padding": null,
       "right": null,
       "top": null,
       "visibility": null,
       "width": null
      }
     },
     "24c2e36feb5b461caca73b3e8b07ade5": {
      "model_module": "@jupyter-widgets/controls",
      "model_module_version": "1.5.0",
      "model_name": "HTMLModel",
      "state": {
       "_dom_classes": [],
       "_model_module": "@jupyter-widgets/controls",
       "_model_module_version": "1.5.0",
       "_model_name": "HTMLModel",
       "_view_count": null,
       "_view_module": "@jupyter-widgets/controls",
       "_view_module_version": "1.5.0",
       "_view_name": "HTMLView",
       "description": "",
       "description_tooltip": null,
       "layout": "IPY_MODEL_4b6f54261ead4e31914b307585b610f7",
       "placeholder": "​",
       "style": "IPY_MODEL_299e52fe71df46f095b3cf7df5dddeb5",
       "value": "100%"
      }
     },
     "266627f4aa1f425d9507a4922d135134": {
      "model_module": "@jupyter-widgets/controls",
      "model_module_version": "1.5.0",
      "model_name": "HTMLModel",
      "state": {
       "_dom_classes": [],
       "_model_module": "@jupyter-widgets/controls",
       "_model_module_version": "1.5.0",
       "_model_name": "HTMLModel",
       "_view_count": null,
       "_view_module": "@jupyter-widgets/controls",
       "_view_module_version": "1.5.0",
       "_view_name": "HTMLView",
       "description": "",
       "description_tooltip": null,
       "layout": "IPY_MODEL_b54700bd744d4d65b3f77df2d734545b",
       "placeholder": "​",
       "style": "IPY_MODEL_f22152853cc446d5af6d103f0d76c3c3",
       "value": " 20699/20699 [00:10&lt;00:00, 2439.29ex/s]"
      }
     },
     "26be4afb097d48689f597368738ed21d": {
      "model_module": "@jupyter-widgets/controls",
      "model_module_version": "1.5.0",
      "model_name": "DescriptionStyleModel",
      "state": {
       "_model_module": "@jupyter-widgets/controls",
       "_model_module_version": "1.5.0",
       "_model_name": "DescriptionStyleModel",
       "_view_count": null,
       "_view_module": "@jupyter-widgets/base",
       "_view_module_version": "1.2.0",
       "_view_name": "StyleView",
       "description_width": ""
      }
     },
     "275fab6bb502484c8412a8dd4d7db544": {
      "model_module": "@jupyter-widgets/controls",
      "model_module_version": "1.5.0",
      "model_name": "HTMLModel",
      "state": {
       "_dom_classes": [],
       "_model_module": "@jupyter-widgets/controls",
       "_model_module_version": "1.5.0",
       "_model_name": "HTMLModel",
       "_view_count": null,
       "_view_module": "@jupyter-widgets/controls",
       "_view_module_version": "1.5.0",
       "_view_name": "HTMLView",
       "description": "",
       "description_tooltip": null,
       "layout": "IPY_MODEL_7444aa9f3d8342c39cfaaa657ddcbd5b",
       "placeholder": "​",
       "style": "IPY_MODEL_c31489fda33043049db2fa26315adc1c",
       "value": "100%"
      }
     },
     "299e52fe71df46f095b3cf7df5dddeb5": {
      "model_module": "@jupyter-widgets/controls",
      "model_module_version": "1.5.0",
      "model_name": "DescriptionStyleModel",
      "state": {
       "_model_module": "@jupyter-widgets/controls",
       "_model_module_version": "1.5.0",
       "_model_name": "DescriptionStyleModel",
       "_view_count": null,
       "_view_module": "@jupyter-widgets/base",
       "_view_module_version": "1.2.0",
       "_view_name": "StyleView",
       "description_width": ""
      }
     },
     "315b8c539b8f4cccb3bfbe26c079c1e8": {
      "model_module": "@jupyter-widgets/base",
      "model_module_version": "1.2.0",
      "model_name": "LayoutModel",
      "state": {
       "_model_module": "@jupyter-widgets/base",
       "_model_module_version": "1.2.0",
       "_model_name": "LayoutModel",
       "_view_count": null,
       "_view_module": "@jupyter-widgets/base",
       "_view_module_version": "1.2.0",
       "_view_name": "LayoutView",
       "align_content": null,
       "align_items": null,
       "align_self": null,
       "border": null,
       "bottom": null,
       "display": null,
       "flex": null,
       "flex_flow": null,
       "grid_area": null,
       "grid_auto_columns": null,
       "grid_auto_flow": null,
       "grid_auto_rows": null,
       "grid_column": null,
       "grid_gap": null,
       "grid_row": null,
       "grid_template_areas": null,
       "grid_template_columns": null,
       "grid_template_rows": null,
       "height": null,
       "justify_content": null,
       "justify_items": null,
       "left": null,
       "margin": null,
       "max_height": null,
       "max_width": null,
       "min_height": null,
       "min_width": null,
       "object_fit": null,
       "object_position": null,
       "order": null,
       "overflow": null,
       "overflow_x": null,
       "overflow_y": null,
       "padding": null,
       "right": null,
       "top": null,
       "visibility": null,
       "width": null
      }
     },
     "34a58662528545a3b5a7041da85d70c0": {
      "model_module": "@jupyter-widgets/controls",
      "model_module_version": "1.5.0",
      "model_name": "DescriptionStyleModel",
      "state": {
       "_model_module": "@jupyter-widgets/controls",
       "_model_module_version": "1.5.0",
       "_model_name": "DescriptionStyleModel",
       "_view_count": null,
       "_view_module": "@jupyter-widgets/base",
       "_view_module_version": "1.2.0",
       "_view_name": "StyleView",
       "description_width": ""
      }
     },
     "410d6a086c004edcbcd676ad51fb710c": {
      "model_module": "@jupyter-widgets/controls",
      "model_module_version": "1.5.0",
      "model_name": "HBoxModel",
      "state": {
       "_dom_classes": [],
       "_model_module": "@jupyter-widgets/controls",
       "_model_module_version": "1.5.0",
       "_model_name": "HBoxModel",
       "_view_count": null,
       "_view_module": "@jupyter-widgets/controls",
       "_view_module_version": "1.5.0",
       "_view_name": "HBoxView",
       "box_style": "",
       "children": [
        "IPY_MODEL_b287f300717a46e78ccab68fab21d73b",
        "IPY_MODEL_16b47a049f344aeebb8ae462158af478",
        "IPY_MODEL_f3e1229f06a34f8eb6521c5cc7ffb850"
       ],
       "layout": "IPY_MODEL_e90111c4c6d94236a1aa48898bd7d62f"
      }
     },
     "417615fa758e4032b818d50dbe07f0b4": {
      "model_module": "@jupyter-widgets/controls",
      "model_module_version": "1.5.0",
      "model_name": "HTMLModel",
      "state": {
       "_dom_classes": [],
       "_model_module": "@jupyter-widgets/controls",
       "_model_module_version": "1.5.0",
       "_model_name": "HTMLModel",
       "_view_count": null,
       "_view_module": "@jupyter-widgets/controls",
       "_view_module_version": "1.5.0",
       "_view_name": "HTMLView",
       "description": "",
       "description_tooltip": null,
       "layout": "IPY_MODEL_f7ba88d8ae0a49ae9a5efe1d79d2b2fa",
       "placeholder": "​",
       "style": "IPY_MODEL_71198e6322b84425a35a64ebfe7df8c9",
       "value": "Downloading builder script: "
      }
     },
     "49417775829f4c7681917a588114268e": {
      "model_module": "@jupyter-widgets/controls",
      "model_module_version": "1.5.0",
      "model_name": "ProgressStyleModel",
      "state": {
       "_model_module": "@jupyter-widgets/controls",
       "_model_module_version": "1.5.0",
       "_model_name": "ProgressStyleModel",
       "_view_count": null,
       "_view_module": "@jupyter-widgets/base",
       "_view_module_version": "1.2.0",
       "_view_name": "StyleView",
       "bar_color": null,
       "description_width": ""
      }
     },
     "49800ab1220b446092cf21f7cc7179ec": {
      "model_module": "@jupyter-widgets/base",
      "model_module_version": "1.2.0",
      "model_name": "LayoutModel",
      "state": {
       "_model_module": "@jupyter-widgets/base",
       "_model_module_version": "1.2.0",
       "_model_name": "LayoutModel",
       "_view_count": null,
       "_view_module": "@jupyter-widgets/base",
       "_view_module_version": "1.2.0",
       "_view_name": "LayoutView",
       "align_content": null,
       "align_items": null,
       "align_self": null,
       "border": null,
       "bottom": null,
       "display": null,
       "flex": null,
       "flex_flow": null,
       "grid_area": null,
       "grid_auto_columns": null,
       "grid_auto_flow": null,
       "grid_auto_rows": null,
       "grid_column": null,
       "grid_gap": null,
       "grid_row": null,
       "grid_template_areas": null,
       "grid_template_columns": null,
       "grid_template_rows": null,
       "height": null,
       "justify_content": null,
       "justify_items": null,
       "left": null,
       "margin": null,
       "max_height": null,
       "max_width": null,
       "min_height": null,
       "min_width": null,
       "object_fit": null,
       "object_position": null,
       "order": null,
       "overflow": null,
       "overflow_x": null,
       "overflow_y": null,
       "padding": null,
       "right": null,
       "top": null,
       "visibility": null,
       "width": null
      }
     },
     "4b6f54261ead4e31914b307585b610f7": {
      "model_module": "@jupyter-widgets/base",
      "model_module_version": "1.2.0",
      "model_name": "LayoutModel",
      "state": {
       "_model_module": "@jupyter-widgets/base",
       "_model_module_version": "1.2.0",
       "_model_name": "LayoutModel",
       "_view_count": null,
       "_view_module": "@jupyter-widgets/base",
       "_view_module_version": "1.2.0",
       "_view_name": "LayoutView",
       "align_content": null,
       "align_items": null,
       "align_self": null,
       "border": null,
       "bottom": null,
       "display": null,
       "flex": null,
       "flex_flow": null,
       "grid_area": null,
       "grid_auto_columns": null,
       "grid_auto_flow": null,
       "grid_auto_rows": null,
       "grid_column": null,
       "grid_gap": null,
       "grid_row": null,
       "grid_template_areas": null,
       "grid_template_columns": null,
       "grid_template_rows": null,
       "height": null,
       "justify_content": null,
       "justify_items": null,
       "left": null,
       "margin": null,
       "max_height": null,
       "max_width": null,
       "min_height": null,
       "min_width": null,
       "object_fit": null,
       "object_position": null,
       "order": null,
       "overflow": null,
       "overflow_x": null,
       "overflow_y": null,
       "padding": null,
       "right": null,
       "top": null,
       "visibility": null,
       "width": null
      }
     },
     "4f3347f7e3694c39bc9a3f2964bd7149": {
      "model_module": "@jupyter-widgets/base",
      "model_module_version": "1.2.0",
      "model_name": "LayoutModel",
      "state": {
       "_model_module": "@jupyter-widgets/base",
       "_model_module_version": "1.2.0",
       "_model_name": "LayoutModel",
       "_view_count": null,
       "_view_module": "@jupyter-widgets/base",
       "_view_module_version": "1.2.0",
       "_view_name": "LayoutView",
       "align_content": null,
       "align_items": null,
       "align_self": null,
       "border": null,
       "bottom": null,
       "display": null,
       "flex": null,
       "flex_flow": null,
       "grid_area": null,
       "grid_auto_columns": null,
       "grid_auto_flow": null,
       "grid_auto_rows": null,
       "grid_column": null,
       "grid_gap": null,
       "grid_row": null,
       "grid_template_areas": null,
       "grid_template_columns": null,
       "grid_template_rows": null,
       "height": null,
       "justify_content": null,
       "justify_items": null,
       "left": null,
       "margin": null,
       "max_height": null,
       "max_width": null,
       "min_height": null,
       "min_width": null,
       "object_fit": null,
       "object_position": null,
       "order": null,
       "overflow": null,
       "overflow_x": null,
       "overflow_y": null,
       "padding": null,
       "right": null,
       "top": null,
       "visibility": null,
       "width": null
      }
     },
     "5675c517009f46beadfa736c08e5ed66": {
      "model_module": "@jupyter-widgets/base",
      "model_module_version": "1.2.0",
      "model_name": "LayoutModel",
      "state": {
       "_model_module": "@jupyter-widgets/base",
       "_model_module_version": "1.2.0",
       "_model_name": "LayoutModel",
       "_view_count": null,
       "_view_module": "@jupyter-widgets/base",
       "_view_module_version": "1.2.0",
       "_view_name": "LayoutView",
       "align_content": null,
       "align_items": null,
       "align_self": null,
       "border": null,
       "bottom": null,
       "display": null,
       "flex": null,
       "flex_flow": null,
       "grid_area": null,
       "grid_auto_columns": null,
       "grid_auto_flow": null,
       "grid_auto_rows": null,
       "grid_column": null,
       "grid_gap": null,
       "grid_row": null,
       "grid_template_areas": null,
       "grid_template_columns": null,
       "grid_template_rows": null,
       "height": null,
       "justify_content": null,
       "justify_items": null,
       "left": null,
       "margin": null,
       "max_height": null,
       "max_width": null,
       "min_height": null,
       "min_width": null,
       "object_fit": null,
       "object_position": null,
       "order": null,
       "overflow": null,
       "overflow_x": null,
       "overflow_y": null,
       "padding": null,
       "right": null,
       "top": null,
       "visibility": null,
       "width": null
      }
     },
     "57d3054093cf4f8ebc7910e35aa71dd3": {
      "model_module": "@jupyter-widgets/controls",
      "model_module_version": "1.5.0",
      "model_name": "FloatProgressModel",
      "state": {
       "_dom_classes": [],
       "_model_module": "@jupyter-widgets/controls",
       "_model_module_version": "1.5.0",
       "_model_name": "FloatProgressModel",
       "_view_count": null,
       "_view_module": "@jupyter-widgets/controls",
       "_view_module_version": "1.5.0",
       "_view_name": "ProgressView",
       "bar_style": "success",
       "description": "",
       "description_tooltip": null,
       "layout": "IPY_MODEL_ddb514c85ee440b88b122817253e2aab",
       "max": 1200794589.0,
       "min": 0.0,
       "orientation": "horizontal",
       "style": "IPY_MODEL_c82ae24f4a804902b3341e8f596911de",
       "value": 1200794589.0
      }
     },
     "58049b2d0f124368a0816a8d1ea54a13": {
      "model_module": "@jupyter-widgets/controls",
      "model_module_version": "1.5.0",
      "model_name": "HTMLModel",
      "state": {
       "_dom_classes": [],
       "_model_module": "@jupyter-widgets/controls",
       "_model_module_version": "1.5.0",
       "_model_name": "HTMLModel",
       "_view_count": null,
       "_view_module": "@jupyter-widgets/controls",
       "_view_module_version": "1.5.0",
       "_view_name": "HTMLView",
       "description": "",
       "description_tooltip": null,
       "layout": "IPY_MODEL_cc87c84aacdc47198377b0f19b4510a8",
       "placeholder": "​",
       "style": "IPY_MODEL_774a376aa8b348f4a2d2854e764bb64b",
       "value": "Downloading pytorch_model.bin: 100%"
      }
     },
     "5f6b9611775e4469a398f80bc5a1ab02": {
      "model_module": "@jupyter-widgets/base",
      "model_module_version": "1.2.0",
      "model_name": "LayoutModel",
      "state": {
       "_model_module": "@jupyter-widgets/base",
       "_model_module_version": "1.2.0",
       "_model_name": "LayoutModel",
       "_view_count": null,
       "_view_module": "@jupyter-widgets/base",
       "_view_module_version": "1.2.0",
       "_view_name": "LayoutView",
       "align_content": null,
       "align_items": null,
       "align_self": null,
       "border": null,
       "bottom": null,
       "display": null,
       "flex": null,
       "flex_flow": null,
       "grid_area": null,
       "grid_auto_columns": null,
       "grid_auto_flow": null,
       "grid_auto_rows": null,
       "grid_column": null,
       "grid_gap": null,
       "grid_row": null,
       "grid_template_areas": null,
       "grid_template_columns": null,
       "grid_template_rows": null,
       "height": null,
       "justify_content": null,
       "justify_items": null,
       "left": null,
       "margin": null,
       "max_height": null,
       "max_width": null,
       "min_height": null,
       "min_width": null,
       "object_fit": null,
       "object_position": null,
       "order": null,
       "overflow": null,
       "overflow_x": null,
       "overflow_y": null,
       "padding": null,
       "right": null,
       "top": null,
       "visibility": null,
       "width": null
      }
     },
     "6089337d62e844119e3a2942f09b2bb7": {
      "model_module": "@jupyter-widgets/controls",
      "model_module_version": "1.5.0",
      "model_name": "FloatProgressModel",
      "state": {
       "_dom_classes": [],
       "_model_module": "@jupyter-widgets/controls",
       "_model_module_version": "1.5.0",
       "_model_name": "FloatProgressModel",
       "_view_count": null,
       "_view_module": "@jupyter-widgets/controls",
       "_view_module_version": "1.5.0",
       "_view_name": "ProgressView",
       "bar_style": "success",
       "description": "",
       "description_tooltip": null,
       "layout": "IPY_MODEL_c13b266137d243fe915d234be42a30ae",
       "max": 2300.0,
       "min": 0.0,
       "orientation": "horizontal",
       "style": "IPY_MODEL_49417775829f4c7681917a588114268e",
       "value": 2300.0
      }
     },
     "60d909dba4db416abb4e9becd54b5daf": {
      "model_module": "@jupyter-widgets/base",
      "model_module_version": "1.2.0",
      "model_name": "LayoutModel",
      "state": {
       "_model_module": "@jupyter-widgets/base",
       "_model_module_version": "1.2.0",
       "_model_name": "LayoutModel",
       "_view_count": null,
       "_view_module": "@jupyter-widgets/base",
       "_view_module_version": "1.2.0",
       "_view_name": "LayoutView",
       "align_content": null,
       "align_items": null,
       "align_self": null,
       "border": null,
       "bottom": null,
       "display": null,
       "flex": null,
       "flex_flow": null,
       "grid_area": null,
       "grid_auto_columns": null,
       "grid_auto_flow": null,
       "grid_auto_rows": null,
       "grid_column": null,
       "grid_gap": null,
       "grid_row": null,
       "grid_template_areas": null,
       "grid_template_columns": null,
       "grid_template_rows": null,
       "height": null,
       "justify_content": null,
       "justify_items": null,
       "left": null,
       "margin": null,
       "max_height": null,
       "max_width": null,
       "min_height": null,
       "min_width": null,
       "object_fit": null,
       "object_position": null,
       "order": null,
       "overflow": null,
       "overflow_x": null,
       "overflow_y": null,
       "padding": null,
       "right": null,
       "top": null,
       "visibility": null,
       "width": null
      }
     },
     "63bdaeb7c92a40b2bc8ce44c5338682d": {
      "model_module": "@jupyter-widgets/base",
      "model_module_version": "1.2.0",
      "model_name": "LayoutModel",
      "state": {
       "_model_module": "@jupyter-widgets/base",
       "_model_module_version": "1.2.0",
       "_model_name": "LayoutModel",
       "_view_count": null,
       "_view_module": "@jupyter-widgets/base",
       "_view_module_version": "1.2.0",
       "_view_name": "LayoutView",
       "align_content": null,
       "align_items": null,
       "align_self": null,
       "border": null,
       "bottom": null,
       "display": null,
       "flex": null,
       "flex_flow": null,
       "grid_area": null,
       "grid_auto_columns": null,
       "grid_auto_flow": null,
       "grid_auto_rows": null,
       "grid_column": null,
       "grid_gap": null,
       "grid_row": null,
       "grid_template_areas": null,
       "grid_template_columns": null,
       "grid_template_rows": null,
       "height": null,
       "justify_content": null,
       "justify_items": null,
       "left": null,
       "margin": null,
       "max_height": null,
       "max_width": null,
       "min_height": null,
       "min_width": null,
       "object_fit": null,
       "object_position": null,
       "order": null,
       "overflow": null,
       "overflow_x": null,
       "overflow_y": null,
       "padding": null,
       "right": null,
       "top": null,
       "visibility": null,
       "width": null
      }
     },
     "64bbedc235af405fb4d5049a232d2782": {
      "model_module": "@jupyter-widgets/controls",
      "model_module_version": "1.5.0",
      "model_name": "HTMLModel",
      "state": {
       "_dom_classes": [],
       "_model_module": "@jupyter-widgets/controls",
       "_model_module_version": "1.5.0",
       "_model_name": "HTMLModel",
       "_view_count": null,
       "_view_module": "@jupyter-widgets/controls",
       "_view_module_version": "1.5.0",
       "_view_name": "HTMLView",
       "description": "",
       "description_tooltip": null,
       "layout": "IPY_MODEL_d4aaeb3fa18045bd9e6e8ae355b6844d",
       "placeholder": "​",
       "style": "IPY_MODEL_0d31f3388b794c019b3b7cbb7bbfffc3",
       "value": " 99.0/99.0 [00:00&lt;00:00, 7.93kB/s]"
      }
     },
     "66f4f47940e74f0fbaa3ef8e00b5a0fd": {
      "model_module": "@jupyter-widgets/base",
      "model_module_version": "1.2.0",
      "model_name": "LayoutModel",
      "state": {
       "_model_module": "@jupyter-widgets/base",
       "_model_module_version": "1.2.0",
       "_model_name": "LayoutModel",
       "_view_count": null,
       "_view_module": "@jupyter-widgets/base",
       "_view_module_version": "1.2.0",
       "_view_name": "LayoutView",
       "align_content": null,
       "align_items": null,
       "align_self": null,
       "border": null,
       "bottom": null,
       "display": null,
       "flex": null,
       "flex_flow": null,
       "grid_area": null,
       "grid_auto_columns": null,
       "grid_auto_flow": null,
       "grid_auto_rows": null,
       "grid_column": null,
       "grid_gap": null,
       "grid_row": null,
       "grid_template_areas": null,
       "grid_template_columns": null,
       "grid_template_rows": null,
       "height": null,
       "justify_content": null,
       "justify_items": null,
       "left": null,
       "margin": null,
       "max_height": null,
       "max_width": null,
       "min_height": null,
       "min_width": null,
       "object_fit": null,
       "object_position": null,
       "order": null,
       "overflow": null,
       "overflow_x": null,
       "overflow_y": null,
       "padding": null,
       "right": null,
       "top": null,
       "visibility": null,
       "width": null
      }
     },
     "6c2219cebba34a438052cbbf98b2b833": {
      "model_module": "@jupyter-widgets/base",
      "model_module_version": "1.2.0",
      "model_name": "LayoutModel",
      "state": {
       "_model_module": "@jupyter-widgets/base",
       "_model_module_version": "1.2.0",
       "_model_name": "LayoutModel",
       "_view_count": null,
       "_view_module": "@jupyter-widgets/base",
       "_view_module_version": "1.2.0",
       "_view_name": "LayoutView",
       "align_content": null,
       "align_items": null,
       "align_self": null,
       "border": null,
       "bottom": null,
       "display": null,
       "flex": null,
       "flex_flow": null,
       "grid_area": null,
       "grid_auto_columns": null,
       "grid_auto_flow": null,
       "grid_auto_rows": null,
       "grid_column": null,
       "grid_gap": null,
       "grid_row": null,
       "grid_template_areas": null,
       "grid_template_columns": null,
       "grid_template_rows": null,
       "height": null,
       "justify_content": null,
       "justify_items": null,
       "left": null,
       "margin": null,
       "max_height": null,
       "max_width": null,
       "min_height": null,
       "min_width": null,
       "object_fit": null,
       "object_position": null,
       "order": null,
       "overflow": null,
       "overflow_x": null,
       "overflow_y": null,
       "padding": null,
       "right": null,
       "top": null,
       "visibility": null,
       "width": null
      }
     },
     "6f0bb704ead64db88e7f4ba3c88b8193": {
      "model_module": "@jupyter-widgets/base",
      "model_module_version": "1.2.0",
      "model_name": "LayoutModel",
      "state": {
       "_model_module": "@jupyter-widgets/base",
       "_model_module_version": "1.2.0",
       "_model_name": "LayoutModel",
       "_view_count": null,
       "_view_module": "@jupyter-widgets/base",
       "_view_module_version": "1.2.0",
       "_view_name": "LayoutView",
       "align_content": null,
       "align_items": null,
       "align_self": null,
       "border": null,
       "bottom": null,
       "display": null,
       "flex": null,
       "flex_flow": null,
       "grid_area": null,
       "grid_auto_columns": null,
       "grid_auto_flow": null,
       "grid_auto_rows": null,
       "grid_column": null,
       "grid_gap": null,
       "grid_row": null,
       "grid_template_areas": null,
       "grid_template_columns": null,
       "grid_template_rows": null,
       "height": null,
       "justify_content": null,
       "justify_items": null,
       "left": null,
       "margin": null,
       "max_height": null,
       "max_width": null,
       "min_height": null,
       "min_width": null,
       "object_fit": null,
       "object_position": null,
       "order": null,
       "overflow": null,
       "overflow_x": null,
       "overflow_y": null,
       "padding": null,
       "right": null,
       "top": null,
       "visibility": null,
       "width": null
      }
     },
     "71198e6322b84425a35a64ebfe7df8c9": {
      "model_module": "@jupyter-widgets/controls",
      "model_module_version": "1.5.0",
      "model_name": "DescriptionStyleModel",
      "state": {
       "_model_module": "@jupyter-widgets/controls",
       "_model_module_version": "1.5.0",
       "_model_name": "DescriptionStyleModel",
       "_view_count": null,
       "_view_module": "@jupyter-widgets/base",
       "_view_module_version": "1.2.0",
       "_view_name": "StyleView",
       "description_width": ""
      }
     },
     "73ea5c6647544105ac255e8f1f119dd6": {
      "model_module": "@jupyter-widgets/base",
      "model_module_version": "1.2.0",
      "model_name": "LayoutModel",
      "state": {
       "_model_module": "@jupyter-widgets/base",
       "_model_module_version": "1.2.0",
       "_model_name": "LayoutModel",
       "_view_count": null,
       "_view_module": "@jupyter-widgets/base",
       "_view_module_version": "1.2.0",
       "_view_name": "LayoutView",
       "align_content": null,
       "align_items": null,
       "align_self": null,
       "border": null,
       "bottom": null,
       "display": null,
       "flex": null,
       "flex_flow": null,
       "grid_area": null,
       "grid_auto_columns": null,
       "grid_auto_flow": null,
       "grid_auto_rows": null,
       "grid_column": null,
       "grid_gap": null,
       "grid_row": null,
       "grid_template_areas": null,
       "grid_template_columns": null,
       "grid_template_rows": null,
       "height": null,
       "justify_content": null,
       "justify_items": null,
       "left": null,
       "margin": null,
       "max_height": null,
       "max_width": null,
       "min_height": null,
       "min_width": null,
       "object_fit": null,
       "object_position": null,
       "order": null,
       "overflow": null,
       "overflow_x": null,
       "overflow_y": null,
       "padding": null,
       "right": null,
       "top": null,
       "visibility": null,
       "width": null
      }
     },
     "7414e50bcf8348a1bb2f90c43319fe51": {
      "model_module": "@jupyter-widgets/controls",
      "model_module_version": "1.5.0",
      "model_name": "HTMLModel",
      "state": {
       "_dom_classes": [],
       "_model_module": "@jupyter-widgets/controls",
       "_model_module_version": "1.5.0",
       "_model_name": "HTMLModel",
       "_view_count": null,
       "_view_module": "@jupyter-widgets/controls",
       "_view_module_version": "1.5.0",
       "_view_name": "HTMLView",
       "description": "",
       "description_tooltip": null,
       "layout": "IPY_MODEL_73ea5c6647544105ac255e8f1f119dd6",
       "placeholder": "​",
       "style": "IPY_MODEL_981bfab32d9e43eba2ee817d0ff1cbe7",
       "value": " 553/553 [00:00&lt;00:00, 46.9kB/s]"
      }
     },
     "7444aa9f3d8342c39cfaaa657ddcbd5b": {
      "model_module": "@jupyter-widgets/base",
      "model_module_version": "1.2.0",
      "model_name": "LayoutModel",
      "state": {
       "_model_module": "@jupyter-widgets/base",
       "_model_module_version": "1.2.0",
       "_model_name": "LayoutModel",
       "_view_count": null,
       "_view_module": "@jupyter-widgets/base",
       "_view_module_version": "1.2.0",
       "_view_name": "LayoutView",
       "align_content": null,
       "align_items": null,
       "align_self": null,
       "border": null,
       "bottom": null,
       "display": null,
       "flex": null,
       "flex_flow": null,
       "grid_area": null,
       "grid_auto_columns": null,
       "grid_auto_flow": null,
       "grid_auto_rows": null,
       "grid_column": null,
       "grid_gap": null,
       "grid_row": null,
       "grid_template_areas": null,
       "grid_template_columns": null,
       "grid_template_rows": null,
       "height": null,
       "justify_content": null,
       "justify_items": null,
       "left": null,
       "margin": null,
       "max_height": null,
       "max_width": null,
       "min_height": null,
       "min_width": null,
       "object_fit": null,
       "object_position": null,
       "order": null,
       "overflow": null,
       "overflow_x": null,
       "overflow_y": null,
       "padding": null,
       "right": null,
       "top": null,
       "visibility": null,
       "width": null
      }
     },
     "76917ccff6c044d2916dc67b4c895865": {
      "model_module": "@jupyter-widgets/controls",
      "model_module_version": "1.5.0",
      "model_name": "DescriptionStyleModel",
      "state": {
       "_model_module": "@jupyter-widgets/controls",
       "_model_module_version": "1.5.0",
       "_model_name": "DescriptionStyleModel",
       "_view_count": null,
       "_view_module": "@jupyter-widgets/base",
       "_view_module_version": "1.2.0",
       "_view_name": "StyleView",
       "description_width": ""
      }
     },
     "774a376aa8b348f4a2d2854e764bb64b": {
      "model_module": "@jupyter-widgets/controls",
      "model_module_version": "1.5.0",
      "model_name": "DescriptionStyleModel",
      "state": {
       "_model_module": "@jupyter-widgets/controls",
       "_model_module_version": "1.5.0",
       "_model_name": "DescriptionStyleModel",
       "_view_count": null,
       "_view_module": "@jupyter-widgets/base",
       "_view_module_version": "1.2.0",
       "_view_name": "StyleView",
       "description_width": ""
      }
     },
     "871b68aa6f89490b872d6045e450d16b": {
      "model_module": "@jupyter-widgets/controls",
      "model_module_version": "1.5.0",
      "model_name": "HBoxModel",
      "state": {
       "_dom_classes": [],
       "_model_module": "@jupyter-widgets/controls",
       "_model_module_version": "1.5.0",
       "_model_name": "HBoxModel",
       "_view_count": null,
       "_view_module": "@jupyter-widgets/controls",
       "_view_module_version": "1.5.0",
       "_view_name": "HBoxView",
       "box_style": "",
       "children": [
        "IPY_MODEL_275fab6bb502484c8412a8dd4d7db544",
        "IPY_MODEL_6089337d62e844119e3a2942f09b2bb7",
        "IPY_MODEL_93be351d46f34396951c4b1b2fc8c49b"
       ],
       "layout": "IPY_MODEL_c971496f0e5a44d0aebec5e6e7127e11"
      }
     },
     "88e3fe694c194e4c881520ebb0f75de7": {
      "model_module": "@jupyter-widgets/base",
      "model_module_version": "1.2.0",
      "model_name": "LayoutModel",
      "state": {
       "_model_module": "@jupyter-widgets/base",
       "_model_module_version": "1.2.0",
       "_model_name": "LayoutModel",
       "_view_count": null,
       "_view_module": "@jupyter-widgets/base",
       "_view_module_version": "1.2.0",
       "_view_name": "LayoutView",
       "align_content": null,
       "align_items": null,
       "align_self": null,
       "border": null,
       "bottom": null,
       "display": null,
       "flex": null,
       "flex_flow": null,
       "grid_area": null,
       "grid_auto_columns": null,
       "grid_auto_flow": null,
       "grid_auto_rows": null,
       "grid_column": null,
       "grid_gap": null,
       "grid_row": null,
       "grid_template_areas": null,
       "grid_template_columns": null,
       "grid_template_rows": null,
       "height": null,
       "justify_content": null,
       "justify_items": null,
       "left": null,
       "margin": null,
       "max_height": null,
       "max_width": null,
       "min_height": null,
       "min_width": null,
       "object_fit": null,
       "object_position": null,
       "order": null,
       "overflow": null,
       "overflow_x": null,
       "overflow_y": null,
       "padding": null,
       "right": null,
       "top": null,
       "visibility": null,
       "width": null
      }
     },
     "8a5d4ffb3dae495a87d02e736dad4078": {
      "model_module": "@jupyter-widgets/controls",
      "model_module_version": "1.5.0",
      "model_name": "ProgressStyleModel",
      "state": {
       "_model_module": "@jupyter-widgets/controls",
       "_model_module_version": "1.5.0",
       "_model_name": "ProgressStyleModel",
       "_view_count": null,
       "_view_module": "@jupyter-widgets/base",
       "_view_module_version": "1.2.0",
       "_view_name": "StyleView",
       "bar_color": null,
       "description_width": ""
      }
     },
     "8f64b16a42ae47348433f0ca1520b74b": {
      "model_module": "@jupyter-widgets/controls",
      "model_module_version": "1.5.0",
      "model_name": "DescriptionStyleModel",
      "state": {
       "_model_module": "@jupyter-widgets/controls",
       "_model_module_version": "1.5.0",
       "_model_name": "DescriptionStyleModel",
       "_view_count": null,
       "_view_module": "@jupyter-widgets/base",
       "_view_module_version": "1.2.0",
       "_view_name": "StyleView",
       "description_width": ""
      }
     },
     "8feba5257a1e4842a960be83c2d23e34": {
      "model_module": "@jupyter-widgets/controls",
      "model_module_version": "1.5.0",
      "model_name": "DescriptionStyleModel",
      "state": {
       "_model_module": "@jupyter-widgets/controls",
       "_model_module_version": "1.5.0",
       "_model_name": "DescriptionStyleModel",
       "_view_count": null,
       "_view_module": "@jupyter-widgets/base",
       "_view_module_version": "1.2.0",
       "_view_name": "StyleView",
       "description_width": ""
      }
     },
     "9010c7373fa2431f955e3ca80afeaa6c": {
      "model_module": "@jupyter-widgets/controls",
      "model_module_version": "1.5.0",
      "model_name": "HTMLModel",
      "state": {
       "_dom_classes": [],
       "_model_module": "@jupyter-widgets/controls",
       "_model_module_version": "1.5.0",
       "_model_name": "HTMLModel",
       "_view_count": null,
       "_view_module": "@jupyter-widgets/controls",
       "_view_module_version": "1.5.0",
       "_view_name": "HTMLView",
       "description": "",
       "description_tooltip": null,
       "layout": "IPY_MODEL_e0d462af2f5c4938ae08d90dad17bfba",
       "placeholder": "​",
       "style": "IPY_MODEL_26be4afb097d48689f597368738ed21d",
       "value": " 1.20G/1.20G [00:05&lt;00:00, 216MB/s]"
      }
     },
     "925a2e62ef4240cfac63146c97b2913f": {
      "model_module": "@jupyter-widgets/controls",
      "model_module_version": "1.5.0",
      "model_name": "HBoxModel",
      "state": {
       "_dom_classes": [],
       "_model_module": "@jupyter-widgets/controls",
       "_model_module_version": "1.5.0",
       "_model_name": "HBoxModel",
       "_view_count": null,
       "_view_module": "@jupyter-widgets/controls",
       "_view_module_version": "1.5.0",
       "_view_name": "HBoxView",
       "box_style": "",
       "children": [
        "IPY_MODEL_58049b2d0f124368a0816a8d1ea54a13",
        "IPY_MODEL_57d3054093cf4f8ebc7910e35aa71dd3",
        "IPY_MODEL_9010c7373fa2431f955e3ca80afeaa6c"
       ],
       "layout": "IPY_MODEL_1b39d6899fde45a290fc3b299a16787b"
      }
     },
     "93be351d46f34396951c4b1b2fc8c49b": {
      "model_module": "@jupyter-widgets/controls",
      "model_module_version": "1.5.0",
      "model_name": "HTMLModel",
      "state": {
       "_dom_classes": [],
       "_model_module": "@jupyter-widgets/controls",
       "_model_module_version": "1.5.0",
       "_model_name": "HTMLModel",
       "_view_count": null,
       "_view_module": "@jupyter-widgets/controls",
       "_view_module_version": "1.5.0",
       "_view_name": "HTMLView",
       "description": "",
       "description_tooltip": null,
       "layout": "IPY_MODEL_9c9ea27ef5e24fc7a11ce0829d9368cf",
       "placeholder": "​",
       "style": "IPY_MODEL_8f64b16a42ae47348433f0ca1520b74b",
       "value": " 2300/2300 [00:01&lt;00:00, 1479.37ex/s]"
      }
     },
     "96ad2f52702f48ea8a0123c13e3e39b5": {
      "model_module": "@jupyter-widgets/base",
      "model_module_version": "1.2.0",
      "model_name": "LayoutModel",
      "state": {
       "_model_module": "@jupyter-widgets/base",
       "_model_module_version": "1.2.0",
       "_model_name": "LayoutModel",
       "_view_count": null,
       "_view_module": "@jupyter-widgets/base",
       "_view_module_version": "1.2.0",
       "_view_name": "LayoutView",
       "align_content": null,
       "align_items": null,
       "align_self": null,
       "border": null,
       "bottom": null,
       "display": null,
       "flex": null,
       "flex_flow": null,
       "grid_area": null,
       "grid_auto_columns": null,
       "grid_auto_flow": null,
       "grid_auto_rows": null,
       "grid_column": null,
       "grid_gap": null,
       "grid_row": null,
       "grid_template_areas": null,
       "grid_template_columns": null,
       "grid_template_rows": null,
       "height": null,
       "justify_content": null,
       "justify_items": null,
       "left": null,
       "margin": null,
       "max_height": null,
       "max_width": null,
       "min_height": null,
       "min_width": null,
       "object_fit": null,
       "object_position": null,
       "order": null,
       "overflow": null,
       "overflow_x": null,
       "overflow_y": null,
       "padding": null,
       "right": null,
       "top": null,
       "visibility": null,
       "width": null
      }
     },
     "9732ea14469e4007921b19ea6e2936d8": {
      "model_module": "@jupyter-widgets/base",
      "model_module_version": "1.2.0",
      "model_name": "LayoutModel",
      "state": {
       "_model_module": "@jupyter-widgets/base",
       "_model_module_version": "1.2.0",
       "_model_name": "LayoutModel",
       "_view_count": null,
       "_view_module": "@jupyter-widgets/base",
       "_view_module_version": "1.2.0",
       "_view_name": "LayoutView",
       "align_content": null,
       "align_items": null,
       "align_self": null,
       "border": null,
       "bottom": null,
       "display": null,
       "flex": null,
       "flex_flow": null,
       "grid_area": null,
       "grid_auto_columns": null,
       "grid_auto_flow": null,
       "grid_auto_rows": null,
       "grid_column": null,
       "grid_gap": null,
       "grid_row": null,
       "grid_template_areas": null,
       "grid_template_columns": null,
       "grid_template_rows": null,
       "height": null,
       "justify_content": null,
       "justify_items": null,
       "left": null,
       "margin": null,
       "max_height": null,
       "max_width": null,
       "min_height": null,
       "min_width": null,
       "object_fit": null,
       "object_position": null,
       "order": null,
       "overflow": null,
       "overflow_x": null,
       "overflow_y": null,
       "padding": null,
       "right": null,
       "top": null,
       "visibility": null,
       "width": null
      }
     },
     "981bfab32d9e43eba2ee817d0ff1cbe7": {
      "model_module": "@jupyter-widgets/controls",
      "model_module_version": "1.5.0",
      "model_name": "DescriptionStyleModel",
      "state": {
       "_model_module": "@jupyter-widgets/controls",
       "_model_module_version": "1.5.0",
       "_model_name": "DescriptionStyleModel",
       "_view_count": null,
       "_view_module": "@jupyter-widgets/base",
       "_view_module_version": "1.2.0",
       "_view_name": "StyleView",
       "description_width": ""
      }
     },
     "9c9ea27ef5e24fc7a11ce0829d9368cf": {
      "model_module": "@jupyter-widgets/base",
      "model_module_version": "1.2.0",
      "model_name": "LayoutModel",
      "state": {
       "_model_module": "@jupyter-widgets/base",
       "_model_module_version": "1.2.0",
       "_model_name": "LayoutModel",
       "_view_count": null,
       "_view_module": "@jupyter-widgets/base",
       "_view_module_version": "1.2.0",
       "_view_name": "LayoutView",
       "align_content": null,
       "align_items": null,
       "align_self": null,
       "border": null,
       "bottom": null,
       "display": null,
       "flex": null,
       "flex_flow": null,
       "grid_area": null,
       "grid_auto_columns": null,
       "grid_auto_flow": null,
       "grid_auto_rows": null,
       "grid_column": null,
       "grid_gap": null,
       "grid_row": null,
       "grid_template_areas": null,
       "grid_template_columns": null,
       "grid_template_rows": null,
       "height": null,
       "justify_content": null,
       "justify_items": null,
       "left": null,
       "margin": null,
       "max_height": null,
       "max_width": null,
       "min_height": null,
       "min_width": null,
       "object_fit": null,
       "object_position": null,
       "order": null,
       "overflow": null,
       "overflow_x": null,
       "overflow_y": null,
       "padding": null,
       "right": null,
       "top": null,
       "visibility": null,
       "width": null
      }
     },
     "a9b55607bdcc48fdb789acc7e87e53a8": {
      "model_module": "@jupyter-widgets/controls",
      "model_module_version": "1.5.0",
      "model_name": "DescriptionStyleModel",
      "state": {
       "_model_module": "@jupyter-widgets/controls",
       "_model_module_version": "1.5.0",
       "_model_name": "DescriptionStyleModel",
       "_view_count": null,
       "_view_module": "@jupyter-widgets/base",
       "_view_module_version": "1.2.0",
       "_view_name": "StyleView",
       "description_width": ""
      }
     },
     "a9f0bd1b9eee4aa7be374e6884523e43": {
      "model_module": "@jupyter-widgets/controls",
      "model_module_version": "1.5.0",
      "model_name": "FloatProgressModel",
      "state": {
       "_dom_classes": [],
       "_model_module": "@jupyter-widgets/controls",
       "_model_module_version": "1.5.0",
       "_model_name": "FloatProgressModel",
       "_view_count": null,
       "_view_module": "@jupyter-widgets/controls",
       "_view_module_version": "1.5.0",
       "_view_name": "ProgressView",
       "bar_style": "success",
       "description": "",
       "description_tooltip": null,
       "layout": "IPY_MODEL_315b8c539b8f4cccb3bfbe26c079c1e8",
       "max": 1901.0,
       "min": 0.0,
       "orientation": "horizontal",
       "style": "IPY_MODEL_ed1cba9221b142f5927949d27761a730",
       "value": 1901.0
      }
     },
     "aa4d1cf4ed59434d8f977ca5678d872b": {
      "model_module": "@jupyter-widgets/base",
      "model_module_version": "1.2.0",
      "model_name": "LayoutModel",
      "state": {
       "_model_module": "@jupyter-widgets/base",
       "_model_module_version": "1.2.0",
       "_model_name": "LayoutModel",
       "_view_count": null,
       "_view_module": "@jupyter-widgets/base",
       "_view_module_version": "1.2.0",
       "_view_name": "LayoutView",
       "align_content": null,
       "align_items": null,
       "align_self": null,
       "border": null,
       "bottom": null,
       "display": null,
       "flex": null,
       "flex_flow": null,
       "grid_area": null,
       "grid_auto_columns": null,
       "grid_auto_flow": null,
       "grid_auto_rows": null,
       "grid_column": null,
       "grid_gap": null,
       "grid_row": null,
       "grid_template_areas": null,
       "grid_template_columns": null,
       "grid_template_rows": null,
       "height": null,
       "justify_content": null,
       "justify_items": null,
       "left": null,
       "margin": null,
       "max_height": null,
       "max_width": null,
       "min_height": null,
       "min_width": null,
       "object_fit": null,
       "object_position": null,
       "order": null,
       "overflow": null,
       "overflow_x": null,
       "overflow_y": null,
       "padding": null,
       "right": null,
       "top": null,
       "visibility": null,
       "width": null
      }
     },
     "acde6e8af2d8466b9577bf058c2fd27a": {
      "model_module": "@jupyter-widgets/controls",
      "model_module_version": "1.5.0",
      "model_name": "ProgressStyleModel",
      "state": {
       "_model_module": "@jupyter-widgets/controls",
       "_model_module_version": "1.5.0",
       "_model_name": "ProgressStyleModel",
       "_view_count": null,
       "_view_module": "@jupyter-widgets/base",
       "_view_module_version": "1.2.0",
       "_view_name": "StyleView",
       "bar_color": null,
       "description_width": ""
      }
     },
     "ad84e26e3dbd48b2959a1bc0f38584f1": {
      "model_module": "@jupyter-widgets/controls",
      "model_module_version": "1.5.0",
      "model_name": "FloatProgressModel",
      "state": {
       "_dom_classes": [],
       "_model_module": "@jupyter-widgets/controls",
       "_model_module_version": "1.5.0",
       "_model_name": "FloatProgressModel",
       "_view_count": null,
       "_view_module": "@jupyter-widgets/controls",
       "_view_module_version": "1.5.0",
       "_view_name": "ProgressView",
       "bar_style": "success",
       "description": "",
       "description_tooltip": null,
       "layout": "IPY_MODEL_6c2219cebba34a438052cbbf98b2b833",
       "max": 99.0,
       "min": 0.0,
       "orientation": "horizontal",
       "style": "IPY_MODEL_de8914cac78f48a0bc11ae8c220e6acc",
       "value": 99.0
      }
     },
     "add4db86cc05433fb5290146bf4b69e8": {
      "model_module": "@jupyter-widgets/base",
      "model_module_version": "1.2.0",
      "model_name": "LayoutModel",
      "state": {
       "_model_module": "@jupyter-widgets/base",
       "_model_module_version": "1.2.0",
       "_model_name": "LayoutModel",
       "_view_count": null,
       "_view_module": "@jupyter-widgets/base",
       "_view_module_version": "1.2.0",
       "_view_name": "LayoutView",
       "align_content": null,
       "align_items": null,
       "align_self": null,
       "border": null,
       "bottom": null,
       "display": null,
       "flex": null,
       "flex_flow": null,
       "grid_area": null,
       "grid_auto_columns": null,
       "grid_auto_flow": null,
       "grid_auto_rows": null,
       "grid_column": null,
       "grid_gap": null,
       "grid_row": null,
       "grid_template_areas": null,
       "grid_template_columns": null,
       "grid_template_rows": null,
       "height": null,
       "justify_content": null,
       "justify_items": null,
       "left": null,
       "margin": null,
       "max_height": null,
       "max_width": null,
       "min_height": null,
       "min_width": null,
       "object_fit": null,
       "object_position": null,
       "order": null,
       "overflow": null,
       "overflow_x": null,
       "overflow_y": null,
       "padding": null,
       "right": null,
       "top": null,
       "visibility": null,
       "width": null
      }
     },
     "afa525ed80714743b892432cffdf0d4b": {
      "model_module": "@jupyter-widgets/controls",
      "model_module_version": "1.5.0",
      "model_name": "DescriptionStyleModel",
      "state": {
       "_model_module": "@jupyter-widgets/controls",
       "_model_module_version": "1.5.0",
       "_model_name": "DescriptionStyleModel",
       "_view_count": null,
       "_view_module": "@jupyter-widgets/base",
       "_view_module_version": "1.2.0",
       "_view_name": "StyleView",
       "description_width": ""
      }
     },
     "b2344e1fd5f54649b1e574af1ad0df66": {
      "model_module": "@jupyter-widgets/controls",
      "model_module_version": "1.5.0",
      "model_name": "HTMLModel",
      "state": {
       "_dom_classes": [],
       "_model_module": "@jupyter-widgets/controls",
       "_model_module_version": "1.5.0",
       "_model_name": "HTMLModel",
       "_view_count": null,
       "_view_module": "@jupyter-widgets/controls",
       "_view_module_version": "1.5.0",
       "_view_name": "HTMLView",
       "description": "",
       "description_tooltip": null,
       "layout": "IPY_MODEL_aa4d1cf4ed59434d8f977ca5678d872b",
       "placeholder": "​",
       "style": "IPY_MODEL_8feba5257a1e4842a960be83c2d23e34",
       "value": "Downloading (…)cial_tokens_map.json: 100%"
      }
     },
     "b287f300717a46e78ccab68fab21d73b": {
      "model_module": "@jupyter-widgets/controls",
      "model_module_version": "1.5.0",
      "model_name": "HTMLModel",
      "state": {
       "_dom_classes": [],
       "_model_module": "@jupyter-widgets/controls",
       "_model_module_version": "1.5.0",
       "_model_name": "HTMLModel",
       "_view_count": null,
       "_view_module": "@jupyter-widgets/controls",
       "_view_module_version": "1.5.0",
       "_view_name": "HTMLView",
       "description": "",
       "description_tooltip": null,
       "layout": "IPY_MODEL_0c22f7f4543740cb8b17a79e95acf7aa",
       "placeholder": "​",
       "style": "IPY_MODEL_15b8bb4ef094486dbf88a9955ccdbd5d",
       "value": "Downloading (…)neration_config.json: 100%"
      }
     },
     "b54700bd744d4d65b3f77df2d734545b": {
      "model_module": "@jupyter-widgets/base",
      "model_module_version": "1.2.0",
      "model_name": "LayoutModel",
      "state": {
       "_model_module": "@jupyter-widgets/base",
       "_model_module_version": "1.2.0",
       "_model_name": "LayoutModel",
       "_view_count": null,
       "_view_module": "@jupyter-widgets/base",
       "_view_module_version": "1.2.0",
       "_view_name": "LayoutView",
       "align_content": null,
       "align_items": null,
       "align_self": null,
       "border": null,
       "bottom": null,
       "display": null,
       "flex": null,
       "flex_flow": null,
       "grid_area": null,
       "grid_auto_columns": null,
       "grid_auto_flow": null,
       "grid_auto_rows": null,
       "grid_column": null,
       "grid_gap": null,
       "grid_row": null,
       "grid_template_areas": null,
       "grid_template_columns": null,
       "grid_template_rows": null,
       "height": null,
       "justify_content": null,
       "justify_items": null,
       "left": null,
       "margin": null,
       "max_height": null,
       "max_width": null,
       "min_height": null,
       "min_width": null,
       "object_fit": null,
       "object_position": null,
       "order": null,
       "overflow": null,
       "overflow_x": null,
       "overflow_y": null,
       "padding": null,
       "right": null,
       "top": null,
       "visibility": null,
       "width": null
      }
     },
     "b968d09cb3704568be7a7e16e6ffb15a": {
      "model_module": "@jupyter-widgets/controls",
      "model_module_version": "1.5.0",
      "model_name": "DescriptionStyleModel",
      "state": {
       "_model_module": "@jupyter-widgets/controls",
       "_model_module_version": "1.5.0",
       "_model_name": "DescriptionStyleModel",
       "_view_count": null,
       "_view_module": "@jupyter-widgets/base",
       "_view_module_version": "1.2.0",
       "_view_name": "StyleView",
       "description_width": ""
      }
     },
     "b988101f999c47e5b3db8451b11448cf": {
      "model_module": "@jupyter-widgets/controls",
      "model_module_version": "1.5.0",
      "model_name": "ProgressStyleModel",
      "state": {
       "_model_module": "@jupyter-widgets/controls",
       "_model_module_version": "1.5.0",
       "_model_name": "ProgressStyleModel",
       "_view_count": null,
       "_view_module": "@jupyter-widgets/base",
       "_view_module_version": "1.2.0",
       "_view_name": "StyleView",
       "bar_color": null,
       "description_width": ""
      }
     },
     "b9eeb7e6b12b488082ea378b98e0b905": {
      "model_module": "@jupyter-widgets/controls",
      "model_module_version": "1.5.0",
      "model_name": "DescriptionStyleModel",
      "state": {
       "_model_module": "@jupyter-widgets/controls",
       "_model_module_version": "1.5.0",
       "_model_name": "DescriptionStyleModel",
       "_view_count": null,
       "_view_module": "@jupyter-widgets/base",
       "_view_module_version": "1.2.0",
       "_view_name": "StyleView",
       "description_width": ""
      }
     },
     "baff921485e84dd2832dfa3297ce9032": {
      "model_module": "@jupyter-widgets/controls",
      "model_module_version": "1.5.0",
      "model_name": "FloatProgressModel",
      "state": {
       "_dom_classes": [],
       "_model_module": "@jupyter-widgets/controls",
       "_model_module_version": "1.5.0",
       "_model_name": "FloatProgressModel",
       "_view_count": null,
       "_view_module": "@jupyter-widgets/controls",
       "_view_module_version": "1.5.0",
       "_view_name": "ProgressView",
       "bar_style": "success",
       "description": "",
       "description_tooltip": null,
       "layout": "IPY_MODEL_66f4f47940e74f0fbaa3ef8e00b5a0fd",
       "max": 20699.0,
       "min": 0.0,
       "orientation": "horizontal",
       "style": "IPY_MODEL_ff210fcb8f064a9b9e8aed724d4831c6",
       "value": 20699.0
      }
     },
     "bd49ca485c3a4103bc3de8a9434615b8": {
      "model_module": "@jupyter-widgets/base",
      "model_module_version": "1.2.0",
      "model_name": "LayoutModel",
      "state": {
       "_model_module": "@jupyter-widgets/base",
       "_model_module_version": "1.2.0",
       "_model_name": "LayoutModel",
       "_view_count": null,
       "_view_module": "@jupyter-widgets/base",
       "_view_module_version": "1.2.0",
       "_view_name": "LayoutView",
       "align_content": null,
       "align_items": null,
       "align_self": null,
       "border": null,
       "bottom": null,
       "display": null,
       "flex": null,
       "flex_flow": null,
       "grid_area": null,
       "grid_auto_columns": null,
       "grid_auto_flow": null,
       "grid_auto_rows": null,
       "grid_column": null,
       "grid_gap": null,
       "grid_row": null,
       "grid_template_areas": null,
       "grid_template_columns": null,
       "grid_template_rows": null,
       "height": null,
       "justify_content": null,
       "justify_items": null,
       "left": null,
       "margin": null,
       "max_height": null,
       "max_width": null,
       "min_height": null,
       "min_width": null,
       "object_fit": null,
       "object_position": null,
       "order": null,
       "overflow": null,
       "overflow_x": null,
       "overflow_y": null,
       "padding": null,
       "right": null,
       "top": null,
       "visibility": null,
       "width": null
      }
     },
     "c13b266137d243fe915d234be42a30ae": {
      "model_module": "@jupyter-widgets/base",
      "model_module_version": "1.2.0",
      "model_name": "LayoutModel",
      "state": {
       "_model_module": "@jupyter-widgets/base",
       "_model_module_version": "1.2.0",
       "_model_name": "LayoutModel",
       "_view_count": null,
       "_view_module": "@jupyter-widgets/base",
       "_view_module_version": "1.2.0",
       "_view_name": "LayoutView",
       "align_content": null,
       "align_items": null,
       "align_self": null,
       "border": null,
       "bottom": null,
       "display": null,
       "flex": null,
       "flex_flow": null,
       "grid_area": null,
       "grid_auto_columns": null,
       "grid_auto_flow": null,
       "grid_auto_rows": null,
       "grid_column": null,
       "grid_gap": null,
       "grid_row": null,
       "grid_template_areas": null,
       "grid_template_columns": null,
       "grid_template_rows": null,
       "height": null,
       "justify_content": null,
       "justify_items": null,
       "left": null,
       "margin": null,
       "max_height": null,
       "max_width": null,
       "min_height": null,
       "min_width": null,
       "object_fit": null,
       "object_position": null,
       "order": null,
       "overflow": null,
       "overflow_x": null,
       "overflow_y": null,
       "padding": null,
       "right": null,
       "top": null,
       "visibility": null,
       "width": null
      }
     },
     "c31489fda33043049db2fa26315adc1c": {
      "model_module": "@jupyter-widgets/controls",
      "model_module_version": "1.5.0",
      "model_name": "DescriptionStyleModel",
      "state": {
       "_model_module": "@jupyter-widgets/controls",
       "_model_module_version": "1.5.0",
       "_model_name": "DescriptionStyleModel",
       "_view_count": null,
       "_view_module": "@jupyter-widgets/base",
       "_view_module_version": "1.2.0",
       "_view_name": "StyleView",
       "description_width": ""
      }
     },
     "c63e94c9da5748ddafee886028c209c6": {
      "model_module": "@jupyter-widgets/controls",
      "model_module_version": "1.5.0",
      "model_name": "HTMLModel",
      "state": {
       "_dom_classes": [],
       "_model_module": "@jupyter-widgets/controls",
       "_model_module_version": "1.5.0",
       "_model_name": "HTMLModel",
       "_view_count": null,
       "_view_module": "@jupyter-widgets/controls",
       "_view_module_version": "1.5.0",
       "_view_name": "HTMLView",
       "description": "",
       "description_tooltip": null,
       "layout": "IPY_MODEL_88e3fe694c194e4c881520ebb0f75de7",
       "placeholder": "​",
       "style": "IPY_MODEL_34a58662528545a3b5a7041da85d70c0",
       "value": "Downloading (…)lve/main/config.json: 100%"
      }
     },
     "c685b20ed63547cdb5bcc9af775a7e93": {
      "model_module": "@jupyter-widgets/controls",
      "model_module_version": "1.5.0",
      "model_name": "FloatProgressModel",
      "state": {
       "_dom_classes": [],
       "_model_module": "@jupyter-widgets/controls",
       "_model_module_version": "1.5.0",
       "_model_name": "FloatProgressModel",
       "_view_count": null,
       "_view_module": "@jupyter-widgets/controls",
       "_view_module_version": "1.5.0",
       "_view_name": "ProgressView",
       "bar_style": "success",
       "description": "",
       "description_tooltip": null,
       "layout": "IPY_MODEL_08a4bfda1b8745b095aa665183d289ce",
       "max": 82.0,
       "min": 0.0,
       "orientation": "horizontal",
       "style": "IPY_MODEL_fabceeda846d4581b933ef3bbb15bd02",
       "value": 82.0
      }
     },
     "c82ae24f4a804902b3341e8f596911de": {
      "model_module": "@jupyter-widgets/controls",
      "model_module_version": "1.5.0",
      "model_name": "ProgressStyleModel",
      "state": {
       "_model_module": "@jupyter-widgets/controls",
       "_model_module_version": "1.5.0",
       "_model_name": "ProgressStyleModel",
       "_view_count": null,
       "_view_module": "@jupyter-widgets/base",
       "_view_module_version": "1.2.0",
       "_view_name": "StyleView",
       "bar_color": null,
       "description_width": ""
      }
     },
     "c971496f0e5a44d0aebec5e6e7127e11": {
      "model_module": "@jupyter-widgets/base",
      "model_module_version": "1.2.0",
      "model_name": "LayoutModel",
      "state": {
       "_model_module": "@jupyter-widgets/base",
       "_model_module_version": "1.2.0",
       "_model_name": "LayoutModel",
       "_view_count": null,
       "_view_module": "@jupyter-widgets/base",
       "_view_module_version": "1.2.0",
       "_view_name": "LayoutView",
       "align_content": null,
       "align_items": null,
       "align_self": null,
       "border": null,
       "bottom": null,
       "display": null,
       "flex": null,
       "flex_flow": null,
       "grid_area": null,
       "grid_auto_columns": null,
       "grid_auto_flow": null,
       "grid_auto_rows": null,
       "grid_column": null,
       "grid_gap": null,
       "grid_row": null,
       "grid_template_areas": null,
       "grid_template_columns": null,
       "grid_template_rows": null,
       "height": null,
       "justify_content": null,
       "justify_items": null,
       "left": null,
       "margin": null,
       "max_height": null,
       "max_width": null,
       "min_height": null,
       "min_width": null,
       "object_fit": null,
       "object_position": null,
       "order": null,
       "overflow": null,
       "overflow_x": null,
       "overflow_y": null,
       "padding": null,
       "right": null,
       "top": null,
       "visibility": null,
       "width": null
      }
     },
     "cc87c84aacdc47198377b0f19b4510a8": {
      "model_module": "@jupyter-widgets/base",
      "model_module_version": "1.2.0",
      "model_name": "LayoutModel",
      "state": {
       "_model_module": "@jupyter-widgets/base",
       "_model_module_version": "1.2.0",
       "_model_name": "LayoutModel",
       "_view_count": null,
       "_view_module": "@jupyter-widgets/base",
       "_view_module_version": "1.2.0",
       "_view_name": "LayoutView",
       "align_content": null,
       "align_items": null,
       "align_self": null,
       "border": null,
       "bottom": null,
       "display": null,
       "flex": null,
       "flex_flow": null,
       "grid_area": null,
       "grid_auto_columns": null,
       "grid_auto_flow": null,
       "grid_auto_rows": null,
       "grid_column": null,
       "grid_gap": null,
       "grid_row": null,
       "grid_template_areas": null,
       "grid_template_columns": null,
       "grid_template_rows": null,
       "height": null,
       "justify_content": null,
       "justify_items": null,
       "left": null,
       "margin": null,
       "max_height": null,
       "max_width": null,
       "min_height": null,
       "min_width": null,
       "object_fit": null,
       "object_position": null,
       "order": null,
       "overflow": null,
       "overflow_x": null,
       "overflow_y": null,
       "padding": null,
       "right": null,
       "top": null,
       "visibility": null,
       "width": null
      }
     },
     "cd85a872a853470b8f98c71d9b3de4c4": {
      "model_module": "@jupyter-widgets/controls",
      "model_module_version": "1.5.0",
      "model_name": "DescriptionStyleModel",
      "state": {
       "_model_module": "@jupyter-widgets/controls",
       "_model_module_version": "1.5.0",
       "_model_name": "DescriptionStyleModel",
       "_view_count": null,
       "_view_module": "@jupyter-widgets/base",
       "_view_module_version": "1.2.0",
       "_view_name": "StyleView",
       "description_width": ""
      }
     },
     "d3e0d0c8787e4cb3b46556a9d7df7840": {
      "model_module": "@jupyter-widgets/base",
      "model_module_version": "1.2.0",
      "model_name": "LayoutModel",
      "state": {
       "_model_module": "@jupyter-widgets/base",
       "_model_module_version": "1.2.0",
       "_model_name": "LayoutModel",
       "_view_count": null,
       "_view_module": "@jupyter-widgets/base",
       "_view_module_version": "1.2.0",
       "_view_name": "LayoutView",
       "align_content": null,
       "align_items": null,
       "align_self": null,
       "border": null,
       "bottom": null,
       "display": null,
       "flex": null,
       "flex_flow": null,
       "grid_area": null,
       "grid_auto_columns": null,
       "grid_auto_flow": null,
       "grid_auto_rows": null,
       "grid_column": null,
       "grid_gap": null,
       "grid_row": null,
       "grid_template_areas": null,
       "grid_template_columns": null,
       "grid_template_rows": null,
       "height": null,
       "justify_content": null,
       "justify_items": null,
       "left": null,
       "margin": null,
       "max_height": null,
       "max_width": null,
       "min_height": null,
       "min_width": null,
       "object_fit": null,
       "object_position": null,
       "order": null,
       "overflow": null,
       "overflow_x": null,
       "overflow_y": null,
       "padding": null,
       "right": null,
       "top": null,
       "visibility": null,
       "width": null
      }
     },
     "d4aaeb3fa18045bd9e6e8ae355b6844d": {
      "model_module": "@jupyter-widgets/base",
      "model_module_version": "1.2.0",
      "model_name": "LayoutModel",
      "state": {
       "_model_module": "@jupyter-widgets/base",
       "_model_module_version": "1.2.0",
       "_model_name": "LayoutModel",
       "_view_count": null,
       "_view_module": "@jupyter-widgets/base",
       "_view_module_version": "1.2.0",
       "_view_name": "LayoutView",
       "align_content": null,
       "align_items": null,
       "align_self": null,
       "border": null,
       "bottom": null,
       "display": null,
       "flex": null,
       "flex_flow": null,
       "grid_area": null,
       "grid_auto_columns": null,
       "grid_auto_flow": null,
       "grid_auto_rows": null,
       "grid_column": null,
       "grid_gap": null,
       "grid_row": null,
       "grid_template_areas": null,
       "grid_template_columns": null,
       "grid_template_rows": null,
       "height": null,
       "justify_content": null,
       "justify_items": null,
       "left": null,
       "margin": null,
       "max_height": null,
       "max_width": null,
       "min_height": null,
       "min_width": null,
       "object_fit": null,
       "object_position": null,
       "order": null,
       "overflow": null,
       "overflow_x": null,
       "overflow_y": null,
       "padding": null,
       "right": null,
       "top": null,
       "visibility": null,
       "width": null
      }
     },
     "d6bf156cdd4949f3b5244195ba0f51da": {
      "model_module": "@jupyter-widgets/controls",
      "model_module_version": "1.5.0",
      "model_name": "HTMLModel",
      "state": {
       "_dom_classes": [],
       "_model_module": "@jupyter-widgets/controls",
       "_model_module_version": "1.5.0",
       "_model_name": "HTMLModel",
       "_view_count": null,
       "_view_module": "@jupyter-widgets/controls",
       "_view_module_version": "1.5.0",
       "_view_name": "HTMLView",
       "description": "",
       "description_tooltip": null,
       "layout": "IPY_MODEL_9732ea14469e4007921b19ea6e2936d8",
       "placeholder": "​",
       "style": "IPY_MODEL_a9b55607bdcc48fdb789acc7e87e53a8",
       "value": "Downloading (…)okenizer_config.json: 100%"
      }
     },
     "d6ce3bd224e246e2ab27a2f229a98ac7": {
      "model_module": "@jupyter-widgets/controls",
      "model_module_version": "1.5.0",
      "model_name": "FloatProgressModel",
      "state": {
       "_dom_classes": [],
       "_model_module": "@jupyter-widgets/controls",
       "_model_module_version": "1.5.0",
       "_model_name": "FloatProgressModel",
       "_view_count": null,
       "_view_module": "@jupyter-widgets/controls",
       "_view_module_version": "1.5.0",
       "_view_name": "ProgressView",
       "bar_style": "success",
       "description": "",
       "description_tooltip": null,
       "layout": "IPY_MODEL_4f3347f7e3694c39bc9a3f2964bd7149",
       "max": 4309802.0,
       "min": 0.0,
       "orientation": "horizontal",
       "style": "IPY_MODEL_8a5d4ffb3dae495a87d02e736dad4078",
       "value": 4309802.0
      }
     },
     "d9e40b8b9a304f18970555cfee9896cd": {
      "model_module": "@jupyter-widgets/controls",
      "model_module_version": "1.5.0",
      "model_name": "HBoxModel",
      "state": {
       "_dom_classes": [],
       "_model_module": "@jupyter-widgets/controls",
       "_model_module_version": "1.5.0",
       "_model_name": "HBoxModel",
       "_view_count": null,
       "_view_module": "@jupyter-widgets/controls",
       "_view_module_version": "1.5.0",
       "_view_name": "HBoxView",
       "box_style": "",
       "children": [
        "IPY_MODEL_24c2e36feb5b461caca73b3e8b07ade5",
        "IPY_MODEL_baff921485e84dd2832dfa3297ce9032",
        "IPY_MODEL_266627f4aa1f425d9507a4922d135134"
       ],
       "layout": "IPY_MODEL_60d909dba4db416abb4e9becd54b5daf"
      }
     },
     "ddb514c85ee440b88b122817253e2aab": {
      "model_module": "@jupyter-widgets/base",
      "model_module_version": "1.2.0",
      "model_name": "LayoutModel",
      "state": {
       "_model_module": "@jupyter-widgets/base",
       "_model_module_version": "1.2.0",
       "_model_name": "LayoutModel",
       "_view_count": null,
       "_view_module": "@jupyter-widgets/base",
       "_view_module_version": "1.2.0",
       "_view_name": "LayoutView",
       "align_content": null,
       "align_items": null,
       "align_self": null,
       "border": null,
       "bottom": null,
       "display": null,
       "flex": null,
       "flex_flow": null,
       "grid_area": null,
       "grid_auto_columns": null,
       "grid_auto_flow": null,
       "grid_auto_rows": null,
       "grid_column": null,
       "grid_gap": null,
       "grid_row": null,
       "grid_template_areas": null,
       "grid_template_columns": null,
       "grid_template_rows": null,
       "height": null,
       "justify_content": null,
       "justify_items": null,
       "left": null,
       "margin": null,
       "max_height": null,
       "max_width": null,
       "min_height": null,
       "min_width": null,
       "object_fit": null,
       "object_position": null,
       "order": null,
       "overflow": null,
       "overflow_x": null,
       "overflow_y": null,
       "padding": null,
       "right": null,
       "top": null,
       "visibility": null,
       "width": null
      }
     },
     "de8914cac78f48a0bc11ae8c220e6acc": {
      "model_module": "@jupyter-widgets/controls",
      "model_module_version": "1.5.0",
      "model_name": "ProgressStyleModel",
      "state": {
       "_model_module": "@jupyter-widgets/controls",
       "_model_module_version": "1.5.0",
       "_model_name": "ProgressStyleModel",
       "_view_count": null,
       "_view_module": "@jupyter-widgets/base",
       "_view_module_version": "1.2.0",
       "_view_name": "StyleView",
       "bar_color": null,
       "description_width": ""
      }
     },
     "e0d462af2f5c4938ae08d90dad17bfba": {
      "model_module": "@jupyter-widgets/base",
      "model_module_version": "1.2.0",
      "model_name": "LayoutModel",
      "state": {
       "_model_module": "@jupyter-widgets/base",
       "_model_module_version": "1.2.0",
       "_model_name": "LayoutModel",
       "_view_count": null,
       "_view_module": "@jupyter-widgets/base",
       "_view_module_version": "1.2.0",
       "_view_name": "LayoutView",
       "align_content": null,
       "align_items": null,
       "align_self": null,
       "border": null,
       "bottom": null,
       "display": null,
       "flex": null,
       "flex_flow": null,
       "grid_area": null,
       "grid_auto_columns": null,
       "grid_auto_flow": null,
       "grid_auto_rows": null,
       "grid_column": null,
       "grid_gap": null,
       "grid_row": null,
       "grid_template_areas": null,
       "grid_template_columns": null,
       "grid_template_rows": null,
       "height": null,
       "justify_content": null,
       "justify_items": null,
       "left": null,
       "margin": null,
       "max_height": null,
       "max_width": null,
       "min_height": null,
       "min_width": null,
       "object_fit": null,
       "object_position": null,
       "order": null,
       "overflow": null,
       "overflow_x": null,
       "overflow_y": null,
       "padding": null,
       "right": null,
       "top": null,
       "visibility": null,
       "width": null
      }
     },
     "e7f9e07ba49b4cb28319c5e00f74172c": {
      "model_module": "@jupyter-widgets/controls",
      "model_module_version": "1.5.0",
      "model_name": "HBoxModel",
      "state": {
       "_dom_classes": [],
       "_model_module": "@jupyter-widgets/controls",
       "_model_module_version": "1.5.0",
       "_model_name": "HBoxModel",
       "_view_count": null,
       "_view_module": "@jupyter-widgets/controls",
       "_view_module_version": "1.5.0",
       "_view_name": "HBoxView",
       "box_style": "",
       "children": [
        "IPY_MODEL_c63e94c9da5748ddafee886028c209c6",
        "IPY_MODEL_19de8ead35174ce9b0fb25dac4569408",
        "IPY_MODEL_7414e50bcf8348a1bb2f90c43319fe51"
       ],
       "layout": "IPY_MODEL_5675c517009f46beadfa736c08e5ed66"
      }
     },
     "e90111c4c6d94236a1aa48898bd7d62f": {
      "model_module": "@jupyter-widgets/base",
      "model_module_version": "1.2.0",
      "model_name": "LayoutModel",
      "state": {
       "_model_module": "@jupyter-widgets/base",
       "_model_module_version": "1.2.0",
       "_model_name": "LayoutModel",
       "_view_count": null,
       "_view_module": "@jupyter-widgets/base",
       "_view_module_version": "1.2.0",
       "_view_name": "LayoutView",
       "align_content": null,
       "align_items": null,
       "align_self": null,
       "border": null,
       "bottom": null,
       "display": null,
       "flex": null,
       "flex_flow": null,
       "grid_area": null,
       "grid_auto_columns": null,
       "grid_auto_flow": null,
       "grid_auto_rows": null,
       "grid_column": null,
       "grid_gap": null,
       "grid_row": null,
       "grid_template_areas": null,
       "grid_template_columns": null,
       "grid_template_rows": null,
       "height": null,
       "justify_content": null,
       "justify_items": null,
       "left": null,
       "margin": null,
       "max_height": null,
       "max_width": null,
       "min_height": null,
       "min_width": null,
       "object_fit": null,
       "object_position": null,
       "order": null,
       "overflow": null,
       "overflow_x": null,
       "overflow_y": null,
       "padding": null,
       "right": null,
       "top": null,
       "visibility": null,
       "width": null
      }
     },
     "e9c02cc8d4d14788bbb3d3a889df6feb": {
      "model_module": "@jupyter-widgets/controls",
      "model_module_version": "1.5.0",
      "model_name": "HBoxModel",
      "state": {
       "_dom_classes": [],
       "_model_module": "@jupyter-widgets/controls",
       "_model_module_version": "1.5.0",
       "_model_name": "HBoxModel",
       "_view_count": null,
       "_view_module": "@jupyter-widgets/controls",
       "_view_module_version": "1.5.0",
       "_view_name": "HBoxView",
       "box_style": "",
       "children": [
        "IPY_MODEL_f25339c2941340c6b98b6db82ed16ea7",
        "IPY_MODEL_d6ce3bd224e246e2ab27a2f229a98ac7",
        "IPY_MODEL_fad398bb9299455ea659a8b3e29be54c"
       ],
       "layout": "IPY_MODEL_1d6adaa4f45f4e70abbd4c1070d7f913"
      }
     },
     "eb19fac84c044ad3bc06a8b8253c6585": {
      "model_module": "@jupyter-widgets/controls",
      "model_module_version": "1.5.0",
      "model_name": "HTMLModel",
      "state": {
       "_dom_classes": [],
       "_model_module": "@jupyter-widgets/controls",
       "_model_module_version": "1.5.0",
       "_model_name": "HTMLModel",
       "_view_count": null,
       "_view_module": "@jupyter-widgets/controls",
       "_view_module_version": "1.5.0",
       "_view_name": "HTMLView",
       "description": "",
       "description_tooltip": null,
       "layout": "IPY_MODEL_bd49ca485c3a4103bc3de8a9434615b8",
       "placeholder": "​",
       "style": "IPY_MODEL_afa525ed80714743b892432cffdf0d4b",
       "value": " 4.48k/? [00:00&lt;00:00, 303kB/s]"
      }
     },
     "ed1cba9221b142f5927949d27761a730": {
      "model_module": "@jupyter-widgets/controls",
      "model_module_version": "1.5.0",
      "model_name": "ProgressStyleModel",
      "state": {
       "_model_module": "@jupyter-widgets/controls",
       "_model_module_version": "1.5.0",
       "_model_name": "ProgressStyleModel",
       "_view_count": null,
       "_view_module": "@jupyter-widgets/base",
       "_view_module_version": "1.2.0",
       "_view_name": "StyleView",
       "bar_color": null,
       "description_width": ""
      }
     },
     "f22152853cc446d5af6d103f0d76c3c3": {
      "model_module": "@jupyter-widgets/controls",
      "model_module_version": "1.5.0",
      "model_name": "DescriptionStyleModel",
      "state": {
       "_model_module": "@jupyter-widgets/controls",
       "_model_module_version": "1.5.0",
       "_model_name": "DescriptionStyleModel",
       "_view_count": null,
       "_view_module": "@jupyter-widgets/base",
       "_view_module_version": "1.2.0",
       "_view_name": "StyleView",
       "description_width": ""
      }
     },
     "f25339c2941340c6b98b6db82ed16ea7": {
      "model_module": "@jupyter-widgets/controls",
      "model_module_version": "1.5.0",
      "model_name": "HTMLModel",
      "state": {
       "_dom_classes": [],
       "_model_module": "@jupyter-widgets/controls",
       "_model_module_version": "1.5.0",
       "_model_name": "HTMLModel",
       "_view_count": null,
       "_view_module": "@jupyter-widgets/controls",
       "_view_module_version": "1.5.0",
       "_view_name": "HTMLView",
       "description": "",
       "description_tooltip": null,
       "layout": "IPY_MODEL_fb32f10b3e4b422a8c854bef6872c3c7",
       "placeholder": "​",
       "style": "IPY_MODEL_76917ccff6c044d2916dc67b4c895865",
       "value": "Downloading (…)ve/main/spiece.model: 100%"
      }
     },
     "f3e1229f06a34f8eb6521c5cc7ffb850": {
      "model_module": "@jupyter-widgets/controls",
      "model_module_version": "1.5.0",
      "model_name": "HTMLModel",
      "state": {
       "_dom_classes": [],
       "_model_module": "@jupyter-widgets/controls",
       "_model_module_version": "1.5.0",
       "_model_name": "HTMLModel",
       "_view_count": null,
       "_view_module": "@jupyter-widgets/controls",
       "_view_module_version": "1.5.0",
       "_view_name": "HTMLView",
       "description": "",
       "description_tooltip": null,
       "layout": "IPY_MODEL_d3e0d0c8787e4cb3b46556a9d7df7840",
       "placeholder": "​",
       "style": "IPY_MODEL_cd85a872a853470b8f98c71d9b3de4c4",
       "value": " 147/147 [00:00&lt;00:00, 10.8kB/s]"
      }
     },
     "f7ba88d8ae0a49ae9a5efe1d79d2b2fa": {
      "model_module": "@jupyter-widgets/base",
      "model_module_version": "1.2.0",
      "model_name": "LayoutModel",
      "state": {
       "_model_module": "@jupyter-widgets/base",
       "_model_module_version": "1.2.0",
       "_model_name": "LayoutModel",
       "_view_count": null,
       "_view_module": "@jupyter-widgets/base",
       "_view_module_version": "1.2.0",
       "_view_name": "LayoutView",
       "align_content": null,
       "align_items": null,
       "align_self": null,
       "border": null,
       "bottom": null,
       "display": null,
       "flex": null,
       "flex_flow": null,
       "grid_area": null,
       "grid_auto_columns": null,
       "grid_auto_flow": null,
       "grid_auto_rows": null,
       "grid_column": null,
       "grid_gap": null,
       "grid_row": null,
       "grid_template_areas": null,
       "grid_template_columns": null,
       "grid_template_rows": null,
       "height": null,
       "justify_content": null,
       "justify_items": null,
       "left": null,
       "margin": null,
       "max_height": null,
       "max_width": null,
       "min_height": null,
       "min_width": null,
       "object_fit": null,
       "object_position": null,
       "order": null,
       "overflow": null,
       "overflow_x": null,
       "overflow_y": null,
       "padding": null,
       "right": null,
       "top": null,
       "visibility": null,
       "width": null
      }
     },
     "f9907843c7c94632abad523509d24cdd": {
      "model_module": "@jupyter-widgets/base",
      "model_module_version": "1.2.0",
      "model_name": "LayoutModel",
      "state": {
       "_model_module": "@jupyter-widgets/base",
       "_model_module_version": "1.2.0",
       "_model_name": "LayoutModel",
       "_view_count": null,
       "_view_module": "@jupyter-widgets/base",
       "_view_module_version": "1.2.0",
       "_view_name": "LayoutView",
       "align_content": null,
       "align_items": null,
       "align_self": null,
       "border": null,
       "bottom": null,
       "display": null,
       "flex": null,
       "flex_flow": null,
       "grid_area": null,
       "grid_auto_columns": null,
       "grid_auto_flow": null,
       "grid_auto_rows": null,
       "grid_column": null,
       "grid_gap": null,
       "grid_row": null,
       "grid_template_areas": null,
       "grid_template_columns": null,
       "grid_template_rows": null,
       "height": null,
       "justify_content": null,
       "justify_items": null,
       "left": null,
       "margin": null,
       "max_height": null,
       "max_width": null,
       "min_height": null,
       "min_width": null,
       "object_fit": null,
       "object_position": null,
       "order": null,
       "overflow": null,
       "overflow_x": null,
       "overflow_y": null,
       "padding": null,
       "right": null,
       "top": null,
       "visibility": null,
       "width": null
      }
     },
     "fabceeda846d4581b933ef3bbb15bd02": {
      "model_module": "@jupyter-widgets/controls",
      "model_module_version": "1.5.0",
      "model_name": "ProgressStyleModel",
      "state": {
       "_model_module": "@jupyter-widgets/controls",
       "_model_module_version": "1.5.0",
       "_model_name": "ProgressStyleModel",
       "_view_count": null,
       "_view_module": "@jupyter-widgets/base",
       "_view_module_version": "1.2.0",
       "_view_name": "StyleView",
       "bar_color": null,
       "description_width": ""
      }
     },
     "fad398bb9299455ea659a8b3e29be54c": {
      "model_module": "@jupyter-widgets/controls",
      "model_module_version": "1.5.0",
      "model_name": "HTMLModel",
      "state": {
       "_dom_classes": [],
       "_model_module": "@jupyter-widgets/controls",
       "_model_module_version": "1.5.0",
       "_model_name": "HTMLModel",
       "_view_count": null,
       "_view_module": "@jupyter-widgets/controls",
       "_view_module_version": "1.5.0",
       "_view_name": "HTMLView",
       "description": "",
       "description_tooltip": null,
       "layout": "IPY_MODEL_f9907843c7c94632abad523509d24cdd",
       "placeholder": "​",
       "style": "IPY_MODEL_b9eeb7e6b12b488082ea378b98e0b905",
       "value": " 4.31M/4.31M [00:00&lt;00:00, 43.5MB/s]"
      }
     },
     "fb32f10b3e4b422a8c854bef6872c3c7": {
      "model_module": "@jupyter-widgets/base",
      "model_module_version": "1.2.0",
      "model_name": "LayoutModel",
      "state": {
       "_model_module": "@jupyter-widgets/base",
       "_model_module_version": "1.2.0",
       "_model_name": "LayoutModel",
       "_view_count": null,
       "_view_module": "@jupyter-widgets/base",
       "_view_module_version": "1.2.0",
       "_view_name": "LayoutView",
       "align_content": null,
       "align_items": null,
       "align_self": null,
       "border": null,
       "bottom": null,
       "display": null,
       "flex": null,
       "flex_flow": null,
       "grid_area": null,
       "grid_auto_columns": null,
       "grid_auto_flow": null,
       "grid_auto_rows": null,
       "grid_column": null,
       "grid_gap": null,
       "grid_row": null,
       "grid_template_areas": null,
       "grid_template_columns": null,
       "grid_template_rows": null,
       "height": null,
       "justify_content": null,
       "justify_items": null,
       "left": null,
       "margin": null,
       "max_height": null,
       "max_width": null,
       "min_height": null,
       "min_width": null,
       "object_fit": null,
       "object_position": null,
       "order": null,
       "overflow": null,
       "overflow_x": null,
       "overflow_y": null,
       "padding": null,
       "right": null,
       "top": null,
       "visibility": null,
       "width": null
      }
     },
     "ff210fcb8f064a9b9e8aed724d4831c6": {
      "model_module": "@jupyter-widgets/controls",
      "model_module_version": "1.5.0",
      "model_name": "ProgressStyleModel",
      "state": {
       "_model_module": "@jupyter-widgets/controls",
       "_model_module_version": "1.5.0",
       "_model_name": "ProgressStyleModel",
       "_view_count": null,
       "_view_module": "@jupyter-widgets/base",
       "_view_module_version": "1.2.0",
       "_view_name": "StyleView",
       "bar_color": null,
       "description_width": ""
      }
     }
    },
    "version_major": 2,
    "version_minor": 0
   }
  }
 },
 "nbformat": 4,
 "nbformat_minor": 5
}
