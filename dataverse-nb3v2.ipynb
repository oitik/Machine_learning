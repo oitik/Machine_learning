{
 "cells": [
  {
   "cell_type": "code",
   "execution_count": 1,
   "id": "b4587e1b",
   "metadata": {
    "execution": {
     "iopub.execute_input": "2023-10-27T15:50:12.516853Z",
     "iopub.status.busy": "2023-10-27T15:50:12.516112Z",
     "iopub.status.idle": "2023-10-27T15:50:14.172370Z",
     "shell.execute_reply": "2023-10-27T15:50:14.171462Z"
    },
    "papermill": {
     "duration": 1.682094,
     "end_time": "2023-10-27T15:50:14.174648",
     "exception": false,
     "start_time": "2023-10-27T15:50:12.492554",
     "status": "completed"
    },
    "tags": []
   },
   "outputs": [
    {
     "name": "stderr",
     "output_type": "stream",
     "text": [
      "/opt/conda/lib/python3.10/site-packages/scipy/__init__.py:146: UserWarning: A NumPy version >=1.16.5 and <1.23.0 is required for this version of SciPy (detected version 1.23.5\n",
      "  warnings.warn(f\"A NumPy version >={np_minversion} and <{np_maxversion}\"\n"
     ]
    }
   ],
   "source": [
    "# Regular EDA(exploratory data analysis) and plotting libraries\n",
    "import numpy as np\n",
    "import pandas as pd\n",
    "import matplotlib.pyplot as plt\n",
    "\n",
    "from sklearn.model_selection import train_test_split\n",
    "%matplotlib inline\n",
    "\n",
    "from tqdm import tqdm\n",
    "import string\n",
    "import statistics\n",
    "import re\n",
    "import joblib\n",
    "import random"
   ]
  },
  {
   "cell_type": "code",
   "execution_count": 2,
   "id": "f6551b5e",
   "metadata": {
    "execution": {
     "iopub.execute_input": "2023-10-27T15:50:14.219863Z",
     "iopub.status.busy": "2023-10-27T15:50:14.218994Z",
     "iopub.status.idle": "2023-10-27T15:50:14.490620Z",
     "shell.execute_reply": "2023-10-27T15:50:14.489715Z"
    },
    "papermill": {
     "duration": 0.296072,
     "end_time": "2023-10-27T15:50:14.492707",
     "exception": false,
     "start_time": "2023-10-27T15:50:14.196635",
     "status": "completed"
    },
    "tags": []
   },
   "outputs": [
    {
     "data": {
      "text/html": [
       "<div>\n",
       "<style scoped>\n",
       "    .dataframe tbody tr th:only-of-type {\n",
       "        vertical-align: middle;\n",
       "    }\n",
       "\n",
       "    .dataframe tbody tr th {\n",
       "        vertical-align: top;\n",
       "    }\n",
       "\n",
       "    .dataframe thead th {\n",
       "        text-align: right;\n",
       "    }\n",
       "</style>\n",
       "<table border=\"1\" class=\"dataframe\">\n",
       "  <thead>\n",
       "    <tr style=\"text-align: right;\">\n",
       "      <th></th>\n",
       "      <th>text</th>\n",
       "      <th>ipa</th>\n",
       "    </tr>\n",
       "  </thead>\n",
       "  <tbody>\n",
       "    <tr>\n",
       "      <th>0</th>\n",
       "      <td>এরপরও তারা বকেয়া পরিশোধ করেনি।</td>\n",
       "      <td>eɾpɔɾo t̪ɐɾɐ bɔkeʲɐ poɾɪʃod̪ʱ kɔɾenɪ।</td>\n",
       "    </tr>\n",
       "    <tr>\n",
       "      <th>1</th>\n",
       "      <td>আগে সুইস ব্যাংকে জমা টাকার কোনো প্রতিবেদন প্রক...</td>\n",
       "      <td>ɐge suɪ̯s bɛŋke ɟɔmɐ tɐkɐɾ kono pɾot̪ɪbed̪ɔn p...</td>\n",
       "    </tr>\n",
       "  </tbody>\n",
       "</table>\n",
       "</div>"
      ],
      "text/plain": [
       "                                                text  \\\n",
       "0                     এরপরও তারা বকেয়া পরিশোধ করেনি।   \n",
       "1  আগে সুইস ব্যাংকে জমা টাকার কোনো প্রতিবেদন প্রক...   \n",
       "\n",
       "                                                 ipa  \n",
       "0              eɾpɔɾo t̪ɐɾɐ bɔkeʲɐ poɾɪʃod̪ʱ kɔɾenɪ।  \n",
       "1  ɐge suɪ̯s bɛŋke ɟɔmɐ tɐkɐɾ kono pɾot̪ɪbed̪ɔn p...  "
      ]
     },
     "execution_count": 2,
     "metadata": {},
     "output_type": "execute_result"
    }
   ],
   "source": [
    "# Import the training set\n",
    "df = pd.read_csv('/kaggle/input/dataverse-ipa/dataverse_2023/trainIPAdb_u.csv')\n",
    "df.head(2)"
   ]
  },
  {
   "cell_type": "code",
   "execution_count": 3,
   "id": "3e4df868",
   "metadata": {
    "execution": {
     "iopub.execute_input": "2023-10-27T15:50:14.538551Z",
     "iopub.status.busy": "2023-10-27T15:50:14.538225Z",
     "iopub.status.idle": "2023-10-27T15:50:14.543356Z",
     "shell.execute_reply": "2023-10-27T15:50:14.542483Z"
    },
    "papermill": {
     "duration": 0.029682,
     "end_time": "2023-10-27T15:50:14.545299",
     "exception": false,
     "start_time": "2023-10-27T15:50:14.515617",
     "status": "completed"
    },
    "tags": []
   },
   "outputs": [
    {
     "name": "stdout",
     "output_type": "stream",
     "text": [
      "Text = তাও নোংরা, দুর্গন্ধ ও ব্যবহার অনুপযোগী।\n",
      "IPA = t̪ɐo̯ noŋɾɐ, d̪uɾgɔnd̪ʱo o bɛbohɐɾ ɔnupoɟogɪ। \n"
     ]
    }
   ],
   "source": [
    "# See a random sample from the training set \n",
    "rand_index = np.random.randint(0, len(df))\n",
    "print(f'Text = {df.text[rand_index]}\\nIPA = {df.ipa[rand_index]}')"
   ]
  },
  {
   "cell_type": "code",
   "execution_count": 4,
   "id": "f2ccf93a",
   "metadata": {
    "execution": {
     "iopub.execute_input": "2023-10-27T15:50:14.590269Z",
     "iopub.status.busy": "2023-10-27T15:50:14.589987Z",
     "iopub.status.idle": "2023-10-27T15:50:14.611207Z",
     "shell.execute_reply": "2023-10-27T15:50:14.610243Z"
    },
    "papermill": {
     "duration": 0.046131,
     "end_time": "2023-10-27T15:50:14.613292",
     "exception": false,
     "start_time": "2023-10-27T15:50:14.567161",
     "status": "completed"
    },
    "tags": []
   },
   "outputs": [
    {
     "data": {
      "text/html": [
       "<div>\n",
       "<style scoped>\n",
       "    .dataframe tbody tr th:only-of-type {\n",
       "        vertical-align: middle;\n",
       "    }\n",
       "\n",
       "    .dataframe tbody tr th {\n",
       "        vertical-align: top;\n",
       "    }\n",
       "\n",
       "    .dataframe thead th {\n",
       "        text-align: right;\n",
       "    }\n",
       "</style>\n",
       "<table border=\"1\" class=\"dataframe\">\n",
       "  <thead>\n",
       "    <tr style=\"text-align: right;\">\n",
       "      <th></th>\n",
       "      <th>text</th>\n",
       "      <th>ipa</th>\n",
       "    </tr>\n",
       "  </thead>\n",
       "  <tbody>\n",
       "    <tr>\n",
       "      <th>0</th>\n",
       "      <td>আমি বলেন সাত আদালতের।</td>\n",
       "      <td>ɐmɪ bɔlen ʃɐt̪ ɐd̪ɐlɔt̪eɾ।</td>\n",
       "    </tr>\n",
       "    <tr>\n",
       "      <th>1</th>\n",
       "      <td>তুমি করা চুরানব্বই রাখে।</td>\n",
       "      <td>t̪umɪ kɔɾɐ cuɾɐnɔbboɪ ɾɐkʰe।</td>\n",
       "    </tr>\n",
       "    <tr>\n",
       "      <th>2</th>\n",
       "      <td>আমরা স্বীকার আটান্ন উপস্থিত।</td>\n",
       "      <td>ɐmɾɐ ʃɪkɐɾ ɐtɐnno upost̪ʰɪt̪।</td>\n",
       "    </tr>\n",
       "  </tbody>\n",
       "</table>\n",
       "</div>"
      ],
      "text/plain": [
       "                           text                            ipa\n",
       "0         আমি বলেন সাত আদালতের।     ɐmɪ bɔlen ʃɐt̪ ɐd̪ɐlɔt̪eɾ।\n",
       "1      তুমি করা চুরানব্বই রাখে।   t̪umɪ kɔɾɐ cuɾɐnɔbboɪ ɾɐkʰe।\n",
       "2  আমরা স্বীকার আটান্ন উপস্থিত।  ɐmɾɐ ʃɪkɐɾ ɐtɐnno upost̪ʰɪt̪।"
      ]
     },
     "execution_count": 4,
     "metadata": {},
     "output_type": "execute_result"
    }
   ],
   "source": [
    "new_df = pd.read_csv('/kaggle/input/dataverse-ipa/new_train.csv')\n",
    "new_df.head(3)"
   ]
  },
  {
   "cell_type": "code",
   "execution_count": 5,
   "id": "5d2560f4",
   "metadata": {
    "execution": {
     "iopub.execute_input": "2023-10-27T15:50:14.659177Z",
     "iopub.status.busy": "2023-10-27T15:50:14.658904Z",
     "iopub.status.idle": "2023-10-27T15:50:14.854000Z",
     "shell.execute_reply": "2023-10-27T15:50:14.853065Z"
    },
    "papermill": {
     "duration": 0.220342,
     "end_time": "2023-10-27T15:50:14.856013",
     "exception": false,
     "start_time": "2023-10-27T15:50:14.635671",
     "status": "completed"
    },
    "tags": []
   },
   "outputs": [
    {
     "data": {
      "text/html": [
       "<div>\n",
       "<style scoped>\n",
       "    .dataframe tbody tr th:only-of-type {\n",
       "        vertical-align: middle;\n",
       "    }\n",
       "\n",
       "    .dataframe tbody tr th {\n",
       "        vertical-align: top;\n",
       "    }\n",
       "\n",
       "    .dataframe thead th {\n",
       "        text-align: right;\n",
       "    }\n",
       "</style>\n",
       "<table border=\"1\" class=\"dataframe\">\n",
       "  <thead>\n",
       "    <tr style=\"text-align: right;\">\n",
       "      <th></th>\n",
       "      <th>row_id_column_name</th>\n",
       "      <th>text</th>\n",
       "    </tr>\n",
       "  </thead>\n",
       "  <tbody>\n",
       "    <tr>\n",
       "      <th>0</th>\n",
       "      <td>0</td>\n",
       "      <td>বিশেষ অতিথি এফএম ইকবাল বিন আনোয়ার (ডন) অ্যাডিশ...</td>\n",
       "    </tr>\n",
       "    <tr>\n",
       "      <th>1</th>\n",
       "      <td>1</td>\n",
       "      <td>এ নিয়ে বিবাদে ২০১৫ সালের ২ জুন রাত সাড়ে ১১টায় ...</td>\n",
       "    </tr>\n",
       "    <tr>\n",
       "      <th>2</th>\n",
       "      <td>2</td>\n",
       "      <td>আজ থেকে ১৪ বছর আগে তিনি চলে গেছেন না ফেরার দেশে।</td>\n",
       "    </tr>\n",
       "  </tbody>\n",
       "</table>\n",
       "</div>"
      ],
      "text/plain": [
       "   row_id_column_name                                               text\n",
       "0                   0  বিশেষ অতিথি এফএম ইকবাল বিন আনোয়ার (ডন) অ্যাডিশ...\n",
       "1                   1  এ নিয়ে বিবাদে ২০১৫ সালের ২ জুন রাত সাড়ে ১১টায় ...\n",
       "2                   2   আজ থেকে ১৪ বছর আগে তিনি চলে গেছেন না ফেরার দেশে।"
      ]
     },
     "execution_count": 5,
     "metadata": {},
     "output_type": "execute_result"
    }
   ],
   "source": [
    "test_df = pd.read_csv('/kaggle/input/dataverse-ipa/dataverse_2023/testData.csv')\n",
    "test_df.head(3)"
   ]
  },
  {
   "cell_type": "markdown",
   "id": "33c294df",
   "metadata": {
    "papermill": {
     "duration": 0.022,
     "end_time": "2023-10-27T15:50:14.946345",
     "exception": false,
     "start_time": "2023-10-27T15:50:14.924345",
     "status": "completed"
    },
    "tags": []
   },
   "source": [
    "## Training Data Library "
   ]
  },
  {
   "cell_type": "code",
   "execution_count": 6,
   "id": "460920a3",
   "metadata": {
    "execution": {
     "iopub.execute_input": "2023-10-27T15:50:14.992271Z",
     "iopub.status.busy": "2023-10-27T15:50:14.991606Z",
     "iopub.status.idle": "2023-10-27T15:50:14.997677Z",
     "shell.execute_reply": "2023-10-27T15:50:14.996815Z"
    },
    "papermill": {
     "duration": 0.031113,
     "end_time": "2023-10-27T15:50:14.999575",
     "exception": false,
     "start_time": "2023-10-27T15:50:14.968462",
     "status": "completed"
    },
    "tags": []
   },
   "outputs": [],
   "source": [
    "# Make a function\n",
    "def make_library(df):\n",
    "    '''\n",
    "    \n",
    "    '''\n",
    "    library = {}\n",
    "    texts = df.text\n",
    "    ipas = df.ipa\n",
    "    for i in tqdm(range(len(df))):\n",
    "        for (v1, v2) in zip(re.split(r'\\s+|(?=।)', texts[i]), re.split(r'\\s+|(?=।)', ipas[i])):\n",
    "            library[v1] = v2\n",
    "    return library"
   ]
  },
  {
   "cell_type": "code",
   "execution_count": 7,
   "id": "352079c6",
   "metadata": {
    "execution": {
     "iopub.execute_input": "2023-10-27T15:50:15.045230Z",
     "iopub.status.busy": "2023-10-27T15:50:15.044573Z",
     "iopub.status.idle": "2023-10-27T15:50:15.996098Z",
     "shell.execute_reply": "2023-10-27T15:50:15.995162Z"
    },
    "papermill": {
     "duration": 0.976635,
     "end_time": "2023-10-27T15:50:15.998252",
     "exception": false,
     "start_time": "2023-10-27T15:50:15.021617",
     "status": "completed"
    },
    "tags": []
   },
   "outputs": [
    {
     "name": "stderr",
     "output_type": "stream",
     "text": [
      "100%|██████████| 21999/21999 [00:00<00:00, 23303.11it/s]\n"
     ]
    }
   ],
   "source": [
    "lib = make_library(df)\n",
    "# lib.update(make_library(new_df))"
   ]
  },
  {
   "cell_type": "code",
   "execution_count": 8,
   "id": "f23a017a",
   "metadata": {
    "execution": {
     "iopub.execute_input": "2023-10-27T15:50:16.046400Z",
     "iopub.status.busy": "2023-10-27T15:50:16.045827Z",
     "iopub.status.idle": "2023-10-27T15:50:16.050077Z",
     "shell.execute_reply": "2023-10-27T15:50:16.049203Z"
    },
    "papermill": {
     "duration": 0.030253,
     "end_time": "2023-10-27T15:50:16.052011",
     "exception": false,
     "start_time": "2023-10-27T15:50:16.021758",
     "status": "completed"
    },
    "tags": []
   },
   "outputs": [],
   "source": [
    "# Add brackets is the library\n",
    "lib['('] = '('\n",
    "lib[')'] = ')'"
   ]
  },
  {
   "cell_type": "code",
   "execution_count": 9,
   "id": "50924357",
   "metadata": {
    "execution": {
     "iopub.execute_input": "2023-10-27T15:50:16.099762Z",
     "iopub.status.busy": "2023-10-27T15:50:16.099486Z",
     "iopub.status.idle": "2023-10-27T15:50:16.170877Z",
     "shell.execute_reply": "2023-10-27T15:50:16.169710Z"
    },
    "papermill": {
     "duration": 0.098265,
     "end_time": "2023-10-27T15:50:16.173397",
     "exception": false,
     "start_time": "2023-10-27T15:50:16.075132",
     "status": "completed"
    },
    "tags": []
   },
   "outputs": [
    {
     "name": "stdout",
     "output_type": "stream",
     "text": [
      "[('এরপরও', 'eɾpɔɾo'), ('তারা', 't̪ɐɾɐ'), ('বকেয়া', 'bɔkeʲɐ'), ('পরিশোধ', 'poɾɪʃod̪ʱ'), ('করেনি', 'kɔɾenɪ'), ('।', '।'), ('আগে', 'ɐge'), ('সুইস', 'suɪ̯s'), ('ব্যাংকে', 'bɛŋke'), ('জমা', 'ɟɔmɐ')]\n"
     ]
    },
    {
     "data": {
      "text/plain": [
       "34817"
      ]
     },
     "execution_count": 9,
     "metadata": {},
     "output_type": "execute_result"
    }
   ],
   "source": [
    "print(list(lib.items())[:10])\n",
    "len(lib)"
   ]
  },
  {
   "cell_type": "code",
   "execution_count": 10,
   "id": "9585c5b4",
   "metadata": {
    "execution": {
     "iopub.execute_input": "2023-10-27T15:50:16.222557Z",
     "iopub.status.busy": "2023-10-27T15:50:16.221895Z",
     "iopub.status.idle": "2023-10-27T15:50:16.306870Z",
     "shell.execute_reply": "2023-10-27T15:50:16.305801Z"
    },
    "papermill": {
     "duration": 0.111852,
     "end_time": "2023-10-27T15:50:16.309062",
     "exception": false,
     "start_time": "2023-10-27T15:50:16.197210",
     "status": "completed"
    },
    "tags": []
   },
   "outputs": [
    {
     "name": "stdout",
     "output_type": "stream",
     "text": [
      "Filtered Dictionary: 34505\n"
     ]
    }
   ],
   "source": [
    "bengali_char_pattern = re.compile(r'[\\u0980-\\u09FF]')\n",
    "\n",
    "filtered_lib = {key: value for key, value in lib.items() if not re.search(bengali_char_pattern, value)}\n",
    "\n",
    "print(\"Filtered Dictionary:\", len(filtered_lib))"
   ]
  },
  {
   "cell_type": "code",
   "execution_count": 11,
   "id": "8b246c10",
   "metadata": {
    "execution": {
     "iopub.execute_input": "2023-10-27T15:50:16.357742Z",
     "iopub.status.busy": "2023-10-27T15:50:16.357415Z",
     "iopub.status.idle": "2023-10-27T15:50:16.376918Z",
     "shell.execute_reply": "2023-10-27T15:50:16.376127Z"
    },
    "papermill": {
     "duration": 0.046505,
     "end_time": "2023-10-27T15:50:16.379437",
     "exception": false,
     "start_time": "2023-10-27T15:50:16.332932",
     "status": "completed"
    },
    "tags": []
   },
   "outputs": [
    {
     "name": "stdout",
     "output_type": "stream",
     "text": [
      "[('এরপরও', 'eɾpɔɾo'), ('তারা', 't̪ɐɾɐ'), ('বকেয়া', 'bɔkeʲɐ'), ('পরিশোধ', 'poɾɪʃod̪ʱ'), ('করেনি', 'kɔɾenɪ'), ('।', '।'), ('আগে', 'ɐge'), ('সুইস', 'suɪ̯s'), ('ব্যাংকে', 'bɛŋke'), ('জমা', 'ɟɔmɐ')]\n"
     ]
    },
    {
     "data": {
      "text/plain": [
       "34505"
      ]
     },
     "execution_count": 11,
     "metadata": {},
     "output_type": "execute_result"
    }
   ],
   "source": [
    "print(list(filtered_lib.items())[:10])\n",
    "len(filtered_lib)"
   ]
  },
  {
   "cell_type": "code",
   "execution_count": 12,
   "id": "9c82a12c",
   "metadata": {
    "execution": {
     "iopub.execute_input": "2023-10-27T15:50:16.448428Z",
     "iopub.status.busy": "2023-10-27T15:50:16.447170Z",
     "iopub.status.idle": "2023-10-27T15:50:16.452678Z",
     "shell.execute_reply": "2023-10-27T15:50:16.451719Z"
    },
    "papermill": {
     "duration": 0.04289,
     "end_time": "2023-10-27T15:50:16.454718",
     "exception": false,
     "start_time": "2023-10-27T15:50:16.411828",
     "status": "completed"
    },
    "tags": []
   },
   "outputs": [],
   "source": [
    "try:\n",
    "    lib['শ্রেণী']\n",
    "except:\n",
    "    print('ValueError')"
   ]
  },
  {
   "cell_type": "code",
   "execution_count": 13,
   "id": "c77cf77a",
   "metadata": {
    "execution": {
     "iopub.execute_input": "2023-10-27T15:50:16.506166Z",
     "iopub.status.busy": "2023-10-27T15:50:16.505846Z",
     "iopub.status.idle": "2023-10-27T15:50:16.512348Z",
     "shell.execute_reply": "2023-10-27T15:50:16.511512Z"
    },
    "papermill": {
     "duration": 0.032864,
     "end_time": "2023-10-27T15:50:16.514254",
     "exception": false,
     "start_time": "2023-10-27T15:50:16.481390",
     "status": "completed"
    },
    "tags": []
   },
   "outputs": [
    {
     "data": {
      "text/plain": [
       "34505"
      ]
     },
     "execution_count": 13,
     "metadata": {},
     "output_type": "execute_result"
    }
   ],
   "source": [
    "lib = filtered_lib\n",
    "len(lib)"
   ]
  },
  {
   "cell_type": "markdown",
   "id": "b66f0388",
   "metadata": {
    "papermill": {
     "duration": 0.023271,
     "end_time": "2023-10-27T15:50:16.561187",
     "exception": false,
     "start_time": "2023-10-27T15:50:16.537916",
     "status": "completed"
    },
    "tags": []
   },
   "source": [
    "### Modeling"
   ]
  },
  {
   "cell_type": "code",
   "execution_count": 14,
   "id": "5bc5a1d4",
   "metadata": {
    "execution": {
     "iopub.execute_input": "2023-10-27T15:50:16.616815Z",
     "iopub.status.busy": "2023-10-27T15:50:16.615923Z",
     "iopub.status.idle": "2023-10-27T15:50:21.038073Z",
     "shell.execute_reply": "2023-10-27T15:50:21.037250Z"
    },
    "papermill": {
     "duration": 4.453167,
     "end_time": "2023-10-27T15:50:21.040474",
     "exception": false,
     "start_time": "2023-10-27T15:50:16.587307",
     "status": "completed"
    },
    "tags": []
   },
   "outputs": [
    {
     "data": {
      "application/vnd.jupyter.widget-view+json": {
       "model_id": "6db54121e62446c882172913a8b7f373",
       "version_major": 2,
       "version_minor": 0
      },
      "text/plain": [
       "Downloading (…)okenizer_config.json:   0%|          | 0.00/82.0 [00:00<?, ?B/s]"
      ]
     },
     "metadata": {},
     "output_type": "display_data"
    },
    {
     "data": {
      "application/vnd.jupyter.widget-view+json": {
       "model_id": "f868c5a8a22241a483628a0bafdfeeb1",
       "version_major": 2,
       "version_minor": 0
      },
      "text/plain": [
       "Downloading (…)lve/main/config.json:   0%|          | 0.00/553 [00:00<?, ?B/s]"
      ]
     },
     "metadata": {},
     "output_type": "display_data"
    },
    {
     "data": {
      "application/vnd.jupyter.widget-view+json": {
       "model_id": "b0a2c76cc027424f9392579576003c6f",
       "version_major": 2,
       "version_minor": 0
      },
      "text/plain": [
       "Downloading (…)ve/main/spiece.model:   0%|          | 0.00/4.31M [00:00<?, ?B/s]"
      ]
     },
     "metadata": {},
     "output_type": "display_data"
    },
    {
     "data": {
      "application/vnd.jupyter.widget-view+json": {
       "model_id": "e61b42ac76c9429990e483ebd120a78c",
       "version_major": 2,
       "version_minor": 0
      },
      "text/plain": [
       "Downloading (…)cial_tokens_map.json:   0%|          | 0.00/99.0 [00:00<?, ?B/s]"
      ]
     },
     "metadata": {},
     "output_type": "display_data"
    },
    {
     "name": "stderr",
     "output_type": "stream",
     "text": [
      "You are using the default legacy behaviour of the <class 'transformers.models.t5.tokenization_t5.T5Tokenizer'>. If you see this, DO NOT PANIC! This is expected, and simply means that the `legacy` (previous) behavior will be used so nothing changes for you. If you want to use the new behaviour, set `legacy=False`. This should only be set if you understand what it means, and thouroughly read the reason why this was added as explained in https://github.com/huggingface/transformers/pull/24565\n",
      "/opt/conda/lib/python3.10/site-packages/transformers/convert_slow_tokenizer.py:473: UserWarning: The sentencepiece tokenizer that you are converting to a fast tokenizer uses the byte fallback option which is not implemented in the fast tokenizers. In practice this means that the fast version of the tokenizer can produce unknown tokens whereas the sentencepiece version would have converted these unknown tokens into a sequence of byte tokens matching the original piece of text.\n",
      "  warnings.warn(\n"
     ]
    }
   ],
   "source": [
    "from transformers import AutoTokenizer\n",
    "model_id = \"google/mt5-small\"\n",
    "tokenizer = AutoTokenizer.from_pretrained(model_id)"
   ]
  },
  {
   "cell_type": "code",
   "execution_count": 15,
   "id": "8aa082db",
   "metadata": {
    "_kg_hide-output": true,
    "execution": {
     "iopub.execute_input": "2023-10-27T15:50:21.091388Z",
     "iopub.status.busy": "2023-10-27T15:50:21.090894Z",
     "iopub.status.idle": "2023-10-27T15:50:47.334071Z",
     "shell.execute_reply": "2023-10-27T15:50:47.333146Z"
    },
    "papermill": {
     "duration": 26.270667,
     "end_time": "2023-10-27T15:50:47.336082",
     "exception": false,
     "start_time": "2023-10-27T15:50:21.065415",
     "status": "completed"
    },
    "tags": []
   },
   "outputs": [
    {
     "data": {
      "text/plain": [
       "MT5ForConditionalGeneration(\n",
       "  (shared): Embedding(250112, 512)\n",
       "  (encoder): MT5Stack(\n",
       "    (embed_tokens): Embedding(250112, 512)\n",
       "    (block): ModuleList(\n",
       "      (0): MT5Block(\n",
       "        (layer): ModuleList(\n",
       "          (0): MT5LayerSelfAttention(\n",
       "            (SelfAttention): MT5Attention(\n",
       "              (q): Linear(in_features=512, out_features=384, bias=False)\n",
       "              (k): Linear(in_features=512, out_features=384, bias=False)\n",
       "              (v): Linear(in_features=512, out_features=384, bias=False)\n",
       "              (o): Linear(in_features=384, out_features=512, bias=False)\n",
       "              (relative_attention_bias): Embedding(32, 6)\n",
       "            )\n",
       "            (layer_norm): MT5LayerNorm()\n",
       "            (dropout): Dropout(p=0.1, inplace=False)\n",
       "          )\n",
       "          (1): MT5LayerFF(\n",
       "            (DenseReluDense): MT5DenseGatedActDense(\n",
       "              (wi_0): Linear(in_features=512, out_features=1024, bias=False)\n",
       "              (wi_1): Linear(in_features=512, out_features=1024, bias=False)\n",
       "              (wo): Linear(in_features=1024, out_features=512, bias=False)\n",
       "              (dropout): Dropout(p=0.1, inplace=False)\n",
       "              (act): NewGELUActivation()\n",
       "            )\n",
       "            (layer_norm): MT5LayerNorm()\n",
       "            (dropout): Dropout(p=0.1, inplace=False)\n",
       "          )\n",
       "        )\n",
       "      )\n",
       "      (1-7): 7 x MT5Block(\n",
       "        (layer): ModuleList(\n",
       "          (0): MT5LayerSelfAttention(\n",
       "            (SelfAttention): MT5Attention(\n",
       "              (q): Linear(in_features=512, out_features=384, bias=False)\n",
       "              (k): Linear(in_features=512, out_features=384, bias=False)\n",
       "              (v): Linear(in_features=512, out_features=384, bias=False)\n",
       "              (o): Linear(in_features=384, out_features=512, bias=False)\n",
       "            )\n",
       "            (layer_norm): MT5LayerNorm()\n",
       "            (dropout): Dropout(p=0.1, inplace=False)\n",
       "          )\n",
       "          (1): MT5LayerFF(\n",
       "            (DenseReluDense): MT5DenseGatedActDense(\n",
       "              (wi_0): Linear(in_features=512, out_features=1024, bias=False)\n",
       "              (wi_1): Linear(in_features=512, out_features=1024, bias=False)\n",
       "              (wo): Linear(in_features=1024, out_features=512, bias=False)\n",
       "              (dropout): Dropout(p=0.1, inplace=False)\n",
       "              (act): NewGELUActivation()\n",
       "            )\n",
       "            (layer_norm): MT5LayerNorm()\n",
       "            (dropout): Dropout(p=0.1, inplace=False)\n",
       "          )\n",
       "        )\n",
       "      )\n",
       "    )\n",
       "    (final_layer_norm): MT5LayerNorm()\n",
       "    (dropout): Dropout(p=0.1, inplace=False)\n",
       "  )\n",
       "  (decoder): MT5Stack(\n",
       "    (embed_tokens): Embedding(250112, 512)\n",
       "    (block): ModuleList(\n",
       "      (0): MT5Block(\n",
       "        (layer): ModuleList(\n",
       "          (0): MT5LayerSelfAttention(\n",
       "            (SelfAttention): MT5Attention(\n",
       "              (q): Linear(in_features=512, out_features=384, bias=False)\n",
       "              (k): Linear(in_features=512, out_features=384, bias=False)\n",
       "              (v): Linear(in_features=512, out_features=384, bias=False)\n",
       "              (o): Linear(in_features=384, out_features=512, bias=False)\n",
       "              (relative_attention_bias): Embedding(32, 6)\n",
       "            )\n",
       "            (layer_norm): MT5LayerNorm()\n",
       "            (dropout): Dropout(p=0.1, inplace=False)\n",
       "          )\n",
       "          (1): MT5LayerCrossAttention(\n",
       "            (EncDecAttention): MT5Attention(\n",
       "              (q): Linear(in_features=512, out_features=384, bias=False)\n",
       "              (k): Linear(in_features=512, out_features=384, bias=False)\n",
       "              (v): Linear(in_features=512, out_features=384, bias=False)\n",
       "              (o): Linear(in_features=384, out_features=512, bias=False)\n",
       "            )\n",
       "            (layer_norm): MT5LayerNorm()\n",
       "            (dropout): Dropout(p=0.1, inplace=False)\n",
       "          )\n",
       "          (2): MT5LayerFF(\n",
       "            (DenseReluDense): MT5DenseGatedActDense(\n",
       "              (wi_0): Linear(in_features=512, out_features=1024, bias=False)\n",
       "              (wi_1): Linear(in_features=512, out_features=1024, bias=False)\n",
       "              (wo): Linear(in_features=1024, out_features=512, bias=False)\n",
       "              (dropout): Dropout(p=0.1, inplace=False)\n",
       "              (act): NewGELUActivation()\n",
       "            )\n",
       "            (layer_norm): MT5LayerNorm()\n",
       "            (dropout): Dropout(p=0.1, inplace=False)\n",
       "          )\n",
       "        )\n",
       "      )\n",
       "      (1-7): 7 x MT5Block(\n",
       "        (layer): ModuleList(\n",
       "          (0): MT5LayerSelfAttention(\n",
       "            (SelfAttention): MT5Attention(\n",
       "              (q): Linear(in_features=512, out_features=384, bias=False)\n",
       "              (k): Linear(in_features=512, out_features=384, bias=False)\n",
       "              (v): Linear(in_features=512, out_features=384, bias=False)\n",
       "              (o): Linear(in_features=384, out_features=512, bias=False)\n",
       "            )\n",
       "            (layer_norm): MT5LayerNorm()\n",
       "            (dropout): Dropout(p=0.1, inplace=False)\n",
       "          )\n",
       "          (1): MT5LayerCrossAttention(\n",
       "            (EncDecAttention): MT5Attention(\n",
       "              (q): Linear(in_features=512, out_features=384, bias=False)\n",
       "              (k): Linear(in_features=512, out_features=384, bias=False)\n",
       "              (v): Linear(in_features=512, out_features=384, bias=False)\n",
       "              (o): Linear(in_features=384, out_features=512, bias=False)\n",
       "            )\n",
       "            (layer_norm): MT5LayerNorm()\n",
       "            (dropout): Dropout(p=0.1, inplace=False)\n",
       "          )\n",
       "          (2): MT5LayerFF(\n",
       "            (DenseReluDense): MT5DenseGatedActDense(\n",
       "              (wi_0): Linear(in_features=512, out_features=1024, bias=False)\n",
       "              (wi_1): Linear(in_features=512, out_features=1024, bias=False)\n",
       "              (wo): Linear(in_features=1024, out_features=512, bias=False)\n",
       "              (dropout): Dropout(p=0.1, inplace=False)\n",
       "              (act): NewGELUActivation()\n",
       "            )\n",
       "            (layer_norm): MT5LayerNorm()\n",
       "            (dropout): Dropout(p=0.1, inplace=False)\n",
       "          )\n",
       "        )\n",
       "      )\n",
       "    )\n",
       "    (final_layer_norm): MT5LayerNorm()\n",
       "    (dropout): Dropout(p=0.1, inplace=False)\n",
       "  )\n",
       "  (lm_head): Linear(in_features=512, out_features=250112, bias=False)\n",
       ")"
      ]
     },
     "execution_count": 15,
     "metadata": {},
     "output_type": "execute_result"
    }
   ],
   "source": [
    "# Later, to load the model back\n",
    "loaded_model = joblib.load('/kaggle/input/model1/model (1).pkl')\n",
    "loaded_model"
   ]
  },
  {
   "cell_type": "code",
   "execution_count": 16,
   "id": "c0aed24c",
   "metadata": {
    "execution": {
     "iopub.execute_input": "2023-10-27T15:50:47.389305Z",
     "iopub.status.busy": "2023-10-27T15:50:47.388732Z",
     "iopub.status.idle": "2023-10-27T15:50:47.392835Z",
     "shell.execute_reply": "2023-10-27T15:50:47.391945Z"
    },
    "papermill": {
     "duration": 0.033228,
     "end_time": "2023-10-27T15:50:47.394869",
     "exception": false,
     "start_time": "2023-10-27T15:50:47.361641",
     "status": "completed"
    },
    "tags": []
   },
   "outputs": [],
   "source": [
    "# # Remove English alphanumeric values\n",
    "# alpha_pat = \"[a-zA-z0-9০-৯()]\"\n",
    "# test_df[\"text\"] = test_df[\"text\"].str.replace(alpha_pat, \"\", regex=True)"
   ]
  },
  {
   "cell_type": "code",
   "execution_count": 17,
   "id": "d5e1abda",
   "metadata": {
    "execution": {
     "iopub.execute_input": "2023-10-27T15:50:47.446164Z",
     "iopub.status.busy": "2023-10-27T15:50:47.445634Z",
     "iopub.status.idle": "2023-10-27T15:50:49.363289Z",
     "shell.execute_reply": "2023-10-27T15:50:49.362529Z"
    },
    "papermill": {
     "duration": 1.945881,
     "end_time": "2023-10-27T15:50:49.365555",
     "exception": false,
     "start_time": "2023-10-27T15:50:47.419674",
     "status": "completed"
    },
    "tags": []
   },
   "outputs": [],
   "source": [
    "from transformers import pipeline\n",
    "\n",
    "pipe = pipeline(\"text2text-generation\", model=loaded_model,tokenizer=tokenizer, device=0)"
   ]
  },
  {
   "cell_type": "code",
   "execution_count": 18,
   "id": "941a042f",
   "metadata": {
    "execution": {
     "iopub.execute_input": "2023-10-27T15:50:49.418987Z",
     "iopub.status.busy": "2023-10-27T15:50:49.418197Z",
     "iopub.status.idle": "2023-10-27T15:50:53.766398Z",
     "shell.execute_reply": "2023-10-27T15:50:53.765249Z"
    },
    "papermill": {
     "duration": 4.376412,
     "end_time": "2023-10-27T15:50:53.768537",
     "exception": false,
     "start_time": "2023-10-27T15:50:49.392125",
     "status": "completed"
    },
    "tags": []
   },
   "outputs": [
    {
     "name": "stdout",
     "output_type": "stream",
     "text": [
      "[{'generated_text': 'und̪ɔɾ ʃund̪ɔɾo ʃund̪ɔɾmonɐ ɐmɪ t̪omɐke bɦɐlobɐʃɪ।'}]\n"
     ]
    }
   ],
   "source": [
    "for i in range(3):\n",
    "    texts = \"সুন্দর সুন্দরমনা আমি তোমাকে ভালবাসি।\"\n",
    "    # texts = \"বিশেষ অতিথি এফএম ইকবাল বিন আনোয়ার (ডন) অ্যাডিশনাল ডাইরেক্টরগেমস অ্যান্ড স্পোর্টস ডিপার্টমেন্ট ওয়ালটন।\"\n",
    "    # texts = 'আমি তোমাকে মন।'\n",
    "    ipas = pipe(texts, max_length=128, batch_size=16)\n",
    "print(ipas)"
   ]
  },
  {
   "cell_type": "code",
   "execution_count": 19,
   "id": "df4dcb15",
   "metadata": {
    "execution": {
     "iopub.execute_input": "2023-10-27T15:50:53.821174Z",
     "iopub.status.busy": "2023-10-27T15:50:53.820505Z",
     "iopub.status.idle": "2023-10-27T15:50:53.826334Z",
     "shell.execute_reply": "2023-10-27T15:50:53.825537Z"
    },
    "papermill": {
     "duration": 0.034044,
     "end_time": "2023-10-27T15:50:53.828152",
     "exception": false,
     "start_time": "2023-10-27T15:50:53.794108",
     "status": "completed"
    },
    "tags": []
   },
   "outputs": [],
   "source": [
    "def calculate_ipa(txt):\n",
    "    '''\n",
    "    Converts a sentence to IPA using t5 model.\n",
    "    '''\n",
    "    ipas = pipe(txt, max_length=128, batch_size=16)\n",
    "    return ipas[0]['generated_text']\n",
    "\n",
    "def word_to_ipa(word):\n",
    "    '''\n",
    "    Converts a Word to IPA using t5 model.\n",
    "    '''\n",
    "    word += '।'\n",
    "    ipas = pipe(word, max_length=128, batch_size=16)\n",
    "    output_string = ' '.join(ipas[0]['generated_text'].split())\n",
    "    return output_string[:-1]"
   ]
  },
  {
   "cell_type": "code",
   "execution_count": 20,
   "id": "b1bbad27",
   "metadata": {
    "execution": {
     "iopub.execute_input": "2023-10-27T15:50:53.878953Z",
     "iopub.status.busy": "2023-10-27T15:50:53.878687Z",
     "iopub.status.idle": "2023-10-27T15:50:54.514908Z",
     "shell.execute_reply": "2023-10-27T15:50:54.513964Z"
    },
    "papermill": {
     "duration": 0.66392,
     "end_time": "2023-10-27T15:50:54.516885",
     "exception": false,
     "start_time": "2023-10-27T15:50:53.852965",
     "status": "completed"
    },
    "tags": []
   },
   "outputs": [
    {
     "data": {
      "text/plain": [
       "('t̪ɐɾɐ-', 't̪omɐke,')"
      ]
     },
     "execution_count": 20,
     "metadata": {},
     "output_type": "execute_result"
    }
   ],
   "source": [
    "# Check the function\n",
    "word_to_ipa('তারা-'), word_to_ipa('তোমাকে,')\n",
    "word_to_ipa('তারা-'), word_to_ipa('তোমাকে,')"
   ]
  },
  {
   "cell_type": "code",
   "execution_count": 21,
   "id": "407776bd",
   "metadata": {
    "execution": {
     "iopub.execute_input": "2023-10-27T15:50:54.569502Z",
     "iopub.status.busy": "2023-10-27T15:50:54.568710Z",
     "iopub.status.idle": "2023-10-27T15:50:54.664450Z",
     "shell.execute_reply": "2023-10-27T15:50:54.663595Z"
    },
    "papermill": {
     "duration": 0.124241,
     "end_time": "2023-10-27T15:50:54.666506",
     "exception": false,
     "start_time": "2023-10-27T15:50:54.542265",
     "status": "completed"
    },
    "tags": []
   },
   "outputs": [
    {
     "data": {
      "text/plain": [
       "'শ্রেণির'"
      ]
     },
     "execution_count": 21,
     "metadata": {},
     "output_type": "execute_result"
    }
   ],
   "source": [
    "word_to_ipa('শ্রেণীর')"
   ]
  },
  {
   "cell_type": "code",
   "execution_count": 22,
   "id": "40eaf890",
   "metadata": {
    "execution": {
     "iopub.execute_input": "2023-10-27T15:50:54.719263Z",
     "iopub.status.busy": "2023-10-27T15:50:54.718669Z",
     "iopub.status.idle": "2023-10-27T15:50:54.723247Z",
     "shell.execute_reply": "2023-10-27T15:50:54.722378Z"
    },
    "papermill": {
     "duration": 0.033125,
     "end_time": "2023-10-27T15:50:54.725428",
     "exception": false,
     "start_time": "2023-10-27T15:50:54.692303",
     "status": "completed"
    },
    "tags": []
   },
   "outputs": [],
   "source": [
    "def contains_bengali_digit(text):\n",
    "    '''\n",
    "    Is there a bengali digit in text\n",
    "    '''\n",
    "    return bool(re.search(r'[০-৯]', text))"
   ]
  },
  {
   "cell_type": "code",
   "execution_count": 23,
   "id": "815015ea",
   "metadata": {
    "execution": {
     "iopub.execute_input": "2023-10-27T15:50:54.777520Z",
     "iopub.status.busy": "2023-10-27T15:50:54.776734Z",
     "iopub.status.idle": "2023-10-27T15:50:54.783773Z",
     "shell.execute_reply": "2023-10-27T15:50:54.782890Z"
    },
    "papermill": {
     "duration": 0.035305,
     "end_time": "2023-10-27T15:50:54.785819",
     "exception": false,
     "start_time": "2023-10-27T15:50:54.750514",
     "status": "completed"
    },
    "tags": []
   },
   "outputs": [],
   "source": [
    "def ipa_converter(text):\n",
    "    '''\n",
    "    Converts a sentence to IPA\n",
    "    '''\n",
    "    ipa = ''\n",
    "    #for value in re.split(r'\\s+|(?=।)', text):\n",
    "    words = re.split(r'\\s+|(?<=[()।])|(?=[()।])', text)\n",
    "    \n",
    "    # Filter out empty strings and extra spaces from the result\n",
    "    words = [word.strip() for word in words if word.strip()]\n",
    "    for value in words:\n",
    "        if value in lib:\n",
    "            ipa += lib[value]\n",
    "            ipa += ' '\n",
    "        else:\n",
    "            # ipa += 'UNKey '\n",
    "            ipa += word_to_ipa(value)\n",
    "            ipa += ' '\n",
    "            \n",
    "    pattern = r'\\s+(?=।)|(?<=।)\\s+'\n",
    "    cln_ipa = re.sub(pattern, '', ipa)\n",
    "    \n",
    "    # Replace ' (' with '('\n",
    "    cln_ipa = re.sub(r'\\(\\s+', '(', cln_ipa)\n",
    "\n",
    "    # Replace ') ' with ')'\n",
    "    cln_ipa = re.sub(r'\\s+\\)', ')', cln_ipa)\n",
    "    return cln_ipa"
   ]
  },
  {
   "cell_type": "code",
   "execution_count": 24,
   "id": "efacf163",
   "metadata": {
    "execution": {
     "iopub.execute_input": "2023-10-27T15:50:54.838431Z",
     "iopub.status.busy": "2023-10-27T15:50:54.837883Z",
     "iopub.status.idle": "2023-10-27T15:50:55.090210Z",
     "shell.execute_reply": "2023-10-27T15:50:55.089361Z"
    },
    "papermill": {
     "duration": 0.281141,
     "end_time": "2023-10-27T15:50:55.092281",
     "exception": false,
     "start_time": "2023-10-27T15:50:54.811140",
     "status": "completed"
    },
    "tags": []
   },
   "outputs": [
    {
     "data": {
      "text/plain": [
       "'ʃɔt̪kɔɾmo bɾɪt̪ʰɐ ɟɐe̯ nɐ।'"
      ]
     },
     "execution_count": 24,
     "metadata": {},
     "output_type": "execute_result"
    }
   ],
   "source": [
    "txt = 'সৎকর্ম বৃথা যায় না।'\n",
    "ac = 'ʃɔt̪kɔrmo bɾɪt̪ʰa ɟae̯ na'\n",
    "\n",
    "ipa_converter(txt)"
   ]
  },
  {
   "cell_type": "code",
   "execution_count": 25,
   "id": "a0414065",
   "metadata": {
    "execution": {
     "iopub.execute_input": "2023-10-27T15:50:55.145142Z",
     "iopub.status.busy": "2023-10-27T15:50:55.144822Z",
     "iopub.status.idle": "2023-10-27T15:50:55.150196Z",
     "shell.execute_reply": "2023-10-27T15:50:55.149366Z"
    },
    "papermill": {
     "duration": 0.034173,
     "end_time": "2023-10-27T15:50:55.152205",
     "exception": false,
     "start_time": "2023-10-27T15:50:55.118032",
     "status": "completed"
    },
    "tags": []
   },
   "outputs": [
    {
     "data": {
      "text/plain": [
       "'bɐŋlɐd̪eʃ'"
      ]
     },
     "execution_count": 25,
     "metadata": {},
     "output_type": "execute_result"
    }
   ],
   "source": [
    "lib['বাংলাদেশ']"
   ]
  },
  {
   "cell_type": "code",
   "execution_count": 26,
   "id": "5196752c",
   "metadata": {
    "execution": {
     "iopub.execute_input": "2023-10-27T15:50:55.204523Z",
     "iopub.status.busy": "2023-10-27T15:50:55.203746Z",
     "iopub.status.idle": "2023-10-27T15:50:55.560496Z",
     "shell.execute_reply": "2023-10-27T15:50:55.559382Z"
    },
    "papermill": {
     "duration": 0.385336,
     "end_time": "2023-10-27T15:50:55.562709",
     "exception": false,
     "start_time": "2023-10-27T15:50:55.177373",
     "status": "completed"
    },
    "tags": []
   },
   "outputs": [
    {
     "name": "stdout",
     "output_type": "stream",
     "text": [
      "446\n"
     ]
    },
    {
     "name": "stderr",
     "output_type": "stream",
     "text": [
      "/opt/conda/lib/python3.10/site-packages/transformers/pipelines/base.py:1101: UserWarning: You seem to be using the pipelines sequentially on GPU. In order to maximize efficiency please use a dataset\n",
      "  warnings.warn(\n"
     ]
    },
    {
     "name": "stdout",
     "output_type": "stream",
     "text": [
      "Pred = t̪ɪnɪ ɐɾɔo̯ bɔlen, eɾ mod̪d̪ʱe oɪ̯tɪ bʱɔbon mɐlɔʲeʃɪʲɐɾ ʃɔŋge cukt̪ɪbɦɪt̪t̪ɪt̪e nɪɾmɐn kɔɾɐ hɔbe।\n",
      "True = তিনি আরও বলেন, এর মধ্যে ১০০টি ভবন মালয়েশিয়ার সঙ্গে চুক্তিভিত্তিতে নির্মাণ করা হবে।\n"
     ]
    }
   ],
   "source": [
    "rand_index = np.random.randint(0, 1000)\n",
    "print(rand_index)\n",
    "print(f'Pred = {ipa_converter(test_df.text[rand_index])}\\nTrue = {test_df.text[rand_index]}')"
   ]
  },
  {
   "cell_type": "markdown",
   "id": "3b5e665f",
   "metadata": {
    "papermill": {
     "duration": 0.025452,
     "end_time": "2023-10-27T15:50:55.614444",
     "exception": false,
     "start_time": "2023-10-27T15:50:55.588992",
     "status": "completed"
    },
    "tags": []
   },
   "source": [
    "## WORD ERROR RATE "
   ]
  },
  {
   "cell_type": "code",
   "execution_count": 27,
   "id": "bddd3e21",
   "metadata": {
    "execution": {
     "iopub.execute_input": "2023-10-27T15:50:55.666789Z",
     "iopub.status.busy": "2023-10-27T15:50:55.666478Z",
     "iopub.status.idle": "2023-10-27T15:50:56.002434Z",
     "shell.execute_reply": "2023-10-27T15:50:56.001574Z"
    },
    "papermill": {
     "duration": 0.364538,
     "end_time": "2023-10-27T15:50:56.004444",
     "exception": false,
     "start_time": "2023-10-27T15:50:55.639906",
     "status": "completed"
    },
    "tags": []
   },
   "outputs": [
    {
     "data": {
      "text/plain": [
       "'t̪ɪn nɔbʱembɔɾ nɔɾend̪ɾo mod̪ɪ stedɪjɐm, bɐŋlɐd̪eʃ bɪʃʃokɐp ʃɪɾopɐ t̪ullo।'"
      ]
     },
     "execution_count": 27,
     "metadata": {},
     "output_type": "execute_result"
    }
   ],
   "source": [
    "txt = '১৯ নভেম্বর নরেন্দ্র মোদি স্টেডিয়াম, বাংলাদেশ বিশ্বকাপ শিরোপা তুললো।'\n",
    "actual = 'unɪʃ novembɔɾ nɔɾendɾɐ modɪ stedɪum, bɐŋlɐd̪eʃ bɪʃʃokɐp ʃɪɾopɐ t̪ullo।'\n",
    "ipa_converter(txt)"
   ]
  },
  {
   "cell_type": "markdown",
   "id": "0224cb3f",
   "metadata": {
    "papermill": {
     "duration": 0.025666,
     "end_time": "2023-10-27T15:50:56.056118",
     "exception": false,
     "start_time": "2023-10-27T15:50:56.030452",
     "status": "completed"
    },
    "tags": []
   },
   "source": [
    "# **Need to handle Exceptional Cases**\n",
    "1. Numeric Words (ie. ০-৯)  ***(Done)***\n",
    "2. Bracket      ***(Done)***\n",
    "3. হয়’ --> hɔj ‘    \n",
    "4. Mistake in Library (ie. শ্রেণির)   ***(Done)***\n",
    "5. dict_change  =  \"bɦ\"  : \"bʱ\",   \"dɦ\":\"dʱ\"   etc\n",
    "    "
   ]
  },
  {
   "cell_type": "markdown",
   "id": "ae14a519",
   "metadata": {
    "papermill": {
     "duration": 0.02536,
     "end_time": "2023-10-27T15:50:56.107003",
     "exception": false,
     "start_time": "2023-10-27T15:50:56.081643",
     "status": "completed"
    },
    "tags": []
   },
   "source": [
    "### BRACKETS HANDLING"
   ]
  },
  {
   "cell_type": "code",
   "execution_count": 28,
   "id": "6c0118db",
   "metadata": {
    "execution": {
     "iopub.execute_input": "2023-10-27T15:50:56.159629Z",
     "iopub.status.busy": "2023-10-27T15:50:56.159257Z",
     "iopub.status.idle": "2023-10-27T15:50:56.163660Z",
     "shell.execute_reply": "2023-10-27T15:50:56.162782Z"
    },
    "papermill": {
     "duration": 0.033066,
     "end_time": "2023-10-27T15:50:56.165601",
     "exception": false,
     "start_time": "2023-10-27T15:50:56.132535",
     "status": "completed"
    },
    "tags": []
   },
   "outputs": [],
   "source": [
    "# Add brackets is the library\n",
    "lib['('] = '('\n",
    "lib[')'] = ')'"
   ]
  },
  {
   "cell_type": "code",
   "execution_count": 29,
   "id": "e233b8f7",
   "metadata": {
    "execution": {
     "iopub.execute_input": "2023-10-27T15:50:56.218295Z",
     "iopub.status.busy": "2023-10-27T15:50:56.217775Z",
     "iopub.status.idle": "2023-10-27T15:50:56.222626Z",
     "shell.execute_reply": "2023-10-27T15:50:56.221776Z"
    },
    "papermill": {
     "duration": 0.033651,
     "end_time": "2023-10-27T15:50:56.224729",
     "exception": false,
     "start_time": "2023-10-27T15:50:56.191078",
     "status": "completed"
    },
    "tags": []
   },
   "outputs": [
    {
     "name": "stdout",
     "output_type": "stream",
     "text": [
      "Text = শিং ও মাগুর মাছের চাষে এ পদ্ধতিতে অভাবনীয় সফলতা আনা সম্ভব।\n"
     ]
    }
   ],
   "source": [
    "# See a random sample from the test set \n",
    "rand_index = np.random.randint(0, len(test_df))\n",
    "print(f'Text = {test_df.text[rand_index]}')"
   ]
  },
  {
   "cell_type": "code",
   "execution_count": 30,
   "id": "788460a1",
   "metadata": {
    "execution": {
     "iopub.execute_input": "2023-10-27T15:50:56.281220Z",
     "iopub.status.busy": "2023-10-27T15:50:56.280916Z",
     "iopub.status.idle": "2023-10-27T15:50:56.286865Z",
     "shell.execute_reply": "2023-10-27T15:50:56.286014Z"
    },
    "papermill": {
     "duration": 0.034823,
     "end_time": "2023-10-27T15:50:56.288894",
     "exception": false,
     "start_time": "2023-10-27T15:50:56.254071",
     "status": "completed"
    },
    "tags": []
   },
   "outputs": [
    {
     "name": "stdout",
     "output_type": "stream",
     "text": [
      "['মেয়েদের', 'আনইভেন', 'বার', '(', 'রাত', '১টা', '২১', ')', 'ভারোত্তোলনমেয়েদের', '৭৫', 'কেজি', 'ফাইনাল', '(', 'রাত', '১২টা', '৩০', 'ও', '৪টা', ')', 'ডাইভিংমেয়েদের', '৩', 'মিটার', 'স্প্রিং', 'বোর্ড', '(', 'রাত', '১টা', ')', '।']\n"
     ]
    }
   ],
   "source": [
    "import re\n",
    "\n",
    "# Input sentence\n",
    "text = \"মেয়েদের আনইভেন বার (রাত ১টা ২১)ভারোত্তোলনমেয়েদের ৭৫ কেজি ফাইনাল (রাত ১২টা ৩০ ও ৪টা)ডাইভিংমেয়েদের ৩ মিটার স্প্রিং বোর্ড (রাত ১টা)।\"\n",
    "\n",
    "# Split the sentence using a regular expression to keep spaces, periods, and parentheses\n",
    "words = re.split(r'\\s+|(?<=[()।])|(?=[()।])', text)\n",
    "\n",
    "# Filter out empty strings and extra spaces from the result\n",
    "words = [word.strip() for word in words if word.strip()]\n",
    "\n",
    "# Print the words\n",
    "print(words)"
   ]
  },
  {
   "cell_type": "code",
   "execution_count": 31,
   "id": "de61a88f",
   "metadata": {
    "execution": {
     "iopub.execute_input": "2023-10-27T15:50:56.341996Z",
     "iopub.status.busy": "2023-10-27T15:50:56.341737Z",
     "iopub.status.idle": "2023-10-27T15:50:57.876025Z",
     "shell.execute_reply": "2023-10-27T15:50:57.875096Z"
    },
    "papermill": {
     "duration": 1.563393,
     "end_time": "2023-10-27T15:50:57.878074",
     "exception": false,
     "start_time": "2023-10-27T15:50:56.314681",
     "status": "completed"
    },
    "tags": []
   },
   "outputs": [
    {
     "data": {
      "text/plain": [
       "'mejed̪eɾ ɐnɪbɦen bɐɾ (ɾɐt̪ t̪ɐtɐ sɪu̯) bɦɐɾot̪t̪olonɔjd̪eɾ pɐtɪ keɟɪ pʰɐɪ̯nɐl (ɾɐt̪ pɪntɐ pɪkɐɾ o kuɛtɐ) dɐɪ̯bɦɪŋmejed̪eɾ dɪ mɪtɐɾ supɾɪŋ boɾd (ɾɐt̪ d̪utɐ)।'"
      ]
     },
     "execution_count": 31,
     "metadata": {},
     "output_type": "execute_result"
    }
   ],
   "source": [
    "ipa_converter(text)"
   ]
  },
  {
   "cell_type": "markdown",
   "id": "799a1962",
   "metadata": {
    "papermill": {
     "duration": 0.025684,
     "end_time": "2023-10-27T15:50:57.930119",
     "exception": false,
     "start_time": "2023-10-27T15:50:57.904435",
     "status": "completed"
    },
    "tags": []
   },
   "source": [
    "### Search for exceptions "
   ]
  },
  {
   "cell_type": "code",
   "execution_count": 32,
   "id": "e6da2c9c",
   "metadata": {
    "execution": {
     "iopub.execute_input": "2023-10-27T15:50:57.983200Z",
     "iopub.status.busy": "2023-10-27T15:50:57.982881Z",
     "iopub.status.idle": "2023-10-27T15:50:58.015210Z",
     "shell.execute_reply": "2023-10-27T15:50:58.014117Z"
    },
    "papermill": {
     "duration": 0.061282,
     "end_time": "2023-10-27T15:50:58.017153",
     "exception": false,
     "start_time": "2023-10-27T15:50:57.955871",
     "status": "completed"
    },
    "tags": []
   },
   "outputs": [
    {
     "name": "stdout",
     "output_type": "stream",
     "text": [
      "Length of the Df = (1284, 2)\n"
     ]
    }
   ],
   "source": [
    "filt_cond = [\"১-৯\", 'A-Za-z0-9']\n",
    "# Filtering text samples that contain English alphanumeric values\n",
    "filt = test_df[lambda x: x[\"text\"].str.contains(\"‘\")]\n",
    "filt = filt.reset_index(drop=True)\n",
    "print(f'Length of the Df = {filt.shape}')"
   ]
  },
  {
   "cell_type": "code",
   "execution_count": 33,
   "id": "9b207ab7",
   "metadata": {
    "execution": {
     "iopub.execute_input": "2023-10-27T15:50:58.070782Z",
     "iopub.status.busy": "2023-10-27T15:50:58.070503Z",
     "iopub.status.idle": "2023-10-27T15:50:58.076546Z",
     "shell.execute_reply": "2023-10-27T15:50:58.075724Z"
    },
    "papermill": {
     "duration": 0.03481,
     "end_time": "2023-10-27T15:50:58.078426",
     "exception": false,
     "start_time": "2023-10-27T15:50:58.043616",
     "status": "completed"
    },
    "tags": []
   },
   "outputs": [
    {
     "data": {
      "text/plain": [
       "'‘আমার এজেন্ট যখন আমাকে বার্সেলোনার আগ্রহ সম্পর্কে বলেছিল, আমি তাকে জিজ্ঞেস করেছিলাম এটা কৌতুক কিনা।'"
      ]
     },
     "execution_count": 33,
     "metadata": {},
     "output_type": "execute_result"
    }
   ],
   "source": [
    "ind = np.random.randint(0, len(filt))\n",
    "filt.text[ind]"
   ]
  },
  {
   "cell_type": "code",
   "execution_count": 34,
   "id": "aded5a83",
   "metadata": {
    "execution": {
     "iopub.execute_input": "2023-10-27T15:50:58.132374Z",
     "iopub.status.busy": "2023-10-27T15:50:58.132061Z",
     "iopub.status.idle": "2023-10-27T15:50:58.296121Z",
     "shell.execute_reply": "2023-10-27T15:50:58.295210Z"
    },
    "papermill": {
     "duration": 0.193163,
     "end_time": "2023-10-27T15:50:58.298132",
     "exception": false,
     "start_time": "2023-10-27T15:50:58.104969",
     "status": "completed"
    },
    "tags": []
   },
   "outputs": [
    {
     "data": {
      "text/plain": [
       "'bɐ̃cɐnoɾo“'"
      ]
     },
     "execution_count": 34,
     "metadata": {},
     "output_type": "execute_result"
    }
   ],
   "source": [
    "word_to_ipa('বাঁচানোর’')"
   ]
  },
  {
   "cell_type": "code",
   "execution_count": 35,
   "id": "d945e72d",
   "metadata": {
    "execution": {
     "iopub.execute_input": "2023-10-27T15:50:58.354626Z",
     "iopub.status.busy": "2023-10-27T15:50:58.354301Z",
     "iopub.status.idle": "2023-10-27T15:50:58.360167Z",
     "shell.execute_reply": "2023-10-27T15:50:58.359273Z"
    },
    "papermill": {
     "duration": 0.036599,
     "end_time": "2023-10-27T15:50:58.362006",
     "exception": false,
     "start_time": "2023-10-27T15:50:58.325407",
     "status": "completed"
    },
    "tags": []
   },
   "outputs": [
    {
     "data": {
      "text/plain": [
       "'‘ɐmɐɾ eɟent ɟɔkʰon ɐmɐke bɐɾselonɐɾ pɾot̪ɪ ʃɔmpɔɾke bolecʰɪlo, ɐmɪ t̪ɐke ɟɪggeʃ koɾecʰɪlɐm etɐ kou̯t̪uk kɪnɐ।'"
      ]
     },
     "execution_count": 35,
     "metadata": {},
     "output_type": "execute_result"
    }
   ],
   "source": [
    "ipa_converter(filt.text[ind])"
   ]
  },
  {
   "cell_type": "markdown",
   "id": "1ef39ed9",
   "metadata": {
    "papermill": {
     "duration": 0.026913,
     "end_time": "2023-10-27T15:50:58.415276",
     "exception": false,
     "start_time": "2023-10-27T15:50:58.388363",
     "status": "completed"
    },
    "tags": []
   },
   "source": [
    "## Handle the Number Case"
   ]
  },
  {
   "cell_type": "code",
   "execution_count": 36,
   "id": "4b0303bf",
   "metadata": {
    "_kg_hide-input": true,
    "execution": {
     "iopub.execute_input": "2023-10-27T15:50:58.472047Z",
     "iopub.status.busy": "2023-10-27T15:50:58.471689Z",
     "iopub.status.idle": "2023-10-27T15:50:58.497673Z",
     "shell.execute_reply": "2023-10-27T15:50:58.496939Z"
    },
    "jupyter": {
     "source_hidden": true
    },
    "papermill": {
     "duration": 0.05628,
     "end_time": "2023-10-27T15:50:58.499654",
     "exception": false,
     "start_time": "2023-10-27T15:50:58.443374",
     "status": "completed"
    },
    "tags": []
   },
   "outputs": [],
   "source": [
    "import math\n",
    "numeric_words = {\n",
    "    '.': 'দশমিক',\n",
    "    '0': '',\n",
    "    '1': 'এক',\n",
    "    '01': 'এক',\n",
    "    '2': 'দুই',\n",
    "    '02': 'দুই',\n",
    "    '3': 'তিন',\n",
    "    '03': 'তিন',\n",
    "    '4': 'চার',\n",
    "    '04': 'চার',\n",
    "    '5': 'পাঁচ',\n",
    "    '05': 'পাঁচ',\n",
    "    '6': 'ছয়',\n",
    "    '06': 'ছয়',\n",
    "    '7': 'সাত',\n",
    "    '07': 'সাত',\n",
    "    '8': 'আট',\n",
    "    '08': 'আট',\n",
    "    '9': 'নয়',\n",
    "    '09': 'নয়',\n",
    "    '10': 'দশ',\n",
    "    '11': 'এগারো',\n",
    "    '12': 'বার',\n",
    "    '13': 'তের',\n",
    "    '14': 'চৌদ্দ',\n",
    "    '15': 'পনের',\n",
    "    '16': 'ষোল',\n",
    "    '17': 'সতের',\n",
    "    '18': 'আঠার',\n",
    "    '19': 'উনিশ',\n",
    "    '20': 'বিশ',\n",
    "    '21': 'একুশ',\n",
    "    '22': 'বাইশ',\n",
    "    '23': 'তেইশ',\n",
    "    '24': 'চব্বিশ',\n",
    "    '25': 'পঁচিশ',\n",
    "    '26': 'ছাব্বিশ',\n",
    "    '27': 'সাতাশ',\n",
    "    '28': 'আঠাশ',\n",
    "    '29': 'ঊনত্রিশ',\n",
    "    '30': 'ত্রিশ',\n",
    "    '31': 'একত্রিশ',\n",
    "    '32': 'বত্রিশ',\n",
    "    '33': 'তেত্রিশ',\n",
    "    '34': 'চৌত্রিশ',\n",
    "    '35': 'পঁয়ত্রিশ',\n",
    "    '36': 'ছত্রিশ',\n",
    "    '37': 'সাঁইত্রিশ',\n",
    "    '38': 'আটত্রিশ',\n",
    "    '39': 'ঊনচল্লিশ',\n",
    "    '40': 'চল্লিশ',\n",
    "    '41': 'একচল্লিশ',\n",
    "    '42': 'বিয়াল্লিশ',\n",
    "    '43': 'তেতাল্লিশ',\n",
    "    '44': 'চুয়াল্লিশ',\n",
    "    '45': 'পঁয়তাল্লিশ',\n",
    "    '46': 'ছেচল্লিশ',\n",
    "    '47': 'সাতচল্লিশ',\n",
    "    '48': 'আটচল্লিশ',\n",
    "    '49': 'ঊনপঞ্চাশ',\n",
    "    '50': 'পঞ্চাশ',\n",
    "    '51': 'একান্ন',\n",
    "    '52': 'বায়ান্ন',\n",
    "    '53': 'তিপ্পান্ন',\n",
    "    '54': 'চুয়ান্ন',\n",
    "    '55': 'পঞ্চান্ন',\n",
    "    '56': 'ছাপ্পান্ন',\n",
    "    '57': 'সাতান্ন',\n",
    "    '58': 'আটান্ন',\n",
    "    '59': 'ঊনষাট',\n",
    "    '60': 'ষাট',\n",
    "    '61': 'একষট্টি',\n",
    "    '62': 'বাষট্টি',\n",
    "    '63': 'তেষট্টি',\n",
    "    '64': 'চৌষট্টি',\n",
    "    '65': 'পঁয়ষট্টি',\n",
    "    '66': 'ছেষট্টি',\n",
    "    '67': 'সাতষট্টি',\n",
    "    '68': 'আটষট্টি',\n",
    "    '69': 'ঊনসত্তর',\n",
    "    '70': 'সত্তর',\n",
    "    '71': 'একাত্তর',\n",
    "    '72': 'বাহাত্তর',\n",
    "    '73': 'তিয়াত্তর',\n",
    "    '74': 'চুয়াত্তর',\n",
    "    '75': 'পঁচাত্তর',\n",
    "    '76': 'ছিয়াত্তর',\n",
    "    '77': 'সাতাত্তর',\n",
    "    '78': 'আটাত্তর',\n",
    "    '79': 'ঊনআশি',\n",
    "    '80': 'আশি',\n",
    "    '81': 'একাশি',\n",
    "    '82': 'বিরাশি',\n",
    "    '83': 'তিরাশি',\n",
    "    '84': 'চুরাশি',\n",
    "    '85': 'পঁচাশি',\n",
    "    '86': 'ছিয়াশি',\n",
    "    '87': 'সাতাশি',\n",
    "    '88': 'আটাশি',\n",
    "    '89': 'ঊননব্বই',\n",
    "    '90': 'নব্বই',\n",
    "    '91': 'একানব্বই',\n",
    "    '92': 'বিরানব্বই',\n",
    "    '93': 'তিরানব্বই',\n",
    "    '94': 'চুরানব্বই',\n",
    "    '95': 'পঁচানব্বই',\n",
    "    '96': 'ছিয়ানব্বই',\n",
    "    '97': 'সাতানব্বই',\n",
    "    '98': 'আটানব্বই',\n",
    "    '99': 'নিরানব্বই',\n",
    "    '100': 'একশো',\n",
    "}\n",
    "\n",
    "units = {\n",
    "    'koti': 'কোটি',\n",
    "    'lokkho': 'লক্ষ',\n",
    "    'hazar': 'হাজার',\n",
    "    'sotok': 'শো',\n",
    "    'ekok': '',\n",
    "}\n",
    "\n",
    "\n",
    "def input_sanitizer(number):\n",
    "    if isinstance(number, float) or isinstance(number, int) or \\\n",
    "            isinstance(number, str):\n",
    "        if isinstance(number, str):\n",
    "            try:\n",
    "                if \".\" in number:\n",
    "                    number = float(number)\n",
    "                else:\n",
    "                    number = int(number)\n",
    "            except ValueError:\n",
    "                return None\n",
    "        return number\n",
    "    else:\n",
    "        return None\n",
    "\n",
    "\n",
    "def generate_segments(number):\n",
    "    \"\"\"\n",
    "    Generating the unit segments such as koti, lokkho\n",
    "    \"\"\"\n",
    "    segments = dict()\n",
    "    segments['koti'] = math.floor(number/10000000)\n",
    "    number = number % 10000000\n",
    "    segments['lokkho'] = math.floor(number/100000)\n",
    "    number = number % 100000\n",
    "    segments['hazar'] = math.floor(number/1000)\n",
    "    number = number % 1000\n",
    "    segments['sotok'] = math.floor(number/100)\n",
    "    number = number % 100\n",
    "    segments['ekok'] = number\n",
    "\n",
    "    return segments\n",
    "\n",
    "\n",
    "def float_int_extraction(number):\n",
    "    \"\"\"\n",
    "    Extracting the float and int part from the passed number. The first return\n",
    "    is the part before the decimal point and the rest is the fraction.\n",
    "    \"\"\"\n",
    "    _number = str(number)\n",
    "    if \".\" in _number:\n",
    "        return tuple([int(x) for x in _number.split(\".\")])\n",
    "    else:\n",
    "        return number, None\n",
    "\n",
    "\n",
    "def whole_part_word_gen(segments):\n",
    "    \"\"\"\n",
    "    Generating the bengali word for the whole part of the number\n",
    "    \"\"\"\n",
    "    generated_words = ''\n",
    "    for segment in segments:\n",
    "        if segments[segment]:\n",
    "           \n",
    "            if segment==\"sotok\":\n",
    "                generated_words += numeric_words[str(segments[segment])] + \\\n",
    "                                   \"\"+ units[segment] + \" \"\n",
    "            else:\n",
    "                generated_words += numeric_words[str(segments[segment])] + \\\n",
    "                \" \" + units[segment] + \" \"\n",
    "\n",
    "    return generated_words[:-2]\n",
    "\n",
    "\n",
    "def fraction_to_words(fraction):\n",
    "    \"\"\"\n",
    "    Generating bengali words for the part after the decimal point\n",
    "    \"\"\"\n",
    "    generated_words = \"\"\n",
    "    for digit in str(fraction):\n",
    "        generated_words += numeric_words[digit] + \" \"\n",
    "    return generated_words[:-1]\n",
    "\n",
    "\n",
    "def to_bn_word(number):\n",
    "    \"\"\"\n",
    "    Takes a number and outputs the word form in Bengali for that number.\n",
    "    \"\"\"\n",
    "    if len(number)>9:\n",
    "        return 'এক'\n",
    "    generated_words = \"\"\n",
    "    number = input_sanitizer(number)\n",
    "\n",
    "    whole, fraction = float_int_extraction(number)\n",
    "\n",
    "    whole_segments = generate_segments(whole)\n",
    "\n",
    "    generated_words = whole_part_word_gen(whole_segments)\n",
    "\n",
    "    if fraction:\n",
    "        if generated_words:\n",
    "            return generated_words + \" দশমিক \" + fraction_to_words(fraction)\n",
    "        else:\n",
    "            return \"দশমিক \" + fraction_to_words(fraction)\n",
    "    else:\n",
    "        return generated_words"
   ]
  },
  {
   "cell_type": "code",
   "execution_count": 37,
   "id": "77b88ce3",
   "metadata": {
    "execution": {
     "iopub.execute_input": "2023-10-27T15:50:58.554347Z",
     "iopub.status.busy": "2023-10-27T15:50:58.554012Z",
     "iopub.status.idle": "2023-10-27T15:50:58.560774Z",
     "shell.execute_reply": "2023-10-27T15:50:58.559881Z"
    },
    "papermill": {
     "duration": 0.036242,
     "end_time": "2023-10-27T15:50:58.562722",
     "exception": false,
     "start_time": "2023-10-27T15:50:58.526480",
     "status": "completed"
    },
    "tags": []
   },
   "outputs": [],
   "source": [
    "num_dict={}\n",
    "def num_to_text(string ):\n",
    "    temp=[]\n",
    "    pattern_to_keep = r'\\d+'\n",
    "    m=re.split(\"[অ-হ]|-| \",string)\n",
    "    for k in m :\n",
    "        if re.search('[১-৯]',k):\n",
    "            result = re.sub(f'(?:(?!{pattern_to_keep}).)*', '', k)\n",
    "            temp.append(result)\n",
    "    \n",
    "    if len(temp)<1:\n",
    "        return string\n",
    "    for i in temp:\n",
    "        if i in num_dict:\n",
    "            string=re.sub(i,num_dict[i],string)\n",
    "        else:\n",
    "            num_dict[i]=to_bn_word(i)\n",
    "            string=re.sub(i,num_dict[i],string)\n",
    "    return string"
   ]
  },
  {
   "cell_type": "code",
   "execution_count": 38,
   "id": "15d293e2",
   "metadata": {
    "execution": {
     "iopub.execute_input": "2023-10-27T15:50:58.616986Z",
     "iopub.status.busy": "2023-10-27T15:50:58.616714Z",
     "iopub.status.idle": "2023-10-27T15:50:58.668775Z",
     "shell.execute_reply": "2023-10-27T15:50:58.667707Z"
    },
    "papermill": {
     "duration": 0.081951,
     "end_time": "2023-10-27T15:50:58.670831",
     "exception": false,
     "start_time": "2023-10-27T15:50:58.588880",
     "status": "completed"
    },
    "tags": []
   },
   "outputs": [
    {
     "name": "stdout",
     "output_type": "stream",
     "text": [
      "Length of the Df = (51, 2)\n"
     ]
    }
   ],
   "source": [
    "filt_cond = [\"১-৯\", 'A-Za-z0-9']\n",
    "# Filtering text samples that contain English alphanumeric values\n",
    "filt = test_df[lambda x: x[\"text\"].str.contains(\"[A-Za-z0-9]\")]\n",
    "filt = filt.reset_index(drop=True)\n",
    "print(f'Length of the Df = {filt.shape}')"
   ]
  },
  {
   "cell_type": "code",
   "execution_count": 39,
   "id": "06081b77",
   "metadata": {
    "execution": {
     "iopub.execute_input": "2023-10-27T15:50:58.726037Z",
     "iopub.status.busy": "2023-10-27T15:50:58.725746Z",
     "iopub.status.idle": "2023-10-27T15:50:59.373711Z",
     "shell.execute_reply": "2023-10-27T15:50:59.372797Z"
    },
    "papermill": {
     "duration": 0.677947,
     "end_time": "2023-10-27T15:50:59.375795",
     "exception": false,
     "start_time": "2023-10-27T15:50:58.697848",
     "status": "completed"
    },
    "tags": []
   },
   "outputs": [
    {
     "name": "stdout",
     "output_type": "stream",
     "text": [
      "ɐbed̪ɔneɾ nɪʲom : bɦɔɾt̪ɪcchud̪eɾ bɪʃʃobɪd̪d̪ɐlɔʲeɾ oʷebʃɐɪ̯te ɟɐ.c ɔt̪ʰobɐ nɐpɔe̯post̪hɪbɐɾɪsc.cɔe̯ ɔnlɐɪ̯ne pɾod̪ɔt̪t̪o nɪɾd̪eʃonɐ onuʃɔɾɔn koɾe ɐbed̪ɔn koɾt̪e hɔbe।\n"
     ]
    },
    {
     "data": {
      "text/plain": [
       "'আবেদনের নিয়ম : ভর্তিচ্ছুদের বিশ্ববিদ্যালয়ের ওয়েবসাইটে www.ru.ac.bd অথবা http://admission.ru.ac.bd অনলাইনে প্রদত্ত নির্দেশনা অনুসরণ করে আবেদন করতে হবে।'"
      ]
     },
     "execution_count": 39,
     "metadata": {},
     "output_type": "execute_result"
    }
   ],
   "source": [
    "ind = np.random.randint(0, len(filt))\n",
    "print(ipa_converter(filt.text[ind]))\n",
    "filt.text[ind]"
   ]
  },
  {
   "cell_type": "code",
   "execution_count": 40,
   "id": "520e7274",
   "metadata": {
    "execution": {
     "iopub.execute_input": "2023-10-27T15:50:59.435586Z",
     "iopub.status.busy": "2023-10-27T15:50:59.435137Z",
     "iopub.status.idle": "2023-10-27T15:50:59.443583Z",
     "shell.execute_reply": "2023-10-27T15:50:59.442369Z"
    },
    "papermill": {
     "duration": 0.042743,
     "end_time": "2023-10-27T15:50:59.445864",
     "exception": false,
     "start_time": "2023-10-27T15:50:59.403121",
     "status": "completed"
    },
    "tags": []
   },
   "outputs": [
    {
     "data": {
      "text/plain": [
       "'রয়েছে'"
      ]
     },
     "execution_count": 40,
     "metadata": {},
     "output_type": "execute_result"
    }
   ],
   "source": [
    "num_to_text('রয়েছে')"
   ]
  },
  {
   "cell_type": "markdown",
   "id": "eb08964c",
   "metadata": {
    "papermill": {
     "duration": 0.032941,
     "end_time": "2023-10-27T15:50:59.512755",
     "exception": false,
     "start_time": "2023-10-27T15:50:59.479814",
     "status": "completed"
    },
    "tags": []
   },
   "source": [
    "###  VIP Cell "
   ]
  },
  {
   "cell_type": "code",
   "execution_count": 41,
   "id": "d657360d",
   "metadata": {
    "execution": {
     "iopub.execute_input": "2023-10-27T15:50:59.568254Z",
     "iopub.status.busy": "2023-10-27T15:50:59.567900Z",
     "iopub.status.idle": "2023-10-27T15:50:59.572329Z",
     "shell.execute_reply": "2023-10-27T15:50:59.571368Z"
    },
    "papermill": {
     "duration": 0.034576,
     "end_time": "2023-10-27T15:50:59.574362",
     "exception": false,
     "start_time": "2023-10-27T15:50:59.539786",
     "status": "completed"
    },
    "tags": []
   },
   "outputs": [],
   "source": [
    "# filt['ctext'] = filt['text'].apply(num_to_text)"
   ]
  },
  {
   "cell_type": "markdown",
   "id": "9648a516",
   "metadata": {
    "papermill": {
     "duration": 0.02773,
     "end_time": "2023-10-27T15:50:59.631423",
     "exception": false,
     "start_time": "2023-10-27T15:50:59.603693",
     "status": "completed"
    },
    "tags": []
   },
   "source": [
    "###  Change *The Test Set Numbers to Words*"
   ]
  },
  {
   "cell_type": "code",
   "execution_count": 42,
   "id": "4e79b7dd",
   "metadata": {
    "execution": {
     "iopub.execute_input": "2023-10-27T15:50:59.687163Z",
     "iopub.status.busy": "2023-10-27T15:50:59.686808Z",
     "iopub.status.idle": "2023-10-27T15:51:01.588067Z",
     "shell.execute_reply": "2023-10-27T15:51:01.586971Z"
    },
    "papermill": {
     "duration": 1.931475,
     "end_time": "2023-10-27T15:51:01.590113",
     "exception": false,
     "start_time": "2023-10-27T15:50:59.658638",
     "status": "completed"
    },
    "tags": []
   },
   "outputs": [
    {
     "name": "stderr",
     "output_type": "stream",
     "text": [
      "100%|██████████| 27228/27228 [00:01<00:00, 14394.46it/s]\n"
     ]
    }
   ],
   "source": [
    "tqdm.pandas()\n",
    "test_df['ctext'] = test_df['text'].progress_apply(num_to_text)"
   ]
  },
  {
   "cell_type": "code",
   "execution_count": 43,
   "id": "08e1cce3",
   "metadata": {
    "execution": {
     "iopub.execute_input": "2023-10-27T15:51:01.657940Z",
     "iopub.status.busy": "2023-10-27T15:51:01.657293Z",
     "iopub.status.idle": "2023-10-27T15:51:01.666606Z",
     "shell.execute_reply": "2023-10-27T15:51:01.665778Z"
    },
    "papermill": {
     "duration": 0.04886,
     "end_time": "2023-10-27T15:51:01.668531",
     "exception": false,
     "start_time": "2023-10-27T15:51:01.619671",
     "status": "completed"
    },
    "tags": []
   },
   "outputs": [
    {
     "data": {
      "text/html": [
       "<div>\n",
       "<style scoped>\n",
       "    .dataframe tbody tr th:only-of-type {\n",
       "        vertical-align: middle;\n",
       "    }\n",
       "\n",
       "    .dataframe tbody tr th {\n",
       "        vertical-align: top;\n",
       "    }\n",
       "\n",
       "    .dataframe thead th {\n",
       "        text-align: right;\n",
       "    }\n",
       "</style>\n",
       "<table border=\"1\" class=\"dataframe\">\n",
       "  <thead>\n",
       "    <tr style=\"text-align: right;\">\n",
       "      <th></th>\n",
       "      <th>row_id_column_name</th>\n",
       "      <th>text</th>\n",
       "      <th>ctext</th>\n",
       "    </tr>\n",
       "  </thead>\n",
       "  <tbody>\n",
       "    <tr>\n",
       "      <th>0</th>\n",
       "      <td>0</td>\n",
       "      <td>বিশেষ অতিথি এফএম ইকবাল বিন আনোয়ার (ডন) অ্যাডিশ...</td>\n",
       "      <td>বিশেষ অতিথি এফএম ইকবাল বিন আনোয়ার (ডন) অ্যাডিশ...</td>\n",
       "    </tr>\n",
       "    <tr>\n",
       "      <th>1</th>\n",
       "      <td>1</td>\n",
       "      <td>এ নিয়ে বিবাদে ২০১৫ সালের ২ জুন রাত সাড়ে ১১টায় ...</td>\n",
       "      <td>এ নিয়ে বিবাদে দুই হাজার পনের সালের দুই জুন রাত...</td>\n",
       "    </tr>\n",
       "  </tbody>\n",
       "</table>\n",
       "</div>"
      ],
      "text/plain": [
       "   row_id_column_name                                               text  \\\n",
       "0                   0  বিশেষ অতিথি এফএম ইকবাল বিন আনোয়ার (ডন) অ্যাডিশ...   \n",
       "1                   1  এ নিয়ে বিবাদে ২০১৫ সালের ২ জুন রাত সাড়ে ১১টায় ...   \n",
       "\n",
       "                                               ctext  \n",
       "0  বিশেষ অতিথি এফএম ইকবাল বিন আনোয়ার (ডন) অ্যাডিশ...  \n",
       "1  এ নিয়ে বিবাদে দুই হাজার পনের সালের দুই জুন রাত...  "
      ]
     },
     "execution_count": 43,
     "metadata": {},
     "output_type": "execute_result"
    }
   ],
   "source": [
    "test_df.head(2)"
   ]
  },
  {
   "cell_type": "code",
   "execution_count": 44,
   "id": "f49b97b7",
   "metadata": {
    "execution": {
     "iopub.execute_input": "2023-10-27T15:51:01.728680Z",
     "iopub.status.busy": "2023-10-27T15:51:01.728050Z",
     "iopub.status.idle": "2023-10-27T15:51:01.732105Z",
     "shell.execute_reply": "2023-10-27T15:51:01.731227Z"
    },
    "papermill": {
     "duration": 0.035461,
     "end_time": "2023-10-27T15:51:01.734007",
     "exception": false,
     "start_time": "2023-10-27T15:51:01.698546",
     "status": "completed"
    },
    "tags": []
   },
   "outputs": [],
   "source": [
    "# lib['শ্রেণীর']"
   ]
  },
  {
   "cell_type": "markdown",
   "id": "3fc021c5",
   "metadata": {
    "papermill": {
     "duration": 0.028251,
     "end_time": "2023-10-27T15:51:01.790885",
     "exception": false,
     "start_time": "2023-10-27T15:51:01.762634",
     "status": "completed"
    },
    "tags": []
   },
   "source": [
    "### Handle This Library Error"
   ]
  },
  {
   "cell_type": "code",
   "execution_count": 45,
   "id": "b3abe19b",
   "metadata": {
    "execution": {
     "iopub.execute_input": "2023-10-27T15:51:01.849838Z",
     "iopub.status.busy": "2023-10-27T15:51:01.849169Z",
     "iopub.status.idle": "2023-10-27T15:51:02.376806Z",
     "shell.execute_reply": "2023-10-27T15:51:02.375911Z"
    },
    "papermill": {
     "duration": 0.559262,
     "end_time": "2023-10-27T15:51:02.378816",
     "exception": false,
     "start_time": "2023-10-27T15:51:01.819554",
     "status": "completed"
    },
    "tags": []
   },
   "outputs": [
    {
     "name": "stderr",
     "output_type": "stream",
     "text": [
      "/opt/conda/lib/python3.10/site-packages/transformers/pipelines/base.py:1101: UserWarning: You seem to be using the pipelines sequentially on GPU. In order to maximize efficiency please use a dataset\n",
      "  warnings.warn(\n"
     ]
    },
    {
     "data": {
      "text/plain": [
       "'t̪ɐɾ ʃɐɾɐ sɾenɪɾ ɔcɪnt̪o ʃoɾɪɾe bɦɛt̪ɐ ɔst̪ɾeɾ ɐtt̪ɾɪʃtɪ ɐgʱɐt̪ ɾoʲecʰe।'"
      ]
     },
     "execution_count": 45,
     "metadata": {},
     "output_type": "execute_result"
    }
   ],
   "source": [
    "txt = 'তার সারা শ্রেণীর অচিন্ত শরীরে ভোঁতা অস্ত্রের আটত্রিশটি আঘাত রয়েছে।'\n",
    "ipa_converter(txt)"
   ]
  },
  {
   "cell_type": "code",
   "execution_count": 46,
   "id": "000d1668",
   "metadata": {
    "execution": {
     "iopub.execute_input": "2023-10-27T15:51:02.440532Z",
     "iopub.status.busy": "2023-10-27T15:51:02.440174Z",
     "iopub.status.idle": "2023-10-27T15:51:02.446164Z",
     "shell.execute_reply": "2023-10-27T15:51:02.445284Z"
    },
    "papermill": {
     "duration": 0.039413,
     "end_time": "2023-10-27T15:51:02.448101",
     "exception": false,
     "start_time": "2023-10-27T15:51:02.408688",
     "status": "completed"
    },
    "tags": []
   },
   "outputs": [
    {
     "data": {
      "text/plain": [
       "34505"
      ]
     },
     "execution_count": 46,
     "metadata": {},
     "output_type": "execute_result"
    }
   ],
   "source": [
    "len(lib)"
   ]
  },
  {
   "cell_type": "code",
   "execution_count": 47,
   "id": "13d4525f",
   "metadata": {
    "execution": {
     "iopub.execute_input": "2023-10-27T15:51:02.508912Z",
     "iopub.status.busy": "2023-10-27T15:51:02.508183Z",
     "iopub.status.idle": "2023-10-27T15:51:03.007501Z",
     "shell.execute_reply": "2023-10-27T15:51:03.006475Z"
    },
    "papermill": {
     "duration": 0.532279,
     "end_time": "2023-10-27T15:51:03.010352",
     "exception": false,
     "start_time": "2023-10-27T15:51:02.478073",
     "status": "completed"
    },
    "tags": []
   },
   "outputs": [
    {
     "data": {
      "text/plain": [
       "'t̪ɐɾ ʃɐɾɐ শ্রেণির ɔcɪnt̪o ʃoɾɪɾe bɦõt̪ɐ ɔst̪ɾeɾ ɐtt̪ɾɪʃtɪ ɐgʱɐt̪ ɾoʲecʰe।'"
      ]
     },
     "execution_count": 47,
     "metadata": {},
     "output_type": "execute_result"
    }
   ],
   "source": [
    "txt = 'তার সারা শ্রেণীর অচিন্ত শরীরে ভোঁতা অস্ত্রের আটত্রিশটি আঘাত রয়েছে।'\n",
    "ipa_converter(txt)"
   ]
  },
  {
   "cell_type": "markdown",
   "id": "27b9f0ca",
   "metadata": {
    "papermill": {
     "duration": 0.029271,
     "end_time": "2023-10-27T15:51:03.072562",
     "exception": false,
     "start_time": "2023-10-27T15:51:03.043291",
     "status": "completed"
    },
    "tags": []
   },
   "source": [
    "#### Fixed in the upper part"
   ]
  },
  {
   "cell_type": "markdown",
   "id": "55663235",
   "metadata": {
    "papermill": {
     "duration": 0.028503,
     "end_time": "2023-10-27T15:51:03.130010",
     "exception": false,
     "start_time": "2023-10-27T15:51:03.101507",
     "status": "completed"
    },
    "tags": []
   },
   "source": [
    "## Change this Part Idea and Code `Nannu`"
   ]
  },
  {
   "cell_type": "code",
   "execution_count": 48,
   "id": "4f1fd6c7",
   "metadata": {
    "execution": {
     "iopub.execute_input": "2023-10-27T15:51:03.189573Z",
     "iopub.status.busy": "2023-10-27T15:51:03.188754Z",
     "iopub.status.idle": "2023-10-27T15:51:03.194242Z",
     "shell.execute_reply": "2023-10-27T15:51:03.193343Z"
    },
    "papermill": {
     "duration": 0.037456,
     "end_time": "2023-10-27T15:51:03.196117",
     "exception": false,
     "start_time": "2023-10-27T15:51:03.158661",
     "status": "completed"
    },
    "tags": []
   },
   "outputs": [],
   "source": [
    "dict_change={\n",
    "    \"bɦ\":\"bʱ\",\n",
    "    \"dɦ\":\"dʱ\",\n",
    "    \"oɦ\":'oʱ',\n",
    "    \"nɦ\":'nʱ',\n",
    "    \"ɟɦ\":'ɟʱ',\n",
    "    \"ɽɦ\":'ɽʱ',\n",
    "    \"gɦ\":'gʱ',\n",
    "    \"tɦ\":'tʱ',\n",
    "     \"d̪ɦ\":'d̪ʱ',\n",
    "     \"j\":\"ʲ\",\n",
    "     \"kh\":\"kʰ\",\n",
    "     \"t̪h\":\"t̪ʰ\",\n",
    "    \"ph\":\"pʰ\",\n",
    "    \"ch\":\"cʰ\",\n",
    "    \"w\":\"ʷ\"\n",
    "}"
   ]
  },
  {
   "cell_type": "code",
   "execution_count": 49,
   "id": "54c59a4b",
   "metadata": {
    "execution": {
     "iopub.execute_input": "2023-10-27T15:51:03.255425Z",
     "iopub.status.busy": "2023-10-27T15:51:03.254879Z",
     "iopub.status.idle": "2023-10-27T15:51:03.262852Z",
     "shell.execute_reply": "2023-10-27T15:51:03.262073Z"
    },
    "papermill": {
     "duration": 0.039555,
     "end_time": "2023-10-27T15:51:03.264696",
     "exception": false,
     "start_time": "2023-10-27T15:51:03.225141",
     "status": "completed"
    },
    "tags": []
   },
   "outputs": [
    {
     "data": {
      "text/plain": [
       "re.compile(r'bɦ|dɦ|oɦ|nɦ|ɟɦ|ɽɦ|gɦ|tɦ|d̪ɦ|j|kh|t̪h|ph|ch|w', re.UNICODE)"
      ]
     },
     "execution_count": 49,
     "metadata": {},
     "output_type": "execute_result"
    }
   ],
   "source": [
    "pattern = re.compile('|'.join(re.escape(key) for key in dict_change.keys()))\n",
    "\n",
    "# Define a function to perform replacements\n",
    "def replace(match):\n",
    "    return dict_change[match.group(0)]\n",
    "\n",
    "# Use re.sub() to perform replacements\n",
    "def output(input_string):\n",
    "    return pattern.sub(replace, input_string)\n",
    "pattern"
   ]
  },
  {
   "cell_type": "code",
   "execution_count": 50,
   "id": "119943e8",
   "metadata": {
    "execution": {
     "iopub.execute_input": "2023-10-27T15:51:03.324097Z",
     "iopub.status.busy": "2023-10-27T15:51:03.323816Z",
     "iopub.status.idle": "2023-10-27T15:51:03.329714Z",
     "shell.execute_reply": "2023-10-27T15:51:03.328866Z"
    },
    "papermill": {
     "duration": 0.037998,
     "end_time": "2023-10-27T15:51:03.331798",
     "exception": false,
     "start_time": "2023-10-27T15:51:03.293800",
     "status": "completed"
    },
    "tags": []
   },
   "outputs": [
    {
     "data": {
      "text/plain": [
       "'t̪ɐɾ ʃɐɾɐ শ্রেণির ɔcɪnt̪o ʃoɾɪɾe bʱõt̪ɐ ɔst̪ɾeɾ ɐtt̪ɾɪʃtɪ ɐgʱɐt̪ ɾoʲecʰe।'"
      ]
     },
     "execution_count": 50,
     "metadata": {},
     "output_type": "execute_result"
    }
   ],
   "source": [
    "tst = 't̪ɐɾ ʃɐɾɐ শ্রেণির ɔcɪnt̪o ʃoɾɪɾe bɦõt̪ɐ ɔst̪ɾeɾ ɐtt̪ɾɪʃtɪ ɐgʱɐt̪ ɾoʲecʰe।'\n",
    "output(tst)"
   ]
  },
  {
   "cell_type": "markdown",
   "id": "b19ec004",
   "metadata": {
    "papermill": {
     "duration": 0.028864,
     "end_time": "2023-10-27T15:51:03.390271",
     "exception": false,
     "start_time": "2023-10-27T15:51:03.361407",
     "status": "completed"
    },
    "tags": []
   },
   "source": [
    "## Seems ok for the moment. Now Just Make a submission File"
   ]
  },
  {
   "cell_type": "code",
   "execution_count": 51,
   "id": "1f82437b",
   "metadata": {
    "execution": {
     "iopub.execute_input": "2023-10-27T15:51:03.451622Z",
     "iopub.status.busy": "2023-10-27T15:51:03.451263Z",
     "iopub.status.idle": "2023-10-27T15:51:05.285924Z",
     "shell.execute_reply": "2023-10-27T15:51:05.284951Z"
    },
    "papermill": {
     "duration": 1.868236,
     "end_time": "2023-10-27T15:51:05.287921",
     "exception": false,
     "start_time": "2023-10-27T15:51:03.419685",
     "status": "completed"
    },
    "tags": []
   },
   "outputs": [
    {
     "name": "stderr",
     "output_type": "stream",
     "text": [
      "100%|██████████| 27228/27228 [00:01<00:00, 14914.34it/s]\n"
     ]
    }
   ],
   "source": [
    "tqdm.pandas()\n",
    "test_df['ctext'] = test_df['text'].progress_apply(num_to_text)"
   ]
  },
  {
   "cell_type": "code",
   "execution_count": 52,
   "id": "3b88b534",
   "metadata": {
    "execution": {
     "iopub.execute_input": "2023-10-27T15:51:05.352236Z",
     "iopub.status.busy": "2023-10-27T15:51:05.351441Z",
     "iopub.status.idle": "2023-10-27T15:51:05.361384Z",
     "shell.execute_reply": "2023-10-27T15:51:05.360546Z"
    },
    "papermill": {
     "duration": 0.044114,
     "end_time": "2023-10-27T15:51:05.363351",
     "exception": false,
     "start_time": "2023-10-27T15:51:05.319237",
     "status": "completed"
    },
    "tags": []
   },
   "outputs": [
    {
     "data": {
      "text/html": [
       "<div>\n",
       "<style scoped>\n",
       "    .dataframe tbody tr th:only-of-type {\n",
       "        vertical-align: middle;\n",
       "    }\n",
       "\n",
       "    .dataframe tbody tr th {\n",
       "        vertical-align: top;\n",
       "    }\n",
       "\n",
       "    .dataframe thead th {\n",
       "        text-align: right;\n",
       "    }\n",
       "</style>\n",
       "<table border=\"1\" class=\"dataframe\">\n",
       "  <thead>\n",
       "    <tr style=\"text-align: right;\">\n",
       "      <th></th>\n",
       "      <th>row_id_column_name</th>\n",
       "      <th>text</th>\n",
       "      <th>ctext</th>\n",
       "    </tr>\n",
       "  </thead>\n",
       "  <tbody>\n",
       "    <tr>\n",
       "      <th>0</th>\n",
       "      <td>0</td>\n",
       "      <td>বিশেষ অতিথি এফএম ইকবাল বিন আনোয়ার (ডন) অ্যাডিশ...</td>\n",
       "      <td>বিশেষ অতিথি এফএম ইকবাল বিন আনোয়ার (ডন) অ্যাডিশ...</td>\n",
       "    </tr>\n",
       "    <tr>\n",
       "      <th>1</th>\n",
       "      <td>1</td>\n",
       "      <td>এ নিয়ে বিবাদে ২০১৫ সালের ২ জুন রাত সাড়ে ১১টায় ...</td>\n",
       "      <td>এ নিয়ে বিবাদে দুই হাজার পনের সালের দুই জুন রাত...</td>\n",
       "    </tr>\n",
       "    <tr>\n",
       "      <th>2</th>\n",
       "      <td>2</td>\n",
       "      <td>আজ থেকে ১৪ বছর আগে তিনি চলে গেছেন না ফেরার দেশে।</td>\n",
       "      <td>আজ থেকে চৌদ্দ বছর আগে তিনি চলে গেছেন না ফেরার ...</td>\n",
       "    </tr>\n",
       "    <tr>\n",
       "      <th>3</th>\n",
       "      <td>3</td>\n",
       "      <td>নিহত ব্যক্তি কুতপালং টালের ই-২ ব্লকের আবুল বাছ...</td>\n",
       "      <td>নিহত ব্যক্তি কুতপালং টালের ই-দুই ব্লকের আবুল ব...</td>\n",
       "    </tr>\n",
       "    <tr>\n",
       "      <th>4</th>\n",
       "      <td>4</td>\n",
       "      <td>সংক্ষিপ্ত স্কোরশ্রীলংকা প্রথম ইনিংস ৪৮২ (করুনা...</td>\n",
       "      <td>সংক্ষিপ্ত স্কোরশ্রীলংকা প্রথম ইনিংস চারশো বিরা...</td>\n",
       "    </tr>\n",
       "  </tbody>\n",
       "</table>\n",
       "</div>"
      ],
      "text/plain": [
       "   row_id_column_name                                               text  \\\n",
       "0                   0  বিশেষ অতিথি এফএম ইকবাল বিন আনোয়ার (ডন) অ্যাডিশ...   \n",
       "1                   1  এ নিয়ে বিবাদে ২০১৫ সালের ২ জুন রাত সাড়ে ১১টায় ...   \n",
       "2                   2   আজ থেকে ১৪ বছর আগে তিনি চলে গেছেন না ফেরার দেশে।   \n",
       "3                   3  নিহত ব্যক্তি কুতপালং টালের ই-২ ব্লকের আবুল বাছ...   \n",
       "4                   4  সংক্ষিপ্ত স্কোরশ্রীলংকা প্রথম ইনিংস ৪৮২ (করুনা...   \n",
       "\n",
       "                                               ctext  \n",
       "0  বিশেষ অতিথি এফএম ইকবাল বিন আনোয়ার (ডন) অ্যাডিশ...  \n",
       "1  এ নিয়ে বিবাদে দুই হাজার পনের সালের দুই জুন রাত...  \n",
       "2  আজ থেকে চৌদ্দ বছর আগে তিনি চলে গেছেন না ফেরার ...  \n",
       "3  নিহত ব্যক্তি কুতপালং টালের ই-দুই ব্লকের আবুল ব...  \n",
       "4  সংক্ষিপ্ত স্কোরশ্রীলংকা প্রথম ইনিংস চারশো বিরা...  "
      ]
     },
     "execution_count": 52,
     "metadata": {},
     "output_type": "execute_result"
    }
   ],
   "source": [
    "test_df.head()"
   ]
  },
  {
   "cell_type": "code",
   "execution_count": 53,
   "id": "d471d678",
   "metadata": {
    "execution": {
     "iopub.execute_input": "2023-10-27T15:51:05.426723Z",
     "iopub.status.busy": "2023-10-27T15:51:05.426409Z",
     "iopub.status.idle": "2023-10-27T15:51:05.572774Z",
     "shell.execute_reply": "2023-10-27T15:51:05.571769Z"
    },
    "papermill": {
     "duration": 0.180627,
     "end_time": "2023-10-27T15:51:05.575100",
     "exception": false,
     "start_time": "2023-10-27T15:51:05.394473",
     "status": "completed"
    },
    "tags": []
   },
   "outputs": [],
   "source": [
    "# Remove English alphanumeric values\n",
    "alpha_pat = \"[a-zA-z0-9০-৯]\"\n",
    "test_df[\"ctext\"] = test_df[\"ctext\"].str.replace(alpha_pat, \"\", regex=True)\n",
    "pat = \"[‘’]\"\n",
    "test_df[\"ctext\"] = test_df[\"ctext\"].str.replace(pat, \"\", regex=True)\n",
    "test_df['ctext'] = test_df['ctext'].str.replace(r\"-\", \" - \")"
   ]
  },
  {
   "cell_type": "code",
   "execution_count": 54,
   "id": "4a79595c",
   "metadata": {
    "execution": {
     "iopub.execute_input": "2023-10-27T15:51:05.639417Z",
     "iopub.status.busy": "2023-10-27T15:51:05.639074Z",
     "iopub.status.idle": "2023-10-27T15:51:05.661056Z",
     "shell.execute_reply": "2023-10-27T15:51:05.660172Z"
    },
    "papermill": {
     "duration": 0.056177,
     "end_time": "2023-10-27T15:51:05.662875",
     "exception": false,
     "start_time": "2023-10-27T15:51:05.606698",
     "status": "completed"
    },
    "tags": []
   },
   "outputs": [
    {
     "name": "stdout",
     "output_type": "stream",
     "text": [
      "Length of the Df = (42, 2)\n"
     ]
    }
   ],
   "source": [
    "filt_cond = [\"১-৯\", 'A-Za-z0-9']\n",
    "# Filtering text samples that contain English alphanumeric values\n",
    "filt = df[lambda x: x[\"text\"].str.contains(\"['']\")]\n",
    "filt = filt.reset_index(drop=True)\n",
    "print(f'Length of the Df = {filt.shape}')"
   ]
  },
  {
   "cell_type": "code",
   "execution_count": 55,
   "id": "fd8e44d3",
   "metadata": {
    "execution": {
     "iopub.execute_input": "2023-10-27T15:51:05.728513Z",
     "iopub.status.busy": "2023-10-27T15:51:05.727665Z",
     "iopub.status.idle": "2023-10-27T15:51:05.735601Z",
     "shell.execute_reply": "2023-10-27T15:51:05.734757Z"
    },
    "papermill": {
     "duration": 0.043508,
     "end_time": "2023-10-27T15:51:05.737604",
     "exception": false,
     "start_time": "2023-10-27T15:51:05.694096",
     "status": "completed"
    },
    "tags": []
   },
   "outputs": [
    {
     "name": "stdout",
     "output_type": "stream",
     "text": [
      "t̪ɐɾ pɾot̪ʰom cʰobɪɾ nɐm cʰɪlo 'cet̪onɐ'।\n"
     ]
    },
    {
     "data": {
      "text/plain": [
       "\"তার প্রথম ছবির নাম ছিল 'চেতনা'।\""
      ]
     },
     "execution_count": 55,
     "metadata": {},
     "output_type": "execute_result"
    }
   ],
   "source": [
    "ind = np.random.randint(0, len(filt))\n",
    "print(ipa_converter(filt.text[ind]))\n",
    "filt.text[ind]"
   ]
  },
  {
   "cell_type": "code",
   "execution_count": 56,
   "id": "382d625d",
   "metadata": {
    "execution": {
     "iopub.execute_input": "2023-10-27T15:51:05.802963Z",
     "iopub.status.busy": "2023-10-27T15:51:05.802666Z",
     "iopub.status.idle": "2023-10-27T15:51:31.774263Z",
     "shell.execute_reply": "2023-10-27T15:51:31.773365Z"
    },
    "papermill": {
     "duration": 26.006441,
     "end_time": "2023-10-27T15:51:31.776138",
     "exception": false,
     "start_time": "2023-10-27T15:51:05.769697",
     "status": "completed"
    },
    "tags": []
   },
   "outputs": [
    {
     "name": "stderr",
     "output_type": "stream",
     "text": [
      "  0%|          | 0/100 [00:00<?, ?it/s]/opt/conda/lib/python3.10/site-packages/transformers/pipelines/base.py:1101: UserWarning: You seem to be using the pipelines sequentially on GPU. In order to maximize efficiency please use a dataset\n",
      "  warnings.warn(\n",
      "100%|██████████| 100/100 [00:25<00:00,  3.85it/s]\n",
      "100%|██████████| 100/100 [00:00<00:00, 66470.74it/s]\n"
     ]
    }
   ],
   "source": [
    "tqdm.pandas()\n",
    "test_df['ipa'] = test_df['ctext'][:100].progress_apply(ipa_converter)\n",
    "test_df['fipa'] = test_df['ipa'][:100].progress_apply(output)\n",
    "test_df['fipa'] = test_df['fipa'].str.replace(r\" - \", \"-\")"
   ]
  },
  {
   "cell_type": "code",
   "execution_count": 57,
   "id": "880427f8",
   "metadata": {
    "execution": {
     "iopub.execute_input": "2023-10-27T15:51:31.852647Z",
     "iopub.status.busy": "2023-10-27T15:51:31.852342Z",
     "iopub.status.idle": "2023-10-27T17:14:05.705056Z",
     "shell.execute_reply": "2023-10-27T17:14:05.704278Z"
    },
    "papermill": {
     "duration": 4953.893219,
     "end_time": "2023-10-27T17:14:05.706997",
     "exception": false,
     "start_time": "2023-10-27T15:51:31.813778",
     "status": "completed"
    },
    "tags": []
   },
   "outputs": [
    {
     "name": "stderr",
     "output_type": "stream",
     "text": [
      "  0%|          | 0/27228 [00:00<?, ?it/s]/opt/conda/lib/python3.10/site-packages/transformers/pipelines/base.py:1101: UserWarning: You seem to be using the pipelines sequentially on GPU. In order to maximize efficiency please use a dataset\n",
      "  warnings.warn(\n",
      "100%|██████████| 27228/27228 [1:22:33<00:00,  5.50it/s]\n",
      "100%|██████████| 27228/27228 [00:00<00:00, 136760.30it/s]\n"
     ]
    }
   ],
   "source": [
    "tqdm.pandas()\n",
    "test_df['ipa'] = test_df['ctext'].progress_apply(ipa_converter)\n",
    "test_df['fipa'] = test_df['ipa'].progress_apply(output)"
   ]
  },
  {
   "cell_type": "code",
   "execution_count": 58,
   "id": "daf87c61",
   "metadata": {
    "execution": {
     "iopub.execute_input": "2023-10-27T17:14:08.327905Z",
     "iopub.status.busy": "2023-10-27T17:14:08.327578Z",
     "iopub.status.idle": "2023-10-27T17:14:08.338643Z",
     "shell.execute_reply": "2023-10-27T17:14:08.337747Z"
    },
    "papermill": {
     "duration": 1.276979,
     "end_time": "2023-10-27T17:14:08.340631",
     "exception": false,
     "start_time": "2023-10-27T17:14:07.063652",
     "status": "completed"
    },
    "tags": []
   },
   "outputs": [
    {
     "data": {
      "text/html": [
       "<div>\n",
       "<style scoped>\n",
       "    .dataframe tbody tr th:only-of-type {\n",
       "        vertical-align: middle;\n",
       "    }\n",
       "\n",
       "    .dataframe tbody tr th {\n",
       "        vertical-align: top;\n",
       "    }\n",
       "\n",
       "    .dataframe thead th {\n",
       "        text-align: right;\n",
       "    }\n",
       "</style>\n",
       "<table border=\"1\" class=\"dataframe\">\n",
       "  <thead>\n",
       "    <tr style=\"text-align: right;\">\n",
       "      <th></th>\n",
       "      <th>row_id_column_name</th>\n",
       "      <th>text</th>\n",
       "      <th>ctext</th>\n",
       "      <th>ipa</th>\n",
       "      <th>fipa</th>\n",
       "    </tr>\n",
       "  </thead>\n",
       "  <tbody>\n",
       "    <tr>\n",
       "      <th>0</th>\n",
       "      <td>0</td>\n",
       "      <td>বিশেষ অতিথি এফএম ইকবাল বিন আনোয়ার (ডন) অ্যাডিশ...</td>\n",
       "      <td>বিশেষ অতিথি এফএম ইকবাল বিন আনোয়ার (ডন) অ্যাডিশ...</td>\n",
       "      <td>bɪʃeʃ ot̪ɪt̪ʰɪ ephem ɪkbɐl bɪn ɐnoʷɐɾ (dɔn) ɛd...</td>\n",
       "      <td>bɪʃeʃ ot̪ɪt̪ʰɪ epʰem ɪkbɐl bɪn ɐnoʷɐɾ (dɔn) ɛd...</td>\n",
       "    </tr>\n",
       "    <tr>\n",
       "      <th>1</th>\n",
       "      <td>1</td>\n",
       "      <td>এ নিয়ে বিবাদে ২০১৫ সালের ২ জুন রাত সাড়ে ১১টায় ...</td>\n",
       "      <td>এ নিয়ে বিবাদে দুই হাজার পনের সালের দুই জুন রাত...</td>\n",
       "      <td>e nɪʲe bɪbɐd̪e d̪uɪ̯ hɐɟɐɾ pɔneɾo ʃɐleɾ d̪uɪ̯ ...</td>\n",
       "      <td>e nɪʲe bɪbɐd̪e d̪uɪ̯ hɐɟɐɾ pɔneɾo ʃɐleɾ d̪uɪ̯ ...</td>\n",
       "    </tr>\n",
       "    <tr>\n",
       "      <th>2</th>\n",
       "      <td>2</td>\n",
       "      <td>আজ থেকে ১৪ বছর আগে তিনি চলে গেছেন না ফেরার দেশে।</td>\n",
       "      <td>আজ থেকে চৌদ্দ বছর আগে তিনি চলে গেছেন না ফেরার ...</td>\n",
       "      <td>ɐɟ t̪ʰeke cou̯ddo bɔcʰoɾ ɐge t̪ɪnɪ cɔle gɛcʰen...</td>\n",
       "      <td>ɐɟ t̪ʰeke cou̯ddo bɔcʰoɾ ɐge t̪ɪnɪ cɔle gɛcʰen...</td>\n",
       "    </tr>\n",
       "    <tr>\n",
       "      <th>3</th>\n",
       "      <td>3</td>\n",
       "      <td>নিহত ব্যক্তি কুতপালং টালের ই-২ ব্লকের আবুল বাছ...</td>\n",
       "      <td>নিহত ব্যক্তি কুতপালং টালের ই - দুই ব্লকের আবুল...</td>\n",
       "      <td>nɪhɔt̪o bɛkt̪ɪ kocupɐlŋ tɐleɾ ɪ - d̪uɪ̯ blokeɾ...</td>\n",
       "      <td>nɪhɔt̪o bɛkt̪ɪ kocupɐlŋ tɐleɾ ɪ - d̪uɪ̯ blokeɾ...</td>\n",
       "    </tr>\n",
       "    <tr>\n",
       "      <th>4</th>\n",
       "      <td>4</td>\n",
       "      <td>সংক্ষিপ্ত স্কোরশ্রীলংকা প্রথম ইনিংস ৪৮২ (করুনা...</td>\n",
       "      <td>সংক্ষিপ্ত স্কোরশ্রীলংকা প্রথম ইনিংস চারশো বিরা...</td>\n",
       "      <td>ʃɔŋkkʰɪpt̪o skoɾsɾulɔŋkɐ pɾot̪ʰom ɪnɪŋʃo cɐɾʃo...</td>\n",
       "      <td>ʃɔŋkkʰɪpt̪o skoɾsɾulɔŋkɐ pɾot̪ʰom ɪnɪŋʃo cɐɾʃo...</td>\n",
       "    </tr>\n",
       "  </tbody>\n",
       "</table>\n",
       "</div>"
      ],
      "text/plain": [
       "   row_id_column_name                                               text  \\\n",
       "0                   0  বিশেষ অতিথি এফএম ইকবাল বিন আনোয়ার (ডন) অ্যাডিশ...   \n",
       "1                   1  এ নিয়ে বিবাদে ২০১৫ সালের ২ জুন রাত সাড়ে ১১টায় ...   \n",
       "2                   2   আজ থেকে ১৪ বছর আগে তিনি চলে গেছেন না ফেরার দেশে।   \n",
       "3                   3  নিহত ব্যক্তি কুতপালং টালের ই-২ ব্লকের আবুল বাছ...   \n",
       "4                   4  সংক্ষিপ্ত স্কোরশ্রীলংকা প্রথম ইনিংস ৪৮২ (করুনা...   \n",
       "\n",
       "                                               ctext  \\\n",
       "0  বিশেষ অতিথি এফএম ইকবাল বিন আনোয়ার (ডন) অ্যাডিশ...   \n",
       "1  এ নিয়ে বিবাদে দুই হাজার পনের সালের দুই জুন রাত...   \n",
       "2  আজ থেকে চৌদ্দ বছর আগে তিনি চলে গেছেন না ফেরার ...   \n",
       "3  নিহত ব্যক্তি কুতপালং টালের ই - দুই ব্লকের আবুল...   \n",
       "4  সংক্ষিপ্ত স্কোরশ্রীলংকা প্রথম ইনিংস চারশো বিরা...   \n",
       "\n",
       "                                                 ipa  \\\n",
       "0  bɪʃeʃ ot̪ɪt̪ʰɪ ephem ɪkbɐl bɪn ɐnoʷɐɾ (dɔn) ɛd...   \n",
       "1  e nɪʲe bɪbɐd̪e d̪uɪ̯ hɐɟɐɾ pɔneɾo ʃɐleɾ d̪uɪ̯ ...   \n",
       "2  ɐɟ t̪ʰeke cou̯ddo bɔcʰoɾ ɐge t̪ɪnɪ cɔle gɛcʰen...   \n",
       "3  nɪhɔt̪o bɛkt̪ɪ kocupɐlŋ tɐleɾ ɪ - d̪uɪ̯ blokeɾ...   \n",
       "4  ʃɔŋkkʰɪpt̪o skoɾsɾulɔŋkɐ pɾot̪ʰom ɪnɪŋʃo cɐɾʃo...   \n",
       "\n",
       "                                                fipa  \n",
       "0  bɪʃeʃ ot̪ɪt̪ʰɪ epʰem ɪkbɐl bɪn ɐnoʷɐɾ (dɔn) ɛd...  \n",
       "1  e nɪʲe bɪbɐd̪e d̪uɪ̯ hɐɟɐɾ pɔneɾo ʃɐleɾ d̪uɪ̯ ...  \n",
       "2  ɐɟ t̪ʰeke cou̯ddo bɔcʰoɾ ɐge t̪ɪnɪ cɔle gɛcʰen...  \n",
       "3  nɪhɔt̪o bɛkt̪ɪ kocupɐlŋ tɐleɾ ɪ - d̪uɪ̯ blokeɾ...  \n",
       "4  ʃɔŋkkʰɪpt̪o skoɾsɾulɔŋkɐ pɾot̪ʰom ɪnɪŋʃo cɐɾʃo...  "
      ]
     },
     "execution_count": 58,
     "metadata": {},
     "output_type": "execute_result"
    }
   ],
   "source": [
    "test_df.head()"
   ]
  },
  {
   "cell_type": "code",
   "execution_count": 59,
   "id": "791f166b",
   "metadata": {
    "execution": {
     "iopub.execute_input": "2023-10-27T17:14:10.899382Z",
     "iopub.status.busy": "2023-10-27T17:14:10.899004Z",
     "iopub.status.idle": "2023-10-27T17:14:11.098516Z",
     "shell.execute_reply": "2023-10-27T17:14:11.097503Z"
    },
    "papermill": {
     "duration": 1.434261,
     "end_time": "2023-10-27T17:14:11.100495",
     "exception": false,
     "start_time": "2023-10-27T17:14:09.666234",
     "status": "completed"
    },
    "tags": []
   },
   "outputs": [
    {
     "name": "stdout",
     "output_type": "stream",
     "text": [
      "(27228, 2)\n"
     ]
    }
   ],
   "source": [
    "sdf = test_df.drop(['text', 'ipa', 'ctext' ], axis=1)\n",
    "sdf.head(2)\n",
    "print(sdf.shape)\n",
    "sdf.to_csv('/kaggle/working/submission97.csv', index=False)"
   ]
  },
  {
   "cell_type": "markdown",
   "id": "7d0cc63c",
   "metadata": {
    "papermill": {
     "duration": 1.236804,
     "end_time": "2023-10-27T17:14:13.687275",
     "exception": false,
     "start_time": "2023-10-27T17:14:12.450471",
     "status": "completed"
    },
    "tags": []
   },
   "source": [
    "## Check Manually"
   ]
  },
  {
   "cell_type": "code",
   "execution_count": 60,
   "id": "ea06c357",
   "metadata": {
    "execution": {
     "iopub.execute_input": "2023-10-27T17:14:16.244515Z",
     "iopub.status.busy": "2023-10-27T17:14:16.244153Z",
     "iopub.status.idle": "2023-10-27T17:14:16.247816Z",
     "shell.execute_reply": "2023-10-27T17:14:16.246907Z"
    },
    "papermill": {
     "duration": 1.245357,
     "end_time": "2023-10-27T17:14:16.249775",
     "exception": false,
     "start_time": "2023-10-27T17:14:15.004418",
     "status": "completed"
    },
    "tags": []
   },
   "outputs": [],
   "source": [
    "# test_df = pd.read_csv('/kaggle/input/dataverse-ipa/dataverse_2023/testData.csv')\n",
    "# test_df.head(3)"
   ]
  },
  {
   "cell_type": "code",
   "execution_count": 61,
   "id": "ae9e6816",
   "metadata": {
    "execution": {
     "iopub.execute_input": "2023-10-27T17:14:18.806116Z",
     "iopub.status.busy": "2023-10-27T17:14:18.805767Z",
     "iopub.status.idle": "2023-10-27T17:14:18.809941Z",
     "shell.execute_reply": "2023-10-27T17:14:18.809057Z"
    },
    "papermill": {
     "duration": 1.243244,
     "end_time": "2023-10-27T17:14:18.811981",
     "exception": false,
     "start_time": "2023-10-27T17:14:17.568737",
     "status": "completed"
    },
    "tags": []
   },
   "outputs": [],
   "source": [
    "# tqdm.pandas()\n",
    "# test_df['ctext'] = test_df['text'].progress_apply(num_to_text)\n",
    "# # Remove English alphanumeric values\n",
    "# alpha_pat = \"[a-zA-z0-9০-৯]\"\n",
    "# test_df[\"ctext\"] = test_df[\"ctext\"].str.replace(alpha_pat, \"\", regex=True)\n",
    "# pat = \"[‘’]\"\n",
    "# test_df[\"ctext\"] = test_df[\"ctext\"].str.replace(pat, \"\", regex=True)"
   ]
  },
  {
   "cell_type": "code",
   "execution_count": 62,
   "id": "c6864979",
   "metadata": {
    "execution": {
     "iopub.execute_input": "2023-10-27T17:14:21.347123Z",
     "iopub.status.busy": "2023-10-27T17:14:21.346766Z",
     "iopub.status.idle": "2023-10-27T17:14:21.350911Z",
     "shell.execute_reply": "2023-10-27T17:14:21.350050Z"
    },
    "papermill": {
     "duration": 1.235152,
     "end_time": "2023-10-27T17:14:21.352824",
     "exception": false,
     "start_time": "2023-10-27T17:14:20.117672",
     "status": "completed"
    },
    "tags": []
   },
   "outputs": [],
   "source": [
    "# # Remove English alphanumeric values\n",
    "# alpha_pat = \"[a-zA-z0-9০-৯]\"\n",
    "# test_df[\"ctext\"] = test_df[\"ctext\"].str.replace(alpha_pat, \"\", regex=True)\n",
    "# pat = \"[‘’]\"\n",
    "# test_df[\"ctext\"] = test_df[\"ctext\"].str.replace(pat, \"\", regex=True)"
   ]
  },
  {
   "cell_type": "code",
   "execution_count": 63,
   "id": "2cbb21de",
   "metadata": {
    "execution": {
     "iopub.execute_input": "2023-10-27T17:14:23.912483Z",
     "iopub.status.busy": "2023-10-27T17:14:23.912122Z",
     "iopub.status.idle": "2023-10-27T17:14:23.916240Z",
     "shell.execute_reply": "2023-10-27T17:14:23.915389Z"
    },
    "papermill": {
     "duration": 1.258461,
     "end_time": "2023-10-27T17:14:23.918107",
     "exception": false,
     "start_time": "2023-10-27T17:14:22.659646",
     "status": "completed"
    },
    "tags": []
   },
   "outputs": [],
   "source": [
    "# filt_cond = [\"১-৯\", 'A-Za-z0-9']\n",
    "# # Filtering text samples that contain English alphanumeric values\n",
    "# filt = df[lambda x: x[\"text\"].str.contains(\"[-]\")]\n",
    "# filt = filt.reset_index(drop=True)\n",
    "# print(f'Length of the Df = {filt.shape}')"
   ]
  },
  {
   "cell_type": "code",
   "execution_count": 64,
   "id": "755ed2fb",
   "metadata": {
    "execution": {
     "iopub.execute_input": "2023-10-27T17:14:26.484148Z",
     "iopub.status.busy": "2023-10-27T17:14:26.483768Z",
     "iopub.status.idle": "2023-10-27T17:14:26.487986Z",
     "shell.execute_reply": "2023-10-27T17:14:26.487043Z"
    },
    "papermill": {
     "duration": 1.261232,
     "end_time": "2023-10-27T17:14:26.489967",
     "exception": false,
     "start_time": "2023-10-27T17:14:25.228735",
     "status": "completed"
    },
    "tags": []
   },
   "outputs": [],
   "source": [
    "# ind = np.random.randint(0, len(filt))\n",
    "# print(ipa_converter(filt.text[ind]))\n",
    "# filt.text[ind]"
   ]
  },
  {
   "cell_type": "code",
   "execution_count": 65,
   "id": "3b9676c3",
   "metadata": {
    "execution": {
     "iopub.execute_input": "2023-10-27T17:14:29.029745Z",
     "iopub.status.busy": "2023-10-27T17:14:29.029021Z",
     "iopub.status.idle": "2023-10-27T17:14:29.033826Z",
     "shell.execute_reply": "2023-10-27T17:14:29.032888Z"
    },
    "papermill": {
     "duration": 1.241285,
     "end_time": "2023-10-27T17:14:29.035877",
     "exception": false,
     "start_time": "2023-10-27T17:14:27.794592",
     "status": "completed"
    },
    "tags": []
   },
   "outputs": [],
   "source": [
    "# filt_cond = [\"১-৯\", 'A-Za-z0-9']\n",
    "# # Filtering text samples that contain English alphanumeric values\n",
    "# filt = test_df[lambda x: x[\"ctext\"].str.contains(\"[-]\")]\n",
    "# filt = filt.reset_index(drop=True)\n",
    "# print(f'Length of the Df = {filt.shape}')"
   ]
  },
  {
   "cell_type": "code",
   "execution_count": 66,
   "id": "dfa3c1bd",
   "metadata": {
    "execution": {
     "iopub.execute_input": "2023-10-27T17:14:31.581512Z",
     "iopub.status.busy": "2023-10-27T17:14:31.581144Z",
     "iopub.status.idle": "2023-10-27T17:14:31.585451Z",
     "shell.execute_reply": "2023-10-27T17:14:31.584474Z"
    },
    "papermill": {
     "duration": 1.233376,
     "end_time": "2023-10-27T17:14:31.587343",
     "exception": false,
     "start_time": "2023-10-27T17:14:30.353967",
     "status": "completed"
    },
    "tags": []
   },
   "outputs": [],
   "source": [
    "# ind = np.random.randint(0, len(filt))\n",
    "# print(ipa_converter(filt.ctext[ind]))\n",
    "# filt.ctext[ind]"
   ]
  },
  {
   "cell_type": "code",
   "execution_count": 67,
   "id": "64b406c7",
   "metadata": {
    "execution": {
     "iopub.execute_input": "2023-10-27T17:14:34.123144Z",
     "iopub.status.busy": "2023-10-27T17:14:34.122442Z",
     "iopub.status.idle": "2023-10-27T17:14:34.126524Z",
     "shell.execute_reply": "2023-10-27T17:14:34.125658Z"
    },
    "papermill": {
     "duration": 1.243479,
     "end_time": "2023-10-27T17:14:34.128334",
     "exception": false,
     "start_time": "2023-10-27T17:14:32.884855",
     "status": "completed"
    },
    "tags": []
   },
   "outputs": [],
   "source": [
    "# test_df['ctext'][5]"
   ]
  },
  {
   "cell_type": "code",
   "execution_count": 68,
   "id": "4b002525",
   "metadata": {
    "execution": {
     "iopub.execute_input": "2023-10-27T17:14:36.695742Z",
     "iopub.status.busy": "2023-10-27T17:14:36.695400Z",
     "iopub.status.idle": "2023-10-27T17:14:36.699473Z",
     "shell.execute_reply": "2023-10-27T17:14:36.698538Z"
    },
    "papermill": {
     "duration": 1.261637,
     "end_time": "2023-10-27T17:14:36.701521",
     "exception": false,
     "start_time": "2023-10-27T17:14:35.439884",
     "status": "completed"
    },
    "tags": []
   },
   "outputs": [],
   "source": [
    "# ri = np.random.randint(0, 100)\n",
    "# ri = 5\n",
    "# print('index: ',ri)\n",
    "# test_df['fipa'][ri]"
   ]
  },
  {
   "cell_type": "code",
   "execution_count": null,
   "id": "7d43e91c",
   "metadata": {
    "papermill": {
     "duration": 1.272724,
     "end_time": "2023-10-27T17:14:39.280273",
     "exception": false,
     "start_time": "2023-10-27T17:14:38.007549",
     "status": "completed"
    },
    "tags": []
   },
   "outputs": [],
   "source": []
  },
  {
   "cell_type": "markdown",
   "id": "21aeb92d",
   "metadata": {
    "papermill": {
     "duration": 1.22915,
     "end_time": "2023-10-27T17:14:41.809502",
     "exception": false,
     "start_time": "2023-10-27T17:14:40.580352",
     "status": "completed"
    },
    "tags": []
   },
   "source": [
    "## Another IPA COnverter"
   ]
  },
  {
   "cell_type": "code",
   "execution_count": 69,
   "id": "b8a3d76c",
   "metadata": {
    "execution": {
     "iopub.execute_input": "2023-10-27T17:14:44.410662Z",
     "iopub.status.busy": "2023-10-27T17:14:44.410279Z",
     "iopub.status.idle": "2023-10-27T17:14:44.415504Z",
     "shell.execute_reply": "2023-10-27T17:14:44.414559Z"
    },
    "jupyter": {
     "source_hidden": true
    },
    "papermill": {
     "duration": 1.250202,
     "end_time": "2023-10-27T17:14:44.417483",
     "exception": false,
     "start_time": "2023-10-27T17:14:43.167281",
     "status": "completed"
    },
    "tags": []
   },
   "outputs": [],
   "source": [
    "# def another_ipa_converter(text):\n",
    "#     '''\n",
    "#     Converts a sentence to IPA\n",
    "#     '''\n",
    "#     ipa = ''\n",
    "#     #for value in re.split(r'\\s+|(?=।)', text):\n",
    "#     words = re.split(r'\\s+|(?<=[()।])|(?=[()।])', text)\n",
    "    \n",
    "#     # Filter out empty strings and extra spaces from the result\n",
    "#     words = [word.strip() for word in words if word.strip()]\n",
    "#     for value in words:\n",
    "# #         print(value)\n",
    "#         if value in lib:\n",
    "#             ipa += lib[value]\n",
    "#             ipa += ' '\n",
    "#         else:\n",
    "#             # ipa += 'UNKey '\n",
    "#             ipa += word_to_ipa(value)\n",
    "#             ipa += ' '\n",
    "            \n",
    "#     pattern = r'\\s+(?=।)|(?<=।)\\s+'\n",
    "#     cln_ipa = re.sub(pattern, '', ipa)\n",
    "    \n",
    "#     # Replace ' (' with '('\n",
    "#     cln_ipa = re.sub(r'\\(\\s+', '(', cln_ipa)\n",
    "\n",
    "#     # Replace ') ' with ')'\n",
    "#     cln_ipa = re.sub(r'\\s+\\)', ')', cln_ipa)\n",
    "#     return cln_ipa"
   ]
  },
  {
   "cell_type": "code",
   "execution_count": 70,
   "id": "2f748aa6",
   "metadata": {
    "execution": {
     "iopub.execute_input": "2023-10-27T17:14:46.980615Z",
     "iopub.status.busy": "2023-10-27T17:14:46.979895Z",
     "iopub.status.idle": "2023-10-27T17:14:46.983735Z",
     "shell.execute_reply": "2023-10-27T17:14:46.983002Z"
    },
    "papermill": {
     "duration": 1.25338,
     "end_time": "2023-10-27T17:14:46.985656",
     "exception": false,
     "start_time": "2023-10-27T17:14:45.732276",
     "status": "completed"
    },
    "tags": []
   },
   "outputs": [],
   "source": [
    "# ri = np.random.randint(0, 100)\n",
    "# print(test_df['ctext'][ri])\n",
    "# print('index: ',ri)\n",
    "# test_df['ipa'][ri], another_ipa_converter(test_df.ctext[ri])"
   ]
  },
  {
   "cell_type": "code",
   "execution_count": 71,
   "id": "dcdee1a6",
   "metadata": {
    "execution": {
     "iopub.execute_input": "2023-10-27T17:14:49.507140Z",
     "iopub.status.busy": "2023-10-27T17:14:49.506406Z",
     "iopub.status.idle": "2023-10-27T17:14:49.510607Z",
     "shell.execute_reply": "2023-10-27T17:14:49.509719Z"
    },
    "papermill": {
     "duration": 1.23216,
     "end_time": "2023-10-27T17:14:49.512521",
     "exception": false,
     "start_time": "2023-10-27T17:14:48.280361",
     "status": "completed"
    },
    "tags": []
   },
   "outputs": [],
   "source": [
    "# test_df['fipa'] = test_df['fipa'].str.replace(r\" ‘\", \"‘\")"
   ]
  },
  {
   "cell_type": "code",
   "execution_count": 72,
   "id": "16984712",
   "metadata": {
    "execution": {
     "iopub.execute_input": "2023-10-27T17:14:52.051821Z",
     "iopub.status.busy": "2023-10-27T17:14:52.051152Z",
     "iopub.status.idle": "2023-10-27T17:14:52.055263Z",
     "shell.execute_reply": "2023-10-27T17:14:52.054377Z"
    },
    "papermill": {
     "duration": 1.24599,
     "end_time": "2023-10-27T17:14:52.057078",
     "exception": false,
     "start_time": "2023-10-27T17:14:50.811088",
     "status": "completed"
    },
    "tags": []
   },
   "outputs": [],
   "source": [
    "# test_df.to_csv('submission.csv', index=False)"
   ]
  },
  {
   "cell_type": "code",
   "execution_count": 73,
   "id": "f7add06d",
   "metadata": {
    "execution": {
     "iopub.execute_input": "2023-10-27T17:14:54.607541Z",
     "iopub.status.busy": "2023-10-27T17:14:54.606816Z",
     "iopub.status.idle": "2023-10-27T17:14:54.612229Z",
     "shell.execute_reply": "2023-10-27T17:14:54.611200Z"
    },
    "papermill": {
     "duration": 1.245875,
     "end_time": "2023-10-27T17:14:54.614108",
     "exception": false,
     "start_time": "2023-10-27T17:14:53.368233",
     "status": "completed"
    },
    "tags": []
   },
   "outputs": [],
   "source": [
    "# # See a random sample from the test set \n",
    "# rand_index = np.random.randint(0, len(test_df))\n",
    "# print(f'Text = {test_df.text[rand_index]}\\nIpa = {test_df.ipa[rand_index]}')"
   ]
  },
  {
   "cell_type": "code",
   "execution_count": 74,
   "id": "8e680eb8",
   "metadata": {
    "execution": {
     "iopub.execute_input": "2023-10-27T17:14:57.185461Z",
     "iopub.status.busy": "2023-10-27T17:14:57.184811Z",
     "iopub.status.idle": "2023-10-27T17:14:57.190519Z",
     "shell.execute_reply": "2023-10-27T17:14:57.189676Z"
    },
    "papermill": {
     "duration": 1.268894,
     "end_time": "2023-10-27T17:14:57.192690",
     "exception": false,
     "start_time": "2023-10-27T17:14:55.923796",
     "status": "completed"
    },
    "tags": []
   },
   "outputs": [
    {
     "data": {
      "text/plain": [
       "'mod̪d̪ʱe'"
      ]
     },
     "execution_count": 74,
     "metadata": {},
     "output_type": "execute_result"
    }
   ],
   "source": [
    "lib['মধ্যে']"
   ]
  },
  {
   "cell_type": "code",
   "execution_count": 75,
   "id": "716386c4",
   "metadata": {
    "execution": {
     "iopub.execute_input": "2023-10-27T17:14:59.744312Z",
     "iopub.status.busy": "2023-10-27T17:14:59.743386Z",
     "iopub.status.idle": "2023-10-27T17:14:59.747874Z",
     "shell.execute_reply": "2023-10-27T17:14:59.747142Z"
    },
    "papermill": {
     "duration": 1.250401,
     "end_time": "2023-10-27T17:14:59.749702",
     "exception": false,
     "start_time": "2023-10-27T17:14:58.499301",
     "status": "completed"
    },
    "tags": []
   },
   "outputs": [],
   "source": [
    "# lenli = []\n",
    "# for i in range(len(test_df)):\n",
    "#     l1 = len(test_df['text'][i].split())\n",
    "#     l2 = len(test_df['ipa'][i].split())\n",
    "#     lenli.append([l1, l2])"
   ]
  },
  {
   "cell_type": "code",
   "execution_count": 76,
   "id": "05249d97",
   "metadata": {
    "execution": {
     "iopub.execute_input": "2023-10-27T17:15:02.309827Z",
     "iopub.status.busy": "2023-10-27T17:15:02.309467Z",
     "iopub.status.idle": "2023-10-27T17:15:02.313518Z",
     "shell.execute_reply": "2023-10-27T17:15:02.312663Z"
    },
    "papermill": {
     "duration": 1.250894,
     "end_time": "2023-10-27T17:15:02.315461",
     "exception": false,
     "start_time": "2023-10-27T17:15:01.064567",
     "status": "completed"
    },
    "tags": []
   },
   "outputs": [],
   "source": [
    "# lenlisrt = sorted(lenli, key= lambda x:x[1], reverse=False)"
   ]
  },
  {
   "cell_type": "code",
   "execution_count": 77,
   "id": "174553bf",
   "metadata": {
    "execution": {
     "iopub.execute_input": "2023-10-27T17:15:04.911849Z",
     "iopub.status.busy": "2023-10-27T17:15:04.910874Z",
     "iopub.status.idle": "2023-10-27T17:15:04.915536Z",
     "shell.execute_reply": "2023-10-27T17:15:04.914726Z"
    },
    "papermill": {
     "duration": 1.3044,
     "end_time": "2023-10-27T17:15:04.917459",
     "exception": false,
     "start_time": "2023-10-27T17:15:03.613059",
     "status": "completed"
    },
    "tags": []
   },
   "outputs": [],
   "source": [
    "# lenlisrt[:10]"
   ]
  },
  {
   "cell_type": "code",
   "execution_count": 78,
   "id": "4859bde5",
   "metadata": {
    "execution": {
     "iopub.execute_input": "2023-10-27T17:15:07.512806Z",
     "iopub.status.busy": "2023-10-27T17:15:07.512464Z",
     "iopub.status.idle": "2023-10-27T17:15:07.518797Z",
     "shell.execute_reply": "2023-10-27T17:15:07.517867Z"
    },
    "papermill": {
     "duration": 1.253435,
     "end_time": "2023-10-27T17:15:07.520674",
     "exception": false,
     "start_time": "2023-10-27T17:15:06.267239",
     "status": "completed"
    },
    "tags": []
   },
   "outputs": [
    {
     "data": {
      "text/plain": [
       "'bɪʃeʃ ot̪ɪt̪ʰɪ epʰem ɪkbɐl bɪn ɐnoʷɐɾ (dɔn) ɛdɪʃonɐl dɐɪ̯ɾektɔɾgeʃʃo ɛnd spoɾts dɪpɐɾtoment oʷɐltɔn।'"
      ]
     },
     "execution_count": 78,
     "metadata": {},
     "output_type": "execute_result"
    }
   ],
   "source": [
    "sdf.fipa[0]"
   ]
  },
  {
   "cell_type": "code",
   "execution_count": 79,
   "id": "4a05e613",
   "metadata": {
    "execution": {
     "iopub.execute_input": "2023-10-27T17:15:10.140189Z",
     "iopub.status.busy": "2023-10-27T17:15:10.138986Z",
     "iopub.status.idle": "2023-10-27T17:15:10.145748Z",
     "shell.execute_reply": "2023-10-27T17:15:10.144780Z"
    },
    "papermill": {
     "duration": 1.323914,
     "end_time": "2023-10-27T17:15:10.148279",
     "exception": false,
     "start_time": "2023-10-27T17:15:08.824365",
     "status": "completed"
    },
    "tags": []
   },
   "outputs": [
    {
     "name": "stdout",
     "output_type": "stream",
     "text": [
      "Ipa = kɪnt̪u t̪ɐ meɾɐmɔt̪ kɔɾɐɾ ɟonno ɐmɾɐ kɐu̯ke pɐtʱɐɪ̯nɪ।\n"
     ]
    }
   ],
   "source": [
    "# See a random sample from the test set \n",
    "rand_index = np.random.randint(0, len(test_df))\n",
    "print(f'Ipa = {sdf.fipa[rand_index]}')"
   ]
  },
  {
   "cell_type": "code",
   "execution_count": null,
   "id": "2e836f96",
   "metadata": {
    "papermill": {
     "duration": 1.228467,
     "end_time": "2023-10-27T17:15:12.737465",
     "exception": false,
     "start_time": "2023-10-27T17:15:11.508998",
     "status": "completed"
    },
    "tags": []
   },
   "outputs": [],
   "source": []
  }
 ],
 "metadata": {
  "kernelspec": {
   "display_name": "Python 3",
   "language": "python",
   "name": "python3"
  },
  "language_info": {
   "codemirror_mode": {
    "name": "ipython",
    "version": 3
   },
   "file_extension": ".py",
   "mimetype": "text/x-python",
   "name": "python",
   "nbconvert_exporter": "python",
   "pygments_lexer": "ipython3",
   "version": "3.10.12"
  },
  "papermill": {
   "default_parameters": {},
   "duration": 5108.373238,
   "end_time": "2023-10-27T17:15:17.486268",
   "environment_variables": {},
   "exception": null,
   "input_path": "__notebook__.ipynb",
   "output_path": "__notebook__.ipynb",
   "parameters": {},
   "start_time": "2023-10-27T15:50:09.113030",
   "version": "2.4.0"
  },
  "widgets": {
   "application/vnd.jupyter.widget-state+json": {
    "state": {
     "029259ffd7a542cfa3c447a84d8f3aea": {
      "model_module": "@jupyter-widgets/controls",
      "model_module_version": "1.5.0",
      "model_name": "HTMLModel",
      "state": {
       "_dom_classes": [],
       "_model_module": "@jupyter-widgets/controls",
       "_model_module_version": "1.5.0",
       "_model_name": "HTMLModel",
       "_view_count": null,
       "_view_module": "@jupyter-widgets/controls",
       "_view_module_version": "1.5.0",
       "_view_name": "HTMLView",
       "description": "",
       "description_tooltip": null,
       "layout": "IPY_MODEL_6c6157999d9b464e90518144c846c6cf",
       "placeholder": "​",
       "style": "IPY_MODEL_283742a4a93749af9c66ac1650f329f3",
       "value": "Downloading (…)lve/main/config.json: 100%"
      }
     },
     "03eed00168a745da983d8feb135d1d86": {
      "model_module": "@jupyter-widgets/controls",
      "model_module_version": "1.5.0",
      "model_name": "HTMLModel",
      "state": {
       "_dom_classes": [],
       "_model_module": "@jupyter-widgets/controls",
       "_model_module_version": "1.5.0",
       "_model_name": "HTMLModel",
       "_view_count": null,
       "_view_module": "@jupyter-widgets/controls",
       "_view_module_version": "1.5.0",
       "_view_name": "HTMLView",
       "description": "",
       "description_tooltip": null,
       "layout": "IPY_MODEL_10a544dd49c344ec8e63a8521cd7fcf0",
       "placeholder": "​",
       "style": "IPY_MODEL_d9bac8faa8484f82b039a3f5bf11977a",
       "value": " 553/553 [00:00&lt;00:00, 50.2kB/s]"
      }
     },
     "098869acb6a64b638bdc1741b5dc794b": {
      "model_module": "@jupyter-widgets/base",
      "model_module_version": "1.2.0",
      "model_name": "LayoutModel",
      "state": {
       "_model_module": "@jupyter-widgets/base",
       "_model_module_version": "1.2.0",
       "_model_name": "LayoutModel",
       "_view_count": null,
       "_view_module": "@jupyter-widgets/base",
       "_view_module_version": "1.2.0",
       "_view_name": "LayoutView",
       "align_content": null,
       "align_items": null,
       "align_self": null,
       "border": null,
       "bottom": null,
       "display": null,
       "flex": null,
       "flex_flow": null,
       "grid_area": null,
       "grid_auto_columns": null,
       "grid_auto_flow": null,
       "grid_auto_rows": null,
       "grid_column": null,
       "grid_gap": null,
       "grid_row": null,
       "grid_template_areas": null,
       "grid_template_columns": null,
       "grid_template_rows": null,
       "height": null,
       "justify_content": null,
       "justify_items": null,
       "left": null,
       "margin": null,
       "max_height": null,
       "max_width": null,
       "min_height": null,
       "min_width": null,
       "object_fit": null,
       "object_position": null,
       "order": null,
       "overflow": null,
       "overflow_x": null,
       "overflow_y": null,
       "padding": null,
       "right": null,
       "top": null,
       "visibility": null,
       "width": null
      }
     },
     "10100bc0f3e848c6b22bd21f13b75995": {
      "model_module": "@jupyter-widgets/controls",
      "model_module_version": "1.5.0",
      "model_name": "ProgressStyleModel",
      "state": {
       "_model_module": "@jupyter-widgets/controls",
       "_model_module_version": "1.5.0",
       "_model_name": "ProgressStyleModel",
       "_view_count": null,
       "_view_module": "@jupyter-widgets/base",
       "_view_module_version": "1.2.0",
       "_view_name": "StyleView",
       "bar_color": null,
       "description_width": ""
      }
     },
     "10a544dd49c344ec8e63a8521cd7fcf0": {
      "model_module": "@jupyter-widgets/base",
      "model_module_version": "1.2.0",
      "model_name": "LayoutModel",
      "state": {
       "_model_module": "@jupyter-widgets/base",
       "_model_module_version": "1.2.0",
       "_model_name": "LayoutModel",
       "_view_count": null,
       "_view_module": "@jupyter-widgets/base",
       "_view_module_version": "1.2.0",
       "_view_name": "LayoutView",
       "align_content": null,
       "align_items": null,
       "align_self": null,
       "border": null,
       "bottom": null,
       "display": null,
       "flex": null,
       "flex_flow": null,
       "grid_area": null,
       "grid_auto_columns": null,
       "grid_auto_flow": null,
       "grid_auto_rows": null,
       "grid_column": null,
       "grid_gap": null,
       "grid_row": null,
       "grid_template_areas": null,
       "grid_template_columns": null,
       "grid_template_rows": null,
       "height": null,
       "justify_content": null,
       "justify_items": null,
       "left": null,
       "margin": null,
       "max_height": null,
       "max_width": null,
       "min_height": null,
       "min_width": null,
       "object_fit": null,
       "object_position": null,
       "order": null,
       "overflow": null,
       "overflow_x": null,
       "overflow_y": null,
       "padding": null,
       "right": null,
       "top": null,
       "visibility": null,
       "width": null
      }
     },
     "116a26ee1bba4707af7c2ab71a06af9d": {
      "model_module": "@jupyter-widgets/controls",
      "model_module_version": "1.5.0",
      "model_name": "HTMLModel",
      "state": {
       "_dom_classes": [],
       "_model_module": "@jupyter-widgets/controls",
       "_model_module_version": "1.5.0",
       "_model_name": "HTMLModel",
       "_view_count": null,
       "_view_module": "@jupyter-widgets/controls",
       "_view_module_version": "1.5.0",
       "_view_name": "HTMLView",
       "description": "",
       "description_tooltip": null,
       "layout": "IPY_MODEL_098869acb6a64b638bdc1741b5dc794b",
       "placeholder": "​",
       "style": "IPY_MODEL_8bd7dcf02cb94c288e611cad4a0dcb0b",
       "value": " 4.31M/4.31M [00:00&lt;00:00, 33.2MB/s]"
      }
     },
     "14275882aae84f28b3522358c6cd01a6": {
      "model_module": "@jupyter-widgets/base",
      "model_module_version": "1.2.0",
      "model_name": "LayoutModel",
      "state": {
       "_model_module": "@jupyter-widgets/base",
       "_model_module_version": "1.2.0",
       "_model_name": "LayoutModel",
       "_view_count": null,
       "_view_module": "@jupyter-widgets/base",
       "_view_module_version": "1.2.0",
       "_view_name": "LayoutView",
       "align_content": null,
       "align_items": null,
       "align_self": null,
       "border": null,
       "bottom": null,
       "display": null,
       "flex": null,
       "flex_flow": null,
       "grid_area": null,
       "grid_auto_columns": null,
       "grid_auto_flow": null,
       "grid_auto_rows": null,
       "grid_column": null,
       "grid_gap": null,
       "grid_row": null,
       "grid_template_areas": null,
       "grid_template_columns": null,
       "grid_template_rows": null,
       "height": null,
       "justify_content": null,
       "justify_items": null,
       "left": null,
       "margin": null,
       "max_height": null,
       "max_width": null,
       "min_height": null,
       "min_width": null,
       "object_fit": null,
       "object_position": null,
       "order": null,
       "overflow": null,
       "overflow_x": null,
       "overflow_y": null,
       "padding": null,
       "right": null,
       "top": null,
       "visibility": null,
       "width": null
      }
     },
     "1be0de2a4a884a6ebacef195a3c588fc": {
      "model_module": "@jupyter-widgets/controls",
      "model_module_version": "1.5.0",
      "model_name": "FloatProgressModel",
      "state": {
       "_dom_classes": [],
       "_model_module": "@jupyter-widgets/controls",
       "_model_module_version": "1.5.0",
       "_model_name": "FloatProgressModel",
       "_view_count": null,
       "_view_module": "@jupyter-widgets/controls",
       "_view_module_version": "1.5.0",
       "_view_name": "ProgressView",
       "bar_style": "success",
       "description": "",
       "description_tooltip": null,
       "layout": "IPY_MODEL_8f1428ed223c4abdae1484c61678b284",
       "max": 82.0,
       "min": 0.0,
       "orientation": "horizontal",
       "style": "IPY_MODEL_10100bc0f3e848c6b22bd21f13b75995",
       "value": 82.0
      }
     },
     "1e867c5f6095408e8fd78dc9a9ed324d": {
      "model_module": "@jupyter-widgets/base",
      "model_module_version": "1.2.0",
      "model_name": "LayoutModel",
      "state": {
       "_model_module": "@jupyter-widgets/base",
       "_model_module_version": "1.2.0",
       "_model_name": "LayoutModel",
       "_view_count": null,
       "_view_module": "@jupyter-widgets/base",
       "_view_module_version": "1.2.0",
       "_view_name": "LayoutView",
       "align_content": null,
       "align_items": null,
       "align_self": null,
       "border": null,
       "bottom": null,
       "display": null,
       "flex": null,
       "flex_flow": null,
       "grid_area": null,
       "grid_auto_columns": null,
       "grid_auto_flow": null,
       "grid_auto_rows": null,
       "grid_column": null,
       "grid_gap": null,
       "grid_row": null,
       "grid_template_areas": null,
       "grid_template_columns": null,
       "grid_template_rows": null,
       "height": null,
       "justify_content": null,
       "justify_items": null,
       "left": null,
       "margin": null,
       "max_height": null,
       "max_width": null,
       "min_height": null,
       "min_width": null,
       "object_fit": null,
       "object_position": null,
       "order": null,
       "overflow": null,
       "overflow_x": null,
       "overflow_y": null,
       "padding": null,
       "right": null,
       "top": null,
       "visibility": null,
       "width": null
      }
     },
     "27e54dc58e15483c99881ca587619a9e": {
      "model_module": "@jupyter-widgets/controls",
      "model_module_version": "1.5.0",
      "model_name": "HTMLModel",
      "state": {
       "_dom_classes": [],
       "_model_module": "@jupyter-widgets/controls",
       "_model_module_version": "1.5.0",
       "_model_name": "HTMLModel",
       "_view_count": null,
       "_view_module": "@jupyter-widgets/controls",
       "_view_module_version": "1.5.0",
       "_view_name": "HTMLView",
       "description": "",
       "description_tooltip": null,
       "layout": "IPY_MODEL_14275882aae84f28b3522358c6cd01a6",
       "placeholder": "​",
       "style": "IPY_MODEL_a8fa443c06b94fccb4aacc504ad1dd48",
       "value": " 99.0/99.0 [00:00&lt;00:00, 8.79kB/s]"
      }
     },
     "283742a4a93749af9c66ac1650f329f3": {
      "model_module": "@jupyter-widgets/controls",
      "model_module_version": "1.5.0",
      "model_name": "DescriptionStyleModel",
      "state": {
       "_model_module": "@jupyter-widgets/controls",
       "_model_module_version": "1.5.0",
       "_model_name": "DescriptionStyleModel",
       "_view_count": null,
       "_view_module": "@jupyter-widgets/base",
       "_view_module_version": "1.2.0",
       "_view_name": "StyleView",
       "description_width": ""
      }
     },
     "32ab58de8eb245288470f3a387646da4": {
      "model_module": "@jupyter-widgets/controls",
      "model_module_version": "1.5.0",
      "model_name": "FloatProgressModel",
      "state": {
       "_dom_classes": [],
       "_model_module": "@jupyter-widgets/controls",
       "_model_module_version": "1.5.0",
       "_model_name": "FloatProgressModel",
       "_view_count": null,
       "_view_module": "@jupyter-widgets/controls",
       "_view_module_version": "1.5.0",
       "_view_name": "ProgressView",
       "bar_style": "success",
       "description": "",
       "description_tooltip": null,
       "layout": "IPY_MODEL_543db14a1854419e9a8b62f1af351f32",
       "max": 4309802.0,
       "min": 0.0,
       "orientation": "horizontal",
       "style": "IPY_MODEL_3bfc03db4fc94181b2666360385a4c61",
       "value": 4309802.0
      }
     },
     "3bfc03db4fc94181b2666360385a4c61": {
      "model_module": "@jupyter-widgets/controls",
      "model_module_version": "1.5.0",
      "model_name": "ProgressStyleModel",
      "state": {
       "_model_module": "@jupyter-widgets/controls",
       "_model_module_version": "1.5.0",
       "_model_name": "ProgressStyleModel",
       "_view_count": null,
       "_view_module": "@jupyter-widgets/base",
       "_view_module_version": "1.2.0",
       "_view_name": "StyleView",
       "bar_color": null,
       "description_width": ""
      }
     },
     "3edfc4b5d666450fb3b013ca8d8f56af": {
      "model_module": "@jupyter-widgets/controls",
      "model_module_version": "1.5.0",
      "model_name": "ProgressStyleModel",
      "state": {
       "_model_module": "@jupyter-widgets/controls",
       "_model_module_version": "1.5.0",
       "_model_name": "ProgressStyleModel",
       "_view_count": null,
       "_view_module": "@jupyter-widgets/base",
       "_view_module_version": "1.2.0",
       "_view_name": "StyleView",
       "bar_color": null,
       "description_width": ""
      }
     },
     "4192d6443df4489db72c28981edda448": {
      "model_module": "@jupyter-widgets/controls",
      "model_module_version": "1.5.0",
      "model_name": "FloatProgressModel",
      "state": {
       "_dom_classes": [],
       "_model_module": "@jupyter-widgets/controls",
       "_model_module_version": "1.5.0",
       "_model_name": "FloatProgressModel",
       "_view_count": null,
       "_view_module": "@jupyter-widgets/controls",
       "_view_module_version": "1.5.0",
       "_view_name": "ProgressView",
       "bar_style": "success",
       "description": "",
       "description_tooltip": null,
       "layout": "IPY_MODEL_da5cb0bc735d42c49c21507aa275b17f",
       "max": 99.0,
       "min": 0.0,
       "orientation": "horizontal",
       "style": "IPY_MODEL_3edfc4b5d666450fb3b013ca8d8f56af",
       "value": 99.0
      }
     },
     "4979d7ff42bc43489a67cb15e26452eb": {
      "model_module": "@jupyter-widgets/controls",
      "model_module_version": "1.5.0",
      "model_name": "HTMLModel",
      "state": {
       "_dom_classes": [],
       "_model_module": "@jupyter-widgets/controls",
       "_model_module_version": "1.5.0",
       "_model_name": "HTMLModel",
       "_view_count": null,
       "_view_module": "@jupyter-widgets/controls",
       "_view_module_version": "1.5.0",
       "_view_name": "HTMLView",
       "description": "",
       "description_tooltip": null,
       "layout": "IPY_MODEL_ea9ad6aad56343a48ae9f0c5a879d0fc",
       "placeholder": "​",
       "style": "IPY_MODEL_912fd3e01837411887e252cdaf07d507",
       "value": "Downloading (…)ve/main/spiece.model: 100%"
      }
     },
     "543db14a1854419e9a8b62f1af351f32": {
      "model_module": "@jupyter-widgets/base",
      "model_module_version": "1.2.0",
      "model_name": "LayoutModel",
      "state": {
       "_model_module": "@jupyter-widgets/base",
       "_model_module_version": "1.2.0",
       "_model_name": "LayoutModel",
       "_view_count": null,
       "_view_module": "@jupyter-widgets/base",
       "_view_module_version": "1.2.0",
       "_view_name": "LayoutView",
       "align_content": null,
       "align_items": null,
       "align_self": null,
       "border": null,
       "bottom": null,
       "display": null,
       "flex": null,
       "flex_flow": null,
       "grid_area": null,
       "grid_auto_columns": null,
       "grid_auto_flow": null,
       "grid_auto_rows": null,
       "grid_column": null,
       "grid_gap": null,
       "grid_row": null,
       "grid_template_areas": null,
       "grid_template_columns": null,
       "grid_template_rows": null,
       "height": null,
       "justify_content": null,
       "justify_items": null,
       "left": null,
       "margin": null,
       "max_height": null,
       "max_width": null,
       "min_height": null,
       "min_width": null,
       "object_fit": null,
       "object_position": null,
       "order": null,
       "overflow": null,
       "overflow_x": null,
       "overflow_y": null,
       "padding": null,
       "right": null,
       "top": null,
       "visibility": null,
       "width": null
      }
     },
     "61cd3ae2a5424dacb4ffafff99387f50": {
      "model_module": "@jupyter-widgets/base",
      "model_module_version": "1.2.0",
      "model_name": "LayoutModel",
      "state": {
       "_model_module": "@jupyter-widgets/base",
       "_model_module_version": "1.2.0",
       "_model_name": "LayoutModel",
       "_view_count": null,
       "_view_module": "@jupyter-widgets/base",
       "_view_module_version": "1.2.0",
       "_view_name": "LayoutView",
       "align_content": null,
       "align_items": null,
       "align_self": null,
       "border": null,
       "bottom": null,
       "display": null,
       "flex": null,
       "flex_flow": null,
       "grid_area": null,
       "grid_auto_columns": null,
       "grid_auto_flow": null,
       "grid_auto_rows": null,
       "grid_column": null,
       "grid_gap": null,
       "grid_row": null,
       "grid_template_areas": null,
       "grid_template_columns": null,
       "grid_template_rows": null,
       "height": null,
       "justify_content": null,
       "justify_items": null,
       "left": null,
       "margin": null,
       "max_height": null,
       "max_width": null,
       "min_height": null,
       "min_width": null,
       "object_fit": null,
       "object_position": null,
       "order": null,
       "overflow": null,
       "overflow_x": null,
       "overflow_y": null,
       "padding": null,
       "right": null,
       "top": null,
       "visibility": null,
       "width": null
      }
     },
     "6c6157999d9b464e90518144c846c6cf": {
      "model_module": "@jupyter-widgets/base",
      "model_module_version": "1.2.0",
      "model_name": "LayoutModel",
      "state": {
       "_model_module": "@jupyter-widgets/base",
       "_model_module_version": "1.2.0",
       "_model_name": "LayoutModel",
       "_view_count": null,
       "_view_module": "@jupyter-widgets/base",
       "_view_module_version": "1.2.0",
       "_view_name": "LayoutView",
       "align_content": null,
       "align_items": null,
       "align_self": null,
       "border": null,
       "bottom": null,
       "display": null,
       "flex": null,
       "flex_flow": null,
       "grid_area": null,
       "grid_auto_columns": null,
       "grid_auto_flow": null,
       "grid_auto_rows": null,
       "grid_column": null,
       "grid_gap": null,
       "grid_row": null,
       "grid_template_areas": null,
       "grid_template_columns": null,
       "grid_template_rows": null,
       "height": null,
       "justify_content": null,
       "justify_items": null,
       "left": null,
       "margin": null,
       "max_height": null,
       "max_width": null,
       "min_height": null,
       "min_width": null,
       "object_fit": null,
       "object_position": null,
       "order": null,
       "overflow": null,
       "overflow_x": null,
       "overflow_y": null,
       "padding": null,
       "right": null,
       "top": null,
       "visibility": null,
       "width": null
      }
     },
     "6db54121e62446c882172913a8b7f373": {
      "model_module": "@jupyter-widgets/controls",
      "model_module_version": "1.5.0",
      "model_name": "HBoxModel",
      "state": {
       "_dom_classes": [],
       "_model_module": "@jupyter-widgets/controls",
       "_model_module_version": "1.5.0",
       "_model_name": "HBoxModel",
       "_view_count": null,
       "_view_module": "@jupyter-widgets/controls",
       "_view_module_version": "1.5.0",
       "_view_name": "HBoxView",
       "box_style": "",
       "children": [
        "IPY_MODEL_6e70ffefa06e48f4be8011e1019934d7",
        "IPY_MODEL_1be0de2a4a884a6ebacef195a3c588fc",
        "IPY_MODEL_b557a4b84cf941c0af77806ac210db6d"
       ],
       "layout": "IPY_MODEL_61cd3ae2a5424dacb4ffafff99387f50"
      }
     },
     "6e70ffefa06e48f4be8011e1019934d7": {
      "model_module": "@jupyter-widgets/controls",
      "model_module_version": "1.5.0",
      "model_name": "HTMLModel",
      "state": {
       "_dom_classes": [],
       "_model_module": "@jupyter-widgets/controls",
       "_model_module_version": "1.5.0",
       "_model_name": "HTMLModel",
       "_view_count": null,
       "_view_module": "@jupyter-widgets/controls",
       "_view_module_version": "1.5.0",
       "_view_name": "HTMLView",
       "description": "",
       "description_tooltip": null,
       "layout": "IPY_MODEL_a170837422df453b900ea0cc7f996eba",
       "placeholder": "​",
       "style": "IPY_MODEL_d83478fbe329441ca9336adf00f35739",
       "value": "Downloading (…)okenizer_config.json: 100%"
      }
     },
     "7719b86044c7417cb581f3c7cb6ae114": {
      "model_module": "@jupyter-widgets/controls",
      "model_module_version": "1.5.0",
      "model_name": "ProgressStyleModel",
      "state": {
       "_model_module": "@jupyter-widgets/controls",
       "_model_module_version": "1.5.0",
       "_model_name": "ProgressStyleModel",
       "_view_count": null,
       "_view_module": "@jupyter-widgets/base",
       "_view_module_version": "1.2.0",
       "_view_name": "StyleView",
       "bar_color": null,
       "description_width": ""
      }
     },
     "7ce1c942b99544448283e72b57b404ff": {
      "model_module": "@jupyter-widgets/controls",
      "model_module_version": "1.5.0",
      "model_name": "HTMLModel",
      "state": {
       "_dom_classes": [],
       "_model_module": "@jupyter-widgets/controls",
       "_model_module_version": "1.5.0",
       "_model_name": "HTMLModel",
       "_view_count": null,
       "_view_module": "@jupyter-widgets/controls",
       "_view_module_version": "1.5.0",
       "_view_name": "HTMLView",
       "description": "",
       "description_tooltip": null,
       "layout": "IPY_MODEL_1e867c5f6095408e8fd78dc9a9ed324d",
       "placeholder": "​",
       "style": "IPY_MODEL_882e2052698d47d78dedf416f96b67d2",
       "value": "Downloading (…)cial_tokens_map.json: 100%"
      }
     },
     "82cde7eb968f40d789dcc0785733fed0": {
      "model_module": "@jupyter-widgets/controls",
      "model_module_version": "1.5.0",
      "model_name": "DescriptionStyleModel",
      "state": {
       "_model_module": "@jupyter-widgets/controls",
       "_model_module_version": "1.5.0",
       "_model_name": "DescriptionStyleModel",
       "_view_count": null,
       "_view_module": "@jupyter-widgets/base",
       "_view_module_version": "1.2.0",
       "_view_name": "StyleView",
       "description_width": ""
      }
     },
     "882e2052698d47d78dedf416f96b67d2": {
      "model_module": "@jupyter-widgets/controls",
      "model_module_version": "1.5.0",
      "model_name": "DescriptionStyleModel",
      "state": {
       "_model_module": "@jupyter-widgets/controls",
       "_model_module_version": "1.5.0",
       "_model_name": "DescriptionStyleModel",
       "_view_count": null,
       "_view_module": "@jupyter-widgets/base",
       "_view_module_version": "1.2.0",
       "_view_name": "StyleView",
       "description_width": ""
      }
     },
     "8bd7dcf02cb94c288e611cad4a0dcb0b": {
      "model_module": "@jupyter-widgets/controls",
      "model_module_version": "1.5.0",
      "model_name": "DescriptionStyleModel",
      "state": {
       "_model_module": "@jupyter-widgets/controls",
       "_model_module_version": "1.5.0",
       "_model_name": "DescriptionStyleModel",
       "_view_count": null,
       "_view_module": "@jupyter-widgets/base",
       "_view_module_version": "1.2.0",
       "_view_name": "StyleView",
       "description_width": ""
      }
     },
     "8cec221aa5c24ec8afa3f903ad92c4dd": {
      "model_module": "@jupyter-widgets/base",
      "model_module_version": "1.2.0",
      "model_name": "LayoutModel",
      "state": {
       "_model_module": "@jupyter-widgets/base",
       "_model_module_version": "1.2.0",
       "_model_name": "LayoutModel",
       "_view_count": null,
       "_view_module": "@jupyter-widgets/base",
       "_view_module_version": "1.2.0",
       "_view_name": "LayoutView",
       "align_content": null,
       "align_items": null,
       "align_self": null,
       "border": null,
       "bottom": null,
       "display": null,
       "flex": null,
       "flex_flow": null,
       "grid_area": null,
       "grid_auto_columns": null,
       "grid_auto_flow": null,
       "grid_auto_rows": null,
       "grid_column": null,
       "grid_gap": null,
       "grid_row": null,
       "grid_template_areas": null,
       "grid_template_columns": null,
       "grid_template_rows": null,
       "height": null,
       "justify_content": null,
       "justify_items": null,
       "left": null,
       "margin": null,
       "max_height": null,
       "max_width": null,
       "min_height": null,
       "min_width": null,
       "object_fit": null,
       "object_position": null,
       "order": null,
       "overflow": null,
       "overflow_x": null,
       "overflow_y": null,
       "padding": null,
       "right": null,
       "top": null,
       "visibility": null,
       "width": null
      }
     },
     "8f1428ed223c4abdae1484c61678b284": {
      "model_module": "@jupyter-widgets/base",
      "model_module_version": "1.2.0",
      "model_name": "LayoutModel",
      "state": {
       "_model_module": "@jupyter-widgets/base",
       "_model_module_version": "1.2.0",
       "_model_name": "LayoutModel",
       "_view_count": null,
       "_view_module": "@jupyter-widgets/base",
       "_view_module_version": "1.2.0",
       "_view_name": "LayoutView",
       "align_content": null,
       "align_items": null,
       "align_self": null,
       "border": null,
       "bottom": null,
       "display": null,
       "flex": null,
       "flex_flow": null,
       "grid_area": null,
       "grid_auto_columns": null,
       "grid_auto_flow": null,
       "grid_auto_rows": null,
       "grid_column": null,
       "grid_gap": null,
       "grid_row": null,
       "grid_template_areas": null,
       "grid_template_columns": null,
       "grid_template_rows": null,
       "height": null,
       "justify_content": null,
       "justify_items": null,
       "left": null,
       "margin": null,
       "max_height": null,
       "max_width": null,
       "min_height": null,
       "min_width": null,
       "object_fit": null,
       "object_position": null,
       "order": null,
       "overflow": null,
       "overflow_x": null,
       "overflow_y": null,
       "padding": null,
       "right": null,
       "top": null,
       "visibility": null,
       "width": null
      }
     },
     "912fd3e01837411887e252cdaf07d507": {
      "model_module": "@jupyter-widgets/controls",
      "model_module_version": "1.5.0",
      "model_name": "DescriptionStyleModel",
      "state": {
       "_model_module": "@jupyter-widgets/controls",
       "_model_module_version": "1.5.0",
       "_model_name": "DescriptionStyleModel",
       "_view_count": null,
       "_view_module": "@jupyter-widgets/base",
       "_view_module_version": "1.2.0",
       "_view_name": "StyleView",
       "description_width": ""
      }
     },
     "a0e57bb89fc34aa0b76dcababc1342c1": {
      "model_module": "@jupyter-widgets/base",
      "model_module_version": "1.2.0",
      "model_name": "LayoutModel",
      "state": {
       "_model_module": "@jupyter-widgets/base",
       "_model_module_version": "1.2.0",
       "_model_name": "LayoutModel",
       "_view_count": null,
       "_view_module": "@jupyter-widgets/base",
       "_view_module_version": "1.2.0",
       "_view_name": "LayoutView",
       "align_content": null,
       "align_items": null,
       "align_self": null,
       "border": null,
       "bottom": null,
       "display": null,
       "flex": null,
       "flex_flow": null,
       "grid_area": null,
       "grid_auto_columns": null,
       "grid_auto_flow": null,
       "grid_auto_rows": null,
       "grid_column": null,
       "grid_gap": null,
       "grid_row": null,
       "grid_template_areas": null,
       "grid_template_columns": null,
       "grid_template_rows": null,
       "height": null,
       "justify_content": null,
       "justify_items": null,
       "left": null,
       "margin": null,
       "max_height": null,
       "max_width": null,
       "min_height": null,
       "min_width": null,
       "object_fit": null,
       "object_position": null,
       "order": null,
       "overflow": null,
       "overflow_x": null,
       "overflow_y": null,
       "padding": null,
       "right": null,
       "top": null,
       "visibility": null,
       "width": null
      }
     },
     "a170837422df453b900ea0cc7f996eba": {
      "model_module": "@jupyter-widgets/base",
      "model_module_version": "1.2.0",
      "model_name": "LayoutModel",
      "state": {
       "_model_module": "@jupyter-widgets/base",
       "_model_module_version": "1.2.0",
       "_model_name": "LayoutModel",
       "_view_count": null,
       "_view_module": "@jupyter-widgets/base",
       "_view_module_version": "1.2.0",
       "_view_name": "LayoutView",
       "align_content": null,
       "align_items": null,
       "align_self": null,
       "border": null,
       "bottom": null,
       "display": null,
       "flex": null,
       "flex_flow": null,
       "grid_area": null,
       "grid_auto_columns": null,
       "grid_auto_flow": null,
       "grid_auto_rows": null,
       "grid_column": null,
       "grid_gap": null,
       "grid_row": null,
       "grid_template_areas": null,
       "grid_template_columns": null,
       "grid_template_rows": null,
       "height": null,
       "justify_content": null,
       "justify_items": null,
       "left": null,
       "margin": null,
       "max_height": null,
       "max_width": null,
       "min_height": null,
       "min_width": null,
       "object_fit": null,
       "object_position": null,
       "order": null,
       "overflow": null,
       "overflow_x": null,
       "overflow_y": null,
       "padding": null,
       "right": null,
       "top": null,
       "visibility": null,
       "width": null
      }
     },
     "a204f29f52ac4b169d70a15f3f542dd1": {
      "model_module": "@jupyter-widgets/base",
      "model_module_version": "1.2.0",
      "model_name": "LayoutModel",
      "state": {
       "_model_module": "@jupyter-widgets/base",
       "_model_module_version": "1.2.0",
       "_model_name": "LayoutModel",
       "_view_count": null,
       "_view_module": "@jupyter-widgets/base",
       "_view_module_version": "1.2.0",
       "_view_name": "LayoutView",
       "align_content": null,
       "align_items": null,
       "align_self": null,
       "border": null,
       "bottom": null,
       "display": null,
       "flex": null,
       "flex_flow": null,
       "grid_area": null,
       "grid_auto_columns": null,
       "grid_auto_flow": null,
       "grid_auto_rows": null,
       "grid_column": null,
       "grid_gap": null,
       "grid_row": null,
       "grid_template_areas": null,
       "grid_template_columns": null,
       "grid_template_rows": null,
       "height": null,
       "justify_content": null,
       "justify_items": null,
       "left": null,
       "margin": null,
       "max_height": null,
       "max_width": null,
       "min_height": null,
       "min_width": null,
       "object_fit": null,
       "object_position": null,
       "order": null,
       "overflow": null,
       "overflow_x": null,
       "overflow_y": null,
       "padding": null,
       "right": null,
       "top": null,
       "visibility": null,
       "width": null
      }
     },
     "a869b45dfbc1405cbcdffad5d25fbd74": {
      "model_module": "@jupyter-widgets/base",
      "model_module_version": "1.2.0",
      "model_name": "LayoutModel",
      "state": {
       "_model_module": "@jupyter-widgets/base",
       "_model_module_version": "1.2.0",
       "_model_name": "LayoutModel",
       "_view_count": null,
       "_view_module": "@jupyter-widgets/base",
       "_view_module_version": "1.2.0",
       "_view_name": "LayoutView",
       "align_content": null,
       "align_items": null,
       "align_self": null,
       "border": null,
       "bottom": null,
       "display": null,
       "flex": null,
       "flex_flow": null,
       "grid_area": null,
       "grid_auto_columns": null,
       "grid_auto_flow": null,
       "grid_auto_rows": null,
       "grid_column": null,
       "grid_gap": null,
       "grid_row": null,
       "grid_template_areas": null,
       "grid_template_columns": null,
       "grid_template_rows": null,
       "height": null,
       "justify_content": null,
       "justify_items": null,
       "left": null,
       "margin": null,
       "max_height": null,
       "max_width": null,
       "min_height": null,
       "min_width": null,
       "object_fit": null,
       "object_position": null,
       "order": null,
       "overflow": null,
       "overflow_x": null,
       "overflow_y": null,
       "padding": null,
       "right": null,
       "top": null,
       "visibility": null,
       "width": null
      }
     },
     "a8fa443c06b94fccb4aacc504ad1dd48": {
      "model_module": "@jupyter-widgets/controls",
      "model_module_version": "1.5.0",
      "model_name": "DescriptionStyleModel",
      "state": {
       "_model_module": "@jupyter-widgets/controls",
       "_model_module_version": "1.5.0",
       "_model_name": "DescriptionStyleModel",
       "_view_count": null,
       "_view_module": "@jupyter-widgets/base",
       "_view_module_version": "1.2.0",
       "_view_name": "StyleView",
       "description_width": ""
      }
     },
     "b0a2c76cc027424f9392579576003c6f": {
      "model_module": "@jupyter-widgets/controls",
      "model_module_version": "1.5.0",
      "model_name": "HBoxModel",
      "state": {
       "_dom_classes": [],
       "_model_module": "@jupyter-widgets/controls",
       "_model_module_version": "1.5.0",
       "_model_name": "HBoxModel",
       "_view_count": null,
       "_view_module": "@jupyter-widgets/controls",
       "_view_module_version": "1.5.0",
       "_view_name": "HBoxView",
       "box_style": "",
       "children": [
        "IPY_MODEL_4979d7ff42bc43489a67cb15e26452eb",
        "IPY_MODEL_32ab58de8eb245288470f3a387646da4",
        "IPY_MODEL_116a26ee1bba4707af7c2ab71a06af9d"
       ],
       "layout": "IPY_MODEL_a869b45dfbc1405cbcdffad5d25fbd74"
      }
     },
     "b557a4b84cf941c0af77806ac210db6d": {
      "model_module": "@jupyter-widgets/controls",
      "model_module_version": "1.5.0",
      "model_name": "HTMLModel",
      "state": {
       "_dom_classes": [],
       "_model_module": "@jupyter-widgets/controls",
       "_model_module_version": "1.5.0",
       "_model_name": "HTMLModel",
       "_view_count": null,
       "_view_module": "@jupyter-widgets/controls",
       "_view_module_version": "1.5.0",
       "_view_name": "HTMLView",
       "description": "",
       "description_tooltip": null,
       "layout": "IPY_MODEL_a204f29f52ac4b169d70a15f3f542dd1",
       "placeholder": "​",
       "style": "IPY_MODEL_82cde7eb968f40d789dcc0785733fed0",
       "value": " 82.0/82.0 [00:00&lt;00:00, 6.79kB/s]"
      }
     },
     "cdc011cba5654a05bc9261d9059b7b80": {
      "model_module": "@jupyter-widgets/controls",
      "model_module_version": "1.5.0",
      "model_name": "FloatProgressModel",
      "state": {
       "_dom_classes": [],
       "_model_module": "@jupyter-widgets/controls",
       "_model_module_version": "1.5.0",
       "_model_name": "FloatProgressModel",
       "_view_count": null,
       "_view_module": "@jupyter-widgets/controls",
       "_view_module_version": "1.5.0",
       "_view_name": "ProgressView",
       "bar_style": "success",
       "description": "",
       "description_tooltip": null,
       "layout": "IPY_MODEL_deedd14095e94697a4adc1094966f20f",
       "max": 553.0,
       "min": 0.0,
       "orientation": "horizontal",
       "style": "IPY_MODEL_7719b86044c7417cb581f3c7cb6ae114",
       "value": 553.0
      }
     },
     "d83478fbe329441ca9336adf00f35739": {
      "model_module": "@jupyter-widgets/controls",
      "model_module_version": "1.5.0",
      "model_name": "DescriptionStyleModel",
      "state": {
       "_model_module": "@jupyter-widgets/controls",
       "_model_module_version": "1.5.0",
       "_model_name": "DescriptionStyleModel",
       "_view_count": null,
       "_view_module": "@jupyter-widgets/base",
       "_view_module_version": "1.2.0",
       "_view_name": "StyleView",
       "description_width": ""
      }
     },
     "d9bac8faa8484f82b039a3f5bf11977a": {
      "model_module": "@jupyter-widgets/controls",
      "model_module_version": "1.5.0",
      "model_name": "DescriptionStyleModel",
      "state": {
       "_model_module": "@jupyter-widgets/controls",
       "_model_module_version": "1.5.0",
       "_model_name": "DescriptionStyleModel",
       "_view_count": null,
       "_view_module": "@jupyter-widgets/base",
       "_view_module_version": "1.2.0",
       "_view_name": "StyleView",
       "description_width": ""
      }
     },
     "da5cb0bc735d42c49c21507aa275b17f": {
      "model_module": "@jupyter-widgets/base",
      "model_module_version": "1.2.0",
      "model_name": "LayoutModel",
      "state": {
       "_model_module": "@jupyter-widgets/base",
       "_model_module_version": "1.2.0",
       "_model_name": "LayoutModel",
       "_view_count": null,
       "_view_module": "@jupyter-widgets/base",
       "_view_module_version": "1.2.0",
       "_view_name": "LayoutView",
       "align_content": null,
       "align_items": null,
       "align_self": null,
       "border": null,
       "bottom": null,
       "display": null,
       "flex": null,
       "flex_flow": null,
       "grid_area": null,
       "grid_auto_columns": null,
       "grid_auto_flow": null,
       "grid_auto_rows": null,
       "grid_column": null,
       "grid_gap": null,
       "grid_row": null,
       "grid_template_areas": null,
       "grid_template_columns": null,
       "grid_template_rows": null,
       "height": null,
       "justify_content": null,
       "justify_items": null,
       "left": null,
       "margin": null,
       "max_height": null,
       "max_width": null,
       "min_height": null,
       "min_width": null,
       "object_fit": null,
       "object_position": null,
       "order": null,
       "overflow": null,
       "overflow_x": null,
       "overflow_y": null,
       "padding": null,
       "right": null,
       "top": null,
       "visibility": null,
       "width": null
      }
     },
     "deedd14095e94697a4adc1094966f20f": {
      "model_module": "@jupyter-widgets/base",
      "model_module_version": "1.2.0",
      "model_name": "LayoutModel",
      "state": {
       "_model_module": "@jupyter-widgets/base",
       "_model_module_version": "1.2.0",
       "_model_name": "LayoutModel",
       "_view_count": null,
       "_view_module": "@jupyter-widgets/base",
       "_view_module_version": "1.2.0",
       "_view_name": "LayoutView",
       "align_content": null,
       "align_items": null,
       "align_self": null,
       "border": null,
       "bottom": null,
       "display": null,
       "flex": null,
       "flex_flow": null,
       "grid_area": null,
       "grid_auto_columns": null,
       "grid_auto_flow": null,
       "grid_auto_rows": null,
       "grid_column": null,
       "grid_gap": null,
       "grid_row": null,
       "grid_template_areas": null,
       "grid_template_columns": null,
       "grid_template_rows": null,
       "height": null,
       "justify_content": null,
       "justify_items": null,
       "left": null,
       "margin": null,
       "max_height": null,
       "max_width": null,
       "min_height": null,
       "min_width": null,
       "object_fit": null,
       "object_position": null,
       "order": null,
       "overflow": null,
       "overflow_x": null,
       "overflow_y": null,
       "padding": null,
       "right": null,
       "top": null,
       "visibility": null,
       "width": null
      }
     },
     "e61b42ac76c9429990e483ebd120a78c": {
      "model_module": "@jupyter-widgets/controls",
      "model_module_version": "1.5.0",
      "model_name": "HBoxModel",
      "state": {
       "_dom_classes": [],
       "_model_module": "@jupyter-widgets/controls",
       "_model_module_version": "1.5.0",
       "_model_name": "HBoxModel",
       "_view_count": null,
       "_view_module": "@jupyter-widgets/controls",
       "_view_module_version": "1.5.0",
       "_view_name": "HBoxView",
       "box_style": "",
       "children": [
        "IPY_MODEL_7ce1c942b99544448283e72b57b404ff",
        "IPY_MODEL_4192d6443df4489db72c28981edda448",
        "IPY_MODEL_27e54dc58e15483c99881ca587619a9e"
       ],
       "layout": "IPY_MODEL_8cec221aa5c24ec8afa3f903ad92c4dd"
      }
     },
     "ea9ad6aad56343a48ae9f0c5a879d0fc": {
      "model_module": "@jupyter-widgets/base",
      "model_module_version": "1.2.0",
      "model_name": "LayoutModel",
      "state": {
       "_model_module": "@jupyter-widgets/base",
       "_model_module_version": "1.2.0",
       "_model_name": "LayoutModel",
       "_view_count": null,
       "_view_module": "@jupyter-widgets/base",
       "_view_module_version": "1.2.0",
       "_view_name": "LayoutView",
       "align_content": null,
       "align_items": null,
       "align_self": null,
       "border": null,
       "bottom": null,
       "display": null,
       "flex": null,
       "flex_flow": null,
       "grid_area": null,
       "grid_auto_columns": null,
       "grid_auto_flow": null,
       "grid_auto_rows": null,
       "grid_column": null,
       "grid_gap": null,
       "grid_row": null,
       "grid_template_areas": null,
       "grid_template_columns": null,
       "grid_template_rows": null,
       "height": null,
       "justify_content": null,
       "justify_items": null,
       "left": null,
       "margin": null,
       "max_height": null,
       "max_width": null,
       "min_height": null,
       "min_width": null,
       "object_fit": null,
       "object_position": null,
       "order": null,
       "overflow": null,
       "overflow_x": null,
       "overflow_y": null,
       "padding": null,
       "right": null,
       "top": null,
       "visibility": null,
       "width": null
      }
     },
     "f868c5a8a22241a483628a0bafdfeeb1": {
      "model_module": "@jupyter-widgets/controls",
      "model_module_version": "1.5.0",
      "model_name": "HBoxModel",
      "state": {
       "_dom_classes": [],
       "_model_module": "@jupyter-widgets/controls",
       "_model_module_version": "1.5.0",
       "_model_name": "HBoxModel",
       "_view_count": null,
       "_view_module": "@jupyter-widgets/controls",
       "_view_module_version": "1.5.0",
       "_view_name": "HBoxView",
       "box_style": "",
       "children": [
        "IPY_MODEL_029259ffd7a542cfa3c447a84d8f3aea",
        "IPY_MODEL_cdc011cba5654a05bc9261d9059b7b80",
        "IPY_MODEL_03eed00168a745da983d8feb135d1d86"
       ],
       "layout": "IPY_MODEL_a0e57bb89fc34aa0b76dcababc1342c1"
      }
     }
    },
    "version_major": 2,
    "version_minor": 0
   }
  }
 },
 "nbformat": 4,
 "nbformat_minor": 5
}
