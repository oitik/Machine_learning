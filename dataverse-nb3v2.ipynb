{
 "cells": [
  {
   "cell_type": "code",
   "execution_count": 1,
   "id": "aed8397e",
   "metadata": {
    "execution": {
     "iopub.execute_input": "2023-10-19T06:51:59.884916Z",
     "iopub.status.busy": "2023-10-19T06:51:59.883979Z",
     "iopub.status.idle": "2023-10-19T06:52:01.653861Z",
     "shell.execute_reply": "2023-10-19T06:52:01.653088Z"
    },
    "papermill": {
     "duration": 1.787225,
     "end_time": "2023-10-19T06:52:01.656231",
     "exception": false,
     "start_time": "2023-10-19T06:51:59.869006",
     "status": "completed"
    },
    "tags": []
   },
   "outputs": [
    {
     "name": "stderr",
     "output_type": "stream",
     "text": [
      "/opt/conda/lib/python3.10/site-packages/scipy/__init__.py:146: UserWarning: A NumPy version >=1.16.5 and <1.23.0 is required for this version of SciPy (detected version 1.23.5\n",
      "  warnings.warn(f\"A NumPy version >={np_minversion} and <{np_maxversion}\"\n"
     ]
    }
   ],
   "source": [
    "# Regular EDA(exploratory data analysis) and plotting libraries\n",
    "import numpy as np\n",
    "import pandas as pd\n",
    "import matplotlib.pyplot as plt\n",
    "\n",
    "from sklearn.model_selection import train_test_split\n",
    "%matplotlib inline\n",
    "\n",
    "from tqdm import tqdm\n",
    "import string\n",
    "import statistics\n",
    "import re\n",
    "import joblib\n",
    "import random"
   ]
  },
  {
   "cell_type": "code",
   "execution_count": 2,
   "id": "40c78030",
   "metadata": {
    "execution": {
     "iopub.execute_input": "2023-10-19T06:52:01.683705Z",
     "iopub.status.busy": "2023-10-19T06:52:01.683294Z",
     "iopub.status.idle": "2023-10-19T06:52:01.956459Z",
     "shell.execute_reply": "2023-10-19T06:52:01.955516Z"
    },
    "papermill": {
     "duration": 0.289231,
     "end_time": "2023-10-19T06:52:01.958627",
     "exception": false,
     "start_time": "2023-10-19T06:52:01.669396",
     "status": "completed"
    },
    "tags": []
   },
   "outputs": [
    {
     "data": {
      "text/html": [
       "<div>\n",
       "<style scoped>\n",
       "    .dataframe tbody tr th:only-of-type {\n",
       "        vertical-align: middle;\n",
       "    }\n",
       "\n",
       "    .dataframe tbody tr th {\n",
       "        vertical-align: top;\n",
       "    }\n",
       "\n",
       "    .dataframe thead th {\n",
       "        text-align: right;\n",
       "    }\n",
       "</style>\n",
       "<table border=\"1\" class=\"dataframe\">\n",
       "  <thead>\n",
       "    <tr style=\"text-align: right;\">\n",
       "      <th></th>\n",
       "      <th>text</th>\n",
       "      <th>ipa</th>\n",
       "    </tr>\n",
       "  </thead>\n",
       "  <tbody>\n",
       "    <tr>\n",
       "      <th>0</th>\n",
       "      <td>এরপরও তারা বকেয়া পরিশোধ করেনি।</td>\n",
       "      <td>eɾpɔɾo t̪ɐɾɐ bɔkeʲɐ poɾɪʃod̪ʱ kɔɾenɪ।</td>\n",
       "    </tr>\n",
       "    <tr>\n",
       "      <th>1</th>\n",
       "      <td>আগে সুইস ব্যাংকে জমা টাকার কোনো প্রতিবেদন প্রক...</td>\n",
       "      <td>ɐge suɪ̯s bɛŋke ɟɔmɐ tɐkɐɾ kono pɾot̪ɪbed̪ɔn p...</td>\n",
       "    </tr>\n",
       "  </tbody>\n",
       "</table>\n",
       "</div>"
      ],
      "text/plain": [
       "                                                text  \\\n",
       "0                     এরপরও তারা বকেয়া পরিশোধ করেনি।   \n",
       "1  আগে সুইস ব্যাংকে জমা টাকার কোনো প্রতিবেদন প্রক...   \n",
       "\n",
       "                                                 ipa  \n",
       "0              eɾpɔɾo t̪ɐɾɐ bɔkeʲɐ poɾɪʃod̪ʱ kɔɾenɪ।  \n",
       "1  ɐge suɪ̯s bɛŋke ɟɔmɐ tɐkɐɾ kono pɾot̪ɪbed̪ɔn p...  "
      ]
     },
     "execution_count": 2,
     "metadata": {},
     "output_type": "execute_result"
    }
   ],
   "source": [
    "# Import the training set\n",
    "df = pd.read_csv('/kaggle/input/dataverse-ipa/dataverse_2023/trainIPAdb_u.csv')\n",
    "df.head(2)"
   ]
  },
  {
   "cell_type": "code",
   "execution_count": 3,
   "id": "54f943a2",
   "metadata": {
    "execution": {
     "iopub.execute_input": "2023-10-19T06:52:02.000463Z",
     "iopub.status.busy": "2023-10-19T06:52:01.999699Z",
     "iopub.status.idle": "2023-10-19T06:52:02.005095Z",
     "shell.execute_reply": "2023-10-19T06:52:02.004243Z"
    },
    "papermill": {
     "duration": 0.021344,
     "end_time": "2023-10-19T06:52:02.007388",
     "exception": false,
     "start_time": "2023-10-19T06:52:01.986044",
     "status": "completed"
    },
    "tags": []
   },
   "outputs": [
    {
     "name": "stdout",
     "output_type": "stream",
     "text": [
      "Text = ছয়টি জেলা হলÑ নারায়ণগঞ্জ, বান্দরবান, রাজশাহী, খুলনা, রংপুর ও দিনাজপুর।\n",
      "IPA = cʰɔʲtɪ ɟelɐ hɔl nɐɾɐʲongɔnɟ, bɐnd̪oɾbɐn, ɾɐɟʃɐhɪ, kʰulnɐ, ɾɔŋpuɾ o d̪ɪnɐɟpuɾ। \n"
     ]
    }
   ],
   "source": [
    "# See a random sample from the training set \n",
    "rand_index = np.random.randint(0, len(df))\n",
    "print(f'Text = {df.text[rand_index]}\\nIPA = {df.ipa[rand_index]}')"
   ]
  },
  {
   "cell_type": "code",
   "execution_count": 4,
   "id": "365794a5",
   "metadata": {
    "execution": {
     "iopub.execute_input": "2023-10-19T06:52:02.031938Z",
     "iopub.status.busy": "2023-10-19T06:52:02.031580Z",
     "iopub.status.idle": "2023-10-19T06:52:02.055236Z",
     "shell.execute_reply": "2023-10-19T06:52:02.054210Z"
    },
    "papermill": {
     "duration": 0.038076,
     "end_time": "2023-10-19T06:52:02.057105",
     "exception": false,
     "start_time": "2023-10-19T06:52:02.019029",
     "status": "completed"
    },
    "tags": []
   },
   "outputs": [
    {
     "data": {
      "text/html": [
       "<div>\n",
       "<style scoped>\n",
       "    .dataframe tbody tr th:only-of-type {\n",
       "        vertical-align: middle;\n",
       "    }\n",
       "\n",
       "    .dataframe tbody tr th {\n",
       "        vertical-align: top;\n",
       "    }\n",
       "\n",
       "    .dataframe thead th {\n",
       "        text-align: right;\n",
       "    }\n",
       "</style>\n",
       "<table border=\"1\" class=\"dataframe\">\n",
       "  <thead>\n",
       "    <tr style=\"text-align: right;\">\n",
       "      <th></th>\n",
       "      <th>text</th>\n",
       "      <th>ipa</th>\n",
       "    </tr>\n",
       "  </thead>\n",
       "  <tbody>\n",
       "    <tr>\n",
       "      <th>0</th>\n",
       "      <td>আমি বলেন সাত আদালতের।</td>\n",
       "      <td>ɐmɪ bɔlen ʃɐt̪ ɐd̪ɐlɔt̪eɾ।</td>\n",
       "    </tr>\n",
       "    <tr>\n",
       "      <th>1</th>\n",
       "      <td>তুমি করা চুরানব্বই রাখে।</td>\n",
       "      <td>t̪umɪ kɔɾɐ cuɾɐnɔbboɪ ɾɐkʰe।</td>\n",
       "    </tr>\n",
       "    <tr>\n",
       "      <th>2</th>\n",
       "      <td>আমরা স্বীকার আটান্ন উপস্থিত।</td>\n",
       "      <td>ɐmɾɐ ʃɪkɐɾ ɐtɐnno upost̪ʰɪt̪।</td>\n",
       "    </tr>\n",
       "  </tbody>\n",
       "</table>\n",
       "</div>"
      ],
      "text/plain": [
       "                           text                            ipa\n",
       "0         আমি বলেন সাত আদালতের।     ɐmɪ bɔlen ʃɐt̪ ɐd̪ɐlɔt̪eɾ।\n",
       "1      তুমি করা চুরানব্বই রাখে।   t̪umɪ kɔɾɐ cuɾɐnɔbboɪ ɾɐkʰe।\n",
       "2  আমরা স্বীকার আটান্ন উপস্থিত।  ɐmɾɐ ʃɪkɐɾ ɐtɐnno upost̪ʰɪt̪।"
      ]
     },
     "execution_count": 4,
     "metadata": {},
     "output_type": "execute_result"
    }
   ],
   "source": [
    "new_df = pd.read_csv('/kaggle/input/dataverse-ipa/new_train.csv')\n",
    "new_df.head(3)"
   ]
  },
  {
   "cell_type": "code",
   "execution_count": 5,
   "id": "5fb01c68",
   "metadata": {
    "execution": {
     "iopub.execute_input": "2023-10-19T06:52:02.083143Z",
     "iopub.status.busy": "2023-10-19T06:52:02.082424Z",
     "iopub.status.idle": "2023-10-19T06:52:02.264237Z",
     "shell.execute_reply": "2023-10-19T06:52:02.263094Z"
    },
    "papermill": {
     "duration": 0.197017,
     "end_time": "2023-10-19T06:52:02.266373",
     "exception": false,
     "start_time": "2023-10-19T06:52:02.069356",
     "status": "completed"
    },
    "tags": []
   },
   "outputs": [
    {
     "data": {
      "text/html": [
       "<div>\n",
       "<style scoped>\n",
       "    .dataframe tbody tr th:only-of-type {\n",
       "        vertical-align: middle;\n",
       "    }\n",
       "\n",
       "    .dataframe tbody tr th {\n",
       "        vertical-align: top;\n",
       "    }\n",
       "\n",
       "    .dataframe thead th {\n",
       "        text-align: right;\n",
       "    }\n",
       "</style>\n",
       "<table border=\"1\" class=\"dataframe\">\n",
       "  <thead>\n",
       "    <tr style=\"text-align: right;\">\n",
       "      <th></th>\n",
       "      <th>row_id_column_name</th>\n",
       "      <th>text</th>\n",
       "    </tr>\n",
       "  </thead>\n",
       "  <tbody>\n",
       "    <tr>\n",
       "      <th>0</th>\n",
       "      <td>0</td>\n",
       "      <td>বিশেষ অতিথি এফএম ইকবাল বিন আনোয়ার (ডন) অ্যাডিশ...</td>\n",
       "    </tr>\n",
       "    <tr>\n",
       "      <th>1</th>\n",
       "      <td>1</td>\n",
       "      <td>এ নিয়ে বিবাদে ২০১৫ সালের ২ জুন রাত সাড়ে ১১টায় ...</td>\n",
       "    </tr>\n",
       "    <tr>\n",
       "      <th>2</th>\n",
       "      <td>2</td>\n",
       "      <td>আজ থেকে ১৪ বছর আগে তিনি চলে গেছেন না ফেরার দেশে।</td>\n",
       "    </tr>\n",
       "  </tbody>\n",
       "</table>\n",
       "</div>"
      ],
      "text/plain": [
       "   row_id_column_name                                               text\n",
       "0                   0  বিশেষ অতিথি এফএম ইকবাল বিন আনোয়ার (ডন) অ্যাডিশ...\n",
       "1                   1  এ নিয়ে বিবাদে ২০১৫ সালের ২ জুন রাত সাড়ে ১১টায় ...\n",
       "2                   2   আজ থেকে ১৪ বছর আগে তিনি চলে গেছেন না ফেরার দেশে।"
      ]
     },
     "execution_count": 5,
     "metadata": {},
     "output_type": "execute_result"
    }
   ],
   "source": [
    "test_df = pd.read_csv('/kaggle/input/dataverse-ipa/dataverse_2023/testData.csv')\n",
    "test_df.head(3)"
   ]
  },
  {
   "cell_type": "markdown",
   "id": "b640fe90",
   "metadata": {
    "papermill": {
     "duration": 0.013271,
     "end_time": "2023-10-19T06:52:02.294003",
     "exception": false,
     "start_time": "2023-10-19T06:52:02.280732",
     "status": "completed"
    },
    "tags": []
   },
   "source": [
    "## Training Data Library "
   ]
  },
  {
   "cell_type": "code",
   "execution_count": 6,
   "id": "4f8b87c8",
   "metadata": {
    "execution": {
     "iopub.execute_input": "2023-10-19T06:52:02.319674Z",
     "iopub.status.busy": "2023-10-19T06:52:02.319337Z",
     "iopub.status.idle": "2023-10-19T06:52:02.324781Z",
     "shell.execute_reply": "2023-10-19T06:52:02.323890Z"
    },
    "papermill": {
     "duration": 0.020315,
     "end_time": "2023-10-19T06:52:02.326543",
     "exception": false,
     "start_time": "2023-10-19T06:52:02.306228",
     "status": "completed"
    },
    "tags": []
   },
   "outputs": [],
   "source": [
    "# Make a function\n",
    "def make_library(df):\n",
    "    '''\n",
    "    \n",
    "    '''\n",
    "    library = {}\n",
    "    texts = df.text\n",
    "    ipas = df.ipa\n",
    "    for i in tqdm(range(len(df))):\n",
    "        for (v1, v2) in zip(re.split(r'\\s+|(?=।)', texts[i]), re.split(r'\\s+|(?=।)', ipas[i])):\n",
    "            library[v1] = v2\n",
    "    return library"
   ]
  },
  {
   "cell_type": "code",
   "execution_count": 7,
   "id": "ece19d88",
   "metadata": {
    "execution": {
     "iopub.execute_input": "2023-10-19T06:52:02.351090Z",
     "iopub.status.busy": "2023-10-19T06:52:02.350815Z",
     "iopub.status.idle": "2023-10-19T06:52:02.899009Z",
     "shell.execute_reply": "2023-10-19T06:52:02.898052Z"
    },
    "papermill": {
     "duration": 0.562681,
     "end_time": "2023-10-19T06:52:02.901127",
     "exception": false,
     "start_time": "2023-10-19T06:52:02.338446",
     "status": "completed"
    },
    "tags": []
   },
   "outputs": [
    {
     "name": "stderr",
     "output_type": "stream",
     "text": [
      "100%|██████████| 21999/21999 [00:00<00:00, 40684.34it/s]\n"
     ]
    }
   ],
   "source": [
    "lib = make_library(df)\n",
    "# lib.update(make_library(new_df))"
   ]
  },
  {
   "cell_type": "code",
   "execution_count": 8,
   "id": "c9dc8300",
   "metadata": {
    "execution": {
     "iopub.execute_input": "2023-10-19T06:52:02.972368Z",
     "iopub.status.busy": "2023-10-19T06:52:02.972058Z",
     "iopub.status.idle": "2023-10-19T06:52:02.976907Z",
     "shell.execute_reply": "2023-10-19T06:52:02.975871Z"
    },
    "papermill": {
     "duration": 0.020584,
     "end_time": "2023-10-19T06:52:02.978761",
     "exception": false,
     "start_time": "2023-10-19T06:52:02.958177",
     "status": "completed"
    },
    "tags": []
   },
   "outputs": [],
   "source": [
    "# Add brackets is the library\n",
    "lib['('] = '('\n",
    "lib[')'] = ')'"
   ]
  },
  {
   "cell_type": "code",
   "execution_count": 9,
   "id": "a5680433",
   "metadata": {
    "execution": {
     "iopub.execute_input": "2023-10-19T06:52:03.008189Z",
     "iopub.status.busy": "2023-10-19T06:52:03.007890Z",
     "iopub.status.idle": "2023-10-19T06:52:03.084027Z",
     "shell.execute_reply": "2023-10-19T06:52:03.083091Z"
    },
    "papermill": {
     "duration": 0.092736,
     "end_time": "2023-10-19T06:52:03.086040",
     "exception": false,
     "start_time": "2023-10-19T06:52:02.993304",
     "status": "completed"
    },
    "tags": []
   },
   "outputs": [
    {
     "name": "stdout",
     "output_type": "stream",
     "text": [
      "[('এরপরও', 'eɾpɔɾo'), ('তারা', 't̪ɐɾɐ'), ('বকেয়া', 'bɔkeʲɐ'), ('পরিশোধ', 'poɾɪʃod̪ʱ'), ('করেনি', 'kɔɾenɪ'), ('।', '।'), ('আগে', 'ɐge'), ('সুইস', 'suɪ̯s'), ('ব্যাংকে', 'bɛŋke'), ('জমা', 'ɟɔmɐ')]\n"
     ]
    },
    {
     "data": {
      "text/plain": [
       "34817"
      ]
     },
     "execution_count": 9,
     "metadata": {},
     "output_type": "execute_result"
    }
   ],
   "source": [
    "print(list(lib.items())[:10])\n",
    "len(lib)"
   ]
  },
  {
   "cell_type": "code",
   "execution_count": 10,
   "id": "7f7eca6f",
   "metadata": {
    "execution": {
     "iopub.execute_input": "2023-10-19T06:52:03.115447Z",
     "iopub.status.busy": "2023-10-19T06:52:03.115145Z",
     "iopub.status.idle": "2023-10-19T06:52:03.166099Z",
     "shell.execute_reply": "2023-10-19T06:52:03.164984Z"
    },
    "papermill": {
     "duration": 0.06771,
     "end_time": "2023-10-19T06:52:03.168017",
     "exception": false,
     "start_time": "2023-10-19T06:52:03.100307",
     "status": "completed"
    },
    "tags": []
   },
   "outputs": [
    {
     "name": "stdout",
     "output_type": "stream",
     "text": [
      "Filtered Dictionary: 34505\n"
     ]
    }
   ],
   "source": [
    "bengali_char_pattern = re.compile(r'[\\u0980-\\u09FF]')\n",
    "\n",
    "filtered_lib = {key: value for key, value in lib.items() if not re.search(bengali_char_pattern, value)}\n",
    "\n",
    "print(\"Filtered Dictionary:\", len(filtered_lib))"
   ]
  },
  {
   "cell_type": "code",
   "execution_count": 11,
   "id": "bbd821fe",
   "metadata": {
    "execution": {
     "iopub.execute_input": "2023-10-19T06:52:03.195138Z",
     "iopub.status.busy": "2023-10-19T06:52:03.194768Z",
     "iopub.status.idle": "2023-10-19T06:52:03.208519Z",
     "shell.execute_reply": "2023-10-19T06:52:03.207634Z"
    },
    "papermill": {
     "duration": 0.029233,
     "end_time": "2023-10-19T06:52:03.210400",
     "exception": false,
     "start_time": "2023-10-19T06:52:03.181167",
     "status": "completed"
    },
    "tags": []
   },
   "outputs": [
    {
     "name": "stdout",
     "output_type": "stream",
     "text": [
      "[('এরপরও', 'eɾpɔɾo'), ('তারা', 't̪ɐɾɐ'), ('বকেয়া', 'bɔkeʲɐ'), ('পরিশোধ', 'poɾɪʃod̪ʱ'), ('করেনি', 'kɔɾenɪ'), ('।', '।'), ('আগে', 'ɐge'), ('সুইস', 'suɪ̯s'), ('ব্যাংকে', 'bɛŋke'), ('জমা', 'ɟɔmɐ')]\n"
     ]
    },
    {
     "data": {
      "text/plain": [
       "34505"
      ]
     },
     "execution_count": 11,
     "metadata": {},
     "output_type": "execute_result"
    }
   ],
   "source": [
    "print(list(filtered_lib.items())[:10])\n",
    "len(filtered_lib)"
   ]
  },
  {
   "cell_type": "code",
   "execution_count": 12,
   "id": "a63cc844",
   "metadata": {
    "execution": {
     "iopub.execute_input": "2023-10-19T06:52:03.237704Z",
     "iopub.status.busy": "2023-10-19T06:52:03.237418Z",
     "iopub.status.idle": "2023-10-19T06:52:03.241501Z",
     "shell.execute_reply": "2023-10-19T06:52:03.240640Z"
    },
    "papermill": {
     "duration": 0.01965,
     "end_time": "2023-10-19T06:52:03.243348",
     "exception": false,
     "start_time": "2023-10-19T06:52:03.223698",
     "status": "completed"
    },
    "tags": []
   },
   "outputs": [],
   "source": [
    "try:\n",
    "    lib['শ্রেণী']\n",
    "except:\n",
    "    print('ValueError')"
   ]
  },
  {
   "cell_type": "code",
   "execution_count": 13,
   "id": "5f7c4506",
   "metadata": {
    "execution": {
     "iopub.execute_input": "2023-10-19T06:52:03.269963Z",
     "iopub.status.busy": "2023-10-19T06:52:03.269636Z",
     "iopub.status.idle": "2023-10-19T06:52:03.275651Z",
     "shell.execute_reply": "2023-10-19T06:52:03.274898Z"
    },
    "papermill": {
     "duration": 0.021298,
     "end_time": "2023-10-19T06:52:03.277340",
     "exception": false,
     "start_time": "2023-10-19T06:52:03.256042",
     "status": "completed"
    },
    "tags": []
   },
   "outputs": [
    {
     "data": {
      "text/plain": [
       "34505"
      ]
     },
     "execution_count": 13,
     "metadata": {},
     "output_type": "execute_result"
    }
   ],
   "source": [
    "lib = filtered_lib\n",
    "len(lib)"
   ]
  },
  {
   "cell_type": "markdown",
   "id": "9f25d9e6",
   "metadata": {
    "papermill": {
     "duration": 0.013115,
     "end_time": "2023-10-19T06:52:03.303782",
     "exception": false,
     "start_time": "2023-10-19T06:52:03.290667",
     "status": "completed"
    },
    "tags": []
   },
   "source": [
    "### Modeling"
   ]
  },
  {
   "cell_type": "code",
   "execution_count": 14,
   "id": "baffaf45",
   "metadata": {
    "execution": {
     "iopub.execute_input": "2023-10-19T06:52:03.332296Z",
     "iopub.status.busy": "2023-10-19T06:52:03.331976Z",
     "iopub.status.idle": "2023-10-19T06:52:07.267888Z",
     "shell.execute_reply": "2023-10-19T06:52:07.267121Z"
    },
    "papermill": {
     "duration": 3.953046,
     "end_time": "2023-10-19T06:52:07.270041",
     "exception": false,
     "start_time": "2023-10-19T06:52:03.316995",
     "status": "completed"
    },
    "tags": []
   },
   "outputs": [
    {
     "data": {
      "application/vnd.jupyter.widget-view+json": {
       "model_id": "c2641cb246774abc913addf4c50fc271",
       "version_major": 2,
       "version_minor": 0
      },
      "text/plain": [
       "Downloading (…)okenizer_config.json:   0%|          | 0.00/82.0 [00:00<?, ?B/s]"
      ]
     },
     "metadata": {},
     "output_type": "display_data"
    },
    {
     "data": {
      "application/vnd.jupyter.widget-view+json": {
       "model_id": "87332e7d06c94646a5574dd2c22efe6a",
       "version_major": 2,
       "version_minor": 0
      },
      "text/plain": [
       "Downloading (…)lve/main/config.json:   0%|          | 0.00/553 [00:00<?, ?B/s]"
      ]
     },
     "metadata": {},
     "output_type": "display_data"
    },
    {
     "data": {
      "application/vnd.jupyter.widget-view+json": {
       "model_id": "ae21bc896f8e4fea96f2570d97017b43",
       "version_major": 2,
       "version_minor": 0
      },
      "text/plain": [
       "Downloading (…)ve/main/spiece.model:   0%|          | 0.00/4.31M [00:00<?, ?B/s]"
      ]
     },
     "metadata": {},
     "output_type": "display_data"
    },
    {
     "data": {
      "application/vnd.jupyter.widget-view+json": {
       "model_id": "0ae133f242fc4820818973ba2ca808e8",
       "version_major": 2,
       "version_minor": 0
      },
      "text/plain": [
       "Downloading (…)cial_tokens_map.json:   0%|          | 0.00/99.0 [00:00<?, ?B/s]"
      ]
     },
     "metadata": {},
     "output_type": "display_data"
    },
    {
     "name": "stderr",
     "output_type": "stream",
     "text": [
      "You are using the default legacy behaviour of the <class 'transformers.models.t5.tokenization_t5.T5Tokenizer'>. If you see this, DO NOT PANIC! This is expected, and simply means that the `legacy` (previous) behavior will be used so nothing changes for you. If you want to use the new behaviour, set `legacy=False`. This should only be set if you understand what it means, and thouroughly read the reason why this was added as explained in https://github.com/huggingface/transformers/pull/24565\n",
      "/opt/conda/lib/python3.10/site-packages/transformers/convert_slow_tokenizer.py:473: UserWarning: The sentencepiece tokenizer that you are converting to a fast tokenizer uses the byte fallback option which is not implemented in the fast tokenizers. In practice this means that the fast version of the tokenizer can produce unknown tokens whereas the sentencepiece version would have converted these unknown tokens into a sequence of byte tokens matching the original piece of text.\n",
      "  warnings.warn(\n"
     ]
    }
   ],
   "source": [
    "from transformers import AutoTokenizer\n",
    "model_id = \"google/mt5-small\"\n",
    "tokenizer = AutoTokenizer.from_pretrained(model_id)"
   ]
  },
  {
   "cell_type": "code",
   "execution_count": 15,
   "id": "9aa76398",
   "metadata": {
    "_kg_hide-output": true,
    "execution": {
     "iopub.execute_input": "2023-10-19T06:52:07.301341Z",
     "iopub.status.busy": "2023-10-19T06:52:07.300535Z",
     "iopub.status.idle": "2023-10-19T06:52:33.750867Z",
     "shell.execute_reply": "2023-10-19T06:52:33.749893Z"
    },
    "papermill": {
     "duration": 26.46923,
     "end_time": "2023-10-19T06:52:33.753057",
     "exception": false,
     "start_time": "2023-10-19T06:52:07.283827",
     "status": "completed"
    },
    "tags": []
   },
   "outputs": [
    {
     "data": {
      "text/plain": [
       "MT5ForConditionalGeneration(\n",
       "  (shared): Embedding(250112, 512)\n",
       "  (encoder): MT5Stack(\n",
       "    (embed_tokens): Embedding(250112, 512)\n",
       "    (block): ModuleList(\n",
       "      (0): MT5Block(\n",
       "        (layer): ModuleList(\n",
       "          (0): MT5LayerSelfAttention(\n",
       "            (SelfAttention): MT5Attention(\n",
       "              (q): Linear(in_features=512, out_features=384, bias=False)\n",
       "              (k): Linear(in_features=512, out_features=384, bias=False)\n",
       "              (v): Linear(in_features=512, out_features=384, bias=False)\n",
       "              (o): Linear(in_features=384, out_features=512, bias=False)\n",
       "              (relative_attention_bias): Embedding(32, 6)\n",
       "            )\n",
       "            (layer_norm): MT5LayerNorm()\n",
       "            (dropout): Dropout(p=0.1, inplace=False)\n",
       "          )\n",
       "          (1): MT5LayerFF(\n",
       "            (DenseReluDense): MT5DenseGatedActDense(\n",
       "              (wi_0): Linear(in_features=512, out_features=1024, bias=False)\n",
       "              (wi_1): Linear(in_features=512, out_features=1024, bias=False)\n",
       "              (wo): Linear(in_features=1024, out_features=512, bias=False)\n",
       "              (dropout): Dropout(p=0.1, inplace=False)\n",
       "              (act): NewGELUActivation()\n",
       "            )\n",
       "            (layer_norm): MT5LayerNorm()\n",
       "            (dropout): Dropout(p=0.1, inplace=False)\n",
       "          )\n",
       "        )\n",
       "      )\n",
       "      (1-7): 7 x MT5Block(\n",
       "        (layer): ModuleList(\n",
       "          (0): MT5LayerSelfAttention(\n",
       "            (SelfAttention): MT5Attention(\n",
       "              (q): Linear(in_features=512, out_features=384, bias=False)\n",
       "              (k): Linear(in_features=512, out_features=384, bias=False)\n",
       "              (v): Linear(in_features=512, out_features=384, bias=False)\n",
       "              (o): Linear(in_features=384, out_features=512, bias=False)\n",
       "            )\n",
       "            (layer_norm): MT5LayerNorm()\n",
       "            (dropout): Dropout(p=0.1, inplace=False)\n",
       "          )\n",
       "          (1): MT5LayerFF(\n",
       "            (DenseReluDense): MT5DenseGatedActDense(\n",
       "              (wi_0): Linear(in_features=512, out_features=1024, bias=False)\n",
       "              (wi_1): Linear(in_features=512, out_features=1024, bias=False)\n",
       "              (wo): Linear(in_features=1024, out_features=512, bias=False)\n",
       "              (dropout): Dropout(p=0.1, inplace=False)\n",
       "              (act): NewGELUActivation()\n",
       "            )\n",
       "            (layer_norm): MT5LayerNorm()\n",
       "            (dropout): Dropout(p=0.1, inplace=False)\n",
       "          )\n",
       "        )\n",
       "      )\n",
       "    )\n",
       "    (final_layer_norm): MT5LayerNorm()\n",
       "    (dropout): Dropout(p=0.1, inplace=False)\n",
       "  )\n",
       "  (decoder): MT5Stack(\n",
       "    (embed_tokens): Embedding(250112, 512)\n",
       "    (block): ModuleList(\n",
       "      (0): MT5Block(\n",
       "        (layer): ModuleList(\n",
       "          (0): MT5LayerSelfAttention(\n",
       "            (SelfAttention): MT5Attention(\n",
       "              (q): Linear(in_features=512, out_features=384, bias=False)\n",
       "              (k): Linear(in_features=512, out_features=384, bias=False)\n",
       "              (v): Linear(in_features=512, out_features=384, bias=False)\n",
       "              (o): Linear(in_features=384, out_features=512, bias=False)\n",
       "              (relative_attention_bias): Embedding(32, 6)\n",
       "            )\n",
       "            (layer_norm): MT5LayerNorm()\n",
       "            (dropout): Dropout(p=0.1, inplace=False)\n",
       "          )\n",
       "          (1): MT5LayerCrossAttention(\n",
       "            (EncDecAttention): MT5Attention(\n",
       "              (q): Linear(in_features=512, out_features=384, bias=False)\n",
       "              (k): Linear(in_features=512, out_features=384, bias=False)\n",
       "              (v): Linear(in_features=512, out_features=384, bias=False)\n",
       "              (o): Linear(in_features=384, out_features=512, bias=False)\n",
       "            )\n",
       "            (layer_norm): MT5LayerNorm()\n",
       "            (dropout): Dropout(p=0.1, inplace=False)\n",
       "          )\n",
       "          (2): MT5LayerFF(\n",
       "            (DenseReluDense): MT5DenseGatedActDense(\n",
       "              (wi_0): Linear(in_features=512, out_features=1024, bias=False)\n",
       "              (wi_1): Linear(in_features=512, out_features=1024, bias=False)\n",
       "              (wo): Linear(in_features=1024, out_features=512, bias=False)\n",
       "              (dropout): Dropout(p=0.1, inplace=False)\n",
       "              (act): NewGELUActivation()\n",
       "            )\n",
       "            (layer_norm): MT5LayerNorm()\n",
       "            (dropout): Dropout(p=0.1, inplace=False)\n",
       "          )\n",
       "        )\n",
       "      )\n",
       "      (1-7): 7 x MT5Block(\n",
       "        (layer): ModuleList(\n",
       "          (0): MT5LayerSelfAttention(\n",
       "            (SelfAttention): MT5Attention(\n",
       "              (q): Linear(in_features=512, out_features=384, bias=False)\n",
       "              (k): Linear(in_features=512, out_features=384, bias=False)\n",
       "              (v): Linear(in_features=512, out_features=384, bias=False)\n",
       "              (o): Linear(in_features=384, out_features=512, bias=False)\n",
       "            )\n",
       "            (layer_norm): MT5LayerNorm()\n",
       "            (dropout): Dropout(p=0.1, inplace=False)\n",
       "          )\n",
       "          (1): MT5LayerCrossAttention(\n",
       "            (EncDecAttention): MT5Attention(\n",
       "              (q): Linear(in_features=512, out_features=384, bias=False)\n",
       "              (k): Linear(in_features=512, out_features=384, bias=False)\n",
       "              (v): Linear(in_features=512, out_features=384, bias=False)\n",
       "              (o): Linear(in_features=384, out_features=512, bias=False)\n",
       "            )\n",
       "            (layer_norm): MT5LayerNorm()\n",
       "            (dropout): Dropout(p=0.1, inplace=False)\n",
       "          )\n",
       "          (2): MT5LayerFF(\n",
       "            (DenseReluDense): MT5DenseGatedActDense(\n",
       "              (wi_0): Linear(in_features=512, out_features=1024, bias=False)\n",
       "              (wi_1): Linear(in_features=512, out_features=1024, bias=False)\n",
       "              (wo): Linear(in_features=1024, out_features=512, bias=False)\n",
       "              (dropout): Dropout(p=0.1, inplace=False)\n",
       "              (act): NewGELUActivation()\n",
       "            )\n",
       "            (layer_norm): MT5LayerNorm()\n",
       "            (dropout): Dropout(p=0.1, inplace=False)\n",
       "          )\n",
       "        )\n",
       "      )\n",
       "    )\n",
       "    (final_layer_norm): MT5LayerNorm()\n",
       "    (dropout): Dropout(p=0.1, inplace=False)\n",
       "  )\n",
       "  (lm_head): Linear(in_features=512, out_features=250112, bias=False)\n",
       ")"
      ]
     },
     "execution_count": 15,
     "metadata": {},
     "output_type": "execute_result"
    }
   ],
   "source": [
    "# Later, to load the model back\n",
    "loaded_model = joblib.load('/kaggle/input/model1/model (1).pkl')\n",
    "loaded_model"
   ]
  },
  {
   "cell_type": "code",
   "execution_count": 16,
   "id": "88dd08bb",
   "metadata": {
    "execution": {
     "iopub.execute_input": "2023-10-19T06:52:33.783750Z",
     "iopub.status.busy": "2023-10-19T06:52:33.783460Z",
     "iopub.status.idle": "2023-10-19T06:52:33.787551Z",
     "shell.execute_reply": "2023-10-19T06:52:33.786690Z"
    },
    "papermill": {
     "duration": 0.021874,
     "end_time": "2023-10-19T06:52:33.789613",
     "exception": false,
     "start_time": "2023-10-19T06:52:33.767739",
     "status": "completed"
    },
    "tags": []
   },
   "outputs": [],
   "source": [
    "# # Remove English alphanumeric values\n",
    "# alpha_pat = \"[a-zA-z0-9০-৯()]\"\n",
    "# test_df[\"text\"] = test_df[\"text\"].str.replace(alpha_pat, \"\", regex=True)"
   ]
  },
  {
   "cell_type": "code",
   "execution_count": 17,
   "id": "144fc715",
   "metadata": {
    "execution": {
     "iopub.execute_input": "2023-10-19T06:52:33.818268Z",
     "iopub.status.busy": "2023-10-19T06:52:33.817981Z",
     "iopub.status.idle": "2023-10-19T06:52:35.694947Z",
     "shell.execute_reply": "2023-10-19T06:52:35.694155Z"
    },
    "papermill": {
     "duration": 1.894182,
     "end_time": "2023-10-19T06:52:35.697545",
     "exception": false,
     "start_time": "2023-10-19T06:52:33.803363",
     "status": "completed"
    },
    "tags": []
   },
   "outputs": [],
   "source": [
    "from transformers import pipeline\n",
    "\n",
    "pipe = pipeline(\"text2text-generation\", model=loaded_model,tokenizer=tokenizer, device=0)"
   ]
  },
  {
   "cell_type": "code",
   "execution_count": 18,
   "id": "46b1d092",
   "metadata": {
    "execution": {
     "iopub.execute_input": "2023-10-19T06:52:35.726398Z",
     "iopub.status.busy": "2023-10-19T06:52:35.726074Z",
     "iopub.status.idle": "2023-10-19T06:52:39.266153Z",
     "shell.execute_reply": "2023-10-19T06:52:39.265256Z"
    },
    "papermill": {
     "duration": 3.556712,
     "end_time": "2023-10-19T06:52:39.268150",
     "exception": false,
     "start_time": "2023-10-19T06:52:35.711438",
     "status": "completed"
    },
    "tags": []
   },
   "outputs": [
    {
     "name": "stdout",
     "output_type": "stream",
     "text": [
      "[{'generated_text': 'ʃund̪oɾ ʃund̪ɔɾmonɐ ɐmɪ t̪omɐke bɦɐlobɐʃɪ।'}]\n"
     ]
    }
   ],
   "source": [
    "texts = \"সুন্দর সুন্দরমনা আমি তোমাকে ভালবাসি।\"\n",
    "# texts = \"বিশেষ অতিথি এফএম ইকবাল বিন আনোয়ার (ডন) অ্যাডিশনাল ডাইরেক্টরগেমস অ্যান্ড স্পোর্টস ডিপার্টমেন্ট ওয়ালটন।\"\n",
    "# texts = 'আমি তোমাকে মন।'\n",
    "ipas = pipe(texts, max_length=128, batch_size=16)\n",
    "print(ipas)"
   ]
  },
  {
   "cell_type": "code",
   "execution_count": 19,
   "id": "9eebf0ff",
   "metadata": {
    "execution": {
     "iopub.execute_input": "2023-10-19T06:52:39.297500Z",
     "iopub.status.busy": "2023-10-19T06:52:39.297193Z",
     "iopub.status.idle": "2023-10-19T06:52:39.302637Z",
     "shell.execute_reply": "2023-10-19T06:52:39.301784Z"
    },
    "papermill": {
     "duration": 0.022238,
     "end_time": "2023-10-19T06:52:39.304397",
     "exception": false,
     "start_time": "2023-10-19T06:52:39.282159",
     "status": "completed"
    },
    "tags": []
   },
   "outputs": [],
   "source": [
    "def calculate_ipa(txt):\n",
    "    '''\n",
    "    Converts a sentence to IPA using t5 model.\n",
    "    '''\n",
    "    ipas = pipe(txt, max_length=128, batch_size=16)\n",
    "    return ipas[0]['generated_text']\n",
    "\n",
    "def word_to_ipa(word):\n",
    "    '''\n",
    "    Converts a Word to IPA using t5 model.\n",
    "    '''\n",
    "    word += '।'\n",
    "    ipas = pipe(word, max_length=128, batch_size=16)\n",
    "    output_string = ' '.join(ipas[0]['generated_text'].split())\n",
    "    return output_string[:-1]"
   ]
  },
  {
   "cell_type": "code",
   "execution_count": 20,
   "id": "b30d5e67",
   "metadata": {
    "execution": {
     "iopub.execute_input": "2023-10-19T06:52:39.335403Z",
     "iopub.status.busy": "2023-10-19T06:52:39.335075Z",
     "iopub.status.idle": "2023-10-19T06:52:39.620118Z",
     "shell.execute_reply": "2023-10-19T06:52:39.619292Z"
    },
    "papermill": {
     "duration": 0.303035,
     "end_time": "2023-10-19T06:52:39.622116",
     "exception": false,
     "start_time": "2023-10-19T06:52:39.319081",
     "status": "completed"
    },
    "tags": []
   },
   "outputs": [
    {
     "data": {
      "text/plain": [
       "('t̪ɐɾɐ-', 't̪omɐke,')"
      ]
     },
     "execution_count": 20,
     "metadata": {},
     "output_type": "execute_result"
    }
   ],
   "source": [
    "# Check the function\n",
    "word_to_ipa('তারা-'), word_to_ipa('তোমাকে,')"
   ]
  },
  {
   "cell_type": "code",
   "execution_count": 21,
   "id": "fc1ec3b4",
   "metadata": {
    "execution": {
     "iopub.execute_input": "2023-10-19T06:52:39.651467Z",
     "iopub.status.busy": "2023-10-19T06:52:39.651162Z",
     "iopub.status.idle": "2023-10-19T06:52:39.752529Z",
     "shell.execute_reply": "2023-10-19T06:52:39.751519Z"
    },
    "papermill": {
     "duration": 0.118149,
     "end_time": "2023-10-19T06:52:39.754476",
     "exception": false,
     "start_time": "2023-10-19T06:52:39.636327",
     "status": "completed"
    },
    "tags": []
   },
   "outputs": [
    {
     "data": {
      "text/plain": [
       "'শ্রেণির'"
      ]
     },
     "execution_count": 21,
     "metadata": {},
     "output_type": "execute_result"
    }
   ],
   "source": [
    "word_to_ipa('শ্রেণীর')"
   ]
  },
  {
   "cell_type": "code",
   "execution_count": 22,
   "id": "5d4d59b9",
   "metadata": {
    "execution": {
     "iopub.execute_input": "2023-10-19T06:52:39.786643Z",
     "iopub.status.busy": "2023-10-19T06:52:39.785626Z",
     "iopub.status.idle": "2023-10-19T06:52:39.790358Z",
     "shell.execute_reply": "2023-10-19T06:52:39.789596Z"
    },
    "papermill": {
     "duration": 0.023041,
     "end_time": "2023-10-19T06:52:39.792155",
     "exception": false,
     "start_time": "2023-10-19T06:52:39.769114",
     "status": "completed"
    },
    "tags": []
   },
   "outputs": [],
   "source": [
    "def contains_bengali_digit(text):\n",
    "    '''\n",
    "    Is there a bengali digit in text\n",
    "    '''\n",
    "    return bool(re.search(r'[০-৯]', text))"
   ]
  },
  {
   "cell_type": "code",
   "execution_count": 23,
   "id": "3a46f521",
   "metadata": {
    "execution": {
     "iopub.execute_input": "2023-10-19T06:52:39.822772Z",
     "iopub.status.busy": "2023-10-19T06:52:39.822501Z",
     "iopub.status.idle": "2023-10-19T06:52:39.828510Z",
     "shell.execute_reply": "2023-10-19T06:52:39.827725Z"
    },
    "papermill": {
     "duration": 0.023363,
     "end_time": "2023-10-19T06:52:39.830276",
     "exception": false,
     "start_time": "2023-10-19T06:52:39.806913",
     "status": "completed"
    },
    "tags": []
   },
   "outputs": [],
   "source": [
    "def ipa_converter(text):\n",
    "    '''\n",
    "    Converts a sentence to IPA\n",
    "    '''\n",
    "    ipa = ''\n",
    "    #for value in re.split(r'\\s+|(?=।)', text):\n",
    "    words = re.split(r'\\s+|(?<=[()।])|(?=[()।])', text)\n",
    "    \n",
    "    # Filter out empty strings and extra spaces from the result\n",
    "    words = [word.strip() for word in words if word.strip()]\n",
    "    for value in words:\n",
    "        if value in lib:\n",
    "            ipa += lib[value]\n",
    "            ipa += ' '\n",
    "        else:\n",
    "            # ipa += 'UNKey '\n",
    "            ipa += word_to_ipa(value)\n",
    "            ipa += ' '\n",
    "            \n",
    "    pattern = r'\\s+(?=।)|(?<=।)\\s+'\n",
    "    cln_ipa = re.sub(pattern, '', ipa)\n",
    "    \n",
    "    # Replace ' (' with '('\n",
    "    cln_ipa = re.sub(r'\\(\\s+', '(', cln_ipa)\n",
    "\n",
    "    # Replace ') ' with ')'\n",
    "    cln_ipa = re.sub(r'\\s+\\)', ')', cln_ipa)\n",
    "    return cln_ipa"
   ]
  },
  {
   "cell_type": "code",
   "execution_count": 24,
   "id": "e9a6a148",
   "metadata": {
    "execution": {
     "iopub.execute_input": "2023-10-19T06:52:39.860507Z",
     "iopub.status.busy": "2023-10-19T06:52:39.860236Z",
     "iopub.status.idle": "2023-10-19T06:52:40.369954Z",
     "shell.execute_reply": "2023-10-19T06:52:40.369036Z"
    },
    "papermill": {
     "duration": 0.527074,
     "end_time": "2023-10-19T06:52:40.371896",
     "exception": false,
     "start_time": "2023-10-19T06:52:39.844822",
     "status": "completed"
    },
    "tags": []
   },
   "outputs": [
    {
     "data": {
      "text/plain": [
       "'t̪ɐɾ ʃɐɾɐ শ্রেণির ɔcɪnt̪o ʃoɾɪɾe bɦõt̪ɐ ɔst̪ɾeɾ ɐtt̪ɾɪʃtɪ ɐgʱɐt̪ ɾoʲecʰe।'"
      ]
     },
     "execution_count": 24,
     "metadata": {},
     "output_type": "execute_result"
    }
   ],
   "source": [
    "txt = 'তার সারা শ্রেণীর অচিন্ত শরীরে ভোঁতা অস্ত্রের আটত্রিশটি আঘাত রয়েছে।'\n",
    "ipa_converter(txt)"
   ]
  },
  {
   "cell_type": "code",
   "execution_count": 25,
   "id": "ff689839",
   "metadata": {
    "execution": {
     "iopub.execute_input": "2023-10-19T06:52:40.402644Z",
     "iopub.status.busy": "2023-10-19T06:52:40.402324Z",
     "iopub.status.idle": "2023-10-19T06:52:40.407604Z",
     "shell.execute_reply": "2023-10-19T06:52:40.406857Z"
    },
    "papermill": {
     "duration": 0.022186,
     "end_time": "2023-10-19T06:52:40.409336",
     "exception": false,
     "start_time": "2023-10-19T06:52:40.387150",
     "status": "completed"
    },
    "tags": []
   },
   "outputs": [
    {
     "data": {
      "text/plain": [
       "'bɐŋlɐd̪eʃ'"
      ]
     },
     "execution_count": 25,
     "metadata": {},
     "output_type": "execute_result"
    }
   ],
   "source": [
    "lib['বাংলাদেশ']"
   ]
  },
  {
   "cell_type": "code",
   "execution_count": 26,
   "id": "95725529",
   "metadata": {
    "execution": {
     "iopub.execute_input": "2023-10-19T06:52:40.438991Z",
     "iopub.status.busy": "2023-10-19T06:52:40.438654Z",
     "iopub.status.idle": "2023-10-19T06:52:40.594225Z",
     "shell.execute_reply": "2023-10-19T06:52:40.593006Z"
    },
    "papermill": {
     "duration": 0.172555,
     "end_time": "2023-10-19T06:52:40.596086",
     "exception": false,
     "start_time": "2023-10-19T06:52:40.423531",
     "status": "completed"
    },
    "tags": []
   },
   "outputs": [
    {
     "name": "stdout",
     "output_type": "stream",
     "text": [
      "430\n",
      "Pred = t̪ɪnɪ ʃud̪uɾ ɪŋlɛndeɾ bɪʃʃɔkkʰɛt̪o bɪʃʃobɪd̪d̪ɐlɔe̯ t̪ʰeke t̪ɐɾ pɪeɪcdɪ t̪ɔt̪ʰɐ uccot̪ɔɾ pɔɽɐʃonɐ ʃeʃ koɾecʰen, t̪ɪnɪ t̪ɐɾ klɐse ‘unnɔʲon od̪d̪ɦɔjon ‘ pɔɽɐn।\n",
      "True = তিনি সুদূর ইংল্যান্ডের বিশ্বখ্যাত বিশ্ববিদ্যালয় থেকে তার পিএইচডি তথা উচ্চতর পড়াশোনা শেষ করেছেন, তিনি তার ক্লাসে ‘উন্নয়ন অধ্যয়ন’ পড়ান।\n"
     ]
    }
   ],
   "source": [
    "rand_index = np.random.randint(0, 1000)\n",
    "print(rand_index)\n",
    "print(f'Pred = {ipa_converter(test_df.text[rand_index])}\\nTrue = {test_df.text[rand_index]}')"
   ]
  },
  {
   "cell_type": "code",
   "execution_count": null,
   "id": "8ed6cb0d",
   "metadata": {
    "papermill": {
     "duration": 0.01441,
     "end_time": "2023-10-19T06:52:40.625300",
     "exception": false,
     "start_time": "2023-10-19T06:52:40.610890",
     "status": "completed"
    },
    "tags": []
   },
   "outputs": [],
   "source": []
  },
  {
   "cell_type": "markdown",
   "id": "25c12419",
   "metadata": {
    "papermill": {
     "duration": 0.014245,
     "end_time": "2023-10-19T06:52:40.653650",
     "exception": false,
     "start_time": "2023-10-19T06:52:40.639405",
     "status": "completed"
    },
    "tags": []
   },
   "source": [
    "## WORD ERROR RATE "
   ]
  },
  {
   "cell_type": "code",
   "execution_count": 27,
   "id": "029f545e",
   "metadata": {
    "execution": {
     "iopub.execute_input": "2023-10-19T06:52:40.683339Z",
     "iopub.status.busy": "2023-10-19T06:52:40.682607Z",
     "iopub.status.idle": "2023-10-19T06:52:41.058113Z",
     "shell.execute_reply": "2023-10-19T06:52:41.056976Z"
    },
    "papermill": {
     "duration": 0.392468,
     "end_time": "2023-10-19T06:52:41.060318",
     "exception": false,
     "start_time": "2023-10-19T06:52:40.667850",
     "status": "completed"
    },
    "tags": []
   },
   "outputs": [
    {
     "name": "stderr",
     "output_type": "stream",
     "text": [
      "/opt/conda/lib/python3.10/site-packages/transformers/pipelines/base.py:1101: UserWarning: You seem to be using the pipelines sequentially on GPU. In order to maximize efficiency please use a dataset\n",
      "  warnings.warn(\n"
     ]
    },
    {
     "data": {
      "text/plain": [
       "'ɛkhɪn nɔbʱembɔɾ nɔɾend̪ɾo mod̪ɪ stedɪjɐm,  bɐŋlɐd̪eʃ bɪʃʃokɐp ʃɪɾopɐ t̪ullo।'"
      ]
     },
     "execution_count": 27,
     "metadata": {},
     "output_type": "execute_result"
    }
   ],
   "source": [
    "txt = '১৯ নভেম্বর নরেন্দ্র মোদি স্টেডিয়াম, বাংলাদেশ বিশ্বকাপ শিরোপা তুললো।'\n",
    "actual = 'unɪʃ novembɔɾ nɔɾendɾɐ modɪ stedɪum, bɐŋlɐd̪eʃ bɪʃʃokɐp ʃɪɾopɐ t̪ullo।'\n",
    "ipa_converter(txt)"
   ]
  },
  {
   "cell_type": "markdown",
   "id": "b336d9df",
   "metadata": {
    "papermill": {
     "duration": 0.014615,
     "end_time": "2023-10-19T06:52:41.090228",
     "exception": false,
     "start_time": "2023-10-19T06:52:41.075613",
     "status": "completed"
    },
    "tags": []
   },
   "source": [
    "# **Need to handle Exceptional Cases**\n",
    "1. Numeric Words (ie. ০-৯)  ***(Done)***\n",
    "2. Bracket      ***(Done)***\n",
    "3. হয়’ --> hɔj ‘    \n",
    "4. Mistake in Library (ie. শ্রেণির)   ***(Done)***\n",
    "5. dict_change  =  \"bɦ\"  : \"bʱ\",   \"dɦ\":\"dʱ\"   etc\n",
    "    "
   ]
  },
  {
   "cell_type": "markdown",
   "id": "aa7b66a7",
   "metadata": {
    "papermill": {
     "duration": 0.014991,
     "end_time": "2023-10-19T06:52:41.120573",
     "exception": false,
     "start_time": "2023-10-19T06:52:41.105582",
     "status": "completed"
    },
    "tags": []
   },
   "source": [
    "### BRACKETS HANDLING"
   ]
  },
  {
   "cell_type": "code",
   "execution_count": 28,
   "id": "a539daa5",
   "metadata": {
    "execution": {
     "iopub.execute_input": "2023-10-19T06:52:41.151513Z",
     "iopub.status.busy": "2023-10-19T06:52:41.151207Z",
     "iopub.status.idle": "2023-10-19T06:52:41.155705Z",
     "shell.execute_reply": "2023-10-19T06:52:41.154729Z"
    },
    "papermill": {
     "duration": 0.022261,
     "end_time": "2023-10-19T06:52:41.157492",
     "exception": false,
     "start_time": "2023-10-19T06:52:41.135231",
     "status": "completed"
    },
    "tags": []
   },
   "outputs": [],
   "source": [
    "# Add brackets is the library\n",
    "lib['('] = '('\n",
    "lib[')'] = ')'"
   ]
  },
  {
   "cell_type": "code",
   "execution_count": 29,
   "id": "2c0928a7",
   "metadata": {
    "execution": {
     "iopub.execute_input": "2023-10-19T06:52:41.187299Z",
     "iopub.status.busy": "2023-10-19T06:52:41.186981Z",
     "iopub.status.idle": "2023-10-19T06:52:41.192258Z",
     "shell.execute_reply": "2023-10-19T06:52:41.191206Z"
    },
    "papermill": {
     "duration": 0.02213,
     "end_time": "2023-10-19T06:52:41.194091",
     "exception": false,
     "start_time": "2023-10-19T06:52:41.171961",
     "status": "completed"
    },
    "tags": []
   },
   "outputs": [
    {
     "name": "stdout",
     "output_type": "stream",
     "text": [
      "Text = কিন্তু তিনি নিশ্চয়ই দৈনিক এর চেয়ে বেশি মিথ্যা বলার ক্ষমতা রাখেন।\n"
     ]
    }
   ],
   "source": [
    "# See a random sample from the test set \n",
    "rand_index = np.random.randint(0, len(test_df))\n",
    "print(f'Text = {test_df.text[rand_index]}')"
   ]
  },
  {
   "cell_type": "code",
   "execution_count": 30,
   "id": "717ab18f",
   "metadata": {
    "execution": {
     "iopub.execute_input": "2023-10-19T06:52:41.224090Z",
     "iopub.status.busy": "2023-10-19T06:52:41.223757Z",
     "iopub.status.idle": "2023-10-19T06:52:41.229414Z",
     "shell.execute_reply": "2023-10-19T06:52:41.228561Z"
    },
    "papermill": {
     "duration": 0.022771,
     "end_time": "2023-10-19T06:52:41.231416",
     "exception": false,
     "start_time": "2023-10-19T06:52:41.208645",
     "status": "completed"
    },
    "tags": []
   },
   "outputs": [
    {
     "name": "stdout",
     "output_type": "stream",
     "text": [
      "['মেয়েদের', 'আনইভেন', 'বার', '(', 'রাত', '১টা', '২১', ')', 'ভারোত্তোলনমেয়েদের', '৭৫', 'কেজি', 'ফাইনাল', '(', 'রাত', '১২টা', '৩০', 'ও', '৪টা', ')', 'ডাইভিংমেয়েদের', '৩', 'মিটার', 'স্প্রিং', 'বোর্ড', '(', 'রাত', '১টা', ')', '।']\n"
     ]
    }
   ],
   "source": [
    "import re\n",
    "\n",
    "# Input sentence\n",
    "text = \"মেয়েদের আনইভেন বার (রাত ১টা ২১)ভারোত্তোলনমেয়েদের ৭৫ কেজি ফাইনাল (রাত ১২টা ৩০ ও ৪টা)ডাইভিংমেয়েদের ৩ মিটার স্প্রিং বোর্ড (রাত ১টা)।\"\n",
    "\n",
    "# Split the sentence using a regular expression to keep spaces, periods, and parentheses\n",
    "words = re.split(r'\\s+|(?<=[()।])|(?=[()।])', text)\n",
    "\n",
    "# Filter out empty strings and extra spaces from the result\n",
    "words = [word.strip() for word in words if word.strip()]\n",
    "\n",
    "# Print the words\n",
    "print(words)"
   ]
  },
  {
   "cell_type": "code",
   "execution_count": 31,
   "id": "841c94fa",
   "metadata": {
    "execution": {
     "iopub.execute_input": "2023-10-19T06:52:41.261897Z",
     "iopub.status.busy": "2023-10-19T06:52:41.261628Z",
     "iopub.status.idle": "2023-10-19T06:52:42.851665Z",
     "shell.execute_reply": "2023-10-19T06:52:42.850618Z"
    },
    "papermill": {
     "duration": 1.607662,
     "end_time": "2023-10-19T06:52:42.853702",
     "exception": false,
     "start_time": "2023-10-19T06:52:41.246040",
     "status": "completed"
    },
    "tags": []
   },
   "outputs": [
    {
     "data": {
      "text/plain": [
       "'mejet̪eɾ ɐnɪbɦen bɐɾ (ɾɐt̪ hotɐ ɐɪ̯) bɦɐɾot̪t̪olɔnmejed̪eɾ ɛcɐɾ uno keɟɪ pʰɐɪ̯nɐl (ɾɐt̪ dɐɪ̯tɐ pɪkɾo o ɛktɐ) dɐɪ̯bɦɪŋmejed̪eɾ tɪ mɪtɐɾ spɾɪŋ boɾd (ɾɐt̪ t̪utɐ)।'"
      ]
     },
     "execution_count": 31,
     "metadata": {},
     "output_type": "execute_result"
    }
   ],
   "source": [
    "ipa_converter(text)"
   ]
  },
  {
   "cell_type": "markdown",
   "id": "08b56a48",
   "metadata": {
    "papermill": {
     "duration": 0.0152,
     "end_time": "2023-10-19T06:52:42.884377",
     "exception": false,
     "start_time": "2023-10-19T06:52:42.869177",
     "status": "completed"
    },
    "tags": []
   },
   "source": [
    "### Search for exceptions "
   ]
  },
  {
   "cell_type": "code",
   "execution_count": 32,
   "id": "71768b91",
   "metadata": {
    "execution": {
     "iopub.execute_input": "2023-10-19T06:52:42.917256Z",
     "iopub.status.busy": "2023-10-19T06:52:42.916918Z",
     "iopub.status.idle": "2023-10-19T06:52:42.941542Z",
     "shell.execute_reply": "2023-10-19T06:52:42.940415Z"
    },
    "papermill": {
     "duration": 0.043069,
     "end_time": "2023-10-19T06:52:42.943369",
     "exception": false,
     "start_time": "2023-10-19T06:52:42.900300",
     "status": "completed"
    },
    "tags": []
   },
   "outputs": [
    {
     "name": "stdout",
     "output_type": "stream",
     "text": [
      "Length of the Df = (5279, 2)\n"
     ]
    }
   ],
   "source": [
    "filt_cond = [\"১-৯\", 'A-Za-z0-9']\n",
    "# Filtering text samples that contain English alphanumeric values\n",
    "filt = test_df[lambda x: x[\"text\"].str.contains(\"[,]\")]\n",
    "filt = filt.reset_index(drop=True)\n",
    "print(f'Length of the Df = {filt.shape}')"
   ]
  },
  {
   "cell_type": "code",
   "execution_count": 33,
   "id": "a43aaa00",
   "metadata": {
    "execution": {
     "iopub.execute_input": "2023-10-19T06:52:42.974273Z",
     "iopub.status.busy": "2023-10-19T06:52:42.973959Z",
     "iopub.status.idle": "2023-10-19T06:52:42.980215Z",
     "shell.execute_reply": "2023-10-19T06:52:42.979280Z"
    },
    "papermill": {
     "duration": 0.024116,
     "end_time": "2023-10-19T06:52:42.982157",
     "exception": false,
     "start_time": "2023-10-19T06:52:42.958041",
     "status": "completed"
    },
    "tags": []
   },
   "outputs": [
    {
     "data": {
      "text/plain": [
       "'তবে ইপিএ’র পরিচালক স্কট প্র“ইট বলেছেন, কার্বন ডাই-অক্সাইডই যে বৈশ্বিক উষ্ণতার প্রধান উপাদান এটা তিনি বিশ্বাস করেন না।'"
      ]
     },
     "execution_count": 33,
     "metadata": {},
     "output_type": "execute_result"
    }
   ],
   "source": [
    "ind = np.random.randint(0, len(filt))\n",
    "filt.text[ind]"
   ]
  },
  {
   "cell_type": "code",
   "execution_count": 34,
   "id": "f81963fe",
   "metadata": {
    "execution": {
     "iopub.execute_input": "2023-10-19T06:52:43.012824Z",
     "iopub.status.busy": "2023-10-19T06:52:43.012522Z",
     "iopub.status.idle": "2023-10-19T06:52:43.764821Z",
     "shell.execute_reply": "2023-10-19T06:52:43.763871Z"
    },
    "papermill": {
     "duration": 0.769601,
     "end_time": "2023-10-19T06:52:43.766766",
     "exception": false,
     "start_time": "2023-10-19T06:52:42.997165",
     "status": "completed"
    },
    "tags": []
   },
   "outputs": [
    {
     "data": {
      "text/plain": [
       "'t̪ɔbe ɪpɪẽ̯ɾ poɾɪcɐlok skɔt pɾo“ɪt bolecʰen, kɐɾbon dɐɪ̯-ɔksɪɐ̯dɪ ɟe boɪ̯ʃʃɪk uʃnot̪ɐɾ pɾod̪ʱɐn upɐd̪ɐn etɐ t̪ɪnɪ bɪʃʃɐʃ kɔɾen nɐ।'"
      ]
     },
     "execution_count": 34,
     "metadata": {},
     "output_type": "execute_result"
    }
   ],
   "source": [
    "ipa_converter(filt.text[ind])"
   ]
  },
  {
   "cell_type": "markdown",
   "id": "fa1ca738",
   "metadata": {
    "papermill": {
     "duration": 0.015742,
     "end_time": "2023-10-19T06:52:43.798422",
     "exception": false,
     "start_time": "2023-10-19T06:52:43.782680",
     "status": "completed"
    },
    "tags": []
   },
   "source": [
    "## Handle the Number Case"
   ]
  },
  {
   "cell_type": "code",
   "execution_count": 35,
   "id": "23872370",
   "metadata": {
    "_kg_hide-input": true,
    "execution": {
     "iopub.execute_input": "2023-10-19T06:52:43.831476Z",
     "iopub.status.busy": "2023-10-19T06:52:43.831124Z",
     "iopub.status.idle": "2023-10-19T06:52:43.851184Z",
     "shell.execute_reply": "2023-10-19T06:52:43.850136Z"
    },
    "papermill": {
     "duration": 0.039014,
     "end_time": "2023-10-19T06:52:43.853041",
     "exception": false,
     "start_time": "2023-10-19T06:52:43.814027",
     "status": "completed"
    },
    "tags": []
   },
   "outputs": [],
   "source": [
    "import math\n",
    "numeric_words = {\n",
    "    '.': 'দশমিক',\n",
    "    '0': '',\n",
    "    '1': 'এক',\n",
    "    '01': 'এক',\n",
    "    '2': 'দুই',\n",
    "    '02': 'দুই',\n",
    "    '3': 'তিন',\n",
    "    '03': 'তিন',\n",
    "    '4': 'চার',\n",
    "    '04': 'চার',\n",
    "    '5': 'পাঁচ',\n",
    "    '05': 'পাঁচ',\n",
    "    '6': 'ছয়',\n",
    "    '06': 'ছয়',\n",
    "    '7': 'সাত',\n",
    "    '07': 'সাত',\n",
    "    '8': 'আট',\n",
    "    '08': 'আট',\n",
    "    '9': 'নয়',\n",
    "    '09': 'নয়',\n",
    "    '10': 'দশ',\n",
    "    '11': 'এগারো',\n",
    "    '12': 'বার',\n",
    "    '13': 'তের',\n",
    "    '14': 'চৌদ্দ',\n",
    "    '15': 'পনের',\n",
    "    '16': 'ষোল',\n",
    "    '17': 'সতের',\n",
    "    '18': 'আঠার',\n",
    "    '19': 'উনিশ',\n",
    "    '20': 'বিশ',\n",
    "    '21': 'একুশ',\n",
    "    '22': 'বাইশ',\n",
    "    '23': 'তেইশ',\n",
    "    '24': 'চব্বিশ',\n",
    "    '25': 'পঁচিশ',\n",
    "    '26': 'ছাব্বিশ',\n",
    "    '27': 'সাতাশ',\n",
    "    '28': 'আঠাশ',\n",
    "    '29': 'ঊনত্রিশ',\n",
    "    '30': 'ত্রিশ',\n",
    "    '31': 'একত্রিশ',\n",
    "    '32': 'বত্রিশ',\n",
    "    '33': 'তেত্রিশ',\n",
    "    '34': 'চৌত্রিশ',\n",
    "    '35': 'পঁয়ত্রিশ',\n",
    "    '36': 'ছত্রিশ',\n",
    "    '37': 'সাঁইত্রিশ',\n",
    "    '38': 'আটত্রিশ',\n",
    "    '39': 'ঊনচল্লিশ',\n",
    "    '40': 'চল্লিশ',\n",
    "    '41': 'একচল্লিশ',\n",
    "    '42': 'বিয়াল্লিশ',\n",
    "    '43': 'তেতাল্লিশ',\n",
    "    '44': 'চুয়াল্লিশ',\n",
    "    '45': 'পঁয়তাল্লিশ',\n",
    "    '46': 'ছেচল্লিশ',\n",
    "    '47': 'সাতচল্লিশ',\n",
    "    '48': 'আটচল্লিশ',\n",
    "    '49': 'ঊনপঞ্চাশ',\n",
    "    '50': 'পঞ্চাশ',\n",
    "    '51': 'একান্ন',\n",
    "    '52': 'বায়ান্ন',\n",
    "    '53': 'তিপ্পান্ন',\n",
    "    '54': 'চুয়ান্ন',\n",
    "    '55': 'পঞ্চান্ন',\n",
    "    '56': 'ছাপ্পান্ন',\n",
    "    '57': 'সাতান্ন',\n",
    "    '58': 'আটান্ন',\n",
    "    '59': 'ঊনষাট',\n",
    "    '60': 'ষাট',\n",
    "    '61': 'একষট্টি',\n",
    "    '62': 'বাষট্টি',\n",
    "    '63': 'তেষট্টি',\n",
    "    '64': 'চৌষট্টি',\n",
    "    '65': 'পঁয়ষট্টি',\n",
    "    '66': 'ছেষট্টি',\n",
    "    '67': 'সাতষট্টি',\n",
    "    '68': 'আটষট্টি',\n",
    "    '69': 'ঊনসত্তর',\n",
    "    '70': 'সত্তর',\n",
    "    '71': 'একাত্তর',\n",
    "    '72': 'বাহাত্তর',\n",
    "    '73': 'তিয়াত্তর',\n",
    "    '74': 'চুয়াত্তর',\n",
    "    '75': 'পঁচাত্তর',\n",
    "    '76': 'ছিয়াত্তর',\n",
    "    '77': 'সাতাত্তর',\n",
    "    '78': 'আটাত্তর',\n",
    "    '79': 'ঊনআশি',\n",
    "    '80': 'আশি',\n",
    "    '81': 'একাশি',\n",
    "    '82': 'বিরাশি',\n",
    "    '83': 'তিরাশি',\n",
    "    '84': 'চুরাশি',\n",
    "    '85': 'পঁচাশি',\n",
    "    '86': 'ছিয়াশি',\n",
    "    '87': 'সাতাশি',\n",
    "    '88': 'আটাশি',\n",
    "    '89': 'ঊননব্বই',\n",
    "    '90': 'নব্বই',\n",
    "    '91': 'একানব্বই',\n",
    "    '92': 'বিরানব্বই',\n",
    "    '93': 'তিরানব্বই',\n",
    "    '94': 'চুরানব্বই',\n",
    "    '95': 'পঁচানব্বই',\n",
    "    '96': 'ছিয়ানব্বই',\n",
    "    '97': 'সাতানব্বই',\n",
    "    '98': 'আটানব্বই',\n",
    "    '99': 'নিরানব্বই',\n",
    "    '100': 'একশো',\n",
    "}\n",
    "\n",
    "units = {\n",
    "    'koti': 'কোটি',\n",
    "    'lokkho': 'লক্ষ',\n",
    "    'hazar': 'হাজার',\n",
    "    'sotok': 'শো',\n",
    "    'ekok': '',\n",
    "}\n",
    "\n",
    "\n",
    "def input_sanitizer(number):\n",
    "    if isinstance(number, float) or isinstance(number, int) or \\\n",
    "            isinstance(number, str):\n",
    "        if isinstance(number, str):\n",
    "            try:\n",
    "                if \".\" in number:\n",
    "                    number = float(number)\n",
    "                else:\n",
    "                    number = int(number)\n",
    "            except ValueError:\n",
    "                return None\n",
    "        return number\n",
    "    else:\n",
    "        return None\n",
    "\n",
    "\n",
    "def generate_segments(number):\n",
    "    \"\"\"\n",
    "    Generating the unit segments such as koti, lokkho\n",
    "    \"\"\"\n",
    "    segments = dict()\n",
    "    segments['koti'] = math.floor(number/10000000)\n",
    "    number = number % 10000000\n",
    "    segments['lokkho'] = math.floor(number/100000)\n",
    "    number = number % 100000\n",
    "    segments['hazar'] = math.floor(number/1000)\n",
    "    number = number % 1000\n",
    "    segments['sotok'] = math.floor(number/100)\n",
    "    number = number % 100\n",
    "    segments['ekok'] = number\n",
    "\n",
    "    return segments\n",
    "\n",
    "\n",
    "def float_int_extraction(number):\n",
    "    \"\"\"\n",
    "    Extracting the float and int part from the passed number. The first return\n",
    "    is the part before the decimal point and the rest is the fraction.\n",
    "    \"\"\"\n",
    "    _number = str(number)\n",
    "    if \".\" in _number:\n",
    "        return tuple([int(x) for x in _number.split(\".\")])\n",
    "    else:\n",
    "        return number, None\n",
    "\n",
    "\n",
    "def whole_part_word_gen(segments):\n",
    "    \"\"\"\n",
    "    Generating the bengali word for the whole part of the number\n",
    "    \"\"\"\n",
    "    generated_words = ''\n",
    "    for segment in segments:\n",
    "        if segments[segment]:\n",
    "           \n",
    "            if segment==\"sotok\":\n",
    "                generated_words += numeric_words[str(segments[segment])] + \\\n",
    "                                   \"\"+ units[segment] + \" \"\n",
    "            else:\n",
    "                generated_words += numeric_words[str(segments[segment])] + \\\n",
    "                \" \" + units[segment] + \" \"\n",
    "\n",
    "    return generated_words[:-2]\n",
    "\n",
    "\n",
    "def fraction_to_words(fraction):\n",
    "    \"\"\"\n",
    "    Generating bengali words for the part after the decimal point\n",
    "    \"\"\"\n",
    "    generated_words = \"\"\n",
    "    for digit in str(fraction):\n",
    "        generated_words += numeric_words[digit] + \" \"\n",
    "    return generated_words[:-1]\n",
    "\n",
    "\n",
    "def to_bn_word(number):\n",
    "    \"\"\"\n",
    "    Takes a number and outputs the word form in Bengali for that number.\n",
    "    \"\"\"\n",
    "    if len(number)>9:\n",
    "        return 'এক'\n",
    "    generated_words = \"\"\n",
    "    number = input_sanitizer(number)\n",
    "\n",
    "    whole, fraction = float_int_extraction(number)\n",
    "\n",
    "    whole_segments = generate_segments(whole)\n",
    "\n",
    "    generated_words = whole_part_word_gen(whole_segments)\n",
    "\n",
    "    if fraction:\n",
    "        if generated_words:\n",
    "            return generated_words + \" দশমিক \" + fraction_to_words(fraction)\n",
    "        else:\n",
    "            return \"দশমিক \" + fraction_to_words(fraction)\n",
    "    else:\n",
    "        return generated_words"
   ]
  },
  {
   "cell_type": "code",
   "execution_count": 36,
   "id": "069564b4",
   "metadata": {
    "execution": {
     "iopub.execute_input": "2023-10-19T06:52:43.884066Z",
     "iopub.status.busy": "2023-10-19T06:52:43.883746Z",
     "iopub.status.idle": "2023-10-19T06:52:43.889526Z",
     "shell.execute_reply": "2023-10-19T06:52:43.888747Z"
    },
    "papermill": {
     "duration": 0.022854,
     "end_time": "2023-10-19T06:52:43.891199",
     "exception": false,
     "start_time": "2023-10-19T06:52:43.868345",
     "status": "completed"
    },
    "tags": []
   },
   "outputs": [],
   "source": [
    "num_dict={}\n",
    "def num_to_text(string ):\n",
    "    temp=[]\n",
    "    pattern_to_keep = r'\\d+'\n",
    "    m=re.split(\"[অ-হ]|-| \",string)\n",
    "    for k in m :\n",
    "        if re.search('[১-৯]',k):\n",
    "            result = re.sub(f'(?:(?!{pattern_to_keep}).)*', '', k)\n",
    "            temp.append(result)\n",
    "    \n",
    "    if len(temp)<1:\n",
    "        return string\n",
    "    for i in temp:\n",
    "        if i in num_dict:\n",
    "            string=re.sub(i,num_dict[i],string)\n",
    "        else:\n",
    "            num_dict[i]=to_bn_word(i)\n",
    "            string=re.sub(i,num_dict[i],string)\n",
    "    return string"
   ]
  },
  {
   "cell_type": "code",
   "execution_count": 37,
   "id": "a1246a25",
   "metadata": {
    "execution": {
     "iopub.execute_input": "2023-10-19T06:52:43.921540Z",
     "iopub.status.busy": "2023-10-19T06:52:43.921247Z",
     "iopub.status.idle": "2023-10-19T06:52:43.951004Z",
     "shell.execute_reply": "2023-10-19T06:52:43.949916Z"
    },
    "papermill": {
     "duration": 0.046994,
     "end_time": "2023-10-19T06:52:43.952854",
     "exception": false,
     "start_time": "2023-10-19T06:52:43.905860",
     "status": "completed"
    },
    "tags": []
   },
   "outputs": [
    {
     "name": "stdout",
     "output_type": "stream",
     "text": [
      "Length of the Df = (9601, 2)\n"
     ]
    }
   ],
   "source": [
    "filt_cond = [\"১-৯\", 'A-Za-z0-9']\n",
    "# Filtering text samples that contain English alphanumeric values\n",
    "filt = test_df[lambda x: x[\"text\"].str.contains(\"[১-৯]\")]\n",
    "filt = filt.reset_index(drop=True)\n",
    "print(f'Length of the Df = {filt.shape}')"
   ]
  },
  {
   "cell_type": "code",
   "execution_count": 38,
   "id": "53466a73",
   "metadata": {
    "execution": {
     "iopub.execute_input": "2023-10-19T06:52:43.983567Z",
     "iopub.status.busy": "2023-10-19T06:52:43.983231Z",
     "iopub.status.idle": "2023-10-19T06:52:44.147823Z",
     "shell.execute_reply": "2023-10-19T06:52:44.146886Z"
    },
    "papermill": {
     "duration": 0.181924,
     "end_time": "2023-10-19T06:52:44.149691",
     "exception": false,
     "start_time": "2023-10-19T06:52:43.967767",
     "status": "completed"
    },
    "tags": []
   },
   "outputs": [
    {
     "name": "stdout",
     "output_type": "stream",
     "text": [
      "bɪʃɔʲtɪ nɪʲe ɐgɐmɪ pɔɾɪ ɔktobɔɾ eksel lod punoɾnɪɾd̪ʱɐɾon kɔmɪtɪɾ ʃɔbʱɐ hɔbe।\n"
     ]
    },
    {
     "data": {
      "text/plain": [
       "'বিষয়টি নিয়ে আগামী ১৩ অক্টোবর এক্সেল লোড পুনর্নির্ধারণ কমিটির সভা হবে।'"
      ]
     },
     "execution_count": 38,
     "metadata": {},
     "output_type": "execute_result"
    }
   ],
   "source": [
    "ind = np.random.randint(0, len(filt))\n",
    "print(ipa_converter(filt.text[ind]))\n",
    "filt.text[ind]"
   ]
  },
  {
   "cell_type": "code",
   "execution_count": 39,
   "id": "2c5e9e93",
   "metadata": {
    "execution": {
     "iopub.execute_input": "2023-10-19T06:52:44.181640Z",
     "iopub.status.busy": "2023-10-19T06:52:44.181334Z",
     "iopub.status.idle": "2023-10-19T06:52:44.187499Z",
     "shell.execute_reply": "2023-10-19T06:52:44.186599Z"
    },
    "papermill": {
     "duration": 0.023945,
     "end_time": "2023-10-19T06:52:44.189436",
     "exception": false,
     "start_time": "2023-10-19T06:52:44.165491",
     "status": "completed"
    },
    "tags": []
   },
   "outputs": [
    {
     "data": {
      "text/plain": [
       "'রয়েছে'"
      ]
     },
     "execution_count": 39,
     "metadata": {},
     "output_type": "execute_result"
    }
   ],
   "source": [
    "num_to_text('রয়েছে')"
   ]
  },
  {
   "cell_type": "markdown",
   "id": "133f753f",
   "metadata": {
    "papermill": {
     "duration": 0.015045,
     "end_time": "2023-10-19T06:52:44.219366",
     "exception": false,
     "start_time": "2023-10-19T06:52:44.204321",
     "status": "completed"
    },
    "tags": []
   },
   "source": [
    "###  VIP Cell "
   ]
  },
  {
   "cell_type": "code",
   "execution_count": 40,
   "id": "4f90ae96",
   "metadata": {
    "execution": {
     "iopub.execute_input": "2023-10-19T06:52:44.250284Z",
     "iopub.status.busy": "2023-10-19T06:52:44.249799Z",
     "iopub.status.idle": "2023-10-19T06:52:44.726208Z",
     "shell.execute_reply": "2023-10-19T06:52:44.725152Z"
    },
    "papermill": {
     "duration": 0.494242,
     "end_time": "2023-10-19T06:52:44.728570",
     "exception": false,
     "start_time": "2023-10-19T06:52:44.234328",
     "status": "completed"
    },
    "tags": []
   },
   "outputs": [],
   "source": [
    "filt['ctext'] = filt['text'].apply(num_to_text)"
   ]
  },
  {
   "cell_type": "markdown",
   "id": "2527b743",
   "metadata": {
    "papermill": {
     "duration": 0.015461,
     "end_time": "2023-10-19T06:52:44.760535",
     "exception": false,
     "start_time": "2023-10-19T06:52:44.745074",
     "status": "completed"
    },
    "tags": []
   },
   "source": [
    "###  Change *The Test Set Numbers to Words*"
   ]
  },
  {
   "cell_type": "code",
   "execution_count": 41,
   "id": "e60bc4c3",
   "metadata": {
    "execution": {
     "iopub.execute_input": "2023-10-19T06:52:44.792505Z",
     "iopub.status.busy": "2023-10-19T06:52:44.792190Z",
     "iopub.status.idle": "2023-10-19T06:52:45.926939Z",
     "shell.execute_reply": "2023-10-19T06:52:45.926025Z"
    },
    "papermill": {
     "duration": 1.152906,
     "end_time": "2023-10-19T06:52:45.928733",
     "exception": false,
     "start_time": "2023-10-19T06:52:44.775827",
     "status": "completed"
    },
    "tags": []
   },
   "outputs": [
    {
     "name": "stderr",
     "output_type": "stream",
     "text": [
      "100%|██████████| 27228/27228 [00:01<00:00, 24193.96it/s]\n"
     ]
    }
   ],
   "source": [
    "tqdm.pandas()\n",
    "test_df['ctext'] = test_df['text'].progress_apply(num_to_text)"
   ]
  },
  {
   "cell_type": "code",
   "execution_count": 42,
   "id": "2b8fcbf0",
   "metadata": {
    "execution": {
     "iopub.execute_input": "2023-10-19T06:52:45.960253Z",
     "iopub.status.busy": "2023-10-19T06:52:45.959941Z",
     "iopub.status.idle": "2023-10-19T06:52:45.968958Z",
     "shell.execute_reply": "2023-10-19T06:52:45.968119Z"
    },
    "papermill": {
     "duration": 0.026349,
     "end_time": "2023-10-19T06:52:45.970628",
     "exception": false,
     "start_time": "2023-10-19T06:52:45.944279",
     "status": "completed"
    },
    "tags": []
   },
   "outputs": [
    {
     "data": {
      "text/html": [
       "<div>\n",
       "<style scoped>\n",
       "    .dataframe tbody tr th:only-of-type {\n",
       "        vertical-align: middle;\n",
       "    }\n",
       "\n",
       "    .dataframe tbody tr th {\n",
       "        vertical-align: top;\n",
       "    }\n",
       "\n",
       "    .dataframe thead th {\n",
       "        text-align: right;\n",
       "    }\n",
       "</style>\n",
       "<table border=\"1\" class=\"dataframe\">\n",
       "  <thead>\n",
       "    <tr style=\"text-align: right;\">\n",
       "      <th></th>\n",
       "      <th>row_id_column_name</th>\n",
       "      <th>text</th>\n",
       "      <th>ctext</th>\n",
       "    </tr>\n",
       "  </thead>\n",
       "  <tbody>\n",
       "    <tr>\n",
       "      <th>0</th>\n",
       "      <td>0</td>\n",
       "      <td>বিশেষ অতিথি এফএম ইকবাল বিন আনোয়ার (ডন) অ্যাডিশ...</td>\n",
       "      <td>বিশেষ অতিথি এফএম ইকবাল বিন আনোয়ার (ডন) অ্যাডিশ...</td>\n",
       "    </tr>\n",
       "    <tr>\n",
       "      <th>1</th>\n",
       "      <td>1</td>\n",
       "      <td>এ নিয়ে বিবাদে ২০১৫ সালের ২ জুন রাত সাড়ে ১১টায় ...</td>\n",
       "      <td>এ নিয়ে বিবাদে দুই হাজার পনের সালের দুই জুন রাত...</td>\n",
       "    </tr>\n",
       "  </tbody>\n",
       "</table>\n",
       "</div>"
      ],
      "text/plain": [
       "   row_id_column_name                                               text  \\\n",
       "0                   0  বিশেষ অতিথি এফএম ইকবাল বিন আনোয়ার (ডন) অ্যাডিশ...   \n",
       "1                   1  এ নিয়ে বিবাদে ২০১৫ সালের ২ জুন রাত সাড়ে ১১টায় ...   \n",
       "\n",
       "                                               ctext  \n",
       "0  বিশেষ অতিথি এফএম ইকবাল বিন আনোয়ার (ডন) অ্যাডিশ...  \n",
       "1  এ নিয়ে বিবাদে দুই হাজার পনের সালের দুই জুন রাত...  "
      ]
     },
     "execution_count": 42,
     "metadata": {},
     "output_type": "execute_result"
    }
   ],
   "source": [
    "test_df.head(2)"
   ]
  },
  {
   "cell_type": "code",
   "execution_count": 43,
   "id": "ba7521fc",
   "metadata": {
    "execution": {
     "iopub.execute_input": "2023-10-19T06:52:46.003701Z",
     "iopub.status.busy": "2023-10-19T06:52:46.003403Z",
     "iopub.status.idle": "2023-10-19T06:52:46.459196Z",
     "shell.execute_reply": "2023-10-19T06:52:46.458257Z"
    },
    "papermill": {
     "duration": 0.474982,
     "end_time": "2023-10-19T06:52:46.460909",
     "exception": false,
     "start_time": "2023-10-19T06:52:45.985927",
     "status": "completed"
    },
    "tags": []
   },
   "outputs": [
    {
     "name": "stderr",
     "output_type": "stream",
     "text": [
      "/opt/conda/lib/python3.10/site-packages/transformers/pipelines/base.py:1101: UserWarning: You seem to be using the pipelines sequentially on GPU. In order to maximize efficiency please use a dataset\n",
      "  warnings.warn(\n"
     ]
    },
    {
     "name": "stdout",
     "output_type": "stream",
     "text": [
      "d̪uɪ̯ hɐɟɐɾ ɛgɐɾo sɐleɾ cɛmpɪʲonʃo lɪg ʃemɪpʰɐɪ̯nɐle bɐɾselonɐɾ d̪ɐnɪ ɐlbɦeʃke bɐɟe tɛkol koɾeo̯ d̪ekʰecʰɪlen lɐl kɐɾd।\n"
     ]
    },
    {
     "data": {
      "text/plain": [
       "'দুই হাজার এগারো সালের চ্যাম্পিয়ন্স লীগ সেমিফাইনালে বার্সেলোনার দানি আলভেসকে বাজে ট্যাকল করেও দেখেছিলেন লাল কার্ড।'"
      ]
     },
     "execution_count": 43,
     "metadata": {},
     "output_type": "execute_result"
    }
   ],
   "source": [
    "ind = np.random.randint(0, len(filt))\n",
    "print(ipa_converter(filt.ctext[ind]))\n",
    "filt.ctext[ind]"
   ]
  },
  {
   "cell_type": "code",
   "execution_count": 44,
   "id": "5ce78417",
   "metadata": {
    "execution": {
     "iopub.execute_input": "2023-10-19T06:52:46.493664Z",
     "iopub.status.busy": "2023-10-19T06:52:46.493364Z",
     "iopub.status.idle": "2023-10-19T06:52:46.497515Z",
     "shell.execute_reply": "2023-10-19T06:52:46.496644Z"
    },
    "papermill": {
     "duration": 0.022809,
     "end_time": "2023-10-19T06:52:46.499313",
     "exception": false,
     "start_time": "2023-10-19T06:52:46.476504",
     "status": "completed"
    },
    "tags": []
   },
   "outputs": [],
   "source": [
    "# lib['শ্রেণীর']"
   ]
  },
  {
   "cell_type": "markdown",
   "id": "883e953c",
   "metadata": {
    "papermill": {
     "duration": 0.016332,
     "end_time": "2023-10-19T06:52:46.533142",
     "exception": false,
     "start_time": "2023-10-19T06:52:46.516810",
     "status": "completed"
    },
    "tags": []
   },
   "source": [
    "### Handle This Library Error"
   ]
  },
  {
   "cell_type": "code",
   "execution_count": 45,
   "id": "3b315998",
   "metadata": {
    "execution": {
     "iopub.execute_input": "2023-10-19T06:52:46.565667Z",
     "iopub.status.busy": "2023-10-19T06:52:46.565372Z",
     "iopub.status.idle": "2023-10-19T06:52:46.615408Z",
     "shell.execute_reply": "2023-10-19T06:52:46.614412Z"
    },
    "papermill": {
     "duration": 0.068495,
     "end_time": "2023-10-19T06:52:46.617190",
     "exception": false,
     "start_time": "2023-10-19T06:52:46.548695",
     "status": "completed"
    },
    "tags": []
   },
   "outputs": [
    {
     "name": "stdout",
     "output_type": "stream",
     "text": [
      "0\n"
     ]
    }
   ],
   "source": [
    "y = list(lib.keys())\n",
    "x = list(lib.values())\n",
    "c  = 0\n",
    "bengali_char_pattern = re.compile(r'[\\u0980-\\u09FF]')\n",
    "for k,v in zip(y, x):\n",
    "    if re.search(bengali_char_pattern,v):\n",
    "        print(f'found {k}  {v} ')\n",
    "        c += 1\n",
    "        if c > 9:\n",
    "            break\n",
    "print(c)"
   ]
  },
  {
   "cell_type": "code",
   "execution_count": 46,
   "id": "b6a7cf2f",
   "metadata": {
    "execution": {
     "iopub.execute_input": "2023-10-19T06:52:46.651152Z",
     "iopub.status.busy": "2023-10-19T06:52:46.650791Z",
     "iopub.status.idle": "2023-10-19T06:52:47.179741Z",
     "shell.execute_reply": "2023-10-19T06:52:47.178774Z"
    },
    "papermill": {
     "duration": 0.548338,
     "end_time": "2023-10-19T06:52:47.181801",
     "exception": false,
     "start_time": "2023-10-19T06:52:46.633463",
     "status": "completed"
    },
    "tags": []
   },
   "outputs": [
    {
     "data": {
      "text/plain": [
       "'t̪ɐɾ ʃɐɾɐ শ্রেণির ɔcɪnt̪o ʃoɾɪɾe bɦo̯t̪ɐ ɔst̪ɾeɾ ɐtt̪ɾɪʃtɪ ɐgʱɐt̪ ɾoʲecʰe।'"
      ]
     },
     "execution_count": 46,
     "metadata": {},
     "output_type": "execute_result"
    }
   ],
   "source": [
    "txt = 'তার সারা শ্রেণীর অচিন্ত শরীরে ভোঁতা অস্ত্রের আটত্রিশটি আঘাত রয়েছে।'\n",
    "ipa_converter(txt)"
   ]
  },
  {
   "cell_type": "code",
   "execution_count": 47,
   "id": "143bc2c7",
   "metadata": {
    "execution": {
     "iopub.execute_input": "2023-10-19T06:52:47.215175Z",
     "iopub.status.busy": "2023-10-19T06:52:47.214809Z",
     "iopub.status.idle": "2023-10-19T06:52:47.220743Z",
     "shell.execute_reply": "2023-10-19T06:52:47.219789Z"
    },
    "papermill": {
     "duration": 0.024717,
     "end_time": "2023-10-19T06:52:47.222595",
     "exception": false,
     "start_time": "2023-10-19T06:52:47.197878",
     "status": "completed"
    },
    "tags": []
   },
   "outputs": [
    {
     "data": {
      "text/plain": [
       "34505"
      ]
     },
     "execution_count": 47,
     "metadata": {},
     "output_type": "execute_result"
    }
   ],
   "source": [
    "len(lib)"
   ]
  },
  {
   "cell_type": "code",
   "execution_count": 48,
   "id": "effb53b4",
   "metadata": {
    "execution": {
     "iopub.execute_input": "2023-10-19T06:52:47.257475Z",
     "iopub.status.busy": "2023-10-19T06:52:47.257146Z",
     "iopub.status.idle": "2023-10-19T06:52:47.813546Z",
     "shell.execute_reply": "2023-10-19T06:52:47.812562Z"
    },
    "papermill": {
     "duration": 0.57604,
     "end_time": "2023-10-19T06:52:47.815513",
     "exception": false,
     "start_time": "2023-10-19T06:52:47.239473",
     "status": "completed"
    },
    "tags": []
   },
   "outputs": [
    {
     "data": {
      "text/plain": [
       "'t̪ɐɾ ʃɐɾɐ sɾenɪɾ ɔcɪnt̪o ʃoɾɪɾe bɦõt̪ɐ ɔst̪ɾeɾ ɐtt̪ɾɪʃtɪ ɐgʱɐt̪ ɾoʲecʰe।'"
      ]
     },
     "execution_count": 48,
     "metadata": {},
     "output_type": "execute_result"
    }
   ],
   "source": [
    "txt = 'তার সারা শ্রেণীর অচিন্ত শরীরে ভোঁতা অস্ত্রের আটত্রিশটি আঘাত রয়েছে।'\n",
    "ipa_converter(txt)"
   ]
  },
  {
   "cell_type": "markdown",
   "id": "ec550458",
   "metadata": {
    "papermill": {
     "duration": 0.016061,
     "end_time": "2023-10-19T06:52:47.848050",
     "exception": false,
     "start_time": "2023-10-19T06:52:47.831989",
     "status": "completed"
    },
    "tags": []
   },
   "source": [
    "#### Fixed in the upper part"
   ]
  },
  {
   "cell_type": "markdown",
   "id": "c208c8ce",
   "metadata": {
    "papermill": {
     "duration": 0.016109,
     "end_time": "2023-10-19T06:52:47.880102",
     "exception": false,
     "start_time": "2023-10-19T06:52:47.863993",
     "status": "completed"
    },
    "tags": []
   },
   "source": [
    "## Change this Part Idea and Code `Nannu`"
   ]
  },
  {
   "cell_type": "code",
   "execution_count": 49,
   "id": "7a7d4e4d",
   "metadata": {
    "execution": {
     "iopub.execute_input": "2023-10-19T06:52:47.913662Z",
     "iopub.status.busy": "2023-10-19T06:52:47.913314Z",
     "iopub.status.idle": "2023-10-19T06:52:47.918437Z",
     "shell.execute_reply": "2023-10-19T06:52:47.917496Z"
    },
    "papermill": {
     "duration": 0.02457,
     "end_time": "2023-10-19T06:52:47.920250",
     "exception": false,
     "start_time": "2023-10-19T06:52:47.895680",
     "status": "completed"
    },
    "tags": []
   },
   "outputs": [],
   "source": [
    "dict_change={\n",
    "    \"bɦ\":\"bʱ\",\n",
    "    \"dɦ\":\"dʱ\",\n",
    "    \"oɦ\":'oʱ',\n",
    "    \"nɦ\":'nʱ',\n",
    "    \"ɟɦ\":'ɟʱ',\n",
    "    \"ɽɦ\":'ɽʱ',\n",
    "    \"gɦ\":'gʱ',\n",
    "    \"tɦ\":'tʱ',\n",
    "     \"d̪ɦ\":'d̪ʱ',\n",
    "     \"j\":\"ʲ\",\n",
    "     \"kh\":\"kʰ\",\n",
    "     \"t̪h\":\"t̪ʰ\",\n",
    "    \"ph\":\"pʰ\",\n",
    "    \"ch\":\"cʰ\",\n",
    "    \"w\":\"ʷ\"\n",
    "}"
   ]
  },
  {
   "cell_type": "code",
   "execution_count": 50,
   "id": "c009f5cb",
   "metadata": {
    "execution": {
     "iopub.execute_input": "2023-10-19T06:52:47.953430Z",
     "iopub.status.busy": "2023-10-19T06:52:47.952590Z",
     "iopub.status.idle": "2023-10-19T06:52:47.959770Z",
     "shell.execute_reply": "2023-10-19T06:52:47.959017Z"
    },
    "papermill": {
     "duration": 0.025465,
     "end_time": "2023-10-19T06:52:47.961541",
     "exception": false,
     "start_time": "2023-10-19T06:52:47.936076",
     "status": "completed"
    },
    "tags": []
   },
   "outputs": [
    {
     "data": {
      "text/plain": [
       "re.compile(r'bɦ|dɦ|oɦ|nɦ|ɟɦ|ɽɦ|gɦ|tɦ|d̪ɦ|j|kh|t̪h|ph|ch|w', re.UNICODE)"
      ]
     },
     "execution_count": 50,
     "metadata": {},
     "output_type": "execute_result"
    }
   ],
   "source": [
    "pattern = re.compile('|'.join(re.escape(key) for key in dict_change.keys()))\n",
    "\n",
    "# Define a function to perform replacements\n",
    "def replace(match):\n",
    "    return dict_change[match.group(0)]\n",
    "\n",
    "# Use re.sub() to perform replacements\n",
    "def output(input_string):\n",
    "    return pattern.sub(replace, input_string)\n",
    "pattern"
   ]
  },
  {
   "cell_type": "code",
   "execution_count": 51,
   "id": "2848cdb9",
   "metadata": {
    "execution": {
     "iopub.execute_input": "2023-10-19T06:52:47.996332Z",
     "iopub.status.busy": "2023-10-19T06:52:47.996050Z",
     "iopub.status.idle": "2023-10-19T06:52:48.001865Z",
     "shell.execute_reply": "2023-10-19T06:52:48.000907Z"
    },
    "papermill": {
     "duration": 0.025456,
     "end_time": "2023-10-19T06:52:48.003679",
     "exception": false,
     "start_time": "2023-10-19T06:52:47.978223",
     "status": "completed"
    },
    "tags": []
   },
   "outputs": [
    {
     "data": {
      "text/plain": [
       "'t̪ɐɾ ʃɐɾɐ শ্রেণির ɔcɪnt̪o ʃoɾɪɾe bʱõt̪ɐ ɔst̪ɾeɾ ɐtt̪ɾɪʃtɪ ɐgʱɐt̪ ɾoʲecʰe।'"
      ]
     },
     "execution_count": 51,
     "metadata": {},
     "output_type": "execute_result"
    }
   ],
   "source": [
    "tst = 't̪ɐɾ ʃɐɾɐ শ্রেণির ɔcɪnt̪o ʃoɾɪɾe bɦõt̪ɐ ɔst̪ɾeɾ ɐtt̪ɾɪʃtɪ ɐgʱɐt̪ ɾoʲecʰe।'\n",
    "output(tst)"
   ]
  },
  {
   "cell_type": "markdown",
   "id": "78d96027",
   "metadata": {
    "papermill": {
     "duration": 0.016567,
     "end_time": "2023-10-19T06:52:48.036877",
     "exception": false,
     "start_time": "2023-10-19T06:52:48.020310",
     "status": "completed"
    },
    "tags": []
   },
   "source": [
    "## Seems ok for the moment. Now Just Make a submission File"
   ]
  },
  {
   "cell_type": "code",
   "execution_count": 52,
   "id": "558c71a8",
   "metadata": {
    "execution": {
     "iopub.execute_input": "2023-10-19T06:52:48.070927Z",
     "iopub.status.busy": "2023-10-19T06:52:48.070095Z",
     "iopub.status.idle": "2023-10-19T06:52:48.079012Z",
     "shell.execute_reply": "2023-10-19T06:52:48.078138Z"
    },
    "papermill": {
     "duration": 0.027763,
     "end_time": "2023-10-19T06:52:48.080722",
     "exception": false,
     "start_time": "2023-10-19T06:52:48.052959",
     "status": "completed"
    },
    "tags": []
   },
   "outputs": [
    {
     "data": {
      "text/html": [
       "<div>\n",
       "<style scoped>\n",
       "    .dataframe tbody tr th:only-of-type {\n",
       "        vertical-align: middle;\n",
       "    }\n",
       "\n",
       "    .dataframe tbody tr th {\n",
       "        vertical-align: top;\n",
       "    }\n",
       "\n",
       "    .dataframe thead th {\n",
       "        text-align: right;\n",
       "    }\n",
       "</style>\n",
       "<table border=\"1\" class=\"dataframe\">\n",
       "  <thead>\n",
       "    <tr style=\"text-align: right;\">\n",
       "      <th></th>\n",
       "      <th>row_id_column_name</th>\n",
       "      <th>text</th>\n",
       "      <th>ctext</th>\n",
       "    </tr>\n",
       "  </thead>\n",
       "  <tbody>\n",
       "    <tr>\n",
       "      <th>0</th>\n",
       "      <td>0</td>\n",
       "      <td>বিশেষ অতিথি এফএম ইকবাল বিন আনোয়ার (ডন) অ্যাডিশ...</td>\n",
       "      <td>বিশেষ অতিথি এফএম ইকবাল বিন আনোয়ার (ডন) অ্যাডিশ...</td>\n",
       "    </tr>\n",
       "    <tr>\n",
       "      <th>1</th>\n",
       "      <td>1</td>\n",
       "      <td>এ নিয়ে বিবাদে ২০১৫ সালের ২ জুন রাত সাড়ে ১১টায় ...</td>\n",
       "      <td>এ নিয়ে বিবাদে দুই হাজার পনের সালের দুই জুন রাত...</td>\n",
       "    </tr>\n",
       "    <tr>\n",
       "      <th>2</th>\n",
       "      <td>2</td>\n",
       "      <td>আজ থেকে ১৪ বছর আগে তিনি চলে গেছেন না ফেরার দেশে।</td>\n",
       "      <td>আজ থেকে চৌদ্দ বছর আগে তিনি চলে গেছেন না ফেরার ...</td>\n",
       "    </tr>\n",
       "    <tr>\n",
       "      <th>3</th>\n",
       "      <td>3</td>\n",
       "      <td>নিহত ব্যক্তি কুতপালং টালের ই-২ ব্লকের আবুল বাছ...</td>\n",
       "      <td>নিহত ব্যক্তি কুতপালং টালের ই-দুই ব্লকের আবুল ব...</td>\n",
       "    </tr>\n",
       "    <tr>\n",
       "      <th>4</th>\n",
       "      <td>4</td>\n",
       "      <td>সংক্ষিপ্ত স্কোরশ্রীলংকা প্রথম ইনিংস ৪৮২ (করুনা...</td>\n",
       "      <td>সংক্ষিপ্ত স্কোরশ্রীলংকা প্রথম ইনিংস চারশো বিরা...</td>\n",
       "    </tr>\n",
       "  </tbody>\n",
       "</table>\n",
       "</div>"
      ],
      "text/plain": [
       "   row_id_column_name                                               text  \\\n",
       "0                   0  বিশেষ অতিথি এফএম ইকবাল বিন আনোয়ার (ডন) অ্যাডিশ...   \n",
       "1                   1  এ নিয়ে বিবাদে ২০১৫ সালের ২ জুন রাত সাড়ে ১১টায় ...   \n",
       "2                   2   আজ থেকে ১৪ বছর আগে তিনি চলে গেছেন না ফেরার দেশে।   \n",
       "3                   3  নিহত ব্যক্তি কুতপালং টালের ই-২ ব্লকের আবুল বাছ...   \n",
       "4                   4  সংক্ষিপ্ত স্কোরশ্রীলংকা প্রথম ইনিংস ৪৮২ (করুনা...   \n",
       "\n",
       "                                               ctext  \n",
       "0  বিশেষ অতিথি এফএম ইকবাল বিন আনোয়ার (ডন) অ্যাডিশ...  \n",
       "1  এ নিয়ে বিবাদে দুই হাজার পনের সালের দুই জুন রাত...  \n",
       "2  আজ থেকে চৌদ্দ বছর আগে তিনি চলে গেছেন না ফেরার ...  \n",
       "3  নিহত ব্যক্তি কুতপালং টালের ই-দুই ব্লকের আবুল ব...  \n",
       "4  সংক্ষিপ্ত স্কোরশ্রীলংকা প্রথম ইনিংস চারশো বিরা...  "
      ]
     },
     "execution_count": 52,
     "metadata": {},
     "output_type": "execute_result"
    }
   ],
   "source": [
    "test_df.head()"
   ]
  },
  {
   "cell_type": "code",
   "execution_count": 53,
   "id": "b22f16f0",
   "metadata": {
    "execution": {
     "iopub.execute_input": "2023-10-19T06:52:48.114257Z",
     "iopub.status.busy": "2023-10-19T06:52:48.113946Z",
     "iopub.status.idle": "2023-10-19T06:53:17.852218Z",
     "shell.execute_reply": "2023-10-19T06:53:17.851119Z"
    },
    "papermill": {
     "duration": 29.757223,
     "end_time": "2023-10-19T06:53:17.854130",
     "exception": false,
     "start_time": "2023-10-19T06:52:48.096907",
     "status": "completed"
    },
    "tags": []
   },
   "outputs": [
    {
     "name": "stderr",
     "output_type": "stream",
     "text": [
      "  0%|          | 0/100 [00:00<?, ?it/s]/opt/conda/lib/python3.10/site-packages/transformers/pipelines/base.py:1101: UserWarning: You seem to be using the pipelines sequentially on GPU. In order to maximize efficiency please use a dataset\n",
      "  warnings.warn(\n",
      "100%|██████████| 100/100 [00:29<00:00,  3.36it/s]\n"
     ]
    }
   ],
   "source": [
    "tqdm.pandas()\n",
    "test_df['ipa'] = test_df['ctext'][:100].progress_apply(ipa_converter)"
   ]
  },
  {
   "cell_type": "code",
   "execution_count": 54,
   "id": "a81783ed",
   "metadata": {
    "execution": {
     "iopub.execute_input": "2023-10-19T06:53:17.899285Z",
     "iopub.status.busy": "2023-10-19T06:53:17.898608Z",
     "iopub.status.idle": "2023-10-19T06:53:17.911083Z",
     "shell.execute_reply": "2023-10-19T06:53:17.910127Z"
    },
    "papermill": {
     "duration": 0.036014,
     "end_time": "2023-10-19T06:53:17.912821",
     "exception": false,
     "start_time": "2023-10-19T06:53:17.876807",
     "status": "completed"
    },
    "tags": []
   },
   "outputs": [
    {
     "name": "stderr",
     "output_type": "stream",
     "text": [
      "100%|██████████| 100/100 [00:00<00:00, 63291.14it/s]\n"
     ]
    }
   ],
   "source": [
    "tqdm.pandas()\n",
    "test_df['fipa'] = test_df['ipa'][:100].progress_apply(output)"
   ]
  },
  {
   "cell_type": "code",
   "execution_count": 55,
   "id": "44062bc6",
   "metadata": {
    "execution": {
     "iopub.execute_input": "2023-10-19T06:53:17.958312Z",
     "iopub.status.busy": "2023-10-19T06:53:17.957582Z",
     "iopub.status.idle": "2023-10-19T06:53:17.967928Z",
     "shell.execute_reply": "2023-10-19T06:53:17.966989Z"
    },
    "papermill": {
     "duration": 0.03369,
     "end_time": "2023-10-19T06:53:17.969730",
     "exception": false,
     "start_time": "2023-10-19T06:53:17.936040",
     "status": "completed"
    },
    "tags": []
   },
   "outputs": [
    {
     "data": {
      "text/html": [
       "<div>\n",
       "<style scoped>\n",
       "    .dataframe tbody tr th:only-of-type {\n",
       "        vertical-align: middle;\n",
       "    }\n",
       "\n",
       "    .dataframe tbody tr th {\n",
       "        vertical-align: top;\n",
       "    }\n",
       "\n",
       "    .dataframe thead th {\n",
       "        text-align: right;\n",
       "    }\n",
       "</style>\n",
       "<table border=\"1\" class=\"dataframe\">\n",
       "  <thead>\n",
       "    <tr style=\"text-align: right;\">\n",
       "      <th></th>\n",
       "      <th>row_id_column_name</th>\n",
       "      <th>text</th>\n",
       "      <th>ctext</th>\n",
       "      <th>ipa</th>\n",
       "      <th>fipa</th>\n",
       "    </tr>\n",
       "  </thead>\n",
       "  <tbody>\n",
       "    <tr>\n",
       "      <th>0</th>\n",
       "      <td>0</td>\n",
       "      <td>বিশেষ অতিথি এফএম ইকবাল বিন আনোয়ার (ডন) অ্যাডিশ...</td>\n",
       "      <td>বিশেষ অতিথি এফএম ইকবাল বিন আনোয়ার (ডন) অ্যাডিশ...</td>\n",
       "      <td>bɪʃeʃ ot̪ɪt̪ʰɪ phecem ɪkbɐl bɪn ɐnoʷɐɾ (dɔn) ɛ...</td>\n",
       "      <td>bɪʃeʃ ot̪ɪt̪ʰɪ pʰecem ɪkbɐl bɪn ɐnoʷɐɾ (dɔn) ɛ...</td>\n",
       "    </tr>\n",
       "    <tr>\n",
       "      <th>1</th>\n",
       "      <td>1</td>\n",
       "      <td>এ নিয়ে বিবাদে ২০১৫ সালের ২ জুন রাত সাড়ে ১১টায় ...</td>\n",
       "      <td>এ নিয়ে বিবাদে দুই হাজার পনের সালের দুই জুন রাত...</td>\n",
       "      <td>e nɪʲe bɪbɐd̪e d̪uɪ̯ hɐɟɐɾ pɔneɾo ʃɐleɾ d̪uɪ̯ ...</td>\n",
       "      <td>e nɪʲe bɪbɐd̪e d̪uɪ̯ hɐɟɐɾ pɔneɾo ʃɐleɾ d̪uɪ̯ ...</td>\n",
       "    </tr>\n",
       "    <tr>\n",
       "      <th>2</th>\n",
       "      <td>2</td>\n",
       "      <td>আজ থেকে ১৪ বছর আগে তিনি চলে গেছেন না ফেরার দেশে।</td>\n",
       "      <td>আজ থেকে চৌদ্দ বছর আগে তিনি চলে গেছেন না ফেরার ...</td>\n",
       "      <td>ɐɟ t̪ʰeke cou̯d̪d̪o bɔcʰoɾ ɐge t̪ɪnɪ cɔle gɛcʰ...</td>\n",
       "      <td>ɐɟ t̪ʰeke cou̯d̪d̪o bɔcʰoɾ ɐge t̪ɪnɪ cɔle gɛcʰ...</td>\n",
       "    </tr>\n",
       "    <tr>\n",
       "      <th>3</th>\n",
       "      <td>3</td>\n",
       "      <td>নিহত ব্যক্তি কুতপালং টালের ই-২ ব্লকের আবুল বাছ...</td>\n",
       "      <td>নিহত ব্যক্তি কুতপালং টালের ই-দুই ব্লকের আবুল ব...</td>\n",
       "      <td>nɪhɔt̪o bɛkt̪ɪ kut̪opɐlɪ tɐleɾ ɪ-d̪uɪ̯ blokeɾ ...</td>\n",
       "      <td>nɪhɔt̪o bɛkt̪ɪ kut̪opɐlɪ tɐleɾ ɪ-d̪uɪ̯ blokeɾ ...</td>\n",
       "    </tr>\n",
       "    <tr>\n",
       "      <th>4</th>\n",
       "      <td>4</td>\n",
       "      <td>সংক্ষিপ্ত স্কোরশ্রীলংকা প্রথম ইনিংস ৪৮২ (করুনা...</td>\n",
       "      <td>সংক্ষিপ্ত স্কোরশ্রীলংকা প্রথম ইনিংস চারশো বিরা...</td>\n",
       "      <td>ʃɔŋkkʰɪpt̪o skɾoɾsɾɪlɔŋkɐ pɾot̪ʰom ɪnɪŋʃo cɐɾʃ...</td>\n",
       "      <td>ʃɔŋkkʰɪpt̪o skɾoɾsɾɪlɔŋkɐ pɾot̪ʰom ɪnɪŋʃo cɐɾʃ...</td>\n",
       "    </tr>\n",
       "  </tbody>\n",
       "</table>\n",
       "</div>"
      ],
      "text/plain": [
       "   row_id_column_name                                               text  \\\n",
       "0                   0  বিশেষ অতিথি এফএম ইকবাল বিন আনোয়ার (ডন) অ্যাডিশ...   \n",
       "1                   1  এ নিয়ে বিবাদে ২০১৫ সালের ২ জুন রাত সাড়ে ১১টায় ...   \n",
       "2                   2   আজ থেকে ১৪ বছর আগে তিনি চলে গেছেন না ফেরার দেশে।   \n",
       "3                   3  নিহত ব্যক্তি কুতপালং টালের ই-২ ব্লকের আবুল বাছ...   \n",
       "4                   4  সংক্ষিপ্ত স্কোরশ্রীলংকা প্রথম ইনিংস ৪৮২ (করুনা...   \n",
       "\n",
       "                                               ctext  \\\n",
       "0  বিশেষ অতিথি এফএম ইকবাল বিন আনোয়ার (ডন) অ্যাডিশ...   \n",
       "1  এ নিয়ে বিবাদে দুই হাজার পনের সালের দুই জুন রাত...   \n",
       "2  আজ থেকে চৌদ্দ বছর আগে তিনি চলে গেছেন না ফেরার ...   \n",
       "3  নিহত ব্যক্তি কুতপালং টালের ই-দুই ব্লকের আবুল ব...   \n",
       "4  সংক্ষিপ্ত স্কোরশ্রীলংকা প্রথম ইনিংস চারশো বিরা...   \n",
       "\n",
       "                                                 ipa  \\\n",
       "0  bɪʃeʃ ot̪ɪt̪ʰɪ phecem ɪkbɐl bɪn ɐnoʷɐɾ (dɔn) ɛ...   \n",
       "1  e nɪʲe bɪbɐd̪e d̪uɪ̯ hɐɟɐɾ pɔneɾo ʃɐleɾ d̪uɪ̯ ...   \n",
       "2  ɐɟ t̪ʰeke cou̯d̪d̪o bɔcʰoɾ ɐge t̪ɪnɪ cɔle gɛcʰ...   \n",
       "3  nɪhɔt̪o bɛkt̪ɪ kut̪opɐlɪ tɐleɾ ɪ-d̪uɪ̯ blokeɾ ...   \n",
       "4  ʃɔŋkkʰɪpt̪o skɾoɾsɾɪlɔŋkɐ pɾot̪ʰom ɪnɪŋʃo cɐɾʃ...   \n",
       "\n",
       "                                                fipa  \n",
       "0  bɪʃeʃ ot̪ɪt̪ʰɪ pʰecem ɪkbɐl bɪn ɐnoʷɐɾ (dɔn) ɛ...  \n",
       "1  e nɪʲe bɪbɐd̪e d̪uɪ̯ hɐɟɐɾ pɔneɾo ʃɐleɾ d̪uɪ̯ ...  \n",
       "2  ɐɟ t̪ʰeke cou̯d̪d̪o bɔcʰoɾ ɐge t̪ɪnɪ cɔle gɛcʰ...  \n",
       "3  nɪhɔt̪o bɛkt̪ɪ kut̪opɐlɪ tɐleɾ ɪ-d̪uɪ̯ blokeɾ ...  \n",
       "4  ʃɔŋkkʰɪpt̪o skɾoɾsɾɪlɔŋkɐ pɾot̪ʰom ɪnɪŋʃo cɐɾʃ...  "
      ]
     },
     "execution_count": 55,
     "metadata": {},
     "output_type": "execute_result"
    }
   ],
   "source": [
    "test_df.head()"
   ]
  },
  {
   "cell_type": "markdown",
   "id": "7aca97f2",
   "metadata": {
    "papermill": {
     "duration": 0.020431,
     "end_time": "2023-10-19T06:53:18.011777",
     "exception": false,
     "start_time": "2023-10-19T06:53:17.991346",
     "status": "completed"
    },
    "tags": []
   },
   "source": [
    "## Check Manually"
   ]
  },
  {
   "cell_type": "code",
   "execution_count": 56,
   "id": "62f968cf",
   "metadata": {
    "execution": {
     "iopub.execute_input": "2023-10-19T06:53:18.053529Z",
     "iopub.status.busy": "2023-10-19T06:53:18.052671Z",
     "iopub.status.idle": "2023-10-19T06:53:18.058661Z",
     "shell.execute_reply": "2023-10-19T06:53:18.057900Z"
    },
    "papermill": {
     "duration": 0.028475,
     "end_time": "2023-10-19T06:53:18.060440",
     "exception": false,
     "start_time": "2023-10-19T06:53:18.031965",
     "status": "completed"
    },
    "tags": []
   },
   "outputs": [
    {
     "data": {
      "text/plain": [
       "('ɪt̪ɪmotd̪ʱe pɔncɐʃ hɐɟɐɾ gɐcʰeɾ cɐɾɐ lɐgɐno hoʲecʰe।',\n",
       " 'ɪt̪ɪmotd̪ʱe pɔncɐʃ hɐɟɐɾ gɐcʰeɾ cɐɾɐ lɐgɐno hoʲecʰe।')"
      ]
     },
     "execution_count": 56,
     "metadata": {},
     "output_type": "execute_result"
    }
   ],
   "source": [
    "ri = np.random.randint(0, 100)\n",
    "test_df['ipa'][ri], test_df['fipa'][ri]"
   ]
  },
  {
   "cell_type": "code",
   "execution_count": 57,
   "id": "9b5302e4",
   "metadata": {
    "execution": {
     "iopub.execute_input": "2023-10-19T06:53:18.102705Z",
     "iopub.status.busy": "2023-10-19T06:53:18.102063Z",
     "iopub.status.idle": "2023-10-19T06:53:18.286018Z",
     "shell.execute_reply": "2023-10-19T06:53:18.285085Z"
    },
    "papermill": {
     "duration": 0.207744,
     "end_time": "2023-10-19T06:53:18.288375",
     "exception": false,
     "start_time": "2023-10-19T06:53:18.080631",
     "status": "completed"
    },
    "tags": []
   },
   "outputs": [],
   "source": [
    "test_df.to_csv('submission.csv', index=False)"
   ]
  },
  {
   "cell_type": "code",
   "execution_count": 58,
   "id": "1d8a6154",
   "metadata": {
    "execution": {
     "iopub.execute_input": "2023-10-19T06:53:18.333675Z",
     "iopub.status.busy": "2023-10-19T06:53:18.333363Z",
     "iopub.status.idle": "2023-10-19T06:53:18.339137Z",
     "shell.execute_reply": "2023-10-19T06:53:18.338021Z"
    },
    "papermill": {
     "duration": 0.029869,
     "end_time": "2023-10-19T06:53:18.340982",
     "exception": false,
     "start_time": "2023-10-19T06:53:18.311113",
     "status": "completed"
    },
    "tags": []
   },
   "outputs": [
    {
     "name": "stdout",
     "output_type": "stream",
     "text": [
      "Text = স্বার্থান্ধদের কাছে মহত্ত্বের কোনো আবেদন নেই।\n",
      "Ipa = nan\n"
     ]
    }
   ],
   "source": [
    "# See a random sample from the test set \n",
    "rand_index = np.random.randint(0, len(test_df))\n",
    "print(f'Text = {test_df.text[rand_index]}\\nIpa = {test_df.ipa[rand_index]}')"
   ]
  },
  {
   "cell_type": "code",
   "execution_count": 59,
   "id": "ee7d3d92",
   "metadata": {
    "execution": {
     "iopub.execute_input": "2023-10-19T06:53:18.385056Z",
     "iopub.status.busy": "2023-10-19T06:53:18.384422Z",
     "iopub.status.idle": "2023-10-19T06:53:18.390202Z",
     "shell.execute_reply": "2023-10-19T06:53:18.389358Z"
    },
    "papermill": {
     "duration": 0.029257,
     "end_time": "2023-10-19T06:53:18.392059",
     "exception": false,
     "start_time": "2023-10-19T06:53:18.362802",
     "status": "completed"
    },
    "tags": []
   },
   "outputs": [
    {
     "data": {
      "text/plain": [
       "'mod̪d̪ʱe'"
      ]
     },
     "execution_count": 59,
     "metadata": {},
     "output_type": "execute_result"
    }
   ],
   "source": [
    "lib['মধ্যে']"
   ]
  },
  {
   "cell_type": "code",
   "execution_count": 60,
   "id": "4c878413",
   "metadata": {
    "execution": {
     "iopub.execute_input": "2023-10-19T06:53:18.434080Z",
     "iopub.status.busy": "2023-10-19T06:53:18.433788Z",
     "iopub.status.idle": "2023-10-19T06:53:18.437451Z",
     "shell.execute_reply": "2023-10-19T06:53:18.436616Z"
    },
    "papermill": {
     "duration": 0.026688,
     "end_time": "2023-10-19T06:53:18.439186",
     "exception": false,
     "start_time": "2023-10-19T06:53:18.412498",
     "status": "completed"
    },
    "tags": []
   },
   "outputs": [],
   "source": [
    "# lenli = []\n",
    "# for i in range(len(test_df)):\n",
    "#     l1 = len(test_df['text'][i].split())\n",
    "#     l2 = len(test_df['ipa'][i].split())\n",
    "#     lenli.append([l1, l2])"
   ]
  },
  {
   "cell_type": "code",
   "execution_count": 61,
   "id": "83ab09f4",
   "metadata": {
    "execution": {
     "iopub.execute_input": "2023-10-19T06:53:18.480752Z",
     "iopub.status.busy": "2023-10-19T06:53:18.480460Z",
     "iopub.status.idle": "2023-10-19T06:53:18.484298Z",
     "shell.execute_reply": "2023-10-19T06:53:18.483462Z"
    },
    "papermill": {
     "duration": 0.026892,
     "end_time": "2023-10-19T06:53:18.486013",
     "exception": false,
     "start_time": "2023-10-19T06:53:18.459121",
     "status": "completed"
    },
    "tags": []
   },
   "outputs": [],
   "source": [
    "# lenlisrt = sorted(lenli, key= lambda x:x[1], reverse=False)"
   ]
  },
  {
   "cell_type": "code",
   "execution_count": 62,
   "id": "87b3fad7",
   "metadata": {
    "execution": {
     "iopub.execute_input": "2023-10-19T06:53:18.529990Z",
     "iopub.status.busy": "2023-10-19T06:53:18.529661Z",
     "iopub.status.idle": "2023-10-19T06:53:18.533663Z",
     "shell.execute_reply": "2023-10-19T06:53:18.532816Z"
    },
    "papermill": {
     "duration": 0.027926,
     "end_time": "2023-10-19T06:53:18.535475",
     "exception": false,
     "start_time": "2023-10-19T06:53:18.507549",
     "status": "completed"
    },
    "tags": []
   },
   "outputs": [],
   "source": [
    "# lenlisrt[:10]"
   ]
  },
  {
   "cell_type": "code",
   "execution_count": 63,
   "id": "c7a81301",
   "metadata": {
    "execution": {
     "iopub.execute_input": "2023-10-19T06:53:18.581807Z",
     "iopub.status.busy": "2023-10-19T06:53:18.581502Z",
     "iopub.status.idle": "2023-10-19T06:53:18.597256Z",
     "shell.execute_reply": "2023-10-19T06:53:18.596131Z"
    },
    "papermill": {
     "duration": 0.042764,
     "end_time": "2023-10-19T06:53:18.599408",
     "exception": false,
     "start_time": "2023-10-19T06:53:18.556644",
     "status": "completed"
    },
    "tags": []
   },
   "outputs": [
    {
     "data": {
      "text/html": [
       "<div>\n",
       "<style scoped>\n",
       "    .dataframe tbody tr th:only-of-type {\n",
       "        vertical-align: middle;\n",
       "    }\n",
       "\n",
       "    .dataframe tbody tr th {\n",
       "        vertical-align: top;\n",
       "    }\n",
       "\n",
       "    .dataframe thead th {\n",
       "        text-align: right;\n",
       "    }\n",
       "</style>\n",
       "<table border=\"1\" class=\"dataframe\">\n",
       "  <thead>\n",
       "    <tr style=\"text-align: right;\">\n",
       "      <th></th>\n",
       "      <th>row_id_column_name</th>\n",
       "      <th>ctext</th>\n",
       "      <th>fipa</th>\n",
       "    </tr>\n",
       "  </thead>\n",
       "  <tbody>\n",
       "    <tr>\n",
       "      <th>0</th>\n",
       "      <td>0</td>\n",
       "      <td>বিশেষ অতিথি এফএম ইকবাল বিন আনোয়ার (ডন) অ্যাডিশ...</td>\n",
       "      <td>bɪʃeʃ ot̪ɪt̪ʰɪ pʰecem ɪkbɐl bɪn ɐnoʷɐɾ (dɔn) ɛ...</td>\n",
       "    </tr>\n",
       "    <tr>\n",
       "      <th>1</th>\n",
       "      <td>1</td>\n",
       "      <td>এ নিয়ে বিবাদে দুই হাজার পনের সালের দুই জুন রাত...</td>\n",
       "      <td>e nɪʲe bɪbɐd̪e d̪uɪ̯ hɐɟɐɾ pɔneɾo ʃɐleɾ d̪uɪ̯ ...</td>\n",
       "    </tr>\n",
       "  </tbody>\n",
       "</table>\n",
       "</div>"
      ],
      "text/plain": [
       "   row_id_column_name                                              ctext  \\\n",
       "0                   0  বিশেষ অতিথি এফএম ইকবাল বিন আনোয়ার (ডন) অ্যাডিশ...   \n",
       "1                   1  এ নিয়ে বিবাদে দুই হাজার পনের সালের দুই জুন রাত...   \n",
       "\n",
       "                                                fipa  \n",
       "0  bɪʃeʃ ot̪ɪt̪ʰɪ pʰecem ɪkbɐl bɪn ɐnoʷɐɾ (dɔn) ɛ...  \n",
       "1  e nɪʲe bɪbɐd̪e d̪uɪ̯ hɐɟɐɾ pɔneɾo ʃɐleɾ d̪uɪ̯ ...  "
      ]
     },
     "execution_count": 63,
     "metadata": {},
     "output_type": "execute_result"
    }
   ],
   "source": [
    "sdf = test_df.drop(['text', 'ipa'], axis=1)\n",
    "sdf.head(2)"
   ]
  },
  {
   "cell_type": "code",
   "execution_count": 64,
   "id": "29d1b522",
   "metadata": {
    "execution": {
     "iopub.execute_input": "2023-10-19T06:53:18.643007Z",
     "iopub.status.busy": "2023-10-19T06:53:18.642647Z",
     "iopub.status.idle": "2023-10-19T06:53:18.750866Z",
     "shell.execute_reply": "2023-10-19T06:53:18.749871Z"
    },
    "papermill": {
     "duration": 0.131279,
     "end_time": "2023-10-19T06:53:18.752735",
     "exception": false,
     "start_time": "2023-10-19T06:53:18.621456",
     "status": "completed"
    },
    "tags": []
   },
   "outputs": [
    {
     "name": "stdout",
     "output_type": "stream",
     "text": [
      "(27228, 3)\n"
     ]
    }
   ],
   "source": [
    "print(sdf.shape)\n",
    "sdf.to_csv('/kaggle/working/sub2.csv', index=False)"
   ]
  },
  {
   "cell_type": "code",
   "execution_count": null,
   "id": "00a731dc",
   "metadata": {
    "papermill": {
     "duration": 0.021438,
     "end_time": "2023-10-19T06:53:18.795509",
     "exception": false,
     "start_time": "2023-10-19T06:53:18.774071",
     "status": "completed"
    },
    "tags": []
   },
   "outputs": [],
   "source": []
  },
  {
   "cell_type": "code",
   "execution_count": 65,
   "id": "1db8bd5b",
   "metadata": {
    "execution": {
     "iopub.execute_input": "2023-10-19T06:53:18.841004Z",
     "iopub.status.busy": "2023-10-19T06:53:18.840651Z",
     "iopub.status.idle": "2023-10-19T06:53:18.847115Z",
     "shell.execute_reply": "2023-10-19T06:53:18.846152Z"
    },
    "papermill": {
     "duration": 0.03154,
     "end_time": "2023-10-19T06:53:18.849013",
     "exception": false,
     "start_time": "2023-10-19T06:53:18.817473",
     "status": "completed"
    },
    "tags": []
   },
   "outputs": [
    {
     "data": {
      "text/plain": [
       "'bɪʃeʃ ot̪ɪt̪ʰɪ pʰecem ɪkbɐl bɪn ɐnoʷɐɾ (dɔn) ɛdɪʃonɐl dɐɪ̯ɾektɔɾgeʃ ɛnd spoɾts dɪpɐɾtoment oʷɐltɔn।'"
      ]
     },
     "execution_count": 65,
     "metadata": {},
     "output_type": "execute_result"
    }
   ],
   "source": [
    "sdf.fipa[0]"
   ]
  },
  {
   "cell_type": "code",
   "execution_count": 66,
   "id": "0d616fa7",
   "metadata": {
    "execution": {
     "iopub.execute_input": "2023-10-19T06:53:18.895337Z",
     "iopub.status.busy": "2023-10-19T06:53:18.895018Z",
     "iopub.status.idle": "2023-10-19T06:53:18.900673Z",
     "shell.execute_reply": "2023-10-19T06:53:18.899759Z"
    },
    "papermill": {
     "duration": 0.031059,
     "end_time": "2023-10-19T06:53:18.902519",
     "exception": false,
     "start_time": "2023-10-19T06:53:18.871460",
     "status": "completed"
    },
    "tags": []
   },
   "outputs": [
    {
     "name": "stdout",
     "output_type": "stream",
     "text": [
      "Ipa = nan\n"
     ]
    }
   ],
   "source": [
    "# See a random sample from the test set \n",
    "rand_index = np.random.randint(0, len(test_df))\n",
    "print(f'Ipa = {sdf.fipa[rand_index]}')"
   ]
  },
  {
   "cell_type": "code",
   "execution_count": null,
   "id": "e8382852",
   "metadata": {
    "papermill": {
     "duration": 0.020787,
     "end_time": "2023-10-19T06:53:18.945066",
     "exception": false,
     "start_time": "2023-10-19T06:53:18.924279",
     "status": "completed"
    },
    "tags": []
   },
   "outputs": [],
   "source": []
  }
 ],
 "metadata": {
  "kernelspec": {
   "display_name": "Python 3",
   "language": "python",
   "name": "python3"
  },
  "language_info": {
   "codemirror_mode": {
    "name": "ipython",
    "version": 3
   },
   "file_extension": ".py",
   "mimetype": "text/x-python",
   "name": "python",
   "nbconvert_exporter": "python",
   "pygments_lexer": "ipython3",
   "version": "3.10.12"
  },
  "papermill": {
   "default_parameters": {},
   "duration": 85.598217,
   "end_time": "2023-10-19T06:53:22.177762",
   "environment_variables": {},
   "exception": null,
   "input_path": "__notebook__.ipynb",
   "output_path": "__notebook__.ipynb",
   "parameters": {},
   "start_time": "2023-10-19T06:51:56.579545",
   "version": "2.4.0"
  },
  "widgets": {
   "application/vnd.jupyter.widget-state+json": {
    "state": {
     "0099811f2cc74e5fada2a562f2164675": {
      "model_module": "@jupyter-widgets/base",
      "model_module_version": "1.2.0",
      "model_name": "LayoutModel",
      "state": {
       "_model_module": "@jupyter-widgets/base",
       "_model_module_version": "1.2.0",
       "_model_name": "LayoutModel",
       "_view_count": null,
       "_view_module": "@jupyter-widgets/base",
       "_view_module_version": "1.2.0",
       "_view_name": "LayoutView",
       "align_content": null,
       "align_items": null,
       "align_self": null,
       "border": null,
       "bottom": null,
       "display": null,
       "flex": null,
       "flex_flow": null,
       "grid_area": null,
       "grid_auto_columns": null,
       "grid_auto_flow": null,
       "grid_auto_rows": null,
       "grid_column": null,
       "grid_gap": null,
       "grid_row": null,
       "grid_template_areas": null,
       "grid_template_columns": null,
       "grid_template_rows": null,
       "height": null,
       "justify_content": null,
       "justify_items": null,
       "left": null,
       "margin": null,
       "max_height": null,
       "max_width": null,
       "min_height": null,
       "min_width": null,
       "object_fit": null,
       "object_position": null,
       "order": null,
       "overflow": null,
       "overflow_x": null,
       "overflow_y": null,
       "padding": null,
       "right": null,
       "top": null,
       "visibility": null,
       "width": null
      }
     },
     "0285695534a940dbb1844ec78d71fe73": {
      "model_module": "@jupyter-widgets/controls",
      "model_module_version": "1.5.0",
      "model_name": "HTMLModel",
      "state": {
       "_dom_classes": [],
       "_model_module": "@jupyter-widgets/controls",
       "_model_module_version": "1.5.0",
       "_model_name": "HTMLModel",
       "_view_count": null,
       "_view_module": "@jupyter-widgets/controls",
       "_view_module_version": "1.5.0",
       "_view_name": "HTMLView",
       "description": "",
       "description_tooltip": null,
       "layout": "IPY_MODEL_79b0df7f268d481489694ada7eca9cbc",
       "placeholder": "​",
       "style": "IPY_MODEL_ee19b86eea114574bf127b7f2f75baa8",
       "value": "Downloading (…)cial_tokens_map.json: 100%"
      }
     },
     "059d2281c47f44e38ac7253759bf8118": {
      "model_module": "@jupyter-widgets/controls",
      "model_module_version": "1.5.0",
      "model_name": "FloatProgressModel",
      "state": {
       "_dom_classes": [],
       "_model_module": "@jupyter-widgets/controls",
       "_model_module_version": "1.5.0",
       "_model_name": "FloatProgressModel",
       "_view_count": null,
       "_view_module": "@jupyter-widgets/controls",
       "_view_module_version": "1.5.0",
       "_view_name": "ProgressView",
       "bar_style": "success",
       "description": "",
       "description_tooltip": null,
       "layout": "IPY_MODEL_b264aac222c946acb533f95f55500e86",
       "max": 553.0,
       "min": 0.0,
       "orientation": "horizontal",
       "style": "IPY_MODEL_931bfc225a8f48e5898e1635bad4b44d",
       "value": 553.0
      }
     },
     "0a5c7fe99470415987b3b63a33927a0d": {
      "model_module": "@jupyter-widgets/controls",
      "model_module_version": "1.5.0",
      "model_name": "ProgressStyleModel",
      "state": {
       "_model_module": "@jupyter-widgets/controls",
       "_model_module_version": "1.5.0",
       "_model_name": "ProgressStyleModel",
       "_view_count": null,
       "_view_module": "@jupyter-widgets/base",
       "_view_module_version": "1.2.0",
       "_view_name": "StyleView",
       "bar_color": null,
       "description_width": ""
      }
     },
     "0ae133f242fc4820818973ba2ca808e8": {
      "model_module": "@jupyter-widgets/controls",
      "model_module_version": "1.5.0",
      "model_name": "HBoxModel",
      "state": {
       "_dom_classes": [],
       "_model_module": "@jupyter-widgets/controls",
       "_model_module_version": "1.5.0",
       "_model_name": "HBoxModel",
       "_view_count": null,
       "_view_module": "@jupyter-widgets/controls",
       "_view_module_version": "1.5.0",
       "_view_name": "HBoxView",
       "box_style": "",
       "children": [
        "IPY_MODEL_0285695534a940dbb1844ec78d71fe73",
        "IPY_MODEL_d262bd72bd594e7aa2a4d9829d65d5ee",
        "IPY_MODEL_72b2828281444511a72bbe2a725eba9e"
       ],
       "layout": "IPY_MODEL_2108e715094f49618e0a1bb670a8ea1c"
      }
     },
     "0dfc6fe394524418ba71ceebe02f99d8": {
      "model_module": "@jupyter-widgets/controls",
      "model_module_version": "1.5.0",
      "model_name": "HTMLModel",
      "state": {
       "_dom_classes": [],
       "_model_module": "@jupyter-widgets/controls",
       "_model_module_version": "1.5.0",
       "_model_name": "HTMLModel",
       "_view_count": null,
       "_view_module": "@jupyter-widgets/controls",
       "_view_module_version": "1.5.0",
       "_view_name": "HTMLView",
       "description": "",
       "description_tooltip": null,
       "layout": "IPY_MODEL_0099811f2cc74e5fada2a562f2164675",
       "placeholder": "​",
       "style": "IPY_MODEL_efd65add46374e7d9a7c59d03af0d46c",
       "value": "Downloading (…)okenizer_config.json: 100%"
      }
     },
     "2108e715094f49618e0a1bb670a8ea1c": {
      "model_module": "@jupyter-widgets/base",
      "model_module_version": "1.2.0",
      "model_name": "LayoutModel",
      "state": {
       "_model_module": "@jupyter-widgets/base",
       "_model_module_version": "1.2.0",
       "_model_name": "LayoutModel",
       "_view_count": null,
       "_view_module": "@jupyter-widgets/base",
       "_view_module_version": "1.2.0",
       "_view_name": "LayoutView",
       "align_content": null,
       "align_items": null,
       "align_self": null,
       "border": null,
       "bottom": null,
       "display": null,
       "flex": null,
       "flex_flow": null,
       "grid_area": null,
       "grid_auto_columns": null,
       "grid_auto_flow": null,
       "grid_auto_rows": null,
       "grid_column": null,
       "grid_gap": null,
       "grid_row": null,
       "grid_template_areas": null,
       "grid_template_columns": null,
       "grid_template_rows": null,
       "height": null,
       "justify_content": null,
       "justify_items": null,
       "left": null,
       "margin": null,
       "max_height": null,
       "max_width": null,
       "min_height": null,
       "min_width": null,
       "object_fit": null,
       "object_position": null,
       "order": null,
       "overflow": null,
       "overflow_x": null,
       "overflow_y": null,
       "padding": null,
       "right": null,
       "top": null,
       "visibility": null,
       "width": null
      }
     },
     "22e20b15a9554f1db352b23e5704e6ac": {
      "model_module": "@jupyter-widgets/controls",
      "model_module_version": "1.5.0",
      "model_name": "HTMLModel",
      "state": {
       "_dom_classes": [],
       "_model_module": "@jupyter-widgets/controls",
       "_model_module_version": "1.5.0",
       "_model_name": "HTMLModel",
       "_view_count": null,
       "_view_module": "@jupyter-widgets/controls",
       "_view_module_version": "1.5.0",
       "_view_name": "HTMLView",
       "description": "",
       "description_tooltip": null,
       "layout": "IPY_MODEL_3f1604fd5c644c4bb87f8b2de7724559",
       "placeholder": "​",
       "style": "IPY_MODEL_3e1cc5965702420296cbfba868a59a32",
       "value": " 4.31M/4.31M [00:00&lt;00:00, 31.1MB/s]"
      }
     },
     "26a2d0f3ce4a43d7819243571cae8593": {
      "model_module": "@jupyter-widgets/base",
      "model_module_version": "1.2.0",
      "model_name": "LayoutModel",
      "state": {
       "_model_module": "@jupyter-widgets/base",
       "_model_module_version": "1.2.0",
       "_model_name": "LayoutModel",
       "_view_count": null,
       "_view_module": "@jupyter-widgets/base",
       "_view_module_version": "1.2.0",
       "_view_name": "LayoutView",
       "align_content": null,
       "align_items": null,
       "align_self": null,
       "border": null,
       "bottom": null,
       "display": null,
       "flex": null,
       "flex_flow": null,
       "grid_area": null,
       "grid_auto_columns": null,
       "grid_auto_flow": null,
       "grid_auto_rows": null,
       "grid_column": null,
       "grid_gap": null,
       "grid_row": null,
       "grid_template_areas": null,
       "grid_template_columns": null,
       "grid_template_rows": null,
       "height": null,
       "justify_content": null,
       "justify_items": null,
       "left": null,
       "margin": null,
       "max_height": null,
       "max_width": null,
       "min_height": null,
       "min_width": null,
       "object_fit": null,
       "object_position": null,
       "order": null,
       "overflow": null,
       "overflow_x": null,
       "overflow_y": null,
       "padding": null,
       "right": null,
       "top": null,
       "visibility": null,
       "width": null
      }
     },
     "27ae4622b7e94f2799e44d7b1c5ba9d4": {
      "model_module": "@jupyter-widgets/controls",
      "model_module_version": "1.5.0",
      "model_name": "HTMLModel",
      "state": {
       "_dom_classes": [],
       "_model_module": "@jupyter-widgets/controls",
       "_model_module_version": "1.5.0",
       "_model_name": "HTMLModel",
       "_view_count": null,
       "_view_module": "@jupyter-widgets/controls",
       "_view_module_version": "1.5.0",
       "_view_name": "HTMLView",
       "description": "",
       "description_tooltip": null,
       "layout": "IPY_MODEL_2dfc505364f1456da170ac22a67263f7",
       "placeholder": "​",
       "style": "IPY_MODEL_6181eb35bb25482681fd3b2f13148ee1",
       "value": "Downloading (…)lve/main/config.json: 100%"
      }
     },
     "2dfc505364f1456da170ac22a67263f7": {
      "model_module": "@jupyter-widgets/base",
      "model_module_version": "1.2.0",
      "model_name": "LayoutModel",
      "state": {
       "_model_module": "@jupyter-widgets/base",
       "_model_module_version": "1.2.0",
       "_model_name": "LayoutModel",
       "_view_count": null,
       "_view_module": "@jupyter-widgets/base",
       "_view_module_version": "1.2.0",
       "_view_name": "LayoutView",
       "align_content": null,
       "align_items": null,
       "align_self": null,
       "border": null,
       "bottom": null,
       "display": null,
       "flex": null,
       "flex_flow": null,
       "grid_area": null,
       "grid_auto_columns": null,
       "grid_auto_flow": null,
       "grid_auto_rows": null,
       "grid_column": null,
       "grid_gap": null,
       "grid_row": null,
       "grid_template_areas": null,
       "grid_template_columns": null,
       "grid_template_rows": null,
       "height": null,
       "justify_content": null,
       "justify_items": null,
       "left": null,
       "margin": null,
       "max_height": null,
       "max_width": null,
       "min_height": null,
       "min_width": null,
       "object_fit": null,
       "object_position": null,
       "order": null,
       "overflow": null,
       "overflow_x": null,
       "overflow_y": null,
       "padding": null,
       "right": null,
       "top": null,
       "visibility": null,
       "width": null
      }
     },
     "309eee17aee442a2bade627deabe9096": {
      "model_module": "@jupyter-widgets/controls",
      "model_module_version": "1.5.0",
      "model_name": "DescriptionStyleModel",
      "state": {
       "_model_module": "@jupyter-widgets/controls",
       "_model_module_version": "1.5.0",
       "_model_name": "DescriptionStyleModel",
       "_view_count": null,
       "_view_module": "@jupyter-widgets/base",
       "_view_module_version": "1.2.0",
       "_view_name": "StyleView",
       "description_width": ""
      }
     },
     "3dfcc6eb6cd9471c8716047cf03f2e43": {
      "model_module": "@jupyter-widgets/controls",
      "model_module_version": "1.5.0",
      "model_name": "ProgressStyleModel",
      "state": {
       "_model_module": "@jupyter-widgets/controls",
       "_model_module_version": "1.5.0",
       "_model_name": "ProgressStyleModel",
       "_view_count": null,
       "_view_module": "@jupyter-widgets/base",
       "_view_module_version": "1.2.0",
       "_view_name": "StyleView",
       "bar_color": null,
       "description_width": ""
      }
     },
     "3e1cc5965702420296cbfba868a59a32": {
      "model_module": "@jupyter-widgets/controls",
      "model_module_version": "1.5.0",
      "model_name": "DescriptionStyleModel",
      "state": {
       "_model_module": "@jupyter-widgets/controls",
       "_model_module_version": "1.5.0",
       "_model_name": "DescriptionStyleModel",
       "_view_count": null,
       "_view_module": "@jupyter-widgets/base",
       "_view_module_version": "1.2.0",
       "_view_name": "StyleView",
       "description_width": ""
      }
     },
     "3f1604fd5c644c4bb87f8b2de7724559": {
      "model_module": "@jupyter-widgets/base",
      "model_module_version": "1.2.0",
      "model_name": "LayoutModel",
      "state": {
       "_model_module": "@jupyter-widgets/base",
       "_model_module_version": "1.2.0",
       "_model_name": "LayoutModel",
       "_view_count": null,
       "_view_module": "@jupyter-widgets/base",
       "_view_module_version": "1.2.0",
       "_view_name": "LayoutView",
       "align_content": null,
       "align_items": null,
       "align_self": null,
       "border": null,
       "bottom": null,
       "display": null,
       "flex": null,
       "flex_flow": null,
       "grid_area": null,
       "grid_auto_columns": null,
       "grid_auto_flow": null,
       "grid_auto_rows": null,
       "grid_column": null,
       "grid_gap": null,
       "grid_row": null,
       "grid_template_areas": null,
       "grid_template_columns": null,
       "grid_template_rows": null,
       "height": null,
       "justify_content": null,
       "justify_items": null,
       "left": null,
       "margin": null,
       "max_height": null,
       "max_width": null,
       "min_height": null,
       "min_width": null,
       "object_fit": null,
       "object_position": null,
       "order": null,
       "overflow": null,
       "overflow_x": null,
       "overflow_y": null,
       "padding": null,
       "right": null,
       "top": null,
       "visibility": null,
       "width": null
      }
     },
     "485f3f8d084c4b01ac3df74ce9fc6671": {
      "model_module": "@jupyter-widgets/controls",
      "model_module_version": "1.5.0",
      "model_name": "HTMLModel",
      "state": {
       "_dom_classes": [],
       "_model_module": "@jupyter-widgets/controls",
       "_model_module_version": "1.5.0",
       "_model_name": "HTMLModel",
       "_view_count": null,
       "_view_module": "@jupyter-widgets/controls",
       "_view_module_version": "1.5.0",
       "_view_name": "HTMLView",
       "description": "",
       "description_tooltip": null,
       "layout": "IPY_MODEL_7f3d7371e2c44ce4af8c4cc606046ae6",
       "placeholder": "​",
       "style": "IPY_MODEL_7d0f7f05d3fd4864a41c7f44631faf10",
       "value": "Downloading (…)ve/main/spiece.model: 100%"
      }
     },
     "4af2a496938a43feb9361e0afde22903": {
      "model_module": "@jupyter-widgets/base",
      "model_module_version": "1.2.0",
      "model_name": "LayoutModel",
      "state": {
       "_model_module": "@jupyter-widgets/base",
       "_model_module_version": "1.2.0",
       "_model_name": "LayoutModel",
       "_view_count": null,
       "_view_module": "@jupyter-widgets/base",
       "_view_module_version": "1.2.0",
       "_view_name": "LayoutView",
       "align_content": null,
       "align_items": null,
       "align_self": null,
       "border": null,
       "bottom": null,
       "display": null,
       "flex": null,
       "flex_flow": null,
       "grid_area": null,
       "grid_auto_columns": null,
       "grid_auto_flow": null,
       "grid_auto_rows": null,
       "grid_column": null,
       "grid_gap": null,
       "grid_row": null,
       "grid_template_areas": null,
       "grid_template_columns": null,
       "grid_template_rows": null,
       "height": null,
       "justify_content": null,
       "justify_items": null,
       "left": null,
       "margin": null,
       "max_height": null,
       "max_width": null,
       "min_height": null,
       "min_width": null,
       "object_fit": null,
       "object_position": null,
       "order": null,
       "overflow": null,
       "overflow_x": null,
       "overflow_y": null,
       "padding": null,
       "right": null,
       "top": null,
       "visibility": null,
       "width": null
      }
     },
     "501dd37d64ee4fb3ab318b041221d89c": {
      "model_module": "@jupyter-widgets/base",
      "model_module_version": "1.2.0",
      "model_name": "LayoutModel",
      "state": {
       "_model_module": "@jupyter-widgets/base",
       "_model_module_version": "1.2.0",
       "_model_name": "LayoutModel",
       "_view_count": null,
       "_view_module": "@jupyter-widgets/base",
       "_view_module_version": "1.2.0",
       "_view_name": "LayoutView",
       "align_content": null,
       "align_items": null,
       "align_self": null,
       "border": null,
       "bottom": null,
       "display": null,
       "flex": null,
       "flex_flow": null,
       "grid_area": null,
       "grid_auto_columns": null,
       "grid_auto_flow": null,
       "grid_auto_rows": null,
       "grid_column": null,
       "grid_gap": null,
       "grid_row": null,
       "grid_template_areas": null,
       "grid_template_columns": null,
       "grid_template_rows": null,
       "height": null,
       "justify_content": null,
       "justify_items": null,
       "left": null,
       "margin": null,
       "max_height": null,
       "max_width": null,
       "min_height": null,
       "min_width": null,
       "object_fit": null,
       "object_position": null,
       "order": null,
       "overflow": null,
       "overflow_x": null,
       "overflow_y": null,
       "padding": null,
       "right": null,
       "top": null,
       "visibility": null,
       "width": null
      }
     },
     "6181eb35bb25482681fd3b2f13148ee1": {
      "model_module": "@jupyter-widgets/controls",
      "model_module_version": "1.5.0",
      "model_name": "DescriptionStyleModel",
      "state": {
       "_model_module": "@jupyter-widgets/controls",
       "_model_module_version": "1.5.0",
       "_model_name": "DescriptionStyleModel",
       "_view_count": null,
       "_view_module": "@jupyter-widgets/base",
       "_view_module_version": "1.2.0",
       "_view_name": "StyleView",
       "description_width": ""
      }
     },
     "72b2828281444511a72bbe2a725eba9e": {
      "model_module": "@jupyter-widgets/controls",
      "model_module_version": "1.5.0",
      "model_name": "HTMLModel",
      "state": {
       "_dom_classes": [],
       "_model_module": "@jupyter-widgets/controls",
       "_model_module_version": "1.5.0",
       "_model_name": "HTMLModel",
       "_view_count": null,
       "_view_module": "@jupyter-widgets/controls",
       "_view_module_version": "1.5.0",
       "_view_name": "HTMLView",
       "description": "",
       "description_tooltip": null,
       "layout": "IPY_MODEL_e2d7f6971e4f4ae19c1a4e1b363410d3",
       "placeholder": "​",
       "style": "IPY_MODEL_7434fbb38ccc4cfe91f395ee200a2b86",
       "value": " 99.0/99.0 [00:00&lt;00:00, 9.64kB/s]"
      }
     },
     "7434fbb38ccc4cfe91f395ee200a2b86": {
      "model_module": "@jupyter-widgets/controls",
      "model_module_version": "1.5.0",
      "model_name": "DescriptionStyleModel",
      "state": {
       "_model_module": "@jupyter-widgets/controls",
       "_model_module_version": "1.5.0",
       "_model_name": "DescriptionStyleModel",
       "_view_count": null,
       "_view_module": "@jupyter-widgets/base",
       "_view_module_version": "1.2.0",
       "_view_name": "StyleView",
       "description_width": ""
      }
     },
     "761e2e95ee384e6488240d9d9edb7671": {
      "model_module": "@jupyter-widgets/controls",
      "model_module_version": "1.5.0",
      "model_name": "FloatProgressModel",
      "state": {
       "_dom_classes": [],
       "_model_module": "@jupyter-widgets/controls",
       "_model_module_version": "1.5.0",
       "_model_name": "FloatProgressModel",
       "_view_count": null,
       "_view_module": "@jupyter-widgets/controls",
       "_view_module_version": "1.5.0",
       "_view_name": "ProgressView",
       "bar_style": "success",
       "description": "",
       "description_tooltip": null,
       "layout": "IPY_MODEL_26a2d0f3ce4a43d7819243571cae8593",
       "max": 4309802.0,
       "min": 0.0,
       "orientation": "horizontal",
       "style": "IPY_MODEL_a4b0c4307838428584d6535cd8917c58",
       "value": 4309802.0
      }
     },
     "79b0df7f268d481489694ada7eca9cbc": {
      "model_module": "@jupyter-widgets/base",
      "model_module_version": "1.2.0",
      "model_name": "LayoutModel",
      "state": {
       "_model_module": "@jupyter-widgets/base",
       "_model_module_version": "1.2.0",
       "_model_name": "LayoutModel",
       "_view_count": null,
       "_view_module": "@jupyter-widgets/base",
       "_view_module_version": "1.2.0",
       "_view_name": "LayoutView",
       "align_content": null,
       "align_items": null,
       "align_self": null,
       "border": null,
       "bottom": null,
       "display": null,
       "flex": null,
       "flex_flow": null,
       "grid_area": null,
       "grid_auto_columns": null,
       "grid_auto_flow": null,
       "grid_auto_rows": null,
       "grid_column": null,
       "grid_gap": null,
       "grid_row": null,
       "grid_template_areas": null,
       "grid_template_columns": null,
       "grid_template_rows": null,
       "height": null,
       "justify_content": null,
       "justify_items": null,
       "left": null,
       "margin": null,
       "max_height": null,
       "max_width": null,
       "min_height": null,
       "min_width": null,
       "object_fit": null,
       "object_position": null,
       "order": null,
       "overflow": null,
       "overflow_x": null,
       "overflow_y": null,
       "padding": null,
       "right": null,
       "top": null,
       "visibility": null,
       "width": null
      }
     },
     "7c23f647bc714a23aea92156588e76db": {
      "model_module": "@jupyter-widgets/controls",
      "model_module_version": "1.5.0",
      "model_name": "HTMLModel",
      "state": {
       "_dom_classes": [],
       "_model_module": "@jupyter-widgets/controls",
       "_model_module_version": "1.5.0",
       "_model_name": "HTMLModel",
       "_view_count": null,
       "_view_module": "@jupyter-widgets/controls",
       "_view_module_version": "1.5.0",
       "_view_name": "HTMLView",
       "description": "",
       "description_tooltip": null,
       "layout": "IPY_MODEL_c05064580feb492e9b71a44603594008",
       "placeholder": "​",
       "style": "IPY_MODEL_ee73a38ceee3470b958a5c55885b7fe8",
       "value": " 82.0/82.0 [00:00&lt;00:00, 7.54kB/s]"
      }
     },
     "7d0f7f05d3fd4864a41c7f44631faf10": {
      "model_module": "@jupyter-widgets/controls",
      "model_module_version": "1.5.0",
      "model_name": "DescriptionStyleModel",
      "state": {
       "_model_module": "@jupyter-widgets/controls",
       "_model_module_version": "1.5.0",
       "_model_name": "DescriptionStyleModel",
       "_view_count": null,
       "_view_module": "@jupyter-widgets/base",
       "_view_module_version": "1.2.0",
       "_view_name": "StyleView",
       "description_width": ""
      }
     },
     "7f3d7371e2c44ce4af8c4cc606046ae6": {
      "model_module": "@jupyter-widgets/base",
      "model_module_version": "1.2.0",
      "model_name": "LayoutModel",
      "state": {
       "_model_module": "@jupyter-widgets/base",
       "_model_module_version": "1.2.0",
       "_model_name": "LayoutModel",
       "_view_count": null,
       "_view_module": "@jupyter-widgets/base",
       "_view_module_version": "1.2.0",
       "_view_name": "LayoutView",
       "align_content": null,
       "align_items": null,
       "align_self": null,
       "border": null,
       "bottom": null,
       "display": null,
       "flex": null,
       "flex_flow": null,
       "grid_area": null,
       "grid_auto_columns": null,
       "grid_auto_flow": null,
       "grid_auto_rows": null,
       "grid_column": null,
       "grid_gap": null,
       "grid_row": null,
       "grid_template_areas": null,
       "grid_template_columns": null,
       "grid_template_rows": null,
       "height": null,
       "justify_content": null,
       "justify_items": null,
       "left": null,
       "margin": null,
       "max_height": null,
       "max_width": null,
       "min_height": null,
       "min_width": null,
       "object_fit": null,
       "object_position": null,
       "order": null,
       "overflow": null,
       "overflow_x": null,
       "overflow_y": null,
       "padding": null,
       "right": null,
       "top": null,
       "visibility": null,
       "width": null
      }
     },
     "85151aed340e41afb34827b20caed62f": {
      "model_module": "@jupyter-widgets/controls",
      "model_module_version": "1.5.0",
      "model_name": "FloatProgressModel",
      "state": {
       "_dom_classes": [],
       "_model_module": "@jupyter-widgets/controls",
       "_model_module_version": "1.5.0",
       "_model_name": "FloatProgressModel",
       "_view_count": null,
       "_view_module": "@jupyter-widgets/controls",
       "_view_module_version": "1.5.0",
       "_view_name": "ProgressView",
       "bar_style": "success",
       "description": "",
       "description_tooltip": null,
       "layout": "IPY_MODEL_4af2a496938a43feb9361e0afde22903",
       "max": 82.0,
       "min": 0.0,
       "orientation": "horizontal",
       "style": "IPY_MODEL_0a5c7fe99470415987b3b63a33927a0d",
       "value": 82.0
      }
     },
     "87332e7d06c94646a5574dd2c22efe6a": {
      "model_module": "@jupyter-widgets/controls",
      "model_module_version": "1.5.0",
      "model_name": "HBoxModel",
      "state": {
       "_dom_classes": [],
       "_model_module": "@jupyter-widgets/controls",
       "_model_module_version": "1.5.0",
       "_model_name": "HBoxModel",
       "_view_count": null,
       "_view_module": "@jupyter-widgets/controls",
       "_view_module_version": "1.5.0",
       "_view_name": "HBoxView",
       "box_style": "",
       "children": [
        "IPY_MODEL_27ae4622b7e94f2799e44d7b1c5ba9d4",
        "IPY_MODEL_059d2281c47f44e38ac7253759bf8118",
        "IPY_MODEL_efee3abe942a47ea8c4f724ff5e0f2bd"
       ],
       "layout": "IPY_MODEL_920ce1f0950c414dababfd81cd21fdca"
      }
     },
     "88eb9e53510e43f18ce18783d165a29a": {
      "model_module": "@jupyter-widgets/base",
      "model_module_version": "1.2.0",
      "model_name": "LayoutModel",
      "state": {
       "_model_module": "@jupyter-widgets/base",
       "_model_module_version": "1.2.0",
       "_model_name": "LayoutModel",
       "_view_count": null,
       "_view_module": "@jupyter-widgets/base",
       "_view_module_version": "1.2.0",
       "_view_name": "LayoutView",
       "align_content": null,
       "align_items": null,
       "align_self": null,
       "border": null,
       "bottom": null,
       "display": null,
       "flex": null,
       "flex_flow": null,
       "grid_area": null,
       "grid_auto_columns": null,
       "grid_auto_flow": null,
       "grid_auto_rows": null,
       "grid_column": null,
       "grid_gap": null,
       "grid_row": null,
       "grid_template_areas": null,
       "grid_template_columns": null,
       "grid_template_rows": null,
       "height": null,
       "justify_content": null,
       "justify_items": null,
       "left": null,
       "margin": null,
       "max_height": null,
       "max_width": null,
       "min_height": null,
       "min_width": null,
       "object_fit": null,
       "object_position": null,
       "order": null,
       "overflow": null,
       "overflow_x": null,
       "overflow_y": null,
       "padding": null,
       "right": null,
       "top": null,
       "visibility": null,
       "width": null
      }
     },
     "920ce1f0950c414dababfd81cd21fdca": {
      "model_module": "@jupyter-widgets/base",
      "model_module_version": "1.2.0",
      "model_name": "LayoutModel",
      "state": {
       "_model_module": "@jupyter-widgets/base",
       "_model_module_version": "1.2.0",
       "_model_name": "LayoutModel",
       "_view_count": null,
       "_view_module": "@jupyter-widgets/base",
       "_view_module_version": "1.2.0",
       "_view_name": "LayoutView",
       "align_content": null,
       "align_items": null,
       "align_self": null,
       "border": null,
       "bottom": null,
       "display": null,
       "flex": null,
       "flex_flow": null,
       "grid_area": null,
       "grid_auto_columns": null,
       "grid_auto_flow": null,
       "grid_auto_rows": null,
       "grid_column": null,
       "grid_gap": null,
       "grid_row": null,
       "grid_template_areas": null,
       "grid_template_columns": null,
       "grid_template_rows": null,
       "height": null,
       "justify_content": null,
       "justify_items": null,
       "left": null,
       "margin": null,
       "max_height": null,
       "max_width": null,
       "min_height": null,
       "min_width": null,
       "object_fit": null,
       "object_position": null,
       "order": null,
       "overflow": null,
       "overflow_x": null,
       "overflow_y": null,
       "padding": null,
       "right": null,
       "top": null,
       "visibility": null,
       "width": null
      }
     },
     "931bfc225a8f48e5898e1635bad4b44d": {
      "model_module": "@jupyter-widgets/controls",
      "model_module_version": "1.5.0",
      "model_name": "ProgressStyleModel",
      "state": {
       "_model_module": "@jupyter-widgets/controls",
       "_model_module_version": "1.5.0",
       "_model_name": "ProgressStyleModel",
       "_view_count": null,
       "_view_module": "@jupyter-widgets/base",
       "_view_module_version": "1.2.0",
       "_view_name": "StyleView",
       "bar_color": null,
       "description_width": ""
      }
     },
     "a4b0c4307838428584d6535cd8917c58": {
      "model_module": "@jupyter-widgets/controls",
      "model_module_version": "1.5.0",
      "model_name": "ProgressStyleModel",
      "state": {
       "_model_module": "@jupyter-widgets/controls",
       "_model_module_version": "1.5.0",
       "_model_name": "ProgressStyleModel",
       "_view_count": null,
       "_view_module": "@jupyter-widgets/base",
       "_view_module_version": "1.2.0",
       "_view_name": "StyleView",
       "bar_color": null,
       "description_width": ""
      }
     },
     "ae21bc896f8e4fea96f2570d97017b43": {
      "model_module": "@jupyter-widgets/controls",
      "model_module_version": "1.5.0",
      "model_name": "HBoxModel",
      "state": {
       "_dom_classes": [],
       "_model_module": "@jupyter-widgets/controls",
       "_model_module_version": "1.5.0",
       "_model_name": "HBoxModel",
       "_view_count": null,
       "_view_module": "@jupyter-widgets/controls",
       "_view_module_version": "1.5.0",
       "_view_name": "HBoxView",
       "box_style": "",
       "children": [
        "IPY_MODEL_485f3f8d084c4b01ac3df74ce9fc6671",
        "IPY_MODEL_761e2e95ee384e6488240d9d9edb7671",
        "IPY_MODEL_22e20b15a9554f1db352b23e5704e6ac"
       ],
       "layout": "IPY_MODEL_88eb9e53510e43f18ce18783d165a29a"
      }
     },
     "b264aac222c946acb533f95f55500e86": {
      "model_module": "@jupyter-widgets/base",
      "model_module_version": "1.2.0",
      "model_name": "LayoutModel",
      "state": {
       "_model_module": "@jupyter-widgets/base",
       "_model_module_version": "1.2.0",
       "_model_name": "LayoutModel",
       "_view_count": null,
       "_view_module": "@jupyter-widgets/base",
       "_view_module_version": "1.2.0",
       "_view_name": "LayoutView",
       "align_content": null,
       "align_items": null,
       "align_self": null,
       "border": null,
       "bottom": null,
       "display": null,
       "flex": null,
       "flex_flow": null,
       "grid_area": null,
       "grid_auto_columns": null,
       "grid_auto_flow": null,
       "grid_auto_rows": null,
       "grid_column": null,
       "grid_gap": null,
       "grid_row": null,
       "grid_template_areas": null,
       "grid_template_columns": null,
       "grid_template_rows": null,
       "height": null,
       "justify_content": null,
       "justify_items": null,
       "left": null,
       "margin": null,
       "max_height": null,
       "max_width": null,
       "min_height": null,
       "min_width": null,
       "object_fit": null,
       "object_position": null,
       "order": null,
       "overflow": null,
       "overflow_x": null,
       "overflow_y": null,
       "padding": null,
       "right": null,
       "top": null,
       "visibility": null,
       "width": null
      }
     },
     "c05064580feb492e9b71a44603594008": {
      "model_module": "@jupyter-widgets/base",
      "model_module_version": "1.2.0",
      "model_name": "LayoutModel",
      "state": {
       "_model_module": "@jupyter-widgets/base",
       "_model_module_version": "1.2.0",
       "_model_name": "LayoutModel",
       "_view_count": null,
       "_view_module": "@jupyter-widgets/base",
       "_view_module_version": "1.2.0",
       "_view_name": "LayoutView",
       "align_content": null,
       "align_items": null,
       "align_self": null,
       "border": null,
       "bottom": null,
       "display": null,
       "flex": null,
       "flex_flow": null,
       "grid_area": null,
       "grid_auto_columns": null,
       "grid_auto_flow": null,
       "grid_auto_rows": null,
       "grid_column": null,
       "grid_gap": null,
       "grid_row": null,
       "grid_template_areas": null,
       "grid_template_columns": null,
       "grid_template_rows": null,
       "height": null,
       "justify_content": null,
       "justify_items": null,
       "left": null,
       "margin": null,
       "max_height": null,
       "max_width": null,
       "min_height": null,
       "min_width": null,
       "object_fit": null,
       "object_position": null,
       "order": null,
       "overflow": null,
       "overflow_x": null,
       "overflow_y": null,
       "padding": null,
       "right": null,
       "top": null,
       "visibility": null,
       "width": null
      }
     },
     "c081b00444f4497eaf8d590635a6b6a0": {
      "model_module": "@jupyter-widgets/base",
      "model_module_version": "1.2.0",
      "model_name": "LayoutModel",
      "state": {
       "_model_module": "@jupyter-widgets/base",
       "_model_module_version": "1.2.0",
       "_model_name": "LayoutModel",
       "_view_count": null,
       "_view_module": "@jupyter-widgets/base",
       "_view_module_version": "1.2.0",
       "_view_name": "LayoutView",
       "align_content": null,
       "align_items": null,
       "align_self": null,
       "border": null,
       "bottom": null,
       "display": null,
       "flex": null,
       "flex_flow": null,
       "grid_area": null,
       "grid_auto_columns": null,
       "grid_auto_flow": null,
       "grid_auto_rows": null,
       "grid_column": null,
       "grid_gap": null,
       "grid_row": null,
       "grid_template_areas": null,
       "grid_template_columns": null,
       "grid_template_rows": null,
       "height": null,
       "justify_content": null,
       "justify_items": null,
       "left": null,
       "margin": null,
       "max_height": null,
       "max_width": null,
       "min_height": null,
       "min_width": null,
       "object_fit": null,
       "object_position": null,
       "order": null,
       "overflow": null,
       "overflow_x": null,
       "overflow_y": null,
       "padding": null,
       "right": null,
       "top": null,
       "visibility": null,
       "width": null
      }
     },
     "c2641cb246774abc913addf4c50fc271": {
      "model_module": "@jupyter-widgets/controls",
      "model_module_version": "1.5.0",
      "model_name": "HBoxModel",
      "state": {
       "_dom_classes": [],
       "_model_module": "@jupyter-widgets/controls",
       "_model_module_version": "1.5.0",
       "_model_name": "HBoxModel",
       "_view_count": null,
       "_view_module": "@jupyter-widgets/controls",
       "_view_module_version": "1.5.0",
       "_view_name": "HBoxView",
       "box_style": "",
       "children": [
        "IPY_MODEL_0dfc6fe394524418ba71ceebe02f99d8",
        "IPY_MODEL_85151aed340e41afb34827b20caed62f",
        "IPY_MODEL_7c23f647bc714a23aea92156588e76db"
       ],
       "layout": "IPY_MODEL_fbe669016cd94815a3ffee6c3c8de822"
      }
     },
     "d262bd72bd594e7aa2a4d9829d65d5ee": {
      "model_module": "@jupyter-widgets/controls",
      "model_module_version": "1.5.0",
      "model_name": "FloatProgressModel",
      "state": {
       "_dom_classes": [],
       "_model_module": "@jupyter-widgets/controls",
       "_model_module_version": "1.5.0",
       "_model_name": "FloatProgressModel",
       "_view_count": null,
       "_view_module": "@jupyter-widgets/controls",
       "_view_module_version": "1.5.0",
       "_view_name": "ProgressView",
       "bar_style": "success",
       "description": "",
       "description_tooltip": null,
       "layout": "IPY_MODEL_501dd37d64ee4fb3ab318b041221d89c",
       "max": 99.0,
       "min": 0.0,
       "orientation": "horizontal",
       "style": "IPY_MODEL_3dfcc6eb6cd9471c8716047cf03f2e43",
       "value": 99.0
      }
     },
     "e2d7f6971e4f4ae19c1a4e1b363410d3": {
      "model_module": "@jupyter-widgets/base",
      "model_module_version": "1.2.0",
      "model_name": "LayoutModel",
      "state": {
       "_model_module": "@jupyter-widgets/base",
       "_model_module_version": "1.2.0",
       "_model_name": "LayoutModel",
       "_view_count": null,
       "_view_module": "@jupyter-widgets/base",
       "_view_module_version": "1.2.0",
       "_view_name": "LayoutView",
       "align_content": null,
       "align_items": null,
       "align_self": null,
       "border": null,
       "bottom": null,
       "display": null,
       "flex": null,
       "flex_flow": null,
       "grid_area": null,
       "grid_auto_columns": null,
       "grid_auto_flow": null,
       "grid_auto_rows": null,
       "grid_column": null,
       "grid_gap": null,
       "grid_row": null,
       "grid_template_areas": null,
       "grid_template_columns": null,
       "grid_template_rows": null,
       "height": null,
       "justify_content": null,
       "justify_items": null,
       "left": null,
       "margin": null,
       "max_height": null,
       "max_width": null,
       "min_height": null,
       "min_width": null,
       "object_fit": null,
       "object_position": null,
       "order": null,
       "overflow": null,
       "overflow_x": null,
       "overflow_y": null,
       "padding": null,
       "right": null,
       "top": null,
       "visibility": null,
       "width": null
      }
     },
     "ee19b86eea114574bf127b7f2f75baa8": {
      "model_module": "@jupyter-widgets/controls",
      "model_module_version": "1.5.0",
      "model_name": "DescriptionStyleModel",
      "state": {
       "_model_module": "@jupyter-widgets/controls",
       "_model_module_version": "1.5.0",
       "_model_name": "DescriptionStyleModel",
       "_view_count": null,
       "_view_module": "@jupyter-widgets/base",
       "_view_module_version": "1.2.0",
       "_view_name": "StyleView",
       "description_width": ""
      }
     },
     "ee73a38ceee3470b958a5c55885b7fe8": {
      "model_module": "@jupyter-widgets/controls",
      "model_module_version": "1.5.0",
      "model_name": "DescriptionStyleModel",
      "state": {
       "_model_module": "@jupyter-widgets/controls",
       "_model_module_version": "1.5.0",
       "_model_name": "DescriptionStyleModel",
       "_view_count": null,
       "_view_module": "@jupyter-widgets/base",
       "_view_module_version": "1.2.0",
       "_view_name": "StyleView",
       "description_width": ""
      }
     },
     "efd65add46374e7d9a7c59d03af0d46c": {
      "model_module": "@jupyter-widgets/controls",
      "model_module_version": "1.5.0",
      "model_name": "DescriptionStyleModel",
      "state": {
       "_model_module": "@jupyter-widgets/controls",
       "_model_module_version": "1.5.0",
       "_model_name": "DescriptionStyleModel",
       "_view_count": null,
       "_view_module": "@jupyter-widgets/base",
       "_view_module_version": "1.2.0",
       "_view_name": "StyleView",
       "description_width": ""
      }
     },
     "efee3abe942a47ea8c4f724ff5e0f2bd": {
      "model_module": "@jupyter-widgets/controls",
      "model_module_version": "1.5.0",
      "model_name": "HTMLModel",
      "state": {
       "_dom_classes": [],
       "_model_module": "@jupyter-widgets/controls",
       "_model_module_version": "1.5.0",
       "_model_name": "HTMLModel",
       "_view_count": null,
       "_view_module": "@jupyter-widgets/controls",
       "_view_module_version": "1.5.0",
       "_view_name": "HTMLView",
       "description": "",
       "description_tooltip": null,
       "layout": "IPY_MODEL_c081b00444f4497eaf8d590635a6b6a0",
       "placeholder": "​",
       "style": "IPY_MODEL_309eee17aee442a2bade627deabe9096",
       "value": " 553/553 [00:00&lt;00:00, 49.3kB/s]"
      }
     },
     "fbe669016cd94815a3ffee6c3c8de822": {
      "model_module": "@jupyter-widgets/base",
      "model_module_version": "1.2.0",
      "model_name": "LayoutModel",
      "state": {
       "_model_module": "@jupyter-widgets/base",
       "_model_module_version": "1.2.0",
       "_model_name": "LayoutModel",
       "_view_count": null,
       "_view_module": "@jupyter-widgets/base",
       "_view_module_version": "1.2.0",
       "_view_name": "LayoutView",
       "align_content": null,
       "align_items": null,
       "align_self": null,
       "border": null,
       "bottom": null,
       "display": null,
       "flex": null,
       "flex_flow": null,
       "grid_area": null,
       "grid_auto_columns": null,
       "grid_auto_flow": null,
       "grid_auto_rows": null,
       "grid_column": null,
       "grid_gap": null,
       "grid_row": null,
       "grid_template_areas": null,
       "grid_template_columns": null,
       "grid_template_rows": null,
       "height": null,
       "justify_content": null,
       "justify_items": null,
       "left": null,
       "margin": null,
       "max_height": null,
       "max_width": null,
       "min_height": null,
       "min_width": null,
       "object_fit": null,
       "object_position": null,
       "order": null,
       "overflow": null,
       "overflow_x": null,
       "overflow_y": null,
       "padding": null,
       "right": null,
       "top": null,
       "visibility": null,
       "width": null
      }
     }
    },
    "version_major": 2,
    "version_minor": 0
   }
  }
 },
 "nbformat": 4,
 "nbformat_minor": 5
}
