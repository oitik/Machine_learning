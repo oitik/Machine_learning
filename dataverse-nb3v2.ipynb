{
 "cells": [
  {
   "cell_type": "code",
   "execution_count": 1,
   "id": "4b3588f5",
   "metadata": {
    "execution": {
     "iopub.execute_input": "2023-10-27T15:13:59.551886Z",
     "iopub.status.busy": "2023-10-27T15:13:59.551573Z",
     "iopub.status.idle": "2023-10-27T15:14:01.094936Z",
     "shell.execute_reply": "2023-10-27T15:14:01.094142Z"
    },
    "papermill": {
     "duration": 1.568033,
     "end_time": "2023-10-27T15:14:01.097159",
     "exception": false,
     "start_time": "2023-10-27T15:13:59.529126",
     "status": "completed"
    },
    "tags": []
   },
   "outputs": [
    {
     "name": "stderr",
     "output_type": "stream",
     "text": [
      "/opt/conda/lib/python3.10/site-packages/scipy/__init__.py:146: UserWarning: A NumPy version >=1.16.5 and <1.23.0 is required for this version of SciPy (detected version 1.23.5\n",
      "  warnings.warn(f\"A NumPy version >={np_minversion} and <{np_maxversion}\"\n"
     ]
    }
   ],
   "source": [
    "# Regular EDA(exploratory data analysis) and plotting libraries\n",
    "import numpy as np\n",
    "import pandas as pd\n",
    "import matplotlib.pyplot as plt\n",
    "\n",
    "from sklearn.model_selection import train_test_split\n",
    "%matplotlib inline\n",
    "\n",
    "from tqdm import tqdm\n",
    "import string\n",
    "import statistics\n",
    "import re\n",
    "import joblib\n",
    "import random"
   ]
  },
  {
   "cell_type": "code",
   "execution_count": 2,
   "id": "e5c3eb1f",
   "metadata": {
    "execution": {
     "iopub.execute_input": "2023-10-27T15:14:01.140870Z",
     "iopub.status.busy": "2023-10-27T15:14:01.140481Z",
     "iopub.status.idle": "2023-10-27T15:14:01.363737Z",
     "shell.execute_reply": "2023-10-27T15:14:01.362822Z"
    },
    "papermill": {
     "duration": 0.247485,
     "end_time": "2023-10-27T15:14:01.366126",
     "exception": false,
     "start_time": "2023-10-27T15:14:01.118641",
     "status": "completed"
    },
    "tags": []
   },
   "outputs": [
    {
     "data": {
      "text/html": [
       "<div>\n",
       "<style scoped>\n",
       "    .dataframe tbody tr th:only-of-type {\n",
       "        vertical-align: middle;\n",
       "    }\n",
       "\n",
       "    .dataframe tbody tr th {\n",
       "        vertical-align: top;\n",
       "    }\n",
       "\n",
       "    .dataframe thead th {\n",
       "        text-align: right;\n",
       "    }\n",
       "</style>\n",
       "<table border=\"1\" class=\"dataframe\">\n",
       "  <thead>\n",
       "    <tr style=\"text-align: right;\">\n",
       "      <th></th>\n",
       "      <th>text</th>\n",
       "      <th>ipa</th>\n",
       "    </tr>\n",
       "  </thead>\n",
       "  <tbody>\n",
       "    <tr>\n",
       "      <th>0</th>\n",
       "      <td>এরপরও তারা বকেয়া পরিশোধ করেনি।</td>\n",
       "      <td>eɾpɔɾo t̪ɐɾɐ bɔkeʲɐ poɾɪʃod̪ʱ kɔɾenɪ।</td>\n",
       "    </tr>\n",
       "    <tr>\n",
       "      <th>1</th>\n",
       "      <td>আগে সুইস ব্যাংকে জমা টাকার কোনো প্রতিবেদন প্রক...</td>\n",
       "      <td>ɐge suɪ̯s bɛŋke ɟɔmɐ tɐkɐɾ kono pɾot̪ɪbed̪ɔn p...</td>\n",
       "    </tr>\n",
       "  </tbody>\n",
       "</table>\n",
       "</div>"
      ],
      "text/plain": [
       "                                                text  \\\n",
       "0                     এরপরও তারা বকেয়া পরিশোধ করেনি।   \n",
       "1  আগে সুইস ব্যাংকে জমা টাকার কোনো প্রতিবেদন প্রক...   \n",
       "\n",
       "                                                 ipa  \n",
       "0              eɾpɔɾo t̪ɐɾɐ bɔkeʲɐ poɾɪʃod̪ʱ kɔɾenɪ।  \n",
       "1  ɐge suɪ̯s bɛŋke ɟɔmɐ tɐkɐɾ kono pɾot̪ɪbed̪ɔn p...  "
      ]
     },
     "execution_count": 2,
     "metadata": {},
     "output_type": "execute_result"
    }
   ],
   "source": [
    "# Import the training set\n",
    "df = pd.read_csv('/kaggle/input/dataverse-ipa/dataverse_2023/trainIPAdb_u.csv')\n",
    "df.head(2)"
   ]
  },
  {
   "cell_type": "code",
   "execution_count": 3,
   "id": "80e50c05",
   "metadata": {
    "execution": {
     "iopub.execute_input": "2023-10-27T15:14:01.412904Z",
     "iopub.status.busy": "2023-10-27T15:14:01.412573Z",
     "iopub.status.idle": "2023-10-27T15:14:01.417693Z",
     "shell.execute_reply": "2023-10-27T15:14:01.416769Z"
    },
    "papermill": {
     "duration": 0.029652,
     "end_time": "2023-10-27T15:14:01.419870",
     "exception": false,
     "start_time": "2023-10-27T15:14:01.390218",
     "status": "completed"
    },
    "tags": []
   },
   "outputs": [
    {
     "name": "stdout",
     "output_type": "stream",
     "text": [
      "Text = তবে দেশের জন্য কিছু করতে পেরে বা অবদান রাখতে পেরে আমি গর্বিত ও আনন্দিত।\n",
      "IPA = t̪ɔbe d̪eʃeɾ ɟonno kɪcʰu koɾt̪e peɾe bɐ ɔbod̪ɐn ɾɐkʰt̪e peɾe ɐmɪ goɾbɪt̪o o ɐnond̪ɪt̪o।\n"
     ]
    }
   ],
   "source": [
    "# See a random sample from the training set \n",
    "rand_index = np.random.randint(0, len(df))\n",
    "print(f'Text = {df.text[rand_index]}\\nIPA = {df.ipa[rand_index]}')"
   ]
  },
  {
   "cell_type": "code",
   "execution_count": 4,
   "id": "aaa51c38",
   "metadata": {
    "execution": {
     "iopub.execute_input": "2023-10-27T15:14:01.463606Z",
     "iopub.status.busy": "2023-10-27T15:14:01.463337Z",
     "iopub.status.idle": "2023-10-27T15:14:01.493756Z",
     "shell.execute_reply": "2023-10-27T15:14:01.492914Z"
    },
    "papermill": {
     "duration": 0.054466,
     "end_time": "2023-10-27T15:14:01.495821",
     "exception": false,
     "start_time": "2023-10-27T15:14:01.441355",
     "status": "completed"
    },
    "tags": []
   },
   "outputs": [
    {
     "data": {
      "text/html": [
       "<div>\n",
       "<style scoped>\n",
       "    .dataframe tbody tr th:only-of-type {\n",
       "        vertical-align: middle;\n",
       "    }\n",
       "\n",
       "    .dataframe tbody tr th {\n",
       "        vertical-align: top;\n",
       "    }\n",
       "\n",
       "    .dataframe thead th {\n",
       "        text-align: right;\n",
       "    }\n",
       "</style>\n",
       "<table border=\"1\" class=\"dataframe\">\n",
       "  <thead>\n",
       "    <tr style=\"text-align: right;\">\n",
       "      <th></th>\n",
       "      <th>text</th>\n",
       "      <th>ipa</th>\n",
       "    </tr>\n",
       "  </thead>\n",
       "  <tbody>\n",
       "    <tr>\n",
       "      <th>0</th>\n",
       "      <td>আমি বলেন সাত আদালতের।</td>\n",
       "      <td>ɐmɪ bɔlen ʃɐt̪ ɐd̪ɐlɔt̪eɾ।</td>\n",
       "    </tr>\n",
       "    <tr>\n",
       "      <th>1</th>\n",
       "      <td>তুমি করা চুরানব্বই রাখে।</td>\n",
       "      <td>t̪umɪ kɔɾɐ cuɾɐnɔbboɪ ɾɐkʰe।</td>\n",
       "    </tr>\n",
       "    <tr>\n",
       "      <th>2</th>\n",
       "      <td>আমরা স্বীকার আটান্ন উপস্থিত।</td>\n",
       "      <td>ɐmɾɐ ʃɪkɐɾ ɐtɐnno upost̪ʰɪt̪।</td>\n",
       "    </tr>\n",
       "  </tbody>\n",
       "</table>\n",
       "</div>"
      ],
      "text/plain": [
       "                           text                            ipa\n",
       "0         আমি বলেন সাত আদালতের।     ɐmɪ bɔlen ʃɐt̪ ɐd̪ɐlɔt̪eɾ।\n",
       "1      তুমি করা চুরানব্বই রাখে।   t̪umɪ kɔɾɐ cuɾɐnɔbboɪ ɾɐkʰe।\n",
       "2  আমরা স্বীকার আটান্ন উপস্থিত।  ɐmɾɐ ʃɪkɐɾ ɐtɐnno upost̪ʰɪt̪।"
      ]
     },
     "execution_count": 4,
     "metadata": {},
     "output_type": "execute_result"
    }
   ],
   "source": [
    "new_df = pd.read_csv('/kaggle/input/dataverse-ipa/new_train.csv')\n",
    "new_df.head(3)"
   ]
  },
  {
   "cell_type": "code",
   "execution_count": 5,
   "id": "fa3eb05a",
   "metadata": {
    "execution": {
     "iopub.execute_input": "2023-10-27T15:14:01.543009Z",
     "iopub.status.busy": "2023-10-27T15:14:01.542680Z",
     "iopub.status.idle": "2023-10-27T15:14:01.697977Z",
     "shell.execute_reply": "2023-10-27T15:14:01.696895Z"
    },
    "papermill": {
     "duration": 0.179549,
     "end_time": "2023-10-27T15:14:01.700113",
     "exception": false,
     "start_time": "2023-10-27T15:14:01.520564",
     "status": "completed"
    },
    "tags": []
   },
   "outputs": [
    {
     "data": {
      "text/html": [
       "<div>\n",
       "<style scoped>\n",
       "    .dataframe tbody tr th:only-of-type {\n",
       "        vertical-align: middle;\n",
       "    }\n",
       "\n",
       "    .dataframe tbody tr th {\n",
       "        vertical-align: top;\n",
       "    }\n",
       "\n",
       "    .dataframe thead th {\n",
       "        text-align: right;\n",
       "    }\n",
       "</style>\n",
       "<table border=\"1\" class=\"dataframe\">\n",
       "  <thead>\n",
       "    <tr style=\"text-align: right;\">\n",
       "      <th></th>\n",
       "      <th>row_id_column_name</th>\n",
       "      <th>text</th>\n",
       "    </tr>\n",
       "  </thead>\n",
       "  <tbody>\n",
       "    <tr>\n",
       "      <th>0</th>\n",
       "      <td>0</td>\n",
       "      <td>বিশেষ অতিথি এফএম ইকবাল বিন আনোয়ার (ডন) অ্যাডিশ...</td>\n",
       "    </tr>\n",
       "    <tr>\n",
       "      <th>1</th>\n",
       "      <td>1</td>\n",
       "      <td>এ নিয়ে বিবাদে ২০১৫ সালের ২ জুন রাত সাড়ে ১১টায় ...</td>\n",
       "    </tr>\n",
       "    <tr>\n",
       "      <th>2</th>\n",
       "      <td>2</td>\n",
       "      <td>আজ থেকে ১৪ বছর আগে তিনি চলে গেছেন না ফেরার দেশে।</td>\n",
       "    </tr>\n",
       "  </tbody>\n",
       "</table>\n",
       "</div>"
      ],
      "text/plain": [
       "   row_id_column_name                                               text\n",
       "0                   0  বিশেষ অতিথি এফএম ইকবাল বিন আনোয়ার (ডন) অ্যাডিশ...\n",
       "1                   1  এ নিয়ে বিবাদে ২০১৫ সালের ২ জুন রাত সাড়ে ১১টায় ...\n",
       "2                   2   আজ থেকে ১৪ বছর আগে তিনি চলে গেছেন না ফেরার দেশে।"
      ]
     },
     "execution_count": 5,
     "metadata": {},
     "output_type": "execute_result"
    }
   ],
   "source": [
    "test_df = pd.read_csv('/kaggle/input/dataverse-ipa/dataverse_2023/testData.csv')\n",
    "test_df.head(3)"
   ]
  },
  {
   "cell_type": "markdown",
   "id": "7e4d2124",
   "metadata": {
    "papermill": {
     "duration": 0.021573,
     "end_time": "2023-10-27T15:14:01.786472",
     "exception": false,
     "start_time": "2023-10-27T15:14:01.764899",
     "status": "completed"
    },
    "tags": []
   },
   "source": [
    "## Training Data Library "
   ]
  },
  {
   "cell_type": "code",
   "execution_count": 6,
   "id": "136a52ef",
   "metadata": {
    "execution": {
     "iopub.execute_input": "2023-10-27T15:14:01.831406Z",
     "iopub.status.busy": "2023-10-27T15:14:01.831065Z",
     "iopub.status.idle": "2023-10-27T15:14:01.837089Z",
     "shell.execute_reply": "2023-10-27T15:14:01.836264Z"
    },
    "papermill": {
     "duration": 0.030865,
     "end_time": "2023-10-27T15:14:01.838945",
     "exception": false,
     "start_time": "2023-10-27T15:14:01.808080",
     "status": "completed"
    },
    "tags": []
   },
   "outputs": [],
   "source": [
    "# Make a function\n",
    "def make_library(df):\n",
    "    '''\n",
    "    \n",
    "    '''\n",
    "    library = {}\n",
    "    texts = df.text\n",
    "    ipas = df.ipa\n",
    "    for i in tqdm(range(len(df))):\n",
    "        for (v1, v2) in zip(re.split(r'\\s+|(?=।)', texts[i]), re.split(r'\\s+|(?=।)', ipas[i])):\n",
    "            library[v1] = v2\n",
    "    return library"
   ]
  },
  {
   "cell_type": "code",
   "execution_count": 7,
   "id": "7a10d26b",
   "metadata": {
    "execution": {
     "iopub.execute_input": "2023-10-27T15:14:01.883753Z",
     "iopub.status.busy": "2023-10-27T15:14:01.883502Z",
     "iopub.status.idle": "2023-10-27T15:14:02.821267Z",
     "shell.execute_reply": "2023-10-27T15:14:02.820381Z"
    },
    "papermill": {
     "duration": 0.962792,
     "end_time": "2023-10-27T15:14:02.823375",
     "exception": false,
     "start_time": "2023-10-27T15:14:01.860583",
     "status": "completed"
    },
    "tags": []
   },
   "outputs": [
    {
     "name": "stderr",
     "output_type": "stream",
     "text": [
      "100%|██████████| 21999/21999 [00:00<00:00, 23661.87it/s]\n"
     ]
    }
   ],
   "source": [
    "lib = make_library(df)\n",
    "# lib.update(make_library(new_df))"
   ]
  },
  {
   "cell_type": "code",
   "execution_count": 8,
   "id": "9bc625bb",
   "metadata": {
    "execution": {
     "iopub.execute_input": "2023-10-27T15:14:02.870301Z",
     "iopub.status.busy": "2023-10-27T15:14:02.869996Z",
     "iopub.status.idle": "2023-10-27T15:14:02.874001Z",
     "shell.execute_reply": "2023-10-27T15:14:02.873162Z"
    },
    "papermill": {
     "duration": 0.029563,
     "end_time": "2023-10-27T15:14:02.875878",
     "exception": false,
     "start_time": "2023-10-27T15:14:02.846315",
     "status": "completed"
    },
    "tags": []
   },
   "outputs": [],
   "source": [
    "# Add brackets is the library\n",
    "lib['('] = '('\n",
    "lib[')'] = ')'"
   ]
  },
  {
   "cell_type": "code",
   "execution_count": 9,
   "id": "c3188950",
   "metadata": {
    "execution": {
     "iopub.execute_input": "2023-10-27T15:14:02.922902Z",
     "iopub.status.busy": "2023-10-27T15:14:02.922074Z",
     "iopub.status.idle": "2023-10-27T15:14:02.992542Z",
     "shell.execute_reply": "2023-10-27T15:14:02.991663Z"
    },
    "papermill": {
     "duration": 0.096406,
     "end_time": "2023-10-27T15:14:02.994613",
     "exception": false,
     "start_time": "2023-10-27T15:14:02.898207",
     "status": "completed"
    },
    "tags": []
   },
   "outputs": [
    {
     "name": "stdout",
     "output_type": "stream",
     "text": [
      "[('এরপরও', 'eɾpɔɾo'), ('তারা', 't̪ɐɾɐ'), ('বকেয়া', 'bɔkeʲɐ'), ('পরিশোধ', 'poɾɪʃod̪ʱ'), ('করেনি', 'kɔɾenɪ'), ('।', '।'), ('আগে', 'ɐge'), ('সুইস', 'suɪ̯s'), ('ব্যাংকে', 'bɛŋke'), ('জমা', 'ɟɔmɐ')]\n"
     ]
    },
    {
     "data": {
      "text/plain": [
       "34817"
      ]
     },
     "execution_count": 9,
     "metadata": {},
     "output_type": "execute_result"
    }
   ],
   "source": [
    "print(list(lib.items())[:10])\n",
    "len(lib)"
   ]
  },
  {
   "cell_type": "code",
   "execution_count": 10,
   "id": "0f70049e",
   "metadata": {
    "execution": {
     "iopub.execute_input": "2023-10-27T15:14:03.041673Z",
     "iopub.status.busy": "2023-10-27T15:14:03.041394Z",
     "iopub.status.idle": "2023-10-27T15:14:03.113915Z",
     "shell.execute_reply": "2023-10-27T15:14:03.113019Z"
    },
    "papermill": {
     "duration": 0.098097,
     "end_time": "2023-10-27T15:14:03.115962",
     "exception": false,
     "start_time": "2023-10-27T15:14:03.017865",
     "status": "completed"
    },
    "tags": []
   },
   "outputs": [
    {
     "name": "stdout",
     "output_type": "stream",
     "text": [
      "Filtered Dictionary: 34505\n"
     ]
    }
   ],
   "source": [
    "bengali_char_pattern = re.compile(r'[\\u0980-\\u09FF]')\n",
    "\n",
    "filtered_lib = {key: value for key, value in lib.items() if not re.search(bengali_char_pattern, value)}\n",
    "\n",
    "print(\"Filtered Dictionary:\", len(filtered_lib))"
   ]
  },
  {
   "cell_type": "code",
   "execution_count": 11,
   "id": "9925db97",
   "metadata": {
    "execution": {
     "iopub.execute_input": "2023-10-27T15:14:03.163132Z",
     "iopub.status.busy": "2023-10-27T15:14:03.162817Z",
     "iopub.status.idle": "2023-10-27T15:14:03.174715Z",
     "shell.execute_reply": "2023-10-27T15:14:03.173755Z"
    },
    "papermill": {
     "duration": 0.037468,
     "end_time": "2023-10-27T15:14:03.176577",
     "exception": false,
     "start_time": "2023-10-27T15:14:03.139109",
     "status": "completed"
    },
    "tags": []
   },
   "outputs": [
    {
     "name": "stdout",
     "output_type": "stream",
     "text": [
      "[('এরপরও', 'eɾpɔɾo'), ('তারা', 't̪ɐɾɐ'), ('বকেয়া', 'bɔkeʲɐ'), ('পরিশোধ', 'poɾɪʃod̪ʱ'), ('করেনি', 'kɔɾenɪ'), ('।', '।'), ('আগে', 'ɐge'), ('সুইস', 'suɪ̯s'), ('ব্যাংকে', 'bɛŋke'), ('জমা', 'ɟɔmɐ')]\n"
     ]
    },
    {
     "data": {
      "text/plain": [
       "34505"
      ]
     },
     "execution_count": 11,
     "metadata": {},
     "output_type": "execute_result"
    }
   ],
   "source": [
    "print(list(filtered_lib.items())[:10])\n",
    "len(filtered_lib)"
   ]
  },
  {
   "cell_type": "code",
   "execution_count": 12,
   "id": "7cc3650f",
   "metadata": {
    "execution": {
     "iopub.execute_input": "2023-10-27T15:14:03.224941Z",
     "iopub.status.busy": "2023-10-27T15:14:03.224432Z",
     "iopub.status.idle": "2023-10-27T15:14:03.228491Z",
     "shell.execute_reply": "2023-10-27T15:14:03.227663Z"
    },
    "papermill": {
     "duration": 0.030821,
     "end_time": "2023-10-27T15:14:03.230395",
     "exception": false,
     "start_time": "2023-10-27T15:14:03.199574",
     "status": "completed"
    },
    "tags": []
   },
   "outputs": [],
   "source": [
    "try:\n",
    "    lib['শ্রেণী']\n",
    "except:\n",
    "    print('ValueError')"
   ]
  },
  {
   "cell_type": "code",
   "execution_count": 13,
   "id": "54b7262b",
   "metadata": {
    "execution": {
     "iopub.execute_input": "2023-10-27T15:14:03.277243Z",
     "iopub.status.busy": "2023-10-27T15:14:03.276987Z",
     "iopub.status.idle": "2023-10-27T15:14:03.282684Z",
     "shell.execute_reply": "2023-10-27T15:14:03.281909Z"
    },
    "papermill": {
     "duration": 0.031398,
     "end_time": "2023-10-27T15:14:03.284662",
     "exception": false,
     "start_time": "2023-10-27T15:14:03.253264",
     "status": "completed"
    },
    "tags": []
   },
   "outputs": [
    {
     "data": {
      "text/plain": [
       "34505"
      ]
     },
     "execution_count": 13,
     "metadata": {},
     "output_type": "execute_result"
    }
   ],
   "source": [
    "lib = filtered_lib\n",
    "len(lib)"
   ]
  },
  {
   "cell_type": "markdown",
   "id": "9ea2be81",
   "metadata": {
    "papermill": {
     "duration": 0.022802,
     "end_time": "2023-10-27T15:14:03.330625",
     "exception": false,
     "start_time": "2023-10-27T15:14:03.307823",
     "status": "completed"
    },
    "tags": []
   },
   "source": [
    "### Modeling"
   ]
  },
  {
   "cell_type": "code",
   "execution_count": 14,
   "id": "7c09afec",
   "metadata": {
    "execution": {
     "iopub.execute_input": "2023-10-27T15:14:03.379415Z",
     "iopub.status.busy": "2023-10-27T15:14:03.379131Z",
     "iopub.status.idle": "2023-10-27T15:14:08.174279Z",
     "shell.execute_reply": "2023-10-27T15:14:08.173421Z"
    },
    "papermill": {
     "duration": 4.821757,
     "end_time": "2023-10-27T15:14:08.176699",
     "exception": false,
     "start_time": "2023-10-27T15:14:03.354942",
     "status": "completed"
    },
    "tags": []
   },
   "outputs": [
    {
     "data": {
      "application/vnd.jupyter.widget-view+json": {
       "model_id": "cce90bae2ed14fc6b92762dcc2c067ae",
       "version_major": 2,
       "version_minor": 0
      },
      "text/plain": [
       "Downloading (…)okenizer_config.json:   0%|          | 0.00/82.0 [00:00<?, ?B/s]"
      ]
     },
     "metadata": {},
     "output_type": "display_data"
    },
    {
     "data": {
      "application/vnd.jupyter.widget-view+json": {
       "model_id": "3ff3b5b3c4ab4f1db373e702cb4e03c2",
       "version_major": 2,
       "version_minor": 0
      },
      "text/plain": [
       "Downloading (…)lve/main/config.json:   0%|          | 0.00/553 [00:00<?, ?B/s]"
      ]
     },
     "metadata": {},
     "output_type": "display_data"
    },
    {
     "data": {
      "application/vnd.jupyter.widget-view+json": {
       "model_id": "6f64844350fc4cfdb3a5f62f9c138c41",
       "version_major": 2,
       "version_minor": 0
      },
      "text/plain": [
       "Downloading (…)ve/main/spiece.model:   0%|          | 0.00/4.31M [00:00<?, ?B/s]"
      ]
     },
     "metadata": {},
     "output_type": "display_data"
    },
    {
     "data": {
      "application/vnd.jupyter.widget-view+json": {
       "model_id": "ab1e6a30bbf74e8f9877867d1c8e471f",
       "version_major": 2,
       "version_minor": 0
      },
      "text/plain": [
       "Downloading (…)cial_tokens_map.json:   0%|          | 0.00/99.0 [00:00<?, ?B/s]"
      ]
     },
     "metadata": {},
     "output_type": "display_data"
    },
    {
     "name": "stderr",
     "output_type": "stream",
     "text": [
      "You are using the default legacy behaviour of the <class 'transformers.models.t5.tokenization_t5.T5Tokenizer'>. If you see this, DO NOT PANIC! This is expected, and simply means that the `legacy` (previous) behavior will be used so nothing changes for you. If you want to use the new behaviour, set `legacy=False`. This should only be set if you understand what it means, and thouroughly read the reason why this was added as explained in https://github.com/huggingface/transformers/pull/24565\n",
      "/opt/conda/lib/python3.10/site-packages/transformers/convert_slow_tokenizer.py:473: UserWarning: The sentencepiece tokenizer that you are converting to a fast tokenizer uses the byte fallback option which is not implemented in the fast tokenizers. In practice this means that the fast version of the tokenizer can produce unknown tokens whereas the sentencepiece version would have converted these unknown tokens into a sequence of byte tokens matching the original piece of text.\n",
      "  warnings.warn(\n"
     ]
    }
   ],
   "source": [
    "from transformers import AutoTokenizer\n",
    "model_id = \"google/mt5-small\"\n",
    "tokenizer = AutoTokenizer.from_pretrained(model_id)"
   ]
  },
  {
   "cell_type": "code",
   "execution_count": 15,
   "id": "91065bc6",
   "metadata": {
    "_kg_hide-output": true,
    "execution": {
     "iopub.execute_input": "2023-10-27T15:14:08.227452Z",
     "iopub.status.busy": "2023-10-27T15:14:08.226992Z",
     "iopub.status.idle": "2023-10-27T15:14:33.493544Z",
     "shell.execute_reply": "2023-10-27T15:14:33.492577Z"
    },
    "papermill": {
     "duration": 25.293716,
     "end_time": "2023-10-27T15:14:33.495673",
     "exception": false,
     "start_time": "2023-10-27T15:14:08.201957",
     "status": "completed"
    },
    "tags": []
   },
   "outputs": [
    {
     "data": {
      "text/plain": [
       "MT5ForConditionalGeneration(\n",
       "  (shared): Embedding(250112, 512)\n",
       "  (encoder): MT5Stack(\n",
       "    (embed_tokens): Embedding(250112, 512)\n",
       "    (block): ModuleList(\n",
       "      (0): MT5Block(\n",
       "        (layer): ModuleList(\n",
       "          (0): MT5LayerSelfAttention(\n",
       "            (SelfAttention): MT5Attention(\n",
       "              (q): Linear(in_features=512, out_features=384, bias=False)\n",
       "              (k): Linear(in_features=512, out_features=384, bias=False)\n",
       "              (v): Linear(in_features=512, out_features=384, bias=False)\n",
       "              (o): Linear(in_features=384, out_features=512, bias=False)\n",
       "              (relative_attention_bias): Embedding(32, 6)\n",
       "            )\n",
       "            (layer_norm): MT5LayerNorm()\n",
       "            (dropout): Dropout(p=0.1, inplace=False)\n",
       "          )\n",
       "          (1): MT5LayerFF(\n",
       "            (DenseReluDense): MT5DenseGatedActDense(\n",
       "              (wi_0): Linear(in_features=512, out_features=1024, bias=False)\n",
       "              (wi_1): Linear(in_features=512, out_features=1024, bias=False)\n",
       "              (wo): Linear(in_features=1024, out_features=512, bias=False)\n",
       "              (dropout): Dropout(p=0.1, inplace=False)\n",
       "              (act): NewGELUActivation()\n",
       "            )\n",
       "            (layer_norm): MT5LayerNorm()\n",
       "            (dropout): Dropout(p=0.1, inplace=False)\n",
       "          )\n",
       "        )\n",
       "      )\n",
       "      (1-7): 7 x MT5Block(\n",
       "        (layer): ModuleList(\n",
       "          (0): MT5LayerSelfAttention(\n",
       "            (SelfAttention): MT5Attention(\n",
       "              (q): Linear(in_features=512, out_features=384, bias=False)\n",
       "              (k): Linear(in_features=512, out_features=384, bias=False)\n",
       "              (v): Linear(in_features=512, out_features=384, bias=False)\n",
       "              (o): Linear(in_features=384, out_features=512, bias=False)\n",
       "            )\n",
       "            (layer_norm): MT5LayerNorm()\n",
       "            (dropout): Dropout(p=0.1, inplace=False)\n",
       "          )\n",
       "          (1): MT5LayerFF(\n",
       "            (DenseReluDense): MT5DenseGatedActDense(\n",
       "              (wi_0): Linear(in_features=512, out_features=1024, bias=False)\n",
       "              (wi_1): Linear(in_features=512, out_features=1024, bias=False)\n",
       "              (wo): Linear(in_features=1024, out_features=512, bias=False)\n",
       "              (dropout): Dropout(p=0.1, inplace=False)\n",
       "              (act): NewGELUActivation()\n",
       "            )\n",
       "            (layer_norm): MT5LayerNorm()\n",
       "            (dropout): Dropout(p=0.1, inplace=False)\n",
       "          )\n",
       "        )\n",
       "      )\n",
       "    )\n",
       "    (final_layer_norm): MT5LayerNorm()\n",
       "    (dropout): Dropout(p=0.1, inplace=False)\n",
       "  )\n",
       "  (decoder): MT5Stack(\n",
       "    (embed_tokens): Embedding(250112, 512)\n",
       "    (block): ModuleList(\n",
       "      (0): MT5Block(\n",
       "        (layer): ModuleList(\n",
       "          (0): MT5LayerSelfAttention(\n",
       "            (SelfAttention): MT5Attention(\n",
       "              (q): Linear(in_features=512, out_features=384, bias=False)\n",
       "              (k): Linear(in_features=512, out_features=384, bias=False)\n",
       "              (v): Linear(in_features=512, out_features=384, bias=False)\n",
       "              (o): Linear(in_features=384, out_features=512, bias=False)\n",
       "              (relative_attention_bias): Embedding(32, 6)\n",
       "            )\n",
       "            (layer_norm): MT5LayerNorm()\n",
       "            (dropout): Dropout(p=0.1, inplace=False)\n",
       "          )\n",
       "          (1): MT5LayerCrossAttention(\n",
       "            (EncDecAttention): MT5Attention(\n",
       "              (q): Linear(in_features=512, out_features=384, bias=False)\n",
       "              (k): Linear(in_features=512, out_features=384, bias=False)\n",
       "              (v): Linear(in_features=512, out_features=384, bias=False)\n",
       "              (o): Linear(in_features=384, out_features=512, bias=False)\n",
       "            )\n",
       "            (layer_norm): MT5LayerNorm()\n",
       "            (dropout): Dropout(p=0.1, inplace=False)\n",
       "          )\n",
       "          (2): MT5LayerFF(\n",
       "            (DenseReluDense): MT5DenseGatedActDense(\n",
       "              (wi_0): Linear(in_features=512, out_features=1024, bias=False)\n",
       "              (wi_1): Linear(in_features=512, out_features=1024, bias=False)\n",
       "              (wo): Linear(in_features=1024, out_features=512, bias=False)\n",
       "              (dropout): Dropout(p=0.1, inplace=False)\n",
       "              (act): NewGELUActivation()\n",
       "            )\n",
       "            (layer_norm): MT5LayerNorm()\n",
       "            (dropout): Dropout(p=0.1, inplace=False)\n",
       "          )\n",
       "        )\n",
       "      )\n",
       "      (1-7): 7 x MT5Block(\n",
       "        (layer): ModuleList(\n",
       "          (0): MT5LayerSelfAttention(\n",
       "            (SelfAttention): MT5Attention(\n",
       "              (q): Linear(in_features=512, out_features=384, bias=False)\n",
       "              (k): Linear(in_features=512, out_features=384, bias=False)\n",
       "              (v): Linear(in_features=512, out_features=384, bias=False)\n",
       "              (o): Linear(in_features=384, out_features=512, bias=False)\n",
       "            )\n",
       "            (layer_norm): MT5LayerNorm()\n",
       "            (dropout): Dropout(p=0.1, inplace=False)\n",
       "          )\n",
       "          (1): MT5LayerCrossAttention(\n",
       "            (EncDecAttention): MT5Attention(\n",
       "              (q): Linear(in_features=512, out_features=384, bias=False)\n",
       "              (k): Linear(in_features=512, out_features=384, bias=False)\n",
       "              (v): Linear(in_features=512, out_features=384, bias=False)\n",
       "              (o): Linear(in_features=384, out_features=512, bias=False)\n",
       "            )\n",
       "            (layer_norm): MT5LayerNorm()\n",
       "            (dropout): Dropout(p=0.1, inplace=False)\n",
       "          )\n",
       "          (2): MT5LayerFF(\n",
       "            (DenseReluDense): MT5DenseGatedActDense(\n",
       "              (wi_0): Linear(in_features=512, out_features=1024, bias=False)\n",
       "              (wi_1): Linear(in_features=512, out_features=1024, bias=False)\n",
       "              (wo): Linear(in_features=1024, out_features=512, bias=False)\n",
       "              (dropout): Dropout(p=0.1, inplace=False)\n",
       "              (act): NewGELUActivation()\n",
       "            )\n",
       "            (layer_norm): MT5LayerNorm()\n",
       "            (dropout): Dropout(p=0.1, inplace=False)\n",
       "          )\n",
       "        )\n",
       "      )\n",
       "    )\n",
       "    (final_layer_norm): MT5LayerNorm()\n",
       "    (dropout): Dropout(p=0.1, inplace=False)\n",
       "  )\n",
       "  (lm_head): Linear(in_features=512, out_features=250112, bias=False)\n",
       ")"
      ]
     },
     "execution_count": 15,
     "metadata": {},
     "output_type": "execute_result"
    }
   ],
   "source": [
    "# Later, to load the model back\n",
    "loaded_model = joblib.load('/kaggle/input/model1/model (1).pkl')\n",
    "loaded_model"
   ]
  },
  {
   "cell_type": "code",
   "execution_count": 16,
   "id": "35c6921d",
   "metadata": {
    "execution": {
     "iopub.execute_input": "2023-10-27T15:14:33.546033Z",
     "iopub.status.busy": "2023-10-27T15:14:33.545697Z",
     "iopub.status.idle": "2023-10-27T15:14:33.549690Z",
     "shell.execute_reply": "2023-10-27T15:14:33.548837Z"
    },
    "papermill": {
     "duration": 0.03135,
     "end_time": "2023-10-27T15:14:33.551756",
     "exception": false,
     "start_time": "2023-10-27T15:14:33.520406",
     "status": "completed"
    },
    "tags": []
   },
   "outputs": [],
   "source": [
    "# # Remove English alphanumeric values\n",
    "# alpha_pat = \"[a-zA-z0-9০-৯()]\"\n",
    "# test_df[\"text\"] = test_df[\"text\"].str.replace(alpha_pat, \"\", regex=True)"
   ]
  },
  {
   "cell_type": "code",
   "execution_count": 17,
   "id": "12b64177",
   "metadata": {
    "execution": {
     "iopub.execute_input": "2023-10-27T15:14:33.603072Z",
     "iopub.status.busy": "2023-10-27T15:14:33.602784Z",
     "iopub.status.idle": "2023-10-27T15:14:35.478959Z",
     "shell.execute_reply": "2023-10-27T15:14:35.478152Z"
    },
    "papermill": {
     "duration": 1.904212,
     "end_time": "2023-10-27T15:14:35.481317",
     "exception": false,
     "start_time": "2023-10-27T15:14:33.577105",
     "status": "completed"
    },
    "tags": []
   },
   "outputs": [],
   "source": [
    "from transformers import pipeline\n",
    "\n",
    "pipe = pipeline(\"text2text-generation\", model=loaded_model,tokenizer=tokenizer, device=0)"
   ]
  },
  {
   "cell_type": "code",
   "execution_count": 18,
   "id": "e45d902a",
   "metadata": {
    "execution": {
     "iopub.execute_input": "2023-10-27T15:14:35.531445Z",
     "iopub.status.busy": "2023-10-27T15:14:35.531155Z",
     "iopub.status.idle": "2023-10-27T15:14:39.711142Z",
     "shell.execute_reply": "2023-10-27T15:14:39.710060Z"
    },
    "papermill": {
     "duration": 4.207998,
     "end_time": "2023-10-27T15:14:39.713974",
     "exception": false,
     "start_time": "2023-10-27T15:14:35.505976",
     "status": "completed"
    },
    "tags": []
   },
   "outputs": [
    {
     "name": "stdout",
     "output_type": "stream",
     "text": [
      "[{'generated_text': 'ʃund̪ɔɾ ʃund̪ɔɾmonɐ ɐmɪ t̪omɐke bɦɐlobɐʃɪ।'}]\n"
     ]
    }
   ],
   "source": [
    "for i in range(3):\n",
    "    texts = \"সুন্দর সুন্দরমনা আমি তোমাকে ভালবাসি।\"\n",
    "    # texts = \"বিশেষ অতিথি এফএম ইকবাল বিন আনোয়ার (ডন) অ্যাডিশনাল ডাইরেক্টরগেমস অ্যান্ড স্পোর্টস ডিপার্টমেন্ট ওয়ালটন।\"\n",
    "    # texts = 'আমি তোমাকে মন।'\n",
    "    ipas = pipe(texts, max_length=128, batch_size=16)\n",
    "print(ipas)"
   ]
  },
  {
   "cell_type": "code",
   "execution_count": 19,
   "id": "9f532cad",
   "metadata": {
    "execution": {
     "iopub.execute_input": "2023-10-27T15:14:39.766004Z",
     "iopub.status.busy": "2023-10-27T15:14:39.765652Z",
     "iopub.status.idle": "2023-10-27T15:14:39.771539Z",
     "shell.execute_reply": "2023-10-27T15:14:39.770640Z"
    },
    "papermill": {
     "duration": 0.033212,
     "end_time": "2023-10-27T15:14:39.773597",
     "exception": false,
     "start_time": "2023-10-27T15:14:39.740385",
     "status": "completed"
    },
    "tags": []
   },
   "outputs": [],
   "source": [
    "def calculate_ipa(txt):\n",
    "    '''\n",
    "    Converts a sentence to IPA using t5 model.\n",
    "    '''\n",
    "    ipas = pipe(txt, max_length=128, batch_size=16)\n",
    "    return ipas[0]['generated_text']\n",
    "\n",
    "def word_to_ipa(word):\n",
    "    '''\n",
    "    Converts a Word to IPA using t5 model.\n",
    "    '''\n",
    "    word += '।'\n",
    "    ipas = pipe(word, max_length=128, batch_size=16)\n",
    "    output_string = ' '.join(ipas[0]['generated_text'].split())\n",
    "    return output_string[:-1]"
   ]
  },
  {
   "cell_type": "code",
   "execution_count": 20,
   "id": "79b4a7ce",
   "metadata": {
    "execution": {
     "iopub.execute_input": "2023-10-27T15:14:39.824120Z",
     "iopub.status.busy": "2023-10-27T15:14:39.823820Z",
     "iopub.status.idle": "2023-10-27T15:14:40.377345Z",
     "shell.execute_reply": "2023-10-27T15:14:40.376329Z"
    },
    "papermill": {
     "duration": 0.580566,
     "end_time": "2023-10-27T15:14:40.379393",
     "exception": false,
     "start_time": "2023-10-27T15:14:39.798827",
     "status": "completed"
    },
    "tags": []
   },
   "outputs": [
    {
     "data": {
      "text/plain": [
       "('t̪ɐɾɐ-', 't̪omɐke,')"
      ]
     },
     "execution_count": 20,
     "metadata": {},
     "output_type": "execute_result"
    }
   ],
   "source": [
    "# Check the function\n",
    "word_to_ipa('তারা-'), word_to_ipa('তোমাকে,')\n",
    "word_to_ipa('তারা-'), word_to_ipa('তোমাকে,')"
   ]
  },
  {
   "cell_type": "code",
   "execution_count": 21,
   "id": "10a8dcbf",
   "metadata": {
    "execution": {
     "iopub.execute_input": "2023-10-27T15:14:40.429830Z",
     "iopub.status.busy": "2023-10-27T15:14:40.429517Z",
     "iopub.status.idle": "2023-10-27T15:14:40.551543Z",
     "shell.execute_reply": "2023-10-27T15:14:40.550739Z"
    },
    "papermill": {
     "duration": 0.149495,
     "end_time": "2023-10-27T15:14:40.553800",
     "exception": false,
     "start_time": "2023-10-27T15:14:40.404305",
     "status": "completed"
    },
    "tags": []
   },
   "outputs": [
    {
     "data": {
      "text/plain": [
       "'sɾenɪɾ'"
      ]
     },
     "execution_count": 21,
     "metadata": {},
     "output_type": "execute_result"
    }
   ],
   "source": [
    "word_to_ipa('শ্রেণীর')"
   ]
  },
  {
   "cell_type": "code",
   "execution_count": 22,
   "id": "4d54df64",
   "metadata": {
    "execution": {
     "iopub.execute_input": "2023-10-27T15:14:40.606379Z",
     "iopub.status.busy": "2023-10-27T15:14:40.606092Z",
     "iopub.status.idle": "2023-10-27T15:14:40.610350Z",
     "shell.execute_reply": "2023-10-27T15:14:40.609579Z"
    },
    "papermill": {
     "duration": 0.032159,
     "end_time": "2023-10-27T15:14:40.612202",
     "exception": false,
     "start_time": "2023-10-27T15:14:40.580043",
     "status": "completed"
    },
    "tags": []
   },
   "outputs": [],
   "source": [
    "def contains_bengali_digit(text):\n",
    "    '''\n",
    "    Is there a bengali digit in text\n",
    "    '''\n",
    "    return bool(re.search(r'[০-৯]', text))"
   ]
  },
  {
   "cell_type": "code",
   "execution_count": 23,
   "id": "ba8a4f8e",
   "metadata": {
    "execution": {
     "iopub.execute_input": "2023-10-27T15:14:40.662140Z",
     "iopub.status.busy": "2023-10-27T15:14:40.661869Z",
     "iopub.status.idle": "2023-10-27T15:14:40.668725Z",
     "shell.execute_reply": "2023-10-27T15:14:40.667872Z"
    },
    "papermill": {
     "duration": 0.034149,
     "end_time": "2023-10-27T15:14:40.670783",
     "exception": false,
     "start_time": "2023-10-27T15:14:40.636634",
     "status": "completed"
    },
    "tags": []
   },
   "outputs": [],
   "source": [
    "def ipa_converter(text):\n",
    "    '''\n",
    "    Converts a sentence to IPA\n",
    "    '''\n",
    "    ipa = ''\n",
    "    #for value in re.split(r'\\s+|(?=।)', text):\n",
    "    words = re.split(r'\\s+|(?<=[()।])|(?=[()।])', text)\n",
    "    \n",
    "    # Filter out empty strings and extra spaces from the result\n",
    "    words = [word.strip() for word in words if word.strip()]\n",
    "    for value in words:\n",
    "        if value in lib:\n",
    "            ipa += lib[value]\n",
    "            ipa += ' '\n",
    "        else:\n",
    "            # ipa += 'UNKey '\n",
    "            ipa += word_to_ipa(value)\n",
    "            ipa += ' '\n",
    "            \n",
    "    pattern = r'\\s+(?=।)|(?<=।)\\s+'\n",
    "    cln_ipa = re.sub(pattern, '', ipa)\n",
    "    \n",
    "    # Replace ' (' with '('\n",
    "    cln_ipa = re.sub(r'\\(\\s+', '(', cln_ipa)\n",
    "\n",
    "    # Replace ') ' with ')'\n",
    "    cln_ipa = re.sub(r'\\s+\\)', ')', cln_ipa)\n",
    "    return cln_ipa"
   ]
  },
  {
   "cell_type": "code",
   "execution_count": 24,
   "id": "2b3eb225",
   "metadata": {
    "execution": {
     "iopub.execute_input": "2023-10-27T15:14:40.721503Z",
     "iopub.status.busy": "2023-10-27T15:14:40.721241Z",
     "iopub.status.idle": "2023-10-27T15:14:40.971370Z",
     "shell.execute_reply": "2023-10-27T15:14:40.970493Z"
    },
    "papermill": {
     "duration": 0.278213,
     "end_time": "2023-10-27T15:14:40.973335",
     "exception": false,
     "start_time": "2023-10-27T15:14:40.695122",
     "status": "completed"
    },
    "tags": []
   },
   "outputs": [
    {
     "data": {
      "text/plain": [
       "'ʃɔt̪kɔɾmo bɾɪt̪ʰɐ ɟɐe̯ nɐ।'"
      ]
     },
     "execution_count": 24,
     "metadata": {},
     "output_type": "execute_result"
    }
   ],
   "source": [
    "txt = 'সৎকর্ম বৃথা যায় না।'\n",
    "ac = 'ʃɔt̪kɔrmo bɾɪt̪ʰa ɟae̯ na'\n",
    "\n",
    "ipa_converter(txt)"
   ]
  },
  {
   "cell_type": "code",
   "execution_count": 25,
   "id": "fdd4f3f3",
   "metadata": {
    "execution": {
     "iopub.execute_input": "2023-10-27T15:14:41.024216Z",
     "iopub.status.busy": "2023-10-27T15:14:41.023957Z",
     "iopub.status.idle": "2023-10-27T15:14:41.029673Z",
     "shell.execute_reply": "2023-10-27T15:14:41.028799Z"
    },
    "papermill": {
     "duration": 0.033362,
     "end_time": "2023-10-27T15:14:41.031650",
     "exception": false,
     "start_time": "2023-10-27T15:14:40.998288",
     "status": "completed"
    },
    "tags": []
   },
   "outputs": [
    {
     "data": {
      "text/plain": [
       "'bɐŋlɐd̪eʃ'"
      ]
     },
     "execution_count": 25,
     "metadata": {},
     "output_type": "execute_result"
    }
   ],
   "source": [
    "lib['বাংলাদেশ']"
   ]
  },
  {
   "cell_type": "code",
   "execution_count": 26,
   "id": "7aed1331",
   "metadata": {
    "execution": {
     "iopub.execute_input": "2023-10-27T15:14:41.082223Z",
     "iopub.status.busy": "2023-10-27T15:14:41.081941Z",
     "iopub.status.idle": "2023-10-27T15:14:41.295883Z",
     "shell.execute_reply": "2023-10-27T15:14:41.295022Z"
    },
    "papermill": {
     "duration": 0.241587,
     "end_time": "2023-10-27T15:14:41.297886",
     "exception": false,
     "start_time": "2023-10-27T15:14:41.056299",
     "status": "completed"
    },
    "tags": []
   },
   "outputs": [
    {
     "name": "stdout",
     "output_type": "stream",
     "text": [
      "541\n"
     ]
    },
    {
     "name": "stderr",
     "output_type": "stream",
     "text": [
      "/opt/conda/lib/python3.10/site-packages/transformers/pipelines/base.py:1101: UserWarning: You seem to be using the pipelines sequentially on GPU. In order to maximize efficiency please use a dataset\n",
      "  warnings.warn(\n"
     ]
    },
    {
     "name": "stdout",
     "output_type": "stream",
     "text": [
      "Pred = cukt̪ɪ t̪ʰeke ɟukt̪oɾɐʃtɾeɾ ʃɔɾe ɟɐo̯ʷɐɾ pɾokɾɪʲɐ ʃɔmponno hot̪e ɟɪʃɪ ʃɐleɾ nɔbʱembɔɾ poɾɟont̪o ʃɔmɔe̯ lege ɟɐbe।\n",
      "True = চুক্তি থেকে যুক্তরাষ্ট্রের সরে যাওয়ার প্রক্রিয়া সম্পন্ন হতে ২০২০ সালের নভেম্বর পর্যন্ত সময় লেগে যাবে।\n"
     ]
    }
   ],
   "source": [
    "rand_index = np.random.randint(0, 1000)\n",
    "print(rand_index)\n",
    "print(f'Pred = {ipa_converter(test_df.text[rand_index])}\\nTrue = {test_df.text[rand_index]}')"
   ]
  },
  {
   "cell_type": "markdown",
   "id": "fff2e246",
   "metadata": {
    "papermill": {
     "duration": 0.026165,
     "end_time": "2023-10-27T15:14:41.351206",
     "exception": false,
     "start_time": "2023-10-27T15:14:41.325041",
     "status": "completed"
    },
    "tags": []
   },
   "source": [
    "## WORD ERROR RATE "
   ]
  },
  {
   "cell_type": "code",
   "execution_count": 27,
   "id": "6bead09d",
   "metadata": {
    "execution": {
     "iopub.execute_input": "2023-10-27T15:14:41.407619Z",
     "iopub.status.busy": "2023-10-27T15:14:41.407241Z",
     "iopub.status.idle": "2023-10-27T15:14:41.747642Z",
     "shell.execute_reply": "2023-10-27T15:14:41.746721Z"
    },
    "papermill": {
     "duration": 0.372581,
     "end_time": "2023-10-27T15:14:41.749990",
     "exception": false,
     "start_time": "2023-10-27T15:14:41.377409",
     "status": "completed"
    },
    "tags": []
   },
   "outputs": [
    {
     "data": {
      "text/plain": [
       "'ɛkɪ nɔbʱembɔɾ nɔɾend̪ɾo mod̪ɪ stedɪjɐm, bɐŋlɐd̪eʃ bɪʃʃokɐp ʃɪɾopɐ t̪ullo।'"
      ]
     },
     "execution_count": 27,
     "metadata": {},
     "output_type": "execute_result"
    }
   ],
   "source": [
    "txt = '১৯ নভেম্বর নরেন্দ্র মোদি স্টেডিয়াম, বাংলাদেশ বিশ্বকাপ শিরোপা তুললো।'\n",
    "actual = 'unɪʃ novembɔɾ nɔɾendɾɐ modɪ stedɪum, bɐŋlɐd̪eʃ bɪʃʃokɐp ʃɪɾopɐ t̪ullo।'\n",
    "ipa_converter(txt)"
   ]
  },
  {
   "cell_type": "markdown",
   "id": "f4936c56",
   "metadata": {
    "papermill": {
     "duration": 0.025238,
     "end_time": "2023-10-27T15:14:41.800730",
     "exception": false,
     "start_time": "2023-10-27T15:14:41.775492",
     "status": "completed"
    },
    "tags": []
   },
   "source": [
    "# **Need to handle Exceptional Cases**\n",
    "1. Numeric Words (ie. ০-৯)  ***(Done)***\n",
    "2. Bracket      ***(Done)***\n",
    "3. হয়’ --> hɔj ‘    \n",
    "4. Mistake in Library (ie. শ্রেণির)   ***(Done)***\n",
    "5. dict_change  =  \"bɦ\"  : \"bʱ\",   \"dɦ\":\"dʱ\"   etc\n",
    "    "
   ]
  },
  {
   "cell_type": "markdown",
   "id": "8dd52658",
   "metadata": {
    "papermill": {
     "duration": 0.024988,
     "end_time": "2023-10-27T15:14:41.850912",
     "exception": false,
     "start_time": "2023-10-27T15:14:41.825924",
     "status": "completed"
    },
    "tags": []
   },
   "source": [
    "### BRACKETS HANDLING"
   ]
  },
  {
   "cell_type": "code",
   "execution_count": 28,
   "id": "567225b1",
   "metadata": {
    "execution": {
     "iopub.execute_input": "2023-10-27T15:14:41.903569Z",
     "iopub.status.busy": "2023-10-27T15:14:41.902746Z",
     "iopub.status.idle": "2023-10-27T15:14:41.907084Z",
     "shell.execute_reply": "2023-10-27T15:14:41.906204Z"
    },
    "papermill": {
     "duration": 0.032817,
     "end_time": "2023-10-27T15:14:41.909015",
     "exception": false,
     "start_time": "2023-10-27T15:14:41.876198",
     "status": "completed"
    },
    "tags": []
   },
   "outputs": [],
   "source": [
    "# Add brackets is the library\n",
    "lib['('] = '('\n",
    "lib[')'] = ')'"
   ]
  },
  {
   "cell_type": "code",
   "execution_count": 29,
   "id": "df3ac702",
   "metadata": {
    "execution": {
     "iopub.execute_input": "2023-10-27T15:14:41.960560Z",
     "iopub.status.busy": "2023-10-27T15:14:41.960267Z",
     "iopub.status.idle": "2023-10-27T15:14:41.965496Z",
     "shell.execute_reply": "2023-10-27T15:14:41.964588Z"
    },
    "papermill": {
     "duration": 0.033252,
     "end_time": "2023-10-27T15:14:41.967520",
     "exception": false,
     "start_time": "2023-10-27T15:14:41.934268",
     "status": "completed"
    },
    "tags": []
   },
   "outputs": [
    {
     "name": "stdout",
     "output_type": "stream",
     "text": [
      "Text = বজ্রঘাতে দক্ষিণপাড়া এলাকার আজগর আলী ও সোহরাব মিয়ার বাড়ির আঙ্গিনায় গ্যাসের রেগুলেটর বিস্ফোরণ হয়ে আগুন ধরে যায়।\n"
     ]
    }
   ],
   "source": [
    "# See a random sample from the test set \n",
    "rand_index = np.random.randint(0, len(test_df))\n",
    "print(f'Text = {test_df.text[rand_index]}')"
   ]
  },
  {
   "cell_type": "code",
   "execution_count": 30,
   "id": "aa4e9d32",
   "metadata": {
    "execution": {
     "iopub.execute_input": "2023-10-27T15:14:42.019003Z",
     "iopub.status.busy": "2023-10-27T15:14:42.018711Z",
     "iopub.status.idle": "2023-10-27T15:14:42.024026Z",
     "shell.execute_reply": "2023-10-27T15:14:42.023215Z"
    },
    "papermill": {
     "duration": 0.033587,
     "end_time": "2023-10-27T15:14:42.026282",
     "exception": false,
     "start_time": "2023-10-27T15:14:41.992695",
     "status": "completed"
    },
    "tags": []
   },
   "outputs": [
    {
     "name": "stdout",
     "output_type": "stream",
     "text": [
      "['মেয়েদের', 'আনইভেন', 'বার', '(', 'রাত', '১টা', '২১', ')', 'ভারোত্তোলনমেয়েদের', '৭৫', 'কেজি', 'ফাইনাল', '(', 'রাত', '১২টা', '৩০', 'ও', '৪টা', ')', 'ডাইভিংমেয়েদের', '৩', 'মিটার', 'স্প্রিং', 'বোর্ড', '(', 'রাত', '১টা', ')', '।']\n"
     ]
    }
   ],
   "source": [
    "import re\n",
    "\n",
    "# Input sentence\n",
    "text = \"মেয়েদের আনইভেন বার (রাত ১টা ২১)ভারোত্তোলনমেয়েদের ৭৫ কেজি ফাইনাল (রাত ১২টা ৩০ ও ৪টা)ডাইভিংমেয়েদের ৩ মিটার স্প্রিং বোর্ড (রাত ১টা)।\"\n",
    "\n",
    "# Split the sentence using a regular expression to keep spaces, periods, and parentheses\n",
    "words = re.split(r'\\s+|(?<=[()।])|(?=[()।])', text)\n",
    "\n",
    "# Filter out empty strings and extra spaces from the result\n",
    "words = [word.strip() for word in words if word.strip()]\n",
    "\n",
    "# Print the words\n",
    "print(words)"
   ]
  },
  {
   "cell_type": "code",
   "execution_count": 31,
   "id": "21cb88cf",
   "metadata": {
    "execution": {
     "iopub.execute_input": "2023-10-27T15:14:42.078072Z",
     "iopub.status.busy": "2023-10-27T15:14:42.077759Z",
     "iopub.status.idle": "2023-10-27T15:14:43.572610Z",
     "shell.execute_reply": "2023-10-27T15:14:43.571658Z"
    },
    "papermill": {
     "duration": 1.522768,
     "end_time": "2023-10-27T15:14:43.574579",
     "exception": false,
     "start_time": "2023-10-27T15:14:42.051811",
     "status": "completed"
    },
    "tags": []
   },
   "outputs": [
    {
     "data": {
      "text/plain": [
       "'mejed̪eɾ ɐnɪbɦen bɐɾ (ɾɐt̪ d̪ɛtɐ sɪk) bɦɐɾot̪t̪olɔnmejed̪eɾ ɐcɪ keɟɪ pʰɐɪ̯nɐl (ɾɐt̪ dɪntɐ kuɾɪn o cɛtɐ) dɐɪ̯bɦɪŋmejed̪eɾ t̪ɪ mɪtɐɾ венциŋ boɾd (ɾɐt̪ t̪otɐ)।'"
      ]
     },
     "execution_count": 31,
     "metadata": {},
     "output_type": "execute_result"
    }
   ],
   "source": [
    "ipa_converter(text)"
   ]
  },
  {
   "cell_type": "markdown",
   "id": "0a0ead3b",
   "metadata": {
    "papermill": {
     "duration": 0.025134,
     "end_time": "2023-10-27T15:14:43.625496",
     "exception": false,
     "start_time": "2023-10-27T15:14:43.600362",
     "status": "completed"
    },
    "tags": []
   },
   "source": [
    "### Search for exceptions "
   ]
  },
  {
   "cell_type": "code",
   "execution_count": 32,
   "id": "6a3a5805",
   "metadata": {
    "execution": {
     "iopub.execute_input": "2023-10-27T15:14:43.677660Z",
     "iopub.status.busy": "2023-10-27T15:14:43.677221Z",
     "iopub.status.idle": "2023-10-27T15:14:43.705841Z",
     "shell.execute_reply": "2023-10-27T15:14:43.704910Z"
    },
    "papermill": {
     "duration": 0.0569,
     "end_time": "2023-10-27T15:14:43.707681",
     "exception": false,
     "start_time": "2023-10-27T15:14:43.650781",
     "status": "completed"
    },
    "tags": []
   },
   "outputs": [
    {
     "name": "stdout",
     "output_type": "stream",
     "text": [
      "Length of the Df = (1284, 2)\n"
     ]
    }
   ],
   "source": [
    "filt_cond = [\"১-৯\", 'A-Za-z0-9']\n",
    "# Filtering text samples that contain English alphanumeric values\n",
    "filt = test_df[lambda x: x[\"text\"].str.contains(\"‘\")]\n",
    "filt = filt.reset_index(drop=True)\n",
    "print(f'Length of the Df = {filt.shape}')"
   ]
  },
  {
   "cell_type": "code",
   "execution_count": 33,
   "id": "86a394b6",
   "metadata": {
    "execution": {
     "iopub.execute_input": "2023-10-27T15:14:43.760425Z",
     "iopub.status.busy": "2023-10-27T15:14:43.759749Z",
     "iopub.status.idle": "2023-10-27T15:14:43.765822Z",
     "shell.execute_reply": "2023-10-27T15:14:43.765033Z"
    },
    "papermill": {
     "duration": 0.034135,
     "end_time": "2023-10-27T15:14:43.767597",
     "exception": false,
     "start_time": "2023-10-27T15:14:43.733462",
     "status": "completed"
    },
    "tags": []
   },
   "outputs": [
    {
     "data": {
      "text/plain": [
       "'এ প্রসঙ্গে বিশিষ্ট কথাসাহিত্যিক অধ্যাপক সৈয়দ মনজুরুল ইসলাম যুগান্তরকে বলেন, যুক্তবর্ণ এড়াতে ‘ওড়না’ বা ‘অজ’ শব্দ ব্যবহারের যুক্তি গ্রহণযোগ্য নয়।'"
      ]
     },
     "execution_count": 33,
     "metadata": {},
     "output_type": "execute_result"
    }
   ],
   "source": [
    "ind = np.random.randint(0, len(filt))\n",
    "filt.text[ind]"
   ]
  },
  {
   "cell_type": "code",
   "execution_count": 34,
   "id": "5fda64fa",
   "metadata": {
    "execution": {
     "iopub.execute_input": "2023-10-27T15:14:43.820104Z",
     "iopub.status.busy": "2023-10-27T15:14:43.819808Z",
     "iopub.status.idle": "2023-10-27T15:14:43.965534Z",
     "shell.execute_reply": "2023-10-27T15:14:43.964694Z"
    },
    "papermill": {
     "duration": 0.174561,
     "end_time": "2023-10-27T15:14:43.967537",
     "exception": false,
     "start_time": "2023-10-27T15:14:43.792976",
     "status": "completed"
    },
    "tags": []
   },
   "outputs": [
    {
     "data": {
      "text/plain": [
       "\"bɐ̃cɐnoɾ'\""
      ]
     },
     "execution_count": 34,
     "metadata": {},
     "output_type": "execute_result"
    }
   ],
   "source": [
    "word_to_ipa('বাঁচানোর’')"
   ]
  },
  {
   "cell_type": "code",
   "execution_count": 35,
   "id": "2c1d2a4a",
   "metadata": {
    "execution": {
     "iopub.execute_input": "2023-10-27T15:14:44.019824Z",
     "iopub.status.busy": "2023-10-27T15:14:44.019530Z",
     "iopub.status.idle": "2023-10-27T15:14:44.740493Z",
     "shell.execute_reply": "2023-10-27T15:14:44.739566Z"
    },
    "papermill": {
     "duration": 0.749557,
     "end_time": "2023-10-27T15:14:44.742804",
     "exception": false,
     "start_time": "2023-10-27T15:14:43.993247",
     "status": "completed"
    },
    "tags": []
   },
   "outputs": [
    {
     "data": {
      "text/plain": [
       "\"e pɾoʃɔŋge bɪʃɪʃto kɔt̪hɐʃɐhɪt̪t̪ɪk od̪d̪ʱɐpok soɪ̯ʲod̪ monoɟuɾul ɪslɐm ɟugɐnt̪ɔɾke bɔlen, ɟukt̪oɾɔbo eɽɐt̪e ‘oɽɔnɐ' bɐ ‘ɔɟoŋ ‘ɔɟo“ ʃɔbd̪o bɛbohɐɾeɾ ɟukt̪ɪ gɾohonɟoggo nɔe̯।\""
      ]
     },
     "execution_count": 35,
     "metadata": {},
     "output_type": "execute_result"
    }
   ],
   "source": [
    "ipa_converter(filt.text[ind])"
   ]
  },
  {
   "cell_type": "markdown",
   "id": "b1831f34",
   "metadata": {
    "papermill": {
     "duration": 0.026557,
     "end_time": "2023-10-27T15:14:44.796480",
     "exception": false,
     "start_time": "2023-10-27T15:14:44.769923",
     "status": "completed"
    },
    "tags": []
   },
   "source": [
    "## Handle the Number Case"
   ]
  },
  {
   "cell_type": "code",
   "execution_count": 36,
   "id": "fa809f35",
   "metadata": {
    "_kg_hide-input": true,
    "execution": {
     "iopub.execute_input": "2023-10-27T15:14:44.850662Z",
     "iopub.status.busy": "2023-10-27T15:14:44.850317Z",
     "iopub.status.idle": "2023-10-27T15:14:44.876507Z",
     "shell.execute_reply": "2023-10-27T15:14:44.875771Z"
    },
    "jupyter": {
     "source_hidden": true
    },
    "papermill": {
     "duration": 0.055516,
     "end_time": "2023-10-27T15:14:44.878404",
     "exception": false,
     "start_time": "2023-10-27T15:14:44.822888",
     "status": "completed"
    },
    "tags": []
   },
   "outputs": [],
   "source": [
    "import math\n",
    "numeric_words = {\n",
    "    '.': 'দশমিক',\n",
    "    '0': '',\n",
    "    '1': 'এক',\n",
    "    '01': 'এক',\n",
    "    '2': 'দুই',\n",
    "    '02': 'দুই',\n",
    "    '3': 'তিন',\n",
    "    '03': 'তিন',\n",
    "    '4': 'চার',\n",
    "    '04': 'চার',\n",
    "    '5': 'পাঁচ',\n",
    "    '05': 'পাঁচ',\n",
    "    '6': 'ছয়',\n",
    "    '06': 'ছয়',\n",
    "    '7': 'সাত',\n",
    "    '07': 'সাত',\n",
    "    '8': 'আট',\n",
    "    '08': 'আট',\n",
    "    '9': 'নয়',\n",
    "    '09': 'নয়',\n",
    "    '10': 'দশ',\n",
    "    '11': 'এগারো',\n",
    "    '12': 'বার',\n",
    "    '13': 'তের',\n",
    "    '14': 'চৌদ্দ',\n",
    "    '15': 'পনের',\n",
    "    '16': 'ষোল',\n",
    "    '17': 'সতের',\n",
    "    '18': 'আঠার',\n",
    "    '19': 'উনিশ',\n",
    "    '20': 'বিশ',\n",
    "    '21': 'একুশ',\n",
    "    '22': 'বাইশ',\n",
    "    '23': 'তেইশ',\n",
    "    '24': 'চব্বিশ',\n",
    "    '25': 'পঁচিশ',\n",
    "    '26': 'ছাব্বিশ',\n",
    "    '27': 'সাতাশ',\n",
    "    '28': 'আঠাশ',\n",
    "    '29': 'ঊনত্রিশ',\n",
    "    '30': 'ত্রিশ',\n",
    "    '31': 'একত্রিশ',\n",
    "    '32': 'বত্রিশ',\n",
    "    '33': 'তেত্রিশ',\n",
    "    '34': 'চৌত্রিশ',\n",
    "    '35': 'পঁয়ত্রিশ',\n",
    "    '36': 'ছত্রিশ',\n",
    "    '37': 'সাঁইত্রিশ',\n",
    "    '38': 'আটত্রিশ',\n",
    "    '39': 'ঊনচল্লিশ',\n",
    "    '40': 'চল্লিশ',\n",
    "    '41': 'একচল্লিশ',\n",
    "    '42': 'বিয়াল্লিশ',\n",
    "    '43': 'তেতাল্লিশ',\n",
    "    '44': 'চুয়াল্লিশ',\n",
    "    '45': 'পঁয়তাল্লিশ',\n",
    "    '46': 'ছেচল্লিশ',\n",
    "    '47': 'সাতচল্লিশ',\n",
    "    '48': 'আটচল্লিশ',\n",
    "    '49': 'ঊনপঞ্চাশ',\n",
    "    '50': 'পঞ্চাশ',\n",
    "    '51': 'একান্ন',\n",
    "    '52': 'বায়ান্ন',\n",
    "    '53': 'তিপ্পান্ন',\n",
    "    '54': 'চুয়ান্ন',\n",
    "    '55': 'পঞ্চান্ন',\n",
    "    '56': 'ছাপ্পান্ন',\n",
    "    '57': 'সাতান্ন',\n",
    "    '58': 'আটান্ন',\n",
    "    '59': 'ঊনষাট',\n",
    "    '60': 'ষাট',\n",
    "    '61': 'একষট্টি',\n",
    "    '62': 'বাষট্টি',\n",
    "    '63': 'তেষট্টি',\n",
    "    '64': 'চৌষট্টি',\n",
    "    '65': 'পঁয়ষট্টি',\n",
    "    '66': 'ছেষট্টি',\n",
    "    '67': 'সাতষট্টি',\n",
    "    '68': 'আটষট্টি',\n",
    "    '69': 'ঊনসত্তর',\n",
    "    '70': 'সত্তর',\n",
    "    '71': 'একাত্তর',\n",
    "    '72': 'বাহাত্তর',\n",
    "    '73': 'তিয়াত্তর',\n",
    "    '74': 'চুয়াত্তর',\n",
    "    '75': 'পঁচাত্তর',\n",
    "    '76': 'ছিয়াত্তর',\n",
    "    '77': 'সাতাত্তর',\n",
    "    '78': 'আটাত্তর',\n",
    "    '79': 'ঊনআশি',\n",
    "    '80': 'আশি',\n",
    "    '81': 'একাশি',\n",
    "    '82': 'বিরাশি',\n",
    "    '83': 'তিরাশি',\n",
    "    '84': 'চুরাশি',\n",
    "    '85': 'পঁচাশি',\n",
    "    '86': 'ছিয়াশি',\n",
    "    '87': 'সাতাশি',\n",
    "    '88': 'আটাশি',\n",
    "    '89': 'ঊননব্বই',\n",
    "    '90': 'নব্বই',\n",
    "    '91': 'একানব্বই',\n",
    "    '92': 'বিরানব্বই',\n",
    "    '93': 'তিরানব্বই',\n",
    "    '94': 'চুরানব্বই',\n",
    "    '95': 'পঁচানব্বই',\n",
    "    '96': 'ছিয়ানব্বই',\n",
    "    '97': 'সাতানব্বই',\n",
    "    '98': 'আটানব্বই',\n",
    "    '99': 'নিরানব্বই',\n",
    "    '100': 'একশো',\n",
    "}\n",
    "\n",
    "units = {\n",
    "    'koti': 'কোটি',\n",
    "    'lokkho': 'লক্ষ',\n",
    "    'hazar': 'হাজার',\n",
    "    'sotok': 'শো',\n",
    "    'ekok': '',\n",
    "}\n",
    "\n",
    "\n",
    "def input_sanitizer(number):\n",
    "    if isinstance(number, float) or isinstance(number, int) or \\\n",
    "            isinstance(number, str):\n",
    "        if isinstance(number, str):\n",
    "            try:\n",
    "                if \".\" in number:\n",
    "                    number = float(number)\n",
    "                else:\n",
    "                    number = int(number)\n",
    "            except ValueError:\n",
    "                return None\n",
    "        return number\n",
    "    else:\n",
    "        return None\n",
    "\n",
    "\n",
    "def generate_segments(number):\n",
    "    \"\"\"\n",
    "    Generating the unit segments such as koti, lokkho\n",
    "    \"\"\"\n",
    "    segments = dict()\n",
    "    segments['koti'] = math.floor(number/10000000)\n",
    "    number = number % 10000000\n",
    "    segments['lokkho'] = math.floor(number/100000)\n",
    "    number = number % 100000\n",
    "    segments['hazar'] = math.floor(number/1000)\n",
    "    number = number % 1000\n",
    "    segments['sotok'] = math.floor(number/100)\n",
    "    number = number % 100\n",
    "    segments['ekok'] = number\n",
    "\n",
    "    return segments\n",
    "\n",
    "\n",
    "def float_int_extraction(number):\n",
    "    \"\"\"\n",
    "    Extracting the float and int part from the passed number. The first return\n",
    "    is the part before the decimal point and the rest is the fraction.\n",
    "    \"\"\"\n",
    "    _number = str(number)\n",
    "    if \".\" in _number:\n",
    "        return tuple([int(x) for x in _number.split(\".\")])\n",
    "    else:\n",
    "        return number, None\n",
    "\n",
    "\n",
    "def whole_part_word_gen(segments):\n",
    "    \"\"\"\n",
    "    Generating the bengali word for the whole part of the number\n",
    "    \"\"\"\n",
    "    generated_words = ''\n",
    "    for segment in segments:\n",
    "        if segments[segment]:\n",
    "           \n",
    "            if segment==\"sotok\":\n",
    "                generated_words += numeric_words[str(segments[segment])] + \\\n",
    "                                   \"\"+ units[segment] + \" \"\n",
    "            else:\n",
    "                generated_words += numeric_words[str(segments[segment])] + \\\n",
    "                \" \" + units[segment] + \" \"\n",
    "\n",
    "    return generated_words[:-2]\n",
    "\n",
    "\n",
    "def fraction_to_words(fraction):\n",
    "    \"\"\"\n",
    "    Generating bengali words for the part after the decimal point\n",
    "    \"\"\"\n",
    "    generated_words = \"\"\n",
    "    for digit in str(fraction):\n",
    "        generated_words += numeric_words[digit] + \" \"\n",
    "    return generated_words[:-1]\n",
    "\n",
    "\n",
    "def to_bn_word(number):\n",
    "    \"\"\"\n",
    "    Takes a number and outputs the word form in Bengali for that number.\n",
    "    \"\"\"\n",
    "    if len(number)>9:\n",
    "        return 'এক'\n",
    "    generated_words = \"\"\n",
    "    number = input_sanitizer(number)\n",
    "\n",
    "    whole, fraction = float_int_extraction(number)\n",
    "\n",
    "    whole_segments = generate_segments(whole)\n",
    "\n",
    "    generated_words = whole_part_word_gen(whole_segments)\n",
    "\n",
    "    if fraction:\n",
    "        if generated_words:\n",
    "            return generated_words + \" দশমিক \" + fraction_to_words(fraction)\n",
    "        else:\n",
    "            return \"দশমিক \" + fraction_to_words(fraction)\n",
    "    else:\n",
    "        return generated_words"
   ]
  },
  {
   "cell_type": "code",
   "execution_count": 37,
   "id": "b2f48634",
   "metadata": {
    "execution": {
     "iopub.execute_input": "2023-10-27T15:14:44.931973Z",
     "iopub.status.busy": "2023-10-27T15:14:44.931349Z",
     "iopub.status.idle": "2023-10-27T15:14:44.938199Z",
     "shell.execute_reply": "2023-10-27T15:14:44.937420Z"
    },
    "papermill": {
     "duration": 0.035834,
     "end_time": "2023-10-27T15:14:44.940132",
     "exception": false,
     "start_time": "2023-10-27T15:14:44.904298",
     "status": "completed"
    },
    "tags": []
   },
   "outputs": [],
   "source": [
    "num_dict={}\n",
    "def num_to_text(string ):\n",
    "    temp=[]\n",
    "    pattern_to_keep = r'\\d+'\n",
    "    m=re.split(\"[অ-হ]|-| \",string)\n",
    "    for k in m :\n",
    "        if re.search('[১-৯]',k):\n",
    "            result = re.sub(f'(?:(?!{pattern_to_keep}).)*', '', k)\n",
    "            temp.append(result)\n",
    "    \n",
    "    if len(temp)<1:\n",
    "        return string\n",
    "    for i in temp:\n",
    "        if i in num_dict:\n",
    "            string=re.sub(i,num_dict[i],string)\n",
    "        else:\n",
    "            num_dict[i]=to_bn_word(i)\n",
    "            string=re.sub(i,num_dict[i],string)\n",
    "    return string"
   ]
  },
  {
   "cell_type": "code",
   "execution_count": 38,
   "id": "1c60301b",
   "metadata": {
    "execution": {
     "iopub.execute_input": "2023-10-27T15:14:44.992959Z",
     "iopub.status.busy": "2023-10-27T15:14:44.992474Z",
     "iopub.status.idle": "2023-10-27T15:14:45.044613Z",
     "shell.execute_reply": "2023-10-27T15:14:45.043670Z"
    },
    "papermill": {
     "duration": 0.0805,
     "end_time": "2023-10-27T15:14:45.046467",
     "exception": false,
     "start_time": "2023-10-27T15:14:44.965967",
     "status": "completed"
    },
    "tags": []
   },
   "outputs": [
    {
     "name": "stdout",
     "output_type": "stream",
     "text": [
      "Length of the Df = (51, 2)\n"
     ]
    }
   ],
   "source": [
    "filt_cond = [\"১-৯\", 'A-Za-z0-9']\n",
    "# Filtering text samples that contain English alphanumeric values\n",
    "filt = test_df[lambda x: x[\"text\"].str.contains(\"[A-Za-z0-9]\")]\n",
    "filt = filt.reset_index(drop=True)\n",
    "print(f'Length of the Df = {filt.shape}')"
   ]
  },
  {
   "cell_type": "code",
   "execution_count": 39,
   "id": "4df5b097",
   "metadata": {
    "execution": {
     "iopub.execute_input": "2023-10-27T15:14:45.100124Z",
     "iopub.status.busy": "2023-10-27T15:14:45.099785Z",
     "iopub.status.idle": "2023-10-27T15:14:45.595867Z",
     "shell.execute_reply": "2023-10-27T15:14:45.595017Z"
    },
    "papermill": {
     "duration": 0.525419,
     "end_time": "2023-10-27T15:14:45.598058",
     "exception": false,
     "start_time": "2023-10-27T15:14:45.072639",
     "status": "completed"
    },
    "tags": []
   },
   "outputs": [
    {
     "name": "stdout",
     "output_type": "stream",
     "text": [
      "e kʰet̪ɾe kɐɾɟokɾomeɾ nɪd̪eʃonɐ pɐkɪ ɐkɐɾe d̪eʲɐ t̪ʰɐkbe ɟɐɾ upoɾ bʱɪt̪t̪ɪ koɾe ɟoggot̪ɪ onno tɪ pɾoʃno t̪ʰɐkbe।\n"
     ]
    },
    {
     "data": {
      "text/plain": [
       "'এ ক্ষেত্রে কার্যক্রমের নিদেশনা Point আকারে দেয়া থাকবে যার ওপর ভিত্তি করে Competency based ৩টি প্রশ্ন থাকবে।'"
      ]
     },
     "execution_count": 39,
     "metadata": {},
     "output_type": "execute_result"
    }
   ],
   "source": [
    "ind = np.random.randint(0, len(filt))\n",
    "print(ipa_converter(filt.text[ind]))\n",
    "filt.text[ind]"
   ]
  },
  {
   "cell_type": "code",
   "execution_count": 40,
   "id": "85fc01ac",
   "metadata": {
    "execution": {
     "iopub.execute_input": "2023-10-27T15:14:45.652474Z",
     "iopub.status.busy": "2023-10-27T15:14:45.652179Z",
     "iopub.status.idle": "2023-10-27T15:14:45.658338Z",
     "shell.execute_reply": "2023-10-27T15:14:45.657475Z"
    },
    "papermill": {
     "duration": 0.03549,
     "end_time": "2023-10-27T15:14:45.660278",
     "exception": false,
     "start_time": "2023-10-27T15:14:45.624788",
     "status": "completed"
    },
    "tags": []
   },
   "outputs": [
    {
     "data": {
      "text/plain": [
       "'রয়েছে'"
      ]
     },
     "execution_count": 40,
     "metadata": {},
     "output_type": "execute_result"
    }
   ],
   "source": [
    "num_to_text('রয়েছে')"
   ]
  },
  {
   "cell_type": "markdown",
   "id": "a3683190",
   "metadata": {
    "papermill": {
     "duration": 0.02611,
     "end_time": "2023-10-27T15:14:45.712654",
     "exception": false,
     "start_time": "2023-10-27T15:14:45.686544",
     "status": "completed"
    },
    "tags": []
   },
   "source": [
    "###  VIP Cell "
   ]
  },
  {
   "cell_type": "code",
   "execution_count": 41,
   "id": "dce02575",
   "metadata": {
    "execution": {
     "iopub.execute_input": "2023-10-27T15:14:45.766751Z",
     "iopub.status.busy": "2023-10-27T15:14:45.766497Z",
     "iopub.status.idle": "2023-10-27T15:14:45.770160Z",
     "shell.execute_reply": "2023-10-27T15:14:45.769335Z"
    },
    "papermill": {
     "duration": 0.032522,
     "end_time": "2023-10-27T15:14:45.772042",
     "exception": false,
     "start_time": "2023-10-27T15:14:45.739520",
     "status": "completed"
    },
    "tags": []
   },
   "outputs": [],
   "source": [
    "# filt['ctext'] = filt['text'].apply(num_to_text)"
   ]
  },
  {
   "cell_type": "markdown",
   "id": "eb37507d",
   "metadata": {
    "papermill": {
     "duration": 0.026843,
     "end_time": "2023-10-27T15:14:45.825077",
     "exception": false,
     "start_time": "2023-10-27T15:14:45.798234",
     "status": "completed"
    },
    "tags": []
   },
   "source": [
    "###  Change *The Test Set Numbers to Words*"
   ]
  },
  {
   "cell_type": "code",
   "execution_count": 42,
   "id": "2937d30c",
   "metadata": {
    "execution": {
     "iopub.execute_input": "2023-10-27T15:14:45.878694Z",
     "iopub.status.busy": "2023-10-27T15:14:45.878395Z",
     "iopub.status.idle": "2023-10-27T15:14:47.692525Z",
     "shell.execute_reply": "2023-10-27T15:14:47.691321Z"
    },
    "papermill": {
     "duration": 1.843589,
     "end_time": "2023-10-27T15:14:47.694709",
     "exception": false,
     "start_time": "2023-10-27T15:14:45.851120",
     "status": "completed"
    },
    "tags": []
   },
   "outputs": [
    {
     "name": "stderr",
     "output_type": "stream",
     "text": [
      "100%|██████████| 27228/27228 [00:01<00:00, 15085.36it/s]\n"
     ]
    }
   ],
   "source": [
    "tqdm.pandas()\n",
    "test_df['ctext'] = test_df['text'].progress_apply(num_to_text)"
   ]
  },
  {
   "cell_type": "code",
   "execution_count": 43,
   "id": "16553778",
   "metadata": {
    "execution": {
     "iopub.execute_input": "2023-10-27T15:14:47.753155Z",
     "iopub.status.busy": "2023-10-27T15:14:47.752816Z",
     "iopub.status.idle": "2023-10-27T15:14:47.762500Z",
     "shell.execute_reply": "2023-10-27T15:14:47.761636Z"
    },
    "papermill": {
     "duration": 0.040862,
     "end_time": "2023-10-27T15:14:47.764564",
     "exception": false,
     "start_time": "2023-10-27T15:14:47.723702",
     "status": "completed"
    },
    "tags": []
   },
   "outputs": [
    {
     "data": {
      "text/html": [
       "<div>\n",
       "<style scoped>\n",
       "    .dataframe tbody tr th:only-of-type {\n",
       "        vertical-align: middle;\n",
       "    }\n",
       "\n",
       "    .dataframe tbody tr th {\n",
       "        vertical-align: top;\n",
       "    }\n",
       "\n",
       "    .dataframe thead th {\n",
       "        text-align: right;\n",
       "    }\n",
       "</style>\n",
       "<table border=\"1\" class=\"dataframe\">\n",
       "  <thead>\n",
       "    <tr style=\"text-align: right;\">\n",
       "      <th></th>\n",
       "      <th>row_id_column_name</th>\n",
       "      <th>text</th>\n",
       "      <th>ctext</th>\n",
       "    </tr>\n",
       "  </thead>\n",
       "  <tbody>\n",
       "    <tr>\n",
       "      <th>0</th>\n",
       "      <td>0</td>\n",
       "      <td>বিশেষ অতিথি এফএম ইকবাল বিন আনোয়ার (ডন) অ্যাডিশ...</td>\n",
       "      <td>বিশেষ অতিথি এফএম ইকবাল বিন আনোয়ার (ডন) অ্যাডিশ...</td>\n",
       "    </tr>\n",
       "    <tr>\n",
       "      <th>1</th>\n",
       "      <td>1</td>\n",
       "      <td>এ নিয়ে বিবাদে ২০১৫ সালের ২ জুন রাত সাড়ে ১১টায় ...</td>\n",
       "      <td>এ নিয়ে বিবাদে দুই হাজার পনের সালের দুই জুন রাত...</td>\n",
       "    </tr>\n",
       "  </tbody>\n",
       "</table>\n",
       "</div>"
      ],
      "text/plain": [
       "   row_id_column_name                                               text  \\\n",
       "0                   0  বিশেষ অতিথি এফএম ইকবাল বিন আনোয়ার (ডন) অ্যাডিশ...   \n",
       "1                   1  এ নিয়ে বিবাদে ২০১৫ সালের ২ জুন রাত সাড়ে ১১টায় ...   \n",
       "\n",
       "                                               ctext  \n",
       "0  বিশেষ অতিথি এফএম ইকবাল বিন আনোয়ার (ডন) অ্যাডিশ...  \n",
       "1  এ নিয়ে বিবাদে দুই হাজার পনের সালের দুই জুন রাত...  "
      ]
     },
     "execution_count": 43,
     "metadata": {},
     "output_type": "execute_result"
    }
   ],
   "source": [
    "test_df.head(2)"
   ]
  },
  {
   "cell_type": "code",
   "execution_count": 44,
   "id": "1a1f9dc3",
   "metadata": {
    "execution": {
     "iopub.execute_input": "2023-10-27T15:14:47.824517Z",
     "iopub.status.busy": "2023-10-27T15:14:47.824235Z",
     "iopub.status.idle": "2023-10-27T15:14:47.828080Z",
     "shell.execute_reply": "2023-10-27T15:14:47.827243Z"
    },
    "papermill": {
     "duration": 0.034583,
     "end_time": "2023-10-27T15:14:47.829937",
     "exception": false,
     "start_time": "2023-10-27T15:14:47.795354",
     "status": "completed"
    },
    "tags": []
   },
   "outputs": [],
   "source": [
    "# lib['শ্রেণীর']"
   ]
  },
  {
   "cell_type": "markdown",
   "id": "81f86e00",
   "metadata": {
    "papermill": {
     "duration": 0.028781,
     "end_time": "2023-10-27T15:14:47.887069",
     "exception": false,
     "start_time": "2023-10-27T15:14:47.858288",
     "status": "completed"
    },
    "tags": []
   },
   "source": [
    "### Handle This Library Error"
   ]
  },
  {
   "cell_type": "code",
   "execution_count": 45,
   "id": "a5445660",
   "metadata": {
    "execution": {
     "iopub.execute_input": "2023-10-27T15:14:47.944998Z",
     "iopub.status.busy": "2023-10-27T15:14:47.944691Z",
     "iopub.status.idle": "2023-10-27T15:14:48.440316Z",
     "shell.execute_reply": "2023-10-27T15:14:48.439384Z"
    },
    "papermill": {
     "duration": 0.526463,
     "end_time": "2023-10-27T15:14:48.442299",
     "exception": false,
     "start_time": "2023-10-27T15:14:47.915836",
     "status": "completed"
    },
    "tags": []
   },
   "outputs": [
    {
     "name": "stderr",
     "output_type": "stream",
     "text": [
      "/opt/conda/lib/python3.10/site-packages/transformers/pipelines/base.py:1101: UserWarning: You seem to be using the pipelines sequentially on GPU. In order to maximize efficiency please use a dataset\n",
      "  warnings.warn(\n"
     ]
    },
    {
     "data": {
      "text/plain": [
       "'t̪ɐɾ ʃɐɾɐ শ্রেণির ɔcɪnt̪o ʃoɾɪɾe bɦũt̪ɐ ɔst̪ɾeɾ ɐtt̪ɾɪʃtɪ ɐgʱɐt̪ ɾoʲecʰe।'"
      ]
     },
     "execution_count": 45,
     "metadata": {},
     "output_type": "execute_result"
    }
   ],
   "source": [
    "txt = 'তার সারা শ্রেণীর অচিন্ত শরীরে ভোঁতা অস্ত্রের আটত্রিশটি আঘাত রয়েছে।'\n",
    "ipa_converter(txt)"
   ]
  },
  {
   "cell_type": "code",
   "execution_count": 46,
   "id": "cab1d042",
   "metadata": {
    "execution": {
     "iopub.execute_input": "2023-10-27T15:14:48.501024Z",
     "iopub.status.busy": "2023-10-27T15:14:48.500242Z",
     "iopub.status.idle": "2023-10-27T15:14:48.506039Z",
     "shell.execute_reply": "2023-10-27T15:14:48.505122Z"
    },
    "papermill": {
     "duration": 0.037319,
     "end_time": "2023-10-27T15:14:48.508466",
     "exception": false,
     "start_time": "2023-10-27T15:14:48.471147",
     "status": "completed"
    },
    "tags": []
   },
   "outputs": [
    {
     "data": {
      "text/plain": [
       "34505"
      ]
     },
     "execution_count": 46,
     "metadata": {},
     "output_type": "execute_result"
    }
   ],
   "source": [
    "len(lib)"
   ]
  },
  {
   "cell_type": "code",
   "execution_count": 47,
   "id": "35fbcd82",
   "metadata": {
    "execution": {
     "iopub.execute_input": "2023-10-27T15:14:48.566765Z",
     "iopub.status.busy": "2023-10-27T15:14:48.566512Z",
     "iopub.status.idle": "2023-10-27T15:14:49.085157Z",
     "shell.execute_reply": "2023-10-27T15:14:49.084236Z"
    },
    "papermill": {
     "duration": 0.549876,
     "end_time": "2023-10-27T15:14:49.087111",
     "exception": false,
     "start_time": "2023-10-27T15:14:48.537235",
     "status": "completed"
    },
    "tags": []
   },
   "outputs": [
    {
     "data": {
      "text/plain": [
       "'t̪ɐɾ ʃɐɾɐ শ্রেণির ɔcɪnt̪o ʃoɾɪɾe bɦõt̪ɐ ɔst̪ɾeɾ ɐtt̪ɾɪʃtɪ ɐgʱɐt̪ ɾoʲecʰe।'"
      ]
     },
     "execution_count": 47,
     "metadata": {},
     "output_type": "execute_result"
    }
   ],
   "source": [
    "txt = 'তার সারা শ্রেণীর অচিন্ত শরীরে ভোঁতা অস্ত্রের আটত্রিশটি আঘাত রয়েছে।'\n",
    "ipa_converter(txt)"
   ]
  },
  {
   "cell_type": "markdown",
   "id": "85698e4a",
   "metadata": {
    "papermill": {
     "duration": 0.033264,
     "end_time": "2023-10-27T15:14:49.150044",
     "exception": false,
     "start_time": "2023-10-27T15:14:49.116780",
     "status": "completed"
    },
    "tags": []
   },
   "source": [
    "#### Fixed in the upper part"
   ]
  },
  {
   "cell_type": "markdown",
   "id": "f423d406",
   "metadata": {
    "papermill": {
     "duration": 0.033226,
     "end_time": "2023-10-27T15:14:49.216978",
     "exception": false,
     "start_time": "2023-10-27T15:14:49.183752",
     "status": "completed"
    },
    "tags": []
   },
   "source": [
    "## Change this Part Idea and Code `Nannu`"
   ]
  },
  {
   "cell_type": "code",
   "execution_count": 48,
   "id": "ff84a9af",
   "metadata": {
    "execution": {
     "iopub.execute_input": "2023-10-27T15:14:49.285672Z",
     "iopub.status.busy": "2023-10-27T15:14:49.285302Z",
     "iopub.status.idle": "2023-10-27T15:14:49.291370Z",
     "shell.execute_reply": "2023-10-27T15:14:49.290404Z"
    },
    "papermill": {
     "duration": 0.04307,
     "end_time": "2023-10-27T15:14:49.293669",
     "exception": false,
     "start_time": "2023-10-27T15:14:49.250599",
     "status": "completed"
    },
    "tags": []
   },
   "outputs": [],
   "source": [
    "dict_change={\n",
    "    \"bɦ\":\"bʱ\",\n",
    "    \"dɦ\":\"dʱ\",\n",
    "    \"oɦ\":'oʱ',\n",
    "    \"nɦ\":'nʱ',\n",
    "    \"ɟɦ\":'ɟʱ',\n",
    "    \"ɽɦ\":'ɽʱ',\n",
    "    \"gɦ\":'gʱ',\n",
    "    \"tɦ\":'tʱ',\n",
    "     \"d̪ɦ\":'d̪ʱ',\n",
    "     \"j\":\"ʲ\",\n",
    "     \"kh\":\"kʰ\",\n",
    "     \"t̪h\":\"t̪ʰ\",\n",
    "    \"ph\":\"pʰ\",\n",
    "    \"ch\":\"cʰ\",\n",
    "    \"w\":\"ʷ\"\n",
    "}"
   ]
  },
  {
   "cell_type": "code",
   "execution_count": 49,
   "id": "9d010c5b",
   "metadata": {
    "execution": {
     "iopub.execute_input": "2023-10-27T15:14:49.359401Z",
     "iopub.status.busy": "2023-10-27T15:14:49.358793Z",
     "iopub.status.idle": "2023-10-27T15:14:49.367125Z",
     "shell.execute_reply": "2023-10-27T15:14:49.366249Z"
    },
    "papermill": {
     "duration": 0.041908,
     "end_time": "2023-10-27T15:14:49.369031",
     "exception": false,
     "start_time": "2023-10-27T15:14:49.327123",
     "status": "completed"
    },
    "tags": []
   },
   "outputs": [
    {
     "data": {
      "text/plain": [
       "re.compile(r'bɦ|dɦ|oɦ|nɦ|ɟɦ|ɽɦ|gɦ|tɦ|d̪ɦ|j|kh|t̪h|ph|ch|w', re.UNICODE)"
      ]
     },
     "execution_count": 49,
     "metadata": {},
     "output_type": "execute_result"
    }
   ],
   "source": [
    "pattern = re.compile('|'.join(re.escape(key) for key in dict_change.keys()))\n",
    "\n",
    "# Define a function to perform replacements\n",
    "def replace(match):\n",
    "    return dict_change[match.group(0)]\n",
    "\n",
    "# Use re.sub() to perform replacements\n",
    "def output(input_string):\n",
    "    return pattern.sub(replace, input_string)\n",
    "pattern"
   ]
  },
  {
   "cell_type": "code",
   "execution_count": 50,
   "id": "935dd015",
   "metadata": {
    "execution": {
     "iopub.execute_input": "2023-10-27T15:14:49.430759Z",
     "iopub.status.busy": "2023-10-27T15:14:49.430153Z",
     "iopub.status.idle": "2023-10-27T15:14:49.435593Z",
     "shell.execute_reply": "2023-10-27T15:14:49.434777Z"
    },
    "papermill": {
     "duration": 0.036857,
     "end_time": "2023-10-27T15:14:49.437591",
     "exception": false,
     "start_time": "2023-10-27T15:14:49.400734",
     "status": "completed"
    },
    "tags": []
   },
   "outputs": [
    {
     "data": {
      "text/plain": [
       "'t̪ɐɾ ʃɐɾɐ শ্রেণির ɔcɪnt̪o ʃoɾɪɾe bʱõt̪ɐ ɔst̪ɾeɾ ɐtt̪ɾɪʃtɪ ɐgʱɐt̪ ɾoʲecʰe।'"
      ]
     },
     "execution_count": 50,
     "metadata": {},
     "output_type": "execute_result"
    }
   ],
   "source": [
    "tst = 't̪ɐɾ ʃɐɾɐ শ্রেণির ɔcɪnt̪o ʃoɾɪɾe bɦõt̪ɐ ɔst̪ɾeɾ ɐtt̪ɾɪʃtɪ ɐgʱɐt̪ ɾoʲecʰe।'\n",
    "output(tst)"
   ]
  },
  {
   "cell_type": "markdown",
   "id": "b882f300",
   "metadata": {
    "papermill": {
     "duration": 0.028853,
     "end_time": "2023-10-27T15:14:49.495107",
     "exception": false,
     "start_time": "2023-10-27T15:14:49.466254",
     "status": "completed"
    },
    "tags": []
   },
   "source": [
    "## Seems ok for the moment. Now Just Make a submission File"
   ]
  },
  {
   "cell_type": "code",
   "execution_count": 51,
   "id": "57b07615",
   "metadata": {
    "execution": {
     "iopub.execute_input": "2023-10-27T15:14:49.554310Z",
     "iopub.status.busy": "2023-10-27T15:14:49.554047Z",
     "iopub.status.idle": "2023-10-27T15:14:51.443019Z",
     "shell.execute_reply": "2023-10-27T15:14:51.441901Z"
    },
    "papermill": {
     "duration": 1.920725,
     "end_time": "2023-10-27T15:14:51.445433",
     "exception": false,
     "start_time": "2023-10-27T15:14:49.524708",
     "status": "completed"
    },
    "tags": []
   },
   "outputs": [
    {
     "name": "stderr",
     "output_type": "stream",
     "text": [
      "100%|██████████| 27228/27228 [00:01<00:00, 14487.79it/s]\n"
     ]
    }
   ],
   "source": [
    "tqdm.pandas()\n",
    "test_df['ctext'] = test_df['text'].progress_apply(num_to_text)"
   ]
  },
  {
   "cell_type": "code",
   "execution_count": 52,
   "id": "2595fe73",
   "metadata": {
    "execution": {
     "iopub.execute_input": "2023-10-27T15:14:51.516527Z",
     "iopub.status.busy": "2023-10-27T15:14:51.516200Z",
     "iopub.status.idle": "2023-10-27T15:14:51.527481Z",
     "shell.execute_reply": "2023-10-27T15:14:51.526445Z"
    },
    "papermill": {
     "duration": 0.049482,
     "end_time": "2023-10-27T15:14:51.529675",
     "exception": false,
     "start_time": "2023-10-27T15:14:51.480193",
     "status": "completed"
    },
    "tags": []
   },
   "outputs": [
    {
     "data": {
      "text/html": [
       "<div>\n",
       "<style scoped>\n",
       "    .dataframe tbody tr th:only-of-type {\n",
       "        vertical-align: middle;\n",
       "    }\n",
       "\n",
       "    .dataframe tbody tr th {\n",
       "        vertical-align: top;\n",
       "    }\n",
       "\n",
       "    .dataframe thead th {\n",
       "        text-align: right;\n",
       "    }\n",
       "</style>\n",
       "<table border=\"1\" class=\"dataframe\">\n",
       "  <thead>\n",
       "    <tr style=\"text-align: right;\">\n",
       "      <th></th>\n",
       "      <th>row_id_column_name</th>\n",
       "      <th>text</th>\n",
       "      <th>ctext</th>\n",
       "    </tr>\n",
       "  </thead>\n",
       "  <tbody>\n",
       "    <tr>\n",
       "      <th>0</th>\n",
       "      <td>0</td>\n",
       "      <td>বিশেষ অতিথি এফএম ইকবাল বিন আনোয়ার (ডন) অ্যাডিশ...</td>\n",
       "      <td>বিশেষ অতিথি এফএম ইকবাল বিন আনোয়ার (ডন) অ্যাডিশ...</td>\n",
       "    </tr>\n",
       "    <tr>\n",
       "      <th>1</th>\n",
       "      <td>1</td>\n",
       "      <td>এ নিয়ে বিবাদে ২০১৫ সালের ২ জুন রাত সাড়ে ১১টায় ...</td>\n",
       "      <td>এ নিয়ে বিবাদে দুই হাজার পনের সালের দুই জুন রাত...</td>\n",
       "    </tr>\n",
       "    <tr>\n",
       "      <th>2</th>\n",
       "      <td>2</td>\n",
       "      <td>আজ থেকে ১৪ বছর আগে তিনি চলে গেছেন না ফেরার দেশে।</td>\n",
       "      <td>আজ থেকে চৌদ্দ বছর আগে তিনি চলে গেছেন না ফেরার ...</td>\n",
       "    </tr>\n",
       "    <tr>\n",
       "      <th>3</th>\n",
       "      <td>3</td>\n",
       "      <td>নিহত ব্যক্তি কুতপালং টালের ই-২ ব্লকের আবুল বাছ...</td>\n",
       "      <td>নিহত ব্যক্তি কুতপালং টালের ই-দুই ব্লকের আবুল ব...</td>\n",
       "    </tr>\n",
       "    <tr>\n",
       "      <th>4</th>\n",
       "      <td>4</td>\n",
       "      <td>সংক্ষিপ্ত স্কোরশ্রীলংকা প্রথম ইনিংস ৪৮২ (করুনা...</td>\n",
       "      <td>সংক্ষিপ্ত স্কোরশ্রীলংকা প্রথম ইনিংস চারশো বিরা...</td>\n",
       "    </tr>\n",
       "  </tbody>\n",
       "</table>\n",
       "</div>"
      ],
      "text/plain": [
       "   row_id_column_name                                               text  \\\n",
       "0                   0  বিশেষ অতিথি এফএম ইকবাল বিন আনোয়ার (ডন) অ্যাডিশ...   \n",
       "1                   1  এ নিয়ে বিবাদে ২০১৫ সালের ২ জুন রাত সাড়ে ১১টায় ...   \n",
       "2                   2   আজ থেকে ১৪ বছর আগে তিনি চলে গেছেন না ফেরার দেশে।   \n",
       "3                   3  নিহত ব্যক্তি কুতপালং টালের ই-২ ব্লকের আবুল বাছ...   \n",
       "4                   4  সংক্ষিপ্ত স্কোরশ্রীলংকা প্রথম ইনিংস ৪৮২ (করুনা...   \n",
       "\n",
       "                                               ctext  \n",
       "0  বিশেষ অতিথি এফএম ইকবাল বিন আনোয়ার (ডন) অ্যাডিশ...  \n",
       "1  এ নিয়ে বিবাদে দুই হাজার পনের সালের দুই জুন রাত...  \n",
       "2  আজ থেকে চৌদ্দ বছর আগে তিনি চলে গেছেন না ফেরার ...  \n",
       "3  নিহত ব্যক্তি কুতপালং টালের ই-দুই ব্লকের আবুল ব...  \n",
       "4  সংক্ষিপ্ত স্কোরশ্রীলংকা প্রথম ইনিংস চারশো বিরা...  "
      ]
     },
     "execution_count": 52,
     "metadata": {},
     "output_type": "execute_result"
    }
   ],
   "source": [
    "test_df.head()"
   ]
  },
  {
   "cell_type": "code",
   "execution_count": 53,
   "id": "e1f16493",
   "metadata": {
    "execution": {
     "iopub.execute_input": "2023-10-27T15:14:51.596130Z",
     "iopub.status.busy": "2023-10-27T15:14:51.595754Z",
     "iopub.status.idle": "2023-10-27T15:14:51.738810Z",
     "shell.execute_reply": "2023-10-27T15:14:51.737897Z"
    },
    "papermill": {
     "duration": 0.177672,
     "end_time": "2023-10-27T15:14:51.741089",
     "exception": false,
     "start_time": "2023-10-27T15:14:51.563417",
     "status": "completed"
    },
    "tags": []
   },
   "outputs": [],
   "source": [
    "# Remove English alphanumeric values\n",
    "alpha_pat = \"[a-zA-z0-9০-৯]\"\n",
    "test_df[\"ctext\"] = test_df[\"ctext\"].str.replace(alpha_pat, \"\", regex=True)\n",
    "pat = \"[‘’]\"\n",
    "test_df[\"ctext\"] = test_df[\"ctext\"].str.replace(pat, \"\", regex=True)"
   ]
  },
  {
   "cell_type": "code",
   "execution_count": 54,
   "id": "8362d2d1",
   "metadata": {
    "execution": {
     "iopub.execute_input": "2023-10-27T15:14:51.805031Z",
     "iopub.status.busy": "2023-10-27T15:14:51.804055Z",
     "iopub.status.idle": "2023-10-27T15:14:51.827990Z",
     "shell.execute_reply": "2023-10-27T15:14:51.826959Z"
    },
    "papermill": {
     "duration": 0.05769,
     "end_time": "2023-10-27T15:14:51.829916",
     "exception": false,
     "start_time": "2023-10-27T15:14:51.772226",
     "status": "completed"
    },
    "tags": []
   },
   "outputs": [
    {
     "name": "stdout",
     "output_type": "stream",
     "text": [
      "Length of the Df = (42, 2)\n"
     ]
    }
   ],
   "source": [
    "filt_cond = [\"১-৯\", 'A-Za-z0-9']\n",
    "# Filtering text samples that contain English alphanumeric values\n",
    "filt = df[lambda x: x[\"text\"].str.contains(\"['']\")]\n",
    "filt = filt.reset_index(drop=True)\n",
    "print(f'Length of the Df = {filt.shape}')"
   ]
  },
  {
   "cell_type": "code",
   "execution_count": 55,
   "id": "de8993ae",
   "metadata": {
    "execution": {
     "iopub.execute_input": "2023-10-27T15:14:51.894081Z",
     "iopub.status.busy": "2023-10-27T15:14:51.893266Z",
     "iopub.status.idle": "2023-10-27T15:14:51.902600Z",
     "shell.execute_reply": "2023-10-27T15:14:51.901673Z"
    },
    "papermill": {
     "duration": 0.043724,
     "end_time": "2023-10-27T15:14:51.904472",
     "exception": false,
     "start_time": "2023-10-27T15:14:51.860748",
     "status": "completed"
    },
    "tags": []
   },
   "outputs": [
    {
     "name": "stdout",
     "output_type": "stream",
     "text": [
      "ɛmonɪ ektɪ ʃɔbd̪o 'pʰɪnɪʃɐɾ'।\n"
     ]
    },
    {
     "data": {
      "text/plain": [
       "\"এমনই একটি শব্দ 'ফিনিশার'।\""
      ]
     },
     "execution_count": 55,
     "metadata": {},
     "output_type": "execute_result"
    }
   ],
   "source": [
    "ind = np.random.randint(0, len(filt))\n",
    "print(ipa_converter(filt.text[ind]))\n",
    "filt.text[ind]"
   ]
  },
  {
   "cell_type": "code",
   "execution_count": 56,
   "id": "1acf82a0",
   "metadata": {
    "execution": {
     "iopub.execute_input": "2023-10-27T15:14:51.968247Z",
     "iopub.status.busy": "2023-10-27T15:14:51.967464Z",
     "iopub.status.idle": "2023-10-27T15:15:18.610066Z",
     "shell.execute_reply": "2023-10-27T15:15:18.609061Z"
    },
    "papermill": {
     "duration": 26.67698,
     "end_time": "2023-10-27T15:15:18.612156",
     "exception": false,
     "start_time": "2023-10-27T15:14:51.935176",
     "status": "completed"
    },
    "tags": []
   },
   "outputs": [
    {
     "name": "stderr",
     "output_type": "stream",
     "text": [
      "  0%|          | 0/100 [00:00<?, ?it/s]/opt/conda/lib/python3.10/site-packages/transformers/pipelines/base.py:1101: UserWarning: You seem to be using the pipelines sequentially on GPU. In order to maximize efficiency please use a dataset\n",
      "  warnings.warn(\n",
      "100%|██████████| 100/100 [00:26<00:00,  3.75it/s]\n"
     ]
    }
   ],
   "source": [
    "tqdm.pandas()\n",
    "test_df['ipa'] = test_df['ctext'][:100].progress_apply(ipa_converter)"
   ]
  },
  {
   "cell_type": "code",
   "execution_count": 57,
   "id": "cc454870",
   "metadata": {
    "execution": {
     "iopub.execute_input": "2023-10-27T15:15:18.691773Z",
     "iopub.status.busy": "2023-10-27T15:15:18.691482Z",
     "iopub.status.idle": "2023-10-27T15:15:18.704189Z",
     "shell.execute_reply": "2023-10-27T15:15:18.703147Z"
    },
    "papermill": {
     "duration": 0.052994,
     "end_time": "2023-10-27T15:15:18.706241",
     "exception": false,
     "start_time": "2023-10-27T15:15:18.653247",
     "status": "completed"
    },
    "tags": []
   },
   "outputs": [
    {
     "name": "stderr",
     "output_type": "stream",
     "text": [
      "100%|██████████| 100/100 [00:00<00:00, 70861.70it/s]\n"
     ]
    }
   ],
   "source": [
    "tqdm.pandas()\n",
    "test_df['fipa'] = test_df['ipa'][:100].progress_apply(output)"
   ]
  },
  {
   "cell_type": "code",
   "execution_count": 58,
   "id": "67bcdd1b",
   "metadata": {
    "execution": {
     "iopub.execute_input": "2023-10-27T15:15:18.782327Z",
     "iopub.status.busy": "2023-10-27T15:15:18.782044Z",
     "iopub.status.idle": "2023-10-27T16:41:01.441307Z",
     "shell.execute_reply": "2023-10-27T16:41:01.440363Z"
    },
    "papermill": {
     "duration": 5142.69899,
     "end_time": "2023-10-27T16:41:01.443231",
     "exception": false,
     "start_time": "2023-10-27T15:15:18.744241",
     "status": "completed"
    },
    "tags": []
   },
   "outputs": [
    {
     "name": "stderr",
     "output_type": "stream",
     "text": [
      "  0%|          | 0/27228 [00:00<?, ?it/s]/opt/conda/lib/python3.10/site-packages/transformers/pipelines/base.py:1101: UserWarning: You seem to be using the pipelines sequentially on GPU. In order to maximize efficiency please use a dataset\n",
      "  warnings.warn(\n",
      "100%|██████████| 27228/27228 [1:25:42<00:00,  5.29it/s]\n",
      "100%|██████████| 27228/27228 [00:00<00:00, 136041.85it/s]\n"
     ]
    }
   ],
   "source": [
    "tqdm.pandas()\n",
    "test_df['ipa'] = test_df['ctext'].progress_apply(ipa_converter)\n",
    "test_df['fipa'] = test_df['ipa'].progress_apply(output)"
   ]
  },
  {
   "cell_type": "code",
   "execution_count": 59,
   "id": "08090f76",
   "metadata": {
    "execution": {
     "iopub.execute_input": "2023-10-27T16:41:04.066760Z",
     "iopub.status.busy": "2023-10-27T16:41:04.066407Z",
     "iopub.status.idle": "2023-10-27T16:41:04.077583Z",
     "shell.execute_reply": "2023-10-27T16:41:04.076678Z"
    },
    "papermill": {
     "duration": 1.38365,
     "end_time": "2023-10-27T16:41:04.079489",
     "exception": false,
     "start_time": "2023-10-27T16:41:02.695839",
     "status": "completed"
    },
    "tags": []
   },
   "outputs": [
    {
     "data": {
      "text/html": [
       "<div>\n",
       "<style scoped>\n",
       "    .dataframe tbody tr th:only-of-type {\n",
       "        vertical-align: middle;\n",
       "    }\n",
       "\n",
       "    .dataframe tbody tr th {\n",
       "        vertical-align: top;\n",
       "    }\n",
       "\n",
       "    .dataframe thead th {\n",
       "        text-align: right;\n",
       "    }\n",
       "</style>\n",
       "<table border=\"1\" class=\"dataframe\">\n",
       "  <thead>\n",
       "    <tr style=\"text-align: right;\">\n",
       "      <th></th>\n",
       "      <th>row_id_column_name</th>\n",
       "      <th>text</th>\n",
       "      <th>ctext</th>\n",
       "      <th>ipa</th>\n",
       "      <th>fipa</th>\n",
       "    </tr>\n",
       "  </thead>\n",
       "  <tbody>\n",
       "    <tr>\n",
       "      <th>0</th>\n",
       "      <td>0</td>\n",
       "      <td>বিশেষ অতিথি এফএম ইকবাল বিন আনোয়ার (ডন) অ্যাডিশ...</td>\n",
       "      <td>বিশেষ অতিথি এফএম ইকবাল বিন আনোয়ার (ডন) অ্যাডিশ...</td>\n",
       "      <td>bɪʃeʃ ot̪ɪt̪ʰɪ ephem ɪkbɐl bɪn ɐnoʷɐɾ (dɔn) ɛd...</td>\n",
       "      <td>bɪʃeʃ ot̪ɪt̪ʰɪ epʰem ɪkbɐl bɪn ɐnoʷɐɾ (dɔn) ɛd...</td>\n",
       "    </tr>\n",
       "    <tr>\n",
       "      <th>1</th>\n",
       "      <td>1</td>\n",
       "      <td>এ নিয়ে বিবাদে ২০১৫ সালের ২ জুন রাত সাড়ে ১১টায় ...</td>\n",
       "      <td>এ নিয়ে বিবাদে দুই হাজার পনের সালের দুই জুন রাত...</td>\n",
       "      <td>e nɪʲe bɪbɐd̪e d̪uɪ̯ hɐɟɐɾ pɔneɾo ʃɐleɾ d̪uɪ̯ ...</td>\n",
       "      <td>e nɪʲe bɪbɐd̪e d̪uɪ̯ hɐɟɐɾ pɔneɾo ʃɐleɾ d̪uɪ̯ ...</td>\n",
       "    </tr>\n",
       "    <tr>\n",
       "      <th>2</th>\n",
       "      <td>2</td>\n",
       "      <td>আজ থেকে ১৪ বছর আগে তিনি চলে গেছেন না ফেরার দেশে।</td>\n",
       "      <td>আজ থেকে চৌদ্দ বছর আগে তিনি চলে গেছেন না ফেরার ...</td>\n",
       "      <td>ɐɟ t̪ʰeke cou̯ddo bɔcʰoɾ ɐge t̪ɪnɪ cɔle gɛcʰen...</td>\n",
       "      <td>ɐɟ t̪ʰeke cou̯ddo bɔcʰoɾ ɐge t̪ɪnɪ cɔle gɛcʰen...</td>\n",
       "    </tr>\n",
       "    <tr>\n",
       "      <th>3</th>\n",
       "      <td>3</td>\n",
       "      <td>নিহত ব্যক্তি কুতপালং টালের ই-২ ব্লকের আবুল বাছ...</td>\n",
       "      <td>নিহত ব্যক্তি কুতপালং টালের ই-দুই ব্লকের আবুল ব...</td>\n",
       "      <td>nɪhɔt̪o bɛkt̪ɪ deputɪŋ tɐleɾ ɪ-d̪uɪ̯ blokeɾ ɐb...</td>\n",
       "      <td>nɪhɔt̪o bɛkt̪ɪ deputɪŋ tɐleɾ ɪ-d̪uɪ̯ blokeɾ ɐb...</td>\n",
       "    </tr>\n",
       "    <tr>\n",
       "      <th>4</th>\n",
       "      <td>4</td>\n",
       "      <td>সংক্ষিপ্ত স্কোরশ্রীলংকা প্রথম ইনিংস ৪৮২ (করুনা...</td>\n",
       "      <td>সংক্ষিপ্ত স্কোরশ্রীলংকা প্রথম ইনিংস চারশো বিরা...</td>\n",
       "      <td>ʃɔŋkkʰɪpt̪o skoɾsɾɪlɔŋkɐ pɾot̪ʰom ɪnɪŋʃo cɐɾʃo...</td>\n",
       "      <td>ʃɔŋkkʰɪpt̪o skoɾsɾɪlɔŋkɐ pɾot̪ʰom ɪnɪŋʃo cɐɾʃo...</td>\n",
       "    </tr>\n",
       "  </tbody>\n",
       "</table>\n",
       "</div>"
      ],
      "text/plain": [
       "   row_id_column_name                                               text  \\\n",
       "0                   0  বিশেষ অতিথি এফএম ইকবাল বিন আনোয়ার (ডন) অ্যাডিশ...   \n",
       "1                   1  এ নিয়ে বিবাদে ২০১৫ সালের ২ জুন রাত সাড়ে ১১টায় ...   \n",
       "2                   2   আজ থেকে ১৪ বছর আগে তিনি চলে গেছেন না ফেরার দেশে।   \n",
       "3                   3  নিহত ব্যক্তি কুতপালং টালের ই-২ ব্লকের আবুল বাছ...   \n",
       "4                   4  সংক্ষিপ্ত স্কোরশ্রীলংকা প্রথম ইনিংস ৪৮২ (করুনা...   \n",
       "\n",
       "                                               ctext  \\\n",
       "0  বিশেষ অতিথি এফএম ইকবাল বিন আনোয়ার (ডন) অ্যাডিশ...   \n",
       "1  এ নিয়ে বিবাদে দুই হাজার পনের সালের দুই জুন রাত...   \n",
       "2  আজ থেকে চৌদ্দ বছর আগে তিনি চলে গেছেন না ফেরার ...   \n",
       "3  নিহত ব্যক্তি কুতপালং টালের ই-দুই ব্লকের আবুল ব...   \n",
       "4  সংক্ষিপ্ত স্কোরশ্রীলংকা প্রথম ইনিংস চারশো বিরা...   \n",
       "\n",
       "                                                 ipa  \\\n",
       "0  bɪʃeʃ ot̪ɪt̪ʰɪ ephem ɪkbɐl bɪn ɐnoʷɐɾ (dɔn) ɛd...   \n",
       "1  e nɪʲe bɪbɐd̪e d̪uɪ̯ hɐɟɐɾ pɔneɾo ʃɐleɾ d̪uɪ̯ ...   \n",
       "2  ɐɟ t̪ʰeke cou̯ddo bɔcʰoɾ ɐge t̪ɪnɪ cɔle gɛcʰen...   \n",
       "3  nɪhɔt̪o bɛkt̪ɪ deputɪŋ tɐleɾ ɪ-d̪uɪ̯ blokeɾ ɐb...   \n",
       "4  ʃɔŋkkʰɪpt̪o skoɾsɾɪlɔŋkɐ pɾot̪ʰom ɪnɪŋʃo cɐɾʃo...   \n",
       "\n",
       "                                                fipa  \n",
       "0  bɪʃeʃ ot̪ɪt̪ʰɪ epʰem ɪkbɐl bɪn ɐnoʷɐɾ (dɔn) ɛd...  \n",
       "1  e nɪʲe bɪbɐd̪e d̪uɪ̯ hɐɟɐɾ pɔneɾo ʃɐleɾ d̪uɪ̯ ...  \n",
       "2  ɐɟ t̪ʰeke cou̯ddo bɔcʰoɾ ɐge t̪ɪnɪ cɔle gɛcʰen...  \n",
       "3  nɪhɔt̪o bɛkt̪ɪ deputɪŋ tɐleɾ ɪ-d̪uɪ̯ blokeɾ ɐb...  \n",
       "4  ʃɔŋkkʰɪpt̪o skoɾsɾɪlɔŋkɐ pɾot̪ʰom ɪnɪŋʃo cɐɾʃo...  "
      ]
     },
     "execution_count": 59,
     "metadata": {},
     "output_type": "execute_result"
    }
   ],
   "source": [
    "test_df.head()"
   ]
  },
  {
   "cell_type": "markdown",
   "id": "06c9835a",
   "metadata": {
    "papermill": {
     "duration": 1.358957,
     "end_time": "2023-10-27T16:41:06.702428",
     "exception": false,
     "start_time": "2023-10-27T16:41:05.343471",
     "status": "completed"
    },
    "tags": []
   },
   "source": [
    "## Check Manually"
   ]
  },
  {
   "cell_type": "code",
   "execution_count": 60,
   "id": "1de3bb5e",
   "metadata": {
    "execution": {
     "iopub.execute_input": "2023-10-27T16:41:09.257702Z",
     "iopub.status.busy": "2023-10-27T16:41:09.257334Z",
     "iopub.status.idle": "2023-10-27T16:41:09.261398Z",
     "shell.execute_reply": "2023-10-27T16:41:09.260521Z"
    },
    "papermill": {
     "duration": 1.313028,
     "end_time": "2023-10-27T16:41:09.263238",
     "exception": false,
     "start_time": "2023-10-27T16:41:07.950210",
     "status": "completed"
    },
    "tags": []
   },
   "outputs": [],
   "source": [
    "# test_df = pd.read_csv('/kaggle/input/dataverse-ipa/dataverse_2023/testData.csv')\n",
    "# test_df.head(3)"
   ]
  },
  {
   "cell_type": "code",
   "execution_count": 61,
   "id": "839cd79a",
   "metadata": {
    "execution": {
     "iopub.execute_input": "2023-10-27T16:41:11.828068Z",
     "iopub.status.busy": "2023-10-27T16:41:11.827643Z",
     "iopub.status.idle": "2023-10-27T16:41:11.832177Z",
     "shell.execute_reply": "2023-10-27T16:41:11.831194Z"
    },
    "papermill": {
     "duration": 1.260051,
     "end_time": "2023-10-27T16:41:11.834464",
     "exception": false,
     "start_time": "2023-10-27T16:41:10.574413",
     "status": "completed"
    },
    "tags": []
   },
   "outputs": [],
   "source": [
    "# # Remove English alphanumeric values\n",
    "# alpha_pat = \"[a-zA-z0-9০-৯]\"\n",
    "# test_df[\"ctext\"] = test_df[\"ctext\"].str.replace(alpha_pat, \"\", regex=True)\n",
    "# pat = \"[‘’]\"\n",
    "# test_df[\"ctext\"] = test_df[\"ctext\"].str.replace(pat, \"\", regex=True)"
   ]
  },
  {
   "cell_type": "code",
   "execution_count": 62,
   "id": "3f8cd529",
   "metadata": {
    "execution": {
     "iopub.execute_input": "2023-10-27T16:41:14.550945Z",
     "iopub.status.busy": "2023-10-27T16:41:14.550323Z",
     "iopub.status.idle": "2023-10-27T16:41:14.554622Z",
     "shell.execute_reply": "2023-10-27T16:41:14.553624Z"
    },
    "papermill": {
     "duration": 1.362907,
     "end_time": "2023-10-27T16:41:14.556537",
     "exception": false,
     "start_time": "2023-10-27T16:41:13.193630",
     "status": "completed"
    },
    "tags": []
   },
   "outputs": [],
   "source": [
    "# filt_cond = [\"১-৯\", 'A-Za-z0-9']\n",
    "# # Filtering text samples that contain English alphanumeric values\n",
    "# filt = df[lambda x: x[\"text\"].str.contains(\"[-]\")]\n",
    "# filt = filt.reset_index(drop=True)\n",
    "# print(f'Length of the Df = {filt.shape}')"
   ]
  },
  {
   "cell_type": "code",
   "execution_count": 63,
   "id": "e4b85bd8",
   "metadata": {
    "execution": {
     "iopub.execute_input": "2023-10-27T16:41:17.144601Z",
     "iopub.status.busy": "2023-10-27T16:41:17.143988Z",
     "iopub.status.idle": "2023-10-27T16:41:17.148015Z",
     "shell.execute_reply": "2023-10-27T16:41:17.147172Z"
    },
    "papermill": {
     "duration": 1.333645,
     "end_time": "2023-10-27T16:41:17.149898",
     "exception": false,
     "start_time": "2023-10-27T16:41:15.816253",
     "status": "completed"
    },
    "tags": []
   },
   "outputs": [],
   "source": [
    "# ind = np.random.randint(0, len(filt))\n",
    "# print(ipa_converter(filt.text[ind]))\n",
    "# filt.text[ind]"
   ]
  },
  {
   "cell_type": "code",
   "execution_count": 64,
   "id": "de86cf96",
   "metadata": {
    "execution": {
     "iopub.execute_input": "2023-10-27T16:41:19.664035Z",
     "iopub.status.busy": "2023-10-27T16:41:19.663354Z",
     "iopub.status.idle": "2023-10-27T16:41:19.667525Z",
     "shell.execute_reply": "2023-10-27T16:41:19.666670Z"
    },
    "papermill": {
     "duration": 1.259982,
     "end_time": "2023-10-27T16:41:19.669371",
     "exception": false,
     "start_time": "2023-10-27T16:41:18.409389",
     "status": "completed"
    },
    "tags": []
   },
   "outputs": [],
   "source": [
    "# filt_cond = [\"১-৯\", 'A-Za-z0-9']\n",
    "# # Filtering text samples that contain English alphanumeric values\n",
    "# filt = test_df[lambda x: x[\"ctext\"].str.contains(\"[-]\")]\n",
    "# filt = filt.reset_index(drop=True)\n",
    "# print(f'Length of the Df = {filt.shape}')"
   ]
  },
  {
   "cell_type": "code",
   "execution_count": 65,
   "id": "de6267e7",
   "metadata": {
    "execution": {
     "iopub.execute_input": "2023-10-27T16:41:22.317798Z",
     "iopub.status.busy": "2023-10-27T16:41:22.317038Z",
     "iopub.status.idle": "2023-10-27T16:41:22.321135Z",
     "shell.execute_reply": "2023-10-27T16:41:22.320229Z"
    },
    "papermill": {
     "duration": 1.334894,
     "end_time": "2023-10-27T16:41:22.323040",
     "exception": false,
     "start_time": "2023-10-27T16:41:20.988146",
     "status": "completed"
    },
    "tags": []
   },
   "outputs": [],
   "source": [
    "# ind = np.random.randint(0, len(filt))\n",
    "# print(ipa_converter(filt.ctext[ind]))\n",
    "# filt.ctext[ind]"
   ]
  },
  {
   "cell_type": "code",
   "execution_count": 66,
   "id": "930cf390",
   "metadata": {
    "execution": {
     "iopub.execute_input": "2023-10-27T16:41:24.919909Z",
     "iopub.status.busy": "2023-10-27T16:41:24.919562Z",
     "iopub.status.idle": "2023-10-27T16:41:24.925715Z",
     "shell.execute_reply": "2023-10-27T16:41:24.924898Z"
    },
    "papermill": {
     "duration": 1.271737,
     "end_time": "2023-10-27T16:41:24.927551",
     "exception": false,
     "start_time": "2023-10-27T16:41:23.655814",
     "status": "completed"
    },
    "tags": []
   },
   "outputs": [
    {
     "data": {
      "text/plain": [
       "'এগুলোর মধ্যে সাজ্জাদ হোসেনের নন স্টপ, আশুতোষ সুজনের এই শহরে এবং রুলিন রহমানের রোড নাম্বার-সাত, বাসা নাম্বার-তের।'"
      ]
     },
     "execution_count": 66,
     "metadata": {},
     "output_type": "execute_result"
    }
   ],
   "source": [
    "test_df['ctext'][5]"
   ]
  },
  {
   "cell_type": "code",
   "execution_count": 67,
   "id": "705ca5bf",
   "metadata": {
    "execution": {
     "iopub.execute_input": "2023-10-27T16:41:27.489022Z",
     "iopub.status.busy": "2023-10-27T16:41:27.488660Z",
     "iopub.status.idle": "2023-10-27T16:41:27.496207Z",
     "shell.execute_reply": "2023-10-27T16:41:27.495298Z"
    },
    "papermill": {
     "duration": 1.252317,
     "end_time": "2023-10-27T16:41:27.498005",
     "exception": false,
     "start_time": "2023-10-27T16:41:26.245688",
     "status": "completed"
    },
    "tags": []
   },
   "outputs": [
    {
     "name": "stdout",
     "output_type": "stream",
     "text": [
      "index:  5\n"
     ]
    },
    {
     "data": {
      "text/plain": [
       "('eguloɾ mod̪d̪ʱe ʃɐɟɟɐd̪ hoseneɾ nɔn stɔp, ɐʃut̪oʃ ʃuɟɔneɾ eɪ̯ ʃɔhoɾe eboŋ ɾunɪn ɾɔhomɐneɾ ɾod nɐmbɐɾ-ʃɐt̪, nɐmbɐɾ-ʃɐt̪, bɐʃɐ nɐmbɐɾ-t̪eɾ।',\n",
       " 'eguloɾ mod̪d̪ʱe ʃɐɟɟɐd̪ hoseneɾ nɔn stɔp, ɐʃut̪oʃ ʃuɟɔneɾ eɪ̯ ʃɔhoɾe eboŋ ɾunɪn ɾɔhomɐneɾ ɾod nɐmbɐɾ-ʃɐt̪, nɐmbɐɾ-ʃɐt̪, bɐʃɐ nɐmbɐɾ-t̪eɾ।')"
      ]
     },
     "execution_count": 67,
     "metadata": {},
     "output_type": "execute_result"
    }
   ],
   "source": [
    "ri = np.random.randint(0, 100)\n",
    "ri = 5\n",
    "print('index: ',ri)\n",
    "test_df['ipa'][ri], test_df['fipa'][ri]"
   ]
  },
  {
   "cell_type": "code",
   "execution_count": 68,
   "id": "c471ff6e",
   "metadata": {
    "execution": {
     "iopub.execute_input": "2023-10-27T16:41:30.090876Z",
     "iopub.status.busy": "2023-10-27T16:41:30.090507Z",
     "iopub.status.idle": "2023-10-27T16:41:30.094628Z",
     "shell.execute_reply": "2023-10-27T16:41:30.093754Z"
    },
    "papermill": {
     "duration": 1.286422,
     "end_time": "2023-10-27T16:41:30.096612",
     "exception": false,
     "start_time": "2023-10-27T16:41:28.810190",
     "status": "completed"
    },
    "tags": []
   },
   "outputs": [],
   "source": [
    "# test_df['fipa'] = test_df['fipa'].str.replace(r\" ‘\", \"‘\")"
   ]
  },
  {
   "cell_type": "code",
   "execution_count": 69,
   "id": "b1827fbc",
   "metadata": {
    "execution": {
     "iopub.execute_input": "2023-10-27T16:41:32.645526Z",
     "iopub.status.busy": "2023-10-27T16:41:32.645140Z",
     "iopub.status.idle": "2023-10-27T16:41:32.649127Z",
     "shell.execute_reply": "2023-10-27T16:41:32.648274Z"
    },
    "papermill": {
     "duration": 1.244367,
     "end_time": "2023-10-27T16:41:32.651037",
     "exception": false,
     "start_time": "2023-10-27T16:41:31.406670",
     "status": "completed"
    },
    "tags": []
   },
   "outputs": [],
   "source": [
    "# test_df.to_csv('submission.csv', index=False)"
   ]
  },
  {
   "cell_type": "code",
   "execution_count": 70,
   "id": "6bec5cb2",
   "metadata": {
    "execution": {
     "iopub.execute_input": "2023-10-27T16:41:35.217683Z",
     "iopub.status.busy": "2023-10-27T16:41:35.217332Z",
     "iopub.status.idle": "2023-10-27T16:41:35.221545Z",
     "shell.execute_reply": "2023-10-27T16:41:35.220621Z"
    },
    "papermill": {
     "duration": 1.332044,
     "end_time": "2023-10-27T16:41:35.223494",
     "exception": false,
     "start_time": "2023-10-27T16:41:33.891450",
     "status": "completed"
    },
    "tags": []
   },
   "outputs": [],
   "source": [
    "# # See a random sample from the test set \n",
    "# rand_index = np.random.randint(0, len(test_df))\n",
    "# print(f'Text = {test_df.text[rand_index]}\\nIpa = {test_df.ipa[rand_index]}')"
   ]
  },
  {
   "cell_type": "code",
   "execution_count": 71,
   "id": "352a6149",
   "metadata": {
    "execution": {
     "iopub.execute_input": "2023-10-27T16:41:37.887025Z",
     "iopub.status.busy": "2023-10-27T16:41:37.886200Z",
     "iopub.status.idle": "2023-10-27T16:41:37.892979Z",
     "shell.execute_reply": "2023-10-27T16:41:37.891880Z"
    },
    "papermill": {
     "duration": 1.362589,
     "end_time": "2023-10-27T16:41:37.895038",
     "exception": false,
     "start_time": "2023-10-27T16:41:36.532449",
     "status": "completed"
    },
    "tags": []
   },
   "outputs": [
    {
     "data": {
      "text/plain": [
       "'mod̪d̪ʱe'"
      ]
     },
     "execution_count": 71,
     "metadata": {},
     "output_type": "execute_result"
    }
   ],
   "source": [
    "lib['মধ্যে']"
   ]
  },
  {
   "cell_type": "code",
   "execution_count": 72,
   "id": "9fd81df5",
   "metadata": {
    "execution": {
     "iopub.execute_input": "2023-10-27T16:41:40.447546Z",
     "iopub.status.busy": "2023-10-27T16:41:40.446729Z",
     "iopub.status.idle": "2023-10-27T16:41:40.450883Z",
     "shell.execute_reply": "2023-10-27T16:41:40.450043Z"
    },
    "papermill": {
     "duration": 1.315412,
     "end_time": "2023-10-27T16:41:40.452871",
     "exception": false,
     "start_time": "2023-10-27T16:41:39.137459",
     "status": "completed"
    },
    "tags": []
   },
   "outputs": [],
   "source": [
    "# lenli = []\n",
    "# for i in range(len(test_df)):\n",
    "#     l1 = len(test_df['text'][i].split())\n",
    "#     l2 = len(test_df['ipa'][i].split())\n",
    "#     lenli.append([l1, l2])"
   ]
  },
  {
   "cell_type": "code",
   "execution_count": 73,
   "id": "4b466a80",
   "metadata": {
    "execution": {
     "iopub.execute_input": "2023-10-27T16:41:43.055434Z",
     "iopub.status.busy": "2023-10-27T16:41:43.054796Z",
     "iopub.status.idle": "2023-10-27T16:41:43.058960Z",
     "shell.execute_reply": "2023-10-27T16:41:43.058075Z"
    },
    "papermill": {
     "duration": 1.364484,
     "end_time": "2023-10-27T16:41:43.060915",
     "exception": false,
     "start_time": "2023-10-27T16:41:41.696431",
     "status": "completed"
    },
    "tags": []
   },
   "outputs": [],
   "source": [
    "# lenlisrt = sorted(lenli, key= lambda x:x[1], reverse=False)"
   ]
  },
  {
   "cell_type": "code",
   "execution_count": 74,
   "id": "c49662fb",
   "metadata": {
    "execution": {
     "iopub.execute_input": "2023-10-27T16:41:45.652129Z",
     "iopub.status.busy": "2023-10-27T16:41:45.651273Z",
     "iopub.status.idle": "2023-10-27T16:41:45.655597Z",
     "shell.execute_reply": "2023-10-27T16:41:45.654715Z"
    },
    "papermill": {
     "duration": 1.351257,
     "end_time": "2023-10-27T16:41:45.657656",
     "exception": false,
     "start_time": "2023-10-27T16:41:44.306399",
     "status": "completed"
    },
    "tags": []
   },
   "outputs": [],
   "source": [
    "# lenlisrt[:10]"
   ]
  },
  {
   "cell_type": "code",
   "execution_count": 75,
   "id": "f00cd65a",
   "metadata": {
    "execution": {
     "iopub.execute_input": "2023-10-27T16:41:48.155639Z",
     "iopub.status.busy": "2023-10-27T16:41:48.155302Z",
     "iopub.status.idle": "2023-10-27T16:41:48.168827Z",
     "shell.execute_reply": "2023-10-27T16:41:48.167976Z"
    },
    "papermill": {
     "duration": 1.267517,
     "end_time": "2023-10-27T16:41:48.170792",
     "exception": false,
     "start_time": "2023-10-27T16:41:46.903275",
     "status": "completed"
    },
    "tags": []
   },
   "outputs": [
    {
     "data": {
      "text/html": [
       "<div>\n",
       "<style scoped>\n",
       "    .dataframe tbody tr th:only-of-type {\n",
       "        vertical-align: middle;\n",
       "    }\n",
       "\n",
       "    .dataframe tbody tr th {\n",
       "        vertical-align: top;\n",
       "    }\n",
       "\n",
       "    .dataframe thead th {\n",
       "        text-align: right;\n",
       "    }\n",
       "</style>\n",
       "<table border=\"1\" class=\"dataframe\">\n",
       "  <thead>\n",
       "    <tr style=\"text-align: right;\">\n",
       "      <th></th>\n",
       "      <th>row_id_column_name</th>\n",
       "      <th>fipa</th>\n",
       "    </tr>\n",
       "  </thead>\n",
       "  <tbody>\n",
       "    <tr>\n",
       "      <th>0</th>\n",
       "      <td>0</td>\n",
       "      <td>bɪʃeʃ ot̪ɪt̪ʰɪ epʰem ɪkbɐl bɪn ɐnoʷɐɾ (dɔn) ɛd...</td>\n",
       "    </tr>\n",
       "    <tr>\n",
       "      <th>1</th>\n",
       "      <td>1</td>\n",
       "      <td>e nɪʲe bɪbɐd̪e d̪uɪ̯ hɐɟɐɾ pɔneɾo ʃɐleɾ d̪uɪ̯ ...</td>\n",
       "    </tr>\n",
       "  </tbody>\n",
       "</table>\n",
       "</div>"
      ],
      "text/plain": [
       "   row_id_column_name                                               fipa\n",
       "0                   0  bɪʃeʃ ot̪ɪt̪ʰɪ epʰem ɪkbɐl bɪn ɐnoʷɐɾ (dɔn) ɛd...\n",
       "1                   1  e nɪʲe bɪbɐd̪e d̪uɪ̯ hɐɟɐɾ pɔneɾo ʃɐleɾ d̪uɪ̯ ..."
      ]
     },
     "execution_count": 75,
     "metadata": {},
     "output_type": "execute_result"
    }
   ],
   "source": [
    "sdf = test_df.drop(['text', 'ipa', 'ctext' ], axis=1)\n",
    "sdf.head(2)"
   ]
  },
  {
   "cell_type": "code",
   "execution_count": 76,
   "id": "b72a5f40",
   "metadata": {
    "execution": {
     "iopub.execute_input": "2023-10-27T16:41:50.818158Z",
     "iopub.status.busy": "2023-10-27T16:41:50.817782Z",
     "iopub.status.idle": "2023-10-27T16:41:51.010799Z",
     "shell.execute_reply": "2023-10-27T16:41:51.009893Z"
    },
    "papermill": {
     "duration": 1.513587,
     "end_time": "2023-10-27T16:41:51.012753",
     "exception": false,
     "start_time": "2023-10-27T16:41:49.499166",
     "status": "completed"
    },
    "tags": []
   },
   "outputs": [
    {
     "name": "stdout",
     "output_type": "stream",
     "text": [
      "(27228, 2)\n"
     ]
    }
   ],
   "source": [
    "print(sdf.shape)\n",
    "sdf.to_csv('/kaggle/working/submission77.csv', index=False)"
   ]
  },
  {
   "cell_type": "code",
   "execution_count": null,
   "id": "061edb70",
   "metadata": {
    "papermill": {
     "duration": 1.241283,
     "end_time": "2023-10-27T16:41:53.563842",
     "exception": false,
     "start_time": "2023-10-27T16:41:52.322559",
     "status": "completed"
    },
    "tags": []
   },
   "outputs": [],
   "source": []
  },
  {
   "cell_type": "code",
   "execution_count": 77,
   "id": "71bf27c3",
   "metadata": {
    "execution": {
     "iopub.execute_input": "2023-10-27T16:41:56.154023Z",
     "iopub.status.busy": "2023-10-27T16:41:56.153640Z",
     "iopub.status.idle": "2023-10-27T16:41:56.159731Z",
     "shell.execute_reply": "2023-10-27T16:41:56.158895Z"
    },
    "papermill": {
     "duration": 1.258311,
     "end_time": "2023-10-27T16:41:56.161722",
     "exception": false,
     "start_time": "2023-10-27T16:41:54.903411",
     "status": "completed"
    },
    "tags": []
   },
   "outputs": [
    {
     "data": {
      "text/plain": [
       "'bɪʃeʃ ot̪ɪt̪ʰɪ epʰem ɪkbɐl bɪn ɐnoʷɐɾ (dɔn) ɛdɪʃonɐl dɐɪ̯ɾektɔɾgeʃ ɛnd spoɾts dɪpɐɾtoment oʷɐltɔn।'"
      ]
     },
     "execution_count": 77,
     "metadata": {},
     "output_type": "execute_result"
    }
   ],
   "source": [
    "sdf.fipa[0]"
   ]
  },
  {
   "cell_type": "code",
   "execution_count": 78,
   "id": "b6aeeca2",
   "metadata": {
    "execution": {
     "iopub.execute_input": "2023-10-27T16:41:58.718520Z",
     "iopub.status.busy": "2023-10-27T16:41:58.717693Z",
     "iopub.status.idle": "2023-10-27T16:41:58.723243Z",
     "shell.execute_reply": "2023-10-27T16:41:58.722179Z"
    },
    "papermill": {
     "duration": 1.250566,
     "end_time": "2023-10-27T16:41:58.725261",
     "exception": false,
     "start_time": "2023-10-27T16:41:57.474695",
     "status": "completed"
    },
    "tags": []
   },
   "outputs": [
    {
     "name": "stdout",
     "output_type": "stream",
     "text": [
      "Ipa = ɛk lok ɟele gɛcʰe।\n"
     ]
    }
   ],
   "source": [
    "# See a random sample from the test set \n",
    "rand_index = np.random.randint(0, len(test_df))\n",
    "print(f'Ipa = {sdf.fipa[rand_index]}')"
   ]
  },
  {
   "cell_type": "code",
   "execution_count": null,
   "id": "f7bb54bb",
   "metadata": {
    "papermill": {
     "duration": 1.243577,
     "end_time": "2023-10-27T16:42:01.277939",
     "exception": false,
     "start_time": "2023-10-27T16:42:00.034362",
     "status": "completed"
    },
    "tags": []
   },
   "outputs": [],
   "source": []
  }
 ],
 "metadata": {
  "kernelspec": {
   "display_name": "Python 3",
   "language": "python",
   "name": "python3"
  },
  "language_info": {
   "codemirror_mode": {
    "name": "ipython",
    "version": 3
   },
   "file_extension": ".py",
   "mimetype": "text/x-python",
   "name": "python",
   "nbconvert_exporter": "python",
   "pygments_lexer": "ipython3",
   "version": "3.10.12"
  },
  "papermill": {
   "default_parameters": {},
   "duration": 5289.374799,
   "end_time": "2023-10-27T16:42:05.625595",
   "environment_variables": {},
   "exception": null,
   "input_path": "__notebook__.ipynb",
   "output_path": "__notebook__.ipynb",
   "parameters": {},
   "start_time": "2023-10-27T15:13:56.250796",
   "version": "2.4.0"
  },
  "widgets": {
   "application/vnd.jupyter.widget-state+json": {
    "state": {
     "09b02972b3ec4743acb0faae2035cf18": {
      "model_module": "@jupyter-widgets/controls",
      "model_module_version": "1.5.0",
      "model_name": "ProgressStyleModel",
      "state": {
       "_model_module": "@jupyter-widgets/controls",
       "_model_module_version": "1.5.0",
       "_model_name": "ProgressStyleModel",
       "_view_count": null,
       "_view_module": "@jupyter-widgets/base",
       "_view_module_version": "1.2.0",
       "_view_name": "StyleView",
       "bar_color": null,
       "description_width": ""
      }
     },
     "0c3e30e16a8f4f5fa3471814525ae8ed": {
      "model_module": "@jupyter-widgets/base",
      "model_module_version": "1.2.0",
      "model_name": "LayoutModel",
      "state": {
       "_model_module": "@jupyter-widgets/base",
       "_model_module_version": "1.2.0",
       "_model_name": "LayoutModel",
       "_view_count": null,
       "_view_module": "@jupyter-widgets/base",
       "_view_module_version": "1.2.0",
       "_view_name": "LayoutView",
       "align_content": null,
       "align_items": null,
       "align_self": null,
       "border": null,
       "bottom": null,
       "display": null,
       "flex": null,
       "flex_flow": null,
       "grid_area": null,
       "grid_auto_columns": null,
       "grid_auto_flow": null,
       "grid_auto_rows": null,
       "grid_column": null,
       "grid_gap": null,
       "grid_row": null,
       "grid_template_areas": null,
       "grid_template_columns": null,
       "grid_template_rows": null,
       "height": null,
       "justify_content": null,
       "justify_items": null,
       "left": null,
       "margin": null,
       "max_height": null,
       "max_width": null,
       "min_height": null,
       "min_width": null,
       "object_fit": null,
       "object_position": null,
       "order": null,
       "overflow": null,
       "overflow_x": null,
       "overflow_y": null,
       "padding": null,
       "right": null,
       "top": null,
       "visibility": null,
       "width": null
      }
     },
     "19c7cb8eafb04759a89de9c99f27f084": {
      "model_module": "@jupyter-widgets/controls",
      "model_module_version": "1.5.0",
      "model_name": "DescriptionStyleModel",
      "state": {
       "_model_module": "@jupyter-widgets/controls",
       "_model_module_version": "1.5.0",
       "_model_name": "DescriptionStyleModel",
       "_view_count": null,
       "_view_module": "@jupyter-widgets/base",
       "_view_module_version": "1.2.0",
       "_view_name": "StyleView",
       "description_width": ""
      }
     },
     "2355143035844d76bb8e3d62411171ac": {
      "model_module": "@jupyter-widgets/base",
      "model_module_version": "1.2.0",
      "model_name": "LayoutModel",
      "state": {
       "_model_module": "@jupyter-widgets/base",
       "_model_module_version": "1.2.0",
       "_model_name": "LayoutModel",
       "_view_count": null,
       "_view_module": "@jupyter-widgets/base",
       "_view_module_version": "1.2.0",
       "_view_name": "LayoutView",
       "align_content": null,
       "align_items": null,
       "align_self": null,
       "border": null,
       "bottom": null,
       "display": null,
       "flex": null,
       "flex_flow": null,
       "grid_area": null,
       "grid_auto_columns": null,
       "grid_auto_flow": null,
       "grid_auto_rows": null,
       "grid_column": null,
       "grid_gap": null,
       "grid_row": null,
       "grid_template_areas": null,
       "grid_template_columns": null,
       "grid_template_rows": null,
       "height": null,
       "justify_content": null,
       "justify_items": null,
       "left": null,
       "margin": null,
       "max_height": null,
       "max_width": null,
       "min_height": null,
       "min_width": null,
       "object_fit": null,
       "object_position": null,
       "order": null,
       "overflow": null,
       "overflow_x": null,
       "overflow_y": null,
       "padding": null,
       "right": null,
       "top": null,
       "visibility": null,
       "width": null
      }
     },
     "2f1a4ed40f6e4203805bd37c5e737097": {
      "model_module": "@jupyter-widgets/controls",
      "model_module_version": "1.5.0",
      "model_name": "HTMLModel",
      "state": {
       "_dom_classes": [],
       "_model_module": "@jupyter-widgets/controls",
       "_model_module_version": "1.5.0",
       "_model_name": "HTMLModel",
       "_view_count": null,
       "_view_module": "@jupyter-widgets/controls",
       "_view_module_version": "1.5.0",
       "_view_name": "HTMLView",
       "description": "",
       "description_tooltip": null,
       "layout": "IPY_MODEL_adc579b1b5d641fca4e5d6bed49acd9a",
       "placeholder": "​",
       "style": "IPY_MODEL_98b751fabf04498ab9c51f0904f99a71",
       "value": "Downloading (…)ve/main/spiece.model: 100%"
      }
     },
     "3d43a6b1f5bf470798f580ac3027b0a4": {
      "model_module": "@jupyter-widgets/controls",
      "model_module_version": "1.5.0",
      "model_name": "DescriptionStyleModel",
      "state": {
       "_model_module": "@jupyter-widgets/controls",
       "_model_module_version": "1.5.0",
       "_model_name": "DescriptionStyleModel",
       "_view_count": null,
       "_view_module": "@jupyter-widgets/base",
       "_view_module_version": "1.2.0",
       "_view_name": "StyleView",
       "description_width": ""
      }
     },
     "3ff3b5b3c4ab4f1db373e702cb4e03c2": {
      "model_module": "@jupyter-widgets/controls",
      "model_module_version": "1.5.0",
      "model_name": "HBoxModel",
      "state": {
       "_dom_classes": [],
       "_model_module": "@jupyter-widgets/controls",
       "_model_module_version": "1.5.0",
       "_model_name": "HBoxModel",
       "_view_count": null,
       "_view_module": "@jupyter-widgets/controls",
       "_view_module_version": "1.5.0",
       "_view_name": "HBoxView",
       "box_style": "",
       "children": [
        "IPY_MODEL_eb97ba3153794f57897716b063b5c793",
        "IPY_MODEL_466c2df9998e4bb1b1960fe44e95265e",
        "IPY_MODEL_7c0bb59d5df44f7ab028da9a99cbfb9d"
       ],
       "layout": "IPY_MODEL_0c3e30e16a8f4f5fa3471814525ae8ed"
      }
     },
     "466c2df9998e4bb1b1960fe44e95265e": {
      "model_module": "@jupyter-widgets/controls",
      "model_module_version": "1.5.0",
      "model_name": "FloatProgressModel",
      "state": {
       "_dom_classes": [],
       "_model_module": "@jupyter-widgets/controls",
       "_model_module_version": "1.5.0",
       "_model_name": "FloatProgressModel",
       "_view_count": null,
       "_view_module": "@jupyter-widgets/controls",
       "_view_module_version": "1.5.0",
       "_view_name": "ProgressView",
       "bar_style": "success",
       "description": "",
       "description_tooltip": null,
       "layout": "IPY_MODEL_5fd332d1a579489f88463562a45d04c5",
       "max": 553.0,
       "min": 0.0,
       "orientation": "horizontal",
       "style": "IPY_MODEL_58083f0984ad49c2923d227f0d27c77f",
       "value": 553.0
      }
     },
     "4c92b0d784f845f98e27157bc46741c7": {
      "model_module": "@jupyter-widgets/base",
      "model_module_version": "1.2.0",
      "model_name": "LayoutModel",
      "state": {
       "_model_module": "@jupyter-widgets/base",
       "_model_module_version": "1.2.0",
       "_model_name": "LayoutModel",
       "_view_count": null,
       "_view_module": "@jupyter-widgets/base",
       "_view_module_version": "1.2.0",
       "_view_name": "LayoutView",
       "align_content": null,
       "align_items": null,
       "align_self": null,
       "border": null,
       "bottom": null,
       "display": null,
       "flex": null,
       "flex_flow": null,
       "grid_area": null,
       "grid_auto_columns": null,
       "grid_auto_flow": null,
       "grid_auto_rows": null,
       "grid_column": null,
       "grid_gap": null,
       "grid_row": null,
       "grid_template_areas": null,
       "grid_template_columns": null,
       "grid_template_rows": null,
       "height": null,
       "justify_content": null,
       "justify_items": null,
       "left": null,
       "margin": null,
       "max_height": null,
       "max_width": null,
       "min_height": null,
       "min_width": null,
       "object_fit": null,
       "object_position": null,
       "order": null,
       "overflow": null,
       "overflow_x": null,
       "overflow_y": null,
       "padding": null,
       "right": null,
       "top": null,
       "visibility": null,
       "width": null
      }
     },
     "4d8e6ac1c5064443a86f9fc057098a57": {
      "model_module": "@jupyter-widgets/controls",
      "model_module_version": "1.5.0",
      "model_name": "HTMLModel",
      "state": {
       "_dom_classes": [],
       "_model_module": "@jupyter-widgets/controls",
       "_model_module_version": "1.5.0",
       "_model_name": "HTMLModel",
       "_view_count": null,
       "_view_module": "@jupyter-widgets/controls",
       "_view_module_version": "1.5.0",
       "_view_name": "HTMLView",
       "description": "",
       "description_tooltip": null,
       "layout": "IPY_MODEL_5dbbd5dc7c7340a18c1aa25ab53ce69a",
       "placeholder": "​",
       "style": "IPY_MODEL_5ba4d158a1f84deabb32f3075e678ded",
       "value": " 4.31M/4.31M [00:00&lt;00:00, 8.67MB/s]"
      }
     },
     "58083f0984ad49c2923d227f0d27c77f": {
      "model_module": "@jupyter-widgets/controls",
      "model_module_version": "1.5.0",
      "model_name": "ProgressStyleModel",
      "state": {
       "_model_module": "@jupyter-widgets/controls",
       "_model_module_version": "1.5.0",
       "_model_name": "ProgressStyleModel",
       "_view_count": null,
       "_view_module": "@jupyter-widgets/base",
       "_view_module_version": "1.2.0",
       "_view_name": "StyleView",
       "bar_color": null,
       "description_width": ""
      }
     },
     "5ba4d158a1f84deabb32f3075e678ded": {
      "model_module": "@jupyter-widgets/controls",
      "model_module_version": "1.5.0",
      "model_name": "DescriptionStyleModel",
      "state": {
       "_model_module": "@jupyter-widgets/controls",
       "_model_module_version": "1.5.0",
       "_model_name": "DescriptionStyleModel",
       "_view_count": null,
       "_view_module": "@jupyter-widgets/base",
       "_view_module_version": "1.2.0",
       "_view_name": "StyleView",
       "description_width": ""
      }
     },
     "5dbbd5dc7c7340a18c1aa25ab53ce69a": {
      "model_module": "@jupyter-widgets/base",
      "model_module_version": "1.2.0",
      "model_name": "LayoutModel",
      "state": {
       "_model_module": "@jupyter-widgets/base",
       "_model_module_version": "1.2.0",
       "_model_name": "LayoutModel",
       "_view_count": null,
       "_view_module": "@jupyter-widgets/base",
       "_view_module_version": "1.2.0",
       "_view_name": "LayoutView",
       "align_content": null,
       "align_items": null,
       "align_self": null,
       "border": null,
       "bottom": null,
       "display": null,
       "flex": null,
       "flex_flow": null,
       "grid_area": null,
       "grid_auto_columns": null,
       "grid_auto_flow": null,
       "grid_auto_rows": null,
       "grid_column": null,
       "grid_gap": null,
       "grid_row": null,
       "grid_template_areas": null,
       "grid_template_columns": null,
       "grid_template_rows": null,
       "height": null,
       "justify_content": null,
       "justify_items": null,
       "left": null,
       "margin": null,
       "max_height": null,
       "max_width": null,
       "min_height": null,
       "min_width": null,
       "object_fit": null,
       "object_position": null,
       "order": null,
       "overflow": null,
       "overflow_x": null,
       "overflow_y": null,
       "padding": null,
       "right": null,
       "top": null,
       "visibility": null,
       "width": null
      }
     },
     "5e2951a2b5834af9b7755466f04d49a0": {
      "model_module": "@jupyter-widgets/base",
      "model_module_version": "1.2.0",
      "model_name": "LayoutModel",
      "state": {
       "_model_module": "@jupyter-widgets/base",
       "_model_module_version": "1.2.0",
       "_model_name": "LayoutModel",
       "_view_count": null,
       "_view_module": "@jupyter-widgets/base",
       "_view_module_version": "1.2.0",
       "_view_name": "LayoutView",
       "align_content": null,
       "align_items": null,
       "align_self": null,
       "border": null,
       "bottom": null,
       "display": null,
       "flex": null,
       "flex_flow": null,
       "grid_area": null,
       "grid_auto_columns": null,
       "grid_auto_flow": null,
       "grid_auto_rows": null,
       "grid_column": null,
       "grid_gap": null,
       "grid_row": null,
       "grid_template_areas": null,
       "grid_template_columns": null,
       "grid_template_rows": null,
       "height": null,
       "justify_content": null,
       "justify_items": null,
       "left": null,
       "margin": null,
       "max_height": null,
       "max_width": null,
       "min_height": null,
       "min_width": null,
       "object_fit": null,
       "object_position": null,
       "order": null,
       "overflow": null,
       "overflow_x": null,
       "overflow_y": null,
       "padding": null,
       "right": null,
       "top": null,
       "visibility": null,
       "width": null
      }
     },
     "5fd332d1a579489f88463562a45d04c5": {
      "model_module": "@jupyter-widgets/base",
      "model_module_version": "1.2.0",
      "model_name": "LayoutModel",
      "state": {
       "_model_module": "@jupyter-widgets/base",
       "_model_module_version": "1.2.0",
       "_model_name": "LayoutModel",
       "_view_count": null,
       "_view_module": "@jupyter-widgets/base",
       "_view_module_version": "1.2.0",
       "_view_name": "LayoutView",
       "align_content": null,
       "align_items": null,
       "align_self": null,
       "border": null,
       "bottom": null,
       "display": null,
       "flex": null,
       "flex_flow": null,
       "grid_area": null,
       "grid_auto_columns": null,
       "grid_auto_flow": null,
       "grid_auto_rows": null,
       "grid_column": null,
       "grid_gap": null,
       "grid_row": null,
       "grid_template_areas": null,
       "grid_template_columns": null,
       "grid_template_rows": null,
       "height": null,
       "justify_content": null,
       "justify_items": null,
       "left": null,
       "margin": null,
       "max_height": null,
       "max_width": null,
       "min_height": null,
       "min_width": null,
       "object_fit": null,
       "object_position": null,
       "order": null,
       "overflow": null,
       "overflow_x": null,
       "overflow_y": null,
       "padding": null,
       "right": null,
       "top": null,
       "visibility": null,
       "width": null
      }
     },
     "622da9d564e44b4492b1d0b5d9b29393": {
      "model_module": "@jupyter-widgets/controls",
      "model_module_version": "1.5.0",
      "model_name": "ProgressStyleModel",
      "state": {
       "_model_module": "@jupyter-widgets/controls",
       "_model_module_version": "1.5.0",
       "_model_name": "ProgressStyleModel",
       "_view_count": null,
       "_view_module": "@jupyter-widgets/base",
       "_view_module_version": "1.2.0",
       "_view_name": "StyleView",
       "bar_color": null,
       "description_width": ""
      }
     },
     "68bf979846c643ad93aca7465d9ac469": {
      "model_module": "@jupyter-widgets/controls",
      "model_module_version": "1.5.0",
      "model_name": "HTMLModel",
      "state": {
       "_dom_classes": [],
       "_model_module": "@jupyter-widgets/controls",
       "_model_module_version": "1.5.0",
       "_model_name": "HTMLModel",
       "_view_count": null,
       "_view_module": "@jupyter-widgets/controls",
       "_view_module_version": "1.5.0",
       "_view_name": "HTMLView",
       "description": "",
       "description_tooltip": null,
       "layout": "IPY_MODEL_94d1e01063a54f3696d906aed868331f",
       "placeholder": "​",
       "style": "IPY_MODEL_19c7cb8eafb04759a89de9c99f27f084",
       "value": " 99.0/99.0 [00:00&lt;00:00, 7.94kB/s]"
      }
     },
     "69fa59dff016489bb6d376bee89f5528": {
      "model_module": "@jupyter-widgets/base",
      "model_module_version": "1.2.0",
      "model_name": "LayoutModel",
      "state": {
       "_model_module": "@jupyter-widgets/base",
       "_model_module_version": "1.2.0",
       "_model_name": "LayoutModel",
       "_view_count": null,
       "_view_module": "@jupyter-widgets/base",
       "_view_module_version": "1.2.0",
       "_view_name": "LayoutView",
       "align_content": null,
       "align_items": null,
       "align_self": null,
       "border": null,
       "bottom": null,
       "display": null,
       "flex": null,
       "flex_flow": null,
       "grid_area": null,
       "grid_auto_columns": null,
       "grid_auto_flow": null,
       "grid_auto_rows": null,
       "grid_column": null,
       "grid_gap": null,
       "grid_row": null,
       "grid_template_areas": null,
       "grid_template_columns": null,
       "grid_template_rows": null,
       "height": null,
       "justify_content": null,
       "justify_items": null,
       "left": null,
       "margin": null,
       "max_height": null,
       "max_width": null,
       "min_height": null,
       "min_width": null,
       "object_fit": null,
       "object_position": null,
       "order": null,
       "overflow": null,
       "overflow_x": null,
       "overflow_y": null,
       "padding": null,
       "right": null,
       "top": null,
       "visibility": null,
       "width": null
      }
     },
     "6f335d41f64b48d4aba00dc20d704081": {
      "model_module": "@jupyter-widgets/base",
      "model_module_version": "1.2.0",
      "model_name": "LayoutModel",
      "state": {
       "_model_module": "@jupyter-widgets/base",
       "_model_module_version": "1.2.0",
       "_model_name": "LayoutModel",
       "_view_count": null,
       "_view_module": "@jupyter-widgets/base",
       "_view_module_version": "1.2.0",
       "_view_name": "LayoutView",
       "align_content": null,
       "align_items": null,
       "align_self": null,
       "border": null,
       "bottom": null,
       "display": null,
       "flex": null,
       "flex_flow": null,
       "grid_area": null,
       "grid_auto_columns": null,
       "grid_auto_flow": null,
       "grid_auto_rows": null,
       "grid_column": null,
       "grid_gap": null,
       "grid_row": null,
       "grid_template_areas": null,
       "grid_template_columns": null,
       "grid_template_rows": null,
       "height": null,
       "justify_content": null,
       "justify_items": null,
       "left": null,
       "margin": null,
       "max_height": null,
       "max_width": null,
       "min_height": null,
       "min_width": null,
       "object_fit": null,
       "object_position": null,
       "order": null,
       "overflow": null,
       "overflow_x": null,
       "overflow_y": null,
       "padding": null,
       "right": null,
       "top": null,
       "visibility": null,
       "width": null
      }
     },
     "6f64844350fc4cfdb3a5f62f9c138c41": {
      "model_module": "@jupyter-widgets/controls",
      "model_module_version": "1.5.0",
      "model_name": "HBoxModel",
      "state": {
       "_dom_classes": [],
       "_model_module": "@jupyter-widgets/controls",
       "_model_module_version": "1.5.0",
       "_model_name": "HBoxModel",
       "_view_count": null,
       "_view_module": "@jupyter-widgets/controls",
       "_view_module_version": "1.5.0",
       "_view_name": "HBoxView",
       "box_style": "",
       "children": [
        "IPY_MODEL_2f1a4ed40f6e4203805bd37c5e737097",
        "IPY_MODEL_7342588ec60c44249371c48074de558b",
        "IPY_MODEL_4d8e6ac1c5064443a86f9fc057098a57"
       ],
       "layout": "IPY_MODEL_fb4eef6e413d42da908bb0ff24f1af71"
      }
     },
     "7342588ec60c44249371c48074de558b": {
      "model_module": "@jupyter-widgets/controls",
      "model_module_version": "1.5.0",
      "model_name": "FloatProgressModel",
      "state": {
       "_dom_classes": [],
       "_model_module": "@jupyter-widgets/controls",
       "_model_module_version": "1.5.0",
       "_model_name": "FloatProgressModel",
       "_view_count": null,
       "_view_module": "@jupyter-widgets/controls",
       "_view_module_version": "1.5.0",
       "_view_name": "ProgressView",
       "bar_style": "success",
       "description": "",
       "description_tooltip": null,
       "layout": "IPY_MODEL_dd4f7c8313014da0a70667c7c4d6ce8e",
       "max": 4309802.0,
       "min": 0.0,
       "orientation": "horizontal",
       "style": "IPY_MODEL_09b02972b3ec4743acb0faae2035cf18",
       "value": 4309802.0
      }
     },
     "784b08dac5cd41a38b5a579a6c309468": {
      "model_module": "@jupyter-widgets/base",
      "model_module_version": "1.2.0",
      "model_name": "LayoutModel",
      "state": {
       "_model_module": "@jupyter-widgets/base",
       "_model_module_version": "1.2.0",
       "_model_name": "LayoutModel",
       "_view_count": null,
       "_view_module": "@jupyter-widgets/base",
       "_view_module_version": "1.2.0",
       "_view_name": "LayoutView",
       "align_content": null,
       "align_items": null,
       "align_self": null,
       "border": null,
       "bottom": null,
       "display": null,
       "flex": null,
       "flex_flow": null,
       "grid_area": null,
       "grid_auto_columns": null,
       "grid_auto_flow": null,
       "grid_auto_rows": null,
       "grid_column": null,
       "grid_gap": null,
       "grid_row": null,
       "grid_template_areas": null,
       "grid_template_columns": null,
       "grid_template_rows": null,
       "height": null,
       "justify_content": null,
       "justify_items": null,
       "left": null,
       "margin": null,
       "max_height": null,
       "max_width": null,
       "min_height": null,
       "min_width": null,
       "object_fit": null,
       "object_position": null,
       "order": null,
       "overflow": null,
       "overflow_x": null,
       "overflow_y": null,
       "padding": null,
       "right": null,
       "top": null,
       "visibility": null,
       "width": null
      }
     },
     "7c0bb59d5df44f7ab028da9a99cbfb9d": {
      "model_module": "@jupyter-widgets/controls",
      "model_module_version": "1.5.0",
      "model_name": "HTMLModel",
      "state": {
       "_dom_classes": [],
       "_model_module": "@jupyter-widgets/controls",
       "_model_module_version": "1.5.0",
       "_model_name": "HTMLModel",
       "_view_count": null,
       "_view_module": "@jupyter-widgets/controls",
       "_view_module_version": "1.5.0",
       "_view_name": "HTMLView",
       "description": "",
       "description_tooltip": null,
       "layout": "IPY_MODEL_6f335d41f64b48d4aba00dc20d704081",
       "placeholder": "​",
       "style": "IPY_MODEL_f92bd88e01c34a8d9fcca8e5c025d708",
       "value": " 553/553 [00:00&lt;00:00, 42.2kB/s]"
      }
     },
     "8ddc19a9afc44ac7a819df8c641fe521": {
      "model_module": "@jupyter-widgets/controls",
      "model_module_version": "1.5.0",
      "model_name": "ProgressStyleModel",
      "state": {
       "_model_module": "@jupyter-widgets/controls",
       "_model_module_version": "1.5.0",
       "_model_name": "ProgressStyleModel",
       "_view_count": null,
       "_view_module": "@jupyter-widgets/base",
       "_view_module_version": "1.2.0",
       "_view_name": "StyleView",
       "bar_color": null,
       "description_width": ""
      }
     },
     "94d1e01063a54f3696d906aed868331f": {
      "model_module": "@jupyter-widgets/base",
      "model_module_version": "1.2.0",
      "model_name": "LayoutModel",
      "state": {
       "_model_module": "@jupyter-widgets/base",
       "_model_module_version": "1.2.0",
       "_model_name": "LayoutModel",
       "_view_count": null,
       "_view_module": "@jupyter-widgets/base",
       "_view_module_version": "1.2.0",
       "_view_name": "LayoutView",
       "align_content": null,
       "align_items": null,
       "align_self": null,
       "border": null,
       "bottom": null,
       "display": null,
       "flex": null,
       "flex_flow": null,
       "grid_area": null,
       "grid_auto_columns": null,
       "grid_auto_flow": null,
       "grid_auto_rows": null,
       "grid_column": null,
       "grid_gap": null,
       "grid_row": null,
       "grid_template_areas": null,
       "grid_template_columns": null,
       "grid_template_rows": null,
       "height": null,
       "justify_content": null,
       "justify_items": null,
       "left": null,
       "margin": null,
       "max_height": null,
       "max_width": null,
       "min_height": null,
       "min_width": null,
       "object_fit": null,
       "object_position": null,
       "order": null,
       "overflow": null,
       "overflow_x": null,
       "overflow_y": null,
       "padding": null,
       "right": null,
       "top": null,
       "visibility": null,
       "width": null
      }
     },
     "98b751fabf04498ab9c51f0904f99a71": {
      "model_module": "@jupyter-widgets/controls",
      "model_module_version": "1.5.0",
      "model_name": "DescriptionStyleModel",
      "state": {
       "_model_module": "@jupyter-widgets/controls",
       "_model_module_version": "1.5.0",
       "_model_name": "DescriptionStyleModel",
       "_view_count": null,
       "_view_module": "@jupyter-widgets/base",
       "_view_module_version": "1.2.0",
       "_view_name": "StyleView",
       "description_width": ""
      }
     },
     "9fdddfb1d8f643c0993bee2467c5d657": {
      "model_module": "@jupyter-widgets/controls",
      "model_module_version": "1.5.0",
      "model_name": "HTMLModel",
      "state": {
       "_dom_classes": [],
       "_model_module": "@jupyter-widgets/controls",
       "_model_module_version": "1.5.0",
       "_model_name": "HTMLModel",
       "_view_count": null,
       "_view_module": "@jupyter-widgets/controls",
       "_view_module_version": "1.5.0",
       "_view_name": "HTMLView",
       "description": "",
       "description_tooltip": null,
       "layout": "IPY_MODEL_5e2951a2b5834af9b7755466f04d49a0",
       "placeholder": "​",
       "style": "IPY_MODEL_3d43a6b1f5bf470798f580ac3027b0a4",
       "value": "Downloading (…)okenizer_config.json: 100%"
      }
     },
     "a7373d54a74e420f96ff437be6113cc1": {
      "model_module": "@jupyter-widgets/controls",
      "model_module_version": "1.5.0",
      "model_name": "HTMLModel",
      "state": {
       "_dom_classes": [],
       "_model_module": "@jupyter-widgets/controls",
       "_model_module_version": "1.5.0",
       "_model_name": "HTMLModel",
       "_view_count": null,
       "_view_module": "@jupyter-widgets/controls",
       "_view_module_version": "1.5.0",
       "_view_name": "HTMLView",
       "description": "",
       "description_tooltip": null,
       "layout": "IPY_MODEL_69fa59dff016489bb6d376bee89f5528",
       "placeholder": "​",
       "style": "IPY_MODEL_ca44645a5f0d403fae58af58872edc49",
       "value": " 82.0/82.0 [00:00&lt;00:00, 7.48kB/s]"
      }
     },
     "ab1e6a30bbf74e8f9877867d1c8e471f": {
      "model_module": "@jupyter-widgets/controls",
      "model_module_version": "1.5.0",
      "model_name": "HBoxModel",
      "state": {
       "_dom_classes": [],
       "_model_module": "@jupyter-widgets/controls",
       "_model_module_version": "1.5.0",
       "_model_name": "HBoxModel",
       "_view_count": null,
       "_view_module": "@jupyter-widgets/controls",
       "_view_module_version": "1.5.0",
       "_view_name": "HBoxView",
       "box_style": "",
       "children": [
        "IPY_MODEL_dfbcba2a770c4b9bad78bb2ac7d680e4",
        "IPY_MODEL_bfce3a5efcd2473c920f6ac3278c3e44",
        "IPY_MODEL_68bf979846c643ad93aca7465d9ac469"
       ],
       "layout": "IPY_MODEL_acce82b427f341739bdd30cab4316262"
      }
     },
     "acce82b427f341739bdd30cab4316262": {
      "model_module": "@jupyter-widgets/base",
      "model_module_version": "1.2.0",
      "model_name": "LayoutModel",
      "state": {
       "_model_module": "@jupyter-widgets/base",
       "_model_module_version": "1.2.0",
       "_model_name": "LayoutModel",
       "_view_count": null,
       "_view_module": "@jupyter-widgets/base",
       "_view_module_version": "1.2.0",
       "_view_name": "LayoutView",
       "align_content": null,
       "align_items": null,
       "align_self": null,
       "border": null,
       "bottom": null,
       "display": null,
       "flex": null,
       "flex_flow": null,
       "grid_area": null,
       "grid_auto_columns": null,
       "grid_auto_flow": null,
       "grid_auto_rows": null,
       "grid_column": null,
       "grid_gap": null,
       "grid_row": null,
       "grid_template_areas": null,
       "grid_template_columns": null,
       "grid_template_rows": null,
       "height": null,
       "justify_content": null,
       "justify_items": null,
       "left": null,
       "margin": null,
       "max_height": null,
       "max_width": null,
       "min_height": null,
       "min_width": null,
       "object_fit": null,
       "object_position": null,
       "order": null,
       "overflow": null,
       "overflow_x": null,
       "overflow_y": null,
       "padding": null,
       "right": null,
       "top": null,
       "visibility": null,
       "width": null
      }
     },
     "adc579b1b5d641fca4e5d6bed49acd9a": {
      "model_module": "@jupyter-widgets/base",
      "model_module_version": "1.2.0",
      "model_name": "LayoutModel",
      "state": {
       "_model_module": "@jupyter-widgets/base",
       "_model_module_version": "1.2.0",
       "_model_name": "LayoutModel",
       "_view_count": null,
       "_view_module": "@jupyter-widgets/base",
       "_view_module_version": "1.2.0",
       "_view_name": "LayoutView",
       "align_content": null,
       "align_items": null,
       "align_self": null,
       "border": null,
       "bottom": null,
       "display": null,
       "flex": null,
       "flex_flow": null,
       "grid_area": null,
       "grid_auto_columns": null,
       "grid_auto_flow": null,
       "grid_auto_rows": null,
       "grid_column": null,
       "grid_gap": null,
       "grid_row": null,
       "grid_template_areas": null,
       "grid_template_columns": null,
       "grid_template_rows": null,
       "height": null,
       "justify_content": null,
       "justify_items": null,
       "left": null,
       "margin": null,
       "max_height": null,
       "max_width": null,
       "min_height": null,
       "min_width": null,
       "object_fit": null,
       "object_position": null,
       "order": null,
       "overflow": null,
       "overflow_x": null,
       "overflow_y": null,
       "padding": null,
       "right": null,
       "top": null,
       "visibility": null,
       "width": null
      }
     },
     "bfce3a5efcd2473c920f6ac3278c3e44": {
      "model_module": "@jupyter-widgets/controls",
      "model_module_version": "1.5.0",
      "model_name": "FloatProgressModel",
      "state": {
       "_dom_classes": [],
       "_model_module": "@jupyter-widgets/controls",
       "_model_module_version": "1.5.0",
       "_model_name": "FloatProgressModel",
       "_view_count": null,
       "_view_module": "@jupyter-widgets/controls",
       "_view_module_version": "1.5.0",
       "_view_name": "ProgressView",
       "bar_style": "success",
       "description": "",
       "description_tooltip": null,
       "layout": "IPY_MODEL_fc76bf5359314949afbea78124bd01a4",
       "max": 99.0,
       "min": 0.0,
       "orientation": "horizontal",
       "style": "IPY_MODEL_8ddc19a9afc44ac7a819df8c641fe521",
       "value": 99.0
      }
     },
     "c81c7af3a19449c592f38fb32616b6de": {
      "model_module": "@jupyter-widgets/controls",
      "model_module_version": "1.5.0",
      "model_name": "DescriptionStyleModel",
      "state": {
       "_model_module": "@jupyter-widgets/controls",
       "_model_module_version": "1.5.0",
       "_model_name": "DescriptionStyleModel",
       "_view_count": null,
       "_view_module": "@jupyter-widgets/base",
       "_view_module_version": "1.2.0",
       "_view_name": "StyleView",
       "description_width": ""
      }
     },
     "ca44645a5f0d403fae58af58872edc49": {
      "model_module": "@jupyter-widgets/controls",
      "model_module_version": "1.5.0",
      "model_name": "DescriptionStyleModel",
      "state": {
       "_model_module": "@jupyter-widgets/controls",
       "_model_module_version": "1.5.0",
       "_model_name": "DescriptionStyleModel",
       "_view_count": null,
       "_view_module": "@jupyter-widgets/base",
       "_view_module_version": "1.2.0",
       "_view_name": "StyleView",
       "description_width": ""
      }
     },
     "cce90bae2ed14fc6b92762dcc2c067ae": {
      "model_module": "@jupyter-widgets/controls",
      "model_module_version": "1.5.0",
      "model_name": "HBoxModel",
      "state": {
       "_dom_classes": [],
       "_model_module": "@jupyter-widgets/controls",
       "_model_module_version": "1.5.0",
       "_model_name": "HBoxModel",
       "_view_count": null,
       "_view_module": "@jupyter-widgets/controls",
       "_view_module_version": "1.5.0",
       "_view_name": "HBoxView",
       "box_style": "",
       "children": [
        "IPY_MODEL_9fdddfb1d8f643c0993bee2467c5d657",
        "IPY_MODEL_eb5f6b36fa984f9097bf6e88ff76a41c",
        "IPY_MODEL_a7373d54a74e420f96ff437be6113cc1"
       ],
       "layout": "IPY_MODEL_4c92b0d784f845f98e27157bc46741c7"
      }
     },
     "dd4f7c8313014da0a70667c7c4d6ce8e": {
      "model_module": "@jupyter-widgets/base",
      "model_module_version": "1.2.0",
      "model_name": "LayoutModel",
      "state": {
       "_model_module": "@jupyter-widgets/base",
       "_model_module_version": "1.2.0",
       "_model_name": "LayoutModel",
       "_view_count": null,
       "_view_module": "@jupyter-widgets/base",
       "_view_module_version": "1.2.0",
       "_view_name": "LayoutView",
       "align_content": null,
       "align_items": null,
       "align_self": null,
       "border": null,
       "bottom": null,
       "display": null,
       "flex": null,
       "flex_flow": null,
       "grid_area": null,
       "grid_auto_columns": null,
       "grid_auto_flow": null,
       "grid_auto_rows": null,
       "grid_column": null,
       "grid_gap": null,
       "grid_row": null,
       "grid_template_areas": null,
       "grid_template_columns": null,
       "grid_template_rows": null,
       "height": null,
       "justify_content": null,
       "justify_items": null,
       "left": null,
       "margin": null,
       "max_height": null,
       "max_width": null,
       "min_height": null,
       "min_width": null,
       "object_fit": null,
       "object_position": null,
       "order": null,
       "overflow": null,
       "overflow_x": null,
       "overflow_y": null,
       "padding": null,
       "right": null,
       "top": null,
       "visibility": null,
       "width": null
      }
     },
     "dfbcba2a770c4b9bad78bb2ac7d680e4": {
      "model_module": "@jupyter-widgets/controls",
      "model_module_version": "1.5.0",
      "model_name": "HTMLModel",
      "state": {
       "_dom_classes": [],
       "_model_module": "@jupyter-widgets/controls",
       "_model_module_version": "1.5.0",
       "_model_name": "HTMLModel",
       "_view_count": null,
       "_view_module": "@jupyter-widgets/controls",
       "_view_module_version": "1.5.0",
       "_view_name": "HTMLView",
       "description": "",
       "description_tooltip": null,
       "layout": "IPY_MODEL_fb7af7aac4ee45a8a3a8f468c3a997a2",
       "placeholder": "​",
       "style": "IPY_MODEL_e497843746c74d11bb6279a409f934de",
       "value": "Downloading (…)cial_tokens_map.json: 100%"
      }
     },
     "e497843746c74d11bb6279a409f934de": {
      "model_module": "@jupyter-widgets/controls",
      "model_module_version": "1.5.0",
      "model_name": "DescriptionStyleModel",
      "state": {
       "_model_module": "@jupyter-widgets/controls",
       "_model_module_version": "1.5.0",
       "_model_name": "DescriptionStyleModel",
       "_view_count": null,
       "_view_module": "@jupyter-widgets/base",
       "_view_module_version": "1.2.0",
       "_view_name": "StyleView",
       "description_width": ""
      }
     },
     "eb5f6b36fa984f9097bf6e88ff76a41c": {
      "model_module": "@jupyter-widgets/controls",
      "model_module_version": "1.5.0",
      "model_name": "FloatProgressModel",
      "state": {
       "_dom_classes": [],
       "_model_module": "@jupyter-widgets/controls",
       "_model_module_version": "1.5.0",
       "_model_name": "FloatProgressModel",
       "_view_count": null,
       "_view_module": "@jupyter-widgets/controls",
       "_view_module_version": "1.5.0",
       "_view_name": "ProgressView",
       "bar_style": "success",
       "description": "",
       "description_tooltip": null,
       "layout": "IPY_MODEL_2355143035844d76bb8e3d62411171ac",
       "max": 82.0,
       "min": 0.0,
       "orientation": "horizontal",
       "style": "IPY_MODEL_622da9d564e44b4492b1d0b5d9b29393",
       "value": 82.0
      }
     },
     "eb97ba3153794f57897716b063b5c793": {
      "model_module": "@jupyter-widgets/controls",
      "model_module_version": "1.5.0",
      "model_name": "HTMLModel",
      "state": {
       "_dom_classes": [],
       "_model_module": "@jupyter-widgets/controls",
       "_model_module_version": "1.5.0",
       "_model_name": "HTMLModel",
       "_view_count": null,
       "_view_module": "@jupyter-widgets/controls",
       "_view_module_version": "1.5.0",
       "_view_name": "HTMLView",
       "description": "",
       "description_tooltip": null,
       "layout": "IPY_MODEL_784b08dac5cd41a38b5a579a6c309468",
       "placeholder": "​",
       "style": "IPY_MODEL_c81c7af3a19449c592f38fb32616b6de",
       "value": "Downloading (…)lve/main/config.json: 100%"
      }
     },
     "f92bd88e01c34a8d9fcca8e5c025d708": {
      "model_module": "@jupyter-widgets/controls",
      "model_module_version": "1.5.0",
      "model_name": "DescriptionStyleModel",
      "state": {
       "_model_module": "@jupyter-widgets/controls",
       "_model_module_version": "1.5.0",
       "_model_name": "DescriptionStyleModel",
       "_view_count": null,
       "_view_module": "@jupyter-widgets/base",
       "_view_module_version": "1.2.0",
       "_view_name": "StyleView",
       "description_width": ""
      }
     },
     "fb4eef6e413d42da908bb0ff24f1af71": {
      "model_module": "@jupyter-widgets/base",
      "model_module_version": "1.2.0",
      "model_name": "LayoutModel",
      "state": {
       "_model_module": "@jupyter-widgets/base",
       "_model_module_version": "1.2.0",
       "_model_name": "LayoutModel",
       "_view_count": null,
       "_view_module": "@jupyter-widgets/base",
       "_view_module_version": "1.2.0",
       "_view_name": "LayoutView",
       "align_content": null,
       "align_items": null,
       "align_self": null,
       "border": null,
       "bottom": null,
       "display": null,
       "flex": null,
       "flex_flow": null,
       "grid_area": null,
       "grid_auto_columns": null,
       "grid_auto_flow": null,
       "grid_auto_rows": null,
       "grid_column": null,
       "grid_gap": null,
       "grid_row": null,
       "grid_template_areas": null,
       "grid_template_columns": null,
       "grid_template_rows": null,
       "height": null,
       "justify_content": null,
       "justify_items": null,
       "left": null,
       "margin": null,
       "max_height": null,
       "max_width": null,
       "min_height": null,
       "min_width": null,
       "object_fit": null,
       "object_position": null,
       "order": null,
       "overflow": null,
       "overflow_x": null,
       "overflow_y": null,
       "padding": null,
       "right": null,
       "top": null,
       "visibility": null,
       "width": null
      }
     },
     "fb7af7aac4ee45a8a3a8f468c3a997a2": {
      "model_module": "@jupyter-widgets/base",
      "model_module_version": "1.2.0",
      "model_name": "LayoutModel",
      "state": {
       "_model_module": "@jupyter-widgets/base",
       "_model_module_version": "1.2.0",
       "_model_name": "LayoutModel",
       "_view_count": null,
       "_view_module": "@jupyter-widgets/base",
       "_view_module_version": "1.2.0",
       "_view_name": "LayoutView",
       "align_content": null,
       "align_items": null,
       "align_self": null,
       "border": null,
       "bottom": null,
       "display": null,
       "flex": null,
       "flex_flow": null,
       "grid_area": null,
       "grid_auto_columns": null,
       "grid_auto_flow": null,
       "grid_auto_rows": null,
       "grid_column": null,
       "grid_gap": null,
       "grid_row": null,
       "grid_template_areas": null,
       "grid_template_columns": null,
       "grid_template_rows": null,
       "height": null,
       "justify_content": null,
       "justify_items": null,
       "left": null,
       "margin": null,
       "max_height": null,
       "max_width": null,
       "min_height": null,
       "min_width": null,
       "object_fit": null,
       "object_position": null,
       "order": null,
       "overflow": null,
       "overflow_x": null,
       "overflow_y": null,
       "padding": null,
       "right": null,
       "top": null,
       "visibility": null,
       "width": null
      }
     },
     "fc76bf5359314949afbea78124bd01a4": {
      "model_module": "@jupyter-widgets/base",
      "model_module_version": "1.2.0",
      "model_name": "LayoutModel",
      "state": {
       "_model_module": "@jupyter-widgets/base",
       "_model_module_version": "1.2.0",
       "_model_name": "LayoutModel",
       "_view_count": null,
       "_view_module": "@jupyter-widgets/base",
       "_view_module_version": "1.2.0",
       "_view_name": "LayoutView",
       "align_content": null,
       "align_items": null,
       "align_self": null,
       "border": null,
       "bottom": null,
       "display": null,
       "flex": null,
       "flex_flow": null,
       "grid_area": null,
       "grid_auto_columns": null,
       "grid_auto_flow": null,
       "grid_auto_rows": null,
       "grid_column": null,
       "grid_gap": null,
       "grid_row": null,
       "grid_template_areas": null,
       "grid_template_columns": null,
       "grid_template_rows": null,
       "height": null,
       "justify_content": null,
       "justify_items": null,
       "left": null,
       "margin": null,
       "max_height": null,
       "max_width": null,
       "min_height": null,
       "min_width": null,
       "object_fit": null,
       "object_position": null,
       "order": null,
       "overflow": null,
       "overflow_x": null,
       "overflow_y": null,
       "padding": null,
       "right": null,
       "top": null,
       "visibility": null,
       "width": null
      }
     }
    },
    "version_major": 2,
    "version_minor": 0
   }
  }
 },
 "nbformat": 4,
 "nbformat_minor": 5
}
