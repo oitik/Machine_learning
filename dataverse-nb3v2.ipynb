{
 "cells": [
  {
   "cell_type": "code",
   "execution_count": 1,
   "id": "37aee1bd",
   "metadata": {
    "execution": {
     "iopub.execute_input": "2023-10-19T08:49:13.254971Z",
     "iopub.status.busy": "2023-10-19T08:49:13.254684Z",
     "iopub.status.idle": "2023-10-19T08:49:14.781890Z",
     "shell.execute_reply": "2023-10-19T08:49:14.781013Z"
    },
    "papermill": {
     "duration": 1.541617,
     "end_time": "2023-10-19T08:49:14.783896",
     "exception": false,
     "start_time": "2023-10-19T08:49:13.242279",
     "status": "completed"
    },
    "tags": []
   },
   "outputs": [
    {
     "name": "stderr",
     "output_type": "stream",
     "text": [
      "/opt/conda/lib/python3.10/site-packages/scipy/__init__.py:146: UserWarning: A NumPy version >=1.16.5 and <1.23.0 is required for this version of SciPy (detected version 1.23.5\n",
      "  warnings.warn(f\"A NumPy version >={np_minversion} and <{np_maxversion}\"\n"
     ]
    }
   ],
   "source": [
    "# Regular EDA(exploratory data analysis) and plotting libraries\n",
    "import numpy as np\n",
    "import pandas as pd\n",
    "import matplotlib.pyplot as plt\n",
    "\n",
    "from sklearn.model_selection import train_test_split\n",
    "%matplotlib inline\n",
    "\n",
    "from tqdm import tqdm\n",
    "import string\n",
    "import statistics\n",
    "import re\n",
    "import joblib\n",
    "import random"
   ]
  },
  {
   "cell_type": "code",
   "execution_count": 2,
   "id": "bd49fdf4",
   "metadata": {
    "execution": {
     "iopub.execute_input": "2023-10-19T08:49:14.807221Z",
     "iopub.status.busy": "2023-10-19T08:49:14.806889Z",
     "iopub.status.idle": "2023-10-19T08:49:15.120625Z",
     "shell.execute_reply": "2023-10-19T08:49:15.119821Z"
    },
    "papermill": {
     "duration": 0.326913,
     "end_time": "2023-10-19T08:49:15.122435",
     "exception": false,
     "start_time": "2023-10-19T08:49:14.795522",
     "status": "completed"
    },
    "tags": []
   },
   "outputs": [
    {
     "data": {
      "text/html": [
       "<div>\n",
       "<style scoped>\n",
       "    .dataframe tbody tr th:only-of-type {\n",
       "        vertical-align: middle;\n",
       "    }\n",
       "\n",
       "    .dataframe tbody tr th {\n",
       "        vertical-align: top;\n",
       "    }\n",
       "\n",
       "    .dataframe thead th {\n",
       "        text-align: right;\n",
       "    }\n",
       "</style>\n",
       "<table border=\"1\" class=\"dataframe\">\n",
       "  <thead>\n",
       "    <tr style=\"text-align: right;\">\n",
       "      <th></th>\n",
       "      <th>text</th>\n",
       "      <th>ipa</th>\n",
       "    </tr>\n",
       "  </thead>\n",
       "  <tbody>\n",
       "    <tr>\n",
       "      <th>0</th>\n",
       "      <td>এরপরও তারা বকেয়া পরিশোধ করেনি।</td>\n",
       "      <td>eɾpɔɾo t̪ɐɾɐ bɔkeʲɐ poɾɪʃod̪ʱ kɔɾenɪ।</td>\n",
       "    </tr>\n",
       "    <tr>\n",
       "      <th>1</th>\n",
       "      <td>আগে সুইস ব্যাংকে জমা টাকার কোনো প্রতিবেদন প্রক...</td>\n",
       "      <td>ɐge suɪ̯s bɛŋke ɟɔmɐ tɐkɐɾ kono pɾot̪ɪbed̪ɔn p...</td>\n",
       "    </tr>\n",
       "  </tbody>\n",
       "</table>\n",
       "</div>"
      ],
      "text/plain": [
       "                                                text  \\\n",
       "0                     এরপরও তারা বকেয়া পরিশোধ করেনি।   \n",
       "1  আগে সুইস ব্যাংকে জমা টাকার কোনো প্রতিবেদন প্রক...   \n",
       "\n",
       "                                                 ipa  \n",
       "0              eɾpɔɾo t̪ɐɾɐ bɔkeʲɐ poɾɪʃod̪ʱ kɔɾenɪ।  \n",
       "1  ɐge suɪ̯s bɛŋke ɟɔmɐ tɐkɐɾ kono pɾot̪ɪbed̪ɔn p...  "
      ]
     },
     "execution_count": 2,
     "metadata": {},
     "output_type": "execute_result"
    }
   ],
   "source": [
    "# Import the training set\n",
    "df = pd.read_csv('/kaggle/input/dataverse-ipa/dataverse_2023/trainIPAdb_u.csv')\n",
    "df.head(2)"
   ]
  },
  {
   "cell_type": "code",
   "execution_count": 3,
   "id": "e95ede2d",
   "metadata": {
    "execution": {
     "iopub.execute_input": "2023-10-19T08:49:15.146133Z",
     "iopub.status.busy": "2023-10-19T08:49:15.145900Z",
     "iopub.status.idle": "2023-10-19T08:49:15.150349Z",
     "shell.execute_reply": "2023-10-19T08:49:15.149614Z"
    },
    "papermill": {
     "duration": 0.018208,
     "end_time": "2023-10-19T08:49:15.152042",
     "exception": false,
     "start_time": "2023-10-19T08:49:15.133834",
     "status": "completed"
    },
    "tags": []
   },
   "outputs": [
    {
     "name": "stdout",
     "output_type": "stream",
     "text": [
      "Text = দীর্ঘদিন বাচসাস-এর ভোট না হওয়ায় এ নির্বাচনকে বেশ গুরুত্বের সঙ্গেই দেখছেন ভোটাররা।\n",
      "IPA = d̪ɪɾgʱod̪ɪn bɐcʃɐʃ-eɾ bʱot nɐ hoʷɐe̯ e nɪɾbɐcɔnke beʃ guɾut̪t̪eɾ ʃɔŋgeɪː d̪ekʰcʰen bʱotɐɾɾɐ।\n"
     ]
    }
   ],
   "source": [
    "# See a random sample from the training set \n",
    "rand_index = np.random.randint(0, len(df))\n",
    "print(f'Text = {df.text[rand_index]}\\nIPA = {df.ipa[rand_index]}')"
   ]
  },
  {
   "cell_type": "code",
   "execution_count": 4,
   "id": "2b0fd8b8",
   "metadata": {
    "execution": {
     "iopub.execute_input": "2023-10-19T08:49:15.174829Z",
     "iopub.status.busy": "2023-10-19T08:49:15.174574Z",
     "iopub.status.idle": "2023-10-19T08:49:15.198884Z",
     "shell.execute_reply": "2023-10-19T08:49:15.198046Z"
    },
    "papermill": {
     "duration": 0.037457,
     "end_time": "2023-10-19T08:49:15.200477",
     "exception": false,
     "start_time": "2023-10-19T08:49:15.163020",
     "status": "completed"
    },
    "tags": []
   },
   "outputs": [
    {
     "data": {
      "text/html": [
       "<div>\n",
       "<style scoped>\n",
       "    .dataframe tbody tr th:only-of-type {\n",
       "        vertical-align: middle;\n",
       "    }\n",
       "\n",
       "    .dataframe tbody tr th {\n",
       "        vertical-align: top;\n",
       "    }\n",
       "\n",
       "    .dataframe thead th {\n",
       "        text-align: right;\n",
       "    }\n",
       "</style>\n",
       "<table border=\"1\" class=\"dataframe\">\n",
       "  <thead>\n",
       "    <tr style=\"text-align: right;\">\n",
       "      <th></th>\n",
       "      <th>text</th>\n",
       "      <th>ipa</th>\n",
       "    </tr>\n",
       "  </thead>\n",
       "  <tbody>\n",
       "    <tr>\n",
       "      <th>0</th>\n",
       "      <td>আমি বলেন সাত আদালতের।</td>\n",
       "      <td>ɐmɪ bɔlen ʃɐt̪ ɐd̪ɐlɔt̪eɾ।</td>\n",
       "    </tr>\n",
       "    <tr>\n",
       "      <th>1</th>\n",
       "      <td>তুমি করা চুরানব্বই রাখে।</td>\n",
       "      <td>t̪umɪ kɔɾɐ cuɾɐnɔbboɪ ɾɐkʰe।</td>\n",
       "    </tr>\n",
       "    <tr>\n",
       "      <th>2</th>\n",
       "      <td>আমরা স্বীকার আটান্ন উপস্থিত।</td>\n",
       "      <td>ɐmɾɐ ʃɪkɐɾ ɐtɐnno upost̪ʰɪt̪।</td>\n",
       "    </tr>\n",
       "  </tbody>\n",
       "</table>\n",
       "</div>"
      ],
      "text/plain": [
       "                           text                            ipa\n",
       "0         আমি বলেন সাত আদালতের।     ɐmɪ bɔlen ʃɐt̪ ɐd̪ɐlɔt̪eɾ।\n",
       "1      তুমি করা চুরানব্বই রাখে।   t̪umɪ kɔɾɐ cuɾɐnɔbboɪ ɾɐkʰe।\n",
       "2  আমরা স্বীকার আটান্ন উপস্থিত।  ɐmɾɐ ʃɪkɐɾ ɐtɐnno upost̪ʰɪt̪।"
      ]
     },
     "execution_count": 4,
     "metadata": {},
     "output_type": "execute_result"
    }
   ],
   "source": [
    "new_df = pd.read_csv('/kaggle/input/dataverse-ipa/new_train.csv')\n",
    "new_df.head(3)"
   ]
  },
  {
   "cell_type": "code",
   "execution_count": 5,
   "id": "c49fc32c",
   "metadata": {
    "execution": {
     "iopub.execute_input": "2023-10-19T08:49:15.223086Z",
     "iopub.status.busy": "2023-10-19T08:49:15.222829Z",
     "iopub.status.idle": "2023-10-19T08:49:15.411109Z",
     "shell.execute_reply": "2023-10-19T08:49:15.410246Z"
    },
    "papermill": {
     "duration": 0.201408,
     "end_time": "2023-10-19T08:49:15.412846",
     "exception": false,
     "start_time": "2023-10-19T08:49:15.211438",
     "status": "completed"
    },
    "tags": []
   },
   "outputs": [
    {
     "data": {
      "text/html": [
       "<div>\n",
       "<style scoped>\n",
       "    .dataframe tbody tr th:only-of-type {\n",
       "        vertical-align: middle;\n",
       "    }\n",
       "\n",
       "    .dataframe tbody tr th {\n",
       "        vertical-align: top;\n",
       "    }\n",
       "\n",
       "    .dataframe thead th {\n",
       "        text-align: right;\n",
       "    }\n",
       "</style>\n",
       "<table border=\"1\" class=\"dataframe\">\n",
       "  <thead>\n",
       "    <tr style=\"text-align: right;\">\n",
       "      <th></th>\n",
       "      <th>row_id_column_name</th>\n",
       "      <th>text</th>\n",
       "    </tr>\n",
       "  </thead>\n",
       "  <tbody>\n",
       "    <tr>\n",
       "      <th>0</th>\n",
       "      <td>0</td>\n",
       "      <td>বিশেষ অতিথি এফএম ইকবাল বিন আনোয়ার (ডন) অ্যাডিশ...</td>\n",
       "    </tr>\n",
       "    <tr>\n",
       "      <th>1</th>\n",
       "      <td>1</td>\n",
       "      <td>এ নিয়ে বিবাদে ২০১৫ সালের ২ জুন রাত সাড়ে ১১টায় ...</td>\n",
       "    </tr>\n",
       "    <tr>\n",
       "      <th>2</th>\n",
       "      <td>2</td>\n",
       "      <td>আজ থেকে ১৪ বছর আগে তিনি চলে গেছেন না ফেরার দেশে।</td>\n",
       "    </tr>\n",
       "  </tbody>\n",
       "</table>\n",
       "</div>"
      ],
      "text/plain": [
       "   row_id_column_name                                               text\n",
       "0                   0  বিশেষ অতিথি এফএম ইকবাল বিন আনোয়ার (ডন) অ্যাডিশ...\n",
       "1                   1  এ নিয়ে বিবাদে ২০১৫ সালের ২ জুন রাত সাড়ে ১১টায় ...\n",
       "2                   2   আজ থেকে ১৪ বছর আগে তিনি চলে গেছেন না ফেরার দেশে।"
      ]
     },
     "execution_count": 5,
     "metadata": {},
     "output_type": "execute_result"
    }
   ],
   "source": [
    "test_df = pd.read_csv('/kaggle/input/dataverse-ipa/dataverse_2023/testData.csv')\n",
    "test_df.head(3)"
   ]
  },
  {
   "cell_type": "markdown",
   "id": "1f4ed0e7",
   "metadata": {
    "papermill": {
     "duration": 0.011294,
     "end_time": "2023-10-19T08:49:15.435553",
     "exception": false,
     "start_time": "2023-10-19T08:49:15.424259",
     "status": "completed"
    },
    "tags": []
   },
   "source": [
    "## Training Data Library "
   ]
  },
  {
   "cell_type": "code",
   "execution_count": 6,
   "id": "2f0adcd5",
   "metadata": {
    "execution": {
     "iopub.execute_input": "2023-10-19T08:49:15.458780Z",
     "iopub.status.busy": "2023-10-19T08:49:15.458492Z",
     "iopub.status.idle": "2023-10-19T08:49:15.463483Z",
     "shell.execute_reply": "2023-10-19T08:49:15.462645Z"
    },
    "papermill": {
     "duration": 0.018755,
     "end_time": "2023-10-19T08:49:15.465173",
     "exception": false,
     "start_time": "2023-10-19T08:49:15.446418",
     "status": "completed"
    },
    "tags": []
   },
   "outputs": [],
   "source": [
    "# Make a function\n",
    "def make_library(df):\n",
    "    '''\n",
    "    \n",
    "    '''\n",
    "    library = {}\n",
    "    texts = df.text\n",
    "    ipas = df.ipa\n",
    "    for i in tqdm(range(len(df))):\n",
    "        for (v1, v2) in zip(re.split(r'\\s+|(?=।)', texts[i]), re.split(r'\\s+|(?=।)', ipas[i])):\n",
    "            library[v1] = v2\n",
    "    return library"
   ]
  },
  {
   "cell_type": "code",
   "execution_count": 7,
   "id": "6b520081",
   "metadata": {
    "execution": {
     "iopub.execute_input": "2023-10-19T08:49:15.487792Z",
     "iopub.status.busy": "2023-10-19T08:49:15.487545Z",
     "iopub.status.idle": "2023-10-19T08:49:15.963731Z",
     "shell.execute_reply": "2023-10-19T08:49:15.962919Z"
    },
    "papermill": {
     "duration": 0.48943,
     "end_time": "2023-10-19T08:49:15.965506",
     "exception": false,
     "start_time": "2023-10-19T08:49:15.476076",
     "status": "completed"
    },
    "tags": []
   },
   "outputs": [
    {
     "name": "stderr",
     "output_type": "stream",
     "text": [
      "100%|██████████| 21999/21999 [00:00<00:00, 46877.12it/s]\n"
     ]
    }
   ],
   "source": [
    "lib = make_library(df)\n",
    "# lib.update(make_library(new_df))"
   ]
  },
  {
   "cell_type": "code",
   "execution_count": 8,
   "id": "c0b70375",
   "metadata": {
    "execution": {
     "iopub.execute_input": "2023-10-19T08:49:16.032765Z",
     "iopub.status.busy": "2023-10-19T08:49:16.032475Z",
     "iopub.status.idle": "2023-10-19T08:49:16.036289Z",
     "shell.execute_reply": "2023-10-19T08:49:16.035544Z"
    },
    "papermill": {
     "duration": 0.017916,
     "end_time": "2023-10-19T08:49:16.037817",
     "exception": false,
     "start_time": "2023-10-19T08:49:16.019901",
     "status": "completed"
    },
    "tags": []
   },
   "outputs": [],
   "source": [
    "# Add brackets is the library\n",
    "lib['('] = '('\n",
    "lib[')'] = ')'"
   ]
  },
  {
   "cell_type": "code",
   "execution_count": 9,
   "id": "871b8925",
   "metadata": {
    "execution": {
     "iopub.execute_input": "2023-10-19T08:49:16.061452Z",
     "iopub.status.busy": "2023-10-19T08:49:16.061226Z",
     "iopub.status.idle": "2023-10-19T08:49:16.130277Z",
     "shell.execute_reply": "2023-10-19T08:49:16.129438Z"
    },
    "papermill": {
     "duration": 0.082921,
     "end_time": "2023-10-19T08:49:16.132144",
     "exception": false,
     "start_time": "2023-10-19T08:49:16.049223",
     "status": "completed"
    },
    "tags": []
   },
   "outputs": [
    {
     "name": "stdout",
     "output_type": "stream",
     "text": [
      "[('এরপরও', 'eɾpɔɾo'), ('তারা', 't̪ɐɾɐ'), ('বকেয়া', 'bɔkeʲɐ'), ('পরিশোধ', 'poɾɪʃod̪ʱ'), ('করেনি', 'kɔɾenɪ'), ('।', '।'), ('আগে', 'ɐge'), ('সুইস', 'suɪ̯s'), ('ব্যাংকে', 'bɛŋke'), ('জমা', 'ɟɔmɐ')]\n"
     ]
    },
    {
     "data": {
      "text/plain": [
       "34817"
      ]
     },
     "execution_count": 9,
     "metadata": {},
     "output_type": "execute_result"
    }
   ],
   "source": [
    "print(list(lib.items())[:10])\n",
    "len(lib)"
   ]
  },
  {
   "cell_type": "code",
   "execution_count": 10,
   "id": "656e5b97",
   "metadata": {
    "execution": {
     "iopub.execute_input": "2023-10-19T08:49:16.156410Z",
     "iopub.status.busy": "2023-10-19T08:49:16.156160Z",
     "iopub.status.idle": "2023-10-19T08:49:16.199987Z",
     "shell.execute_reply": "2023-10-19T08:49:16.199244Z"
    },
    "papermill": {
     "duration": 0.057549,
     "end_time": "2023-10-19T08:49:16.201492",
     "exception": false,
     "start_time": "2023-10-19T08:49:16.143943",
     "status": "completed"
    },
    "tags": []
   },
   "outputs": [
    {
     "name": "stdout",
     "output_type": "stream",
     "text": [
      "Filtered Dictionary: 34505\n"
     ]
    }
   ],
   "source": [
    "bengali_char_pattern = re.compile(r'[\\u0980-\\u09FF]')\n",
    "\n",
    "filtered_lib = {key: value for key, value in lib.items() if not re.search(bengali_char_pattern, value)}\n",
    "\n",
    "print(\"Filtered Dictionary:\", len(filtered_lib))"
   ]
  },
  {
   "cell_type": "code",
   "execution_count": 11,
   "id": "61494a6f",
   "metadata": {
    "execution": {
     "iopub.execute_input": "2023-10-19T08:49:16.225545Z",
     "iopub.status.busy": "2023-10-19T08:49:16.225283Z",
     "iopub.status.idle": "2023-10-19T08:49:16.236945Z",
     "shell.execute_reply": "2023-10-19T08:49:16.236266Z"
    },
    "papermill": {
     "duration": 0.025453,
     "end_time": "2023-10-19T08:49:16.238512",
     "exception": false,
     "start_time": "2023-10-19T08:49:16.213059",
     "status": "completed"
    },
    "tags": []
   },
   "outputs": [
    {
     "name": "stdout",
     "output_type": "stream",
     "text": [
      "[('এরপরও', 'eɾpɔɾo'), ('তারা', 't̪ɐɾɐ'), ('বকেয়া', 'bɔkeʲɐ'), ('পরিশোধ', 'poɾɪʃod̪ʱ'), ('করেনি', 'kɔɾenɪ'), ('।', '।'), ('আগে', 'ɐge'), ('সুইস', 'suɪ̯s'), ('ব্যাংকে', 'bɛŋke'), ('জমা', 'ɟɔmɐ')]\n"
     ]
    },
    {
     "data": {
      "text/plain": [
       "34505"
      ]
     },
     "execution_count": 11,
     "metadata": {},
     "output_type": "execute_result"
    }
   ],
   "source": [
    "print(list(filtered_lib.items())[:10])\n",
    "len(filtered_lib)"
   ]
  },
  {
   "cell_type": "code",
   "execution_count": 12,
   "id": "d35c899c",
   "metadata": {
    "execution": {
     "iopub.execute_input": "2023-10-19T08:49:16.262526Z",
     "iopub.status.busy": "2023-10-19T08:49:16.262317Z",
     "iopub.status.idle": "2023-10-19T08:49:16.265632Z",
     "shell.execute_reply": "2023-10-19T08:49:16.264947Z"
    },
    "papermill": {
     "duration": 0.017034,
     "end_time": "2023-10-19T08:49:16.267134",
     "exception": false,
     "start_time": "2023-10-19T08:49:16.250100",
     "status": "completed"
    },
    "tags": []
   },
   "outputs": [],
   "source": [
    "try:\n",
    "    lib['শ্রেণী']\n",
    "except:\n",
    "    print('ValueError')"
   ]
  },
  {
   "cell_type": "code",
   "execution_count": 13,
   "id": "8ece5982",
   "metadata": {
    "execution": {
     "iopub.execute_input": "2023-10-19T08:49:16.291507Z",
     "iopub.status.busy": "2023-10-19T08:49:16.291303Z",
     "iopub.status.idle": "2023-10-19T08:49:16.296831Z",
     "shell.execute_reply": "2023-10-19T08:49:16.296043Z"
    },
    "papermill": {
     "duration": 0.019416,
     "end_time": "2023-10-19T08:49:16.298467",
     "exception": false,
     "start_time": "2023-10-19T08:49:16.279051",
     "status": "completed"
    },
    "tags": []
   },
   "outputs": [
    {
     "data": {
      "text/plain": [
       "34505"
      ]
     },
     "execution_count": 13,
     "metadata": {},
     "output_type": "execute_result"
    }
   ],
   "source": [
    "lib = filtered_lib\n",
    "len(lib)"
   ]
  },
  {
   "cell_type": "markdown",
   "id": "21506d81",
   "metadata": {
    "papermill": {
     "duration": 0.011415,
     "end_time": "2023-10-19T08:49:16.321361",
     "exception": false,
     "start_time": "2023-10-19T08:49:16.309946",
     "status": "completed"
    },
    "tags": []
   },
   "source": [
    "### Modeling"
   ]
  },
  {
   "cell_type": "code",
   "execution_count": 14,
   "id": "825fcf21",
   "metadata": {
    "execution": {
     "iopub.execute_input": "2023-10-19T08:49:16.345124Z",
     "iopub.status.busy": "2023-10-19T08:49:16.344878Z",
     "iopub.status.idle": "2023-10-19T08:49:20.961958Z",
     "shell.execute_reply": "2023-10-19T08:49:20.961243Z"
    },
    "papermill": {
     "duration": 4.631193,
     "end_time": "2023-10-19T08:49:20.964048",
     "exception": false,
     "start_time": "2023-10-19T08:49:16.332855",
     "status": "completed"
    },
    "tags": []
   },
   "outputs": [
    {
     "data": {
      "application/vnd.jupyter.widget-view+json": {
       "model_id": "df2e5763d82a46c8806d093344d458e2",
       "version_major": 2,
       "version_minor": 0
      },
      "text/plain": [
       "Downloading (…)okenizer_config.json:   0%|          | 0.00/82.0 [00:00<?, ?B/s]"
      ]
     },
     "metadata": {},
     "output_type": "display_data"
    },
    {
     "data": {
      "application/vnd.jupyter.widget-view+json": {
       "model_id": "d01391dca07b451294c136445654786c",
       "version_major": 2,
       "version_minor": 0
      },
      "text/plain": [
       "Downloading (…)lve/main/config.json:   0%|          | 0.00/553 [00:00<?, ?B/s]"
      ]
     },
     "metadata": {},
     "output_type": "display_data"
    },
    {
     "data": {
      "application/vnd.jupyter.widget-view+json": {
       "model_id": "e0cea4c588c34c10986874cc498a283b",
       "version_major": 2,
       "version_minor": 0
      },
      "text/plain": [
       "Downloading (…)ve/main/spiece.model:   0%|          | 0.00/4.31M [00:00<?, ?B/s]"
      ]
     },
     "metadata": {},
     "output_type": "display_data"
    },
    {
     "data": {
      "application/vnd.jupyter.widget-view+json": {
       "model_id": "33fb3c668c0841df9d3f44897aa17af7",
       "version_major": 2,
       "version_minor": 0
      },
      "text/plain": [
       "Downloading (…)cial_tokens_map.json:   0%|          | 0.00/99.0 [00:00<?, ?B/s]"
      ]
     },
     "metadata": {},
     "output_type": "display_data"
    },
    {
     "name": "stderr",
     "output_type": "stream",
     "text": [
      "You are using the default legacy behaviour of the <class 'transformers.models.t5.tokenization_t5.T5Tokenizer'>. If you see this, DO NOT PANIC! This is expected, and simply means that the `legacy` (previous) behavior will be used so nothing changes for you. If you want to use the new behaviour, set `legacy=False`. This should only be set if you understand what it means, and thouroughly read the reason why this was added as explained in https://github.com/huggingface/transformers/pull/24565\n",
      "/opt/conda/lib/python3.10/site-packages/transformers/convert_slow_tokenizer.py:473: UserWarning: The sentencepiece tokenizer that you are converting to a fast tokenizer uses the byte fallback option which is not implemented in the fast tokenizers. In practice this means that the fast version of the tokenizer can produce unknown tokens whereas the sentencepiece version would have converted these unknown tokens into a sequence of byte tokens matching the original piece of text.\n",
      "  warnings.warn(\n"
     ]
    }
   ],
   "source": [
    "from transformers import AutoTokenizer\n",
    "model_id = \"google/mt5-small\"\n",
    "tokenizer = AutoTokenizer.from_pretrained(model_id)"
   ]
  },
  {
   "cell_type": "code",
   "execution_count": 15,
   "id": "906982d0",
   "metadata": {
    "_kg_hide-output": true,
    "execution": {
     "iopub.execute_input": "2023-10-19T08:49:20.990326Z",
     "iopub.status.busy": "2023-10-19T08:49:20.989926Z",
     "iopub.status.idle": "2023-10-19T08:49:47.632988Z",
     "shell.execute_reply": "2023-10-19T08:49:47.632158Z"
    },
    "papermill": {
     "duration": 26.657813,
     "end_time": "2023-10-19T08:49:47.634809",
     "exception": false,
     "start_time": "2023-10-19T08:49:20.976996",
     "status": "completed"
    },
    "tags": []
   },
   "outputs": [
    {
     "data": {
      "text/plain": [
       "MT5ForConditionalGeneration(\n",
       "  (shared): Embedding(250112, 512)\n",
       "  (encoder): MT5Stack(\n",
       "    (embed_tokens): Embedding(250112, 512)\n",
       "    (block): ModuleList(\n",
       "      (0): MT5Block(\n",
       "        (layer): ModuleList(\n",
       "          (0): MT5LayerSelfAttention(\n",
       "            (SelfAttention): MT5Attention(\n",
       "              (q): Linear(in_features=512, out_features=384, bias=False)\n",
       "              (k): Linear(in_features=512, out_features=384, bias=False)\n",
       "              (v): Linear(in_features=512, out_features=384, bias=False)\n",
       "              (o): Linear(in_features=384, out_features=512, bias=False)\n",
       "              (relative_attention_bias): Embedding(32, 6)\n",
       "            )\n",
       "            (layer_norm): MT5LayerNorm()\n",
       "            (dropout): Dropout(p=0.1, inplace=False)\n",
       "          )\n",
       "          (1): MT5LayerFF(\n",
       "            (DenseReluDense): MT5DenseGatedActDense(\n",
       "              (wi_0): Linear(in_features=512, out_features=1024, bias=False)\n",
       "              (wi_1): Linear(in_features=512, out_features=1024, bias=False)\n",
       "              (wo): Linear(in_features=1024, out_features=512, bias=False)\n",
       "              (dropout): Dropout(p=0.1, inplace=False)\n",
       "              (act): NewGELUActivation()\n",
       "            )\n",
       "            (layer_norm): MT5LayerNorm()\n",
       "            (dropout): Dropout(p=0.1, inplace=False)\n",
       "          )\n",
       "        )\n",
       "      )\n",
       "      (1-7): 7 x MT5Block(\n",
       "        (layer): ModuleList(\n",
       "          (0): MT5LayerSelfAttention(\n",
       "            (SelfAttention): MT5Attention(\n",
       "              (q): Linear(in_features=512, out_features=384, bias=False)\n",
       "              (k): Linear(in_features=512, out_features=384, bias=False)\n",
       "              (v): Linear(in_features=512, out_features=384, bias=False)\n",
       "              (o): Linear(in_features=384, out_features=512, bias=False)\n",
       "            )\n",
       "            (layer_norm): MT5LayerNorm()\n",
       "            (dropout): Dropout(p=0.1, inplace=False)\n",
       "          )\n",
       "          (1): MT5LayerFF(\n",
       "            (DenseReluDense): MT5DenseGatedActDense(\n",
       "              (wi_0): Linear(in_features=512, out_features=1024, bias=False)\n",
       "              (wi_1): Linear(in_features=512, out_features=1024, bias=False)\n",
       "              (wo): Linear(in_features=1024, out_features=512, bias=False)\n",
       "              (dropout): Dropout(p=0.1, inplace=False)\n",
       "              (act): NewGELUActivation()\n",
       "            )\n",
       "            (layer_norm): MT5LayerNorm()\n",
       "            (dropout): Dropout(p=0.1, inplace=False)\n",
       "          )\n",
       "        )\n",
       "      )\n",
       "    )\n",
       "    (final_layer_norm): MT5LayerNorm()\n",
       "    (dropout): Dropout(p=0.1, inplace=False)\n",
       "  )\n",
       "  (decoder): MT5Stack(\n",
       "    (embed_tokens): Embedding(250112, 512)\n",
       "    (block): ModuleList(\n",
       "      (0): MT5Block(\n",
       "        (layer): ModuleList(\n",
       "          (0): MT5LayerSelfAttention(\n",
       "            (SelfAttention): MT5Attention(\n",
       "              (q): Linear(in_features=512, out_features=384, bias=False)\n",
       "              (k): Linear(in_features=512, out_features=384, bias=False)\n",
       "              (v): Linear(in_features=512, out_features=384, bias=False)\n",
       "              (o): Linear(in_features=384, out_features=512, bias=False)\n",
       "              (relative_attention_bias): Embedding(32, 6)\n",
       "            )\n",
       "            (layer_norm): MT5LayerNorm()\n",
       "            (dropout): Dropout(p=0.1, inplace=False)\n",
       "          )\n",
       "          (1): MT5LayerCrossAttention(\n",
       "            (EncDecAttention): MT5Attention(\n",
       "              (q): Linear(in_features=512, out_features=384, bias=False)\n",
       "              (k): Linear(in_features=512, out_features=384, bias=False)\n",
       "              (v): Linear(in_features=512, out_features=384, bias=False)\n",
       "              (o): Linear(in_features=384, out_features=512, bias=False)\n",
       "            )\n",
       "            (layer_norm): MT5LayerNorm()\n",
       "            (dropout): Dropout(p=0.1, inplace=False)\n",
       "          )\n",
       "          (2): MT5LayerFF(\n",
       "            (DenseReluDense): MT5DenseGatedActDense(\n",
       "              (wi_0): Linear(in_features=512, out_features=1024, bias=False)\n",
       "              (wi_1): Linear(in_features=512, out_features=1024, bias=False)\n",
       "              (wo): Linear(in_features=1024, out_features=512, bias=False)\n",
       "              (dropout): Dropout(p=0.1, inplace=False)\n",
       "              (act): NewGELUActivation()\n",
       "            )\n",
       "            (layer_norm): MT5LayerNorm()\n",
       "            (dropout): Dropout(p=0.1, inplace=False)\n",
       "          )\n",
       "        )\n",
       "      )\n",
       "      (1-7): 7 x MT5Block(\n",
       "        (layer): ModuleList(\n",
       "          (0): MT5LayerSelfAttention(\n",
       "            (SelfAttention): MT5Attention(\n",
       "              (q): Linear(in_features=512, out_features=384, bias=False)\n",
       "              (k): Linear(in_features=512, out_features=384, bias=False)\n",
       "              (v): Linear(in_features=512, out_features=384, bias=False)\n",
       "              (o): Linear(in_features=384, out_features=512, bias=False)\n",
       "            )\n",
       "            (layer_norm): MT5LayerNorm()\n",
       "            (dropout): Dropout(p=0.1, inplace=False)\n",
       "          )\n",
       "          (1): MT5LayerCrossAttention(\n",
       "            (EncDecAttention): MT5Attention(\n",
       "              (q): Linear(in_features=512, out_features=384, bias=False)\n",
       "              (k): Linear(in_features=512, out_features=384, bias=False)\n",
       "              (v): Linear(in_features=512, out_features=384, bias=False)\n",
       "              (o): Linear(in_features=384, out_features=512, bias=False)\n",
       "            )\n",
       "            (layer_norm): MT5LayerNorm()\n",
       "            (dropout): Dropout(p=0.1, inplace=False)\n",
       "          )\n",
       "          (2): MT5LayerFF(\n",
       "            (DenseReluDense): MT5DenseGatedActDense(\n",
       "              (wi_0): Linear(in_features=512, out_features=1024, bias=False)\n",
       "              (wi_1): Linear(in_features=512, out_features=1024, bias=False)\n",
       "              (wo): Linear(in_features=1024, out_features=512, bias=False)\n",
       "              (dropout): Dropout(p=0.1, inplace=False)\n",
       "              (act): NewGELUActivation()\n",
       "            )\n",
       "            (layer_norm): MT5LayerNorm()\n",
       "            (dropout): Dropout(p=0.1, inplace=False)\n",
       "          )\n",
       "        )\n",
       "      )\n",
       "    )\n",
       "    (final_layer_norm): MT5LayerNorm()\n",
       "    (dropout): Dropout(p=0.1, inplace=False)\n",
       "  )\n",
       "  (lm_head): Linear(in_features=512, out_features=250112, bias=False)\n",
       ")"
      ]
     },
     "execution_count": 15,
     "metadata": {},
     "output_type": "execute_result"
    }
   ],
   "source": [
    "# Later, to load the model back\n",
    "loaded_model = joblib.load('/kaggle/input/model1/model (1).pkl')\n",
    "loaded_model"
   ]
  },
  {
   "cell_type": "code",
   "execution_count": 16,
   "id": "dd9aff8d",
   "metadata": {
    "execution": {
     "iopub.execute_input": "2023-10-19T08:49:47.661107Z",
     "iopub.status.busy": "2023-10-19T08:49:47.660836Z",
     "iopub.status.idle": "2023-10-19T08:49:47.664267Z",
     "shell.execute_reply": "2023-10-19T08:49:47.663523Z"
    },
    "papermill": {
     "duration": 0.01834,
     "end_time": "2023-10-19T08:49:47.665915",
     "exception": false,
     "start_time": "2023-10-19T08:49:47.647575",
     "status": "completed"
    },
    "tags": []
   },
   "outputs": [],
   "source": [
    "# # Remove English alphanumeric values\n",
    "# alpha_pat = \"[a-zA-z0-9০-৯()]\"\n",
    "# test_df[\"text\"] = test_df[\"text\"].str.replace(alpha_pat, \"\", regex=True)"
   ]
  },
  {
   "cell_type": "code",
   "execution_count": 17,
   "id": "614a8cfa",
   "metadata": {
    "execution": {
     "iopub.execute_input": "2023-10-19T08:49:47.691560Z",
     "iopub.status.busy": "2023-10-19T08:49:47.691343Z",
     "iopub.status.idle": "2023-10-19T08:49:49.478219Z",
     "shell.execute_reply": "2023-10-19T08:49:49.477507Z"
    },
    "papermill": {
     "duration": 1.801885,
     "end_time": "2023-10-19T08:49:49.480124",
     "exception": false,
     "start_time": "2023-10-19T08:49:47.678239",
     "status": "completed"
    },
    "tags": []
   },
   "outputs": [],
   "source": [
    "from transformers import pipeline\n",
    "\n",
    "pipe = pipeline(\"text2text-generation\", model=loaded_model,tokenizer=tokenizer, device=0)"
   ]
  },
  {
   "cell_type": "code",
   "execution_count": 18,
   "id": "3a298ddc",
   "metadata": {
    "execution": {
     "iopub.execute_input": "2023-10-19T08:49:49.506948Z",
     "iopub.status.busy": "2023-10-19T08:49:49.506600Z",
     "iopub.status.idle": "2023-10-19T08:49:53.764371Z",
     "shell.execute_reply": "2023-10-19T08:49:53.763292Z"
    },
    "papermill": {
     "duration": 4.273022,
     "end_time": "2023-10-19T08:49:53.766164",
     "exception": false,
     "start_time": "2023-10-19T08:49:49.493142",
     "status": "completed"
    },
    "tags": []
   },
   "outputs": [
    {
     "name": "stdout",
     "output_type": "stream",
     "text": [
      "[{'generated_text': 'ʃund̪oɾ ʃund̪ɔɾmonɐ ɐmɪ t̪omɐke bɦɐlobɐʃɪ।'}]\n"
     ]
    }
   ],
   "source": [
    "for i in range(3):\n",
    "    texts = \"সুন্দর সুন্দরমনা আমি তোমাকে ভালবাসি।\"\n",
    "    # texts = \"বিশেষ অতিথি এফএম ইকবাল বিন আনোয়ার (ডন) অ্যাডিশনাল ডাইরেক্টরগেমস অ্যান্ড স্পোর্টস ডিপার্টমেন্ট ওয়ালটন।\"\n",
    "    # texts = 'আমি তোমাকে মন।'\n",
    "    ipas = pipe(texts, max_length=128, batch_size=16)\n",
    "print(ipas)"
   ]
  },
  {
   "cell_type": "code",
   "execution_count": 19,
   "id": "57f819d9",
   "metadata": {
    "execution": {
     "iopub.execute_input": "2023-10-19T08:49:53.794086Z",
     "iopub.status.busy": "2023-10-19T08:49:53.793800Z",
     "iopub.status.idle": "2023-10-19T08:49:53.798544Z",
     "shell.execute_reply": "2023-10-19T08:49:53.797798Z"
    },
    "papermill": {
     "duration": 0.019816,
     "end_time": "2023-10-19T08:49:53.800212",
     "exception": false,
     "start_time": "2023-10-19T08:49:53.780396",
     "status": "completed"
    },
    "tags": []
   },
   "outputs": [],
   "source": [
    "def calculate_ipa(txt):\n",
    "    '''\n",
    "    Converts a sentence to IPA using t5 model.\n",
    "    '''\n",
    "    ipas = pipe(txt, max_length=128, batch_size=16)\n",
    "    return ipas[0]['generated_text']\n",
    "\n",
    "def word_to_ipa(word):\n",
    "    '''\n",
    "    Converts a Word to IPA using t5 model.\n",
    "    '''\n",
    "    word += '।'\n",
    "    ipas = pipe(word, max_length=128, batch_size=16)\n",
    "    output_string = ' '.join(ipas[0]['generated_text'].split())\n",
    "    return output_string[:-1]"
   ]
  },
  {
   "cell_type": "code",
   "execution_count": 20,
   "id": "434e14e3",
   "metadata": {
    "execution": {
     "iopub.execute_input": "2023-10-19T08:49:53.826117Z",
     "iopub.status.busy": "2023-10-19T08:49:53.825852Z",
     "iopub.status.idle": "2023-10-19T08:49:54.342228Z",
     "shell.execute_reply": "2023-10-19T08:49:54.341400Z"
    },
    "papermill": {
     "duration": 0.531253,
     "end_time": "2023-10-19T08:49:54.343985",
     "exception": false,
     "start_time": "2023-10-19T08:49:53.812732",
     "status": "completed"
    },
    "tags": []
   },
   "outputs": [
    {
     "data": {
      "text/plain": [
       "('t̪ɐɾɐ-', 't̪omɐke,')"
      ]
     },
     "execution_count": 20,
     "metadata": {},
     "output_type": "execute_result"
    }
   ],
   "source": [
    "# Check the function\n",
    "word_to_ipa('তারা-'), word_to_ipa('তোমাকে,')\n",
    "word_to_ipa('তারা-'), word_to_ipa('তোমাকে,')"
   ]
  },
  {
   "cell_type": "code",
   "execution_count": 21,
   "id": "77ca1600",
   "metadata": {
    "execution": {
     "iopub.execute_input": "2023-10-19T08:49:54.371221Z",
     "iopub.status.busy": "2023-10-19T08:49:54.370928Z",
     "iopub.status.idle": "2023-10-19T08:49:54.460431Z",
     "shell.execute_reply": "2023-10-19T08:49:54.459728Z"
    },
    "papermill": {
     "duration": 0.104896,
     "end_time": "2023-10-19T08:49:54.462136",
     "exception": false,
     "start_time": "2023-10-19T08:49:54.357240",
     "status": "completed"
    },
    "tags": []
   },
   "outputs": [
    {
     "data": {
      "text/plain": [
       "'শ্রেণির'"
      ]
     },
     "execution_count": 21,
     "metadata": {},
     "output_type": "execute_result"
    }
   ],
   "source": [
    "word_to_ipa('শ্রেণীর')"
   ]
  },
  {
   "cell_type": "code",
   "execution_count": 22,
   "id": "f7042d13",
   "metadata": {
    "execution": {
     "iopub.execute_input": "2023-10-19T08:49:54.488733Z",
     "iopub.status.busy": "2023-10-19T08:49:54.488479Z",
     "iopub.status.idle": "2023-10-19T08:49:54.492682Z",
     "shell.execute_reply": "2023-10-19T08:49:54.491994Z"
    },
    "papermill": {
     "duration": 0.01937,
     "end_time": "2023-10-19T08:49:54.494334",
     "exception": false,
     "start_time": "2023-10-19T08:49:54.474964",
     "status": "completed"
    },
    "tags": []
   },
   "outputs": [],
   "source": [
    "def contains_bengali_digit(text):\n",
    "    '''\n",
    "    Is there a bengali digit in text\n",
    "    '''\n",
    "    return bool(re.search(r'[০-৯]', text))"
   ]
  },
  {
   "cell_type": "code",
   "execution_count": 23,
   "id": "f1a41ece",
   "metadata": {
    "execution": {
     "iopub.execute_input": "2023-10-19T08:49:54.520646Z",
     "iopub.status.busy": "2023-10-19T08:49:54.520403Z",
     "iopub.status.idle": "2023-10-19T08:49:54.526075Z",
     "shell.execute_reply": "2023-10-19T08:49:54.525254Z"
    },
    "papermill": {
     "duration": 0.020959,
     "end_time": "2023-10-19T08:49:54.527820",
     "exception": false,
     "start_time": "2023-10-19T08:49:54.506861",
     "status": "completed"
    },
    "tags": []
   },
   "outputs": [],
   "source": [
    "def ipa_converter(text):\n",
    "    '''\n",
    "    Converts a sentence to IPA\n",
    "    '''\n",
    "    ipa = ''\n",
    "    #for value in re.split(r'\\s+|(?=।)', text):\n",
    "    words = re.split(r'\\s+|(?<=[()।])|(?=[()।])', text)\n",
    "    \n",
    "    # Filter out empty strings and extra spaces from the result\n",
    "    words = [word.strip() for word in words if word.strip()]\n",
    "    for value in words:\n",
    "        if value in lib:\n",
    "            ipa += lib[value]\n",
    "            ipa += ' '\n",
    "        else:\n",
    "            # ipa += 'UNKey '\n",
    "            ipa += word_to_ipa(value)\n",
    "            ipa += ' '\n",
    "            \n",
    "    pattern = r'\\s+(?=।)|(?<=।)\\s+'\n",
    "    cln_ipa = re.sub(pattern, '', ipa)\n",
    "    \n",
    "    # Replace ' (' with '('\n",
    "    cln_ipa = re.sub(r'\\(\\s+', '(', cln_ipa)\n",
    "\n",
    "    # Replace ') ' with ')'\n",
    "    cln_ipa = re.sub(r'\\s+\\)', ')', cln_ipa)\n",
    "    return cln_ipa"
   ]
  },
  {
   "cell_type": "code",
   "execution_count": 24,
   "id": "385176b8",
   "metadata": {
    "execution": {
     "iopub.execute_input": "2023-10-19T08:49:54.554161Z",
     "iopub.status.busy": "2023-10-19T08:49:54.553919Z",
     "iopub.status.idle": "2023-10-19T08:49:55.023634Z",
     "shell.execute_reply": "2023-10-19T08:49:55.022791Z"
    },
    "papermill": {
     "duration": 0.484902,
     "end_time": "2023-10-19T08:49:55.025323",
     "exception": false,
     "start_time": "2023-10-19T08:49:54.540421",
     "status": "completed"
    },
    "tags": []
   },
   "outputs": [
    {
     "name": "stderr",
     "output_type": "stream",
     "text": [
      "/opt/conda/lib/python3.10/site-packages/transformers/pipelines/base.py:1101: UserWarning: You seem to be using the pipelines sequentially on GPU. In order to maximize efficiency please use a dataset\n",
      "  warnings.warn(\n"
     ]
    },
    {
     "data": {
      "text/plain": [
       "'t̪ɐɾ ʃɐɾɐ শ্রেণির ɔcɪnt̪o ʃoɾɪɾe bɦõt̪ɐ ɔst̪ɾeɾ ɐtt̪ɾɪʃtɪ ɐgʱɐt̪ ɾoʲecʰe।'"
      ]
     },
     "execution_count": 24,
     "metadata": {},
     "output_type": "execute_result"
    }
   ],
   "source": [
    "txt = 'তার সারা শ্রেণীর অচিন্ত শরীরে ভোঁতা অস্ত্রের আটত্রিশটি আঘাত রয়েছে।'\n",
    "ipa_converter(txt)"
   ]
  },
  {
   "cell_type": "code",
   "execution_count": 25,
   "id": "2664d254",
   "metadata": {
    "execution": {
     "iopub.execute_input": "2023-10-19T08:49:55.052792Z",
     "iopub.status.busy": "2023-10-19T08:49:55.052520Z",
     "iopub.status.idle": "2023-10-19T08:49:55.057706Z",
     "shell.execute_reply": "2023-10-19T08:49:55.056884Z"
    },
    "papermill": {
     "duration": 0.020667,
     "end_time": "2023-10-19T08:49:55.059344",
     "exception": false,
     "start_time": "2023-10-19T08:49:55.038677",
     "status": "completed"
    },
    "tags": []
   },
   "outputs": [
    {
     "data": {
      "text/plain": [
       "'bɐŋlɐd̪eʃ'"
      ]
     },
     "execution_count": 25,
     "metadata": {},
     "output_type": "execute_result"
    }
   ],
   "source": [
    "lib['বাংলাদেশ']"
   ]
  },
  {
   "cell_type": "code",
   "execution_count": 26,
   "id": "8c3fa6b1",
   "metadata": {
    "execution": {
     "iopub.execute_input": "2023-10-19T08:49:55.085854Z",
     "iopub.status.busy": "2023-10-19T08:49:55.085596Z",
     "iopub.status.idle": "2023-10-19T08:49:55.520554Z",
     "shell.execute_reply": "2023-10-19T08:49:55.519594Z"
    },
    "papermill": {
     "duration": 0.450114,
     "end_time": "2023-10-19T08:49:55.522326",
     "exception": false,
     "start_time": "2023-10-19T08:49:55.072212",
     "status": "completed"
    },
    "tags": []
   },
   "outputs": [
    {
     "name": "stdout",
     "output_type": "stream",
     "text": [
      "127\n",
      "Pred = ɟɪnɪ ʃɐle bɦɪʃɪɐ̯ɾ ɟɐt̪ɾɐ ʃuɾu koɾleo̯, pɔɾoboɾt̪ɪ ʃɔmɔʲe dɪbɦɪdɪ pɾoɟukt̪ɪ bɐɟɐɾe eɾ ɟɐʲgɐ d̪ɔkʰl koɾe nɛe̯।\n",
      "True = ১৯৭০ সালে ভিসিআর যাত্রা শুরু করলেও, পরবর্তী সময়ে ডিভিডি প্রযুক্তি বাজারে এর জায়গা দখল করে নেয়।\n"
     ]
    }
   ],
   "source": [
    "rand_index = np.random.randint(0, 1000)\n",
    "print(rand_index)\n",
    "print(f'Pred = {ipa_converter(test_df.text[rand_index])}\\nTrue = {test_df.text[rand_index]}')"
   ]
  },
  {
   "cell_type": "code",
   "execution_count": null,
   "id": "5b0daf4c",
   "metadata": {
    "papermill": {
     "duration": 0.012652,
     "end_time": "2023-10-19T08:49:55.548498",
     "exception": false,
     "start_time": "2023-10-19T08:49:55.535846",
     "status": "completed"
    },
    "tags": []
   },
   "outputs": [],
   "source": []
  },
  {
   "cell_type": "markdown",
   "id": "f0658064",
   "metadata": {
    "papermill": {
     "duration": 0.012697,
     "end_time": "2023-10-19T08:49:55.574154",
     "exception": false,
     "start_time": "2023-10-19T08:49:55.561457",
     "status": "completed"
    },
    "tags": []
   },
   "source": [
    "## WORD ERROR RATE "
   ]
  },
  {
   "cell_type": "code",
   "execution_count": 27,
   "id": "48f07d75",
   "metadata": {
    "execution": {
     "iopub.execute_input": "2023-10-19T08:49:55.601457Z",
     "iopub.status.busy": "2023-10-19T08:49:55.600635Z",
     "iopub.status.idle": "2023-10-19T08:49:55.916435Z",
     "shell.execute_reply": "2023-10-19T08:49:55.915524Z"
    },
    "papermill": {
     "duration": 0.331396,
     "end_time": "2023-10-19T08:49:55.918187",
     "exception": false,
     "start_time": "2023-10-19T08:49:55.586791",
     "status": "completed"
    },
    "tags": []
   },
   "outputs": [
    {
     "data": {
      "text/plain": [
       "'t̪ɪn nɔbʱembɔɾ nɔɾend̪ɾo mod̪ɪ stedɪjɐm, bɐŋlɐd̪eʃ bɪʃʃokɐp ʃɪɾopɐ t̪olo।'"
      ]
     },
     "execution_count": 27,
     "metadata": {},
     "output_type": "execute_result"
    }
   ],
   "source": [
    "txt = '১৯ নভেম্বর নরেন্দ্র মোদি স্টেডিয়াম, বাংলাদেশ বিশ্বকাপ শিরোপা তুললো।'\n",
    "actual = 'unɪʃ novembɔɾ nɔɾendɾɐ modɪ stedɪum, bɐŋlɐd̪eʃ bɪʃʃokɐp ʃɪɾopɐ t̪ullo।'\n",
    "ipa_converter(txt)"
   ]
  },
  {
   "cell_type": "markdown",
   "id": "fd663242",
   "metadata": {
    "papermill": {
     "duration": 0.012819,
     "end_time": "2023-10-19T08:49:55.944422",
     "exception": false,
     "start_time": "2023-10-19T08:49:55.931603",
     "status": "completed"
    },
    "tags": []
   },
   "source": [
    "# **Need to handle Exceptional Cases**\n",
    "1. Numeric Words (ie. ০-৯)  ***(Done)***\n",
    "2. Bracket      ***(Done)***\n",
    "3. হয়’ --> hɔj ‘    \n",
    "4. Mistake in Library (ie. শ্রেণির)   ***(Done)***\n",
    "5. dict_change  =  \"bɦ\"  : \"bʱ\",   \"dɦ\":\"dʱ\"   etc\n",
    "    "
   ]
  },
  {
   "cell_type": "markdown",
   "id": "327f3fe4",
   "metadata": {
    "papermill": {
     "duration": 0.013002,
     "end_time": "2023-10-19T08:49:55.970338",
     "exception": false,
     "start_time": "2023-10-19T08:49:55.957336",
     "status": "completed"
    },
    "tags": []
   },
   "source": [
    "### BRACKETS HANDLING"
   ]
  },
  {
   "cell_type": "code",
   "execution_count": 28,
   "id": "d6284d35",
   "metadata": {
    "execution": {
     "iopub.execute_input": "2023-10-19T08:49:55.997140Z",
     "iopub.status.busy": "2023-10-19T08:49:55.996899Z",
     "iopub.status.idle": "2023-10-19T08:49:56.000577Z",
     "shell.execute_reply": "2023-10-19T08:49:55.999796Z"
    },
    "papermill": {
     "duration": 0.019022,
     "end_time": "2023-10-19T08:49:56.002163",
     "exception": false,
     "start_time": "2023-10-19T08:49:55.983141",
     "status": "completed"
    },
    "tags": []
   },
   "outputs": [],
   "source": [
    "# Add brackets is the library\n",
    "lib['('] = '('\n",
    "lib[')'] = ')'"
   ]
  },
  {
   "cell_type": "code",
   "execution_count": 29,
   "id": "d116e811",
   "metadata": {
    "execution": {
     "iopub.execute_input": "2023-10-19T08:49:56.029171Z",
     "iopub.status.busy": "2023-10-19T08:49:56.028927Z",
     "iopub.status.idle": "2023-10-19T08:49:56.033442Z",
     "shell.execute_reply": "2023-10-19T08:49:56.032685Z"
    },
    "papermill": {
     "duration": 0.019711,
     "end_time": "2023-10-19T08:49:56.035123",
     "exception": false,
     "start_time": "2023-10-19T08:49:56.015412",
     "status": "completed"
    },
    "tags": []
   },
   "outputs": [
    {
     "name": "stdout",
     "output_type": "stream",
     "text": [
      "Text = এছাড়া মহাপরিচালকের সংখ্যা ৬ থেকে বাড়িয়ে ৮ জন করার প্রস্তাব করা হয়েছে।\n"
     ]
    }
   ],
   "source": [
    "# See a random sample from the test set \n",
    "rand_index = np.random.randint(0, len(test_df))\n",
    "print(f'Text = {test_df.text[rand_index]}')"
   ]
  },
  {
   "cell_type": "code",
   "execution_count": 30,
   "id": "adf768cb",
   "metadata": {
    "execution": {
     "iopub.execute_input": "2023-10-19T08:49:56.061717Z",
     "iopub.status.busy": "2023-10-19T08:49:56.061509Z",
     "iopub.status.idle": "2023-10-19T08:49:56.066441Z",
     "shell.execute_reply": "2023-10-19T08:49:56.065566Z"
    },
    "papermill": {
     "duration": 0.02018,
     "end_time": "2023-10-19T08:49:56.068027",
     "exception": false,
     "start_time": "2023-10-19T08:49:56.047847",
     "status": "completed"
    },
    "tags": []
   },
   "outputs": [
    {
     "name": "stdout",
     "output_type": "stream",
     "text": [
      "['মেয়েদের', 'আনইভেন', 'বার', '(', 'রাত', '১টা', '২১', ')', 'ভারোত্তোলনমেয়েদের', '৭৫', 'কেজি', 'ফাইনাল', '(', 'রাত', '১২টা', '৩০', 'ও', '৪টা', ')', 'ডাইভিংমেয়েদের', '৩', 'মিটার', 'স্প্রিং', 'বোর্ড', '(', 'রাত', '১টা', ')', '।']\n"
     ]
    }
   ],
   "source": [
    "import re\n",
    "\n",
    "# Input sentence\n",
    "text = \"মেয়েদের আনইভেন বার (রাত ১টা ২১)ভারোত্তোলনমেয়েদের ৭৫ কেজি ফাইনাল (রাত ১২টা ৩০ ও ৪টা)ডাইভিংমেয়েদের ৩ মিটার স্প্রিং বোর্ড (রাত ১টা)।\"\n",
    "\n",
    "# Split the sentence using a regular expression to keep spaces, periods, and parentheses\n",
    "words = re.split(r'\\s+|(?<=[()।])|(?=[()।])', text)\n",
    "\n",
    "# Filter out empty strings and extra spaces from the result\n",
    "words = [word.strip() for word in words if word.strip()]\n",
    "\n",
    "# Print the words\n",
    "print(words)"
   ]
  },
  {
   "cell_type": "code",
   "execution_count": 31,
   "id": "c9d850bb",
   "metadata": {
    "execution": {
     "iopub.execute_input": "2023-10-19T08:49:56.095159Z",
     "iopub.status.busy": "2023-10-19T08:49:56.094948Z",
     "iopub.status.idle": "2023-10-19T08:49:57.548631Z",
     "shell.execute_reply": "2023-10-19T08:49:57.547737Z"
    },
    "papermill": {
     "duration": 1.469197,
     "end_time": "2023-10-19T08:49:57.550323",
     "exception": false,
     "start_time": "2023-10-19T08:49:56.081126",
     "status": "completed"
    },
    "tags": []
   },
   "outputs": [
    {
     "data": {
      "text/plain": [
       "'mejed̪eɾ ɐnɪbɦen bɐɾ (ɾɐt̪ dɛtɐ bɪʃʃo) bɦɐɾot̪t̪olonomejed̪eɾ ʃɐbbo keɟɪ pʰɐɪ̯nɐl (ɾɐt̪ bɪstɐ pɾo o tɪntɐ) dɐɪ̯bɦɪŋkombed̪eɾ t̪uɪ̯ mɪtɐɾ spoɾɪŋ boɾd (ɾɐt̪ d̪ɛtɐ)।'"
      ]
     },
     "execution_count": 31,
     "metadata": {},
     "output_type": "execute_result"
    }
   ],
   "source": [
    "ipa_converter(text)"
   ]
  },
  {
   "cell_type": "markdown",
   "id": "b990542e",
   "metadata": {
    "papermill": {
     "duration": 0.013174,
     "end_time": "2023-10-19T08:49:57.577055",
     "exception": false,
     "start_time": "2023-10-19T08:49:57.563881",
     "status": "completed"
    },
    "tags": []
   },
   "source": [
    "### Search for exceptions "
   ]
  },
  {
   "cell_type": "code",
   "execution_count": 32,
   "id": "d3c5edfb",
   "metadata": {
    "execution": {
     "iopub.execute_input": "2023-10-19T08:49:57.604396Z",
     "iopub.status.busy": "2023-10-19T08:49:57.604120Z",
     "iopub.status.idle": "2023-10-19T08:49:57.625675Z",
     "shell.execute_reply": "2023-10-19T08:49:57.624988Z"
    },
    "papermill": {
     "duration": 0.037176,
     "end_time": "2023-10-19T08:49:57.627362",
     "exception": false,
     "start_time": "2023-10-19T08:49:57.590186",
     "status": "completed"
    },
    "tags": []
   },
   "outputs": [
    {
     "name": "stdout",
     "output_type": "stream",
     "text": [
      "Length of the Df = (5279, 2)\n"
     ]
    }
   ],
   "source": [
    "filt_cond = [\"১-৯\", 'A-Za-z0-9']\n",
    "# Filtering text samples that contain English alphanumeric values\n",
    "filt = test_df[lambda x: x[\"text\"].str.contains(\"[,]\")]\n",
    "filt = filt.reset_index(drop=True)\n",
    "print(f'Length of the Df = {filt.shape}')"
   ]
  },
  {
   "cell_type": "code",
   "execution_count": 33,
   "id": "7c977686",
   "metadata": {
    "execution": {
     "iopub.execute_input": "2023-10-19T08:49:57.655137Z",
     "iopub.status.busy": "2023-10-19T08:49:57.654887Z",
     "iopub.status.idle": "2023-10-19T08:49:57.660231Z",
     "shell.execute_reply": "2023-10-19T08:49:57.659397Z"
    },
    "papermill": {
     "duration": 0.020765,
     "end_time": "2023-10-19T08:49:57.661838",
     "exception": false,
     "start_time": "2023-10-19T08:49:57.641073",
     "status": "completed"
    },
    "tags": []
   },
   "outputs": [
    {
     "data": {
      "text/plain": [
       "'খবর ডন অনলাইন, দ্য এক্সপ্রেস ট্রিবিউন, বিবিসির।'"
      ]
     },
     "execution_count": 33,
     "metadata": {},
     "output_type": "execute_result"
    }
   ],
   "source": [
    "ind = np.random.randint(0, len(filt))\n",
    "filt.text[ind]"
   ]
  },
  {
   "cell_type": "code",
   "execution_count": 34,
   "id": "49e6c585",
   "metadata": {
    "execution": {
     "iopub.execute_input": "2023-10-19T08:49:57.689118Z",
     "iopub.status.busy": "2023-10-19T08:49:57.688870Z",
     "iopub.status.idle": "2023-10-19T08:49:58.087648Z",
     "shell.execute_reply": "2023-10-19T08:49:58.086797Z"
    },
    "papermill": {
     "duration": 0.414212,
     "end_time": "2023-10-19T08:49:58.089299",
     "exception": false,
     "start_time": "2023-10-19T08:49:57.675087",
     "status": "completed"
    },
    "tags": []
   },
   "outputs": [
    {
     "data": {
      "text/plain": [
       "'kʰɔboɾ dɔn ɔnlɐɪ̯n, ɔnlɐɪ̯n, d̪ɛ ekspɾes tɾɪbɪn, bɪbɪsɪɾ।'"
      ]
     },
     "execution_count": 34,
     "metadata": {},
     "output_type": "execute_result"
    }
   ],
   "source": [
    "ipa_converter(filt.text[ind])"
   ]
  },
  {
   "cell_type": "markdown",
   "id": "f748b2a3",
   "metadata": {
    "papermill": {
     "duration": 0.013636,
     "end_time": "2023-10-19T08:49:58.116864",
     "exception": false,
     "start_time": "2023-10-19T08:49:58.103228",
     "status": "completed"
    },
    "tags": []
   },
   "source": [
    "## Handle the Number Case"
   ]
  },
  {
   "cell_type": "code",
   "execution_count": 35,
   "id": "676d5030",
   "metadata": {
    "_kg_hide-input": true,
    "execution": {
     "iopub.execute_input": "2023-10-19T08:49:58.149058Z",
     "iopub.status.busy": "2023-10-19T08:49:58.148718Z",
     "iopub.status.idle": "2023-10-19T08:49:58.167663Z",
     "shell.execute_reply": "2023-10-19T08:49:58.167004Z"
    },
    "papermill": {
     "duration": 0.039199,
     "end_time": "2023-10-19T08:49:58.169314",
     "exception": false,
     "start_time": "2023-10-19T08:49:58.130115",
     "status": "completed"
    },
    "tags": []
   },
   "outputs": [],
   "source": [
    "import math\n",
    "numeric_words = {\n",
    "    '.': 'দশমিক',\n",
    "    '0': '',\n",
    "    '1': 'এক',\n",
    "    '01': 'এক',\n",
    "    '2': 'দুই',\n",
    "    '02': 'দুই',\n",
    "    '3': 'তিন',\n",
    "    '03': 'তিন',\n",
    "    '4': 'চার',\n",
    "    '04': 'চার',\n",
    "    '5': 'পাঁচ',\n",
    "    '05': 'পাঁচ',\n",
    "    '6': 'ছয়',\n",
    "    '06': 'ছয়',\n",
    "    '7': 'সাত',\n",
    "    '07': 'সাত',\n",
    "    '8': 'আট',\n",
    "    '08': 'আট',\n",
    "    '9': 'নয়',\n",
    "    '09': 'নয়',\n",
    "    '10': 'দশ',\n",
    "    '11': 'এগারো',\n",
    "    '12': 'বার',\n",
    "    '13': 'তের',\n",
    "    '14': 'চৌদ্দ',\n",
    "    '15': 'পনের',\n",
    "    '16': 'ষোল',\n",
    "    '17': 'সতের',\n",
    "    '18': 'আঠার',\n",
    "    '19': 'উনিশ',\n",
    "    '20': 'বিশ',\n",
    "    '21': 'একুশ',\n",
    "    '22': 'বাইশ',\n",
    "    '23': 'তেইশ',\n",
    "    '24': 'চব্বিশ',\n",
    "    '25': 'পঁচিশ',\n",
    "    '26': 'ছাব্বিশ',\n",
    "    '27': 'সাতাশ',\n",
    "    '28': 'আঠাশ',\n",
    "    '29': 'ঊনত্রিশ',\n",
    "    '30': 'ত্রিশ',\n",
    "    '31': 'একত্রিশ',\n",
    "    '32': 'বত্রিশ',\n",
    "    '33': 'তেত্রিশ',\n",
    "    '34': 'চৌত্রিশ',\n",
    "    '35': 'পঁয়ত্রিশ',\n",
    "    '36': 'ছত্রিশ',\n",
    "    '37': 'সাঁইত্রিশ',\n",
    "    '38': 'আটত্রিশ',\n",
    "    '39': 'ঊনচল্লিশ',\n",
    "    '40': 'চল্লিশ',\n",
    "    '41': 'একচল্লিশ',\n",
    "    '42': 'বিয়াল্লিশ',\n",
    "    '43': 'তেতাল্লিশ',\n",
    "    '44': 'চুয়াল্লিশ',\n",
    "    '45': 'পঁয়তাল্লিশ',\n",
    "    '46': 'ছেচল্লিশ',\n",
    "    '47': 'সাতচল্লিশ',\n",
    "    '48': 'আটচল্লিশ',\n",
    "    '49': 'ঊনপঞ্চাশ',\n",
    "    '50': 'পঞ্চাশ',\n",
    "    '51': 'একান্ন',\n",
    "    '52': 'বায়ান্ন',\n",
    "    '53': 'তিপ্পান্ন',\n",
    "    '54': 'চুয়ান্ন',\n",
    "    '55': 'পঞ্চান্ন',\n",
    "    '56': 'ছাপ্পান্ন',\n",
    "    '57': 'সাতান্ন',\n",
    "    '58': 'আটান্ন',\n",
    "    '59': 'ঊনষাট',\n",
    "    '60': 'ষাট',\n",
    "    '61': 'একষট্টি',\n",
    "    '62': 'বাষট্টি',\n",
    "    '63': 'তেষট্টি',\n",
    "    '64': 'চৌষট্টি',\n",
    "    '65': 'পঁয়ষট্টি',\n",
    "    '66': 'ছেষট্টি',\n",
    "    '67': 'সাতষট্টি',\n",
    "    '68': 'আটষট্টি',\n",
    "    '69': 'ঊনসত্তর',\n",
    "    '70': 'সত্তর',\n",
    "    '71': 'একাত্তর',\n",
    "    '72': 'বাহাত্তর',\n",
    "    '73': 'তিয়াত্তর',\n",
    "    '74': 'চুয়াত্তর',\n",
    "    '75': 'পঁচাত্তর',\n",
    "    '76': 'ছিয়াত্তর',\n",
    "    '77': 'সাতাত্তর',\n",
    "    '78': 'আটাত্তর',\n",
    "    '79': 'ঊনআশি',\n",
    "    '80': 'আশি',\n",
    "    '81': 'একাশি',\n",
    "    '82': 'বিরাশি',\n",
    "    '83': 'তিরাশি',\n",
    "    '84': 'চুরাশি',\n",
    "    '85': 'পঁচাশি',\n",
    "    '86': 'ছিয়াশি',\n",
    "    '87': 'সাতাশি',\n",
    "    '88': 'আটাশি',\n",
    "    '89': 'ঊননব্বই',\n",
    "    '90': 'নব্বই',\n",
    "    '91': 'একানব্বই',\n",
    "    '92': 'বিরানব্বই',\n",
    "    '93': 'তিরানব্বই',\n",
    "    '94': 'চুরানব্বই',\n",
    "    '95': 'পঁচানব্বই',\n",
    "    '96': 'ছিয়ানব্বই',\n",
    "    '97': 'সাতানব্বই',\n",
    "    '98': 'আটানব্বই',\n",
    "    '99': 'নিরানব্বই',\n",
    "    '100': 'একশো',\n",
    "}\n",
    "\n",
    "units = {\n",
    "    'koti': 'কোটি',\n",
    "    'lokkho': 'লক্ষ',\n",
    "    'hazar': 'হাজার',\n",
    "    'sotok': 'শো',\n",
    "    'ekok': '',\n",
    "}\n",
    "\n",
    "\n",
    "def input_sanitizer(number):\n",
    "    if isinstance(number, float) or isinstance(number, int) or \\\n",
    "            isinstance(number, str):\n",
    "        if isinstance(number, str):\n",
    "            try:\n",
    "                if \".\" in number:\n",
    "                    number = float(number)\n",
    "                else:\n",
    "                    number = int(number)\n",
    "            except ValueError:\n",
    "                return None\n",
    "        return number\n",
    "    else:\n",
    "        return None\n",
    "\n",
    "\n",
    "def generate_segments(number):\n",
    "    \"\"\"\n",
    "    Generating the unit segments such as koti, lokkho\n",
    "    \"\"\"\n",
    "    segments = dict()\n",
    "    segments['koti'] = math.floor(number/10000000)\n",
    "    number = number % 10000000\n",
    "    segments['lokkho'] = math.floor(number/100000)\n",
    "    number = number % 100000\n",
    "    segments['hazar'] = math.floor(number/1000)\n",
    "    number = number % 1000\n",
    "    segments['sotok'] = math.floor(number/100)\n",
    "    number = number % 100\n",
    "    segments['ekok'] = number\n",
    "\n",
    "    return segments\n",
    "\n",
    "\n",
    "def float_int_extraction(number):\n",
    "    \"\"\"\n",
    "    Extracting the float and int part from the passed number. The first return\n",
    "    is the part before the decimal point and the rest is the fraction.\n",
    "    \"\"\"\n",
    "    _number = str(number)\n",
    "    if \".\" in _number:\n",
    "        return tuple([int(x) for x in _number.split(\".\")])\n",
    "    else:\n",
    "        return number, None\n",
    "\n",
    "\n",
    "def whole_part_word_gen(segments):\n",
    "    \"\"\"\n",
    "    Generating the bengali word for the whole part of the number\n",
    "    \"\"\"\n",
    "    generated_words = ''\n",
    "    for segment in segments:\n",
    "        if segments[segment]:\n",
    "           \n",
    "            if segment==\"sotok\":\n",
    "                generated_words += numeric_words[str(segments[segment])] + \\\n",
    "                                   \"\"+ units[segment] + \" \"\n",
    "            else:\n",
    "                generated_words += numeric_words[str(segments[segment])] + \\\n",
    "                \" \" + units[segment] + \" \"\n",
    "\n",
    "    return generated_words[:-2]\n",
    "\n",
    "\n",
    "def fraction_to_words(fraction):\n",
    "    \"\"\"\n",
    "    Generating bengali words for the part after the decimal point\n",
    "    \"\"\"\n",
    "    generated_words = \"\"\n",
    "    for digit in str(fraction):\n",
    "        generated_words += numeric_words[digit] + \" \"\n",
    "    return generated_words[:-1]\n",
    "\n",
    "\n",
    "def to_bn_word(number):\n",
    "    \"\"\"\n",
    "    Takes a number and outputs the word form in Bengali for that number.\n",
    "    \"\"\"\n",
    "    if len(number)>9:\n",
    "        return 'এক'\n",
    "    generated_words = \"\"\n",
    "    number = input_sanitizer(number)\n",
    "\n",
    "    whole, fraction = float_int_extraction(number)\n",
    "\n",
    "    whole_segments = generate_segments(whole)\n",
    "\n",
    "    generated_words = whole_part_word_gen(whole_segments)\n",
    "\n",
    "    if fraction:\n",
    "        if generated_words:\n",
    "            return generated_words + \" দশমিক \" + fraction_to_words(fraction)\n",
    "        else:\n",
    "            return \"দশমিক \" + fraction_to_words(fraction)\n",
    "    else:\n",
    "        return generated_words"
   ]
  },
  {
   "cell_type": "code",
   "execution_count": 36,
   "id": "c30b1b8f",
   "metadata": {
    "execution": {
     "iopub.execute_input": "2023-10-19T08:49:58.206325Z",
     "iopub.status.busy": "2023-10-19T08:49:58.206010Z",
     "iopub.status.idle": "2023-10-19T08:49:58.212020Z",
     "shell.execute_reply": "2023-10-19T08:49:58.211066Z"
    },
    "papermill": {
     "duration": 0.025359,
     "end_time": "2023-10-19T08:49:58.213668",
     "exception": false,
     "start_time": "2023-10-19T08:49:58.188309",
     "status": "completed"
    },
    "tags": []
   },
   "outputs": [],
   "source": [
    "num_dict={}\n",
    "def num_to_text(string ):\n",
    "    temp=[]\n",
    "    pattern_to_keep = r'\\d+'\n",
    "    m=re.split(\"[অ-হ]|-| \",string)\n",
    "    for k in m :\n",
    "        if re.search('[১-৯]',k):\n",
    "            result = re.sub(f'(?:(?!{pattern_to_keep}).)*', '', k)\n",
    "            temp.append(result)\n",
    "    \n",
    "    if len(temp)<1:\n",
    "        return string\n",
    "    for i in temp:\n",
    "        if i in num_dict:\n",
    "            string=re.sub(i,num_dict[i],string)\n",
    "        else:\n",
    "            num_dict[i]=to_bn_word(i)\n",
    "            string=re.sub(i,num_dict[i],string)\n",
    "    return string"
   ]
  },
  {
   "cell_type": "code",
   "execution_count": 37,
   "id": "3296bec1",
   "metadata": {
    "execution": {
     "iopub.execute_input": "2023-10-19T08:49:58.248489Z",
     "iopub.status.busy": "2023-10-19T08:49:58.248221Z",
     "iopub.status.idle": "2023-10-19T08:49:58.275800Z",
     "shell.execute_reply": "2023-10-19T08:49:58.274893Z"
    },
    "papermill": {
     "duration": 0.043545,
     "end_time": "2023-10-19T08:49:58.277363",
     "exception": false,
     "start_time": "2023-10-19T08:49:58.233818",
     "status": "completed"
    },
    "tags": []
   },
   "outputs": [
    {
     "name": "stdout",
     "output_type": "stream",
     "text": [
      "Length of the Df = (9601, 2)\n"
     ]
    }
   ],
   "source": [
    "filt_cond = [\"১-৯\", 'A-Za-z0-9']\n",
    "# Filtering text samples that contain English alphanumeric values\n",
    "filt = test_df[lambda x: x[\"text\"].str.contains(\"[১-৯]\")]\n",
    "filt = filt.reset_index(drop=True)\n",
    "print(f'Length of the Df = {filt.shape}')"
   ]
  },
  {
   "cell_type": "code",
   "execution_count": 38,
   "id": "f5369ff1",
   "metadata": {
    "execution": {
     "iopub.execute_input": "2023-10-19T08:49:58.305147Z",
     "iopub.status.busy": "2023-10-19T08:49:58.304927Z",
     "iopub.status.idle": "2023-10-19T08:49:59.274014Z",
     "shell.execute_reply": "2023-10-19T08:49:59.273181Z"
    },
    "papermill": {
     "duration": 0.985011,
     "end_time": "2023-10-19T08:49:59.275680",
     "exception": false,
     "start_time": "2023-10-19T08:49:58.290669",
     "status": "completed"
    },
    "tags": []
   },
   "outputs": [
    {
     "name": "stdout",
     "output_type": "stream",
     "text": [
      "mɔnt̪ɾɪ bɔlen, bɔɾt̪omɐne beʃɔɾkɐɾɪ poɾɟɐʲe cɪkɪt̪ʃɐʃebɐ kɐɾɟokɾom ‘d̪o medɪkel pɾɐktɪʃ ɛnd pɾɐɪ̯vet klɪnɐɾ ɛnd lɛboɾetɪɾɪɟ (ɾegulo) ɔɾdɪnnɔnʃo-chonɪnʃo-উত্য--ɟoɾdɪnɔnʃo-thɐŋkɪnʃo-ɟɪŋʃo-ɟo onuɟɐʲɪ poɾɪcɐlɪt̪o hoccʰe।\n"
     ]
    },
    {
     "data": {
      "text/plain": [
       "'মন্ত্রী বলেন, বর্তমানে বেসরকারি পর্যায়ে চিকিৎসাসেবা কার্যক্রম ‘দ্য মেডিকেল প্র্যাকটিস অ্যান্ড প্রাইভেট ক্লিনিক অ্যান্ড ল্যাবরেটরিজ (রেগুলেশন) অর্ডিন্যান্স-১৯৮২’ অনুযায়ী পরিচালিত হচ্ছে।'"
      ]
     },
     "execution_count": 38,
     "metadata": {},
     "output_type": "execute_result"
    }
   ],
   "source": [
    "ind = np.random.randint(0, len(filt))\n",
    "print(ipa_converter(filt.text[ind]))\n",
    "filt.text[ind]"
   ]
  },
  {
   "cell_type": "code",
   "execution_count": 39,
   "id": "30d8398d",
   "metadata": {
    "execution": {
     "iopub.execute_input": "2023-10-19T08:49:59.304702Z",
     "iopub.status.busy": "2023-10-19T08:49:59.304098Z",
     "iopub.status.idle": "2023-10-19T08:49:59.309578Z",
     "shell.execute_reply": "2023-10-19T08:49:59.308891Z"
    },
    "papermill": {
     "duration": 0.021814,
     "end_time": "2023-10-19T08:49:59.311321",
     "exception": false,
     "start_time": "2023-10-19T08:49:59.289507",
     "status": "completed"
    },
    "tags": []
   },
   "outputs": [
    {
     "data": {
      "text/plain": [
       "'রয়েছে'"
      ]
     },
     "execution_count": 39,
     "metadata": {},
     "output_type": "execute_result"
    }
   ],
   "source": [
    "num_to_text('রয়েছে')"
   ]
  },
  {
   "cell_type": "markdown",
   "id": "87721b13",
   "metadata": {
    "papermill": {
     "duration": 0.013257,
     "end_time": "2023-10-19T08:49:59.338070",
     "exception": false,
     "start_time": "2023-10-19T08:49:59.324813",
     "status": "completed"
    },
    "tags": []
   },
   "source": [
    "###  VIP Cell "
   ]
  },
  {
   "cell_type": "code",
   "execution_count": 40,
   "id": "2ea3fcde",
   "metadata": {
    "execution": {
     "iopub.execute_input": "2023-10-19T08:49:59.366013Z",
     "iopub.status.busy": "2023-10-19T08:49:59.365522Z",
     "iopub.status.idle": "2023-10-19T08:49:59.806274Z",
     "shell.execute_reply": "2023-10-19T08:49:59.805412Z"
    },
    "papermill": {
     "duration": 0.456799,
     "end_time": "2023-10-19T08:49:59.808287",
     "exception": false,
     "start_time": "2023-10-19T08:49:59.351488",
     "status": "completed"
    },
    "tags": []
   },
   "outputs": [],
   "source": [
    "filt['ctext'] = filt['text'].apply(num_to_text)"
   ]
  },
  {
   "cell_type": "markdown",
   "id": "7f62740e",
   "metadata": {
    "papermill": {
     "duration": 0.013422,
     "end_time": "2023-10-19T08:49:59.835960",
     "exception": false,
     "start_time": "2023-10-19T08:49:59.822538",
     "status": "completed"
    },
    "tags": []
   },
   "source": [
    "###  Change *The Test Set Numbers to Words*"
   ]
  },
  {
   "cell_type": "code",
   "execution_count": 41,
   "id": "6d6e4d35",
   "metadata": {
    "execution": {
     "iopub.execute_input": "2023-10-19T08:49:59.863737Z",
     "iopub.status.busy": "2023-10-19T08:49:59.863457Z",
     "iopub.status.idle": "2023-10-19T08:50:00.894087Z",
     "shell.execute_reply": "2023-10-19T08:50:00.893183Z"
    },
    "papermill": {
     "duration": 1.046586,
     "end_time": "2023-10-19T08:50:00.895712",
     "exception": false,
     "start_time": "2023-10-19T08:49:59.849126",
     "status": "completed"
    },
    "tags": []
   },
   "outputs": [
    {
     "name": "stderr",
     "output_type": "stream",
     "text": [
      "100%|██████████| 27228/27228 [00:01<00:00, 26635.31it/s]\n"
     ]
    }
   ],
   "source": [
    "tqdm.pandas()\n",
    "test_df['ctext'] = test_df['text'].progress_apply(num_to_text)"
   ]
  },
  {
   "cell_type": "code",
   "execution_count": 42,
   "id": "c4be5731",
   "metadata": {
    "execution": {
     "iopub.execute_input": "2023-10-19T08:50:00.925171Z",
     "iopub.status.busy": "2023-10-19T08:50:00.924924Z",
     "iopub.status.idle": "2023-10-19T08:50:00.933120Z",
     "shell.execute_reply": "2023-10-19T08:50:00.932269Z"
    },
    "papermill": {
     "duration": 0.02459,
     "end_time": "2023-10-19T08:50:00.934798",
     "exception": false,
     "start_time": "2023-10-19T08:50:00.910208",
     "status": "completed"
    },
    "tags": []
   },
   "outputs": [
    {
     "data": {
      "text/html": [
       "<div>\n",
       "<style scoped>\n",
       "    .dataframe tbody tr th:only-of-type {\n",
       "        vertical-align: middle;\n",
       "    }\n",
       "\n",
       "    .dataframe tbody tr th {\n",
       "        vertical-align: top;\n",
       "    }\n",
       "\n",
       "    .dataframe thead th {\n",
       "        text-align: right;\n",
       "    }\n",
       "</style>\n",
       "<table border=\"1\" class=\"dataframe\">\n",
       "  <thead>\n",
       "    <tr style=\"text-align: right;\">\n",
       "      <th></th>\n",
       "      <th>row_id_column_name</th>\n",
       "      <th>text</th>\n",
       "      <th>ctext</th>\n",
       "    </tr>\n",
       "  </thead>\n",
       "  <tbody>\n",
       "    <tr>\n",
       "      <th>0</th>\n",
       "      <td>0</td>\n",
       "      <td>বিশেষ অতিথি এফএম ইকবাল বিন আনোয়ার (ডন) অ্যাডিশ...</td>\n",
       "      <td>বিশেষ অতিথি এফএম ইকবাল বিন আনোয়ার (ডন) অ্যাডিশ...</td>\n",
       "    </tr>\n",
       "    <tr>\n",
       "      <th>1</th>\n",
       "      <td>1</td>\n",
       "      <td>এ নিয়ে বিবাদে ২০১৫ সালের ২ জুন রাত সাড়ে ১১টায় ...</td>\n",
       "      <td>এ নিয়ে বিবাদে দুই হাজার পনের সালের দুই জুন রাত...</td>\n",
       "    </tr>\n",
       "  </tbody>\n",
       "</table>\n",
       "</div>"
      ],
      "text/plain": [
       "   row_id_column_name                                               text  \\\n",
       "0                   0  বিশেষ অতিথি এফএম ইকবাল বিন আনোয়ার (ডন) অ্যাডিশ...   \n",
       "1                   1  এ নিয়ে বিবাদে ২০১৫ সালের ২ জুন রাত সাড়ে ১১টায় ...   \n",
       "\n",
       "                                               ctext  \n",
       "0  বিশেষ অতিথি এফএম ইকবাল বিন আনোয়ার (ডন) অ্যাডিশ...  \n",
       "1  এ নিয়ে বিবাদে দুই হাজার পনের সালের দুই জুন রাত...  "
      ]
     },
     "execution_count": 42,
     "metadata": {},
     "output_type": "execute_result"
    }
   ],
   "source": [
    "test_df.head(2)"
   ]
  },
  {
   "cell_type": "code",
   "execution_count": 43,
   "id": "1afbac56",
   "metadata": {
    "execution": {
     "iopub.execute_input": "2023-10-19T08:50:00.964234Z",
     "iopub.status.busy": "2023-10-19T08:50:00.963998Z",
     "iopub.status.idle": "2023-10-19T08:50:01.954830Z",
     "shell.execute_reply": "2023-10-19T08:50:01.953998Z"
    },
    "papermill": {
     "duration": 1.007523,
     "end_time": "2023-10-19T08:50:01.956533",
     "exception": false,
     "start_time": "2023-10-19T08:50:00.949010",
     "status": "completed"
    },
    "tags": []
   },
   "outputs": [
    {
     "name": "stderr",
     "output_type": "stream",
     "text": [
      "/opt/conda/lib/python3.10/site-packages/transformers/pipelines/base.py:1101: UserWarning: You seem to be using the pipelines sequentially on GPU. In order to maximize efficiency please use a dataset\n",
      "  warnings.warn(\n"
     ]
    },
    {
     "name": "stdout",
     "output_type": "stream",
     "text": [
      "bɪd̪d̪ut̪ bɪbʱɐgeɾ konpbɦɐɾʃɔn ɔbo sɪlet ɛkʃo pɔncɐʃ megɐo̯jɐt tu d̪uɪ̯ʃo põcɪʃ megɐo̯wɐt kɔmbɐ͡ɪ̯nd sɐɪ̯kel pɐo̯ʷɐɾ plɛnd pɾokɔlpotɪ d̪uɪ̯ hɐɟɐɾ t̪ɛɾo ʃɐle gɾohon kɔɾɐ hɔe̯।\n"
     ]
    },
    {
     "data": {
      "text/plain": [
       "'বিদ্যুৎ বিভাগের কনভারশন অব সিলেট একশো পঞ্চাশ মেগাওয়াট টু দুইশো পঁচিশ মেগাওয়াট কম্বাইন্ড সাইকেল পাওয়ার প্ল্যান্ট প্রকল্পটি দুই হাজার তের সালে গ্রহণ করা হয়।'"
      ]
     },
     "execution_count": 43,
     "metadata": {},
     "output_type": "execute_result"
    }
   ],
   "source": [
    "ind = np.random.randint(0, len(filt))\n",
    "print(ipa_converter(filt.ctext[ind]))\n",
    "filt.ctext[ind]"
   ]
  },
  {
   "cell_type": "code",
   "execution_count": 44,
   "id": "450796d8",
   "metadata": {
    "execution": {
     "iopub.execute_input": "2023-10-19T08:50:01.987179Z",
     "iopub.status.busy": "2023-10-19T08:50:01.986938Z",
     "iopub.status.idle": "2023-10-19T08:50:01.990545Z",
     "shell.execute_reply": "2023-10-19T08:50:01.989785Z"
    },
    "papermill": {
     "duration": 0.020238,
     "end_time": "2023-10-19T08:50:01.992199",
     "exception": false,
     "start_time": "2023-10-19T08:50:01.971961",
     "status": "completed"
    },
    "tags": []
   },
   "outputs": [],
   "source": [
    "# lib['শ্রেণীর']"
   ]
  },
  {
   "cell_type": "markdown",
   "id": "8297b52a",
   "metadata": {
    "papermill": {
     "duration": 0.014089,
     "end_time": "2023-10-19T08:50:02.020335",
     "exception": false,
     "start_time": "2023-10-19T08:50:02.006246",
     "status": "completed"
    },
    "tags": []
   },
   "source": [
    "### Handle This Library Error"
   ]
  },
  {
   "cell_type": "code",
   "execution_count": 45,
   "id": "ec3b281f",
   "metadata": {
    "execution": {
     "iopub.execute_input": "2023-10-19T08:50:02.049729Z",
     "iopub.status.busy": "2023-10-19T08:50:02.049478Z",
     "iopub.status.idle": "2023-10-19T08:50:02.093536Z",
     "shell.execute_reply": "2023-10-19T08:50:02.092852Z"
    },
    "papermill": {
     "duration": 0.060531,
     "end_time": "2023-10-19T08:50:02.095073",
     "exception": false,
     "start_time": "2023-10-19T08:50:02.034542",
     "status": "completed"
    },
    "tags": []
   },
   "outputs": [
    {
     "name": "stdout",
     "output_type": "stream",
     "text": [
      "0\n"
     ]
    }
   ],
   "source": [
    "y = list(lib.keys())\n",
    "x = list(lib.values())\n",
    "c  = 0\n",
    "bengali_char_pattern = re.compile(r'[\\u0980-\\u09FF]')\n",
    "for k,v in zip(y, x):\n",
    "    if re.search(bengali_char_pattern,v):\n",
    "        print(f'found {k}  {v} ')\n",
    "        c += 1\n",
    "        if c > 9:\n",
    "            break\n",
    "print(c)"
   ]
  },
  {
   "cell_type": "code",
   "execution_count": 46,
   "id": "ddc884b1",
   "metadata": {
    "execution": {
     "iopub.execute_input": "2023-10-19T08:50:02.125517Z",
     "iopub.status.busy": "2023-10-19T08:50:02.124932Z",
     "iopub.status.idle": "2023-10-19T08:50:02.596265Z",
     "shell.execute_reply": "2023-10-19T08:50:02.595435Z"
    },
    "papermill": {
     "duration": 0.488487,
     "end_time": "2023-10-19T08:50:02.598003",
     "exception": false,
     "start_time": "2023-10-19T08:50:02.109516",
     "status": "completed"
    },
    "tags": []
   },
   "outputs": [
    {
     "data": {
      "text/plain": [
       "'t̪ɐɾ ʃɐɾɐ শ্রেণির ɔncɪnt̪o ʃoɾɪɾe bɦõt̪ɐ ɔst̪ɾeɾ ɐtt̪ɾɪʃtɪ ɐgʱɐt̪ ɾoʲecʰe।'"
      ]
     },
     "execution_count": 46,
     "metadata": {},
     "output_type": "execute_result"
    }
   ],
   "source": [
    "txt = 'তার সারা শ্রেণীর অচিন্ত শরীরে ভোঁতা অস্ত্রের আটত্রিশটি আঘাত রয়েছে।'\n",
    "ipa_converter(txt)"
   ]
  },
  {
   "cell_type": "code",
   "execution_count": 47,
   "id": "53bc8964",
   "metadata": {
    "execution": {
     "iopub.execute_input": "2023-10-19T08:50:02.628938Z",
     "iopub.status.busy": "2023-10-19T08:50:02.628417Z",
     "iopub.status.idle": "2023-10-19T08:50:02.634051Z",
     "shell.execute_reply": "2023-10-19T08:50:02.633287Z"
    },
    "papermill": {
     "duration": 0.022573,
     "end_time": "2023-10-19T08:50:02.635588",
     "exception": false,
     "start_time": "2023-10-19T08:50:02.613015",
     "status": "completed"
    },
    "tags": []
   },
   "outputs": [
    {
     "data": {
      "text/plain": [
       "34505"
      ]
     },
     "execution_count": 47,
     "metadata": {},
     "output_type": "execute_result"
    }
   ],
   "source": [
    "len(lib)"
   ]
  },
  {
   "cell_type": "code",
   "execution_count": 48,
   "id": "1cb8e887",
   "metadata": {
    "execution": {
     "iopub.execute_input": "2023-10-19T08:50:02.666047Z",
     "iopub.status.busy": "2023-10-19T08:50:02.665769Z",
     "iopub.status.idle": "2023-10-19T08:50:03.137274Z",
     "shell.execute_reply": "2023-10-19T08:50:03.136447Z"
    },
    "papermill": {
     "duration": 0.488644,
     "end_time": "2023-10-19T08:50:03.138984",
     "exception": false,
     "start_time": "2023-10-19T08:50:02.650340",
     "status": "completed"
    },
    "tags": []
   },
   "outputs": [
    {
     "data": {
      "text/plain": [
       "'t̪ɐɾ ʃɐɾɐ শ্রেণির ɔcɪnt̪o ʃoɾɪɾe bɦõt̪ɐ ɔst̪ɾeɾ ɐtt̪ɾɪʃtɪ ɐgʱɐt̪ ɾoʲecʰe।'"
      ]
     },
     "execution_count": 48,
     "metadata": {},
     "output_type": "execute_result"
    }
   ],
   "source": [
    "txt = 'তার সারা শ্রেণীর অচিন্ত শরীরে ভোঁতা অস্ত্রের আটত্রিশটি আঘাত রয়েছে।'\n",
    "ipa_converter(txt)"
   ]
  },
  {
   "cell_type": "markdown",
   "id": "7518c366",
   "metadata": {
    "papermill": {
     "duration": 0.015889,
     "end_time": "2023-10-19T08:50:03.172021",
     "exception": false,
     "start_time": "2023-10-19T08:50:03.156132",
     "status": "completed"
    },
    "tags": []
   },
   "source": [
    "#### Fixed in the upper part"
   ]
  },
  {
   "cell_type": "markdown",
   "id": "02665b4a",
   "metadata": {
    "papermill": {
     "duration": 0.017896,
     "end_time": "2023-10-19T08:50:03.206441",
     "exception": false,
     "start_time": "2023-10-19T08:50:03.188545",
     "status": "completed"
    },
    "tags": []
   },
   "source": [
    "## Change this Part Idea and Code `Nannu`"
   ]
  },
  {
   "cell_type": "code",
   "execution_count": 49,
   "id": "55aa9fd8",
   "metadata": {
    "execution": {
     "iopub.execute_input": "2023-10-19T08:50:03.239535Z",
     "iopub.status.busy": "2023-10-19T08:50:03.239219Z",
     "iopub.status.idle": "2023-10-19T08:50:03.243766Z",
     "shell.execute_reply": "2023-10-19T08:50:03.242951Z"
    },
    "papermill": {
     "duration": 0.022089,
     "end_time": "2023-10-19T08:50:03.245410",
     "exception": false,
     "start_time": "2023-10-19T08:50:03.223321",
     "status": "completed"
    },
    "tags": []
   },
   "outputs": [],
   "source": [
    "dict_change={\n",
    "    \"bɦ\":\"bʱ\",\n",
    "    \"dɦ\":\"dʱ\",\n",
    "    \"oɦ\":'oʱ',\n",
    "    \"nɦ\":'nʱ',\n",
    "    \"ɟɦ\":'ɟʱ',\n",
    "    \"ɽɦ\":'ɽʱ',\n",
    "    \"gɦ\":'gʱ',\n",
    "    \"tɦ\":'tʱ',\n",
    "     \"d̪ɦ\":'d̪ʱ',\n",
    "     \"j\":\"ʲ\",\n",
    "     \"kh\":\"kʰ\",\n",
    "     \"t̪h\":\"t̪ʰ\",\n",
    "    \"ph\":\"pʰ\",\n",
    "    \"ch\":\"cʰ\",\n",
    "    \"w\":\"ʷ\"\n",
    "}"
   ]
  },
  {
   "cell_type": "code",
   "execution_count": 50,
   "id": "6a553b78",
   "metadata": {
    "execution": {
     "iopub.execute_input": "2023-10-19T08:50:03.275628Z",
     "iopub.status.busy": "2023-10-19T08:50:03.275385Z",
     "iopub.status.idle": "2023-10-19T08:50:03.281778Z",
     "shell.execute_reply": "2023-10-19T08:50:03.281084Z"
    },
    "papermill": {
     "duration": 0.02304,
     "end_time": "2023-10-19T08:50:03.283313",
     "exception": false,
     "start_time": "2023-10-19T08:50:03.260273",
     "status": "completed"
    },
    "tags": []
   },
   "outputs": [
    {
     "data": {
      "text/plain": [
       "re.compile(r'bɦ|dɦ|oɦ|nɦ|ɟɦ|ɽɦ|gɦ|tɦ|d̪ɦ|j|kh|t̪h|ph|ch|w', re.UNICODE)"
      ]
     },
     "execution_count": 50,
     "metadata": {},
     "output_type": "execute_result"
    }
   ],
   "source": [
    "pattern = re.compile('|'.join(re.escape(key) for key in dict_change.keys()))\n",
    "\n",
    "# Define a function to perform replacements\n",
    "def replace(match):\n",
    "    return dict_change[match.group(0)]\n",
    "\n",
    "# Use re.sub() to perform replacements\n",
    "def output(input_string):\n",
    "    return pattern.sub(replace, input_string)\n",
    "pattern"
   ]
  },
  {
   "cell_type": "code",
   "execution_count": 51,
   "id": "fca5188c",
   "metadata": {
    "execution": {
     "iopub.execute_input": "2023-10-19T08:50:03.314010Z",
     "iopub.status.busy": "2023-10-19T08:50:03.313705Z",
     "iopub.status.idle": "2023-10-19T08:50:03.318738Z",
     "shell.execute_reply": "2023-10-19T08:50:03.318043Z"
    },
    "papermill": {
     "duration": 0.022105,
     "end_time": "2023-10-19T08:50:03.320337",
     "exception": false,
     "start_time": "2023-10-19T08:50:03.298232",
     "status": "completed"
    },
    "tags": []
   },
   "outputs": [
    {
     "data": {
      "text/plain": [
       "'t̪ɐɾ ʃɐɾɐ শ্রেণির ɔcɪnt̪o ʃoɾɪɾe bʱõt̪ɐ ɔst̪ɾeɾ ɐtt̪ɾɪʃtɪ ɐgʱɐt̪ ɾoʲecʰe।'"
      ]
     },
     "execution_count": 51,
     "metadata": {},
     "output_type": "execute_result"
    }
   ],
   "source": [
    "tst = 't̪ɐɾ ʃɐɾɐ শ্রেণির ɔcɪnt̪o ʃoɾɪɾe bɦõt̪ɐ ɔst̪ɾeɾ ɐtt̪ɾɪʃtɪ ɐgʱɐt̪ ɾoʲecʰe।'\n",
    "output(tst)"
   ]
  },
  {
   "cell_type": "markdown",
   "id": "f8182ac0",
   "metadata": {
    "papermill": {
     "duration": 0.014526,
     "end_time": "2023-10-19T08:50:03.349941",
     "exception": false,
     "start_time": "2023-10-19T08:50:03.335415",
     "status": "completed"
    },
    "tags": []
   },
   "source": [
    "## Seems ok for the moment. Now Just Make a submission File"
   ]
  },
  {
   "cell_type": "code",
   "execution_count": 52,
   "id": "3273e97a",
   "metadata": {
    "execution": {
     "iopub.execute_input": "2023-10-19T08:50:03.380799Z",
     "iopub.status.busy": "2023-10-19T08:50:03.380175Z",
     "iopub.status.idle": "2023-10-19T08:50:03.388307Z",
     "shell.execute_reply": "2023-10-19T08:50:03.387532Z"
    },
    "papermill": {
     "duration": 0.025282,
     "end_time": "2023-10-19T08:50:03.389945",
     "exception": false,
     "start_time": "2023-10-19T08:50:03.364663",
     "status": "completed"
    },
    "tags": []
   },
   "outputs": [
    {
     "data": {
      "text/html": [
       "<div>\n",
       "<style scoped>\n",
       "    .dataframe tbody tr th:only-of-type {\n",
       "        vertical-align: middle;\n",
       "    }\n",
       "\n",
       "    .dataframe tbody tr th {\n",
       "        vertical-align: top;\n",
       "    }\n",
       "\n",
       "    .dataframe thead th {\n",
       "        text-align: right;\n",
       "    }\n",
       "</style>\n",
       "<table border=\"1\" class=\"dataframe\">\n",
       "  <thead>\n",
       "    <tr style=\"text-align: right;\">\n",
       "      <th></th>\n",
       "      <th>row_id_column_name</th>\n",
       "      <th>text</th>\n",
       "      <th>ctext</th>\n",
       "    </tr>\n",
       "  </thead>\n",
       "  <tbody>\n",
       "    <tr>\n",
       "      <th>0</th>\n",
       "      <td>0</td>\n",
       "      <td>বিশেষ অতিথি এফএম ইকবাল বিন আনোয়ার (ডন) অ্যাডিশ...</td>\n",
       "      <td>বিশেষ অতিথি এফএম ইকবাল বিন আনোয়ার (ডন) অ্যাডিশ...</td>\n",
       "    </tr>\n",
       "    <tr>\n",
       "      <th>1</th>\n",
       "      <td>1</td>\n",
       "      <td>এ নিয়ে বিবাদে ২০১৫ সালের ২ জুন রাত সাড়ে ১১টায় ...</td>\n",
       "      <td>এ নিয়ে বিবাদে দুই হাজার পনের সালের দুই জুন রাত...</td>\n",
       "    </tr>\n",
       "    <tr>\n",
       "      <th>2</th>\n",
       "      <td>2</td>\n",
       "      <td>আজ থেকে ১৪ বছর আগে তিনি চলে গেছেন না ফেরার দেশে।</td>\n",
       "      <td>আজ থেকে চৌদ্দ বছর আগে তিনি চলে গেছেন না ফেরার ...</td>\n",
       "    </tr>\n",
       "    <tr>\n",
       "      <th>3</th>\n",
       "      <td>3</td>\n",
       "      <td>নিহত ব্যক্তি কুতপালং টালের ই-২ ব্লকের আবুল বাছ...</td>\n",
       "      <td>নিহত ব্যক্তি কুতপালং টালের ই-দুই ব্লকের আবুল ব...</td>\n",
       "    </tr>\n",
       "    <tr>\n",
       "      <th>4</th>\n",
       "      <td>4</td>\n",
       "      <td>সংক্ষিপ্ত স্কোরশ্রীলংকা প্রথম ইনিংস ৪৮২ (করুনা...</td>\n",
       "      <td>সংক্ষিপ্ত স্কোরশ্রীলংকা প্রথম ইনিংস চারশো বিরা...</td>\n",
       "    </tr>\n",
       "  </tbody>\n",
       "</table>\n",
       "</div>"
      ],
      "text/plain": [
       "   row_id_column_name                                               text  \\\n",
       "0                   0  বিশেষ অতিথি এফএম ইকবাল বিন আনোয়ার (ডন) অ্যাডিশ...   \n",
       "1                   1  এ নিয়ে বিবাদে ২০১৫ সালের ২ জুন রাত সাড়ে ১১টায় ...   \n",
       "2                   2   আজ থেকে ১৪ বছর আগে তিনি চলে গেছেন না ফেরার দেশে।   \n",
       "3                   3  নিহত ব্যক্তি কুতপালং টালের ই-২ ব্লকের আবুল বাছ...   \n",
       "4                   4  সংক্ষিপ্ত স্কোরশ্রীলংকা প্রথম ইনিংস ৪৮২ (করুনা...   \n",
       "\n",
       "                                               ctext  \n",
       "0  বিশেষ অতিথি এফএম ইকবাল বিন আনোয়ার (ডন) অ্যাডিশ...  \n",
       "1  এ নিয়ে বিবাদে দুই হাজার পনের সালের দুই জুন রাত...  \n",
       "2  আজ থেকে চৌদ্দ বছর আগে তিনি চলে গেছেন না ফেরার ...  \n",
       "3  নিহত ব্যক্তি কুতপালং টালের ই-দুই ব্লকের আবুল ব...  \n",
       "4  সংক্ষিপ্ত স্কোরশ্রীলংকা প্রথম ইনিংস চারশো বিরা...  "
      ]
     },
     "execution_count": 52,
     "metadata": {},
     "output_type": "execute_result"
    }
   ],
   "source": [
    "test_df.head()"
   ]
  },
  {
   "cell_type": "code",
   "execution_count": 53,
   "id": "8be748a3",
   "metadata": {
    "execution": {
     "iopub.execute_input": "2023-10-19T08:50:03.420375Z",
     "iopub.status.busy": "2023-10-19T08:50:03.420160Z",
     "iopub.status.idle": "2023-10-19T10:15:51.310483Z",
     "shell.execute_reply": "2023-10-19T10:15:51.309213Z"
    },
    "papermill": {
     "duration": 5147.907751,
     "end_time": "2023-10-19T10:15:51.312395",
     "exception": false,
     "start_time": "2023-10-19T08:50:03.404644",
     "status": "completed"
    },
    "tags": []
   },
   "outputs": [
    {
     "name": "stderr",
     "output_type": "stream",
     "text": [
      "  0%|          | 0/27228 [00:00<?, ?it/s]/opt/conda/lib/python3.10/site-packages/transformers/pipelines/base.py:1101: UserWarning: You seem to be using the pipelines sequentially on GPU. In order to maximize efficiency please use a dataset\n",
      "  warnings.warn(\n",
      "100%|██████████| 27228/27228 [1:25:47<00:00,  5.29it/s]\n"
     ]
    }
   ],
   "source": [
    "tqdm.pandas()\n",
    "test_df['ipa'] = test_df['ctext'].progress_apply(ipa_converter)"
   ]
  },
  {
   "cell_type": "code",
   "execution_count": 54,
   "id": "2800a586",
   "metadata": {
    "execution": {
     "iopub.execute_input": "2023-10-19T10:15:52.780242Z",
     "iopub.status.busy": "2023-10-19T10:15:52.779915Z",
     "iopub.status.idle": "2023-10-19T10:15:52.916324Z",
     "shell.execute_reply": "2023-10-19T10:15:52.915639Z"
    },
    "papermill": {
     "duration": 0.90062,
     "end_time": "2023-10-19T10:15:52.917958",
     "exception": false,
     "start_time": "2023-10-19T10:15:52.017338",
     "status": "completed"
    },
    "tags": []
   },
   "outputs": [
    {
     "name": "stderr",
     "output_type": "stream",
     "text": [
      "100%|██████████| 27228/27228 [00:00<00:00, 215823.38it/s]\n"
     ]
    }
   ],
   "source": [
    "tqdm.pandas()\n",
    "test_df['fipa'] = test_df['ipa'].progress_apply(output)"
   ]
  },
  {
   "cell_type": "code",
   "execution_count": 55,
   "id": "f90593e8",
   "metadata": {
    "execution": {
     "iopub.execute_input": "2023-10-19T10:15:54.369572Z",
     "iopub.status.busy": "2023-10-19T10:15:54.369245Z",
     "iopub.status.idle": "2023-10-19T10:15:54.379462Z",
     "shell.execute_reply": "2023-10-19T10:15:54.378577Z"
    },
    "papermill": {
     "duration": 0.770407,
     "end_time": "2023-10-19T10:15:54.381001",
     "exception": false,
     "start_time": "2023-10-19T10:15:53.610594",
     "status": "completed"
    },
    "tags": []
   },
   "outputs": [
    {
     "data": {
      "text/html": [
       "<div>\n",
       "<style scoped>\n",
       "    .dataframe tbody tr th:only-of-type {\n",
       "        vertical-align: middle;\n",
       "    }\n",
       "\n",
       "    .dataframe tbody tr th {\n",
       "        vertical-align: top;\n",
       "    }\n",
       "\n",
       "    .dataframe thead th {\n",
       "        text-align: right;\n",
       "    }\n",
       "</style>\n",
       "<table border=\"1\" class=\"dataframe\">\n",
       "  <thead>\n",
       "    <tr style=\"text-align: right;\">\n",
       "      <th></th>\n",
       "      <th>row_id_column_name</th>\n",
       "      <th>text</th>\n",
       "      <th>ctext</th>\n",
       "      <th>ipa</th>\n",
       "      <th>fipa</th>\n",
       "    </tr>\n",
       "  </thead>\n",
       "  <tbody>\n",
       "    <tr>\n",
       "      <th>0</th>\n",
       "      <td>0</td>\n",
       "      <td>বিশেষ অতিথি এফএম ইকবাল বিন আনোয়ার (ডন) অ্যাডিশ...</td>\n",
       "      <td>বিশেষ অতিথি এফএম ইকবাল বিন আনোয়ার (ডন) অ্যাডিশ...</td>\n",
       "      <td>bɪʃeʃ ot̪ɪt̪ʰɪ ephem ɪkbɐl bɪn ɐnoʷɐɾ (dɔn) ɛd...</td>\n",
       "      <td>bɪʃeʃ ot̪ɪt̪ʰɪ epʰem ɪkbɐl bɪn ɐnoʷɐɾ (dɔn) ɛd...</td>\n",
       "    </tr>\n",
       "    <tr>\n",
       "      <th>1</th>\n",
       "      <td>1</td>\n",
       "      <td>এ নিয়ে বিবাদে ২০১৫ সালের ২ জুন রাত সাড়ে ১১টায় ...</td>\n",
       "      <td>এ নিয়ে বিবাদে দুই হাজার পনের সালের দুই জুন রাত...</td>\n",
       "      <td>e nɪʲe bɪbɐd̪e d̪uɪ̯ hɐɟɐɾ pɔneɾo ʃɐleɾ d̪uɪ̯ ...</td>\n",
       "      <td>e nɪʲe bɪbɐd̪e d̪uɪ̯ hɐɟɐɾ pɔneɾo ʃɐleɾ d̪uɪ̯ ...</td>\n",
       "    </tr>\n",
       "    <tr>\n",
       "      <th>2</th>\n",
       "      <td>2</td>\n",
       "      <td>আজ থেকে ১৪ বছর আগে তিনি চলে গেছেন না ফেরার দেশে।</td>\n",
       "      <td>আজ থেকে চৌদ্দ বছর আগে তিনি চলে গেছেন না ফেরার ...</td>\n",
       "      <td>ɐɟ t̪ʰeke coud̪d̪o bɔcʰoɾ ɐge t̪ɪnɪ cɔle gɛcʰe...</td>\n",
       "      <td>ɐɟ t̪ʰeke coud̪d̪o bɔcʰoɾ ɐge t̪ɪnɪ cɔle gɛcʰe...</td>\n",
       "    </tr>\n",
       "    <tr>\n",
       "      <th>3</th>\n",
       "      <td>3</td>\n",
       "      <td>নিহত ব্যক্তি কুতপালং টালের ই-২ ব্লকের আবুল বাছ...</td>\n",
       "      <td>নিহত ব্যক্তি কুতপালং টালের ই-দুই ব্লকের আবুল ব...</td>\n",
       "      <td>nɪhɔt̪o bɛkt̪ɪ kut̪pɐlɔŋ tɐleɾ ɪ-d̪uɪ̯ blokeɾ ...</td>\n",
       "      <td>nɪhɔt̪o bɛkt̪ɪ kut̪pɐlɔŋ tɐleɾ ɪ-d̪uɪ̯ blokeɾ ...</td>\n",
       "    </tr>\n",
       "    <tr>\n",
       "      <th>4</th>\n",
       "      <td>4</td>\n",
       "      <td>সংক্ষিপ্ত স্কোরশ্রীলংকা প্রথম ইনিংস ৪৮২ (করুনা...</td>\n",
       "      <td>সংক্ষিপ্ত স্কোরশ্রীলংকা প্রথম ইনিংস চারশো বিরা...</td>\n",
       "      <td>ʃɔŋkkʰɪpt̪o skɾosɾɪlɔŋkɐ pɾot̪ʰom ɪnɪŋʃo cɐɾʃo...</td>\n",
       "      <td>ʃɔŋkkʰɪpt̪o skɾosɾɪlɔŋkɐ pɾot̪ʰom ɪnɪŋʃo cɐɾʃo...</td>\n",
       "    </tr>\n",
       "  </tbody>\n",
       "</table>\n",
       "</div>"
      ],
      "text/plain": [
       "   row_id_column_name                                               text  \\\n",
       "0                   0  বিশেষ অতিথি এফএম ইকবাল বিন আনোয়ার (ডন) অ্যাডিশ...   \n",
       "1                   1  এ নিয়ে বিবাদে ২০১৫ সালের ২ জুন রাত সাড়ে ১১টায় ...   \n",
       "2                   2   আজ থেকে ১৪ বছর আগে তিনি চলে গেছেন না ফেরার দেশে।   \n",
       "3                   3  নিহত ব্যক্তি কুতপালং টালের ই-২ ব্লকের আবুল বাছ...   \n",
       "4                   4  সংক্ষিপ্ত স্কোরশ্রীলংকা প্রথম ইনিংস ৪৮২ (করুনা...   \n",
       "\n",
       "                                               ctext  \\\n",
       "0  বিশেষ অতিথি এফএম ইকবাল বিন আনোয়ার (ডন) অ্যাডিশ...   \n",
       "1  এ নিয়ে বিবাদে দুই হাজার পনের সালের দুই জুন রাত...   \n",
       "2  আজ থেকে চৌদ্দ বছর আগে তিনি চলে গেছেন না ফেরার ...   \n",
       "3  নিহত ব্যক্তি কুতপালং টালের ই-দুই ব্লকের আবুল ব...   \n",
       "4  সংক্ষিপ্ত স্কোরশ্রীলংকা প্রথম ইনিংস চারশো বিরা...   \n",
       "\n",
       "                                                 ipa  \\\n",
       "0  bɪʃeʃ ot̪ɪt̪ʰɪ ephem ɪkbɐl bɪn ɐnoʷɐɾ (dɔn) ɛd...   \n",
       "1  e nɪʲe bɪbɐd̪e d̪uɪ̯ hɐɟɐɾ pɔneɾo ʃɐleɾ d̪uɪ̯ ...   \n",
       "2  ɐɟ t̪ʰeke coud̪d̪o bɔcʰoɾ ɐge t̪ɪnɪ cɔle gɛcʰe...   \n",
       "3  nɪhɔt̪o bɛkt̪ɪ kut̪pɐlɔŋ tɐleɾ ɪ-d̪uɪ̯ blokeɾ ...   \n",
       "4  ʃɔŋkkʰɪpt̪o skɾosɾɪlɔŋkɐ pɾot̪ʰom ɪnɪŋʃo cɐɾʃo...   \n",
       "\n",
       "                                                fipa  \n",
       "0  bɪʃeʃ ot̪ɪt̪ʰɪ epʰem ɪkbɐl bɪn ɐnoʷɐɾ (dɔn) ɛd...  \n",
       "1  e nɪʲe bɪbɐd̪e d̪uɪ̯ hɐɟɐɾ pɔneɾo ʃɐleɾ d̪uɪ̯ ...  \n",
       "2  ɐɟ t̪ʰeke coud̪d̪o bɔcʰoɾ ɐge t̪ɪnɪ cɔle gɛcʰe...  \n",
       "3  nɪhɔt̪o bɛkt̪ɪ kut̪pɐlɔŋ tɐleɾ ɪ-d̪uɪ̯ blokeɾ ...  \n",
       "4  ʃɔŋkkʰɪpt̪o skɾosɾɪlɔŋkɐ pɾot̪ʰom ɪnɪŋʃo cɐɾʃo...  "
      ]
     },
     "execution_count": 55,
     "metadata": {},
     "output_type": "execute_result"
    }
   ],
   "source": [
    "test_df.head()"
   ]
  },
  {
   "cell_type": "markdown",
   "id": "ed9d94d1",
   "metadata": {
    "papermill": {
     "duration": 0.766705,
     "end_time": "2023-10-19T10:15:55.842925",
     "exception": false,
     "start_time": "2023-10-19T10:15:55.076220",
     "status": "completed"
    },
    "tags": []
   },
   "source": [
    "## Check Manually"
   ]
  },
  {
   "cell_type": "code",
   "execution_count": 56,
   "id": "20c0be21",
   "metadata": {
    "execution": {
     "iopub.execute_input": "2023-10-19T10:15:57.218959Z",
     "iopub.status.busy": "2023-10-19T10:15:57.218450Z",
     "iopub.status.idle": "2023-10-19T10:15:57.225472Z",
     "shell.execute_reply": "2023-10-19T10:15:57.224719Z"
    },
    "papermill": {
     "duration": 0.695403,
     "end_time": "2023-10-19T10:15:57.227048",
     "exception": false,
     "start_time": "2023-10-19T10:15:56.531645",
     "status": "completed"
    },
    "tags": []
   },
   "outputs": [
    {
     "data": {
      "text/plain": [
       "(\"‘pɪthɐɾ ʃɐd̪e, ‘ ephbɪeʃeɾ mɐthe ‘ sɛgɐne dʱɐkɐ bɪʃʃobɪd̪d̪ɐlɔʲeɾ bɛbʃɐe̯ ʃɪkkʰɐ onuʃɔd̪ cʰɐt̪ɾolɪg ‘pɪthɐ ‘pɪthɐ ut̪ʃɔb d̪uɪ̯ hɐɟɐɾ ʃot̪eɾ ‘ʃɔt̪eɾ' eɾ ɐʲoɟon koɾe।\",\n",
       " \"‘pɪthɐɾ ʃɐd̪e, ‘ epʰbɪeʃeɾ mɐthe ‘ sɛgɐne dʱɐkɐ bɪʃʃobɪd̪d̪ɐlɔʲeɾ bɛbʃɐe̯ ʃɪkkʰɐ onuʃɔd̪ cʰɐt̪ɾolɪg ‘pɪthɐ ‘pɪthɐ ut̪ʃɔb d̪uɪ̯ hɐɟɐɾ ʃot̪eɾ ‘ʃɔt̪eɾ' eɾ ɐʲoɟon koɾe।\")"
      ]
     },
     "execution_count": 56,
     "metadata": {},
     "output_type": "execute_result"
    }
   ],
   "source": [
    "ri = np.random.randint(0, 100)\n",
    "test_df['ipa'][ri], test_df['fipa'][ri]"
   ]
  },
  {
   "cell_type": "code",
   "execution_count": 57,
   "id": "1c0967f4",
   "metadata": {
    "execution": {
     "iopub.execute_input": "2023-10-19T10:15:58.758465Z",
     "iopub.status.busy": "2023-10-19T10:15:58.758145Z",
     "iopub.status.idle": "2023-10-19T10:15:59.104678Z",
     "shell.execute_reply": "2023-10-19T10:15:59.103763Z"
    },
    "papermill": {
     "duration": 1.137314,
     "end_time": "2023-10-19T10:15:59.106714",
     "exception": false,
     "start_time": "2023-10-19T10:15:57.969400",
     "status": "completed"
    },
    "tags": []
   },
   "outputs": [],
   "source": [
    "test_df.to_csv('submission.csv', index=False)"
   ]
  },
  {
   "cell_type": "code",
   "execution_count": 58,
   "id": "1d8c2a29",
   "metadata": {
    "execution": {
     "iopub.execute_input": "2023-10-19T10:16:00.567009Z",
     "iopub.status.busy": "2023-10-19T10:16:00.566653Z",
     "iopub.status.idle": "2023-10-19T10:16:00.571776Z",
     "shell.execute_reply": "2023-10-19T10:16:00.570929Z"
    },
    "papermill": {
     "duration": 0.762994,
     "end_time": "2023-10-19T10:16:00.573464",
     "exception": false,
     "start_time": "2023-10-19T10:15:59.810470",
     "status": "completed"
    },
    "tags": []
   },
   "outputs": [
    {
     "name": "stdout",
     "output_type": "stream",
     "text": [
      "Text = সোমবার আপিল বিভাগে তার রায় রিভিউ শুনানি এক মাস পিছিয়ে দেয়া হয়।\n",
      "Ipa = ʃombɐɾ ɐpɪl bɪbʱɐge t̪ɐɾ ɾɐe̯ ɾɪbʱɪu̯ ʃunɐnɪ ɛk mɐʃ pɪcʰɪʲe d̪eʲɐ hɔe̯।\n"
     ]
    }
   ],
   "source": [
    "# See a random sample from the test set \n",
    "rand_index = np.random.randint(0, len(test_df))\n",
    "print(f'Text = {test_df.text[rand_index]}\\nIpa = {test_df.ipa[rand_index]}')"
   ]
  },
  {
   "cell_type": "code",
   "execution_count": 59,
   "id": "5d2d2477",
   "metadata": {
    "execution": {
     "iopub.execute_input": "2023-10-19T10:16:02.036403Z",
     "iopub.status.busy": "2023-10-19T10:16:02.035732Z",
     "iopub.status.idle": "2023-10-19T10:16:02.041133Z",
     "shell.execute_reply": "2023-10-19T10:16:02.040285Z"
    },
    "papermill": {
     "duration": 0.708325,
     "end_time": "2023-10-19T10:16:02.042953",
     "exception": false,
     "start_time": "2023-10-19T10:16:01.334628",
     "status": "completed"
    },
    "tags": []
   },
   "outputs": [
    {
     "data": {
      "text/plain": [
       "'mod̪d̪ʱe'"
      ]
     },
     "execution_count": 59,
     "metadata": {},
     "output_type": "execute_result"
    }
   ],
   "source": [
    "lib['মধ্যে']"
   ]
  },
  {
   "cell_type": "code",
   "execution_count": 60,
   "id": "ea214ecd",
   "metadata": {
    "execution": {
     "iopub.execute_input": "2023-10-19T10:16:03.505903Z",
     "iopub.status.busy": "2023-10-19T10:16:03.505556Z",
     "iopub.status.idle": "2023-10-19T10:16:03.509590Z",
     "shell.execute_reply": "2023-10-19T10:16:03.508631Z"
    },
    "papermill": {
     "duration": 0.699926,
     "end_time": "2023-10-19T10:16:03.511389",
     "exception": false,
     "start_time": "2023-10-19T10:16:02.811463",
     "status": "completed"
    },
    "tags": []
   },
   "outputs": [],
   "source": [
    "# lenli = []\n",
    "# for i in range(len(test_df)):\n",
    "#     l1 = len(test_df['text'][i].split())\n",
    "#     l2 = len(test_df['ipa'][i].split())\n",
    "#     lenli.append([l1, l2])"
   ]
  },
  {
   "cell_type": "code",
   "execution_count": 61,
   "id": "dddc2f4d",
   "metadata": {
    "execution": {
     "iopub.execute_input": "2023-10-19T10:16:04.997295Z",
     "iopub.status.busy": "2023-10-19T10:16:04.996990Z",
     "iopub.status.idle": "2023-10-19T10:16:05.001015Z",
     "shell.execute_reply": "2023-10-19T10:16:05.000011Z"
    },
    "papermill": {
     "duration": 0.729389,
     "end_time": "2023-10-19T10:16:05.002687",
     "exception": false,
     "start_time": "2023-10-19T10:16:04.273298",
     "status": "completed"
    },
    "tags": []
   },
   "outputs": [],
   "source": [
    "# lenlisrt = sorted(lenli, key= lambda x:x[1], reverse=False)"
   ]
  },
  {
   "cell_type": "code",
   "execution_count": 62,
   "id": "586a6644",
   "metadata": {
    "execution": {
     "iopub.execute_input": "2023-10-19T10:16:06.524585Z",
     "iopub.status.busy": "2023-10-19T10:16:06.524254Z",
     "iopub.status.idle": "2023-10-19T10:16:06.528089Z",
     "shell.execute_reply": "2023-10-19T10:16:06.527282Z"
    },
    "papermill": {
     "duration": 0.767655,
     "end_time": "2023-10-19T10:16:06.529838",
     "exception": false,
     "start_time": "2023-10-19T10:16:05.762183",
     "status": "completed"
    },
    "tags": []
   },
   "outputs": [],
   "source": [
    "# lenlisrt[:10]"
   ]
  },
  {
   "cell_type": "code",
   "execution_count": 63,
   "id": "1955d63f",
   "metadata": {
    "execution": {
     "iopub.execute_input": "2023-10-19T10:16:08.001530Z",
     "iopub.status.busy": "2023-10-19T10:16:08.000651Z",
     "iopub.status.idle": "2023-10-19T10:16:08.016930Z",
     "shell.execute_reply": "2023-10-19T10:16:08.016068Z"
    },
    "papermill": {
     "duration": 0.793449,
     "end_time": "2023-10-19T10:16:08.018609",
     "exception": false,
     "start_time": "2023-10-19T10:16:07.225160",
     "status": "completed"
    },
    "tags": []
   },
   "outputs": [
    {
     "data": {
      "text/html": [
       "<div>\n",
       "<style scoped>\n",
       "    .dataframe tbody tr th:only-of-type {\n",
       "        vertical-align: middle;\n",
       "    }\n",
       "\n",
       "    .dataframe tbody tr th {\n",
       "        vertical-align: top;\n",
       "    }\n",
       "\n",
       "    .dataframe thead th {\n",
       "        text-align: right;\n",
       "    }\n",
       "</style>\n",
       "<table border=\"1\" class=\"dataframe\">\n",
       "  <thead>\n",
       "    <tr style=\"text-align: right;\">\n",
       "      <th></th>\n",
       "      <th>row_id_column_name</th>\n",
       "      <th>fipa</th>\n",
       "    </tr>\n",
       "  </thead>\n",
       "  <tbody>\n",
       "    <tr>\n",
       "      <th>0</th>\n",
       "      <td>0</td>\n",
       "      <td>bɪʃeʃ ot̪ɪt̪ʰɪ epʰem ɪkbɐl bɪn ɐnoʷɐɾ (dɔn) ɛd...</td>\n",
       "    </tr>\n",
       "    <tr>\n",
       "      <th>1</th>\n",
       "      <td>1</td>\n",
       "      <td>e nɪʲe bɪbɐd̪e d̪uɪ̯ hɐɟɐɾ pɔneɾo ʃɐleɾ d̪uɪ̯ ...</td>\n",
       "    </tr>\n",
       "  </tbody>\n",
       "</table>\n",
       "</div>"
      ],
      "text/plain": [
       "   row_id_column_name                                               fipa\n",
       "0                   0  bɪʃeʃ ot̪ɪt̪ʰɪ epʰem ɪkbɐl bɪn ɐnoʷɐɾ (dɔn) ɛd...\n",
       "1                   1  e nɪʲe bɪbɐd̪e d̪uɪ̯ hɐɟɐɾ pɔneɾo ʃɐleɾ d̪uɪ̯ ..."
      ]
     },
     "execution_count": 63,
     "metadata": {},
     "output_type": "execute_result"
    }
   ],
   "source": [
    "sdf = test_df.drop(['text', 'ipa', 'ctext' ], axis=1)\n",
    "sdf.head(2)"
   ]
  },
  {
   "cell_type": "code",
   "execution_count": 64,
   "id": "9577fc07",
   "metadata": {
    "execution": {
     "iopub.execute_input": "2023-10-19T10:16:09.526073Z",
     "iopub.status.busy": "2023-10-19T10:16:09.525485Z",
     "iopub.status.idle": "2023-10-19T10:16:09.650385Z",
     "shell.execute_reply": "2023-10-19T10:16:09.649457Z"
    },
    "papermill": {
     "duration": 0.889415,
     "end_time": "2023-10-19T10:16:09.651962",
     "exception": false,
     "start_time": "2023-10-19T10:16:08.762547",
     "status": "completed"
    },
    "tags": []
   },
   "outputs": [
    {
     "name": "stdout",
     "output_type": "stream",
     "text": [
      "(27228, 2)\n"
     ]
    }
   ],
   "source": [
    "print(sdf.shape)\n",
    "sdf.to_csv('/kaggle/working/sub2.csv', index=False)"
   ]
  },
  {
   "cell_type": "code",
   "execution_count": null,
   "id": "c6fcdc24",
   "metadata": {
    "papermill": {
     "duration": 0.764737,
     "end_time": "2023-10-19T10:16:11.111290",
     "exception": false,
     "start_time": "2023-10-19T10:16:10.346553",
     "status": "completed"
    },
    "tags": []
   },
   "outputs": [],
   "source": []
  },
  {
   "cell_type": "code",
   "execution_count": 65,
   "id": "ea0cf87f",
   "metadata": {
    "execution": {
     "iopub.execute_input": "2023-10-19T10:16:12.560356Z",
     "iopub.status.busy": "2023-10-19T10:16:12.560035Z",
     "iopub.status.idle": "2023-10-19T10:16:12.565255Z",
     "shell.execute_reply": "2023-10-19T10:16:12.564507Z"
    },
    "papermill": {
     "duration": 0.76164,
     "end_time": "2023-10-19T10:16:12.566944",
     "exception": false,
     "start_time": "2023-10-19T10:16:11.805304",
     "status": "completed"
    },
    "tags": []
   },
   "outputs": [
    {
     "data": {
      "text/plain": [
       "'bɪʃeʃ ot̪ɪt̪ʰɪ epʰem ɪkbɐl bɪn ɐnoʷɐɾ (dɔn) ɛdɪʃonɐl dɐt̪ɐɾektɔɾgems ɛnd spoɾts dɪpɐɾtoment oʷɐltɔn।'"
      ]
     },
     "execution_count": 65,
     "metadata": {},
     "output_type": "execute_result"
    }
   ],
   "source": [
    "sdf.fipa[0]"
   ]
  },
  {
   "cell_type": "code",
   "execution_count": 66,
   "id": "461a4c66",
   "metadata": {
    "execution": {
     "iopub.execute_input": "2023-10-19T10:16:14.038510Z",
     "iopub.status.busy": "2023-10-19T10:16:14.038189Z",
     "iopub.status.idle": "2023-10-19T10:16:14.043125Z",
     "shell.execute_reply": "2023-10-19T10:16:14.042275Z"
    },
    "papermill": {
     "duration": 0.707832,
     "end_time": "2023-10-19T10:16:14.044772",
     "exception": false,
     "start_time": "2023-10-19T10:16:13.336940",
     "status": "completed"
    },
    "tags": []
   },
   "outputs": [
    {
     "name": "stdout",
     "output_type": "stream",
     "text": [
      "Ipa = ɐmɐd̪eɾ lokkʰo nɪɟed̪eɾ ʃeɾɐtɐ upohɐɾ d̪eʲɐ, ‘ bolecʰen t̪ɪnɪ।\n"
     ]
    }
   ],
   "source": [
    "# See a random sample from the test set \n",
    "rand_index = np.random.randint(0, len(test_df))\n",
    "print(f'Ipa = {sdf.fipa[rand_index]}')"
   ]
  },
  {
   "cell_type": "code",
   "execution_count": null,
   "id": "c98cd56a",
   "metadata": {
    "papermill": {
     "duration": 0.69048,
     "end_time": "2023-10-19T10:16:15.490395",
     "exception": false,
     "start_time": "2023-10-19T10:16:14.799915",
     "status": "completed"
    },
    "tags": []
   },
   "outputs": [],
   "source": []
  }
 ],
 "metadata": {
  "kernelspec": {
   "display_name": "Python 3",
   "language": "python",
   "name": "python3"
  },
  "language_info": {
   "codemirror_mode": {
    "name": "ipython",
    "version": 3
   },
   "file_extension": ".py",
   "mimetype": "text/x-python",
   "name": "python",
   "nbconvert_exporter": "python",
   "pygments_lexer": "ipython3",
   "version": "3.10.12"
  },
  "papermill": {
   "default_parameters": {},
   "duration": 5229.556817,
   "end_time": "2023-10-19T10:16:20.009650",
   "environment_variables": {},
   "exception": null,
   "input_path": "__notebook__.ipynb",
   "output_path": "__notebook__.ipynb",
   "parameters": {},
   "start_time": "2023-10-19T08:49:10.452833",
   "version": "2.4.0"
  },
  "widgets": {
   "application/vnd.jupyter.widget-state+json": {
    "state": {
     "07429964d8594a82817ef59338fc80ce": {
      "model_module": "@jupyter-widgets/controls",
      "model_module_version": "1.5.0",
      "model_name": "DescriptionStyleModel",
      "state": {
       "_model_module": "@jupyter-widgets/controls",
       "_model_module_version": "1.5.0",
       "_model_name": "DescriptionStyleModel",
       "_view_count": null,
       "_view_module": "@jupyter-widgets/base",
       "_view_module_version": "1.2.0",
       "_view_name": "StyleView",
       "description_width": ""
      }
     },
     "0f617e3d13914459bb4566c2a66cae69": {
      "model_module": "@jupyter-widgets/base",
      "model_module_version": "1.2.0",
      "model_name": "LayoutModel",
      "state": {
       "_model_module": "@jupyter-widgets/base",
       "_model_module_version": "1.2.0",
       "_model_name": "LayoutModel",
       "_view_count": null,
       "_view_module": "@jupyter-widgets/base",
       "_view_module_version": "1.2.0",
       "_view_name": "LayoutView",
       "align_content": null,
       "align_items": null,
       "align_self": null,
       "border": null,
       "bottom": null,
       "display": null,
       "flex": null,
       "flex_flow": null,
       "grid_area": null,
       "grid_auto_columns": null,
       "grid_auto_flow": null,
       "grid_auto_rows": null,
       "grid_column": null,
       "grid_gap": null,
       "grid_row": null,
       "grid_template_areas": null,
       "grid_template_columns": null,
       "grid_template_rows": null,
       "height": null,
       "justify_content": null,
       "justify_items": null,
       "left": null,
       "margin": null,
       "max_height": null,
       "max_width": null,
       "min_height": null,
       "min_width": null,
       "object_fit": null,
       "object_position": null,
       "order": null,
       "overflow": null,
       "overflow_x": null,
       "overflow_y": null,
       "padding": null,
       "right": null,
       "top": null,
       "visibility": null,
       "width": null
      }
     },
     "1ba9bd2769db4272a53309d97326bf20": {
      "model_module": "@jupyter-widgets/base",
      "model_module_version": "1.2.0",
      "model_name": "LayoutModel",
      "state": {
       "_model_module": "@jupyter-widgets/base",
       "_model_module_version": "1.2.0",
       "_model_name": "LayoutModel",
       "_view_count": null,
       "_view_module": "@jupyter-widgets/base",
       "_view_module_version": "1.2.0",
       "_view_name": "LayoutView",
       "align_content": null,
       "align_items": null,
       "align_self": null,
       "border": null,
       "bottom": null,
       "display": null,
       "flex": null,
       "flex_flow": null,
       "grid_area": null,
       "grid_auto_columns": null,
       "grid_auto_flow": null,
       "grid_auto_rows": null,
       "grid_column": null,
       "grid_gap": null,
       "grid_row": null,
       "grid_template_areas": null,
       "grid_template_columns": null,
       "grid_template_rows": null,
       "height": null,
       "justify_content": null,
       "justify_items": null,
       "left": null,
       "margin": null,
       "max_height": null,
       "max_width": null,
       "min_height": null,
       "min_width": null,
       "object_fit": null,
       "object_position": null,
       "order": null,
       "overflow": null,
       "overflow_x": null,
       "overflow_y": null,
       "padding": null,
       "right": null,
       "top": null,
       "visibility": null,
       "width": null
      }
     },
     "1d17cdb026644cc1b8af428a42e1e9e6": {
      "model_module": "@jupyter-widgets/base",
      "model_module_version": "1.2.0",
      "model_name": "LayoutModel",
      "state": {
       "_model_module": "@jupyter-widgets/base",
       "_model_module_version": "1.2.0",
       "_model_name": "LayoutModel",
       "_view_count": null,
       "_view_module": "@jupyter-widgets/base",
       "_view_module_version": "1.2.0",
       "_view_name": "LayoutView",
       "align_content": null,
       "align_items": null,
       "align_self": null,
       "border": null,
       "bottom": null,
       "display": null,
       "flex": null,
       "flex_flow": null,
       "grid_area": null,
       "grid_auto_columns": null,
       "grid_auto_flow": null,
       "grid_auto_rows": null,
       "grid_column": null,
       "grid_gap": null,
       "grid_row": null,
       "grid_template_areas": null,
       "grid_template_columns": null,
       "grid_template_rows": null,
       "height": null,
       "justify_content": null,
       "justify_items": null,
       "left": null,
       "margin": null,
       "max_height": null,
       "max_width": null,
       "min_height": null,
       "min_width": null,
       "object_fit": null,
       "object_position": null,
       "order": null,
       "overflow": null,
       "overflow_x": null,
       "overflow_y": null,
       "padding": null,
       "right": null,
       "top": null,
       "visibility": null,
       "width": null
      }
     },
     "21f87ec4d61647b4a953ad2e1eed2862": {
      "model_module": "@jupyter-widgets/controls",
      "model_module_version": "1.5.0",
      "model_name": "DescriptionStyleModel",
      "state": {
       "_model_module": "@jupyter-widgets/controls",
       "_model_module_version": "1.5.0",
       "_model_name": "DescriptionStyleModel",
       "_view_count": null,
       "_view_module": "@jupyter-widgets/base",
       "_view_module_version": "1.2.0",
       "_view_name": "StyleView",
       "description_width": ""
      }
     },
     "23f5b19d749f4517a1a936eebfbfd21f": {
      "model_module": "@jupyter-widgets/base",
      "model_module_version": "1.2.0",
      "model_name": "LayoutModel",
      "state": {
       "_model_module": "@jupyter-widgets/base",
       "_model_module_version": "1.2.0",
       "_model_name": "LayoutModel",
       "_view_count": null,
       "_view_module": "@jupyter-widgets/base",
       "_view_module_version": "1.2.0",
       "_view_name": "LayoutView",
       "align_content": null,
       "align_items": null,
       "align_self": null,
       "border": null,
       "bottom": null,
       "display": null,
       "flex": null,
       "flex_flow": null,
       "grid_area": null,
       "grid_auto_columns": null,
       "grid_auto_flow": null,
       "grid_auto_rows": null,
       "grid_column": null,
       "grid_gap": null,
       "grid_row": null,
       "grid_template_areas": null,
       "grid_template_columns": null,
       "grid_template_rows": null,
       "height": null,
       "justify_content": null,
       "justify_items": null,
       "left": null,
       "margin": null,
       "max_height": null,
       "max_width": null,
       "min_height": null,
       "min_width": null,
       "object_fit": null,
       "object_position": null,
       "order": null,
       "overflow": null,
       "overflow_x": null,
       "overflow_y": null,
       "padding": null,
       "right": null,
       "top": null,
       "visibility": null,
       "width": null
      }
     },
     "2a65e42eab104e23b2da22e0c1ecfed0": {
      "model_module": "@jupyter-widgets/controls",
      "model_module_version": "1.5.0",
      "model_name": "DescriptionStyleModel",
      "state": {
       "_model_module": "@jupyter-widgets/controls",
       "_model_module_version": "1.5.0",
       "_model_name": "DescriptionStyleModel",
       "_view_count": null,
       "_view_module": "@jupyter-widgets/base",
       "_view_module_version": "1.2.0",
       "_view_name": "StyleView",
       "description_width": ""
      }
     },
     "33fb3c668c0841df9d3f44897aa17af7": {
      "model_module": "@jupyter-widgets/controls",
      "model_module_version": "1.5.0",
      "model_name": "HBoxModel",
      "state": {
       "_dom_classes": [],
       "_model_module": "@jupyter-widgets/controls",
       "_model_module_version": "1.5.0",
       "_model_name": "HBoxModel",
       "_view_count": null,
       "_view_module": "@jupyter-widgets/controls",
       "_view_module_version": "1.5.0",
       "_view_name": "HBoxView",
       "box_style": "",
       "children": [
        "IPY_MODEL_3ed09929c33e44e5ac2f88b7da01fc3d",
        "IPY_MODEL_d6c990a5e5804b968b42fd1048788e3c",
        "IPY_MODEL_ef2f4b5a0ab84f89904d16f955c59b82"
       ],
       "layout": "IPY_MODEL_fd142028e7cb4a9a97d12729f547fe11"
      }
     },
     "3afb9f1d4ce742a5861c9684f877efa6": {
      "model_module": "@jupyter-widgets/controls",
      "model_module_version": "1.5.0",
      "model_name": "HTMLModel",
      "state": {
       "_dom_classes": [],
       "_model_module": "@jupyter-widgets/controls",
       "_model_module_version": "1.5.0",
       "_model_name": "HTMLModel",
       "_view_count": null,
       "_view_module": "@jupyter-widgets/controls",
       "_view_module_version": "1.5.0",
       "_view_name": "HTMLView",
       "description": "",
       "description_tooltip": null,
       "layout": "IPY_MODEL_4a871ba30d374ac9a2db3c896f721f9b",
       "placeholder": "​",
       "style": "IPY_MODEL_21f87ec4d61647b4a953ad2e1eed2862",
       "value": "Downloading (…)lve/main/config.json: 100%"
      }
     },
     "3ed09929c33e44e5ac2f88b7da01fc3d": {
      "model_module": "@jupyter-widgets/controls",
      "model_module_version": "1.5.0",
      "model_name": "HTMLModel",
      "state": {
       "_dom_classes": [],
       "_model_module": "@jupyter-widgets/controls",
       "_model_module_version": "1.5.0",
       "_model_name": "HTMLModel",
       "_view_count": null,
       "_view_module": "@jupyter-widgets/controls",
       "_view_module_version": "1.5.0",
       "_view_name": "HTMLView",
       "description": "",
       "description_tooltip": null,
       "layout": "IPY_MODEL_1ba9bd2769db4272a53309d97326bf20",
       "placeholder": "​",
       "style": "IPY_MODEL_d3094e24758542e08ea725f775f7eeb1",
       "value": "Downloading (…)cial_tokens_map.json: 100%"
      }
     },
     "42e4c0b3fd224726bba5b1db5f874971": {
      "model_module": "@jupyter-widgets/controls",
      "model_module_version": "1.5.0",
      "model_name": "FloatProgressModel",
      "state": {
       "_dom_classes": [],
       "_model_module": "@jupyter-widgets/controls",
       "_model_module_version": "1.5.0",
       "_model_name": "FloatProgressModel",
       "_view_count": null,
       "_view_module": "@jupyter-widgets/controls",
       "_view_module_version": "1.5.0",
       "_view_name": "ProgressView",
       "bar_style": "success",
       "description": "",
       "description_tooltip": null,
       "layout": "IPY_MODEL_59bd02cbc0814b58b0541d6843efeae7",
       "max": 553.0,
       "min": 0.0,
       "orientation": "horizontal",
       "style": "IPY_MODEL_5ce65077c84f46deb1d342cba83b0b61",
       "value": 553.0
      }
     },
     "4a871ba30d374ac9a2db3c896f721f9b": {
      "model_module": "@jupyter-widgets/base",
      "model_module_version": "1.2.0",
      "model_name": "LayoutModel",
      "state": {
       "_model_module": "@jupyter-widgets/base",
       "_model_module_version": "1.2.0",
       "_model_name": "LayoutModel",
       "_view_count": null,
       "_view_module": "@jupyter-widgets/base",
       "_view_module_version": "1.2.0",
       "_view_name": "LayoutView",
       "align_content": null,
       "align_items": null,
       "align_self": null,
       "border": null,
       "bottom": null,
       "display": null,
       "flex": null,
       "flex_flow": null,
       "grid_area": null,
       "grid_auto_columns": null,
       "grid_auto_flow": null,
       "grid_auto_rows": null,
       "grid_column": null,
       "grid_gap": null,
       "grid_row": null,
       "grid_template_areas": null,
       "grid_template_columns": null,
       "grid_template_rows": null,
       "height": null,
       "justify_content": null,
       "justify_items": null,
       "left": null,
       "margin": null,
       "max_height": null,
       "max_width": null,
       "min_height": null,
       "min_width": null,
       "object_fit": null,
       "object_position": null,
       "order": null,
       "overflow": null,
       "overflow_x": null,
       "overflow_y": null,
       "padding": null,
       "right": null,
       "top": null,
       "visibility": null,
       "width": null
      }
     },
     "5103a31c40a04743ab1cf291df8d08c6": {
      "model_module": "@jupyter-widgets/controls",
      "model_module_version": "1.5.0",
      "model_name": "DescriptionStyleModel",
      "state": {
       "_model_module": "@jupyter-widgets/controls",
       "_model_module_version": "1.5.0",
       "_model_name": "DescriptionStyleModel",
       "_view_count": null,
       "_view_module": "@jupyter-widgets/base",
       "_view_module_version": "1.2.0",
       "_view_name": "StyleView",
       "description_width": ""
      }
     },
     "59bd02cbc0814b58b0541d6843efeae7": {
      "model_module": "@jupyter-widgets/base",
      "model_module_version": "1.2.0",
      "model_name": "LayoutModel",
      "state": {
       "_model_module": "@jupyter-widgets/base",
       "_model_module_version": "1.2.0",
       "_model_name": "LayoutModel",
       "_view_count": null,
       "_view_module": "@jupyter-widgets/base",
       "_view_module_version": "1.2.0",
       "_view_name": "LayoutView",
       "align_content": null,
       "align_items": null,
       "align_self": null,
       "border": null,
       "bottom": null,
       "display": null,
       "flex": null,
       "flex_flow": null,
       "grid_area": null,
       "grid_auto_columns": null,
       "grid_auto_flow": null,
       "grid_auto_rows": null,
       "grid_column": null,
       "grid_gap": null,
       "grid_row": null,
       "grid_template_areas": null,
       "grid_template_columns": null,
       "grid_template_rows": null,
       "height": null,
       "justify_content": null,
       "justify_items": null,
       "left": null,
       "margin": null,
       "max_height": null,
       "max_width": null,
       "min_height": null,
       "min_width": null,
       "object_fit": null,
       "object_position": null,
       "order": null,
       "overflow": null,
       "overflow_x": null,
       "overflow_y": null,
       "padding": null,
       "right": null,
       "top": null,
       "visibility": null,
       "width": null
      }
     },
     "5ce65077c84f46deb1d342cba83b0b61": {
      "model_module": "@jupyter-widgets/controls",
      "model_module_version": "1.5.0",
      "model_name": "ProgressStyleModel",
      "state": {
       "_model_module": "@jupyter-widgets/controls",
       "_model_module_version": "1.5.0",
       "_model_name": "ProgressStyleModel",
       "_view_count": null,
       "_view_module": "@jupyter-widgets/base",
       "_view_module_version": "1.2.0",
       "_view_name": "StyleView",
       "bar_color": null,
       "description_width": ""
      }
     },
     "6125173cc1404bee9dabd9a55bf87e98": {
      "model_module": "@jupyter-widgets/controls",
      "model_module_version": "1.5.0",
      "model_name": "FloatProgressModel",
      "state": {
       "_dom_classes": [],
       "_model_module": "@jupyter-widgets/controls",
       "_model_module_version": "1.5.0",
       "_model_name": "FloatProgressModel",
       "_view_count": null,
       "_view_module": "@jupyter-widgets/controls",
       "_view_module_version": "1.5.0",
       "_view_name": "ProgressView",
       "bar_style": "success",
       "description": "",
       "description_tooltip": null,
       "layout": "IPY_MODEL_f18db12bd56c41c1a8b55da5b375eccd",
       "max": 82.0,
       "min": 0.0,
       "orientation": "horizontal",
       "style": "IPY_MODEL_e52ee276adb743348a4e0c21d86abed6",
       "value": 82.0
      }
     },
     "8026270acff740648520f82a5dfcc2b0": {
      "model_module": "@jupyter-widgets/base",
      "model_module_version": "1.2.0",
      "model_name": "LayoutModel",
      "state": {
       "_model_module": "@jupyter-widgets/base",
       "_model_module_version": "1.2.0",
       "_model_name": "LayoutModel",
       "_view_count": null,
       "_view_module": "@jupyter-widgets/base",
       "_view_module_version": "1.2.0",
       "_view_name": "LayoutView",
       "align_content": null,
       "align_items": null,
       "align_self": null,
       "border": null,
       "bottom": null,
       "display": null,
       "flex": null,
       "flex_flow": null,
       "grid_area": null,
       "grid_auto_columns": null,
       "grid_auto_flow": null,
       "grid_auto_rows": null,
       "grid_column": null,
       "grid_gap": null,
       "grid_row": null,
       "grid_template_areas": null,
       "grid_template_columns": null,
       "grid_template_rows": null,
       "height": null,
       "justify_content": null,
       "justify_items": null,
       "left": null,
       "margin": null,
       "max_height": null,
       "max_width": null,
       "min_height": null,
       "min_width": null,
       "object_fit": null,
       "object_position": null,
       "order": null,
       "overflow": null,
       "overflow_x": null,
       "overflow_y": null,
       "padding": null,
       "right": null,
       "top": null,
       "visibility": null,
       "width": null
      }
     },
     "868bd759b69244fc997bd7135dac9946": {
      "model_module": "@jupyter-widgets/controls",
      "model_module_version": "1.5.0",
      "model_name": "DescriptionStyleModel",
      "state": {
       "_model_module": "@jupyter-widgets/controls",
       "_model_module_version": "1.5.0",
       "_model_name": "DescriptionStyleModel",
       "_view_count": null,
       "_view_module": "@jupyter-widgets/base",
       "_view_module_version": "1.2.0",
       "_view_name": "StyleView",
       "description_width": ""
      }
     },
     "8776e080960943049c1088e1c5ce7720": {
      "model_module": "@jupyter-widgets/controls",
      "model_module_version": "1.5.0",
      "model_name": "DescriptionStyleModel",
      "state": {
       "_model_module": "@jupyter-widgets/controls",
       "_model_module_version": "1.5.0",
       "_model_name": "DescriptionStyleModel",
       "_view_count": null,
       "_view_module": "@jupyter-widgets/base",
       "_view_module_version": "1.2.0",
       "_view_name": "StyleView",
       "description_width": ""
      }
     },
     "88dc18497d8d49939d777f64e9f499e9": {
      "model_module": "@jupyter-widgets/controls",
      "model_module_version": "1.5.0",
      "model_name": "HTMLModel",
      "state": {
       "_dom_classes": [],
       "_model_module": "@jupyter-widgets/controls",
       "_model_module_version": "1.5.0",
       "_model_name": "HTMLModel",
       "_view_count": null,
       "_view_module": "@jupyter-widgets/controls",
       "_view_module_version": "1.5.0",
       "_view_name": "HTMLView",
       "description": "",
       "description_tooltip": null,
       "layout": "IPY_MODEL_a8e6d0ced9d24d7196ea4f09467c0b37",
       "placeholder": "​",
       "style": "IPY_MODEL_8776e080960943049c1088e1c5ce7720",
       "value": "Downloading (…)ve/main/spiece.model: 100%"
      }
     },
     "9048fb59e6e04fcd879cc43329ae6c25": {
      "model_module": "@jupyter-widgets/base",
      "model_module_version": "1.2.0",
      "model_name": "LayoutModel",
      "state": {
       "_model_module": "@jupyter-widgets/base",
       "_model_module_version": "1.2.0",
       "_model_name": "LayoutModel",
       "_view_count": null,
       "_view_module": "@jupyter-widgets/base",
       "_view_module_version": "1.2.0",
       "_view_name": "LayoutView",
       "align_content": null,
       "align_items": null,
       "align_self": null,
       "border": null,
       "bottom": null,
       "display": null,
       "flex": null,
       "flex_flow": null,
       "grid_area": null,
       "grid_auto_columns": null,
       "grid_auto_flow": null,
       "grid_auto_rows": null,
       "grid_column": null,
       "grid_gap": null,
       "grid_row": null,
       "grid_template_areas": null,
       "grid_template_columns": null,
       "grid_template_rows": null,
       "height": null,
       "justify_content": null,
       "justify_items": null,
       "left": null,
       "margin": null,
       "max_height": null,
       "max_width": null,
       "min_height": null,
       "min_width": null,
       "object_fit": null,
       "object_position": null,
       "order": null,
       "overflow": null,
       "overflow_x": null,
       "overflow_y": null,
       "padding": null,
       "right": null,
       "top": null,
       "visibility": null,
       "width": null
      }
     },
     "91e9559e3b714ca9bd7578a7de6916b1": {
      "model_module": "@jupyter-widgets/controls",
      "model_module_version": "1.5.0",
      "model_name": "ProgressStyleModel",
      "state": {
       "_model_module": "@jupyter-widgets/controls",
       "_model_module_version": "1.5.0",
       "_model_name": "ProgressStyleModel",
       "_view_count": null,
       "_view_module": "@jupyter-widgets/base",
       "_view_module_version": "1.2.0",
       "_view_name": "StyleView",
       "bar_color": null,
       "description_width": ""
      }
     },
     "9a30615bee36465081c2c21456a4ff7e": {
      "model_module": "@jupyter-widgets/controls",
      "model_module_version": "1.5.0",
      "model_name": "HTMLModel",
      "state": {
       "_dom_classes": [],
       "_model_module": "@jupyter-widgets/controls",
       "_model_module_version": "1.5.0",
       "_model_name": "HTMLModel",
       "_view_count": null,
       "_view_module": "@jupyter-widgets/controls",
       "_view_module_version": "1.5.0",
       "_view_name": "HTMLView",
       "description": "",
       "description_tooltip": null,
       "layout": "IPY_MODEL_9048fb59e6e04fcd879cc43329ae6c25",
       "placeholder": "​",
       "style": "IPY_MODEL_2a65e42eab104e23b2da22e0c1ecfed0",
       "value": " 553/553 [00:00&lt;00:00, 61.0kB/s]"
      }
     },
     "a212a9d60953418dae0e0d63a567b96c": {
      "model_module": "@jupyter-widgets/controls",
      "model_module_version": "1.5.0",
      "model_name": "HTMLModel",
      "state": {
       "_dom_classes": [],
       "_model_module": "@jupyter-widgets/controls",
       "_model_module_version": "1.5.0",
       "_model_name": "HTMLModel",
       "_view_count": null,
       "_view_module": "@jupyter-widgets/controls",
       "_view_module_version": "1.5.0",
       "_view_name": "HTMLView",
       "description": "",
       "description_tooltip": null,
       "layout": "IPY_MODEL_c4116872d1ec4fcfbf8010c956df0028",
       "placeholder": "​",
       "style": "IPY_MODEL_07429964d8594a82817ef59338fc80ce",
       "value": "Downloading (…)okenizer_config.json: 100%"
      }
     },
     "a82334d5997e490dbd96cb6dab33b4ec": {
      "model_module": "@jupyter-widgets/base",
      "model_module_version": "1.2.0",
      "model_name": "LayoutModel",
      "state": {
       "_model_module": "@jupyter-widgets/base",
       "_model_module_version": "1.2.0",
       "_model_name": "LayoutModel",
       "_view_count": null,
       "_view_module": "@jupyter-widgets/base",
       "_view_module_version": "1.2.0",
       "_view_name": "LayoutView",
       "align_content": null,
       "align_items": null,
       "align_self": null,
       "border": null,
       "bottom": null,
       "display": null,
       "flex": null,
       "flex_flow": null,
       "grid_area": null,
       "grid_auto_columns": null,
       "grid_auto_flow": null,
       "grid_auto_rows": null,
       "grid_column": null,
       "grid_gap": null,
       "grid_row": null,
       "grid_template_areas": null,
       "grid_template_columns": null,
       "grid_template_rows": null,
       "height": null,
       "justify_content": null,
       "justify_items": null,
       "left": null,
       "margin": null,
       "max_height": null,
       "max_width": null,
       "min_height": null,
       "min_width": null,
       "object_fit": null,
       "object_position": null,
       "order": null,
       "overflow": null,
       "overflow_x": null,
       "overflow_y": null,
       "padding": null,
       "right": null,
       "top": null,
       "visibility": null,
       "width": null
      }
     },
     "a8e6d0ced9d24d7196ea4f09467c0b37": {
      "model_module": "@jupyter-widgets/base",
      "model_module_version": "1.2.0",
      "model_name": "LayoutModel",
      "state": {
       "_model_module": "@jupyter-widgets/base",
       "_model_module_version": "1.2.0",
       "_model_name": "LayoutModel",
       "_view_count": null,
       "_view_module": "@jupyter-widgets/base",
       "_view_module_version": "1.2.0",
       "_view_name": "LayoutView",
       "align_content": null,
       "align_items": null,
       "align_self": null,
       "border": null,
       "bottom": null,
       "display": null,
       "flex": null,
       "flex_flow": null,
       "grid_area": null,
       "grid_auto_columns": null,
       "grid_auto_flow": null,
       "grid_auto_rows": null,
       "grid_column": null,
       "grid_gap": null,
       "grid_row": null,
       "grid_template_areas": null,
       "grid_template_columns": null,
       "grid_template_rows": null,
       "height": null,
       "justify_content": null,
       "justify_items": null,
       "left": null,
       "margin": null,
       "max_height": null,
       "max_width": null,
       "min_height": null,
       "min_width": null,
       "object_fit": null,
       "object_position": null,
       "order": null,
       "overflow": null,
       "overflow_x": null,
       "overflow_y": null,
       "padding": null,
       "right": null,
       "top": null,
       "visibility": null,
       "width": null
      }
     },
     "bfc7395a316d4d46ba8aaca77e363b5f": {
      "model_module": "@jupyter-widgets/base",
      "model_module_version": "1.2.0",
      "model_name": "LayoutModel",
      "state": {
       "_model_module": "@jupyter-widgets/base",
       "_model_module_version": "1.2.0",
       "_model_name": "LayoutModel",
       "_view_count": null,
       "_view_module": "@jupyter-widgets/base",
       "_view_module_version": "1.2.0",
       "_view_name": "LayoutView",
       "align_content": null,
       "align_items": null,
       "align_self": null,
       "border": null,
       "bottom": null,
       "display": null,
       "flex": null,
       "flex_flow": null,
       "grid_area": null,
       "grid_auto_columns": null,
       "grid_auto_flow": null,
       "grid_auto_rows": null,
       "grid_column": null,
       "grid_gap": null,
       "grid_row": null,
       "grid_template_areas": null,
       "grid_template_columns": null,
       "grid_template_rows": null,
       "height": null,
       "justify_content": null,
       "justify_items": null,
       "left": null,
       "margin": null,
       "max_height": null,
       "max_width": null,
       "min_height": null,
       "min_width": null,
       "object_fit": null,
       "object_position": null,
       "order": null,
       "overflow": null,
       "overflow_x": null,
       "overflow_y": null,
       "padding": null,
       "right": null,
       "top": null,
       "visibility": null,
       "width": null
      }
     },
     "c4116872d1ec4fcfbf8010c956df0028": {
      "model_module": "@jupyter-widgets/base",
      "model_module_version": "1.2.0",
      "model_name": "LayoutModel",
      "state": {
       "_model_module": "@jupyter-widgets/base",
       "_model_module_version": "1.2.0",
       "_model_name": "LayoutModel",
       "_view_count": null,
       "_view_module": "@jupyter-widgets/base",
       "_view_module_version": "1.2.0",
       "_view_name": "LayoutView",
       "align_content": null,
       "align_items": null,
       "align_self": null,
       "border": null,
       "bottom": null,
       "display": null,
       "flex": null,
       "flex_flow": null,
       "grid_area": null,
       "grid_auto_columns": null,
       "grid_auto_flow": null,
       "grid_auto_rows": null,
       "grid_column": null,
       "grid_gap": null,
       "grid_row": null,
       "grid_template_areas": null,
       "grid_template_columns": null,
       "grid_template_rows": null,
       "height": null,
       "justify_content": null,
       "justify_items": null,
       "left": null,
       "margin": null,
       "max_height": null,
       "max_width": null,
       "min_height": null,
       "min_width": null,
       "object_fit": null,
       "object_position": null,
       "order": null,
       "overflow": null,
       "overflow_x": null,
       "overflow_y": null,
       "padding": null,
       "right": null,
       "top": null,
       "visibility": null,
       "width": null
      }
     },
     "c521ffce4f6f4617bd811c0cab2ef94a": {
      "model_module": "@jupyter-widgets/base",
      "model_module_version": "1.2.0",
      "model_name": "LayoutModel",
      "state": {
       "_model_module": "@jupyter-widgets/base",
       "_model_module_version": "1.2.0",
       "_model_name": "LayoutModel",
       "_view_count": null,
       "_view_module": "@jupyter-widgets/base",
       "_view_module_version": "1.2.0",
       "_view_name": "LayoutView",
       "align_content": null,
       "align_items": null,
       "align_self": null,
       "border": null,
       "bottom": null,
       "display": null,
       "flex": null,
       "flex_flow": null,
       "grid_area": null,
       "grid_auto_columns": null,
       "grid_auto_flow": null,
       "grid_auto_rows": null,
       "grid_column": null,
       "grid_gap": null,
       "grid_row": null,
       "grid_template_areas": null,
       "grid_template_columns": null,
       "grid_template_rows": null,
       "height": null,
       "justify_content": null,
       "justify_items": null,
       "left": null,
       "margin": null,
       "max_height": null,
       "max_width": null,
       "min_height": null,
       "min_width": null,
       "object_fit": null,
       "object_position": null,
       "order": null,
       "overflow": null,
       "overflow_x": null,
       "overflow_y": null,
       "padding": null,
       "right": null,
       "top": null,
       "visibility": null,
       "width": null
      }
     },
     "cd6bf31bef8f4841a473e82f5dbbea7c": {
      "model_module": "@jupyter-widgets/controls",
      "model_module_version": "1.5.0",
      "model_name": "FloatProgressModel",
      "state": {
       "_dom_classes": [],
       "_model_module": "@jupyter-widgets/controls",
       "_model_module_version": "1.5.0",
       "_model_name": "FloatProgressModel",
       "_view_count": null,
       "_view_module": "@jupyter-widgets/controls",
       "_view_module_version": "1.5.0",
       "_view_name": "ProgressView",
       "bar_style": "success",
       "description": "",
       "description_tooltip": null,
       "layout": "IPY_MODEL_23f5b19d749f4517a1a936eebfbfd21f",
       "max": 4309802.0,
       "min": 0.0,
       "orientation": "horizontal",
       "style": "IPY_MODEL_91e9559e3b714ca9bd7578a7de6916b1",
       "value": 4309802.0
      }
     },
     "cff1f592d78b4caa98383706d0a87844": {
      "model_module": "@jupyter-widgets/base",
      "model_module_version": "1.2.0",
      "model_name": "LayoutModel",
      "state": {
       "_model_module": "@jupyter-widgets/base",
       "_model_module_version": "1.2.0",
       "_model_name": "LayoutModel",
       "_view_count": null,
       "_view_module": "@jupyter-widgets/base",
       "_view_module_version": "1.2.0",
       "_view_name": "LayoutView",
       "align_content": null,
       "align_items": null,
       "align_self": null,
       "border": null,
       "bottom": null,
       "display": null,
       "flex": null,
       "flex_flow": null,
       "grid_area": null,
       "grid_auto_columns": null,
       "grid_auto_flow": null,
       "grid_auto_rows": null,
       "grid_column": null,
       "grid_gap": null,
       "grid_row": null,
       "grid_template_areas": null,
       "grid_template_columns": null,
       "grid_template_rows": null,
       "height": null,
       "justify_content": null,
       "justify_items": null,
       "left": null,
       "margin": null,
       "max_height": null,
       "max_width": null,
       "min_height": null,
       "min_width": null,
       "object_fit": null,
       "object_position": null,
       "order": null,
       "overflow": null,
       "overflow_x": null,
       "overflow_y": null,
       "padding": null,
       "right": null,
       "top": null,
       "visibility": null,
       "width": null
      }
     },
     "d01391dca07b451294c136445654786c": {
      "model_module": "@jupyter-widgets/controls",
      "model_module_version": "1.5.0",
      "model_name": "HBoxModel",
      "state": {
       "_dom_classes": [],
       "_model_module": "@jupyter-widgets/controls",
       "_model_module_version": "1.5.0",
       "_model_name": "HBoxModel",
       "_view_count": null,
       "_view_module": "@jupyter-widgets/controls",
       "_view_module_version": "1.5.0",
       "_view_name": "HBoxView",
       "box_style": "",
       "children": [
        "IPY_MODEL_3afb9f1d4ce742a5861c9684f877efa6",
        "IPY_MODEL_42e4c0b3fd224726bba5b1db5f874971",
        "IPY_MODEL_9a30615bee36465081c2c21456a4ff7e"
       ],
       "layout": "IPY_MODEL_1d17cdb026644cc1b8af428a42e1e9e6"
      }
     },
     "d3094e24758542e08ea725f775f7eeb1": {
      "model_module": "@jupyter-widgets/controls",
      "model_module_version": "1.5.0",
      "model_name": "DescriptionStyleModel",
      "state": {
       "_model_module": "@jupyter-widgets/controls",
       "_model_module_version": "1.5.0",
       "_model_name": "DescriptionStyleModel",
       "_view_count": null,
       "_view_module": "@jupyter-widgets/base",
       "_view_module_version": "1.2.0",
       "_view_name": "StyleView",
       "description_width": ""
      }
     },
     "d318e2e6db424d3987a60726565d47cd": {
      "model_module": "@jupyter-widgets/controls",
      "model_module_version": "1.5.0",
      "model_name": "ProgressStyleModel",
      "state": {
       "_model_module": "@jupyter-widgets/controls",
       "_model_module_version": "1.5.0",
       "_model_name": "ProgressStyleModel",
       "_view_count": null,
       "_view_module": "@jupyter-widgets/base",
       "_view_module_version": "1.2.0",
       "_view_name": "StyleView",
       "bar_color": null,
       "description_width": ""
      }
     },
     "d6c990a5e5804b968b42fd1048788e3c": {
      "model_module": "@jupyter-widgets/controls",
      "model_module_version": "1.5.0",
      "model_name": "FloatProgressModel",
      "state": {
       "_dom_classes": [],
       "_model_module": "@jupyter-widgets/controls",
       "_model_module_version": "1.5.0",
       "_model_name": "FloatProgressModel",
       "_view_count": null,
       "_view_module": "@jupyter-widgets/controls",
       "_view_module_version": "1.5.0",
       "_view_name": "ProgressView",
       "bar_style": "success",
       "description": "",
       "description_tooltip": null,
       "layout": "IPY_MODEL_0f617e3d13914459bb4566c2a66cae69",
       "max": 99.0,
       "min": 0.0,
       "orientation": "horizontal",
       "style": "IPY_MODEL_d318e2e6db424d3987a60726565d47cd",
       "value": 99.0
      }
     },
     "df2e5763d82a46c8806d093344d458e2": {
      "model_module": "@jupyter-widgets/controls",
      "model_module_version": "1.5.0",
      "model_name": "HBoxModel",
      "state": {
       "_dom_classes": [],
       "_model_module": "@jupyter-widgets/controls",
       "_model_module_version": "1.5.0",
       "_model_name": "HBoxModel",
       "_view_count": null,
       "_view_module": "@jupyter-widgets/controls",
       "_view_module_version": "1.5.0",
       "_view_name": "HBoxView",
       "box_style": "",
       "children": [
        "IPY_MODEL_a212a9d60953418dae0e0d63a567b96c",
        "IPY_MODEL_6125173cc1404bee9dabd9a55bf87e98",
        "IPY_MODEL_fcfd2aa127b54206b34afe38895c3e68"
       ],
       "layout": "IPY_MODEL_a82334d5997e490dbd96cb6dab33b4ec"
      }
     },
     "e0cea4c588c34c10986874cc498a283b": {
      "model_module": "@jupyter-widgets/controls",
      "model_module_version": "1.5.0",
      "model_name": "HBoxModel",
      "state": {
       "_dom_classes": [],
       "_model_module": "@jupyter-widgets/controls",
       "_model_module_version": "1.5.0",
       "_model_name": "HBoxModel",
       "_view_count": null,
       "_view_module": "@jupyter-widgets/controls",
       "_view_module_version": "1.5.0",
       "_view_name": "HBoxView",
       "box_style": "",
       "children": [
        "IPY_MODEL_88dc18497d8d49939d777f64e9f499e9",
        "IPY_MODEL_cd6bf31bef8f4841a473e82f5dbbea7c",
        "IPY_MODEL_e108b824ee704b9eaae9e93375d25449"
       ],
       "layout": "IPY_MODEL_8026270acff740648520f82a5dfcc2b0"
      }
     },
     "e108b824ee704b9eaae9e93375d25449": {
      "model_module": "@jupyter-widgets/controls",
      "model_module_version": "1.5.0",
      "model_name": "HTMLModel",
      "state": {
       "_dom_classes": [],
       "_model_module": "@jupyter-widgets/controls",
       "_model_module_version": "1.5.0",
       "_model_name": "HTMLModel",
       "_view_count": null,
       "_view_module": "@jupyter-widgets/controls",
       "_view_module_version": "1.5.0",
       "_view_name": "HTMLView",
       "description": "",
       "description_tooltip": null,
       "layout": "IPY_MODEL_bfc7395a316d4d46ba8aaca77e363b5f",
       "placeholder": "​",
       "style": "IPY_MODEL_868bd759b69244fc997bd7135dac9946",
       "value": " 4.31M/4.31M [00:00&lt;00:00, 9.86MB/s]"
      }
     },
     "e52ee276adb743348a4e0c21d86abed6": {
      "model_module": "@jupyter-widgets/controls",
      "model_module_version": "1.5.0",
      "model_name": "ProgressStyleModel",
      "state": {
       "_model_module": "@jupyter-widgets/controls",
       "_model_module_version": "1.5.0",
       "_model_name": "ProgressStyleModel",
       "_view_count": null,
       "_view_module": "@jupyter-widgets/base",
       "_view_module_version": "1.2.0",
       "_view_name": "StyleView",
       "bar_color": null,
       "description_width": ""
      }
     },
     "ef2f4b5a0ab84f89904d16f955c59b82": {
      "model_module": "@jupyter-widgets/controls",
      "model_module_version": "1.5.0",
      "model_name": "HTMLModel",
      "state": {
       "_dom_classes": [],
       "_model_module": "@jupyter-widgets/controls",
       "_model_module_version": "1.5.0",
       "_model_name": "HTMLModel",
       "_view_count": null,
       "_view_module": "@jupyter-widgets/controls",
       "_view_module_version": "1.5.0",
       "_view_name": "HTMLView",
       "description": "",
       "description_tooltip": null,
       "layout": "IPY_MODEL_cff1f592d78b4caa98383706d0a87844",
       "placeholder": "​",
       "style": "IPY_MODEL_5103a31c40a04743ab1cf291df8d08c6",
       "value": " 99.0/99.0 [00:00&lt;00:00, 10.5kB/s]"
      }
     },
     "f18db12bd56c41c1a8b55da5b375eccd": {
      "model_module": "@jupyter-widgets/base",
      "model_module_version": "1.2.0",
      "model_name": "LayoutModel",
      "state": {
       "_model_module": "@jupyter-widgets/base",
       "_model_module_version": "1.2.0",
       "_model_name": "LayoutModel",
       "_view_count": null,
       "_view_module": "@jupyter-widgets/base",
       "_view_module_version": "1.2.0",
       "_view_name": "LayoutView",
       "align_content": null,
       "align_items": null,
       "align_self": null,
       "border": null,
       "bottom": null,
       "display": null,
       "flex": null,
       "flex_flow": null,
       "grid_area": null,
       "grid_auto_columns": null,
       "grid_auto_flow": null,
       "grid_auto_rows": null,
       "grid_column": null,
       "grid_gap": null,
       "grid_row": null,
       "grid_template_areas": null,
       "grid_template_columns": null,
       "grid_template_rows": null,
       "height": null,
       "justify_content": null,
       "justify_items": null,
       "left": null,
       "margin": null,
       "max_height": null,
       "max_width": null,
       "min_height": null,
       "min_width": null,
       "object_fit": null,
       "object_position": null,
       "order": null,
       "overflow": null,
       "overflow_x": null,
       "overflow_y": null,
       "padding": null,
       "right": null,
       "top": null,
       "visibility": null,
       "width": null
      }
     },
     "f4a3a1da885b4ef090a9ae06deda3ca6": {
      "model_module": "@jupyter-widgets/controls",
      "model_module_version": "1.5.0",
      "model_name": "DescriptionStyleModel",
      "state": {
       "_model_module": "@jupyter-widgets/controls",
       "_model_module_version": "1.5.0",
       "_model_name": "DescriptionStyleModel",
       "_view_count": null,
       "_view_module": "@jupyter-widgets/base",
       "_view_module_version": "1.2.0",
       "_view_name": "StyleView",
       "description_width": ""
      }
     },
     "fcfd2aa127b54206b34afe38895c3e68": {
      "model_module": "@jupyter-widgets/controls",
      "model_module_version": "1.5.0",
      "model_name": "HTMLModel",
      "state": {
       "_dom_classes": [],
       "_model_module": "@jupyter-widgets/controls",
       "_model_module_version": "1.5.0",
       "_model_name": "HTMLModel",
       "_view_count": null,
       "_view_module": "@jupyter-widgets/controls",
       "_view_module_version": "1.5.0",
       "_view_name": "HTMLView",
       "description": "",
       "description_tooltip": null,
       "layout": "IPY_MODEL_c521ffce4f6f4617bd811c0cab2ef94a",
       "placeholder": "​",
       "style": "IPY_MODEL_f4a3a1da885b4ef090a9ae06deda3ca6",
       "value": " 82.0/82.0 [00:00&lt;00:00, 8.85kB/s]"
      }
     },
     "fd142028e7cb4a9a97d12729f547fe11": {
      "model_module": "@jupyter-widgets/base",
      "model_module_version": "1.2.0",
      "model_name": "LayoutModel",
      "state": {
       "_model_module": "@jupyter-widgets/base",
       "_model_module_version": "1.2.0",
       "_model_name": "LayoutModel",
       "_view_count": null,
       "_view_module": "@jupyter-widgets/base",
       "_view_module_version": "1.2.0",
       "_view_name": "LayoutView",
       "align_content": null,
       "align_items": null,
       "align_self": null,
       "border": null,
       "bottom": null,
       "display": null,
       "flex": null,
       "flex_flow": null,
       "grid_area": null,
       "grid_auto_columns": null,
       "grid_auto_flow": null,
       "grid_auto_rows": null,
       "grid_column": null,
       "grid_gap": null,
       "grid_row": null,
       "grid_template_areas": null,
       "grid_template_columns": null,
       "grid_template_rows": null,
       "height": null,
       "justify_content": null,
       "justify_items": null,
       "left": null,
       "margin": null,
       "max_height": null,
       "max_width": null,
       "min_height": null,
       "min_width": null,
       "object_fit": null,
       "object_position": null,
       "order": null,
       "overflow": null,
       "overflow_x": null,
       "overflow_y": null,
       "padding": null,
       "right": null,
       "top": null,
       "visibility": null,
       "width": null
      }
     }
    },
    "version_major": 2,
    "version_minor": 0
   }
  }
 },
 "nbformat": 4,
 "nbformat_minor": 5
}
