{
 "cells": [
  {
   "cell_type": "markdown",
   "id": "f6c68329",
   "metadata": {
    "execution": {
     "iopub.execute_input": "2023-10-18T09:51:16.645509Z",
     "iopub.status.busy": "2023-10-18T09:51:16.644618Z",
     "iopub.status.idle": "2023-10-18T09:51:16.654377Z",
     "shell.execute_reply": "2023-10-18T09:51:16.653448Z",
     "shell.execute_reply.started": "2023-10-18T09:51:16.645468Z"
    },
    "papermill": {
     "duration": 0.013464,
     "end_time": "2023-10-29T14:59:15.337545",
     "exception": false,
     "start_time": "2023-10-29T14:59:15.324081",
     "status": "completed"
    },
    "tags": []
   },
   "source": [
    "## `DESCRIPTION ABOUT THE PROBLEM`\n",
    "# Overview\n",
    "\n",
    "**Bengali Text to IPA (International Phonetic Alphabet) Transcription** is an area that has seen relatively limited development compared to other languages, despite Bengali being one of the world's most widely spoken native languages. There is a growing need for automated systems that can accurately convert Bengali text into IPA notation due to the vast audience and various applications in linguistics, language learning, and phonetic research. Having this in mind, we welcome participants to participate in **DataVerse**, a part of **ITVerse 2023** organized by IIT Software Engineers' Community (IITSEC) as we partner with **Bengali.AI** to advance research in Bengali text to IPA domain.\n",
    "\n",
    "# [Description](http://www.kaggle.com/competitions/dataverse_2023/overview/description)\n",
    "\n",
    "## Goal of the Competition\n",
    "\n",
    "The goal of this competition is to recognize model IPA transcription from Bengali texts(Remember the greek characters in the dictionary, to help you find out the accurate pronunciation of words? That was International Phonetic Alphabet (IPA) transcription! You will build a model trained on a linguist validated dataset containing Bengali text from different domains. The test set contains numbers, loan-words and domain-specific words to add to the challenge.\n",
    "\n",
    "Your efforts could improve Bengali computational linguistics and NLP research using the first Bengali sentence level IPA transcription dataset from Bengali.AI . In addition, your submission will be among the first open-source IPA transcription methods for Bengali.\n",
    "\n",
    "\n",
    "# Evaluation\n",
    "\n",
    "Submissions are evaluated by a mean **Word Error Rate**, proceeding as follows:\n",
    "\n",
    "1. The WER is computed for each instance in the test set.\n",
    "2. The WERs are averaged within domains, weighted by the number of words in the sentence.\n",
    "3. The (unweighted) mean of the domain averages is the final score.\n",
    "\n",
    "# [Rules for the Competition](http://https://www.kaggle.com/competitions/dataverse_2023/rules)\n",
    "\n",
    "*     Registration is mandatory to participate in all the phases of the contest.\n",
    "*     Only one account per participant in Kaggle will be allowed.\n",
    "*     Participants are allowed to use external data, but the data has to be disclosed publicly before the final round.\n",
    "*     The use of the internet is allowed for research and reference, but **API calls are not permitted.**\n",
    "*     All teams must submit working Kaggle notebooks for training and inference (and the models too), including appropriate instructions and documentation for reproducibility. The inference notebook must run on Kaggle Notebooks.\n",
    "*     Teams are required to make all scripts, data, and reports publicly available.\n",
    "*     No private code sharing outside teams.\n",
    "*     Teams must prepare a project report of at least 2 pages. The paper has to be in IEEE/ACM (2 column) format.\n"
   ]
  },
  {
   "cell_type": "markdown",
   "id": "9d7ddeda",
   "metadata": {
    "papermill": {
     "duration": 0.013021,
     "end_time": "2023-10-29T14:59:15.363677",
     "exception": false,
     "start_time": "2023-10-29T14:59:15.350656",
     "status": "completed"
    },
    "tags": []
   },
   "source": [
    "## `NOW SOLUTION`\n",
    "\n",
    "# 1. Predicting the IPA of `Bangla` words using machine learning.\n",
    "\n",
    "In this notebook, we're going to go through an example machine learning project with the goal of predicting the IPA of `Bangla` words.\n",
    "\n"
   ]
  },
  {
   "cell_type": "markdown",
   "id": "6afada44",
   "metadata": {
    "papermill": {
     "duration": 0.01295,
     "end_time": "2023-10-29T14:59:15.390216",
     "exception": false,
     "start_time": "2023-10-29T14:59:15.377266",
     "status": "completed"
    },
    "tags": []
   },
   "source": [
    "## Import Necessary Libraries"
   ]
  },
  {
   "cell_type": "code",
   "execution_count": 1,
   "id": "09f7467f",
   "metadata": {
    "execution": {
     "iopub.execute_input": "2023-10-29T14:59:15.418708Z",
     "iopub.status.busy": "2023-10-29T14:59:15.418182Z",
     "iopub.status.idle": "2023-10-29T14:59:17.359916Z",
     "shell.execute_reply": "2023-10-29T14:59:17.358920Z"
    },
    "papermill": {
     "duration": 1.959292,
     "end_time": "2023-10-29T14:59:17.362743",
     "exception": false,
     "start_time": "2023-10-29T14:59:15.403451",
     "status": "completed"
    },
    "tags": []
   },
   "outputs": [
    {
     "name": "stderr",
     "output_type": "stream",
     "text": [
      "/opt/conda/lib/python3.10/site-packages/scipy/__init__.py:146: UserWarning: A NumPy version >=1.16.5 and <1.23.0 is required for this version of SciPy (detected version 1.23.5\n",
      "  warnings.warn(f\"A NumPy version >={np_minversion} and <{np_maxversion}\"\n"
     ]
    }
   ],
   "source": [
    "# Regular EDA(exploratory data analysis) and plotting libraries\n",
    "import numpy as np\n",
    "import pandas as pd\n",
    "import matplotlib.pyplot as plt\n",
    "\n",
    "from sklearn.model_selection import train_test_split\n",
    "%matplotlib inline\n",
    "\n",
    "from tqdm import tqdm\n",
    "import string\n",
    "import statistics\n",
    "import re\n",
    "import joblib\n",
    "import random"
   ]
  },
  {
   "cell_type": "markdown",
   "id": "d7de5c56",
   "metadata": {
    "papermill": {
     "duration": 0.013433,
     "end_time": "2023-10-29T14:59:17.389856",
     "exception": false,
     "start_time": "2023-10-29T14:59:17.376423",
     "status": "completed"
    },
    "tags": []
   },
   "source": [
    "# 2. Data"
   ]
  },
  {
   "cell_type": "markdown",
   "id": "831a7157",
   "metadata": {
    "papermill": {
     "duration": 0.013192,
     "end_time": "2023-10-29T14:59:17.416789",
     "exception": false,
     "start_time": "2023-10-29T14:59:17.403597",
     "status": "completed"
    },
    "tags": []
   },
   "source": [
    "### Submission Previously Saved"
   ]
  },
  {
   "cell_type": "code",
   "execution_count": 2,
   "id": "eda0e53d",
   "metadata": {
    "execution": {
     "iopub.execute_input": "2023-10-29T14:59:17.446168Z",
     "iopub.status.busy": "2023-10-29T14:59:17.444979Z",
     "iopub.status.idle": "2023-10-29T14:59:17.726973Z",
     "shell.execute_reply": "2023-10-29T14:59:17.725732Z"
    },
    "papermill": {
     "duration": 0.300849,
     "end_time": "2023-10-29T14:59:17.731057",
     "exception": false,
     "start_time": "2023-10-29T14:59:17.430208",
     "status": "completed"
    },
    "tags": []
   },
   "outputs": [
    {
     "data": {
      "text/html": [
       "<div>\n",
       "<style scoped>\n",
       "    .dataframe tbody tr th:only-of-type {\n",
       "        vertical-align: middle;\n",
       "    }\n",
       "\n",
       "    .dataframe tbody tr th {\n",
       "        vertical-align: top;\n",
       "    }\n",
       "\n",
       "    .dataframe thead th {\n",
       "        text-align: right;\n",
       "    }\n",
       "</style>\n",
       "<table border=\"1\" class=\"dataframe\">\n",
       "  <thead>\n",
       "    <tr style=\"text-align: right;\">\n",
       "      <th></th>\n",
       "      <th>text</th>\n",
       "      <th>ipa</th>\n",
       "    </tr>\n",
       "  </thead>\n",
       "  <tbody>\n",
       "    <tr>\n",
       "      <th>0</th>\n",
       "      <td>এরপরও তারা বকেয়া পরিশোধ করেনি।</td>\n",
       "      <td>eɾpɔɾo t̪ɐɾɐ bɔkeʲɐ poɾɪʃod̪ʱ kɔɾenɪ।</td>\n",
       "    </tr>\n",
       "    <tr>\n",
       "      <th>1</th>\n",
       "      <td>আগে সুইস ব্যাংকে জমা টাকার কোনো প্রতিবেদন প্রক...</td>\n",
       "      <td>ɐge suɪ̯s bɛŋke ɟɔmɐ tɐkɐɾ kono pɾot̪ɪbed̪ɔn p...</td>\n",
       "    </tr>\n",
       "  </tbody>\n",
       "</table>\n",
       "</div>"
      ],
      "text/plain": [
       "                                                text  \\\n",
       "0                     এরপরও তারা বকেয়া পরিশোধ করেনি।   \n",
       "1  আগে সুইস ব্যাংকে জমা টাকার কোনো প্রতিবেদন প্রক...   \n",
       "\n",
       "                                                 ipa  \n",
       "0              eɾpɔɾo t̪ɐɾɐ bɔkeʲɐ poɾɪʃod̪ʱ kɔɾenɪ।  \n",
       "1  ɐge suɪ̯s bɛŋke ɟɔmɐ tɐkɐɾ kono pɾot̪ɪbed̪ɔn p...  "
      ]
     },
     "execution_count": 2,
     "metadata": {},
     "output_type": "execute_result"
    }
   ],
   "source": [
    "# Import the training set\n",
    "df = pd.read_csv('/kaggle/input/dataverse-ipa/dataverse_2023/trainIPAdb_u.csv')\n",
    "df.head(2)"
   ]
  },
  {
   "cell_type": "code",
   "execution_count": 3,
   "id": "d167249a",
   "metadata": {
    "execution": {
     "iopub.execute_input": "2023-10-29T14:59:17.763665Z",
     "iopub.status.busy": "2023-10-29T14:59:17.763301Z",
     "iopub.status.idle": "2023-10-29T14:59:17.769163Z",
     "shell.execute_reply": "2023-10-29T14:59:17.768343Z"
    },
    "papermill": {
     "duration": 0.023031,
     "end_time": "2023-10-29T14:59:17.771304",
     "exception": false,
     "start_time": "2023-10-29T14:59:17.748273",
     "status": "completed"
    },
    "tags": []
   },
   "outputs": [
    {
     "name": "stdout",
     "output_type": "stream",
     "text": [
      "Text = দেশের ক্রিমিনোলজি বিভাগগুলোতে মলিকুলার বায়োলজি, জেনেটিক্সের মতো সাবজেক্টগুলোর প্রায়োগিক দিক সম্পর্কে নজর দেয়া উচিত।\n",
      "IPA = d̪eʃeɾ kɾɪmɪnoloɟɪ bɪbʱɐggulot̪e molɪkulɐɾ bɐʲolɔɟɪ, ɟenetɪkseɾ mɔt̪o sɐbɟektguloɾ pɾɐʲogɪk d̪ɪk ʃɔmpɔɾke noɟoɾ d̪eʲɐ ucɪt̪। \n"
     ]
    }
   ],
   "source": [
    "# See a random sample from the training set \n",
    "rand_index = np.random.randint(0, len(df))\n",
    "print(f'Text = {df.text[rand_index]}\\nIPA = {df.ipa[rand_index]}')"
   ]
  },
  {
   "cell_type": "code",
   "execution_count": 4,
   "id": "a8f4e115",
   "metadata": {
    "execution": {
     "iopub.execute_input": "2023-10-29T14:59:17.796724Z",
     "iopub.status.busy": "2023-10-29T14:59:17.796094Z",
     "iopub.status.idle": "2023-10-29T14:59:17.801845Z",
     "shell.execute_reply": "2023-10-29T14:59:17.800972Z"
    },
    "papermill": {
     "duration": 0.020713,
     "end_time": "2023-10-29T14:59:17.803877",
     "exception": false,
     "start_time": "2023-10-29T14:59:17.783164",
     "status": "completed"
    },
    "tags": []
   },
   "outputs": [
    {
     "data": {
      "text/plain": [
       "(21999, 2)"
      ]
     },
     "execution_count": 4,
     "metadata": {},
     "output_type": "execute_result"
    }
   ],
   "source": [
    "df.shape"
   ]
  },
  {
   "cell_type": "code",
   "execution_count": 5,
   "id": "66f37be1",
   "metadata": {
    "execution": {
     "iopub.execute_input": "2023-10-29T14:59:17.835117Z",
     "iopub.status.busy": "2023-10-29T14:59:17.834367Z",
     "iopub.status.idle": "2023-10-29T14:59:17.840719Z",
     "shell.execute_reply": "2023-10-29T14:59:17.839609Z"
    },
    "papermill": {
     "duration": 0.027724,
     "end_time": "2023-10-29T14:59:17.843161",
     "exception": false,
     "start_time": "2023-10-29T14:59:17.815437",
     "status": "completed"
    },
    "tags": []
   },
   "outputs": [],
   "source": [
    "ano_dict = {\n",
    "    'সে' : 'ʃe', 'তার': 't̪ɐɾ', 'তিনি': 't̪ɪnɪ', 'ইমন': 'ɪmon',\n",
    "    'ফিরে': 'pʰɪɾe', 'সরিয়ে': 'ʃoɾɪʲe', 'বলেন': 'bɔlen', 'করা': 'kɔɾɐ', 'হাজির': 'hɐɟɪɾ', 'স্বীকার': 'ʃɪkɐɾ', \n",
    "    'চালাচ্ছে': 'cɐlɐccʰe', \n",
    "    'আসে': 'ɐʃe', 'বাংলাদেশ': 'bɐŋlɐd̪eʃ', 'আদালতের' : 'ɐd̪ɐlɔt̪eɾ', 'উপস্থিত' : 'upost̪ʰɪt̪', 'কমিশন': 'kɔmɪʃon',\n",
    "    'রাখে': 'ɾɐkʰe', 'মালিক': 'mɐlɪk', 'সংবাদ': 'ʃɔŋbɐd̪'\n",
    "}"
   ]
  },
  {
   "cell_type": "code",
   "execution_count": 6,
   "id": "3c2b0db1",
   "metadata": {
    "execution": {
     "iopub.execute_input": "2023-10-29T14:59:17.877833Z",
     "iopub.status.busy": "2023-10-29T14:59:17.877083Z",
     "iopub.status.idle": "2023-10-29T14:59:17.901955Z",
     "shell.execute_reply": "2023-10-29T14:59:17.900753Z"
    },
    "papermill": {
     "duration": 0.045113,
     "end_time": "2023-10-29T14:59:17.905108",
     "exception": false,
     "start_time": "2023-10-29T14:59:17.859995",
     "status": "completed"
    },
    "tags": []
   },
   "outputs": [
    {
     "data": {
      "text/html": [
       "<div>\n",
       "<style scoped>\n",
       "    .dataframe tbody tr th:only-of-type {\n",
       "        vertical-align: middle;\n",
       "    }\n",
       "\n",
       "    .dataframe tbody tr th {\n",
       "        vertical-align: top;\n",
       "    }\n",
       "\n",
       "    .dataframe thead th {\n",
       "        text-align: right;\n",
       "    }\n",
       "</style>\n",
       "<table border=\"1\" class=\"dataframe\">\n",
       "  <thead>\n",
       "    <tr style=\"text-align: right;\">\n",
       "      <th></th>\n",
       "      <th>text</th>\n",
       "      <th>ipa</th>\n",
       "    </tr>\n",
       "  </thead>\n",
       "  <tbody>\n",
       "    <tr>\n",
       "      <th>0</th>\n",
       "      <td>আমি বলেন সাত আদালতের।</td>\n",
       "      <td>ɐmɪ bɔlen ʃɐt̪ ɐd̪ɐlɔt̪eɾ।</td>\n",
       "    </tr>\n",
       "    <tr>\n",
       "      <th>1</th>\n",
       "      <td>তুমি করা চুরানব্বই রাখে।</td>\n",
       "      <td>t̪umɪ kɔɾɐ cuɾɐnɔbboɪ ɾɐkʰe।</td>\n",
       "    </tr>\n",
       "    <tr>\n",
       "      <th>2</th>\n",
       "      <td>আমরা স্বীকার আটান্ন উপস্থিত।</td>\n",
       "      <td>ɐmɾɐ ʃɪkɐɾ ɐtɐnno upost̪ʰɪt̪।</td>\n",
       "    </tr>\n",
       "  </tbody>\n",
       "</table>\n",
       "</div>"
      ],
      "text/plain": [
       "                           text                            ipa\n",
       "0         আমি বলেন সাত আদালতের।     ɐmɪ bɔlen ʃɐt̪ ɐd̪ɐlɔt̪eɾ।\n",
       "1      তুমি করা চুরানব্বই রাখে।   t̪umɪ kɔɾɐ cuɾɐnɔbboɪ ɾɐkʰe।\n",
       "2  আমরা স্বীকার আটান্ন উপস্থিত।  ɐmɾɐ ʃɪkɐɾ ɐtɐnno upost̪ʰɪt̪।"
      ]
     },
     "execution_count": 6,
     "metadata": {},
     "output_type": "execute_result"
    }
   ],
   "source": [
    "new_df = pd.read_csv('/kaggle/input/dataverse-ipa/new_train.csv')\n",
    "new_df.head(3)"
   ]
  },
  {
   "cell_type": "code",
   "execution_count": 7,
   "id": "1f8221f0",
   "metadata": {
    "execution": {
     "iopub.execute_input": "2023-10-29T14:59:17.936602Z",
     "iopub.status.busy": "2023-10-29T14:59:17.936116Z",
     "iopub.status.idle": "2023-10-29T14:59:17.954844Z",
     "shell.execute_reply": "2023-10-29T14:59:17.953642Z"
    },
    "papermill": {
     "duration": 0.03611,
     "end_time": "2023-10-29T14:59:17.957202",
     "exception": false,
     "start_time": "2023-10-29T14:59:17.921092",
     "status": "completed"
    },
    "tags": []
   },
   "outputs": [
    {
     "name": "stdout",
     "output_type": "stream",
     "text": [
      "(17, 2)\n"
     ]
    },
    {
     "data": {
      "text/html": [
       "<div>\n",
       "<style scoped>\n",
       "    .dataframe tbody tr th:only-of-type {\n",
       "        vertical-align: middle;\n",
       "    }\n",
       "\n",
       "    .dataframe tbody tr th {\n",
       "        vertical-align: top;\n",
       "    }\n",
       "\n",
       "    .dataframe thead th {\n",
       "        text-align: right;\n",
       "    }\n",
       "</style>\n",
       "<table border=\"1\" class=\"dataframe\">\n",
       "  <thead>\n",
       "    <tr style=\"text-align: right;\">\n",
       "      <th></th>\n",
       "      <th>text</th>\n",
       "      <th>ipa</th>\n",
       "    </tr>\n",
       "  </thead>\n",
       "  <tbody>\n",
       "    <tr>\n",
       "      <th>12</th>\n",
       "      <td>৭৭/৩ ৭৭/৩ ৭৭/৩।</td>\n",
       "      <td>ʃɐt̪ɐt̪t̪oɾ/t̪ɪn ʃɐt̪ɐt̪t̪oɾ/t̪ɪn ʃɐt̪ɐt̪t̪oɾ/...</td>\n",
       "    </tr>\n",
       "    <tr>\n",
       "      <th>13</th>\n",
       "      <td>সিক্স (২+চার)।</td>\n",
       "      <td>sɪks (duɪ+cɐɾ)।</td>\n",
       "    </tr>\n",
       "    <tr>\n",
       "      <th>14</th>\n",
       "      <td>১+ চল্ চল্ চল্।</td>\n",
       "      <td>ɛk+ cɔl cɔl cɔl।</td>\n",
       "    </tr>\n",
       "    <tr>\n",
       "      <th>15</th>\n",
       "      <td>২- cɔl cɔl cɔl।</td>\n",
       "      <td>duɪ- cɔl cɔl cɔl।</td>\n",
       "    </tr>\n",
       "    <tr>\n",
       "      <th>16</th>\n",
       "      <td>৮,৫৭৪ ৮,৫৭৪ চল্ চল্ চল্।</td>\n",
       "      <td>ɐt hɐɟɐɾ pɐncʃo cuɐt̪t̪oɾ ɐt hɐɟɐɾ pɐncʃo cuɐt...</td>\n",
       "    </tr>\n",
       "  </tbody>\n",
       "</table>\n",
       "</div>"
      ],
      "text/plain": [
       "                        text  \\\n",
       "12           ৭৭/৩ ৭৭/৩ ৭৭/৩।   \n",
       "13            সিক্স (২+চার)।   \n",
       "14           ১+ চল্ চল্ চল্।   \n",
       "15           ২- cɔl cɔl cɔl।   \n",
       "16  ৮,৫৭৪ ৮,৫৭৪ চল্ চল্ চল্।   \n",
       "\n",
       "                                                  ipa  \n",
       "12  ʃɐt̪ɐt̪t̪oɾ/t̪ɪn ʃɐt̪ɐt̪t̪oɾ/t̪ɪn ʃɐt̪ɐt̪t̪oɾ/...  \n",
       "13                                    sɪks (duɪ+cɐɾ)।  \n",
       "14                                   ɛk+ cɔl cɔl cɔl।  \n",
       "15                                  duɪ- cɔl cɔl cɔl।  \n",
       "16  ɐt hɐɟɐɾ pɐncʃo cuɐt̪t̪oɾ ɐt hɐɟɐɾ pɐncʃo cuɐt...  "
      ]
     },
     "execution_count": 7,
     "metadata": {},
     "output_type": "execute_result"
    }
   ],
   "source": [
    "ex_df = pd.read_csv('/kaggle/input/dataverse-ipa/Exception - Sheet1.csv')\n",
    "print(ex_df.shape)\n",
    "ex_df.tail(5)"
   ]
  },
  {
   "cell_type": "code",
   "execution_count": 8,
   "id": "d581b9cc",
   "metadata": {
    "execution": {
     "iopub.execute_input": "2023-10-29T14:59:17.988535Z",
     "iopub.status.busy": "2023-10-29T14:59:17.987418Z",
     "iopub.status.idle": "2023-10-29T14:59:18.154183Z",
     "shell.execute_reply": "2023-10-29T14:59:18.153051Z"
    },
    "papermill": {
     "duration": 0.18526,
     "end_time": "2023-10-29T14:59:18.156568",
     "exception": false,
     "start_time": "2023-10-29T14:59:17.971308",
     "status": "completed"
    },
    "tags": []
   },
   "outputs": [
    {
     "data": {
      "text/html": [
       "<div>\n",
       "<style scoped>\n",
       "    .dataframe tbody tr th:only-of-type {\n",
       "        vertical-align: middle;\n",
       "    }\n",
       "\n",
       "    .dataframe tbody tr th {\n",
       "        vertical-align: top;\n",
       "    }\n",
       "\n",
       "    .dataframe thead th {\n",
       "        text-align: right;\n",
       "    }\n",
       "</style>\n",
       "<table border=\"1\" class=\"dataframe\">\n",
       "  <thead>\n",
       "    <tr style=\"text-align: right;\">\n",
       "      <th></th>\n",
       "      <th>row_id_column_name</th>\n",
       "      <th>text</th>\n",
       "    </tr>\n",
       "  </thead>\n",
       "  <tbody>\n",
       "    <tr>\n",
       "      <th>0</th>\n",
       "      <td>0</td>\n",
       "      <td>বিশেষ অতিথি এফএম ইকবাল বিন আনোয়ার (ডন) অ্যাডিশ...</td>\n",
       "    </tr>\n",
       "    <tr>\n",
       "      <th>1</th>\n",
       "      <td>1</td>\n",
       "      <td>এ নিয়ে বিবাদে ২০১৫ সালের ২ জুন রাত সাড়ে ১১টায় ...</td>\n",
       "    </tr>\n",
       "    <tr>\n",
       "      <th>2</th>\n",
       "      <td>2</td>\n",
       "      <td>আজ থেকে ১৪ বছর আগে তিনি চলে গেছেন না ফেরার দেশে।</td>\n",
       "    </tr>\n",
       "  </tbody>\n",
       "</table>\n",
       "</div>"
      ],
      "text/plain": [
       "   row_id_column_name                                               text\n",
       "0                   0  বিশেষ অতিথি এফএম ইকবাল বিন আনোয়ার (ডন) অ্যাডিশ...\n",
       "1                   1  এ নিয়ে বিবাদে ২০১৫ সালের ২ জুন রাত সাড়ে ১১টায় ...\n",
       "2                   2   আজ থেকে ১৪ বছর আগে তিনি চলে গেছেন না ফেরার দেশে।"
      ]
     },
     "execution_count": 8,
     "metadata": {},
     "output_type": "execute_result"
    }
   ],
   "source": [
    "test_df = pd.read_csv('/kaggle/input/dataverse-ipa/dataverse_2023/testData.csv')\n",
    "test_df.head(3)"
   ]
  },
  {
   "cell_type": "code",
   "execution_count": 9,
   "id": "c073555c",
   "metadata": {
    "execution": {
     "iopub.execute_input": "2023-10-29T14:59:18.184180Z",
     "iopub.status.busy": "2023-10-29T14:59:18.183808Z",
     "iopub.status.idle": "2023-10-29T14:59:18.192335Z",
     "shell.execute_reply": "2023-10-29T14:59:18.191434Z"
    },
    "papermill": {
     "duration": 0.023939,
     "end_time": "2023-10-29T14:59:18.194426",
     "exception": false,
     "start_time": "2023-10-29T14:59:18.170487",
     "status": "completed"
    },
    "tags": []
   },
   "outputs": [
    {
     "data": {
      "text/plain": [
       "(22999, 2)"
      ]
     },
     "execution_count": 9,
     "metadata": {},
     "output_type": "execute_result"
    }
   ],
   "source": [
    "train = pd.concat([df, new_df], axis = 0)\n",
    "train.shape"
   ]
  },
  {
   "cell_type": "code",
   "execution_count": 10,
   "id": "c152616e",
   "metadata": {
    "execution": {
     "iopub.execute_input": "2023-10-29T14:59:18.220884Z",
     "iopub.status.busy": "2023-10-29T14:59:18.220582Z",
     "iopub.status.idle": "2023-10-29T14:59:18.226203Z",
     "shell.execute_reply": "2023-10-29T14:59:18.225430Z"
    },
    "papermill": {
     "duration": 0.021259,
     "end_time": "2023-10-29T14:59:18.228285",
     "exception": false,
     "start_time": "2023-10-29T14:59:18.207026",
     "status": "completed"
    },
    "tags": []
   },
   "outputs": [],
   "source": [
    "train = train.reset_index(drop=True)"
   ]
  },
  {
   "cell_type": "code",
   "execution_count": 11,
   "id": "2ce10dec",
   "metadata": {
    "execution": {
     "iopub.execute_input": "2023-10-29T14:59:18.254743Z",
     "iopub.status.busy": "2023-10-29T14:59:18.254472Z",
     "iopub.status.idle": "2023-10-29T14:59:18.309361Z",
     "shell.execute_reply": "2023-10-29T14:59:18.308196Z"
    },
    "papermill": {
     "duration": 0.070555,
     "end_time": "2023-10-29T14:59:18.311367",
     "exception": false,
     "start_time": "2023-10-29T14:59:18.240812",
     "status": "completed"
    },
    "tags": []
   },
   "outputs": [
    {
     "name": "stdout",
     "output_type": "stream",
     "text": [
      "Length of the Df = (19, 2)\n"
     ]
    }
   ],
   "source": [
    "filt_cond = [\"১-৯\", 'A-Za-z0-9']\n",
    "# Filtering text samples that contain English alphanumeric values\n",
    "filtered_train = train[lambda x: x[\"text\"].str.contains(\"[A-Za-z0-9]\")]\n",
    "\n",
    "print(f'Length of the Df = {filtered_train.shape}')"
   ]
  },
  {
   "cell_type": "code",
   "execution_count": 12,
   "id": "9db7cdb1",
   "metadata": {
    "execution": {
     "iopub.execute_input": "2023-10-29T14:59:18.384879Z",
     "iopub.status.busy": "2023-10-29T14:59:18.384492Z",
     "iopub.status.idle": "2023-10-29T14:59:18.394711Z",
     "shell.execute_reply": "2023-10-29T14:59:18.393657Z"
    },
    "papermill": {
     "duration": 0.026514,
     "end_time": "2023-10-29T14:59:18.396753",
     "exception": false,
     "start_time": "2023-10-29T14:59:18.370239",
     "status": "completed"
    },
    "tags": []
   },
   "outputs": [
    {
     "data": {
      "text/html": [
       "<div>\n",
       "<style scoped>\n",
       "    .dataframe tbody tr th:only-of-type {\n",
       "        vertical-align: middle;\n",
       "    }\n",
       "\n",
       "    .dataframe tbody tr th {\n",
       "        vertical-align: top;\n",
       "    }\n",
       "\n",
       "    .dataframe thead th {\n",
       "        text-align: right;\n",
       "    }\n",
       "</style>\n",
       "<table border=\"1\" class=\"dataframe\">\n",
       "  <thead>\n",
       "    <tr style=\"text-align: right;\">\n",
       "      <th></th>\n",
       "      <th>text</th>\n",
       "      <th>ipa</th>\n",
       "    </tr>\n",
       "  </thead>\n",
       "  <tbody>\n",
       "    <tr>\n",
       "      <th>69</th>\n",
       "      <td>আজ তোমাদের জন্য ইংরেজি প্রথমপত্রের Part-I-Gi seen passage এবং Part-II-Gi Writing Test অংশের সাজেশন দেয়া হল।</td>\n",
       "      <td>ɐɟ t̪omɐd̪eɾ ɟonno ɪŋɾeɟɪ pɾot̪ʰompɔt̪ɾeɾ -- seen pɐssɐge eboŋ -- Wɾɪtɪng Test ɔŋʃeɾ ʃɐɟeʃon d̪eʲɐ hɔl।</td>\n",
       "    </tr>\n",
       "    <tr>\n",
       "      <th>1479</th>\n",
       "      <td>হেপাটাইটিস B ভাইরাসের প্রতিরোধে রয়েছে টিকা।</td>\n",
       "      <td>hepɐtɐɪ̯tɪs B bʱɐɪ̯ɾɐʃeɾ pɾot̪ɪɾod̪ʱe ɾoʲecʰe tɪkɐ।</td>\n",
       "    </tr>\n",
       "    <tr>\n",
       "      <th>2801</th>\n",
       "      <td>কর্মশালায় অংশগ্রহণে আগ্রহীরা বাংলাদেশ মিডিয়া ফোরামের ওয়েবসাইটের মাধ্যমে www.bdmediaforum.com/register রেজিস্ট্রেশন করতে পারবেন।</td>\n",
       "      <td>kɔɾmoʃɐlɐe̯ ɔŋʃogɾohone ɐgɾohɪɾɐ bɐŋlɐd̪eʃ mɪdɪʲɐ pʰoɾɐmeɾ oʷebʃɐɪ̯teɾ mɐd̪d̪ʱome ../ ɾeɟɪstɾeʃon koɾt̪e pɐɾben।</td>\n",
       "    </tr>\n",
       "    <tr>\n",
       "      <th>3781</th>\n",
       "      <td>এ সংক্রান্ত বিস্তারিত তথ্য বিশ্ববিদ্যালয়ের ওয়েবসাইট www.admissions. nu.edu.bd অথবা nu.edu.bd/ admissions থেকে পাওয়া যাবে।</td>\n",
       "      <td>e ʃɔŋkɾɐnt̪o bɪst̪ɐɾɪt̪o t̪ot̪t̪ʰo bɪʃʃobɪd̪d̪ɐlɔʲeɾ oʷebʃɐɪ̯t .. .. ɔt̪ʰobɐ ../ ɐdmɪssɪons t̪ʰeke pɐo̯ʷɐ ɟɐbe।</td>\n",
       "    </tr>\n",
       "  </tbody>\n",
       "</table>\n",
       "</div>"
      ],
      "text/plain": [
       "                                                                                                                                 text  \\\n",
       "69    আজ তোমাদের জন্য ইংরেজি প্রথমপত্রের Part-I-Gi seen passage এবং Part-II-Gi Writing Test অংশের সাজেশন দেয়া হল।                       \n",
       "1479  হেপাটাইটিস B ভাইরাসের প্রতিরোধে রয়েছে টিকা।                                                                                       \n",
       "2801  কর্মশালায় অংশগ্রহণে আগ্রহীরা বাংলাদেশ মিডিয়া ফোরামের ওয়েবসাইটের মাধ্যমে www.bdmediaforum.com/register রেজিস্ট্রেশন করতে পারবেন।   \n",
       "3781  এ সংক্রান্ত বিস্তারিত তথ্য বিশ্ববিদ্যালয়ের ওয়েবসাইট www.admissions. nu.edu.bd অথবা nu.edu.bd/ admissions থেকে পাওয়া যাবে।         \n",
       "\n",
       "                                                                                                                   ipa  \n",
       "69    ɐɟ t̪omɐd̪eɾ ɟonno ɪŋɾeɟɪ pɾot̪ʰompɔt̪ɾeɾ -- seen pɐssɐge eboŋ -- Wɾɪtɪng Test ɔŋʃeɾ ʃɐɟeʃon d̪eʲɐ hɔl।           \n",
       "1479  hepɐtɐɪ̯tɪs B bʱɐɪ̯ɾɐʃeɾ pɾot̪ɪɾod̪ʱe ɾoʲecʰe tɪkɐ।                                                               \n",
       "2801  kɔɾmoʃɐlɐe̯ ɔŋʃogɾohone ɐgɾohɪɾɐ bɐŋlɐd̪eʃ mɪdɪʲɐ pʰoɾɐmeɾ oʷebʃɐɪ̯teɾ mɐd̪d̪ʱome ../ ɾeɟɪstɾeʃon koɾt̪e pɐɾben।  \n",
       "3781  e ʃɔŋkɾɐnt̪o bɪst̪ɐɾɪt̪o t̪ot̪t̪ʰo bɪʃʃobɪd̪d̪ɐlɔʲeɾ oʷebʃɐɪ̯t .. .. ɔt̪ʰobɐ ../ ɐdmɪssɪons t̪ʰeke pɐo̯ʷɐ ɟɐbe।   "
      ]
     },
     "metadata": {},
     "output_type": "display_data"
    }
   ],
   "source": [
    "with pd.option_context('display.max_colwidth', 0):\n",
    "    display(filtered_train.head(n=4))"
   ]
  },
  {
   "cell_type": "code",
   "execution_count": 13,
   "id": "be6962b8",
   "metadata": {
    "execution": {
     "iopub.execute_input": "2023-10-29T14:59:18.423457Z",
     "iopub.status.busy": "2023-10-29T14:59:18.423126Z",
     "iopub.status.idle": "2023-10-29T14:59:18.482689Z",
     "shell.execute_reply": "2023-10-29T14:59:18.481589Z"
    },
    "papermill": {
     "duration": 0.075298,
     "end_time": "2023-10-29T14:59:18.484972",
     "exception": false,
     "start_time": "2023-10-29T14:59:18.409674",
     "status": "completed"
    },
    "tags": []
   },
   "outputs": [
    {
     "name": "stdout",
     "output_type": "stream",
     "text": [
      "Length of the Df = (9601, 2)\n"
     ]
    }
   ],
   "source": [
    "filt_cond = [\"১-৯\", 'A-Za-z0-9']\n",
    "# Filtering text samples that contain English alphanumeric values\n",
    "fltr_test = test_df[lambda x: x[\"text\"].str.contains(\"[১-৯]\")]\n",
    "\n",
    "print(f'Length of the Df = {fltr_test.shape}')"
   ]
  },
  {
   "cell_type": "code",
   "execution_count": 14,
   "id": "01abfb77",
   "metadata": {
    "execution": {
     "iopub.execute_input": "2023-10-29T14:59:18.512206Z",
     "iopub.status.busy": "2023-10-29T14:59:18.511954Z",
     "iopub.status.idle": "2023-10-29T14:59:18.520888Z",
     "shell.execute_reply": "2023-10-29T14:59:18.520030Z"
    },
    "papermill": {
     "duration": 0.024694,
     "end_time": "2023-10-29T14:59:18.522886",
     "exception": false,
     "start_time": "2023-10-29T14:59:18.498192",
     "status": "completed"
    },
    "tags": []
   },
   "outputs": [
    {
     "data": {
      "text/html": [
       "<div>\n",
       "<style scoped>\n",
       "    .dataframe tbody tr th:only-of-type {\n",
       "        vertical-align: middle;\n",
       "    }\n",
       "\n",
       "    .dataframe tbody tr th {\n",
       "        vertical-align: top;\n",
       "    }\n",
       "\n",
       "    .dataframe thead th {\n",
       "        text-align: right;\n",
       "    }\n",
       "</style>\n",
       "<table border=\"1\" class=\"dataframe\">\n",
       "  <thead>\n",
       "    <tr style=\"text-align: right;\">\n",
       "      <th></th>\n",
       "      <th>row_id_column_name</th>\n",
       "      <th>text</th>\n",
       "    </tr>\n",
       "  </thead>\n",
       "  <tbody>\n",
       "    <tr>\n",
       "      <th>1</th>\n",
       "      <td>1</td>\n",
       "      <td>এ নিয়ে বিবাদে ২০১৫ সালের ২ জুন রাত সাড়ে ১১টায় চাচা সুশীল দাসকে কুপিয়ে জখম করে সে।</td>\n",
       "    </tr>\n",
       "    <tr>\n",
       "      <th>2</th>\n",
       "      <td>2</td>\n",
       "      <td>আজ থেকে ১৪ বছর আগে তিনি চলে গেছেন না ফেরার দেশে।</td>\n",
       "    </tr>\n",
       "    <tr>\n",
       "      <th>3</th>\n",
       "      <td>3</td>\n",
       "      <td>নিহত ব্যক্তি কুতপালং টালের ই-২ ব্লকের আবুল বাছেদ (৪০)।</td>\n",
       "    </tr>\n",
       "    <tr>\n",
       "      <th>4</th>\n",
       "      <td>4</td>\n",
       "      <td>সংক্ষিপ্ত স্কোরশ্রীলংকা প্রথম ইনিংস ৪৮২ (করুনারত্নে ১৯৬, চান্দিমাল ৬২, ডিকভেলা ৫২, পেরেরা ৫৮।</td>\n",
       "    </tr>\n",
       "    <tr>\n",
       "      <th>5</th>\n",
       "      <td>5</td>\n",
       "      <td>এগুলোর মধ্যে সাজ্জাদ হোসেনের ‘নন স্টপ’, আশুতোষ সুজনের ‘এই শহরে’ এবং রুলিন রহমানের ‘রোড নাম্বার-৭, বাসা নাম্বার-১৩’।</td>\n",
       "    </tr>\n",
       "  </tbody>\n",
       "</table>\n",
       "</div>"
      ],
      "text/plain": [
       "   row_id_column_name  \\\n",
       "1  1                    \n",
       "2  2                    \n",
       "3  3                    \n",
       "4  4                    \n",
       "5  5                    \n",
       "\n",
       "                                                                                                                  text  \n",
       "1  এ নিয়ে বিবাদে ২০১৫ সালের ২ জুন রাত সাড়ে ১১টায় চাচা সুশীল দাসকে কুপিয়ে জখম করে সে।                                    \n",
       "2  আজ থেকে ১৪ বছর আগে তিনি চলে গেছেন না ফেরার দেশে।                                                                     \n",
       "3  নিহত ব্যক্তি কুতপালং টালের ই-২ ব্লকের আবুল বাছেদ (৪০)।                                                               \n",
       "4  সংক্ষিপ্ত স্কোরশ্রীলংকা প্রথম ইনিংস ৪৮২ (করুনারত্নে ১৯৬, চান্দিমাল ৬২, ডিকভেলা ৫২, পেরেরা ৫৮।                        \n",
       "5  এগুলোর মধ্যে সাজ্জাদ হোসেনের ‘নন স্টপ’, আশুতোষ সুজনের ‘এই শহরে’ এবং রুলিন রহমানের ‘রোড নাম্বার-৭, বাসা নাম্বার-১৩’।  "
      ]
     },
     "metadata": {},
     "output_type": "display_data"
    }
   ],
   "source": [
    "with pd.option_context('display.max_colwidth', 0):\n",
    "    display(fltr_test.head(n=5))"
   ]
  },
  {
   "cell_type": "code",
   "execution_count": 15,
   "id": "4e8667c4",
   "metadata": {
    "execution": {
     "iopub.execute_input": "2023-10-29T14:59:18.550836Z",
     "iopub.status.busy": "2023-10-29T14:59:18.550566Z",
     "iopub.status.idle": "2023-10-29T14:59:18.604305Z",
     "shell.execute_reply": "2023-10-29T14:59:18.603251Z"
    },
    "papermill": {
     "duration": 0.07041,
     "end_time": "2023-10-29T14:59:18.606441",
     "exception": false,
     "start_time": "2023-10-29T14:59:18.536031",
     "status": "completed"
    },
    "tags": []
   },
   "outputs": [],
   "source": [
    "# Remove English alphanumeric values\n",
    "alpha_pat = \"[a-zA-z0-9০-৯]\"\n",
    "\n",
    "train[\"text\"] = train[\"text\"].str.replace(alpha_pat, \"\", regex=True)\n",
    "# test_df[\"text\"] = test_df[\"text\"].str.replace(alpha_pat, \"\", regex=True)"
   ]
  },
  {
   "cell_type": "code",
   "execution_count": 16,
   "id": "de7b0506",
   "metadata": {
    "execution": {
     "iopub.execute_input": "2023-10-29T14:59:18.634875Z",
     "iopub.status.busy": "2023-10-29T14:59:18.634152Z",
     "iopub.status.idle": "2023-10-29T14:59:18.693193Z",
     "shell.execute_reply": "2023-10-29T14:59:18.692173Z"
    },
    "papermill": {
     "duration": 0.075577,
     "end_time": "2023-10-29T14:59:18.695219",
     "exception": false,
     "start_time": "2023-10-29T14:59:18.619642",
     "status": "completed"
    },
    "tags": []
   },
   "outputs": [
    {
     "name": "stdout",
     "output_type": "stream",
     "text": [
      "Length of the Df = (433, 2)\n"
     ]
    }
   ],
   "source": [
    "filt_cond = [\"১-৯\", 'A-Za-z0-9']\n",
    "bengali_pat = \"[\\u0980-\\u09FF]\"\n",
    "# Filtering text samples that contain English alphanumeric values\n",
    "filt = train[lambda x: x[\"ipa\"].str.contains(bengali_pat)]\n",
    "\n",
    "print(f'Length of the Df = {filt.shape}')"
   ]
  },
  {
   "cell_type": "code",
   "execution_count": 17,
   "id": "045b6642",
   "metadata": {
    "execution": {
     "iopub.execute_input": "2023-10-29T14:59:18.722800Z",
     "iopub.status.busy": "2023-10-29T14:59:18.722551Z",
     "iopub.status.idle": "2023-10-29T14:59:18.731442Z",
     "shell.execute_reply": "2023-10-29T14:59:18.730567Z"
    },
    "papermill": {
     "duration": 0.024908,
     "end_time": "2023-10-29T14:59:18.733759",
     "exception": false,
     "start_time": "2023-10-29T14:59:18.708851",
     "status": "completed"
    },
    "tags": []
   },
   "outputs": [
    {
     "data": {
      "text/html": [
       "<div>\n",
       "<style scoped>\n",
       "    .dataframe tbody tr th:only-of-type {\n",
       "        vertical-align: middle;\n",
       "    }\n",
       "\n",
       "    .dataframe tbody tr th {\n",
       "        vertical-align: top;\n",
       "    }\n",
       "\n",
       "    .dataframe thead th {\n",
       "        text-align: right;\n",
       "    }\n",
       "</style>\n",
       "<table border=\"1\" class=\"dataframe\">\n",
       "  <thead>\n",
       "    <tr style=\"text-align: right;\">\n",
       "      <th></th>\n",
       "      <th>text</th>\n",
       "      <th>ipa</th>\n",
       "    </tr>\n",
       "  </thead>\n",
       "  <tbody>\n",
       "    <tr>\n",
       "      <th>87</th>\n",
       "      <td>বুধবার সকালে সৌভিক বকশীর সমর্থক দশম শ্রেণীর ছা...</td>\n",
       "      <td>bud̪ʱbɐɾ ʃɔkɐle ʃo͡u̯bʱɪk bokʃɪɾ ʃɔmɔɾt̪ʰok d̪...</td>\n",
       "    </tr>\n",
       "    <tr>\n",
       "      <th>324</th>\n",
       "      <td>নতুনভাবে বাড়ি নির্মাণ বাবদ স্থানীয় অচিন্ত সাহা...</td>\n",
       "      <td>not̪unbʱɐbe bɐɽɪ nɪɾmɐn bɐbod̪ st̪ʰɐnɪʲo অচিন্...</td>\n",
       "    </tr>\n",
       "    <tr>\n",
       "      <th>336</th>\n",
       "      <td>আর বিরোধী দল রিপাবলিকান প্রার্থীদের মধ্যে এগিয়...</td>\n",
       "      <td>ɐɾ bɪɾod̪ʱɪ d̪ɔl ɾɪpɐblɪkɐn pɾɐɾt̪ʰɪd̪eɾ mod̪d...</td>\n",
       "    </tr>\n",
       "  </tbody>\n",
       "</table>\n",
       "</div>"
      ],
      "text/plain": [
       "                                                  text  \\\n",
       "87   বুধবার সকালে সৌভিক বকশীর সমর্থক দশম শ্রেণীর ছা...   \n",
       "324  নতুনভাবে বাড়ি নির্মাণ বাবদ স্থানীয় অচিন্ত সাহা...   \n",
       "336  আর বিরোধী দল রিপাবলিকান প্রার্থীদের মধ্যে এগিয়...   \n",
       "\n",
       "                                                   ipa  \n",
       "87   bud̪ʱbɐɾ ʃɔkɐle ʃo͡u̯bʱɪk bokʃɪɾ ʃɔmɔɾt̪ʰok d̪...  \n",
       "324  not̪unbʱɐbe bɐɽɪ nɪɾmɐn bɐbod̪ st̪ʰɐnɪʲo অচিন্...  \n",
       "336  ɐɾ bɪɾod̪ʱɪ d̪ɔl ɾɪpɐblɪkɐn pɾɐɾt̪ʰɪd̪eɾ mod̪d...  "
      ]
     },
     "execution_count": 17,
     "metadata": {},
     "output_type": "execute_result"
    }
   ],
   "source": [
    "filt.head(3)"
   ]
  },
  {
   "cell_type": "code",
   "execution_count": 18,
   "id": "f5501907",
   "metadata": {
    "execution": {
     "iopub.execute_input": "2023-10-29T14:59:18.763909Z",
     "iopub.status.busy": "2023-10-29T14:59:18.763587Z",
     "iopub.status.idle": "2023-10-29T14:59:18.769616Z",
     "shell.execute_reply": "2023-10-29T14:59:18.768805Z"
    },
    "papermill": {
     "duration": 0.021835,
     "end_time": "2023-10-29T14:59:18.771575",
     "exception": false,
     "start_time": "2023-10-29T14:59:18.749740",
     "status": "completed"
    },
    "tags": []
   },
   "outputs": [
    {
     "data": {
      "text/plain": [
       "(Index([87, 324, 336, 355], dtype='int64'), 433)"
      ]
     },
     "execution_count": 18,
     "metadata": {},
     "output_type": "execute_result"
    }
   ],
   "source": [
    "indx_to_drop = filt.index\n",
    "indx_to_drop[:4], len(indx_to_drop)"
   ]
  },
  {
   "cell_type": "code",
   "execution_count": 19,
   "id": "401f4e44",
   "metadata": {
    "execution": {
     "iopub.execute_input": "2023-10-29T14:59:18.800137Z",
     "iopub.status.busy": "2023-10-29T14:59:18.799836Z",
     "iopub.status.idle": "2023-10-29T14:59:18.805558Z",
     "shell.execute_reply": "2023-10-29T14:59:18.804689Z"
    },
    "papermill": {
     "duration": 0.022531,
     "end_time": "2023-10-29T14:59:18.807526",
     "exception": false,
     "start_time": "2023-10-29T14:59:18.784995",
     "status": "completed"
    },
    "tags": []
   },
   "outputs": [
    {
     "data": {
      "text/plain": [
       "(22999, 2)"
      ]
     },
     "execution_count": 19,
     "metadata": {},
     "output_type": "execute_result"
    }
   ],
   "source": [
    "train.shape"
   ]
  },
  {
   "cell_type": "code",
   "execution_count": 20,
   "id": "1bc98ba3",
   "metadata": {
    "execution": {
     "iopub.execute_input": "2023-10-29T14:59:18.835883Z",
     "iopub.status.busy": "2023-10-29T14:59:18.835604Z",
     "iopub.status.idle": "2023-10-29T14:59:18.842105Z",
     "shell.execute_reply": "2023-10-29T14:59:18.841243Z"
    },
    "papermill": {
     "duration": 0.023104,
     "end_time": "2023-10-29T14:59:18.844141",
     "exception": false,
     "start_time": "2023-10-29T14:59:18.821037",
     "status": "completed"
    },
    "tags": []
   },
   "outputs": [],
   "source": [
    "ftrain = train.drop(indx_to_drop)"
   ]
  },
  {
   "cell_type": "code",
   "execution_count": 21,
   "id": "c345e717",
   "metadata": {
    "execution": {
     "iopub.execute_input": "2023-10-29T14:59:18.872805Z",
     "iopub.status.busy": "2023-10-29T14:59:18.872512Z",
     "iopub.status.idle": "2023-10-29T14:59:18.881972Z",
     "shell.execute_reply": "2023-10-29T14:59:18.881085Z"
    },
    "papermill": {
     "duration": 0.025969,
     "end_time": "2023-10-29T14:59:18.884213",
     "exception": false,
     "start_time": "2023-10-29T14:59:18.858244",
     "status": "completed"
    },
    "tags": []
   },
   "outputs": [
    {
     "name": "stdout",
     "output_type": "stream",
     "text": [
      "(22566, 2)\n"
     ]
    },
    {
     "data": {
      "text/html": [
       "<div>\n",
       "<style scoped>\n",
       "    .dataframe tbody tr th:only-of-type {\n",
       "        vertical-align: middle;\n",
       "    }\n",
       "\n",
       "    .dataframe tbody tr th {\n",
       "        vertical-align: top;\n",
       "    }\n",
       "\n",
       "    .dataframe thead th {\n",
       "        text-align: right;\n",
       "    }\n",
       "</style>\n",
       "<table border=\"1\" class=\"dataframe\">\n",
       "  <thead>\n",
       "    <tr style=\"text-align: right;\">\n",
       "      <th></th>\n",
       "      <th>text</th>\n",
       "      <th>ipa</th>\n",
       "    </tr>\n",
       "  </thead>\n",
       "  <tbody>\n",
       "    <tr>\n",
       "      <th>22997</th>\n",
       "      <td>ইমন হাজির আশি হাজার পাঁচশ চুয়াল্লিশ রাখে।</td>\n",
       "      <td>ɪmon hɐɟɪɾ ɐʃɪ hɐɟɐɾ pɐncʃo cuɐllɪʃ ɾɐkʰe।</td>\n",
       "    </tr>\n",
       "    <tr>\n",
       "      <th>22998</th>\n",
       "      <td>তিনি স্বীকার সাত লক্ষ দুইশ দুই আদালতের।</td>\n",
       "      <td>t̪ɪnɪ ʃɪkɐɾ ʃɐt̪ lɔkkʰo duɪʃo duɪ ɐd̪ɐlɔt̪eɾ।</td>\n",
       "    </tr>\n",
       "  </tbody>\n",
       "</table>\n",
       "</div>"
      ],
      "text/plain": [
       "                                             text  \\\n",
       "22997  ইমন হাজির আশি হাজার পাঁচশ চুয়াল্লিশ রাখে।   \n",
       "22998     তিনি স্বীকার সাত লক্ষ দুইশ দুই আদালতের।   \n",
       "\n",
       "                                                 ipa  \n",
       "22997     ɪmon hɐɟɪɾ ɐʃɪ hɐɟɐɾ pɐncʃo cuɐllɪʃ ɾɐkʰe।  \n",
       "22998  t̪ɪnɪ ʃɪkɐɾ ʃɐt̪ lɔkkʰo duɪʃo duɪ ɐd̪ɐlɔt̪eɾ।  "
      ]
     },
     "execution_count": 21,
     "metadata": {},
     "output_type": "execute_result"
    }
   ],
   "source": [
    "print(ftrain.shape)\n",
    "ftrain.tail(2)"
   ]
  },
  {
   "cell_type": "code",
   "execution_count": 22,
   "id": "2df63cb6",
   "metadata": {
    "execution": {
     "iopub.execute_input": "2023-10-29T14:59:18.912656Z",
     "iopub.status.busy": "2023-10-29T14:59:18.912416Z",
     "iopub.status.idle": "2023-10-29T14:59:18.969214Z",
     "shell.execute_reply": "2023-10-29T14:59:18.968264Z"
    },
    "papermill": {
     "duration": 0.073269,
     "end_time": "2023-10-29T14:59:18.971108",
     "exception": false,
     "start_time": "2023-10-29T14:59:18.897839",
     "status": "completed"
    },
    "tags": []
   },
   "outputs": [
    {
     "name": "stdout",
     "output_type": "stream",
     "text": [
      "Length of the Df = (0, 2)\n"
     ]
    }
   ],
   "source": [
    "filt_cond = [\"১-৯\", 'A-Za-z0-9']\n",
    "bengali_pat = \"[\\u0980-\\u09FF]\"\n",
    "# Filtering text samples that contain English alphanumeric values\n",
    "filt = ftrain[lambda x: x[\"ipa\"].str.contains(bengali_pat)]\n",
    "\n",
    "print(f'Length of the Df = {filt.shape}')"
   ]
  },
  {
   "cell_type": "code",
   "execution_count": 23,
   "id": "a0a9ce0a",
   "metadata": {
    "execution": {
     "iopub.execute_input": "2023-10-29T14:59:19.001725Z",
     "iopub.status.busy": "2023-10-29T14:59:19.001378Z",
     "iopub.status.idle": "2023-10-29T14:59:19.012561Z",
     "shell.execute_reply": "2023-10-29T14:59:19.011424Z"
    },
    "papermill": {
     "duration": 0.029762,
     "end_time": "2023-10-29T14:59:19.014941",
     "exception": false,
     "start_time": "2023-10-29T14:59:18.985179",
     "status": "completed"
    },
    "tags": []
   },
   "outputs": [
    {
     "data": {
      "text/html": [
       "<div>\n",
       "<style scoped>\n",
       "    .dataframe tbody tr th:only-of-type {\n",
       "        vertical-align: middle;\n",
       "    }\n",
       "\n",
       "    .dataframe tbody tr th {\n",
       "        vertical-align: top;\n",
       "    }\n",
       "\n",
       "    .dataframe thead th {\n",
       "        text-align: right;\n",
       "    }\n",
       "</style>\n",
       "<table border=\"1\" class=\"dataframe\">\n",
       "  <thead>\n",
       "    <tr style=\"text-align: right;\">\n",
       "      <th></th>\n",
       "      <th>text</th>\n",
       "      <th>ipa</th>\n",
       "    </tr>\n",
       "  </thead>\n",
       "  <tbody>\n",
       "    <tr>\n",
       "      <th>22992</th>\n",
       "      <td>ইমন সরিয়ে এক লক্ষ সত্তর হাজার ছিয়াশি বাংলাদেশ।</td>\n",
       "      <td>ɪmon ʃoɾɪʲe ɛk lɔkkʰoʃot̪t̪oɾ hɐɟɐɾ cʰɪɐʃɪ bɐŋ...</td>\n",
       "    </tr>\n",
       "    <tr>\n",
       "      <th>22993</th>\n",
       "      <td>তিনি করা সাত লক্ষ তিয়াত্তর হাজার ছয়শ ঊনসত্তর...</td>\n",
       "      <td>t̪ɪnɪ kɔɾɐ ʃɐt̪ lɔkkʰo t̪ɪɐt̪t̪oɾ hɐɟɐɾ cʰoe̯ʃ...</td>\n",
       "    </tr>\n",
       "    <tr>\n",
       "      <th>22994</th>\n",
       "      <td>তার করা দুই লক্ষ চুরানব্বই হাজার একশ আটষট্টি আ...</td>\n",
       "      <td>t̪ɐɾ kɔɾɐ duɪ lɔkkʰo cuɾɐnɔbboɪ hɐɟɐɾ ɛkʃo ɐtʃ...</td>\n",
       "    </tr>\n",
       "    <tr>\n",
       "      <th>22995</th>\n",
       "      <td>সে স্বীকার তিন লক্ষ ঊনষাট হাজার বিরানব্বই সংবাদ।</td>\n",
       "      <td>ʃe ʃɪkɐɾ tɪn lɔkkʰo unoʃɐt hɐɟɐɾ bɪɾɐnɔbboɪ ʃɔ...</td>\n",
       "    </tr>\n",
       "    <tr>\n",
       "      <th>22996</th>\n",
       "      <td>তুমি আসে দুই লক্ষ তিন হাজার দুইশ সাতাশি মালিক।</td>\n",
       "      <td>t̪umɪ ɐʃe duɪ lɔkkʰo tɪn hɐɟɐɾ duɪʃo ʃɐt̪ɐʃɪ m...</td>\n",
       "    </tr>\n",
       "    <tr>\n",
       "      <th>22997</th>\n",
       "      <td>ইমন হাজির আশি হাজার পাঁচশ চুয়াল্লিশ রাখে।</td>\n",
       "      <td>ɪmon hɐɟɪɾ ɐʃɪ hɐɟɐɾ pɐncʃo cuɐllɪʃ ɾɐkʰe।</td>\n",
       "    </tr>\n",
       "    <tr>\n",
       "      <th>22998</th>\n",
       "      <td>তিনি স্বীকার সাত লক্ষ দুইশ দুই আদালতের।</td>\n",
       "      <td>t̪ɪnɪ ʃɪkɐɾ ʃɐt̪ lɔkkʰo duɪʃo duɪ ɐd̪ɐlɔt̪eɾ।</td>\n",
       "    </tr>\n",
       "  </tbody>\n",
       "</table>\n",
       "</div>"
      ],
      "text/plain": [
       "                                                    text  \\\n",
       "22992   ইমন সরিয়ে এক লক্ষ সত্তর হাজার ছিয়াশি বাংলাদেশ।   \n",
       "22993  তিনি করা সাত লক্ষ তিয়াত্তর হাজার ছয়শ ঊনসত্তর...   \n",
       "22994  তার করা দুই লক্ষ চুরানব্বই হাজার একশ আটষট্টি আ...   \n",
       "22995   সে স্বীকার তিন লক্ষ ঊনষাট হাজার বিরানব্বই সংবাদ।   \n",
       "22996     তুমি আসে দুই লক্ষ তিন হাজার দুইশ সাতাশি মালিক।   \n",
       "22997         ইমন হাজির আশি হাজার পাঁচশ চুয়াল্লিশ রাখে।   \n",
       "22998            তিনি স্বীকার সাত লক্ষ দুইশ দুই আদালতের।   \n",
       "\n",
       "                                                     ipa  \n",
       "22992  ɪmon ʃoɾɪʲe ɛk lɔkkʰoʃot̪t̪oɾ hɐɟɐɾ cʰɪɐʃɪ bɐŋ...  \n",
       "22993  t̪ɪnɪ kɔɾɐ ʃɐt̪ lɔkkʰo t̪ɪɐt̪t̪oɾ hɐɟɐɾ cʰoe̯ʃ...  \n",
       "22994  t̪ɐɾ kɔɾɐ duɪ lɔkkʰo cuɾɐnɔbboɪ hɐɟɐɾ ɛkʃo ɐtʃ...  \n",
       "22995  ʃe ʃɪkɐɾ tɪn lɔkkʰo unoʃɐt hɐɟɐɾ bɪɾɐnɔbboɪ ʃɔ...  \n",
       "22996  t̪umɪ ɐʃe duɪ lɔkkʰo tɪn hɐɟɐɾ duɪʃo ʃɐt̪ɐʃɪ m...  \n",
       "22997         ɪmon hɐɟɪɾ ɐʃɪ hɐɟɐɾ pɐncʃo cuɐllɪʃ ɾɐkʰe।  \n",
       "22998      t̪ɪnɪ ʃɪkɐɾ ʃɐt̪ lɔkkʰo duɪʃo duɪ ɐd̪ɐlɔt̪eɾ।  "
      ]
     },
     "execution_count": 23,
     "metadata": {},
     "output_type": "execute_result"
    }
   ],
   "source": [
    "ftrain.tail(7)"
   ]
  },
  {
   "cell_type": "code",
   "execution_count": 24,
   "id": "666b7237",
   "metadata": {
    "execution": {
     "iopub.execute_input": "2023-10-29T14:59:19.049661Z",
     "iopub.status.busy": "2023-10-29T14:59:19.049220Z",
     "iopub.status.idle": "2023-10-29T14:59:19.058829Z",
     "shell.execute_reply": "2023-10-29T14:59:19.057757Z"
    },
    "papermill": {
     "duration": 0.029878,
     "end_time": "2023-10-29T14:59:19.061263",
     "exception": false,
     "start_time": "2023-10-29T14:59:19.031385",
     "status": "completed"
    },
    "tags": []
   },
   "outputs": [
    {
     "data": {
      "text/plain": [
       "(22583, 2)"
      ]
     },
     "execution_count": 24,
     "metadata": {},
     "output_type": "execute_result"
    }
   ],
   "source": [
    "train_ = pd.concat([ftrain, ex_df], axis = 0)\n",
    "train_.shape"
   ]
  },
  {
   "cell_type": "code",
   "execution_count": 25,
   "id": "0329a3dc",
   "metadata": {
    "execution": {
     "iopub.execute_input": "2023-10-29T14:59:19.098179Z",
     "iopub.status.busy": "2023-10-29T14:59:19.097309Z",
     "iopub.status.idle": "2023-10-29T14:59:19.108550Z",
     "shell.execute_reply": "2023-10-29T14:59:19.107463Z"
    },
    "papermill": {
     "duration": 0.032628,
     "end_time": "2023-10-29T14:59:19.111046",
     "exception": false,
     "start_time": "2023-10-29T14:59:19.078418",
     "status": "completed"
    },
    "tags": []
   },
   "outputs": [
    {
     "data": {
      "text/html": [
       "<div>\n",
       "<style scoped>\n",
       "    .dataframe tbody tr th:only-of-type {\n",
       "        vertical-align: middle;\n",
       "    }\n",
       "\n",
       "    .dataframe tbody tr th {\n",
       "        vertical-align: top;\n",
       "    }\n",
       "\n",
       "    .dataframe thead th {\n",
       "        text-align: right;\n",
       "    }\n",
       "</style>\n",
       "<table border=\"1\" class=\"dataframe\">\n",
       "  <thead>\n",
       "    <tr style=\"text-align: right;\">\n",
       "      <th></th>\n",
       "      <th>text</th>\n",
       "      <th>ipa</th>\n",
       "    </tr>\n",
       "  </thead>\n",
       "  <tbody>\n",
       "    <tr>\n",
       "      <th>14</th>\n",
       "      <td>১+ চল্ চল্ চল্।</td>\n",
       "      <td>ɛk+ cɔl cɔl cɔl।</td>\n",
       "    </tr>\n",
       "    <tr>\n",
       "      <th>15</th>\n",
       "      <td>২- cɔl cɔl cɔl।</td>\n",
       "      <td>duɪ- cɔl cɔl cɔl।</td>\n",
       "    </tr>\n",
       "    <tr>\n",
       "      <th>16</th>\n",
       "      <td>৮,৫৭৪ ৮,৫৭৪ চল্ চল্ চল্।</td>\n",
       "      <td>ɐt hɐɟɐɾ pɐncʃo cuɐt̪t̪oɾ ɐt hɐɟɐɾ pɐncʃo cuɐt...</td>\n",
       "    </tr>\n",
       "  </tbody>\n",
       "</table>\n",
       "</div>"
      ],
      "text/plain": [
       "                        text  \\\n",
       "14           ১+ চল্ চল্ চল্।   \n",
       "15           ২- cɔl cɔl cɔl।   \n",
       "16  ৮,৫৭৪ ৮,৫৭৪ চল্ চল্ চল্।   \n",
       "\n",
       "                                                  ipa  \n",
       "14                                   ɛk+ cɔl cɔl cɔl।  \n",
       "15                                  duɪ- cɔl cɔl cɔl।  \n",
       "16  ɐt hɐɟɐɾ pɐncʃo cuɐt̪t̪oɾ ɐt hɐɟɐɾ pɐncʃo cuɐt...  "
      ]
     },
     "execution_count": 25,
     "metadata": {},
     "output_type": "execute_result"
    }
   ],
   "source": [
    "train_.tail(3)"
   ]
  },
  {
   "cell_type": "code",
   "execution_count": 26,
   "id": "82733b21",
   "metadata": {
    "execution": {
     "iopub.execute_input": "2023-10-29T14:59:19.147989Z",
     "iopub.status.busy": "2023-10-29T14:59:19.147285Z",
     "iopub.status.idle": "2023-10-29T14:59:19.162555Z",
     "shell.execute_reply": "2023-10-29T14:59:19.161535Z"
    },
    "papermill": {
     "duration": 0.036752,
     "end_time": "2023-10-29T14:59:19.165311",
     "exception": false,
     "start_time": "2023-10-29T14:59:19.128559",
     "status": "completed"
    },
    "tags": []
   },
   "outputs": [
    {
     "data": {
      "text/html": [
       "<div>\n",
       "<style scoped>\n",
       "    .dataframe tbody tr th:only-of-type {\n",
       "        vertical-align: middle;\n",
       "    }\n",
       "\n",
       "    .dataframe tbody tr th {\n",
       "        vertical-align: top;\n",
       "    }\n",
       "\n",
       "    .dataframe thead th {\n",
       "        text-align: right;\n",
       "    }\n",
       "</style>\n",
       "<table border=\"1\" class=\"dataframe\">\n",
       "  <thead>\n",
       "    <tr style=\"text-align: right;\">\n",
       "      <th></th>\n",
       "      <th>text</th>\n",
       "      <th>ipa</th>\n",
       "    </tr>\n",
       "  </thead>\n",
       "  <tbody>\n",
       "    <tr>\n",
       "      <th>22580</th>\n",
       "      <td>১+ চল্ চল্ চল্।</td>\n",
       "      <td>ɛk+ cɔl cɔl cɔl।</td>\n",
       "    </tr>\n",
       "    <tr>\n",
       "      <th>22581</th>\n",
       "      <td>২- cɔl cɔl cɔl।</td>\n",
       "      <td>duɪ- cɔl cɔl cɔl।</td>\n",
       "    </tr>\n",
       "    <tr>\n",
       "      <th>22582</th>\n",
       "      <td>৮,৫৭৪ ৮,৫৭৪ চল্ চল্ চল্।</td>\n",
       "      <td>ɐt hɐɟɐɾ pɐncʃo cuɐt̪t̪oɾ ɐt hɐɟɐɾ pɐncʃo cuɐt...</td>\n",
       "    </tr>\n",
       "  </tbody>\n",
       "</table>\n",
       "</div>"
      ],
      "text/plain": [
       "                           text  \\\n",
       "22580           ১+ চল্ চল্ চল্।   \n",
       "22581           ২- cɔl cɔl cɔl।   \n",
       "22582  ৮,৫৭৪ ৮,৫৭৪ চল্ চল্ চল্।   \n",
       "\n",
       "                                                     ipa  \n",
       "22580                                   ɛk+ cɔl cɔl cɔl।  \n",
       "22581                                  duɪ- cɔl cɔl cɔl।  \n",
       "22582  ɐt hɐɟɐɾ pɐncʃo cuɐt̪t̪oɾ ɐt hɐɟɐɾ pɐncʃo cuɐt...  "
      ]
     },
     "execution_count": 26,
     "metadata": {},
     "output_type": "execute_result"
    }
   ],
   "source": [
    "train_ = train_.reset_index(drop=True)\n",
    "train_.tail(3)"
   ]
  },
  {
   "cell_type": "markdown",
   "id": "468f670a",
   "metadata": {
    "papermill": {
     "duration": 0.017035,
     "end_time": "2023-10-29T14:59:19.199896",
     "exception": false,
     "start_time": "2023-10-29T14:59:19.182861",
     "status": "completed"
    },
    "tags": []
   },
   "source": [
    "# Modeling"
   ]
  },
  {
   "cell_type": "code",
   "execution_count": 27,
   "id": "b6ad4c0f",
   "metadata": {
    "execution": {
     "iopub.execute_input": "2023-10-29T14:59:19.236643Z",
     "iopub.status.busy": "2023-10-29T14:59:19.236246Z",
     "iopub.status.idle": "2023-10-29T14:59:19.251925Z",
     "shell.execute_reply": "2023-10-29T14:59:19.250988Z"
    },
    "papermill": {
     "duration": 0.037235,
     "end_time": "2023-10-29T14:59:19.254624",
     "exception": false,
     "start_time": "2023-10-29T14:59:19.217389",
     "status": "completed"
    },
    "tags": []
   },
   "outputs": [],
   "source": [
    "from sklearn.model_selection import train_test_split\n",
    "\n",
    "train_df, val_df = train_test_split(ftrain, test_size=0.1, shuffle=True, random_state=42)\n",
    "train_df = train_df.reset_index(drop=True)\n",
    "val_df = val_df.reset_index(drop=True)"
   ]
  },
  {
   "cell_type": "code",
   "execution_count": 28,
   "id": "701f7d92",
   "metadata": {
    "execution": {
     "iopub.execute_input": "2023-10-29T14:59:19.292496Z",
     "iopub.status.busy": "2023-10-29T14:59:19.292048Z",
     "iopub.status.idle": "2023-10-29T14:59:19.296669Z",
     "shell.execute_reply": "2023-10-29T14:59:19.295561Z"
    },
    "papermill": {
     "duration": 0.025778,
     "end_time": "2023-10-29T14:59:19.298856",
     "exception": false,
     "start_time": "2023-10-29T14:59:19.273078",
     "status": "completed"
    },
    "tags": []
   },
   "outputs": [],
   "source": [
    "# !pip install datasets\n",
    "# !pip install transformers"
   ]
  },
  {
   "cell_type": "code",
   "execution_count": 29,
   "id": "ed3529aa",
   "metadata": {
    "execution": {
     "iopub.execute_input": "2023-10-29T14:59:19.334740Z",
     "iopub.status.busy": "2023-10-29T14:59:19.334322Z",
     "iopub.status.idle": "2023-10-29T14:59:20.337616Z",
     "shell.execute_reply": "2023-10-29T14:59:20.336547Z"
    },
    "papermill": {
     "duration": 1.024077,
     "end_time": "2023-10-29T14:59:20.340236",
     "exception": false,
     "start_time": "2023-10-29T14:59:19.316159",
     "status": "completed"
    },
    "tags": []
   },
   "outputs": [],
   "source": [
    "from datasets import Dataset\n",
    "\n",
    "train_tf = Dataset.from_pandas(train_df)\n",
    "valid_tf = Dataset.from_pandas(val_df)"
   ]
  },
  {
   "cell_type": "code",
   "execution_count": 30,
   "id": "55bba953",
   "metadata": {
    "execution": {
     "iopub.execute_input": "2023-10-29T14:59:20.374512Z",
     "iopub.status.busy": "2023-10-29T14:59:20.373868Z",
     "iopub.status.idle": "2023-10-29T14:59:20.379700Z",
     "shell.execute_reply": "2023-10-29T14:59:20.378858Z"
    },
    "papermill": {
     "duration": 0.025066,
     "end_time": "2023-10-29T14:59:20.381698",
     "exception": false,
     "start_time": "2023-10-29T14:59:20.356632",
     "status": "completed"
    },
    "tags": []
   },
   "outputs": [
    {
     "data": {
      "text/plain": [
       "Dataset({\n",
       "    features: ['text', 'ipa'],\n",
       "    num_rows: 20309\n",
       "})"
      ]
     },
     "execution_count": 30,
     "metadata": {},
     "output_type": "execute_result"
    }
   ],
   "source": [
    "train_tf"
   ]
  },
  {
   "cell_type": "code",
   "execution_count": 31,
   "id": "9e3fe8a3",
   "metadata": {
    "execution": {
     "iopub.execute_input": "2023-10-29T14:59:20.412624Z",
     "iopub.status.busy": "2023-10-29T14:59:20.411983Z",
     "iopub.status.idle": "2023-10-29T14:59:48.739366Z",
     "shell.execute_reply": "2023-10-29T14:59:48.737912Z"
    },
    "papermill": {
     "duration": 28.345394,
     "end_time": "2023-10-29T14:59:48.742070",
     "exception": false,
     "start_time": "2023-10-29T14:59:20.396676",
     "status": "completed"
    },
    "tags": []
   },
   "outputs": [
    {
     "data": {
      "application/vnd.jupyter.widget-view+json": {
       "model_id": "f8f3109673ee429cafd8869956acb521",
       "version_major": 2,
       "version_minor": 0
      },
      "text/plain": [
       "Downloading (…)okenizer_config.json:   0%|          | 0.00/82.0 [00:00<?, ?B/s]"
      ]
     },
     "metadata": {},
     "output_type": "display_data"
    },
    {
     "data": {
      "application/vnd.jupyter.widget-view+json": {
       "model_id": "943b42c996304791a4fd69692c396a56",
       "version_major": 2,
       "version_minor": 0
      },
      "text/plain": [
       "Downloading (…)lve/main/config.json:   0%|          | 0.00/553 [00:00<?, ?B/s]"
      ]
     },
     "metadata": {},
     "output_type": "display_data"
    },
    {
     "data": {
      "application/vnd.jupyter.widget-view+json": {
       "model_id": "9928057a829442ab99edacce4956abd8",
       "version_major": 2,
       "version_minor": 0
      },
      "text/plain": [
       "Downloading (…)ve/main/spiece.model:   0%|          | 0.00/4.31M [00:00<?, ?B/s]"
      ]
     },
     "metadata": {},
     "output_type": "display_data"
    },
    {
     "data": {
      "application/vnd.jupyter.widget-view+json": {
       "model_id": "4395c845ccfb401080c637d8c9c2402f",
       "version_major": 2,
       "version_minor": 0
      },
      "text/plain": [
       "Downloading (…)cial_tokens_map.json:   0%|          | 0.00/99.0 [00:00<?, ?B/s]"
      ]
     },
     "metadata": {},
     "output_type": "display_data"
    },
    {
     "name": "stderr",
     "output_type": "stream",
     "text": [
      "You are using the default legacy behaviour of the <class 'transformers.models.t5.tokenization_t5.T5Tokenizer'>. If you see this, DO NOT PANIC! This is expected, and simply means that the `legacy` (previous) behavior will be used so nothing changes for you. If you want to use the new behaviour, set `legacy=False`. This should only be set if you understand what it means, and thouroughly read the reason why this was added as explained in https://github.com/huggingface/transformers/pull/24565\n",
      "/opt/conda/lib/python3.10/site-packages/transformers/convert_slow_tokenizer.py:473: UserWarning: The sentencepiece tokenizer that you are converting to a fast tokenizer uses the byte fallback option which is not implemented in the fast tokenizers. In practice this means that the fast version of the tokenizer can produce unknown tokens whereas the sentencepiece version would have converted these unknown tokens into a sequence of byte tokens matching the original piece of text.\n",
      "  warnings.warn(\n"
     ]
    },
    {
     "data": {
      "application/vnd.jupyter.widget-view+json": {
       "model_id": "d19ec0eaaf254c678cc86b1278cb54ac",
       "version_major": 2,
       "version_minor": 0
      },
      "text/plain": [
       "Downloading pytorch_model.bin:   0%|          | 0.00/1.20G [00:00<?, ?B/s]"
      ]
     },
     "metadata": {},
     "output_type": "display_data"
    },
    {
     "data": {
      "application/vnd.jupyter.widget-view+json": {
       "model_id": "0a3de4ba83b548f2894a28a7de072113",
       "version_major": 2,
       "version_minor": 0
      },
      "text/plain": [
       "Downloading (…)neration_config.json:   0%|          | 0.00/147 [00:00<?, ?B/s]"
      ]
     },
     "metadata": {},
     "output_type": "display_data"
    }
   ],
   "source": [
    "from transformers import AutoTokenizer, AutoModelForSeq2SeqLM, DataCollatorForSeq2Seq\n",
    "\n",
    "model_id = \"google/mt5-small\"\n",
    "tokenizer = AutoTokenizer.from_pretrained(model_id)\n",
    "model = AutoModelForSeq2SeqLM.from_pretrained(model_id)\n",
    "data_collator = DataCollatorForSeq2Seq(tokenizer)"
   ]
  },
  {
   "cell_type": "code",
   "execution_count": 32,
   "id": "527c5fa2",
   "metadata": {
    "execution": {
     "iopub.execute_input": "2023-10-29T14:59:48.786366Z",
     "iopub.status.busy": "2023-10-29T14:59:48.785792Z",
     "iopub.status.idle": "2023-10-29T14:59:59.644070Z",
     "shell.execute_reply": "2023-10-29T14:59:59.643167Z"
    },
    "papermill": {
     "duration": 10.884728,
     "end_time": "2023-10-29T14:59:59.646572",
     "exception": false,
     "start_time": "2023-10-29T14:59:48.761844",
     "status": "completed"
    },
    "tags": []
   },
   "outputs": [
    {
     "data": {
      "application/vnd.jupyter.widget-view+json": {
       "model_id": "dbe24c9a6bba49aab9ce0fdf8c2ca7d5",
       "version_major": 2,
       "version_minor": 0
      },
      "text/plain": [
       "  0%|          | 0/20309 [00:00<?, ?ex/s]"
      ]
     },
     "metadata": {},
     "output_type": "display_data"
    },
    {
     "data": {
      "application/vnd.jupyter.widget-view+json": {
       "model_id": "d52819bf3b874dffa6e11699af3763b5",
       "version_major": 2,
       "version_minor": 0
      },
      "text/plain": [
       "  0%|          | 0/2257 [00:00<?, ?ex/s]"
      ]
     },
     "metadata": {},
     "output_type": "display_data"
    }
   ],
   "source": [
    "def prepare_dataset(sample):\n",
    "    output = tokenizer(sample[\"text\"])\n",
    "    output[\"labels\"] = tokenizer(sample[\"ipa\"])['input_ids']\n",
    "    output[\"length\"] = len(output[\"labels\"])\n",
    "    return output\n",
    "\n",
    "\n",
    "train_tf = train_tf.map(prepare_dataset, remove_columns=train_tf.column_names)\n",
    "valid_tf = valid_tf.map(prepare_dataset, remove_columns=valid_tf.column_names)"
   ]
  },
  {
   "cell_type": "code",
   "execution_count": 33,
   "id": "857fb86b",
   "metadata": {
    "execution": {
     "iopub.execute_input": "2023-10-29T14:59:59.687800Z",
     "iopub.status.busy": "2023-10-29T14:59:59.687378Z",
     "iopub.status.idle": "2023-10-29T14:59:59.692414Z",
     "shell.execute_reply": "2023-10-29T14:59:59.691287Z"
    },
    "papermill": {
     "duration": 0.028532,
     "end_time": "2023-10-29T14:59:59.694746",
     "exception": false,
     "start_time": "2023-10-29T14:59:59.666214",
     "status": "completed"
    },
    "tags": []
   },
   "outputs": [],
   "source": [
    "# train_tf['input_ids']"
   ]
  },
  {
   "cell_type": "code",
   "execution_count": 34,
   "id": "0ebfb14c",
   "metadata": {
    "execution": {
     "iopub.execute_input": "2023-10-29T14:59:59.736162Z",
     "iopub.status.busy": "2023-10-29T14:59:59.735169Z",
     "iopub.status.idle": "2023-10-29T15:00:13.695914Z",
     "shell.execute_reply": "2023-10-29T15:00:13.694663Z"
    },
    "papermill": {
     "duration": 13.983868,
     "end_time": "2023-10-29T15:00:13.698290",
     "exception": false,
     "start_time": "2023-10-29T14:59:59.714422",
     "status": "completed"
    },
    "tags": []
   },
   "outputs": [
    {
     "name": "stdout",
     "output_type": "stream",
     "text": [
      "huggingface/tokenizers: The current process just got forked, after parallelism has already been used. Disabling parallelism to avoid deadlocks...\n",
      "To disable this warning, you can either:\n",
      "\t- Avoid using `tokenizers` before the fork if possible\n",
      "\t- Explicitly set the environment variable TOKENIZERS_PARALLELISM=(true | false)\n",
      "Collecting jiwer\r\n",
      "  Downloading jiwer-3.0.3-py3-none-any.whl (21 kB)\r\n",
      "Requirement already satisfied: click<9.0.0,>=8.1.3 in /opt/conda/lib/python3.10/site-packages (from jiwer) (8.1.7)\r\n",
      "Requirement already satisfied: rapidfuzz<4,>=3 in /opt/conda/lib/python3.10/site-packages (from jiwer) (3.2.0)\r\n",
      "Installing collected packages: jiwer\r\n",
      "Successfully installed jiwer-3.0.3\r\n",
      "Note: you may need to restart the kernel to use updated packages.\n"
     ]
    }
   ],
   "source": [
    "pip install jiwer"
   ]
  },
  {
   "cell_type": "code",
   "execution_count": 35,
   "id": "05f3f996",
   "metadata": {
    "execution": {
     "iopub.execute_input": "2023-10-29T15:00:13.734921Z",
     "iopub.status.busy": "2023-10-29T15:00:13.734601Z",
     "iopub.status.idle": "2023-10-29T15:00:14.219208Z",
     "shell.execute_reply": "2023-10-29T15:00:14.218277Z"
    },
    "papermill": {
     "duration": 0.504943,
     "end_time": "2023-10-29T15:00:14.221377",
     "exception": false,
     "start_time": "2023-10-29T15:00:13.716434",
     "status": "completed"
    },
    "tags": []
   },
   "outputs": [
    {
     "data": {
      "application/vnd.jupyter.widget-view+json": {
       "model_id": "f82f6c514624442bb62e58c3471f1430",
       "version_major": 2,
       "version_minor": 0
      },
      "text/plain": [
       "Downloading builder script:   0%|          | 0.00/1.90k [00:00<?, ?B/s]"
      ]
     },
     "metadata": {},
     "output_type": "display_data"
    }
   ],
   "source": [
    "import numpy as np\n",
    "from datasets import load_metric\n",
    "\n",
    "wer_metric = load_metric(\"wer\")\n",
    "\n",
    "\n",
    "def compute_metrics(eval_preds):\n",
    "    preds, labels = eval_preds\n",
    "    \n",
    "    if isinstance(preds, tuple):\n",
    "        preds = preds[0]\n",
    "    \n",
    "    preds = np.where(preds != -100, preds, tokenizer.pad_token_id)\n",
    "    decoded_preds = tokenizer.batch_decode(preds, skip_special_tokens=True)\n",
    "\n",
    "    labels = np.where(labels != -100, labels, tokenizer.pad_token_id)\n",
    "    decoded_labels = tokenizer.batch_decode(labels, skip_special_tokens=True)\n",
    "\n",
    "    result = wer_metric.compute(predictions=decoded_preds, references=decoded_labels)\n",
    "    return {\"wer\": result}"
   ]
  },
  {
   "cell_type": "code",
   "execution_count": 36,
   "id": "dcd09620",
   "metadata": {
    "execution": {
     "iopub.execute_input": "2023-10-29T15:00:14.257569Z",
     "iopub.status.busy": "2023-10-29T15:00:14.257184Z",
     "iopub.status.idle": "2023-10-29T15:00:14.402820Z",
     "shell.execute_reply": "2023-10-29T15:00:14.401783Z"
    },
    "papermill": {
     "duration": 0.166499,
     "end_time": "2023-10-29T15:00:14.405618",
     "exception": false,
     "start_time": "2023-10-29T15:00:14.239119",
     "status": "completed"
    },
    "tags": []
   },
   "outputs": [],
   "source": [
    "from transformers import Seq2SeqTrainer, Seq2SeqTrainingArguments\n",
    "\n",
    "model_id = \"mt5-bangla-text-to-ipa\"\n",
    "\n",
    "training_args = Seq2SeqTrainingArguments(\n",
    "    output_dir=model_id,\n",
    "    group_by_length=True,\n",
    "    length_column_name=\"length\",\n",
    "    per_device_train_batch_size=4,\n",
    "    per_device_eval_batch_size=16,\n",
    "    evaluation_strategy=\"steps\",\n",
    "    metric_for_best_model=\"wer\",\n",
    "    greater_is_better=False,\n",
    "    load_best_model_at_end=True,\n",
    "    num_train_epochs=10,\n",
    "    save_steps=4000,\n",
    "    eval_steps=4000,\n",
    "    logging_steps=4000,\n",
    "    learning_rate=1e-4,\n",
    "    weight_decay=1e-2,\n",
    "    warmup_steps=2000,\n",
    "    save_total_limit=2,\n",
    "    predict_with_generate=True,\n",
    "    generation_max_length=128,\n",
    "    push_to_hub=False,\n",
    "    report_to=\"none\",\n",
    ")"
   ]
  },
  {
   "cell_type": "code",
   "execution_count": 37,
   "id": "34b35e9a",
   "metadata": {
    "execution": {
     "iopub.execute_input": "2023-10-29T15:00:14.448815Z",
     "iopub.status.busy": "2023-10-29T15:00:14.447858Z",
     "iopub.status.idle": "2023-10-29T15:00:20.534192Z",
     "shell.execute_reply": "2023-10-29T15:00:20.533277Z"
    },
    "papermill": {
     "duration": 6.110737,
     "end_time": "2023-10-29T15:00:20.536591",
     "exception": false,
     "start_time": "2023-10-29T15:00:14.425854",
     "status": "completed"
    },
    "tags": []
   },
   "outputs": [],
   "source": [
    "trainer = Seq2SeqTrainer(\n",
    "    model=model,\n",
    "    tokenizer=tokenizer,\n",
    "    args=training_args,\n",
    "    train_dataset=train_tf,\n",
    "    eval_dataset=valid_tf,\n",
    "    data_collator=data_collator,\n",
    "    compute_metrics=compute_metrics\n",
    ")\n"
   ]
  },
  {
   "cell_type": "code",
   "execution_count": 38,
   "id": "d1be8a50",
   "metadata": {
    "execution": {
     "iopub.execute_input": "2023-10-29T15:00:20.575576Z",
     "iopub.status.busy": "2023-10-29T15:00:20.575177Z",
     "iopub.status.idle": "2023-10-29T19:00:20.060185Z",
     "shell.execute_reply": "2023-10-29T19:00:20.059137Z"
    },
    "papermill": {
     "duration": 14399.507471,
     "end_time": "2023-10-29T19:00:20.062606",
     "exception": false,
     "start_time": "2023-10-29T15:00:20.555135",
     "status": "completed"
    },
    "tags": []
   },
   "outputs": [
    {
     "name": "stderr",
     "output_type": "stream",
     "text": [
      "You're using a T5TokenizerFast tokenizer. Please note that with a fast tokenizer, using the `__call__` method is faster than using a method to encode the text followed by a call to the `pad` method to get a padded encoding.\n",
      "/opt/conda/lib/python3.10/site-packages/torch/nn/parallel/_functions.py:68: UserWarning: Was asked to gather along dimension 0, but all input tensors were scalars; will instead unsqueeze and return a vector.\n",
      "  warnings.warn('Was asked to gather along dimension 0, but all '\n"
     ]
    },
    {
     "data": {
      "text/html": [
       "\n",
       "    <div>\n",
       "      \n",
       "      <progress value='25390' max='25390' style='width:300px; height:20px; vertical-align: middle;'></progress>\n",
       "      [25390/25390 3:59:52, Epoch 10/10]\n",
       "    </div>\n",
       "    <table border=\"1\" class=\"dataframe\">\n",
       "  <thead>\n",
       " <tr style=\"text-align: left;\">\n",
       "      <th>Step</th>\n",
       "      <th>Training Loss</th>\n",
       "      <th>Validation Loss</th>\n",
       "      <th>Wer</th>\n",
       "    </tr>\n",
       "  </thead>\n",
       "  <tbody>\n",
       "    <tr>\n",
       "      <td>4000</td>\n",
       "      <td>4.516000</td>\n",
       "      <td>0.796586</td>\n",
       "      <td>0.628152</td>\n",
       "    </tr>\n",
       "    <tr>\n",
       "      <td>8000</td>\n",
       "      <td>0.832600</td>\n",
       "      <td>0.244618</td>\n",
       "      <td>0.235033</td>\n",
       "    </tr>\n",
       "    <tr>\n",
       "      <td>12000</td>\n",
       "      <td>0.424200</td>\n",
       "      <td>0.147900</td>\n",
       "      <td>0.144032</td>\n",
       "    </tr>\n",
       "    <tr>\n",
       "      <td>16000</td>\n",
       "      <td>0.295400</td>\n",
       "      <td>0.113270</td>\n",
       "      <td>0.114328</td>\n",
       "    </tr>\n",
       "    <tr>\n",
       "      <td>20000</td>\n",
       "      <td>0.236800</td>\n",
       "      <td>0.098492</td>\n",
       "      <td>0.097546</td>\n",
       "    </tr>\n",
       "    <tr>\n",
       "      <td>24000</td>\n",
       "      <td>0.207600</td>\n",
       "      <td>0.092841</td>\n",
       "      <td>0.092721</td>\n",
       "    </tr>\n",
       "  </tbody>\n",
       "</table><p>"
      ],
      "text/plain": [
       "<IPython.core.display.HTML object>"
      ]
     },
     "metadata": {},
     "output_type": "display_data"
    },
    {
     "name": "stderr",
     "output_type": "stream",
     "text": [
      "/opt/conda/lib/python3.10/site-packages/torch/nn/parallel/_functions.py:68: UserWarning: Was asked to gather along dimension 0, but all input tensors were scalars; will instead unsqueeze and return a vector.\n",
      "  warnings.warn('Was asked to gather along dimension 0, but all '\n",
      "/opt/conda/lib/python3.10/site-packages/torch/nn/parallel/_functions.py:68: UserWarning: Was asked to gather along dimension 0, but all input tensors were scalars; will instead unsqueeze and return a vector.\n",
      "  warnings.warn('Was asked to gather along dimension 0, but all '\n",
      "/opt/conda/lib/python3.10/site-packages/torch/nn/parallel/_functions.py:68: UserWarning: Was asked to gather along dimension 0, but all input tensors were scalars; will instead unsqueeze and return a vector.\n",
      "  warnings.warn('Was asked to gather along dimension 0, but all '\n",
      "/opt/conda/lib/python3.10/site-packages/torch/nn/parallel/_functions.py:68: UserWarning: Was asked to gather along dimension 0, but all input tensors were scalars; will instead unsqueeze and return a vector.\n",
      "  warnings.warn('Was asked to gather along dimension 0, but all '\n",
      "/opt/conda/lib/python3.10/site-packages/torch/nn/parallel/_functions.py:68: UserWarning: Was asked to gather along dimension 0, but all input tensors were scalars; will instead unsqueeze and return a vector.\n",
      "  warnings.warn('Was asked to gather along dimension 0, but all '\n",
      "/opt/conda/lib/python3.10/site-packages/torch/nn/parallel/_functions.py:68: UserWarning: Was asked to gather along dimension 0, but all input tensors were scalars; will instead unsqueeze and return a vector.\n",
      "  warnings.warn('Was asked to gather along dimension 0, but all '\n"
     ]
    },
    {
     "data": {
      "text/plain": [
       "TrainOutput(global_step=25390, training_loss=1.0369958818217064, metrics={'train_runtime': 14399.1526, 'train_samples_per_second': 14.104, 'train_steps_per_second': 1.763, 'total_flos': 7037800900177920.0, 'train_loss': 1.0369958818217064, 'epoch': 10.0})"
      ]
     },
     "execution_count": 38,
     "metadata": {},
     "output_type": "execute_result"
    }
   ],
   "source": [
    "trainer.train()"
   ]
  },
  {
   "cell_type": "code",
   "execution_count": 39,
   "id": "0e32df37",
   "metadata": {
    "execution": {
     "iopub.execute_input": "2023-10-29T19:00:20.106088Z",
     "iopub.status.busy": "2023-10-29T19:00:20.105694Z",
     "iopub.status.idle": "2023-10-29T19:00:23.097096Z",
     "shell.execute_reply": "2023-10-29T19:00:23.095992Z"
    },
    "papermill": {
     "duration": 3.01524,
     "end_time": "2023-10-29T19:00:23.099360",
     "exception": false,
     "start_time": "2023-10-29T19:00:20.084120",
     "status": "completed"
    },
    "tags": []
   },
   "outputs": [
    {
     "name": "stdout",
     "output_type": "stream",
     "text": [
      "Model saved successfully.\n"
     ]
    }
   ],
   "source": [
    "# Save the model to a file\n",
    "joblib.dump(model, 'model.pkl')\n",
    "print(\"Model saved successfully.\")"
   ]
  },
  {
   "cell_type": "code",
   "execution_count": 40,
   "id": "527fbc29",
   "metadata": {
    "_kg_hide-input": true,
    "execution": {
     "iopub.execute_input": "2023-10-29T19:00:23.137659Z",
     "iopub.status.busy": "2023-10-29T19:00:23.137343Z",
     "iopub.status.idle": "2023-10-29T19:00:25.114432Z",
     "shell.execute_reply": "2023-10-29T19:00:25.113468Z"
    },
    "papermill": {
     "duration": 1.998822,
     "end_time": "2023-10-29T19:00:25.116904",
     "exception": false,
     "start_time": "2023-10-29T19:00:23.118082",
     "status": "completed"
    },
    "tags": []
   },
   "outputs": [
    {
     "data": {
      "text/plain": [
       "MT5ForConditionalGeneration(\n",
       "  (shared): Embedding(250112, 512)\n",
       "  (encoder): MT5Stack(\n",
       "    (embed_tokens): Embedding(250112, 512)\n",
       "    (block): ModuleList(\n",
       "      (0): MT5Block(\n",
       "        (layer): ModuleList(\n",
       "          (0): MT5LayerSelfAttention(\n",
       "            (SelfAttention): MT5Attention(\n",
       "              (q): Linear(in_features=512, out_features=384, bias=False)\n",
       "              (k): Linear(in_features=512, out_features=384, bias=False)\n",
       "              (v): Linear(in_features=512, out_features=384, bias=False)\n",
       "              (o): Linear(in_features=384, out_features=512, bias=False)\n",
       "              (relative_attention_bias): Embedding(32, 6)\n",
       "            )\n",
       "            (layer_norm): MT5LayerNorm()\n",
       "            (dropout): Dropout(p=0.1, inplace=False)\n",
       "          )\n",
       "          (1): MT5LayerFF(\n",
       "            (DenseReluDense): MT5DenseGatedActDense(\n",
       "              (wi_0): Linear(in_features=512, out_features=1024, bias=False)\n",
       "              (wi_1): Linear(in_features=512, out_features=1024, bias=False)\n",
       "              (wo): Linear(in_features=1024, out_features=512, bias=False)\n",
       "              (dropout): Dropout(p=0.1, inplace=False)\n",
       "              (act): NewGELUActivation()\n",
       "            )\n",
       "            (layer_norm): MT5LayerNorm()\n",
       "            (dropout): Dropout(p=0.1, inplace=False)\n",
       "          )\n",
       "        )\n",
       "      )\n",
       "      (1-7): 7 x MT5Block(\n",
       "        (layer): ModuleList(\n",
       "          (0): MT5LayerSelfAttention(\n",
       "            (SelfAttention): MT5Attention(\n",
       "              (q): Linear(in_features=512, out_features=384, bias=False)\n",
       "              (k): Linear(in_features=512, out_features=384, bias=False)\n",
       "              (v): Linear(in_features=512, out_features=384, bias=False)\n",
       "              (o): Linear(in_features=384, out_features=512, bias=False)\n",
       "            )\n",
       "            (layer_norm): MT5LayerNorm()\n",
       "            (dropout): Dropout(p=0.1, inplace=False)\n",
       "          )\n",
       "          (1): MT5LayerFF(\n",
       "            (DenseReluDense): MT5DenseGatedActDense(\n",
       "              (wi_0): Linear(in_features=512, out_features=1024, bias=False)\n",
       "              (wi_1): Linear(in_features=512, out_features=1024, bias=False)\n",
       "              (wo): Linear(in_features=1024, out_features=512, bias=False)\n",
       "              (dropout): Dropout(p=0.1, inplace=False)\n",
       "              (act): NewGELUActivation()\n",
       "            )\n",
       "            (layer_norm): MT5LayerNorm()\n",
       "            (dropout): Dropout(p=0.1, inplace=False)\n",
       "          )\n",
       "        )\n",
       "      )\n",
       "    )\n",
       "    (final_layer_norm): MT5LayerNorm()\n",
       "    (dropout): Dropout(p=0.1, inplace=False)\n",
       "  )\n",
       "  (decoder): MT5Stack(\n",
       "    (embed_tokens): Embedding(250112, 512)\n",
       "    (block): ModuleList(\n",
       "      (0): MT5Block(\n",
       "        (layer): ModuleList(\n",
       "          (0): MT5LayerSelfAttention(\n",
       "            (SelfAttention): MT5Attention(\n",
       "              (q): Linear(in_features=512, out_features=384, bias=False)\n",
       "              (k): Linear(in_features=512, out_features=384, bias=False)\n",
       "              (v): Linear(in_features=512, out_features=384, bias=False)\n",
       "              (o): Linear(in_features=384, out_features=512, bias=False)\n",
       "              (relative_attention_bias): Embedding(32, 6)\n",
       "            )\n",
       "            (layer_norm): MT5LayerNorm()\n",
       "            (dropout): Dropout(p=0.1, inplace=False)\n",
       "          )\n",
       "          (1): MT5LayerCrossAttention(\n",
       "            (EncDecAttention): MT5Attention(\n",
       "              (q): Linear(in_features=512, out_features=384, bias=False)\n",
       "              (k): Linear(in_features=512, out_features=384, bias=False)\n",
       "              (v): Linear(in_features=512, out_features=384, bias=False)\n",
       "              (o): Linear(in_features=384, out_features=512, bias=False)\n",
       "            )\n",
       "            (layer_norm): MT5LayerNorm()\n",
       "            (dropout): Dropout(p=0.1, inplace=False)\n",
       "          )\n",
       "          (2): MT5LayerFF(\n",
       "            (DenseReluDense): MT5DenseGatedActDense(\n",
       "              (wi_0): Linear(in_features=512, out_features=1024, bias=False)\n",
       "              (wi_1): Linear(in_features=512, out_features=1024, bias=False)\n",
       "              (wo): Linear(in_features=1024, out_features=512, bias=False)\n",
       "              (dropout): Dropout(p=0.1, inplace=False)\n",
       "              (act): NewGELUActivation()\n",
       "            )\n",
       "            (layer_norm): MT5LayerNorm()\n",
       "            (dropout): Dropout(p=0.1, inplace=False)\n",
       "          )\n",
       "        )\n",
       "      )\n",
       "      (1-7): 7 x MT5Block(\n",
       "        (layer): ModuleList(\n",
       "          (0): MT5LayerSelfAttention(\n",
       "            (SelfAttention): MT5Attention(\n",
       "              (q): Linear(in_features=512, out_features=384, bias=False)\n",
       "              (k): Linear(in_features=512, out_features=384, bias=False)\n",
       "              (v): Linear(in_features=512, out_features=384, bias=False)\n",
       "              (o): Linear(in_features=384, out_features=512, bias=False)\n",
       "            )\n",
       "            (layer_norm): MT5LayerNorm()\n",
       "            (dropout): Dropout(p=0.1, inplace=False)\n",
       "          )\n",
       "          (1): MT5LayerCrossAttention(\n",
       "            (EncDecAttention): MT5Attention(\n",
       "              (q): Linear(in_features=512, out_features=384, bias=False)\n",
       "              (k): Linear(in_features=512, out_features=384, bias=False)\n",
       "              (v): Linear(in_features=512, out_features=384, bias=False)\n",
       "              (o): Linear(in_features=384, out_features=512, bias=False)\n",
       "            )\n",
       "            (layer_norm): MT5LayerNorm()\n",
       "            (dropout): Dropout(p=0.1, inplace=False)\n",
       "          )\n",
       "          (2): MT5LayerFF(\n",
       "            (DenseReluDense): MT5DenseGatedActDense(\n",
       "              (wi_0): Linear(in_features=512, out_features=1024, bias=False)\n",
       "              (wi_1): Linear(in_features=512, out_features=1024, bias=False)\n",
       "              (wo): Linear(in_features=1024, out_features=512, bias=False)\n",
       "              (dropout): Dropout(p=0.1, inplace=False)\n",
       "              (act): NewGELUActivation()\n",
       "            )\n",
       "            (layer_norm): MT5LayerNorm()\n",
       "            (dropout): Dropout(p=0.1, inplace=False)\n",
       "          )\n",
       "        )\n",
       "      )\n",
       "    )\n",
       "    (final_layer_norm): MT5LayerNorm()\n",
       "    (dropout): Dropout(p=0.1, inplace=False)\n",
       "  )\n",
       "  (lm_head): Linear(in_features=512, out_features=250112, bias=False)\n",
       ")"
      ]
     },
     "execution_count": 40,
     "metadata": {},
     "output_type": "execute_result"
    }
   ],
   "source": [
    "# Later, to load the model back\n",
    "loaded_model = joblib.load('/kaggle/working/model.pkl')\n",
    "loaded_model"
   ]
  }
 ],
 "metadata": {
  "kernelspec": {
   "display_name": "Python 3",
   "language": "python",
   "name": "python3"
  },
  "language_info": {
   "codemirror_mode": {
    "name": "ipython",
    "version": 3
   },
   "file_extension": ".py",
   "mimetype": "text/x-python",
   "name": "python",
   "nbconvert_exporter": "python",
   "pygments_lexer": "ipython3",
   "version": "3.10.12"
  },
  "papermill": {
   "default_parameters": {},
   "duration": 14477.305421,
   "end_time": "2023-10-29T19:00:28.751657",
   "environment_variables": {},
   "exception": null,
   "input_path": "__notebook__.ipynb",
   "output_path": "__notebook__.ipynb",
   "parameters": {},
   "start_time": "2023-10-29T14:59:11.446236",
   "version": "2.4.0"
  },
  "widgets": {
   "application/vnd.jupyter.widget-state+json": {
    "state": {
     "02ba1e99e66740979c37a66715654cc4": {
      "model_module": "@jupyter-widgets/controls",
      "model_module_version": "1.5.0",
      "model_name": "ProgressStyleModel",
      "state": {
       "_model_module": "@jupyter-widgets/controls",
       "_model_module_version": "1.5.0",
       "_model_name": "ProgressStyleModel",
       "_view_count": null,
       "_view_module": "@jupyter-widgets/base",
       "_view_module_version": "1.2.0",
       "_view_name": "StyleView",
       "bar_color": null,
       "description_width": ""
      }
     },
     "05077eb42af64ac7a1c485fc6b02393e": {
      "model_module": "@jupyter-widgets/controls",
      "model_module_version": "1.5.0",
      "model_name": "DescriptionStyleModel",
      "state": {
       "_model_module": "@jupyter-widgets/controls",
       "_model_module_version": "1.5.0",
       "_model_name": "DescriptionStyleModel",
       "_view_count": null,
       "_view_module": "@jupyter-widgets/base",
       "_view_module_version": "1.2.0",
       "_view_name": "StyleView",
       "description_width": ""
      }
     },
     "0765103fc8e84e7280ea3564a2090d97": {
      "model_module": "@jupyter-widgets/base",
      "model_module_version": "1.2.0",
      "model_name": "LayoutModel",
      "state": {
       "_model_module": "@jupyter-widgets/base",
       "_model_module_version": "1.2.0",
       "_model_name": "LayoutModel",
       "_view_count": null,
       "_view_module": "@jupyter-widgets/base",
       "_view_module_version": "1.2.0",
       "_view_name": "LayoutView",
       "align_content": null,
       "align_items": null,
       "align_self": null,
       "border": null,
       "bottom": null,
       "display": null,
       "flex": null,
       "flex_flow": null,
       "grid_area": null,
       "grid_auto_columns": null,
       "grid_auto_flow": null,
       "grid_auto_rows": null,
       "grid_column": null,
       "grid_gap": null,
       "grid_row": null,
       "grid_template_areas": null,
       "grid_template_columns": null,
       "grid_template_rows": null,
       "height": null,
       "justify_content": null,
       "justify_items": null,
       "left": null,
       "margin": null,
       "max_height": null,
       "max_width": null,
       "min_height": null,
       "min_width": null,
       "object_fit": null,
       "object_position": null,
       "order": null,
       "overflow": null,
       "overflow_x": null,
       "overflow_y": null,
       "padding": null,
       "right": null,
       "top": null,
       "visibility": null,
       "width": null
      }
     },
     "08244438739949b7b035794038e050f5": {
      "model_module": "@jupyter-widgets/base",
      "model_module_version": "1.2.0",
      "model_name": "LayoutModel",
      "state": {
       "_model_module": "@jupyter-widgets/base",
       "_model_module_version": "1.2.0",
       "_model_name": "LayoutModel",
       "_view_count": null,
       "_view_module": "@jupyter-widgets/base",
       "_view_module_version": "1.2.0",
       "_view_name": "LayoutView",
       "align_content": null,
       "align_items": null,
       "align_self": null,
       "border": null,
       "bottom": null,
       "display": null,
       "flex": null,
       "flex_flow": null,
       "grid_area": null,
       "grid_auto_columns": null,
       "grid_auto_flow": null,
       "grid_auto_rows": null,
       "grid_column": null,
       "grid_gap": null,
       "grid_row": null,
       "grid_template_areas": null,
       "grid_template_columns": null,
       "grid_template_rows": null,
       "height": null,
       "justify_content": null,
       "justify_items": null,
       "left": null,
       "margin": null,
       "max_height": null,
       "max_width": null,
       "min_height": null,
       "min_width": null,
       "object_fit": null,
       "object_position": null,
       "order": null,
       "overflow": null,
       "overflow_x": null,
       "overflow_y": null,
       "padding": null,
       "right": null,
       "top": null,
       "visibility": null,
       "width": null
      }
     },
     "090dba6fd8f646edb998ebe2e9af389e": {
      "model_module": "@jupyter-widgets/base",
      "model_module_version": "1.2.0",
      "model_name": "LayoutModel",
      "state": {
       "_model_module": "@jupyter-widgets/base",
       "_model_module_version": "1.2.0",
       "_model_name": "LayoutModel",
       "_view_count": null,
       "_view_module": "@jupyter-widgets/base",
       "_view_module_version": "1.2.0",
       "_view_name": "LayoutView",
       "align_content": null,
       "align_items": null,
       "align_self": null,
       "border": null,
       "bottom": null,
       "display": null,
       "flex": null,
       "flex_flow": null,
       "grid_area": null,
       "grid_auto_columns": null,
       "grid_auto_flow": null,
       "grid_auto_rows": null,
       "grid_column": null,
       "grid_gap": null,
       "grid_row": null,
       "grid_template_areas": null,
       "grid_template_columns": null,
       "grid_template_rows": null,
       "height": null,
       "justify_content": null,
       "justify_items": null,
       "left": null,
       "margin": null,
       "max_height": null,
       "max_width": null,
       "min_height": null,
       "min_width": null,
       "object_fit": null,
       "object_position": null,
       "order": null,
       "overflow": null,
       "overflow_x": null,
       "overflow_y": null,
       "padding": null,
       "right": null,
       "top": null,
       "visibility": null,
       "width": null
      }
     },
     "0a3de4ba83b548f2894a28a7de072113": {
      "model_module": "@jupyter-widgets/controls",
      "model_module_version": "1.5.0",
      "model_name": "HBoxModel",
      "state": {
       "_dom_classes": [],
       "_model_module": "@jupyter-widgets/controls",
       "_model_module_version": "1.5.0",
       "_model_name": "HBoxModel",
       "_view_count": null,
       "_view_module": "@jupyter-widgets/controls",
       "_view_module_version": "1.5.0",
       "_view_name": "HBoxView",
       "box_style": "",
       "children": [
        "IPY_MODEL_5fcce0ff26fc484eb3baab97fa8379c4",
        "IPY_MODEL_928de9ecb3e3469d974c710a7c51b39f",
        "IPY_MODEL_e14f0b63e19548cab908cf0b72d8b9f1"
       ],
       "layout": "IPY_MODEL_1438f5d4049348b9b81abe6c4db4c7f0"
      }
     },
     "0c0bdd32486843d6954d9787b1e50e8d": {
      "model_module": "@jupyter-widgets/base",
      "model_module_version": "1.2.0",
      "model_name": "LayoutModel",
      "state": {
       "_model_module": "@jupyter-widgets/base",
       "_model_module_version": "1.2.0",
       "_model_name": "LayoutModel",
       "_view_count": null,
       "_view_module": "@jupyter-widgets/base",
       "_view_module_version": "1.2.0",
       "_view_name": "LayoutView",
       "align_content": null,
       "align_items": null,
       "align_self": null,
       "border": null,
       "bottom": null,
       "display": null,
       "flex": null,
       "flex_flow": null,
       "grid_area": null,
       "grid_auto_columns": null,
       "grid_auto_flow": null,
       "grid_auto_rows": null,
       "grid_column": null,
       "grid_gap": null,
       "grid_row": null,
       "grid_template_areas": null,
       "grid_template_columns": null,
       "grid_template_rows": null,
       "height": null,
       "justify_content": null,
       "justify_items": null,
       "left": null,
       "margin": null,
       "max_height": null,
       "max_width": null,
       "min_height": null,
       "min_width": null,
       "object_fit": null,
       "object_position": null,
       "order": null,
       "overflow": null,
       "overflow_x": null,
       "overflow_y": null,
       "padding": null,
       "right": null,
       "top": null,
       "visibility": null,
       "width": null
      }
     },
     "1438f5d4049348b9b81abe6c4db4c7f0": {
      "model_module": "@jupyter-widgets/base",
      "model_module_version": "1.2.0",
      "model_name": "LayoutModel",
      "state": {
       "_model_module": "@jupyter-widgets/base",
       "_model_module_version": "1.2.0",
       "_model_name": "LayoutModel",
       "_view_count": null,
       "_view_module": "@jupyter-widgets/base",
       "_view_module_version": "1.2.0",
       "_view_name": "LayoutView",
       "align_content": null,
       "align_items": null,
       "align_self": null,
       "border": null,
       "bottom": null,
       "display": null,
       "flex": null,
       "flex_flow": null,
       "grid_area": null,
       "grid_auto_columns": null,
       "grid_auto_flow": null,
       "grid_auto_rows": null,
       "grid_column": null,
       "grid_gap": null,
       "grid_row": null,
       "grid_template_areas": null,
       "grid_template_columns": null,
       "grid_template_rows": null,
       "height": null,
       "justify_content": null,
       "justify_items": null,
       "left": null,
       "margin": null,
       "max_height": null,
       "max_width": null,
       "min_height": null,
       "min_width": null,
       "object_fit": null,
       "object_position": null,
       "order": null,
       "overflow": null,
       "overflow_x": null,
       "overflow_y": null,
       "padding": null,
       "right": null,
       "top": null,
       "visibility": null,
       "width": null
      }
     },
     "219fb1048c7c43fd8e8f441386a8ffcd": {
      "model_module": "@jupyter-widgets/controls",
      "model_module_version": "1.5.0",
      "model_name": "DescriptionStyleModel",
      "state": {
       "_model_module": "@jupyter-widgets/controls",
       "_model_module_version": "1.5.0",
       "_model_name": "DescriptionStyleModel",
       "_view_count": null,
       "_view_module": "@jupyter-widgets/base",
       "_view_module_version": "1.2.0",
       "_view_name": "StyleView",
       "description_width": ""
      }
     },
     "22d08fdf52964a43b462da46344f65f8": {
      "model_module": "@jupyter-widgets/controls",
      "model_module_version": "1.5.0",
      "model_name": "DescriptionStyleModel",
      "state": {
       "_model_module": "@jupyter-widgets/controls",
       "_model_module_version": "1.5.0",
       "_model_name": "DescriptionStyleModel",
       "_view_count": null,
       "_view_module": "@jupyter-widgets/base",
       "_view_module_version": "1.2.0",
       "_view_name": "StyleView",
       "description_width": ""
      }
     },
     "2b83d7428fb341d5b9717845a9472a61": {
      "model_module": "@jupyter-widgets/controls",
      "model_module_version": "1.5.0",
      "model_name": "HTMLModel",
      "state": {
       "_dom_classes": [],
       "_model_module": "@jupyter-widgets/controls",
       "_model_module_version": "1.5.0",
       "_model_name": "HTMLModel",
       "_view_count": null,
       "_view_module": "@jupyter-widgets/controls",
       "_view_module_version": "1.5.0",
       "_view_name": "HTMLView",
       "description": "",
       "description_tooltip": null,
       "layout": "IPY_MODEL_a52fbbe0c78d43ae924ac3edf15dd1e7",
       "placeholder": "​",
       "style": "IPY_MODEL_8734974e856744e2bb1ddc0607f1e7a3",
       "value": " 4.48k/? [00:00&lt;00:00, 307kB/s]"
      }
     },
     "2b84889f93f24990ab705a96edf9b545": {
      "model_module": "@jupyter-widgets/base",
      "model_module_version": "1.2.0",
      "model_name": "LayoutModel",
      "state": {
       "_model_module": "@jupyter-widgets/base",
       "_model_module_version": "1.2.0",
       "_model_name": "LayoutModel",
       "_view_count": null,
       "_view_module": "@jupyter-widgets/base",
       "_view_module_version": "1.2.0",
       "_view_name": "LayoutView",
       "align_content": null,
       "align_items": null,
       "align_self": null,
       "border": null,
       "bottom": null,
       "display": null,
       "flex": null,
       "flex_flow": null,
       "grid_area": null,
       "grid_auto_columns": null,
       "grid_auto_flow": null,
       "grid_auto_rows": null,
       "grid_column": null,
       "grid_gap": null,
       "grid_row": null,
       "grid_template_areas": null,
       "grid_template_columns": null,
       "grid_template_rows": null,
       "height": null,
       "justify_content": null,
       "justify_items": null,
       "left": null,
       "margin": null,
       "max_height": null,
       "max_width": null,
       "min_height": null,
       "min_width": null,
       "object_fit": null,
       "object_position": null,
       "order": null,
       "overflow": null,
       "overflow_x": null,
       "overflow_y": null,
       "padding": null,
       "right": null,
       "top": null,
       "visibility": null,
       "width": null
      }
     },
     "306a5904d17c43bca6ac2365ceda7797": {
      "model_module": "@jupyter-widgets/base",
      "model_module_version": "1.2.0",
      "model_name": "LayoutModel",
      "state": {
       "_model_module": "@jupyter-widgets/base",
       "_model_module_version": "1.2.0",
       "_model_name": "LayoutModel",
       "_view_count": null,
       "_view_module": "@jupyter-widgets/base",
       "_view_module_version": "1.2.0",
       "_view_name": "LayoutView",
       "align_content": null,
       "align_items": null,
       "align_self": null,
       "border": null,
       "bottom": null,
       "display": null,
       "flex": null,
       "flex_flow": null,
       "grid_area": null,
       "grid_auto_columns": null,
       "grid_auto_flow": null,
       "grid_auto_rows": null,
       "grid_column": null,
       "grid_gap": null,
       "grid_row": null,
       "grid_template_areas": null,
       "grid_template_columns": null,
       "grid_template_rows": null,
       "height": null,
       "justify_content": null,
       "justify_items": null,
       "left": null,
       "margin": null,
       "max_height": null,
       "max_width": null,
       "min_height": null,
       "min_width": null,
       "object_fit": null,
       "object_position": null,
       "order": null,
       "overflow": null,
       "overflow_x": null,
       "overflow_y": null,
       "padding": null,
       "right": null,
       "top": null,
       "visibility": null,
       "width": null
      }
     },
     "31439d4b05c646d8bc9bf746a80f5946": {
      "model_module": "@jupyter-widgets/controls",
      "model_module_version": "1.5.0",
      "model_name": "HTMLModel",
      "state": {
       "_dom_classes": [],
       "_model_module": "@jupyter-widgets/controls",
       "_model_module_version": "1.5.0",
       "_model_name": "HTMLModel",
       "_view_count": null,
       "_view_module": "@jupyter-widgets/controls",
       "_view_module_version": "1.5.0",
       "_view_name": "HTMLView",
       "description": "",
       "description_tooltip": null,
       "layout": "IPY_MODEL_c49d13d8aaa2406f9f5d7c08ac3b3edf",
       "placeholder": "​",
       "style": "IPY_MODEL_a037886600d84cce9dbe926af3a0891c",
       "value": "Downloading (…)ve/main/spiece.model: 100%"
      }
     },
     "33bdfa2cfae2400e84e7a2406691578f": {
      "model_module": "@jupyter-widgets/controls",
      "model_module_version": "1.5.0",
      "model_name": "HTMLModel",
      "state": {
       "_dom_classes": [],
       "_model_module": "@jupyter-widgets/controls",
       "_model_module_version": "1.5.0",
       "_model_name": "HTMLModel",
       "_view_count": null,
       "_view_module": "@jupyter-widgets/controls",
       "_view_module_version": "1.5.0",
       "_view_name": "HTMLView",
       "description": "",
       "description_tooltip": null,
       "layout": "IPY_MODEL_306a5904d17c43bca6ac2365ceda7797",
       "placeholder": "​",
       "style": "IPY_MODEL_05077eb42af64ac7a1c485fc6b02393e",
       "value": "Downloading (…)okenizer_config.json: 100%"
      }
     },
     "3598d93ca9674353a182467763ac951d": {
      "model_module": "@jupyter-widgets/controls",
      "model_module_version": "1.5.0",
      "model_name": "HTMLModel",
      "state": {
       "_dom_classes": [],
       "_model_module": "@jupyter-widgets/controls",
       "_model_module_version": "1.5.0",
       "_model_name": "HTMLModel",
       "_view_count": null,
       "_view_module": "@jupyter-widgets/controls",
       "_view_module_version": "1.5.0",
       "_view_name": "HTMLView",
       "description": "",
       "description_tooltip": null,
       "layout": "IPY_MODEL_41378eb3a67049efacc3a380584a0777",
       "placeholder": "​",
       "style": "IPY_MODEL_22d08fdf52964a43b462da46344f65f8",
       "value": "Downloading builder script: "
      }
     },
     "37c1699e0b2a4e64848d0d56e9de2e10": {
      "model_module": "@jupyter-widgets/controls",
      "model_module_version": "1.5.0",
      "model_name": "ProgressStyleModel",
      "state": {
       "_model_module": "@jupyter-widgets/controls",
       "_model_module_version": "1.5.0",
       "_model_name": "ProgressStyleModel",
       "_view_count": null,
       "_view_module": "@jupyter-widgets/base",
       "_view_module_version": "1.2.0",
       "_view_name": "StyleView",
       "bar_color": null,
       "description_width": ""
      }
     },
     "38d9b9eb69864c3dadd25e6c29ba9c6e": {
      "model_module": "@jupyter-widgets/controls",
      "model_module_version": "1.5.0",
      "model_name": "FloatProgressModel",
      "state": {
       "_dom_classes": [],
       "_model_module": "@jupyter-widgets/controls",
       "_model_module_version": "1.5.0",
       "_model_name": "FloatProgressModel",
       "_view_count": null,
       "_view_module": "@jupyter-widgets/controls",
       "_view_module_version": "1.5.0",
       "_view_name": "ProgressView",
       "bar_style": "success",
       "description": "",
       "description_tooltip": null,
       "layout": "IPY_MODEL_f96cd0fc5b614a778a83c94cba9d588f",
       "max": 1200794589.0,
       "min": 0.0,
       "orientation": "horizontal",
       "style": "IPY_MODEL_cadc234471fd4b0d972ab8075945e41b",
       "value": 1200794589.0
      }
     },
     "3bacf2b48667489dbfec79b5d068bc49": {
      "model_module": "@jupyter-widgets/base",
      "model_module_version": "1.2.0",
      "model_name": "LayoutModel",
      "state": {
       "_model_module": "@jupyter-widgets/base",
       "_model_module_version": "1.2.0",
       "_model_name": "LayoutModel",
       "_view_count": null,
       "_view_module": "@jupyter-widgets/base",
       "_view_module_version": "1.2.0",
       "_view_name": "LayoutView",
       "align_content": null,
       "align_items": null,
       "align_self": null,
       "border": null,
       "bottom": null,
       "display": null,
       "flex": null,
       "flex_flow": null,
       "grid_area": null,
       "grid_auto_columns": null,
       "grid_auto_flow": null,
       "grid_auto_rows": null,
       "grid_column": null,
       "grid_gap": null,
       "grid_row": null,
       "grid_template_areas": null,
       "grid_template_columns": null,
       "grid_template_rows": null,
       "height": null,
       "justify_content": null,
       "justify_items": null,
       "left": null,
       "margin": null,
       "max_height": null,
       "max_width": null,
       "min_height": null,
       "min_width": null,
       "object_fit": null,
       "object_position": null,
       "order": null,
       "overflow": null,
       "overflow_x": null,
       "overflow_y": null,
       "padding": null,
       "right": null,
       "top": null,
       "visibility": null,
       "width": null
      }
     },
     "3cbd9900f290495db7f92e456052c5ab": {
      "model_module": "@jupyter-widgets/base",
      "model_module_version": "1.2.0",
      "model_name": "LayoutModel",
      "state": {
       "_model_module": "@jupyter-widgets/base",
       "_model_module_version": "1.2.0",
       "_model_name": "LayoutModel",
       "_view_count": null,
       "_view_module": "@jupyter-widgets/base",
       "_view_module_version": "1.2.0",
       "_view_name": "LayoutView",
       "align_content": null,
       "align_items": null,
       "align_self": null,
       "border": null,
       "bottom": null,
       "display": null,
       "flex": null,
       "flex_flow": null,
       "grid_area": null,
       "grid_auto_columns": null,
       "grid_auto_flow": null,
       "grid_auto_rows": null,
       "grid_column": null,
       "grid_gap": null,
       "grid_row": null,
       "grid_template_areas": null,
       "grid_template_columns": null,
       "grid_template_rows": null,
       "height": null,
       "justify_content": null,
       "justify_items": null,
       "left": null,
       "margin": null,
       "max_height": null,
       "max_width": null,
       "min_height": null,
       "min_width": null,
       "object_fit": null,
       "object_position": null,
       "order": null,
       "overflow": null,
       "overflow_x": null,
       "overflow_y": null,
       "padding": null,
       "right": null,
       "top": null,
       "visibility": null,
       "width": null
      }
     },
     "3d66dda28a2f4401a1233f3aaf633ad3": {
      "model_module": "@jupyter-widgets/controls",
      "model_module_version": "1.5.0",
      "model_name": "HTMLModel",
      "state": {
       "_dom_classes": [],
       "_model_module": "@jupyter-widgets/controls",
       "_model_module_version": "1.5.0",
       "_model_name": "HTMLModel",
       "_view_count": null,
       "_view_module": "@jupyter-widgets/controls",
       "_view_module_version": "1.5.0",
       "_view_name": "HTMLView",
       "description": "",
       "description_tooltip": null,
       "layout": "IPY_MODEL_97d7e23af200437197745a44d1ebef64",
       "placeholder": "​",
       "style": "IPY_MODEL_a391f25dc5b74d00b238e6ee9a9bec60",
       "value": " 553/553 [00:00&lt;00:00, 40.6kB/s]"
      }
     },
     "3d92bcf51ed34036adde817d81eafd30": {
      "model_module": "@jupyter-widgets/controls",
      "model_module_version": "1.5.0",
      "model_name": "DescriptionStyleModel",
      "state": {
       "_model_module": "@jupyter-widgets/controls",
       "_model_module_version": "1.5.0",
       "_model_name": "DescriptionStyleModel",
       "_view_count": null,
       "_view_module": "@jupyter-widgets/base",
       "_view_module_version": "1.2.0",
       "_view_name": "StyleView",
       "description_width": ""
      }
     },
     "41378eb3a67049efacc3a380584a0777": {
      "model_module": "@jupyter-widgets/base",
      "model_module_version": "1.2.0",
      "model_name": "LayoutModel",
      "state": {
       "_model_module": "@jupyter-widgets/base",
       "_model_module_version": "1.2.0",
       "_model_name": "LayoutModel",
       "_view_count": null,
       "_view_module": "@jupyter-widgets/base",
       "_view_module_version": "1.2.0",
       "_view_name": "LayoutView",
       "align_content": null,
       "align_items": null,
       "align_self": null,
       "border": null,
       "bottom": null,
       "display": null,
       "flex": null,
       "flex_flow": null,
       "grid_area": null,
       "grid_auto_columns": null,
       "grid_auto_flow": null,
       "grid_auto_rows": null,
       "grid_column": null,
       "grid_gap": null,
       "grid_row": null,
       "grid_template_areas": null,
       "grid_template_columns": null,
       "grid_template_rows": null,
       "height": null,
       "justify_content": null,
       "justify_items": null,
       "left": null,
       "margin": null,
       "max_height": null,
       "max_width": null,
       "min_height": null,
       "min_width": null,
       "object_fit": null,
       "object_position": null,
       "order": null,
       "overflow": null,
       "overflow_x": null,
       "overflow_y": null,
       "padding": null,
       "right": null,
       "top": null,
       "visibility": null,
       "width": null
      }
     },
     "4395c845ccfb401080c637d8c9c2402f": {
      "model_module": "@jupyter-widgets/controls",
      "model_module_version": "1.5.0",
      "model_name": "HBoxModel",
      "state": {
       "_dom_classes": [],
       "_model_module": "@jupyter-widgets/controls",
       "_model_module_version": "1.5.0",
       "_model_name": "HBoxModel",
       "_view_count": null,
       "_view_module": "@jupyter-widgets/controls",
       "_view_module_version": "1.5.0",
       "_view_name": "HBoxView",
       "box_style": "",
       "children": [
        "IPY_MODEL_ccee783cb19c48acb38291854fe38e18",
        "IPY_MODEL_dcd197258b4d440b8e76dd3617ec62fc",
        "IPY_MODEL_9bbcb9febcd54229b631030edbbbf7dc"
       ],
       "layout": "IPY_MODEL_775ab02b24444883a08ec0c6fe8615a6"
      }
     },
     "462d6b80a1524eaabfa0bc339d33b5df": {
      "model_module": "@jupyter-widgets/base",
      "model_module_version": "1.2.0",
      "model_name": "LayoutModel",
      "state": {
       "_model_module": "@jupyter-widgets/base",
       "_model_module_version": "1.2.0",
       "_model_name": "LayoutModel",
       "_view_count": null,
       "_view_module": "@jupyter-widgets/base",
       "_view_module_version": "1.2.0",
       "_view_name": "LayoutView",
       "align_content": null,
       "align_items": null,
       "align_self": null,
       "border": null,
       "bottom": null,
       "display": null,
       "flex": null,
       "flex_flow": null,
       "grid_area": null,
       "grid_auto_columns": null,
       "grid_auto_flow": null,
       "grid_auto_rows": null,
       "grid_column": null,
       "grid_gap": null,
       "grid_row": null,
       "grid_template_areas": null,
       "grid_template_columns": null,
       "grid_template_rows": null,
       "height": null,
       "justify_content": null,
       "justify_items": null,
       "left": null,
       "margin": null,
       "max_height": null,
       "max_width": null,
       "min_height": null,
       "min_width": null,
       "object_fit": null,
       "object_position": null,
       "order": null,
       "overflow": null,
       "overflow_x": null,
       "overflow_y": null,
       "padding": null,
       "right": null,
       "top": null,
       "visibility": null,
       "width": null
      }
     },
     "49c3762a561f4c27bd16f6eec827b582": {
      "model_module": "@jupyter-widgets/controls",
      "model_module_version": "1.5.0",
      "model_name": "HTMLModel",
      "state": {
       "_dom_classes": [],
       "_model_module": "@jupyter-widgets/controls",
       "_model_module_version": "1.5.0",
       "_model_name": "HTMLModel",
       "_view_count": null,
       "_view_module": "@jupyter-widgets/controls",
       "_view_module_version": "1.5.0",
       "_view_name": "HTMLView",
       "description": "",
       "description_tooltip": null,
       "layout": "IPY_MODEL_fa04864555e24e0b9a0bcc65225c79a4",
       "placeholder": "​",
       "style": "IPY_MODEL_ffb62690ee8f49cc81105f3231de92ab",
       "value": "100%"
      }
     },
     "4dbe8946f82f458b86392a4154fb9e5e": {
      "model_module": "@jupyter-widgets/controls",
      "model_module_version": "1.5.0",
      "model_name": "FloatProgressModel",
      "state": {
       "_dom_classes": [],
       "_model_module": "@jupyter-widgets/controls",
       "_model_module_version": "1.5.0",
       "_model_name": "FloatProgressModel",
       "_view_count": null,
       "_view_module": "@jupyter-widgets/controls",
       "_view_module_version": "1.5.0",
       "_view_name": "ProgressView",
       "bar_style": "success",
       "description": "",
       "description_tooltip": null,
       "layout": "IPY_MODEL_960792ac4c3e4360808f491de1a6c100",
       "max": 4309802.0,
       "min": 0.0,
       "orientation": "horizontal",
       "style": "IPY_MODEL_736368d52c75488eb4f564f067566583",
       "value": 4309802.0
      }
     },
     "4fa610b514804f02aecad24f0696a6d3": {
      "model_module": "@jupyter-widgets/controls",
      "model_module_version": "1.5.0",
      "model_name": "ProgressStyleModel",
      "state": {
       "_model_module": "@jupyter-widgets/controls",
       "_model_module_version": "1.5.0",
       "_model_name": "ProgressStyleModel",
       "_view_count": null,
       "_view_module": "@jupyter-widgets/base",
       "_view_module_version": "1.2.0",
       "_view_name": "StyleView",
       "bar_color": null,
       "description_width": ""
      }
     },
     "5a0d0e178539482e977f2fd27e81c7db": {
      "model_module": "@jupyter-widgets/controls",
      "model_module_version": "1.5.0",
      "model_name": "DescriptionStyleModel",
      "state": {
       "_model_module": "@jupyter-widgets/controls",
       "_model_module_version": "1.5.0",
       "_model_name": "DescriptionStyleModel",
       "_view_count": null,
       "_view_module": "@jupyter-widgets/base",
       "_view_module_version": "1.2.0",
       "_view_name": "StyleView",
       "description_width": ""
      }
     },
     "5c4821057bff4198a4d3a3807d722012": {
      "model_module": "@jupyter-widgets/base",
      "model_module_version": "1.2.0",
      "model_name": "LayoutModel",
      "state": {
       "_model_module": "@jupyter-widgets/base",
       "_model_module_version": "1.2.0",
       "_model_name": "LayoutModel",
       "_view_count": null,
       "_view_module": "@jupyter-widgets/base",
       "_view_module_version": "1.2.0",
       "_view_name": "LayoutView",
       "align_content": null,
       "align_items": null,
       "align_self": null,
       "border": null,
       "bottom": null,
       "display": null,
       "flex": null,
       "flex_flow": null,
       "grid_area": null,
       "grid_auto_columns": null,
       "grid_auto_flow": null,
       "grid_auto_rows": null,
       "grid_column": null,
       "grid_gap": null,
       "grid_row": null,
       "grid_template_areas": null,
       "grid_template_columns": null,
       "grid_template_rows": null,
       "height": null,
       "justify_content": null,
       "justify_items": null,
       "left": null,
       "margin": null,
       "max_height": null,
       "max_width": null,
       "min_height": null,
       "min_width": null,
       "object_fit": null,
       "object_position": null,
       "order": null,
       "overflow": null,
       "overflow_x": null,
       "overflow_y": null,
       "padding": null,
       "right": null,
       "top": null,
       "visibility": null,
       "width": null
      }
     },
     "5fcce0ff26fc484eb3baab97fa8379c4": {
      "model_module": "@jupyter-widgets/controls",
      "model_module_version": "1.5.0",
      "model_name": "HTMLModel",
      "state": {
       "_dom_classes": [],
       "_model_module": "@jupyter-widgets/controls",
       "_model_module_version": "1.5.0",
       "_model_name": "HTMLModel",
       "_view_count": null,
       "_view_module": "@jupyter-widgets/controls",
       "_view_module_version": "1.5.0",
       "_view_name": "HTMLView",
       "description": "",
       "description_tooltip": null,
       "layout": "IPY_MODEL_db60ff27217647ab9b92f0918c9e055e",
       "placeholder": "​",
       "style": "IPY_MODEL_c61b208baf1d4151bf5f6e07eda6b7fe",
       "value": "Downloading (…)neration_config.json: 100%"
      }
     },
     "602f1b99e6ce45459714f1a61ac5bc93": {
      "model_module": "@jupyter-widgets/controls",
      "model_module_version": "1.5.0",
      "model_name": "DescriptionStyleModel",
      "state": {
       "_model_module": "@jupyter-widgets/controls",
       "_model_module_version": "1.5.0",
       "_model_name": "DescriptionStyleModel",
       "_view_count": null,
       "_view_module": "@jupyter-widgets/base",
       "_view_module_version": "1.2.0",
       "_view_name": "StyleView",
       "description_width": ""
      }
     },
     "66507c225f6c457db54a5301196f9fc4": {
      "model_module": "@jupyter-widgets/controls",
      "model_module_version": "1.5.0",
      "model_name": "FloatProgressModel",
      "state": {
       "_dom_classes": [],
       "_model_module": "@jupyter-widgets/controls",
       "_model_module_version": "1.5.0",
       "_model_name": "FloatProgressModel",
       "_view_count": null,
       "_view_module": "@jupyter-widgets/controls",
       "_view_module_version": "1.5.0",
       "_view_name": "ProgressView",
       "bar_style": "success",
       "description": "",
       "description_tooltip": null,
       "layout": "IPY_MODEL_a517288a082b4eada0fb0088180231f8",
       "max": 2257.0,
       "min": 0.0,
       "orientation": "horizontal",
       "style": "IPY_MODEL_eb042c99e66149c793bc720ca91e1be7",
       "value": 2257.0
      }
     },
     "666ad0e562f9425d9ec5de588e6bb674": {
      "model_module": "@jupyter-widgets/base",
      "model_module_version": "1.2.0",
      "model_name": "LayoutModel",
      "state": {
       "_model_module": "@jupyter-widgets/base",
       "_model_module_version": "1.2.0",
       "_model_name": "LayoutModel",
       "_view_count": null,
       "_view_module": "@jupyter-widgets/base",
       "_view_module_version": "1.2.0",
       "_view_name": "LayoutView",
       "align_content": null,
       "align_items": null,
       "align_self": null,
       "border": null,
       "bottom": null,
       "display": null,
       "flex": null,
       "flex_flow": null,
       "grid_area": null,
       "grid_auto_columns": null,
       "grid_auto_flow": null,
       "grid_auto_rows": null,
       "grid_column": null,
       "grid_gap": null,
       "grid_row": null,
       "grid_template_areas": null,
       "grid_template_columns": null,
       "grid_template_rows": null,
       "height": null,
       "justify_content": null,
       "justify_items": null,
       "left": null,
       "margin": null,
       "max_height": null,
       "max_width": null,
       "min_height": null,
       "min_width": null,
       "object_fit": null,
       "object_position": null,
       "order": null,
       "overflow": null,
       "overflow_x": null,
       "overflow_y": null,
       "padding": null,
       "right": null,
       "top": null,
       "visibility": null,
       "width": null
      }
     },
     "69439f49fdbe4d44bab616b6e547d638": {
      "model_module": "@jupyter-widgets/controls",
      "model_module_version": "1.5.0",
      "model_name": "DescriptionStyleModel",
      "state": {
       "_model_module": "@jupyter-widgets/controls",
       "_model_module_version": "1.5.0",
       "_model_name": "DescriptionStyleModel",
       "_view_count": null,
       "_view_module": "@jupyter-widgets/base",
       "_view_module_version": "1.2.0",
       "_view_name": "StyleView",
       "description_width": ""
      }
     },
     "6bd3709f3df54743915428018e85bb8b": {
      "model_module": "@jupyter-widgets/base",
      "model_module_version": "1.2.0",
      "model_name": "LayoutModel",
      "state": {
       "_model_module": "@jupyter-widgets/base",
       "_model_module_version": "1.2.0",
       "_model_name": "LayoutModel",
       "_view_count": null,
       "_view_module": "@jupyter-widgets/base",
       "_view_module_version": "1.2.0",
       "_view_name": "LayoutView",
       "align_content": null,
       "align_items": null,
       "align_self": null,
       "border": null,
       "bottom": null,
       "display": null,
       "flex": null,
       "flex_flow": null,
       "grid_area": null,
       "grid_auto_columns": null,
       "grid_auto_flow": null,
       "grid_auto_rows": null,
       "grid_column": null,
       "grid_gap": null,
       "grid_row": null,
       "grid_template_areas": null,
       "grid_template_columns": null,
       "grid_template_rows": null,
       "height": null,
       "justify_content": null,
       "justify_items": null,
       "left": null,
       "margin": null,
       "max_height": null,
       "max_width": null,
       "min_height": null,
       "min_width": null,
       "object_fit": null,
       "object_position": null,
       "order": null,
       "overflow": null,
       "overflow_x": null,
       "overflow_y": null,
       "padding": null,
       "right": null,
       "top": null,
       "visibility": null,
       "width": null
      }
     },
     "6e42be68d0844cbc8bf820bd50a9d37c": {
      "model_module": "@jupyter-widgets/base",
      "model_module_version": "1.2.0",
      "model_name": "LayoutModel",
      "state": {
       "_model_module": "@jupyter-widgets/base",
       "_model_module_version": "1.2.0",
       "_model_name": "LayoutModel",
       "_view_count": null,
       "_view_module": "@jupyter-widgets/base",
       "_view_module_version": "1.2.0",
       "_view_name": "LayoutView",
       "align_content": null,
       "align_items": null,
       "align_self": null,
       "border": null,
       "bottom": null,
       "display": null,
       "flex": null,
       "flex_flow": null,
       "grid_area": null,
       "grid_auto_columns": null,
       "grid_auto_flow": null,
       "grid_auto_rows": null,
       "grid_column": null,
       "grid_gap": null,
       "grid_row": null,
       "grid_template_areas": null,
       "grid_template_columns": null,
       "grid_template_rows": null,
       "height": null,
       "justify_content": null,
       "justify_items": null,
       "left": null,
       "margin": null,
       "max_height": null,
       "max_width": null,
       "min_height": null,
       "min_width": null,
       "object_fit": null,
       "object_position": null,
       "order": null,
       "overflow": null,
       "overflow_x": null,
       "overflow_y": null,
       "padding": null,
       "right": null,
       "top": null,
       "visibility": null,
       "width": null
      }
     },
     "6eda7e54006a46d09a0e6f536b6de801": {
      "model_module": "@jupyter-widgets/base",
      "model_module_version": "1.2.0",
      "model_name": "LayoutModel",
      "state": {
       "_model_module": "@jupyter-widgets/base",
       "_model_module_version": "1.2.0",
       "_model_name": "LayoutModel",
       "_view_count": null,
       "_view_module": "@jupyter-widgets/base",
       "_view_module_version": "1.2.0",
       "_view_name": "LayoutView",
       "align_content": null,
       "align_items": null,
       "align_self": null,
       "border": null,
       "bottom": null,
       "display": null,
       "flex": null,
       "flex_flow": null,
       "grid_area": null,
       "grid_auto_columns": null,
       "grid_auto_flow": null,
       "grid_auto_rows": null,
       "grid_column": null,
       "grid_gap": null,
       "grid_row": null,
       "grid_template_areas": null,
       "grid_template_columns": null,
       "grid_template_rows": null,
       "height": null,
       "justify_content": null,
       "justify_items": null,
       "left": null,
       "margin": null,
       "max_height": null,
       "max_width": null,
       "min_height": null,
       "min_width": null,
       "object_fit": null,
       "object_position": null,
       "order": null,
       "overflow": null,
       "overflow_x": null,
       "overflow_y": null,
       "padding": null,
       "right": null,
       "top": null,
       "visibility": null,
       "width": null
      }
     },
     "6fdb71f54d5e40948b253d16768a63df": {
      "model_module": "@jupyter-widgets/base",
      "model_module_version": "1.2.0",
      "model_name": "LayoutModel",
      "state": {
       "_model_module": "@jupyter-widgets/base",
       "_model_module_version": "1.2.0",
       "_model_name": "LayoutModel",
       "_view_count": null,
       "_view_module": "@jupyter-widgets/base",
       "_view_module_version": "1.2.0",
       "_view_name": "LayoutView",
       "align_content": null,
       "align_items": null,
       "align_self": null,
       "border": null,
       "bottom": null,
       "display": null,
       "flex": null,
       "flex_flow": null,
       "grid_area": null,
       "grid_auto_columns": null,
       "grid_auto_flow": null,
       "grid_auto_rows": null,
       "grid_column": null,
       "grid_gap": null,
       "grid_row": null,
       "grid_template_areas": null,
       "grid_template_columns": null,
       "grid_template_rows": null,
       "height": null,
       "justify_content": null,
       "justify_items": null,
       "left": null,
       "margin": null,
       "max_height": null,
       "max_width": null,
       "min_height": null,
       "min_width": null,
       "object_fit": null,
       "object_position": null,
       "order": null,
       "overflow": null,
       "overflow_x": null,
       "overflow_y": null,
       "padding": null,
       "right": null,
       "top": null,
       "visibility": null,
       "width": null
      }
     },
     "736368d52c75488eb4f564f067566583": {
      "model_module": "@jupyter-widgets/controls",
      "model_module_version": "1.5.0",
      "model_name": "ProgressStyleModel",
      "state": {
       "_model_module": "@jupyter-widgets/controls",
       "_model_module_version": "1.5.0",
       "_model_name": "ProgressStyleModel",
       "_view_count": null,
       "_view_module": "@jupyter-widgets/base",
       "_view_module_version": "1.2.0",
       "_view_name": "StyleView",
       "bar_color": null,
       "description_width": ""
      }
     },
     "7733eb7080f148db8f4a634c759cd4b5": {
      "model_module": "@jupyter-widgets/controls",
      "model_module_version": "1.5.0",
      "model_name": "HTMLModel",
      "state": {
       "_dom_classes": [],
       "_model_module": "@jupyter-widgets/controls",
       "_model_module_version": "1.5.0",
       "_model_name": "HTMLModel",
       "_view_count": null,
       "_view_module": "@jupyter-widgets/controls",
       "_view_module_version": "1.5.0",
       "_view_name": "HTMLView",
       "description": "",
       "description_tooltip": null,
       "layout": "IPY_MODEL_2b84889f93f24990ab705a96edf9b545",
       "placeholder": "​",
       "style": "IPY_MODEL_5a0d0e178539482e977f2fd27e81c7db",
       "value": "Downloading (…)lve/main/config.json: 100%"
      }
     },
     "775ab02b24444883a08ec0c6fe8615a6": {
      "model_module": "@jupyter-widgets/base",
      "model_module_version": "1.2.0",
      "model_name": "LayoutModel",
      "state": {
       "_model_module": "@jupyter-widgets/base",
       "_model_module_version": "1.2.0",
       "_model_name": "LayoutModel",
       "_view_count": null,
       "_view_module": "@jupyter-widgets/base",
       "_view_module_version": "1.2.0",
       "_view_name": "LayoutView",
       "align_content": null,
       "align_items": null,
       "align_self": null,
       "border": null,
       "bottom": null,
       "display": null,
       "flex": null,
       "flex_flow": null,
       "grid_area": null,
       "grid_auto_columns": null,
       "grid_auto_flow": null,
       "grid_auto_rows": null,
       "grid_column": null,
       "grid_gap": null,
       "grid_row": null,
       "grid_template_areas": null,
       "grid_template_columns": null,
       "grid_template_rows": null,
       "height": null,
       "justify_content": null,
       "justify_items": null,
       "left": null,
       "margin": null,
       "max_height": null,
       "max_width": null,
       "min_height": null,
       "min_width": null,
       "object_fit": null,
       "object_position": null,
       "order": null,
       "overflow": null,
       "overflow_x": null,
       "overflow_y": null,
       "padding": null,
       "right": null,
       "top": null,
       "visibility": null,
       "width": null
      }
     },
     "7763dd55606e47b4a75d7fa55c0a1b0f": {
      "model_module": "@jupyter-widgets/controls",
      "model_module_version": "1.5.0",
      "model_name": "ProgressStyleModel",
      "state": {
       "_model_module": "@jupyter-widgets/controls",
       "_model_module_version": "1.5.0",
       "_model_name": "ProgressStyleModel",
       "_view_count": null,
       "_view_module": "@jupyter-widgets/base",
       "_view_module_version": "1.2.0",
       "_view_name": "StyleView",
       "bar_color": null,
       "description_width": ""
      }
     },
     "7c3be093b59849ccb284e9b50442af46": {
      "model_module": "@jupyter-widgets/base",
      "model_module_version": "1.2.0",
      "model_name": "LayoutModel",
      "state": {
       "_model_module": "@jupyter-widgets/base",
       "_model_module_version": "1.2.0",
       "_model_name": "LayoutModel",
       "_view_count": null,
       "_view_module": "@jupyter-widgets/base",
       "_view_module_version": "1.2.0",
       "_view_name": "LayoutView",
       "align_content": null,
       "align_items": null,
       "align_self": null,
       "border": null,
       "bottom": null,
       "display": null,
       "flex": null,
       "flex_flow": null,
       "grid_area": null,
       "grid_auto_columns": null,
       "grid_auto_flow": null,
       "grid_auto_rows": null,
       "grid_column": null,
       "grid_gap": null,
       "grid_row": null,
       "grid_template_areas": null,
       "grid_template_columns": null,
       "grid_template_rows": null,
       "height": null,
       "justify_content": null,
       "justify_items": null,
       "left": null,
       "margin": null,
       "max_height": null,
       "max_width": null,
       "min_height": null,
       "min_width": null,
       "object_fit": null,
       "object_position": null,
       "order": null,
       "overflow": null,
       "overflow_x": null,
       "overflow_y": null,
       "padding": null,
       "right": null,
       "top": null,
       "visibility": null,
       "width": null
      }
     },
     "7d3e3843c31141f7b42f4d8823a32cff": {
      "model_module": "@jupyter-widgets/controls",
      "model_module_version": "1.5.0",
      "model_name": "DescriptionStyleModel",
      "state": {
       "_model_module": "@jupyter-widgets/controls",
       "_model_module_version": "1.5.0",
       "_model_name": "DescriptionStyleModel",
       "_view_count": null,
       "_view_module": "@jupyter-widgets/base",
       "_view_module_version": "1.2.0",
       "_view_name": "StyleView",
       "description_width": ""
      }
     },
     "81c1a1ee1e0b4d79b2d327a3e1e8af4d": {
      "model_module": "@jupyter-widgets/controls",
      "model_module_version": "1.5.0",
      "model_name": "FloatProgressModel",
      "state": {
       "_dom_classes": [],
       "_model_module": "@jupyter-widgets/controls",
       "_model_module_version": "1.5.0",
       "_model_name": "FloatProgressModel",
       "_view_count": null,
       "_view_module": "@jupyter-widgets/controls",
       "_view_module_version": "1.5.0",
       "_view_name": "ProgressView",
       "bar_style": "success",
       "description": "",
       "description_tooltip": null,
       "layout": "IPY_MODEL_aefdca767c28427d9a2d08fc4d80cd59",
       "max": 82.0,
       "min": 0.0,
       "orientation": "horizontal",
       "style": "IPY_MODEL_02ba1e99e66740979c37a66715654cc4",
       "value": 82.0
      }
     },
     "8734974e856744e2bb1ddc0607f1e7a3": {
      "model_module": "@jupyter-widgets/controls",
      "model_module_version": "1.5.0",
      "model_name": "DescriptionStyleModel",
      "state": {
       "_model_module": "@jupyter-widgets/controls",
       "_model_module_version": "1.5.0",
       "_model_name": "DescriptionStyleModel",
       "_view_count": null,
       "_view_module": "@jupyter-widgets/base",
       "_view_module_version": "1.2.0",
       "_view_name": "StyleView",
       "description_width": ""
      }
     },
     "8bfe5cce9083417cb1a784d8b29f11b8": {
      "model_module": "@jupyter-widgets/base",
      "model_module_version": "1.2.0",
      "model_name": "LayoutModel",
      "state": {
       "_model_module": "@jupyter-widgets/base",
       "_model_module_version": "1.2.0",
       "_model_name": "LayoutModel",
       "_view_count": null,
       "_view_module": "@jupyter-widgets/base",
       "_view_module_version": "1.2.0",
       "_view_name": "LayoutView",
       "align_content": null,
       "align_items": null,
       "align_self": null,
       "border": null,
       "bottom": null,
       "display": null,
       "flex": null,
       "flex_flow": null,
       "grid_area": null,
       "grid_auto_columns": null,
       "grid_auto_flow": null,
       "grid_auto_rows": null,
       "grid_column": null,
       "grid_gap": null,
       "grid_row": null,
       "grid_template_areas": null,
       "grid_template_columns": null,
       "grid_template_rows": null,
       "height": null,
       "justify_content": null,
       "justify_items": null,
       "left": null,
       "margin": null,
       "max_height": null,
       "max_width": null,
       "min_height": null,
       "min_width": null,
       "object_fit": null,
       "object_position": null,
       "order": null,
       "overflow": null,
       "overflow_x": null,
       "overflow_y": null,
       "padding": null,
       "right": null,
       "top": null,
       "visibility": null,
       "width": null
      }
     },
     "8fb51f89cb4d49db9cb8a79aed63865b": {
      "model_module": "@jupyter-widgets/controls",
      "model_module_version": "1.5.0",
      "model_name": "FloatProgressModel",
      "state": {
       "_dom_classes": [],
       "_model_module": "@jupyter-widgets/controls",
       "_model_module_version": "1.5.0",
       "_model_name": "FloatProgressModel",
       "_view_count": null,
       "_view_module": "@jupyter-widgets/controls",
       "_view_module_version": "1.5.0",
       "_view_name": "ProgressView",
       "bar_style": "success",
       "description": "",
       "description_tooltip": null,
       "layout": "IPY_MODEL_666ad0e562f9425d9ec5de588e6bb674",
       "max": 553.0,
       "min": 0.0,
       "orientation": "horizontal",
       "style": "IPY_MODEL_fc9beeffc70a424fa98f4c0bb8cb01ee",
       "value": 553.0
      }
     },
     "927ccbaf785f4827a6c2f738da6f7668": {
      "model_module": "@jupyter-widgets/base",
      "model_module_version": "1.2.0",
      "model_name": "LayoutModel",
      "state": {
       "_model_module": "@jupyter-widgets/base",
       "_model_module_version": "1.2.0",
       "_model_name": "LayoutModel",
       "_view_count": null,
       "_view_module": "@jupyter-widgets/base",
       "_view_module_version": "1.2.0",
       "_view_name": "LayoutView",
       "align_content": null,
       "align_items": null,
       "align_self": null,
       "border": null,
       "bottom": null,
       "display": null,
       "flex": null,
       "flex_flow": null,
       "grid_area": null,
       "grid_auto_columns": null,
       "grid_auto_flow": null,
       "grid_auto_rows": null,
       "grid_column": null,
       "grid_gap": null,
       "grid_row": null,
       "grid_template_areas": null,
       "grid_template_columns": null,
       "grid_template_rows": null,
       "height": null,
       "justify_content": null,
       "justify_items": null,
       "left": null,
       "margin": null,
       "max_height": null,
       "max_width": null,
       "min_height": null,
       "min_width": null,
       "object_fit": null,
       "object_position": null,
       "order": null,
       "overflow": null,
       "overflow_x": null,
       "overflow_y": null,
       "padding": null,
       "right": null,
       "top": null,
       "visibility": null,
       "width": null
      }
     },
     "928de9ecb3e3469d974c710a7c51b39f": {
      "model_module": "@jupyter-widgets/controls",
      "model_module_version": "1.5.0",
      "model_name": "FloatProgressModel",
      "state": {
       "_dom_classes": [],
       "_model_module": "@jupyter-widgets/controls",
       "_model_module_version": "1.5.0",
       "_model_name": "FloatProgressModel",
       "_view_count": null,
       "_view_module": "@jupyter-widgets/controls",
       "_view_module_version": "1.5.0",
       "_view_name": "ProgressView",
       "bar_style": "success",
       "description": "",
       "description_tooltip": null,
       "layout": "IPY_MODEL_a2a264e1090c4ca6af7b39a06a86d49b",
       "max": 147.0,
       "min": 0.0,
       "orientation": "horizontal",
       "style": "IPY_MODEL_37c1699e0b2a4e64848d0d56e9de2e10",
       "value": 147.0
      }
     },
     "943b42c996304791a4fd69692c396a56": {
      "model_module": "@jupyter-widgets/controls",
      "model_module_version": "1.5.0",
      "model_name": "HBoxModel",
      "state": {
       "_dom_classes": [],
       "_model_module": "@jupyter-widgets/controls",
       "_model_module_version": "1.5.0",
       "_model_name": "HBoxModel",
       "_view_count": null,
       "_view_module": "@jupyter-widgets/controls",
       "_view_module_version": "1.5.0",
       "_view_name": "HBoxView",
       "box_style": "",
       "children": [
        "IPY_MODEL_7733eb7080f148db8f4a634c759cd4b5",
        "IPY_MODEL_8fb51f89cb4d49db9cb8a79aed63865b",
        "IPY_MODEL_3d66dda28a2f4401a1233f3aaf633ad3"
       ],
       "layout": "IPY_MODEL_5c4821057bff4198a4d3a3807d722012"
      }
     },
     "960792ac4c3e4360808f491de1a6c100": {
      "model_module": "@jupyter-widgets/base",
      "model_module_version": "1.2.0",
      "model_name": "LayoutModel",
      "state": {
       "_model_module": "@jupyter-widgets/base",
       "_model_module_version": "1.2.0",
       "_model_name": "LayoutModel",
       "_view_count": null,
       "_view_module": "@jupyter-widgets/base",
       "_view_module_version": "1.2.0",
       "_view_name": "LayoutView",
       "align_content": null,
       "align_items": null,
       "align_self": null,
       "border": null,
       "bottom": null,
       "display": null,
       "flex": null,
       "flex_flow": null,
       "grid_area": null,
       "grid_auto_columns": null,
       "grid_auto_flow": null,
       "grid_auto_rows": null,
       "grid_column": null,
       "grid_gap": null,
       "grid_row": null,
       "grid_template_areas": null,
       "grid_template_columns": null,
       "grid_template_rows": null,
       "height": null,
       "justify_content": null,
       "justify_items": null,
       "left": null,
       "margin": null,
       "max_height": null,
       "max_width": null,
       "min_height": null,
       "min_width": null,
       "object_fit": null,
       "object_position": null,
       "order": null,
       "overflow": null,
       "overflow_x": null,
       "overflow_y": null,
       "padding": null,
       "right": null,
       "top": null,
       "visibility": null,
       "width": null
      }
     },
     "97d7e23af200437197745a44d1ebef64": {
      "model_module": "@jupyter-widgets/base",
      "model_module_version": "1.2.0",
      "model_name": "LayoutModel",
      "state": {
       "_model_module": "@jupyter-widgets/base",
       "_model_module_version": "1.2.0",
       "_model_name": "LayoutModel",
       "_view_count": null,
       "_view_module": "@jupyter-widgets/base",
       "_view_module_version": "1.2.0",
       "_view_name": "LayoutView",
       "align_content": null,
       "align_items": null,
       "align_self": null,
       "border": null,
       "bottom": null,
       "display": null,
       "flex": null,
       "flex_flow": null,
       "grid_area": null,
       "grid_auto_columns": null,
       "grid_auto_flow": null,
       "grid_auto_rows": null,
       "grid_column": null,
       "grid_gap": null,
       "grid_row": null,
       "grid_template_areas": null,
       "grid_template_columns": null,
       "grid_template_rows": null,
       "height": null,
       "justify_content": null,
       "justify_items": null,
       "left": null,
       "margin": null,
       "max_height": null,
       "max_width": null,
       "min_height": null,
       "min_width": null,
       "object_fit": null,
       "object_position": null,
       "order": null,
       "overflow": null,
       "overflow_x": null,
       "overflow_y": null,
       "padding": null,
       "right": null,
       "top": null,
       "visibility": null,
       "width": null
      }
     },
     "9928057a829442ab99edacce4956abd8": {
      "model_module": "@jupyter-widgets/controls",
      "model_module_version": "1.5.0",
      "model_name": "HBoxModel",
      "state": {
       "_dom_classes": [],
       "_model_module": "@jupyter-widgets/controls",
       "_model_module_version": "1.5.0",
       "_model_name": "HBoxModel",
       "_view_count": null,
       "_view_module": "@jupyter-widgets/controls",
       "_view_module_version": "1.5.0",
       "_view_name": "HBoxView",
       "box_style": "",
       "children": [
        "IPY_MODEL_31439d4b05c646d8bc9bf746a80f5946",
        "IPY_MODEL_4dbe8946f82f458b86392a4154fb9e5e",
        "IPY_MODEL_fd3d4c3b659249a19b2d610002607610"
       ],
       "layout": "IPY_MODEL_a378cf811fc147b390eea5fc50b09c5f"
      }
     },
     "9bbcb9febcd54229b631030edbbbf7dc": {
      "model_module": "@jupyter-widgets/controls",
      "model_module_version": "1.5.0",
      "model_name": "HTMLModel",
      "state": {
       "_dom_classes": [],
       "_model_module": "@jupyter-widgets/controls",
       "_model_module_version": "1.5.0",
       "_model_name": "HTMLModel",
       "_view_count": null,
       "_view_module": "@jupyter-widgets/controls",
       "_view_module_version": "1.5.0",
       "_view_name": "HTMLView",
       "description": "",
       "description_tooltip": null,
       "layout": "IPY_MODEL_f9365118537240b1ae5118116199ea53",
       "placeholder": "​",
       "style": "IPY_MODEL_f2c537da48b7425aac474c63fd7a496b",
       "value": " 99.0/99.0 [00:00&lt;00:00, 5.98kB/s]"
      }
     },
     "9c685052642442cc983e9a97817cdf32": {
      "model_module": "@jupyter-widgets/controls",
      "model_module_version": "1.5.0",
      "model_name": "HTMLModel",
      "state": {
       "_dom_classes": [],
       "_model_module": "@jupyter-widgets/controls",
       "_model_module_version": "1.5.0",
       "_model_name": "HTMLModel",
       "_view_count": null,
       "_view_module": "@jupyter-widgets/controls",
       "_view_module_version": "1.5.0",
       "_view_name": "HTMLView",
       "description": "",
       "description_tooltip": null,
       "layout": "IPY_MODEL_08244438739949b7b035794038e050f5",
       "placeholder": "​",
       "style": "IPY_MODEL_ed9ed61e24e448d0b21f5358f6ff1ce3",
       "value": "100%"
      }
     },
     "a037886600d84cce9dbe926af3a0891c": {
      "model_module": "@jupyter-widgets/controls",
      "model_module_version": "1.5.0",
      "model_name": "DescriptionStyleModel",
      "state": {
       "_model_module": "@jupyter-widgets/controls",
       "_model_module_version": "1.5.0",
       "_model_name": "DescriptionStyleModel",
       "_view_count": null,
       "_view_module": "@jupyter-widgets/base",
       "_view_module_version": "1.2.0",
       "_view_name": "StyleView",
       "description_width": ""
      }
     },
     "a2a264e1090c4ca6af7b39a06a86d49b": {
      "model_module": "@jupyter-widgets/base",
      "model_module_version": "1.2.0",
      "model_name": "LayoutModel",
      "state": {
       "_model_module": "@jupyter-widgets/base",
       "_model_module_version": "1.2.0",
       "_model_name": "LayoutModel",
       "_view_count": null,
       "_view_module": "@jupyter-widgets/base",
       "_view_module_version": "1.2.0",
       "_view_name": "LayoutView",
       "align_content": null,
       "align_items": null,
       "align_self": null,
       "border": null,
       "bottom": null,
       "display": null,
       "flex": null,
       "flex_flow": null,
       "grid_area": null,
       "grid_auto_columns": null,
       "grid_auto_flow": null,
       "grid_auto_rows": null,
       "grid_column": null,
       "grid_gap": null,
       "grid_row": null,
       "grid_template_areas": null,
       "grid_template_columns": null,
       "grid_template_rows": null,
       "height": null,
       "justify_content": null,
       "justify_items": null,
       "left": null,
       "margin": null,
       "max_height": null,
       "max_width": null,
       "min_height": null,
       "min_width": null,
       "object_fit": null,
       "object_position": null,
       "order": null,
       "overflow": null,
       "overflow_x": null,
       "overflow_y": null,
       "padding": null,
       "right": null,
       "top": null,
       "visibility": null,
       "width": null
      }
     },
     "a378cf811fc147b390eea5fc50b09c5f": {
      "model_module": "@jupyter-widgets/base",
      "model_module_version": "1.2.0",
      "model_name": "LayoutModel",
      "state": {
       "_model_module": "@jupyter-widgets/base",
       "_model_module_version": "1.2.0",
       "_model_name": "LayoutModel",
       "_view_count": null,
       "_view_module": "@jupyter-widgets/base",
       "_view_module_version": "1.2.0",
       "_view_name": "LayoutView",
       "align_content": null,
       "align_items": null,
       "align_self": null,
       "border": null,
       "bottom": null,
       "display": null,
       "flex": null,
       "flex_flow": null,
       "grid_area": null,
       "grid_auto_columns": null,
       "grid_auto_flow": null,
       "grid_auto_rows": null,
       "grid_column": null,
       "grid_gap": null,
       "grid_row": null,
       "grid_template_areas": null,
       "grid_template_columns": null,
       "grid_template_rows": null,
       "height": null,
       "justify_content": null,
       "justify_items": null,
       "left": null,
       "margin": null,
       "max_height": null,
       "max_width": null,
       "min_height": null,
       "min_width": null,
       "object_fit": null,
       "object_position": null,
       "order": null,
       "overflow": null,
       "overflow_x": null,
       "overflow_y": null,
       "padding": null,
       "right": null,
       "top": null,
       "visibility": null,
       "width": null
      }
     },
     "a391f25dc5b74d00b238e6ee9a9bec60": {
      "model_module": "@jupyter-widgets/controls",
      "model_module_version": "1.5.0",
      "model_name": "DescriptionStyleModel",
      "state": {
       "_model_module": "@jupyter-widgets/controls",
       "_model_module_version": "1.5.0",
       "_model_name": "DescriptionStyleModel",
       "_view_count": null,
       "_view_module": "@jupyter-widgets/base",
       "_view_module_version": "1.2.0",
       "_view_name": "StyleView",
       "description_width": ""
      }
     },
     "a517288a082b4eada0fb0088180231f8": {
      "model_module": "@jupyter-widgets/base",
      "model_module_version": "1.2.0",
      "model_name": "LayoutModel",
      "state": {
       "_model_module": "@jupyter-widgets/base",
       "_model_module_version": "1.2.0",
       "_model_name": "LayoutModel",
       "_view_count": null,
       "_view_module": "@jupyter-widgets/base",
       "_view_module_version": "1.2.0",
       "_view_name": "LayoutView",
       "align_content": null,
       "align_items": null,
       "align_self": null,
       "border": null,
       "bottom": null,
       "display": null,
       "flex": null,
       "flex_flow": null,
       "grid_area": null,
       "grid_auto_columns": null,
       "grid_auto_flow": null,
       "grid_auto_rows": null,
       "grid_column": null,
       "grid_gap": null,
       "grid_row": null,
       "grid_template_areas": null,
       "grid_template_columns": null,
       "grid_template_rows": null,
       "height": null,
       "justify_content": null,
       "justify_items": null,
       "left": null,
       "margin": null,
       "max_height": null,
       "max_width": null,
       "min_height": null,
       "min_width": null,
       "object_fit": null,
       "object_position": null,
       "order": null,
       "overflow": null,
       "overflow_x": null,
       "overflow_y": null,
       "padding": null,
       "right": null,
       "top": null,
       "visibility": null,
       "width": null
      }
     },
     "a52fbbe0c78d43ae924ac3edf15dd1e7": {
      "model_module": "@jupyter-widgets/base",
      "model_module_version": "1.2.0",
      "model_name": "LayoutModel",
      "state": {
       "_model_module": "@jupyter-widgets/base",
       "_model_module_version": "1.2.0",
       "_model_name": "LayoutModel",
       "_view_count": null,
       "_view_module": "@jupyter-widgets/base",
       "_view_module_version": "1.2.0",
       "_view_name": "LayoutView",
       "align_content": null,
       "align_items": null,
       "align_self": null,
       "border": null,
       "bottom": null,
       "display": null,
       "flex": null,
       "flex_flow": null,
       "grid_area": null,
       "grid_auto_columns": null,
       "grid_auto_flow": null,
       "grid_auto_rows": null,
       "grid_column": null,
       "grid_gap": null,
       "grid_row": null,
       "grid_template_areas": null,
       "grid_template_columns": null,
       "grid_template_rows": null,
       "height": null,
       "justify_content": null,
       "justify_items": null,
       "left": null,
       "margin": null,
       "max_height": null,
       "max_width": null,
       "min_height": null,
       "min_width": null,
       "object_fit": null,
       "object_position": null,
       "order": null,
       "overflow": null,
       "overflow_x": null,
       "overflow_y": null,
       "padding": null,
       "right": null,
       "top": null,
       "visibility": null,
       "width": null
      }
     },
     "a763ec619c614ba09bc04b881b22c0dc": {
      "model_module": "@jupyter-widgets/controls",
      "model_module_version": "1.5.0",
      "model_name": "HTMLModel",
      "state": {
       "_dom_classes": [],
       "_model_module": "@jupyter-widgets/controls",
       "_model_module_version": "1.5.0",
       "_model_name": "HTMLModel",
       "_view_count": null,
       "_view_module": "@jupyter-widgets/controls",
       "_view_module_version": "1.5.0",
       "_view_name": "HTMLView",
       "description": "",
       "description_tooltip": null,
       "layout": "IPY_MODEL_927ccbaf785f4827a6c2f738da6f7668",
       "placeholder": "​",
       "style": "IPY_MODEL_602f1b99e6ce45459714f1a61ac5bc93",
       "value": "Downloading pytorch_model.bin: 100%"
      }
     },
     "ac42076772af47adbd0ac30fdde21454": {
      "model_module": "@jupyter-widgets/controls",
      "model_module_version": "1.5.0",
      "model_name": "HTMLModel",
      "state": {
       "_dom_classes": [],
       "_model_module": "@jupyter-widgets/controls",
       "_model_module_version": "1.5.0",
       "_model_name": "HTMLModel",
       "_view_count": null,
       "_view_module": "@jupyter-widgets/controls",
       "_view_module_version": "1.5.0",
       "_view_name": "HTMLView",
       "description": "",
       "description_tooltip": null,
       "layout": "IPY_MODEL_e64b3f5b1e774125a96de80e4cac2e7a",
       "placeholder": "​",
       "style": "IPY_MODEL_3d92bcf51ed34036adde817d81eafd30",
       "value": " 20309/20309 [00:09&lt;00:00, 2052.51ex/s]"
      }
     },
     "aefdca767c28427d9a2d08fc4d80cd59": {
      "model_module": "@jupyter-widgets/base",
      "model_module_version": "1.2.0",
      "model_name": "LayoutModel",
      "state": {
       "_model_module": "@jupyter-widgets/base",
       "_model_module_version": "1.2.0",
       "_model_name": "LayoutModel",
       "_view_count": null,
       "_view_module": "@jupyter-widgets/base",
       "_view_module_version": "1.2.0",
       "_view_name": "LayoutView",
       "align_content": null,
       "align_items": null,
       "align_self": null,
       "border": null,
       "bottom": null,
       "display": null,
       "flex": null,
       "flex_flow": null,
       "grid_area": null,
       "grid_auto_columns": null,
       "grid_auto_flow": null,
       "grid_auto_rows": null,
       "grid_column": null,
       "grid_gap": null,
       "grid_row": null,
       "grid_template_areas": null,
       "grid_template_columns": null,
       "grid_template_rows": null,
       "height": null,
       "justify_content": null,
       "justify_items": null,
       "left": null,
       "margin": null,
       "max_height": null,
       "max_width": null,
       "min_height": null,
       "min_width": null,
       "object_fit": null,
       "object_position": null,
       "order": null,
       "overflow": null,
       "overflow_x": null,
       "overflow_y": null,
       "padding": null,
       "right": null,
       "top": null,
       "visibility": null,
       "width": null
      }
     },
     "b6509deaff5f45eb9fb5b915af03983e": {
      "model_module": "@jupyter-widgets/controls",
      "model_module_version": "1.5.0",
      "model_name": "HTMLModel",
      "state": {
       "_dom_classes": [],
       "_model_module": "@jupyter-widgets/controls",
       "_model_module_version": "1.5.0",
       "_model_name": "HTMLModel",
       "_view_count": null,
       "_view_module": "@jupyter-widgets/controls",
       "_view_module_version": "1.5.0",
       "_view_name": "HTMLView",
       "description": "",
       "description_tooltip": null,
       "layout": "IPY_MODEL_e889a04281fa4edfa2d964adb5bed2d8",
       "placeholder": "​",
       "style": "IPY_MODEL_c8d6abd1520a439cb4bb47610820c55e",
       "value": " 1.20G/1.20G [00:05&lt;00:00, 221MB/s]"
      }
     },
     "b7218c10db144ce58f2f3dc8c15e2b7b": {
      "model_module": "@jupyter-widgets/controls",
      "model_module_version": "1.5.0",
      "model_name": "FloatProgressModel",
      "state": {
       "_dom_classes": [],
       "_model_module": "@jupyter-widgets/controls",
       "_model_module_version": "1.5.0",
       "_model_name": "FloatProgressModel",
       "_view_count": null,
       "_view_module": "@jupyter-widgets/controls",
       "_view_module_version": "1.5.0",
       "_view_name": "ProgressView",
       "bar_style": "success",
       "description": "",
       "description_tooltip": null,
       "layout": "IPY_MODEL_7c3be093b59849ccb284e9b50442af46",
       "max": 20309.0,
       "min": 0.0,
       "orientation": "horizontal",
       "style": "IPY_MODEL_7763dd55606e47b4a75d7fa55c0a1b0f",
       "value": 20309.0
      }
     },
     "b96e08fd756449419581acbdd523f13f": {
      "model_module": "@jupyter-widgets/controls",
      "model_module_version": "1.5.0",
      "model_name": "DescriptionStyleModel",
      "state": {
       "_model_module": "@jupyter-widgets/controls",
       "_model_module_version": "1.5.0",
       "_model_name": "DescriptionStyleModel",
       "_view_count": null,
       "_view_module": "@jupyter-widgets/base",
       "_view_module_version": "1.2.0",
       "_view_name": "StyleView",
       "description_width": ""
      }
     },
     "bad743a4df7944759074754dae3baafd": {
      "model_module": "@jupyter-widgets/controls",
      "model_module_version": "1.5.0",
      "model_name": "HTMLModel",
      "state": {
       "_dom_classes": [],
       "_model_module": "@jupyter-widgets/controls",
       "_model_module_version": "1.5.0",
       "_model_name": "HTMLModel",
       "_view_count": null,
       "_view_module": "@jupyter-widgets/controls",
       "_view_module_version": "1.5.0",
       "_view_name": "HTMLView",
       "description": "",
       "description_tooltip": null,
       "layout": "IPY_MODEL_462d6b80a1524eaabfa0bc339d33b5df",
       "placeholder": "​",
       "style": "IPY_MODEL_7d3e3843c31141f7b42f4d8823a32cff",
       "value": " 2257/2257 [00:00&lt;00:00, 2207.19ex/s]"
      }
     },
     "bff567eb8ada4e1b808ac65783611423": {
      "model_module": "@jupyter-widgets/controls",
      "model_module_version": "1.5.0",
      "model_name": "ProgressStyleModel",
      "state": {
       "_model_module": "@jupyter-widgets/controls",
       "_model_module_version": "1.5.0",
       "_model_name": "ProgressStyleModel",
       "_view_count": null,
       "_view_module": "@jupyter-widgets/base",
       "_view_module_version": "1.2.0",
       "_view_name": "StyleView",
       "bar_color": null,
       "description_width": ""
      }
     },
     "c49d13d8aaa2406f9f5d7c08ac3b3edf": {
      "model_module": "@jupyter-widgets/base",
      "model_module_version": "1.2.0",
      "model_name": "LayoutModel",
      "state": {
       "_model_module": "@jupyter-widgets/base",
       "_model_module_version": "1.2.0",
       "_model_name": "LayoutModel",
       "_view_count": null,
       "_view_module": "@jupyter-widgets/base",
       "_view_module_version": "1.2.0",
       "_view_name": "LayoutView",
       "align_content": null,
       "align_items": null,
       "align_self": null,
       "border": null,
       "bottom": null,
       "display": null,
       "flex": null,
       "flex_flow": null,
       "grid_area": null,
       "grid_auto_columns": null,
       "grid_auto_flow": null,
       "grid_auto_rows": null,
       "grid_column": null,
       "grid_gap": null,
       "grid_row": null,
       "grid_template_areas": null,
       "grid_template_columns": null,
       "grid_template_rows": null,
       "height": null,
       "justify_content": null,
       "justify_items": null,
       "left": null,
       "margin": null,
       "max_height": null,
       "max_width": null,
       "min_height": null,
       "min_width": null,
       "object_fit": null,
       "object_position": null,
       "order": null,
       "overflow": null,
       "overflow_x": null,
       "overflow_y": null,
       "padding": null,
       "right": null,
       "top": null,
       "visibility": null,
       "width": null
      }
     },
     "c61b208baf1d4151bf5f6e07eda6b7fe": {
      "model_module": "@jupyter-widgets/controls",
      "model_module_version": "1.5.0",
      "model_name": "DescriptionStyleModel",
      "state": {
       "_model_module": "@jupyter-widgets/controls",
       "_model_module_version": "1.5.0",
       "_model_name": "DescriptionStyleModel",
       "_view_count": null,
       "_view_module": "@jupyter-widgets/base",
       "_view_module_version": "1.2.0",
       "_view_name": "StyleView",
       "description_width": ""
      }
     },
     "c8d6abd1520a439cb4bb47610820c55e": {
      "model_module": "@jupyter-widgets/controls",
      "model_module_version": "1.5.0",
      "model_name": "DescriptionStyleModel",
      "state": {
       "_model_module": "@jupyter-widgets/controls",
       "_model_module_version": "1.5.0",
       "_model_name": "DescriptionStyleModel",
       "_view_count": null,
       "_view_module": "@jupyter-widgets/base",
       "_view_module_version": "1.2.0",
       "_view_name": "StyleView",
       "description_width": ""
      }
     },
     "cadc234471fd4b0d972ab8075945e41b": {
      "model_module": "@jupyter-widgets/controls",
      "model_module_version": "1.5.0",
      "model_name": "ProgressStyleModel",
      "state": {
       "_model_module": "@jupyter-widgets/controls",
       "_model_module_version": "1.5.0",
       "_model_name": "ProgressStyleModel",
       "_view_count": null,
       "_view_module": "@jupyter-widgets/base",
       "_view_module_version": "1.2.0",
       "_view_name": "StyleView",
       "bar_color": null,
       "description_width": ""
      }
     },
     "cb8ab2fbd96a4736a211b2dea8c59ca2": {
      "model_module": "@jupyter-widgets/controls",
      "model_module_version": "1.5.0",
      "model_name": "HTMLModel",
      "state": {
       "_dom_classes": [],
       "_model_module": "@jupyter-widgets/controls",
       "_model_module_version": "1.5.0",
       "_model_name": "HTMLModel",
       "_view_count": null,
       "_view_module": "@jupyter-widgets/controls",
       "_view_module_version": "1.5.0",
       "_view_name": "HTMLView",
       "description": "",
       "description_tooltip": null,
       "layout": "IPY_MODEL_0765103fc8e84e7280ea3564a2090d97",
       "placeholder": "​",
       "style": "IPY_MODEL_219fb1048c7c43fd8e8f441386a8ffcd",
       "value": " 82.0/82.0 [00:00&lt;00:00, 6.80kB/s]"
      }
     },
     "ccee783cb19c48acb38291854fe38e18": {
      "model_module": "@jupyter-widgets/controls",
      "model_module_version": "1.5.0",
      "model_name": "HTMLModel",
      "state": {
       "_dom_classes": [],
       "_model_module": "@jupyter-widgets/controls",
       "_model_module_version": "1.5.0",
       "_model_name": "HTMLModel",
       "_view_count": null,
       "_view_module": "@jupyter-widgets/controls",
       "_view_module_version": "1.5.0",
       "_view_name": "HTMLView",
       "description": "",
       "description_tooltip": null,
       "layout": "IPY_MODEL_090dba6fd8f646edb998ebe2e9af389e",
       "placeholder": "​",
       "style": "IPY_MODEL_b96e08fd756449419581acbdd523f13f",
       "value": "Downloading (…)cial_tokens_map.json: 100%"
      }
     },
     "d19ec0eaaf254c678cc86b1278cb54ac": {
      "model_module": "@jupyter-widgets/controls",
      "model_module_version": "1.5.0",
      "model_name": "HBoxModel",
      "state": {
       "_dom_classes": [],
       "_model_module": "@jupyter-widgets/controls",
       "_model_module_version": "1.5.0",
       "_model_name": "HBoxModel",
       "_view_count": null,
       "_view_module": "@jupyter-widgets/controls",
       "_view_module_version": "1.5.0",
       "_view_name": "HBoxView",
       "box_style": "",
       "children": [
        "IPY_MODEL_a763ec619c614ba09bc04b881b22c0dc",
        "IPY_MODEL_38d9b9eb69864c3dadd25e6c29ba9c6e",
        "IPY_MODEL_b6509deaff5f45eb9fb5b915af03983e"
       ],
       "layout": "IPY_MODEL_6fdb71f54d5e40948b253d16768a63df"
      }
     },
     "d52819bf3b874dffa6e11699af3763b5": {
      "model_module": "@jupyter-widgets/controls",
      "model_module_version": "1.5.0",
      "model_name": "HBoxModel",
      "state": {
       "_dom_classes": [],
       "_model_module": "@jupyter-widgets/controls",
       "_model_module_version": "1.5.0",
       "_model_name": "HBoxModel",
       "_view_count": null,
       "_view_module": "@jupyter-widgets/controls",
       "_view_module_version": "1.5.0",
       "_view_name": "HBoxView",
       "box_style": "",
       "children": [
        "IPY_MODEL_9c685052642442cc983e9a97817cdf32",
        "IPY_MODEL_66507c225f6c457db54a5301196f9fc4",
        "IPY_MODEL_bad743a4df7944759074754dae3baafd"
       ],
       "layout": "IPY_MODEL_6e42be68d0844cbc8bf820bd50a9d37c"
      }
     },
     "db60ff27217647ab9b92f0918c9e055e": {
      "model_module": "@jupyter-widgets/base",
      "model_module_version": "1.2.0",
      "model_name": "LayoutModel",
      "state": {
       "_model_module": "@jupyter-widgets/base",
       "_model_module_version": "1.2.0",
       "_model_name": "LayoutModel",
       "_view_count": null,
       "_view_module": "@jupyter-widgets/base",
       "_view_module_version": "1.2.0",
       "_view_name": "LayoutView",
       "align_content": null,
       "align_items": null,
       "align_self": null,
       "border": null,
       "bottom": null,
       "display": null,
       "flex": null,
       "flex_flow": null,
       "grid_area": null,
       "grid_auto_columns": null,
       "grid_auto_flow": null,
       "grid_auto_rows": null,
       "grid_column": null,
       "grid_gap": null,
       "grid_row": null,
       "grid_template_areas": null,
       "grid_template_columns": null,
       "grid_template_rows": null,
       "height": null,
       "justify_content": null,
       "justify_items": null,
       "left": null,
       "margin": null,
       "max_height": null,
       "max_width": null,
       "min_height": null,
       "min_width": null,
       "object_fit": null,
       "object_position": null,
       "order": null,
       "overflow": null,
       "overflow_x": null,
       "overflow_y": null,
       "padding": null,
       "right": null,
       "top": null,
       "visibility": null,
       "width": null
      }
     },
     "dbe24c9a6bba49aab9ce0fdf8c2ca7d5": {
      "model_module": "@jupyter-widgets/controls",
      "model_module_version": "1.5.0",
      "model_name": "HBoxModel",
      "state": {
       "_dom_classes": [],
       "_model_module": "@jupyter-widgets/controls",
       "_model_module_version": "1.5.0",
       "_model_name": "HBoxModel",
       "_view_count": null,
       "_view_module": "@jupyter-widgets/controls",
       "_view_module_version": "1.5.0",
       "_view_name": "HBoxView",
       "box_style": "",
       "children": [
        "IPY_MODEL_49c3762a561f4c27bd16f6eec827b582",
        "IPY_MODEL_b7218c10db144ce58f2f3dc8c15e2b7b",
        "IPY_MODEL_ac42076772af47adbd0ac30fdde21454"
       ],
       "layout": "IPY_MODEL_3bacf2b48667489dbfec79b5d068bc49"
      }
     },
     "dcd197258b4d440b8e76dd3617ec62fc": {
      "model_module": "@jupyter-widgets/controls",
      "model_module_version": "1.5.0",
      "model_name": "FloatProgressModel",
      "state": {
       "_dom_classes": [],
       "_model_module": "@jupyter-widgets/controls",
       "_model_module_version": "1.5.0",
       "_model_name": "FloatProgressModel",
       "_view_count": null,
       "_view_module": "@jupyter-widgets/controls",
       "_view_module_version": "1.5.0",
       "_view_name": "ProgressView",
       "bar_style": "success",
       "description": "",
       "description_tooltip": null,
       "layout": "IPY_MODEL_3cbd9900f290495db7f92e456052c5ab",
       "max": 99.0,
       "min": 0.0,
       "orientation": "horizontal",
       "style": "IPY_MODEL_bff567eb8ada4e1b808ac65783611423",
       "value": 99.0
      }
     },
     "e0a77dc70db743b5aedffe8831837f20": {
      "model_module": "@jupyter-widgets/base",
      "model_module_version": "1.2.0",
      "model_name": "LayoutModel",
      "state": {
       "_model_module": "@jupyter-widgets/base",
       "_model_module_version": "1.2.0",
       "_model_name": "LayoutModel",
       "_view_count": null,
       "_view_module": "@jupyter-widgets/base",
       "_view_module_version": "1.2.0",
       "_view_name": "LayoutView",
       "align_content": null,
       "align_items": null,
       "align_self": null,
       "border": null,
       "bottom": null,
       "display": null,
       "flex": null,
       "flex_flow": null,
       "grid_area": null,
       "grid_auto_columns": null,
       "grid_auto_flow": null,
       "grid_auto_rows": null,
       "grid_column": null,
       "grid_gap": null,
       "grid_row": null,
       "grid_template_areas": null,
       "grid_template_columns": null,
       "grid_template_rows": null,
       "height": null,
       "justify_content": null,
       "justify_items": null,
       "left": null,
       "margin": null,
       "max_height": null,
       "max_width": null,
       "min_height": null,
       "min_width": null,
       "object_fit": null,
       "object_position": null,
       "order": null,
       "overflow": null,
       "overflow_x": null,
       "overflow_y": null,
       "padding": null,
       "right": null,
       "top": null,
       "visibility": null,
       "width": null
      }
     },
     "e118743a6c5f4433a3148b7de2a62de2": {
      "model_module": "@jupyter-widgets/controls",
      "model_module_version": "1.5.0",
      "model_name": "DescriptionStyleModel",
      "state": {
       "_model_module": "@jupyter-widgets/controls",
       "_model_module_version": "1.5.0",
       "_model_name": "DescriptionStyleModel",
       "_view_count": null,
       "_view_module": "@jupyter-widgets/base",
       "_view_module_version": "1.2.0",
       "_view_name": "StyleView",
       "description_width": ""
      }
     },
     "e14f0b63e19548cab908cf0b72d8b9f1": {
      "model_module": "@jupyter-widgets/controls",
      "model_module_version": "1.5.0",
      "model_name": "HTMLModel",
      "state": {
       "_dom_classes": [],
       "_model_module": "@jupyter-widgets/controls",
       "_model_module_version": "1.5.0",
       "_model_name": "HTMLModel",
       "_view_count": null,
       "_view_module": "@jupyter-widgets/controls",
       "_view_module_version": "1.5.0",
       "_view_name": "HTMLView",
       "description": "",
       "description_tooltip": null,
       "layout": "IPY_MODEL_8bfe5cce9083417cb1a784d8b29f11b8",
       "placeholder": "​",
       "style": "IPY_MODEL_e118743a6c5f4433a3148b7de2a62de2",
       "value": " 147/147 [00:00&lt;00:00, 8.03kB/s]"
      }
     },
     "e64b3f5b1e774125a96de80e4cac2e7a": {
      "model_module": "@jupyter-widgets/base",
      "model_module_version": "1.2.0",
      "model_name": "LayoutModel",
      "state": {
       "_model_module": "@jupyter-widgets/base",
       "_model_module_version": "1.2.0",
       "_model_name": "LayoutModel",
       "_view_count": null,
       "_view_module": "@jupyter-widgets/base",
       "_view_module_version": "1.2.0",
       "_view_name": "LayoutView",
       "align_content": null,
       "align_items": null,
       "align_self": null,
       "border": null,
       "bottom": null,
       "display": null,
       "flex": null,
       "flex_flow": null,
       "grid_area": null,
       "grid_auto_columns": null,
       "grid_auto_flow": null,
       "grid_auto_rows": null,
       "grid_column": null,
       "grid_gap": null,
       "grid_row": null,
       "grid_template_areas": null,
       "grid_template_columns": null,
       "grid_template_rows": null,
       "height": null,
       "justify_content": null,
       "justify_items": null,
       "left": null,
       "margin": null,
       "max_height": null,
       "max_width": null,
       "min_height": null,
       "min_width": null,
       "object_fit": null,
       "object_position": null,
       "order": null,
       "overflow": null,
       "overflow_x": null,
       "overflow_y": null,
       "padding": null,
       "right": null,
       "top": null,
       "visibility": null,
       "width": null
      }
     },
     "e889a04281fa4edfa2d964adb5bed2d8": {
      "model_module": "@jupyter-widgets/base",
      "model_module_version": "1.2.0",
      "model_name": "LayoutModel",
      "state": {
       "_model_module": "@jupyter-widgets/base",
       "_model_module_version": "1.2.0",
       "_model_name": "LayoutModel",
       "_view_count": null,
       "_view_module": "@jupyter-widgets/base",
       "_view_module_version": "1.2.0",
       "_view_name": "LayoutView",
       "align_content": null,
       "align_items": null,
       "align_self": null,
       "border": null,
       "bottom": null,
       "display": null,
       "flex": null,
       "flex_flow": null,
       "grid_area": null,
       "grid_auto_columns": null,
       "grid_auto_flow": null,
       "grid_auto_rows": null,
       "grid_column": null,
       "grid_gap": null,
       "grid_row": null,
       "grid_template_areas": null,
       "grid_template_columns": null,
       "grid_template_rows": null,
       "height": null,
       "justify_content": null,
       "justify_items": null,
       "left": null,
       "margin": null,
       "max_height": null,
       "max_width": null,
       "min_height": null,
       "min_width": null,
       "object_fit": null,
       "object_position": null,
       "order": null,
       "overflow": null,
       "overflow_x": null,
       "overflow_y": null,
       "padding": null,
       "right": null,
       "top": null,
       "visibility": null,
       "width": null
      }
     },
     "eb042c99e66149c793bc720ca91e1be7": {
      "model_module": "@jupyter-widgets/controls",
      "model_module_version": "1.5.0",
      "model_name": "ProgressStyleModel",
      "state": {
       "_model_module": "@jupyter-widgets/controls",
       "_model_module_version": "1.5.0",
       "_model_name": "ProgressStyleModel",
       "_view_count": null,
       "_view_module": "@jupyter-widgets/base",
       "_view_module_version": "1.2.0",
       "_view_name": "StyleView",
       "bar_color": null,
       "description_width": ""
      }
     },
     "ed9ed61e24e448d0b21f5358f6ff1ce3": {
      "model_module": "@jupyter-widgets/controls",
      "model_module_version": "1.5.0",
      "model_name": "DescriptionStyleModel",
      "state": {
       "_model_module": "@jupyter-widgets/controls",
       "_model_module_version": "1.5.0",
       "_model_name": "DescriptionStyleModel",
       "_view_count": null,
       "_view_module": "@jupyter-widgets/base",
       "_view_module_version": "1.2.0",
       "_view_name": "StyleView",
       "description_width": ""
      }
     },
     "f2c537da48b7425aac474c63fd7a496b": {
      "model_module": "@jupyter-widgets/controls",
      "model_module_version": "1.5.0",
      "model_name": "DescriptionStyleModel",
      "state": {
       "_model_module": "@jupyter-widgets/controls",
       "_model_module_version": "1.5.0",
       "_model_name": "DescriptionStyleModel",
       "_view_count": null,
       "_view_module": "@jupyter-widgets/base",
       "_view_module_version": "1.2.0",
       "_view_name": "StyleView",
       "description_width": ""
      }
     },
     "f82f6c514624442bb62e58c3471f1430": {
      "model_module": "@jupyter-widgets/controls",
      "model_module_version": "1.5.0",
      "model_name": "HBoxModel",
      "state": {
       "_dom_classes": [],
       "_model_module": "@jupyter-widgets/controls",
       "_model_module_version": "1.5.0",
       "_model_name": "HBoxModel",
       "_view_count": null,
       "_view_module": "@jupyter-widgets/controls",
       "_view_module_version": "1.5.0",
       "_view_name": "HBoxView",
       "box_style": "",
       "children": [
        "IPY_MODEL_3598d93ca9674353a182467763ac951d",
        "IPY_MODEL_f8d950f65e594902a2e02a6966481de6",
        "IPY_MODEL_2b83d7428fb341d5b9717845a9472a61"
       ],
       "layout": "IPY_MODEL_e0a77dc70db743b5aedffe8831837f20"
      }
     },
     "f8d950f65e594902a2e02a6966481de6": {
      "model_module": "@jupyter-widgets/controls",
      "model_module_version": "1.5.0",
      "model_name": "FloatProgressModel",
      "state": {
       "_dom_classes": [],
       "_model_module": "@jupyter-widgets/controls",
       "_model_module_version": "1.5.0",
       "_model_name": "FloatProgressModel",
       "_view_count": null,
       "_view_module": "@jupyter-widgets/controls",
       "_view_module_version": "1.5.0",
       "_view_name": "ProgressView",
       "bar_style": "success",
       "description": "",
       "description_tooltip": null,
       "layout": "IPY_MODEL_6eda7e54006a46d09a0e6f536b6de801",
       "max": 1901.0,
       "min": 0.0,
       "orientation": "horizontal",
       "style": "IPY_MODEL_4fa610b514804f02aecad24f0696a6d3",
       "value": 1901.0
      }
     },
     "f8f3109673ee429cafd8869956acb521": {
      "model_module": "@jupyter-widgets/controls",
      "model_module_version": "1.5.0",
      "model_name": "HBoxModel",
      "state": {
       "_dom_classes": [],
       "_model_module": "@jupyter-widgets/controls",
       "_model_module_version": "1.5.0",
       "_model_name": "HBoxModel",
       "_view_count": null,
       "_view_module": "@jupyter-widgets/controls",
       "_view_module_version": "1.5.0",
       "_view_name": "HBoxView",
       "box_style": "",
       "children": [
        "IPY_MODEL_33bdfa2cfae2400e84e7a2406691578f",
        "IPY_MODEL_81c1a1ee1e0b4d79b2d327a3e1e8af4d",
        "IPY_MODEL_cb8ab2fbd96a4736a211b2dea8c59ca2"
       ],
       "layout": "IPY_MODEL_6bd3709f3df54743915428018e85bb8b"
      }
     },
     "f9365118537240b1ae5118116199ea53": {
      "model_module": "@jupyter-widgets/base",
      "model_module_version": "1.2.0",
      "model_name": "LayoutModel",
      "state": {
       "_model_module": "@jupyter-widgets/base",
       "_model_module_version": "1.2.0",
       "_model_name": "LayoutModel",
       "_view_count": null,
       "_view_module": "@jupyter-widgets/base",
       "_view_module_version": "1.2.0",
       "_view_name": "LayoutView",
       "align_content": null,
       "align_items": null,
       "align_self": null,
       "border": null,
       "bottom": null,
       "display": null,
       "flex": null,
       "flex_flow": null,
       "grid_area": null,
       "grid_auto_columns": null,
       "grid_auto_flow": null,
       "grid_auto_rows": null,
       "grid_column": null,
       "grid_gap": null,
       "grid_row": null,
       "grid_template_areas": null,
       "grid_template_columns": null,
       "grid_template_rows": null,
       "height": null,
       "justify_content": null,
       "justify_items": null,
       "left": null,
       "margin": null,
       "max_height": null,
       "max_width": null,
       "min_height": null,
       "min_width": null,
       "object_fit": null,
       "object_position": null,
       "order": null,
       "overflow": null,
       "overflow_x": null,
       "overflow_y": null,
       "padding": null,
       "right": null,
       "top": null,
       "visibility": null,
       "width": null
      }
     },
     "f96cd0fc5b614a778a83c94cba9d588f": {
      "model_module": "@jupyter-widgets/base",
      "model_module_version": "1.2.0",
      "model_name": "LayoutModel",
      "state": {
       "_model_module": "@jupyter-widgets/base",
       "_model_module_version": "1.2.0",
       "_model_name": "LayoutModel",
       "_view_count": null,
       "_view_module": "@jupyter-widgets/base",
       "_view_module_version": "1.2.0",
       "_view_name": "LayoutView",
       "align_content": null,
       "align_items": null,
       "align_self": null,
       "border": null,
       "bottom": null,
       "display": null,
       "flex": null,
       "flex_flow": null,
       "grid_area": null,
       "grid_auto_columns": null,
       "grid_auto_flow": null,
       "grid_auto_rows": null,
       "grid_column": null,
       "grid_gap": null,
       "grid_row": null,
       "grid_template_areas": null,
       "grid_template_columns": null,
       "grid_template_rows": null,
       "height": null,
       "justify_content": null,
       "justify_items": null,
       "left": null,
       "margin": null,
       "max_height": null,
       "max_width": null,
       "min_height": null,
       "min_width": null,
       "object_fit": null,
       "object_position": null,
       "order": null,
       "overflow": null,
       "overflow_x": null,
       "overflow_y": null,
       "padding": null,
       "right": null,
       "top": null,
       "visibility": null,
       "width": null
      }
     },
     "fa04864555e24e0b9a0bcc65225c79a4": {
      "model_module": "@jupyter-widgets/base",
      "model_module_version": "1.2.0",
      "model_name": "LayoutModel",
      "state": {
       "_model_module": "@jupyter-widgets/base",
       "_model_module_version": "1.2.0",
       "_model_name": "LayoutModel",
       "_view_count": null,
       "_view_module": "@jupyter-widgets/base",
       "_view_module_version": "1.2.0",
       "_view_name": "LayoutView",
       "align_content": null,
       "align_items": null,
       "align_self": null,
       "border": null,
       "bottom": null,
       "display": null,
       "flex": null,
       "flex_flow": null,
       "grid_area": null,
       "grid_auto_columns": null,
       "grid_auto_flow": null,
       "grid_auto_rows": null,
       "grid_column": null,
       "grid_gap": null,
       "grid_row": null,
       "grid_template_areas": null,
       "grid_template_columns": null,
       "grid_template_rows": null,
       "height": null,
       "justify_content": null,
       "justify_items": null,
       "left": null,
       "margin": null,
       "max_height": null,
       "max_width": null,
       "min_height": null,
       "min_width": null,
       "object_fit": null,
       "object_position": null,
       "order": null,
       "overflow": null,
       "overflow_x": null,
       "overflow_y": null,
       "padding": null,
       "right": null,
       "top": null,
       "visibility": null,
       "width": null
      }
     },
     "fc9beeffc70a424fa98f4c0bb8cb01ee": {
      "model_module": "@jupyter-widgets/controls",
      "model_module_version": "1.5.0",
      "model_name": "ProgressStyleModel",
      "state": {
       "_model_module": "@jupyter-widgets/controls",
       "_model_module_version": "1.5.0",
       "_model_name": "ProgressStyleModel",
       "_view_count": null,
       "_view_module": "@jupyter-widgets/base",
       "_view_module_version": "1.2.0",
       "_view_name": "StyleView",
       "bar_color": null,
       "description_width": ""
      }
     },
     "fd3d4c3b659249a19b2d610002607610": {
      "model_module": "@jupyter-widgets/controls",
      "model_module_version": "1.5.0",
      "model_name": "HTMLModel",
      "state": {
       "_dom_classes": [],
       "_model_module": "@jupyter-widgets/controls",
       "_model_module_version": "1.5.0",
       "_model_name": "HTMLModel",
       "_view_count": null,
       "_view_module": "@jupyter-widgets/controls",
       "_view_module_version": "1.5.0",
       "_view_name": "HTMLView",
       "description": "",
       "description_tooltip": null,
       "layout": "IPY_MODEL_0c0bdd32486843d6954d9787b1e50e8d",
       "placeholder": "​",
       "style": "IPY_MODEL_69439f49fdbe4d44bab616b6e547d638",
       "value": " 4.31M/4.31M [00:00&lt;00:00, 41.7MB/s]"
      }
     },
     "ffb62690ee8f49cc81105f3231de92ab": {
      "model_module": "@jupyter-widgets/controls",
      "model_module_version": "1.5.0",
      "model_name": "DescriptionStyleModel",
      "state": {
       "_model_module": "@jupyter-widgets/controls",
       "_model_module_version": "1.5.0",
       "_model_name": "DescriptionStyleModel",
       "_view_count": null,
       "_view_module": "@jupyter-widgets/base",
       "_view_module_version": "1.2.0",
       "_view_name": "StyleView",
       "description_width": ""
      }
     }
    },
    "version_major": 2,
    "version_minor": 0
   }
  }
 },
 "nbformat": 4,
 "nbformat_minor": 5
}
